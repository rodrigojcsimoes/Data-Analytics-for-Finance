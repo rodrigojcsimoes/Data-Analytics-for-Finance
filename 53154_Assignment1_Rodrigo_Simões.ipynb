{
 "cells": [
  {
   "attachments": {},
   "cell_type": "markdown",
   "metadata": {
    "dotnet_interactive": {
     "language": "fsharp"
    },
    "polyglot_notebook": {
     "kernelName": "fsharp"
    }
   },
   "source": [
    "[![Binder](img/badge-binder.svg)](https://mybinder.org/v2/gh/nhirschey/teaching/gh-pages?filepath=football-tuples-and-records.ipynb)&emsp;\n",
    "[![Script](img/badge-script.svg)](/Teaching//football-tuples-and-records.fsx)&emsp;\n",
    "[![Notebook](img/badge-notebook.svg)](/Teaching//football-tuples-and-records.ipynb)\n",
    "\n",
    "# Working with Tuples and Records. Assignemnt 1 - Rodrigo Simões - 53154\n",
    "\n",
    "> Developed with [Davide Costa](https://github.com/DavideGCosta)\n",
    "> \n",
    "\n",
    "This set of exercises covers creating and manipulating tuples, records, and anonymous records.\n",
    "Before you start it is a good idea to review the relevant sections of\n",
    "the F# language reference (\n",
    "[tuples](https://docs.microsoft.com/en-us/dotnet/fsharp/language-reference/tuples),\n",
    "[records](https://docs.microsoft.com/en-us/dotnet/fsharp/language-reference/records),\n",
    "and [anonymous records](https://docs.microsoft.com/en-us/dotnet/fsharp/language-reference/anonymous-records)\n",
    ") and\n",
    "F# for fun and profit (\n",
    "[tuples](https://fsharpforfunandprofit.com/posts/tuples/) and\n",
    "[records](https://fsharpforfunandprofit.com/posts/records/))\n",
    "before you start.\n",
    "\n",
    "## Import the Football Players Data from the Csv File\n",
    "\n"
   ]
  },
  {
   "cell_type": "code",
   "execution_count": 1,
   "metadata": {
    "dotnet_interactive": {
     "language": "fsharp"
    },
    "polyglot_notebook": {
     "kernelName": "fsharp"
    },
    "vscode": {
     "languageId": "polyglot-notebook"
    }
   },
   "outputs": [
    {
     "data": {
      "text/html": [
       "<div><div></div><div></div><div><strong>Installed Packages</strong><ul><li><span>FSharp.Data, 5.0.2</span></li></ul></div></div>"
      ]
     },
     "metadata": {},
     "output_type": "display_data"
    }
   ],
   "source": [
    "#r \"nuget:FSharp.Data\"\n",
    "open FSharp.Data\n"
   ]
  },
  {
   "cell_type": "markdown",
   "metadata": {
    "dotnet_interactive": {
     "language": "fsharp"
    },
    "polyglot_notebook": {
     "kernelName": "fsharp"
    }
   },
   "source": [
    "In order to import the data correctly we need to create the sample, define the type from the sample and then load the csv file.\n",
    "We'll use [FSharp.Data CsvProvider](https://fsprojects.github.io/FSharp.Data/library/CsvProvider.html).\n",
    "\n",
    "### Load the Csv file.\n",
    "\n",
    "We define the type from the csv sample file.\n",
    "\n"
   ]
  },
  {
   "cell_type": "code",
   "execution_count": 2,
   "metadata": {
    "dotnet_interactive": {
     "language": "fsharp"
    },
    "polyglot_notebook": {
     "kernelName": "fsharp"
    },
    "vscode": {
     "languageId": "polyglot-notebook"
    }
   },
   "outputs": [],
   "source": [
    "let [<Literal>] CsvPath = __SOURCE_DIRECTORY__ + \"/FootballPlayers.csv\"\n",
    "type FootballPlayersCsv = CsvProvider<CsvPath>\n"
   ]
  },
  {
   "cell_type": "markdown",
   "metadata": {
    "dotnet_interactive": {
     "language": "fsharp"
    },
    "polyglot_notebook": {
     "kernelName": "fsharp"
    }
   },
   "source": [
    "This will load the sample csv file.\n",
    "\n"
   ]
  },
  {
   "cell_type": "code",
   "execution_count": 3,
   "metadata": {
    "dotnet_interactive": {
     "language": "fsharp"
    },
    "polyglot_notebook": {
     "kernelName": "fsharp"
    },
    "vscode": {
     "languageId": "polyglot-notebook"
    }
   },
   "outputs": [],
   "source": [
    "let playerStatsTable = \n",
    "    FootballPlayersCsv.GetSample().Rows\n",
    "    |> Seq.toList\n"
   ]
  },
  {
   "cell_type": "markdown",
   "metadata": {
    "dotnet_interactive": {
     "language": "fsharp"
    },
    "polyglot_notebook": {
     "kernelName": "fsharp"
    }
   },
   "source": [
    "Let's see the first 5 rows from the loaded Csv data, stored in `playerStatsTable`.\n",
    "Again, we do this by using the List `List.truncate` property.\n",
    "\n"
   ]
  },
  {
   "cell_type": "code",
   "execution_count": 4,
   "metadata": {
    "dotnet_interactive": {
     "language": "fsharp"
    },
    "polyglot_notebook": {
     "kernelName": "fsharp"
    },
    "vscode": {
     "languageId": "polyglot-notebook"
    }
   },
   "outputs": [
    {
     "data": {
      "text/html": [
       "<table><thead><tr><th><i>index</i></th><th>Item1</th><th>Item2</th><th>Item3</th><th>Item4</th><th>Item5</th><th>Item6</th><th>Item7</th><th>Rest</th></tr></thead><tbody><tr><td>0</td><td>Robert Lewandowski</td><td>pl POL</td><td>FW</td><td>Bayern Munich</td><td>deBundesliga</td><td><div class=\"dni-plaintext\"><pre>32</pre></div></td><td><div class=\"dni-plaintext\"><pre>34</pre></div></td><td><table><thead><tr><th>Item1</th></tr></thead><tbody><tr><td><div class=\"dni-plaintext\"><pre>35</pre></div></td></tr></tbody></table></td></tr><tr><td>1</td><td>Kylian Mbapp&#233;</td><td>fr FRA</td><td>FW</td><td>Paris S-G</td><td>frLigue 1</td><td><div class=\"dni-plaintext\"><pre>22</pre></div></td><td><div class=\"dni-plaintext\"><pre>35</pre></div></td><td><table><thead><tr><th>Item1</th></tr></thead><tbody><tr><td><div class=\"dni-plaintext\"><pre>28</pre></div></td></tr></tbody></table></td></tr><tr><td>2</td><td>Karim Benzema</td><td>fr FRA</td><td>FW</td><td>Real Madrid</td><td>esLa Liga</td><td><div class=\"dni-plaintext\"><pre>33</pre></div></td><td><div class=\"dni-plaintext\"><pre>32</pre></div></td><td><table><thead><tr><th>Item1</th></tr></thead><tbody><tr><td><div class=\"dni-plaintext\"><pre>27</pre></div></td></tr></tbody></table></td></tr><tr><td>3</td><td>Ciro Immobile</td><td>it ITA</td><td>FW</td><td>Lazio</td><td>itSerie A</td><td><div class=\"dni-plaintext\"><pre>31</pre></div></td><td><div class=\"dni-plaintext\"><pre>31</pre></div></td><td><table><thead><tr><th>Item1</th></tr></thead><tbody><tr><td><div class=\"dni-plaintext\"><pre>27</pre></div></td></tr></tbody></table></td></tr><tr><td>4</td><td>Wissam Ben Yedder</td><td>fr FRA</td><td>FW</td><td>Monaco</td><td>frLigue 1</td><td><div class=\"dni-plaintext\"><pre>30</pre></div></td><td><div class=\"dni-plaintext\"><pre>37</pre></div></td><td><table><thead><tr><th>Item1</th></tr></thead><tbody><tr><td><div class=\"dni-plaintext\"><pre>25</pre></div></td></tr></tbody></table></td></tr></tbody></table><style>\r\n",
       ".dni-code-hint {\r\n",
       "    font-style: italic;\r\n",
       "    overflow: hidden;\r\n",
       "    white-space: nowrap;\r\n",
       "}\r\n",
       ".dni-treeview {\r\n",
       "    white-space: nowrap;\r\n",
       "}\r\n",
       ".dni-treeview td {\r\n",
       "    vertical-align: top;\r\n",
       "    text-align: start;\r\n",
       "}\r\n",
       "details.dni-treeview {\r\n",
       "    padding-left: 1em;\r\n",
       "}\r\n",
       "table td {\r\n",
       "    text-align: start;\r\n",
       "}\r\n",
       "table tr { \r\n",
       "    vertical-align: top; \r\n",
       "    margin: 0em 0px;\r\n",
       "}\r\n",
       "table tr td pre \r\n",
       "{ \r\n",
       "    vertical-align: top !important; \r\n",
       "    margin: 0em 0px !important;\r\n",
       "} \r\n",
       "table th {\r\n",
       "    text-align: start;\r\n",
       "}\r\n",
       "</style>"
      ]
     },
     "metadata": {},
     "output_type": "display_data"
    }
   ],
   "source": [
    "playerStatsTable\n",
    "|> List.truncate 5\n"
   ]
  },
  {
   "cell_type": "markdown",
   "metadata": {
    "dotnet_interactive": {
     "language": "fsharp"
    },
    "polyglot_notebook": {
     "kernelName": "fsharp"
    }
   },
   "source": [
    "## EXERCISES - PART 1\n",
    "\n",
    "* [Transforming collection elements into new types.](#Transforming-collections)\n",
    "  \n",
    "\n",
    "  0 [Creating tuples.](#Creating-tuples)\n",
    "    \n",
    "  \n",
    "  1 [Creating records.](#Creating-records)\n",
    "    \n",
    "  \n",
    "  2 [Creating anonymous records.](#Creating-anonymous-records)\n",
    "    \n",
    "  \n",
    "\n",
    "* [Simple data transformations.](#Simple-transformations)\n",
    "  \n",
    "\n",
    "  0 [Transformations using tuples.](#Transformations-using-tuples)\n",
    "    \n",
    "  \n",
    "  1 [Transformations using records.](#Transformations-using-records)\n",
    "    \n",
    "  \n",
    "  2 [Transformations using anonymous records.](#Transformations-using-anonymous-records)\n",
    "    \n",
    "  \n",
    "\n",
    "* [Creating and transforming TeamRecord.](#Creating-and-transforming-TeamRecord)\n",
    "  \n",
    "\n",
    "<h2 class=numbered><a name=Transforming-collections class=anchor href=#Transforming-collections>Transforming collections</a></h2>\n",
    "\n",
    "<h3 class=numbered><a name=Creating-tuples class=anchor href=#Creating-tuples>Creating tuples</a></h3>\n",
    "\n",
    "Example: Transform each element of the `playerStatsTable` List into a tuple with the player and nation ( `Player`, `Nation`)\n",
    "\n"
   ]
  },
  {
   "cell_type": "code",
   "execution_count": 5,
   "metadata": {
    "dotnet_interactive": {
     "language": "fsharp"
    },
    "polyglot_notebook": {
     "kernelName": "fsharp"
    },
    "vscode": {
     "languageId": "polyglot-notebook"
    }
   },
   "outputs": [
    {
     "data": {
      "text/html": [
       "<table><thead><tr><th><i>index</i></th><th>Item1</th><th>Item2</th></tr></thead><tbody><tr><td>0</td><td>Robert Lewandowski</td><td>pl POL</td></tr><tr><td>1</td><td>Kylian Mbapp&#233;</td><td>fr FRA</td></tr><tr><td>2</td><td>Karim Benzema</td><td>fr FRA</td></tr><tr><td>3</td><td>Ciro Immobile</td><td>it ITA</td></tr><tr><td>4</td><td>Wissam Ben Yedder</td><td>fr FRA</td></tr></tbody></table><style>\r\n",
       ".dni-code-hint {\r\n",
       "    font-style: italic;\r\n",
       "    overflow: hidden;\r\n",
       "    white-space: nowrap;\r\n",
       "}\r\n",
       ".dni-treeview {\r\n",
       "    white-space: nowrap;\r\n",
       "}\r\n",
       ".dni-treeview td {\r\n",
       "    vertical-align: top;\r\n",
       "    text-align: start;\r\n",
       "}\r\n",
       "details.dni-treeview {\r\n",
       "    padding-left: 1em;\r\n",
       "}\r\n",
       "table td {\r\n",
       "    text-align: start;\r\n",
       "}\r\n",
       "table tr { \r\n",
       "    vertical-align: top; \r\n",
       "    margin: 0em 0px;\r\n",
       "}\r\n",
       "table tr td pre \r\n",
       "{ \r\n",
       "    vertical-align: top !important; \r\n",
       "    margin: 0em 0px !important;\r\n",
       "} \r\n",
       "table th {\r\n",
       "    text-align: start;\r\n",
       "}\r\n",
       "</style>"
      ]
     },
     "metadata": {},
     "output_type": "display_data"
    }
   ],
   "source": [
    "playerStatsTable\n",
    "|> List.map(fun x -> x.Player, x.Nation)\n",
    "|> List.truncate 5 //just to observe the first 5 rows, not a part of the exercise.\n"
   ]
  },
  {
   "cell_type": "markdown",
   "metadata": {
    "dotnet_interactive": {
     "language": "fsharp"
    },
    "polyglot_notebook": {
     "kernelName": "fsharp"
    }
   },
   "source": [
    "* Transform each element of the `playerStatsTable` List into a tuple with the player and team ( `Player`, `Team`)\n",
    "\n",
    "<div style=\"padding-left: 40px;\">\n",
    "<p> \n",
    "<span>\n",
    "<details>\n",
    "<summary><p style=\"display:inline\">answer</p></summary>\n",
    "\n",
    "```\n",
    "val it: (string * string) list =\n",
    "  [(\"Robert Lewandowski\", \"Bayern Munich\"); (\"Kylian Mbappé\", \"Paris S-G\");\n",
    "   (\"Karim Benzema\", \"Real Madrid\"); (\"Ciro Immobile\", \"Lazio\");\n",
    "   (\"Wissam Ben Yedder\", \"Monaco\")]\n",
    "```\n",
    "\n",
    "</details>\n",
    "</span>\n",
    "</p>\n",
    "</div>\n",
    "\n"
   ]
  },
  {
   "cell_type": "code",
   "execution_count": 6,
   "metadata": {
    "dotnet_interactive": {
     "language": "fsharp"
    },
    "polyglot_notebook": {
     "kernelName": "fsharp"
    },
    "vscode": {
     "languageId": "polyglot-notebook"
    }
   },
   "outputs": [
    {
     "data": {
      "text/html": [
       "<table><thead><tr><th><i>index</i></th><th>Item1</th><th>Item2</th></tr></thead><tbody><tr><td>0</td><td>Robert Lewandowski</td><td>Bayern Munich</td></tr><tr><td>1</td><td>Kylian Mbapp&#233;</td><td>Paris S-G</td></tr><tr><td>2</td><td>Karim Benzema</td><td>Real Madrid</td></tr><tr><td>3</td><td>Ciro Immobile</td><td>Lazio</td></tr><tr><td>4</td><td>Wissam Ben Yedder</td><td>Monaco</td></tr></tbody></table><style>\r\n",
       ".dni-code-hint {\r\n",
       "    font-style: italic;\r\n",
       "    overflow: hidden;\r\n",
       "    white-space: nowrap;\r\n",
       "}\r\n",
       ".dni-treeview {\r\n",
       "    white-space: nowrap;\r\n",
       "}\r\n",
       ".dni-treeview td {\r\n",
       "    vertical-align: top;\r\n",
       "    text-align: start;\r\n",
       "}\r\n",
       "details.dni-treeview {\r\n",
       "    padding-left: 1em;\r\n",
       "}\r\n",
       "table td {\r\n",
       "    text-align: start;\r\n",
       "}\r\n",
       "table tr { \r\n",
       "    vertical-align: top; \r\n",
       "    margin: 0em 0px;\r\n",
       "}\r\n",
       "table tr td pre \r\n",
       "{ \r\n",
       "    vertical-align: top !important; \r\n",
       "    margin: 0em 0px !important;\r\n",
       "} \r\n",
       "table th {\r\n",
       "    text-align: start;\r\n",
       "}\r\n",
       "</style>"
      ]
     },
     "metadata": {},
     "output_type": "display_data"
    }
   ],
   "source": [
    "// write your code here, see website for solution.\n",
    "playerStatsTable\n",
    "|> List.map(fun x -> x.Player, x.Team)\n",
    "|> List.truncate 5"
   ]
  },
  {
   "cell_type": "markdown",
   "metadata": {
    "dotnet_interactive": {
     "language": "fsharp"
    },
    "polyglot_notebook": {
     "kernelName": "fsharp"
    }
   },
   "source": [
    "* Transform each element of the `playerStatsTable` List into a tuple with the player and league/competiton ( `Player`, `League`)\n",
    "\n",
    "<div style=\"padding-left: 40px;\">\n",
    "<p> \n",
    "<span>\n",
    "<details>\n",
    "<summary><p style=\"display:inline\">answer</p></summary>\n",
    "\n",
    "```\n",
    "val it: (string * string) list =\n",
    "  [(\"Robert Lewandowski\", \"deBundesliga\"); (\"Kylian Mbappé\", \"frLigue 1\");\n",
    "   (\"Karim Benzema\", \"esLa Liga\"); (\"Ciro Immobile\", \"itSerie A\");\n",
    "   (\"Wissam Ben Yedder\", \"frLigue 1\")]\n",
    "```\n",
    "\n",
    "</details>\n",
    "</span>\n",
    "</p>\n",
    "</div>\n",
    "\n"
   ]
  },
  {
   "cell_type": "code",
   "execution_count": 7,
   "metadata": {
    "dotnet_interactive": {
     "language": "fsharp"
    },
    "polyglot_notebook": {
     "kernelName": "fsharp"
    },
    "vscode": {
     "languageId": "polyglot-notebook"
    }
   },
   "outputs": [
    {
     "data": {
      "text/html": [
       "<table><thead><tr><th><i>index</i></th><th>Item1</th><th>Item2</th></tr></thead><tbody><tr><td>0</td><td>Robert Lewandowski</td><td>deBundesliga</td></tr><tr><td>1</td><td>Kylian Mbapp&#233;</td><td>frLigue 1</td></tr><tr><td>2</td><td>Karim Benzema</td><td>esLa Liga</td></tr><tr><td>3</td><td>Ciro Immobile</td><td>itSerie A</td></tr><tr><td>4</td><td>Wissam Ben Yedder</td><td>frLigue 1</td></tr></tbody></table><style>\r\n",
       ".dni-code-hint {\r\n",
       "    font-style: italic;\r\n",
       "    overflow: hidden;\r\n",
       "    white-space: nowrap;\r\n",
       "}\r\n",
       ".dni-treeview {\r\n",
       "    white-space: nowrap;\r\n",
       "}\r\n",
       ".dni-treeview td {\r\n",
       "    vertical-align: top;\r\n",
       "    text-align: start;\r\n",
       "}\r\n",
       "details.dni-treeview {\r\n",
       "    padding-left: 1em;\r\n",
       "}\r\n",
       "table td {\r\n",
       "    text-align: start;\r\n",
       "}\r\n",
       "table tr { \r\n",
       "    vertical-align: top; \r\n",
       "    margin: 0em 0px;\r\n",
       "}\r\n",
       "table tr td pre \r\n",
       "{ \r\n",
       "    vertical-align: top !important; \r\n",
       "    margin: 0em 0px !important;\r\n",
       "} \r\n",
       "table th {\r\n",
       "    text-align: start;\r\n",
       "}\r\n",
       "</style>"
      ]
     },
     "metadata": {},
     "output_type": "display_data"
    }
   ],
   "source": [
    "// write your code here, see website for solution.\n",
    "playerStatsTable\n",
    "|> List.map(fun x -> x.Player, x.League)\n",
    "|> List.truncate 5"
   ]
  },
  {
   "cell_type": "markdown",
   "metadata": {
    "dotnet_interactive": {
     "language": "fsharp"
    },
    "polyglot_notebook": {
     "kernelName": "fsharp"
    }
   },
   "source": [
    "* Transform each element of the `playerStatsTable` List into a tuple with the player and age ( `Player`, `Age`)\n",
    "\n",
    "<div style=\"padding-left: 40px;\">\n",
    "<p> \n",
    "<span>\n",
    "<details>\n",
    "<summary><p style=\"display:inline\">answer</p></summary>\n",
    "\n",
    "```\n",
    "val it: (string * int) list =\n",
    "  [(\"Robert Lewandowski\", 32); (\"Kylian Mbappé\", 22); (\"Karim Benzema\", 33);\n",
    "   (\"Ciro Immobile\", 31); (\"Wissam Ben Yedder\", 30)]\n",
    "```\n",
    "\n",
    "</details>\n",
    "</span>\n",
    "</p>\n",
    "</div>\n",
    "\n"
   ]
  },
  {
   "cell_type": "code",
   "execution_count": 8,
   "metadata": {
    "dotnet_interactive": {
     "language": "fsharp"
    },
    "polyglot_notebook": {
     "kernelName": "fsharp"
    },
    "vscode": {
     "languageId": "polyglot-notebook"
    }
   },
   "outputs": [
    {
     "data": {
      "text/html": [
       "<table><thead><tr><th><i>index</i></th><th>Item1</th><th>Item2</th></tr></thead><tbody><tr><td>0</td><td>Robert Lewandowski</td><td><div class=\"dni-plaintext\"><pre>32</pre></div></td></tr><tr><td>1</td><td>Kylian Mbapp&#233;</td><td><div class=\"dni-plaintext\"><pre>22</pre></div></td></tr><tr><td>2</td><td>Karim Benzema</td><td><div class=\"dni-plaintext\"><pre>33</pre></div></td></tr><tr><td>3</td><td>Ciro Immobile</td><td><div class=\"dni-plaintext\"><pre>31</pre></div></td></tr><tr><td>4</td><td>Wissam Ben Yedder</td><td><div class=\"dni-plaintext\"><pre>30</pre></div></td></tr></tbody></table><style>\r\n",
       ".dni-code-hint {\r\n",
       "    font-style: italic;\r\n",
       "    overflow: hidden;\r\n",
       "    white-space: nowrap;\r\n",
       "}\r\n",
       ".dni-treeview {\r\n",
       "    white-space: nowrap;\r\n",
       "}\r\n",
       ".dni-treeview td {\r\n",
       "    vertical-align: top;\r\n",
       "    text-align: start;\r\n",
       "}\r\n",
       "details.dni-treeview {\r\n",
       "    padding-left: 1em;\r\n",
       "}\r\n",
       "table td {\r\n",
       "    text-align: start;\r\n",
       "}\r\n",
       "table tr { \r\n",
       "    vertical-align: top; \r\n",
       "    margin: 0em 0px;\r\n",
       "}\r\n",
       "table tr td pre \r\n",
       "{ \r\n",
       "    vertical-align: top !important; \r\n",
       "    margin: 0em 0px !important;\r\n",
       "} \r\n",
       "table th {\r\n",
       "    text-align: start;\r\n",
       "}\r\n",
       "</style>"
      ]
     },
     "metadata": {},
     "output_type": "display_data"
    }
   ],
   "source": [
    "// write your code here, see website for solution.\n",
    "playerStatsTable\n",
    "|> List.map(fun x -> x.Player, x.Age)\n",
    "|> List.truncate 5"
   ]
  },
  {
   "cell_type": "markdown",
   "metadata": {
    "dotnet_interactive": {
     "language": "fsharp"
    },
    "polyglot_notebook": {
     "kernelName": "fsharp"
    }
   },
   "source": [
    "* Transform each element of the `playerStatsTable` List into a tuple with the player and matches played ( `Player`, `MatchesPlayed`)\n",
    "\n",
    "<div style=\"padding-left: 40px;\">\n",
    "<p> \n",
    "<span>\n",
    "<details>\n",
    "<summary><p style=\"display:inline\">answer</p></summary>\n",
    "\n",
    "```\n",
    "val it: (string * int) list =\n",
    "  [(\"Robert Lewandowski\", 34); (\"Kylian Mbappé\", 35); (\"Karim Benzema\", 32);\n",
    "   (\"Ciro Immobile\", 31); (\"Wissam Ben Yedder\", 37)]\n",
    "```\n",
    "\n",
    "</details>\n",
    "</span>\n",
    "</p>\n",
    "</div>\n",
    "\n"
   ]
  },
  {
   "cell_type": "code",
   "execution_count": 9,
   "metadata": {
    "dotnet_interactive": {
     "language": "fsharp"
    },
    "polyglot_notebook": {
     "kernelName": "fsharp"
    },
    "vscode": {
     "languageId": "polyglot-notebook"
    }
   },
   "outputs": [
    {
     "data": {
      "text/html": [
       "<table><thead><tr><th><i>index</i></th><th>Item1</th><th>Item2</th></tr></thead><tbody><tr><td>0</td><td>Robert Lewandowski</td><td><div class=\"dni-plaintext\"><pre>34</pre></div></td></tr><tr><td>1</td><td>Kylian Mbapp&#233;</td><td><div class=\"dni-plaintext\"><pre>35</pre></div></td></tr><tr><td>2</td><td>Karim Benzema</td><td><div class=\"dni-plaintext\"><pre>32</pre></div></td></tr><tr><td>3</td><td>Ciro Immobile</td><td><div class=\"dni-plaintext\"><pre>31</pre></div></td></tr><tr><td>4</td><td>Wissam Ben Yedder</td><td><div class=\"dni-plaintext\"><pre>37</pre></div></td></tr></tbody></table><style>\r\n",
       ".dni-code-hint {\r\n",
       "    font-style: italic;\r\n",
       "    overflow: hidden;\r\n",
       "    white-space: nowrap;\r\n",
       "}\r\n",
       ".dni-treeview {\r\n",
       "    white-space: nowrap;\r\n",
       "}\r\n",
       ".dni-treeview td {\r\n",
       "    vertical-align: top;\r\n",
       "    text-align: start;\r\n",
       "}\r\n",
       "details.dni-treeview {\r\n",
       "    padding-left: 1em;\r\n",
       "}\r\n",
       "table td {\r\n",
       "    text-align: start;\r\n",
       "}\r\n",
       "table tr { \r\n",
       "    vertical-align: top; \r\n",
       "    margin: 0em 0px;\r\n",
       "}\r\n",
       "table tr td pre \r\n",
       "{ \r\n",
       "    vertical-align: top !important; \r\n",
       "    margin: 0em 0px !important;\r\n",
       "} \r\n",
       "table th {\r\n",
       "    text-align: start;\r\n",
       "}\r\n",
       "</style>"
      ]
     },
     "metadata": {},
     "output_type": "display_data"
    }
   ],
   "source": [
    "// write your code here, see website for solution.\n",
    "playerStatsTable\n",
    "|> List.map(fun x -> x.Player, x.MatchesPlayed)\n",
    "|> List.truncate 5"
   ]
  },
  {
   "cell_type": "markdown",
   "metadata": {
    "dotnet_interactive": {
     "language": "fsharp"
    },
    "polyglot_notebook": {
     "kernelName": "fsharp"
    }
   },
   "source": [
    "* Transform each element of the `playerStatsTable` List into a tuple with the player and goals scored ( `Player`, `GoalsScored`)\n",
    "\n",
    "<div style=\"padding-left: 40px;\">\n",
    "<p> \n",
    "<span>\n",
    "<details>\n",
    "<summary><p style=\"display:inline\">answer</p></summary>\n",
    "\n",
    "```\n",
    "val it: (string * int) list =\n",
    "  [(\"Robert Lewandowski\", 35); (\"Kylian Mbappé\", 28); (\"Karim Benzema\", 27);\n",
    "   (\"Ciro Immobile\", 27); (\"Wissam Ben Yedder\", 25)]\n",
    "```\n",
    "\n",
    "</details>\n",
    "</span>\n",
    "</p>\n",
    "</div>\n",
    "\n"
   ]
  },
  {
   "cell_type": "code",
   "execution_count": 10,
   "metadata": {
    "dotnet_interactive": {
     "language": "fsharp"
    },
    "polyglot_notebook": {
     "kernelName": "fsharp"
    },
    "vscode": {
     "languageId": "polyglot-notebook"
    }
   },
   "outputs": [
    {
     "data": {
      "text/html": [
       "<table><thead><tr><th><i>index</i></th><th>Item1</th><th>Item2</th></tr></thead><tbody><tr><td>0</td><td>Robert Lewandowski</td><td><div class=\"dni-plaintext\"><pre>35</pre></div></td></tr><tr><td>1</td><td>Kylian Mbapp&#233;</td><td><div class=\"dni-plaintext\"><pre>28</pre></div></td></tr><tr><td>2</td><td>Karim Benzema</td><td><div class=\"dni-plaintext\"><pre>27</pre></div></td></tr><tr><td>3</td><td>Ciro Immobile</td><td><div class=\"dni-plaintext\"><pre>27</pre></div></td></tr><tr><td>4</td><td>Wissam Ben Yedder</td><td><div class=\"dni-plaintext\"><pre>25</pre></div></td></tr></tbody></table><style>\r\n",
       ".dni-code-hint {\r\n",
       "    font-style: italic;\r\n",
       "    overflow: hidden;\r\n",
       "    white-space: nowrap;\r\n",
       "}\r\n",
       ".dni-treeview {\r\n",
       "    white-space: nowrap;\r\n",
       "}\r\n",
       ".dni-treeview td {\r\n",
       "    vertical-align: top;\r\n",
       "    text-align: start;\r\n",
       "}\r\n",
       "details.dni-treeview {\r\n",
       "    padding-left: 1em;\r\n",
       "}\r\n",
       "table td {\r\n",
       "    text-align: start;\r\n",
       "}\r\n",
       "table tr { \r\n",
       "    vertical-align: top; \r\n",
       "    margin: 0em 0px;\r\n",
       "}\r\n",
       "table tr td pre \r\n",
       "{ \r\n",
       "    vertical-align: top !important; \r\n",
       "    margin: 0em 0px !important;\r\n",
       "} \r\n",
       "table th {\r\n",
       "    text-align: start;\r\n",
       "}\r\n",
       "</style>"
      ]
     },
     "metadata": {},
     "output_type": "display_data"
    }
   ],
   "source": [
    "// write your code here, see website for solution.\n",
    "playerStatsTable\n",
    "|> List.map(fun x -> x.Player, x.GoalsScored)\n",
    "|> List.truncate 5"
   ]
  },
  {
   "cell_type": "markdown",
   "metadata": {
    "dotnet_interactive": {
     "language": "fsharp"
    },
    "polyglot_notebook": {
     "kernelName": "fsharp"
    }
   },
   "source": [
    "Example: Define a record named `PlayerAndNation` with a field named `Player` that is a `string` and `Nation` that is a `string`.\n",
    "Then transform each element of the `playerStatsTable` List into a `PlayerAndNation` record.\n",
    "\n"
   ]
  },
  {
   "cell_type": "code",
   "execution_count": 11,
   "metadata": {
    "dotnet_interactive": {
     "language": "fsharp"
    },
    "polyglot_notebook": {
     "kernelName": "fsharp"
    },
    "vscode": {
     "languageId": "polyglot-notebook"
    }
   },
   "outputs": [],
   "source": [
    "type PlayerAndNation =\n",
    "    { Player : string \n",
    "      Nation : string }\n"
   ]
  },
  {
   "cell_type": "markdown",
   "metadata": {
    "dotnet_interactive": {
     "language": "fsharp"
    },
    "polyglot_notebook": {
     "kernelName": "fsharp"
    }
   },
   "source": [
    "The above code creates a record type called `PlayerAndNation`.\n",
    "This record contains two fields: `Player` of `string` type and `Nation` of `string` type.\n",
    "Remember, if the types from the csv file are different an error will occur when creating an instance of the record.\n",
    "\n",
    "Common types:\n",
    "\n",
    "* `string`, example: `\"hello world\"`\n",
    "\n",
    "* `int`, example: `2`\n",
    "\n",
    "* `float`, example: `2.0`\n",
    "\n",
    "* `decimal`, example: `2.0m`\n",
    "\n",
    "Check [basic types documentation](https://docs.microsoft.com/en-us/dotnet/fsharp/language-reference/basic-types)\n",
    "to learn about F# basic types.\n",
    "\n",
    "Now by having the record type created we can `map` the `playerStatsTable` rows to the record `PlayerAndNation`.\n",
    "\n"
   ]
  },
  {
   "cell_type": "code",
   "execution_count": 12,
   "metadata": {
    "dotnet_interactive": {
     "language": "fsharp"
    },
    "polyglot_notebook": {
     "kernelName": "fsharp"
    },
    "vscode": {
     "languageId": "polyglot-notebook"
    }
   },
   "outputs": [
    {
     "data": {
      "text/html": [
       "<table><thead><tr><th><i>index</i></th><th>Player</th><th>Nation</th></tr></thead><tbody><tr><td>0</td><td>Robert Lewandowski</td><td>pl POL</td></tr><tr><td>1</td><td>Kylian Mbapp&#233;</td><td>fr FRA</td></tr><tr><td>2</td><td>Karim Benzema</td><td>fr FRA</td></tr><tr><td>3</td><td>Ciro Immobile</td><td>it ITA</td></tr><tr><td>4</td><td>Wissam Ben Yedder</td><td>fr FRA</td></tr></tbody></table><style>\r\n",
       ".dni-code-hint {\r\n",
       "    font-style: italic;\r\n",
       "    overflow: hidden;\r\n",
       "    white-space: nowrap;\r\n",
       "}\r\n",
       ".dni-treeview {\r\n",
       "    white-space: nowrap;\r\n",
       "}\r\n",
       ".dni-treeview td {\r\n",
       "    vertical-align: top;\r\n",
       "    text-align: start;\r\n",
       "}\r\n",
       "details.dni-treeview {\r\n",
       "    padding-left: 1em;\r\n",
       "}\r\n",
       "table td {\r\n",
       "    text-align: start;\r\n",
       "}\r\n",
       "table tr { \r\n",
       "    vertical-align: top; \r\n",
       "    margin: 0em 0px;\r\n",
       "}\r\n",
       "table tr td pre \r\n",
       "{ \r\n",
       "    vertical-align: top !important; \r\n",
       "    margin: 0em 0px !important;\r\n",
       "} \r\n",
       "table th {\r\n",
       "    text-align: start;\r\n",
       "}\r\n",
       "</style>"
      ]
     },
     "metadata": {},
     "output_type": "display_data"
    }
   ],
   "source": [
    "playerStatsTable\n",
    "|> List.map(fun x -> \n",
    "    { Player = x.Player\n",
    "      Nation = x.Nation })\n",
    "|> List.truncate 5 //just to observe the first 5 rows, not a part of the exercise.\n"
   ]
  },
  {
   "cell_type": "markdown",
   "metadata": {
    "dotnet_interactive": {
     "language": "fsharp"
    },
    "polyglot_notebook": {
     "kernelName": "fsharp"
    }
   },
   "source": [
    "Note that you choose the name of the fields in the record. Instead of `Player` it could be anything.\n",
    "The following code block for example would have also worked,\n",
    "but the field name for the player is `PlayerName` instead of `Player` and `Nationality` instead of `Nation`:\n",
    "\n"
   ]
  },
  {
   "cell_type": "code",
   "execution_count": 13,
   "metadata": {
    "dotnet_interactive": {
     "language": "fsharp"
    },
    "polyglot_notebook": {
     "kernelName": "fsharp"
    },
    "vscode": {
     "languageId": "polyglot-notebook"
    }
   },
   "outputs": [
    {
     "data": {
      "text/html": [
       "<table><thead><tr><th><i>index</i></th><th>PlayerName</th><th>Nationality</th></tr></thead><tbody><tr><td>0</td><td>Robert Lewandowski</td><td>pl POL</td></tr><tr><td>1</td><td>Kylian Mbapp&#233;</td><td>fr FRA</td></tr><tr><td>2</td><td>Karim Benzema</td><td>fr FRA</td></tr><tr><td>3</td><td>Ciro Immobile</td><td>it ITA</td></tr><tr><td>4</td><td>Wissam Ben Yedder</td><td>fr FRA</td></tr><tr><td>5</td><td>Patrik Schick</td><td>cz CZE</td></tr><tr><td>6</td><td>Son Heung-min</td><td>kr KOR</td></tr><tr><td>7</td><td>Mohamed Salah</td><td>eg EGY</td></tr><tr><td>8</td><td>Erling Haaland</td><td>no NOR</td></tr><tr><td>9</td><td>Moussa Demb&#233;l&#233;</td><td>fr FRA</td></tr><tr><td>10</td><td>Martin Terrier</td><td>fr FRA</td></tr><tr><td>11</td><td>Lautaro Mart&#237;nez</td><td>ar ARG</td></tr><tr><td>12</td><td>Christopher Nkunku</td><td>fr FRA</td></tr><tr><td>13</td><td>Anthony Modeste</td><td>fr FRA</td></tr><tr><td>14</td><td>Iago Aspas</td><td>es ESP</td></tr><tr><td>15</td><td>Cristiano Ronaldo</td><td>pt POR</td></tr><tr><td>16</td><td>Vinicius J&#250;nior</td><td>br BRA</td></tr><tr><td>17</td><td>Tammy Abraham</td><td>eng ENG</td></tr><tr><td>18</td><td>Ra&#250;l de Tom&#225;s</td><td>es ESP</td></tr><tr><td>19</td><td>Harry Kane</td><td>eng ENG</td></tr><tr><td colspan=\"3\"><i>... (more)</i></td></tr></tbody></table><style>\r\n",
       ".dni-code-hint {\r\n",
       "    font-style: italic;\r\n",
       "    overflow: hidden;\r\n",
       "    white-space: nowrap;\r\n",
       "}\r\n",
       ".dni-treeview {\r\n",
       "    white-space: nowrap;\r\n",
       "}\r\n",
       ".dni-treeview td {\r\n",
       "    vertical-align: top;\r\n",
       "    text-align: start;\r\n",
       "}\r\n",
       "details.dni-treeview {\r\n",
       "    padding-left: 1em;\r\n",
       "}\r\n",
       "table td {\r\n",
       "    text-align: start;\r\n",
       "}\r\n",
       "table tr { \r\n",
       "    vertical-align: top; \r\n",
       "    margin: 0em 0px;\r\n",
       "}\r\n",
       "table tr td pre \r\n",
       "{ \r\n",
       "    vertical-align: top !important; \r\n",
       "    margin: 0em 0px !important;\r\n",
       "} \r\n",
       "table th {\r\n",
       "    text-align: start;\r\n",
       "}\r\n",
       "</style>"
      ]
     },
     "metadata": {},
     "output_type": "display_data"
    }
   ],
   "source": [
    "type PlayerAndNation2 =\n",
    "    { PlayerName : string \n",
    "      Nationality : string }\n",
    "\n",
    "playerStatsTable\n",
    "|> List.map(fun x -> \n",
    "    { PlayerName = x.Player\n",
    "      Nationality = x.Nation })\n"
   ]
  },
  {
   "cell_type": "markdown",
   "metadata": {
    "dotnet_interactive": {
     "language": "fsharp"
    },
    "polyglot_notebook": {
     "kernelName": "fsharp"
    }
   },
   "source": [
    "* Define a record named `PlayerAndTeam` with a field named `Player` that is a `string` and `Team` that is a `string`. \n",
    "Then transform each element of the `playerStatsTable` List into a `PlayerAndTeam` record.\n",
    "\n",
    "<div style=\"padding-left: 40px;\">\n",
    "<p> \n",
    "<span>\n",
    "<details>\n",
    "<summary><p style=\"display:inline\">answer</p></summary>\n",
    "\n",
    "```\n",
    "type PlayerAndTeam =\n",
    "  {\n",
    "    Player: string\n",
    "    Team: string\n",
    "  }\n",
    "val it: PlayerAndTeam list =\n",
    "  [{ Player = \"Robert Lewandowski\"\n",
    "     Team = \"Bayern Munich\" }; { Player = \"Kylian Mbappé\"\n",
    "                                 Team = \"Paris S-G\" };\n",
    "   { Player = \"Karim Benzema\"\n",
    "     Team = \"Real Madrid\" }; { Player = \"Ciro Immobile\"\n",
    "                               Team = \"Lazio\" };\n",
    "   { Player = \"Wissam Ben Yedder\"\n",
    "     Team = \"Monaco\" }]\n",
    "```\n",
    "\n",
    "</details>\n",
    "</span>\n",
    "</p>\n",
    "</div>\n",
    "\n"
   ]
  },
  {
   "cell_type": "code",
   "execution_count": 14,
   "metadata": {
    "dotnet_interactive": {
     "language": "fsharp"
    },
    "polyglot_notebook": {
     "kernelName": "fsharp"
    },
    "vscode": {
     "languageId": "polyglot-notebook"
    }
   },
   "outputs": [
    {
     "data": {
      "text/html": [
       "<table><thead><tr><th><i>index</i></th><th>Player</th><th>Team</th></tr></thead><tbody><tr><td>0</td><td>Robert Lewandowski</td><td>Bayern Munich</td></tr><tr><td>1</td><td>Kylian Mbapp&#233;</td><td>Paris S-G</td></tr><tr><td>2</td><td>Karim Benzema</td><td>Real Madrid</td></tr><tr><td>3</td><td>Ciro Immobile</td><td>Lazio</td></tr><tr><td>4</td><td>Wissam Ben Yedder</td><td>Monaco</td></tr><tr><td>5</td><td>Patrik Schick</td><td>Leverkusen</td></tr><tr><td>6</td><td>Son Heung-min</td><td>Tottenham</td></tr><tr><td>7</td><td>Mohamed Salah</td><td>Liverpool</td></tr><tr><td>8</td><td>Erling Haaland</td><td>Dortmund</td></tr><tr><td>9</td><td>Moussa Demb&#233;l&#233;</td><td>Lyon</td></tr><tr><td>10</td><td>Martin Terrier</td><td>Rennes</td></tr><tr><td>11</td><td>Lautaro Mart&#237;nez</td><td>Inter</td></tr><tr><td>12</td><td>Christopher Nkunku</td><td>RB Leipzig</td></tr><tr><td>13</td><td>Anthony Modeste</td><td>K&#246;ln</td></tr><tr><td>14</td><td>Iago Aspas</td><td>Celta Vigo</td></tr><tr><td>15</td><td>Cristiano Ronaldo</td><td>Manchester Utd</td></tr><tr><td>16</td><td>Vinicius J&#250;nior</td><td>Real Madrid</td></tr><tr><td>17</td><td>Tammy Abraham</td><td>Roma</td></tr><tr><td>18</td><td>Ra&#250;l de Tom&#225;s</td><td>Espanyol</td></tr><tr><td>19</td><td>Harry Kane</td><td>Tottenham</td></tr><tr><td colspan=\"3\"><i>... (more)</i></td></tr></tbody></table><style>\r\n",
       ".dni-code-hint {\r\n",
       "    font-style: italic;\r\n",
       "    overflow: hidden;\r\n",
       "    white-space: nowrap;\r\n",
       "}\r\n",
       ".dni-treeview {\r\n",
       "    white-space: nowrap;\r\n",
       "}\r\n",
       ".dni-treeview td {\r\n",
       "    vertical-align: top;\r\n",
       "    text-align: start;\r\n",
       "}\r\n",
       "details.dni-treeview {\r\n",
       "    padding-left: 1em;\r\n",
       "}\r\n",
       "table td {\r\n",
       "    text-align: start;\r\n",
       "}\r\n",
       "table tr { \r\n",
       "    vertical-align: top; \r\n",
       "    margin: 0em 0px;\r\n",
       "}\r\n",
       "table tr td pre \r\n",
       "{ \r\n",
       "    vertical-align: top !important; \r\n",
       "    margin: 0em 0px !important;\r\n",
       "} \r\n",
       "table th {\r\n",
       "    text-align: start;\r\n",
       "}\r\n",
       "</style>"
      ]
     },
     "metadata": {},
     "output_type": "display_data"
    }
   ],
   "source": [
    "// write your code here, see website for solution.\n",
    "type PlayerAndTeam =\n",
    "    { Player : string \n",
    "      Team : string }\n",
    "\n",
    "playerStatsTable\n",
    "|> List.map(fun x -> \n",
    "    { Player = x.Player\n",
    "      Team = x.Team })\n"
   ]
  },
  {
   "cell_type": "markdown",
   "metadata": {
    "dotnet_interactive": {
     "language": "fsharp"
    },
    "polyglot_notebook": {
     "kernelName": "fsharp"
    }
   },
   "source": [
    "* Define a record named `PlayerAndLeague` with a field named `Player` that is a `string` and `League` that is a `string`. \n",
    "Then transform each element of the `playerStatsTable` List into a `PlayerAndLeague` record.\n",
    "\n",
    "<div style=\"padding-left: 40px;\">\n",
    "<p> \n",
    "<span>\n",
    "<details>\n",
    "<summary><p style=\"display:inline\">answer</p></summary>\n",
    "\n",
    "```\n",
    "type PlayerAndLeague =\n",
    "  {\n",
    "    Player: string\n",
    "    League: string\n",
    "  }\n",
    "val it: PlayerAndLeague list =\n",
    "  [{ Player = \"Robert Lewandowski\"\n",
    "     League = \"deBundesliga\" }; { Player = \"Kylian Mbappé\"\n",
    "                                  League = \"frLigue 1\" };\n",
    "   { Player = \"Karim Benzema\"\n",
    "     League = \"esLa Liga\" }; { Player = \"Ciro Immobile\"\n",
    "                               League = \"itSerie A\" };\n",
    "   { Player = \"Wissam Ben Yedder\"\n",
    "     League = \"frLigue 1\" }]\n",
    "```\n",
    "\n",
    "</details>\n",
    "</span>\n",
    "</p>\n",
    "</div>\n",
    "\n"
   ]
  },
  {
   "cell_type": "code",
   "execution_count": 15,
   "metadata": {
    "dotnet_interactive": {
     "language": "fsharp"
    },
    "polyglot_notebook": {
     "kernelName": "fsharp"
    },
    "vscode": {
     "languageId": "polyglot-notebook"
    }
   },
   "outputs": [
    {
     "data": {
      "text/html": [
       "<table><thead><tr><th><i>index</i></th><th>Player</th><th>League</th></tr></thead><tbody><tr><td>0</td><td>Robert Lewandowski</td><td>deBundesliga</td></tr><tr><td>1</td><td>Kylian Mbapp&#233;</td><td>frLigue 1</td></tr><tr><td>2</td><td>Karim Benzema</td><td>esLa Liga</td></tr><tr><td>3</td><td>Ciro Immobile</td><td>itSerie A</td></tr><tr><td>4</td><td>Wissam Ben Yedder</td><td>frLigue 1</td></tr><tr><td>5</td><td>Patrik Schick</td><td>deBundesliga</td></tr><tr><td>6</td><td>Son Heung-min</td><td>engPremier League</td></tr><tr><td>7</td><td>Mohamed Salah</td><td>engPremier League</td></tr><tr><td>8</td><td>Erling Haaland</td><td>deBundesliga</td></tr><tr><td>9</td><td>Moussa Demb&#233;l&#233;</td><td>frLigue 1</td></tr><tr><td>10</td><td>Martin Terrier</td><td>frLigue 1</td></tr><tr><td>11</td><td>Lautaro Mart&#237;nez</td><td>itSerie A</td></tr><tr><td>12</td><td>Christopher Nkunku</td><td>deBundesliga</td></tr><tr><td>13</td><td>Anthony Modeste</td><td>deBundesliga</td></tr><tr><td>14</td><td>Iago Aspas</td><td>esLa Liga</td></tr><tr><td>15</td><td>Cristiano Ronaldo</td><td>engPremier League</td></tr><tr><td>16</td><td>Vinicius J&#250;nior</td><td>esLa Liga</td></tr><tr><td>17</td><td>Tammy Abraham</td><td>itSerie A</td></tr><tr><td>18</td><td>Ra&#250;l de Tom&#225;s</td><td>esLa Liga</td></tr><tr><td>19</td><td>Harry Kane</td><td>engPremier League</td></tr><tr><td colspan=\"3\"><i>... (more)</i></td></tr></tbody></table><style>\r\n",
       ".dni-code-hint {\r\n",
       "    font-style: italic;\r\n",
       "    overflow: hidden;\r\n",
       "    white-space: nowrap;\r\n",
       "}\r\n",
       ".dni-treeview {\r\n",
       "    white-space: nowrap;\r\n",
       "}\r\n",
       ".dni-treeview td {\r\n",
       "    vertical-align: top;\r\n",
       "    text-align: start;\r\n",
       "}\r\n",
       "details.dni-treeview {\r\n",
       "    padding-left: 1em;\r\n",
       "}\r\n",
       "table td {\r\n",
       "    text-align: start;\r\n",
       "}\r\n",
       "table tr { \r\n",
       "    vertical-align: top; \r\n",
       "    margin: 0em 0px;\r\n",
       "}\r\n",
       "table tr td pre \r\n",
       "{ \r\n",
       "    vertical-align: top !important; \r\n",
       "    margin: 0em 0px !important;\r\n",
       "} \r\n",
       "table th {\r\n",
       "    text-align: start;\r\n",
       "}\r\n",
       "</style>"
      ]
     },
     "metadata": {},
     "output_type": "display_data"
    }
   ],
   "source": [
    "// write your code here, see website for solution.\n",
    "type PlayerAndLeague =\n",
    "    { Player : string \n",
    "      League : string }\n",
    "\n",
    "playerStatsTable\n",
    "|> List.map(fun x -> \n",
    "    { Player = x.Player\n",
    "      League = x.League })\n"
   ]
  },
  {
   "cell_type": "markdown",
   "metadata": {
    "dotnet_interactive": {
     "language": "fsharp"
    },
    "polyglot_notebook": {
     "kernelName": "fsharp"
    }
   },
   "source": [
    "* Define a record named `PlayerAndAge` with a field named `Player` that is a `string` and `Age` that is a integer(`int`). \n",
    "Then transform each element of the `playerStatsTable` List into a `PlayerAndAge` record.\n",
    "\n",
    "<div style=\"padding-left: 40px;\">\n",
    "<p> \n",
    "<span>\n",
    "<details>\n",
    "<summary><p style=\"display:inline\">answer</p></summary>\n",
    "\n",
    "```\n",
    "type PlayerAndAge =\n",
    "  {\n",
    "    Player: string\n",
    "    Age: int\n",
    "  }\n",
    "val it: PlayerAndAge list =\n",
    "  [{ Player = \"Robert Lewandowski\"\n",
    "     Age = 32 }; { Player = \"Kylian Mbappé\"\n",
    "                   Age = 22 }; { Player = \"Karim Benzema\"\n",
    "                                 Age = 33 }; { Player = \"Ciro Immobile\"\n",
    "                                               Age = 31 };\n",
    "   { Player = \"Wissam Ben Yedder\"\n",
    "     Age = 30 }]\n",
    "```\n",
    "\n",
    "</details>\n",
    "</span>\n",
    "</p>\n",
    "</div>\n",
    "\n"
   ]
  },
  {
   "cell_type": "code",
   "execution_count": 16,
   "metadata": {
    "dotnet_interactive": {
     "language": "fsharp"
    },
    "polyglot_notebook": {
     "kernelName": "fsharp"
    },
    "vscode": {
     "languageId": "polyglot-notebook"
    }
   },
   "outputs": [
    {
     "data": {
      "text/html": [
       "<table><thead><tr><th><i>index</i></th><th>Player</th><th>Age</th></tr></thead><tbody><tr><td>0</td><td>Robert Lewandowski</td><td><div class=\"dni-plaintext\"><pre>32</pre></div></td></tr><tr><td>1</td><td>Kylian Mbapp&#233;</td><td><div class=\"dni-plaintext\"><pre>22</pre></div></td></tr><tr><td>2</td><td>Karim Benzema</td><td><div class=\"dni-plaintext\"><pre>33</pre></div></td></tr><tr><td>3</td><td>Ciro Immobile</td><td><div class=\"dni-plaintext\"><pre>31</pre></div></td></tr><tr><td>4</td><td>Wissam Ben Yedder</td><td><div class=\"dni-plaintext\"><pre>30</pre></div></td></tr><tr><td>5</td><td>Patrik Schick</td><td><div class=\"dni-plaintext\"><pre>25</pre></div></td></tr><tr><td>6</td><td>Son Heung-min</td><td><div class=\"dni-plaintext\"><pre>29</pre></div></td></tr><tr><td>7</td><td>Mohamed Salah</td><td><div class=\"dni-plaintext\"><pre>29</pre></div></td></tr><tr><td>8</td><td>Erling Haaland</td><td><div class=\"dni-plaintext\"><pre>21</pre></div></td></tr><tr><td>9</td><td>Moussa Demb&#233;l&#233;</td><td><div class=\"dni-plaintext\"><pre>25</pre></div></td></tr><tr><td>10</td><td>Martin Terrier</td><td><div class=\"dni-plaintext\"><pre>24</pre></div></td></tr><tr><td>11</td><td>Lautaro Mart&#237;nez</td><td><div class=\"dni-plaintext\"><pre>23</pre></div></td></tr><tr><td>12</td><td>Christopher Nkunku</td><td><div class=\"dni-plaintext\"><pre>23</pre></div></td></tr><tr><td>13</td><td>Anthony Modeste</td><td><div class=\"dni-plaintext\"><pre>33</pre></div></td></tr><tr><td>14</td><td>Iago Aspas</td><td><div class=\"dni-plaintext\"><pre>33</pre></div></td></tr><tr><td>15</td><td>Cristiano Ronaldo</td><td><div class=\"dni-plaintext\"><pre>36</pre></div></td></tr><tr><td>16</td><td>Vinicius J&#250;nior</td><td><div class=\"dni-plaintext\"><pre>21</pre></div></td></tr><tr><td>17</td><td>Tammy Abraham</td><td><div class=\"dni-plaintext\"><pre>23</pre></div></td></tr><tr><td>18</td><td>Ra&#250;l de Tom&#225;s</td><td><div class=\"dni-plaintext\"><pre>26</pre></div></td></tr><tr><td>19</td><td>Harry Kane</td><td><div class=\"dni-plaintext\"><pre>28</pre></div></td></tr><tr><td colspan=\"3\"><i>... (more)</i></td></tr></tbody></table><style>\r\n",
       ".dni-code-hint {\r\n",
       "    font-style: italic;\r\n",
       "    overflow: hidden;\r\n",
       "    white-space: nowrap;\r\n",
       "}\r\n",
       ".dni-treeview {\r\n",
       "    white-space: nowrap;\r\n",
       "}\r\n",
       ".dni-treeview td {\r\n",
       "    vertical-align: top;\r\n",
       "    text-align: start;\r\n",
       "}\r\n",
       "details.dni-treeview {\r\n",
       "    padding-left: 1em;\r\n",
       "}\r\n",
       "table td {\r\n",
       "    text-align: start;\r\n",
       "}\r\n",
       "table tr { \r\n",
       "    vertical-align: top; \r\n",
       "    margin: 0em 0px;\r\n",
       "}\r\n",
       "table tr td pre \r\n",
       "{ \r\n",
       "    vertical-align: top !important; \r\n",
       "    margin: 0em 0px !important;\r\n",
       "} \r\n",
       "table th {\r\n",
       "    text-align: start;\r\n",
       "}\r\n",
       "</style>"
      ]
     },
     "metadata": {},
     "output_type": "display_data"
    }
   ],
   "source": [
    "// write your code here, see website for solution.\n",
    "type PlayerAndAge =\n",
    "    { Player : string \n",
    "      Age : int }\n",
    "\n",
    "playerStatsTable\n",
    "|> List.map(fun x -> \n",
    "    { Player = x.Player\n",
    "      Age = x.Age })\n"
   ]
  },
  {
   "cell_type": "markdown",
   "metadata": {
    "dotnet_interactive": {
     "language": "fsharp"
    },
    "polyglot_notebook": {
     "kernelName": "fsharp"
    }
   },
   "source": [
    "* Define a record named `PlayerAndMatchesPlayed` with a field named `Player` that is a `string` and `MatchesPlayed` that is a integer(`int`). \n",
    "Then transform each element of the `playerStatsTable` List into a `PlayerAndMatchesPlayed` record.\n",
    "\n",
    "<div style=\"padding-left: 40px;\">\n",
    "<p> \n",
    "<span>\n",
    "<details>\n",
    "<summary><p style=\"display:inline\">answer</p></summary>\n",
    "\n",
    "```\n",
    "type PlayerAndMatchesPlayed =\n",
    "  {\n",
    "    Player: string\n",
    "    MatchesPlayed: int\n",
    "  }\n",
    "val it: PlayerAndMatchesPlayed list =\n",
    "  [{ Player = \"Robert Lewandowski\"\n",
    "     MatchesPlayed = 34 }; { Player = \"Kylian Mbappé\"\n",
    "                             MatchesPlayed = 35 }; { Player = \"Karim Benzema\"\n",
    "                                                     MatchesPlayed = 32 };\n",
    "   { Player = \"Ciro Immobile\"\n",
    "     MatchesPlayed = 31 }; { Player = \"Wissam Ben Yedder\"\n",
    "                             MatchesPlayed = 37 }]\n",
    "```\n",
    "\n",
    "</details>\n",
    "</span>\n",
    "</p>\n",
    "</div>\n",
    "\n"
   ]
  },
  {
   "cell_type": "code",
   "execution_count": 17,
   "metadata": {
    "dotnet_interactive": {
     "language": "fsharp"
    },
    "polyglot_notebook": {
     "kernelName": "fsharp"
    },
    "vscode": {
     "languageId": "polyglot-notebook"
    }
   },
   "outputs": [
    {
     "data": {
      "text/html": [
       "<table><thead><tr><th><i>index</i></th><th>Player</th><th>MatchesPlayed</th></tr></thead><tbody><tr><td>0</td><td>Robert Lewandowski</td><td><div class=\"dni-plaintext\"><pre>34</pre></div></td></tr><tr><td>1</td><td>Kylian Mbapp&#233;</td><td><div class=\"dni-plaintext\"><pre>35</pre></div></td></tr><tr><td>2</td><td>Karim Benzema</td><td><div class=\"dni-plaintext\"><pre>32</pre></div></td></tr><tr><td>3</td><td>Ciro Immobile</td><td><div class=\"dni-plaintext\"><pre>31</pre></div></td></tr><tr><td>4</td><td>Wissam Ben Yedder</td><td><div class=\"dni-plaintext\"><pre>37</pre></div></td></tr><tr><td>5</td><td>Patrik Schick</td><td><div class=\"dni-plaintext\"><pre>27</pre></div></td></tr><tr><td>6</td><td>Son Heung-min</td><td><div class=\"dni-plaintext\"><pre>35</pre></div></td></tr><tr><td>7</td><td>Mohamed Salah</td><td><div class=\"dni-plaintext\"><pre>35</pre></div></td></tr><tr><td>8</td><td>Erling Haaland</td><td><div class=\"dni-plaintext\"><pre>24</pre></div></td></tr><tr><td>9</td><td>Moussa Demb&#233;l&#233;</td><td><div class=\"dni-plaintext\"><pre>30</pre></div></td></tr><tr><td>10</td><td>Martin Terrier</td><td><div class=\"dni-plaintext\"><pre>37</pre></div></td></tr><tr><td>11</td><td>Lautaro Mart&#237;nez</td><td><div class=\"dni-plaintext\"><pre>35</pre></div></td></tr><tr><td>12</td><td>Christopher Nkunku</td><td><div class=\"dni-plaintext\"><pre>34</pre></div></td></tr><tr><td>13</td><td>Anthony Modeste</td><td><div class=\"dni-plaintext\"><pre>32</pre></div></td></tr><tr><td>14</td><td>Iago Aspas</td><td><div class=\"dni-plaintext\"><pre>37</pre></div></td></tr><tr><td>15</td><td>Cristiano Ronaldo</td><td><div class=\"dni-plaintext\"><pre>30</pre></div></td></tr><tr><td>16</td><td>Vinicius J&#250;nior</td><td><div class=\"dni-plaintext\"><pre>35</pre></div></td></tr><tr><td>17</td><td>Tammy Abraham</td><td><div class=\"dni-plaintext\"><pre>37</pre></div></td></tr><tr><td>18</td><td>Ra&#250;l de Tom&#225;s</td><td><div class=\"dni-plaintext\"><pre>34</pre></div></td></tr><tr><td>19</td><td>Harry Kane</td><td><div class=\"dni-plaintext\"><pre>37</pre></div></td></tr><tr><td colspan=\"3\"><i>... (more)</i></td></tr></tbody></table><style>\r\n",
       ".dni-code-hint {\r\n",
       "    font-style: italic;\r\n",
       "    overflow: hidden;\r\n",
       "    white-space: nowrap;\r\n",
       "}\r\n",
       ".dni-treeview {\r\n",
       "    white-space: nowrap;\r\n",
       "}\r\n",
       ".dni-treeview td {\r\n",
       "    vertical-align: top;\r\n",
       "    text-align: start;\r\n",
       "}\r\n",
       "details.dni-treeview {\r\n",
       "    padding-left: 1em;\r\n",
       "}\r\n",
       "table td {\r\n",
       "    text-align: start;\r\n",
       "}\r\n",
       "table tr { \r\n",
       "    vertical-align: top; \r\n",
       "    margin: 0em 0px;\r\n",
       "}\r\n",
       "table tr td pre \r\n",
       "{ \r\n",
       "    vertical-align: top !important; \r\n",
       "    margin: 0em 0px !important;\r\n",
       "} \r\n",
       "table th {\r\n",
       "    text-align: start;\r\n",
       "}\r\n",
       "</style>"
      ]
     },
     "metadata": {},
     "output_type": "display_data"
    }
   ],
   "source": [
    "// write your code here, see website for solution.\n",
    "type PlayerAndMatchesPlayed =\n",
    "    { Player : string \n",
    "      MatchesPlayed : int }\n",
    "\n",
    "playerStatsTable\n",
    "|> List.map(fun x -> \n",
    "    { Player = x.Player\n",
    "      MatchesPlayed = x.MatchesPlayed })\n"
   ]
  },
  {
   "cell_type": "markdown",
   "metadata": {
    "dotnet_interactive": {
     "language": "fsharp"
    },
    "polyglot_notebook": {
     "kernelName": "fsharp"
    }
   },
   "source": [
    "* Define a record named `PlayerAndGoalsScored` with a field named `Player` that is a `string` and `GoalsScored` that is a integer(`int`). \n",
    "Then transform each element of the `playerStatsTable` List into a `PlayerAndGoalsScored` record.\n",
    "\n",
    "<div style=\"padding-left: 40px;\">\n",
    "<p> \n",
    "<span>\n",
    "<details>\n",
    "<summary><p style=\"display:inline\">answer</p></summary>\n",
    "\n",
    "```\n",
    "type PlayerAndGoalsScored =\n",
    "  {\n",
    "    Player: string\n",
    "    GoalsScored: int\n",
    "  }\n",
    "val it: PlayerAndGoalsScored list =\n",
    "  [{ Player = \"Robert Lewandowski\"\n",
    "     GoalsScored = 35 }; { Player = \"Kylian Mbappé\"\n",
    "                           GoalsScored = 28 }; { Player = \"Karim Benzema\"\n",
    "                                                 GoalsScored = 27 };\n",
    "   { Player = \"Ciro Immobile\"\n",
    "     GoalsScored = 27 }; { Player = \"Wissam Ben Yedder\"\n",
    "                           GoalsScored = 25 }]\n",
    "```\n",
    "\n",
    "</details>\n",
    "</span>\n",
    "</p>\n",
    "</div>\n",
    "\n"
   ]
  },
  {
   "cell_type": "code",
   "execution_count": 18,
   "metadata": {
    "dotnet_interactive": {
     "language": "fsharp"
    },
    "polyglot_notebook": {
     "kernelName": "fsharp"
    },
    "vscode": {
     "languageId": "polyglot-notebook"
    }
   },
   "outputs": [
    {
     "data": {
      "text/html": [
       "<table><thead><tr><th><i>index</i></th><th>Player</th><th>GoalsScored</th></tr></thead><tbody><tr><td>0</td><td>Robert Lewandowski</td><td><div class=\"dni-plaintext\"><pre>35</pre></div></td></tr><tr><td>1</td><td>Kylian Mbapp&#233;</td><td><div class=\"dni-plaintext\"><pre>28</pre></div></td></tr><tr><td>2</td><td>Karim Benzema</td><td><div class=\"dni-plaintext\"><pre>27</pre></div></td></tr><tr><td>3</td><td>Ciro Immobile</td><td><div class=\"dni-plaintext\"><pre>27</pre></div></td></tr><tr><td>4</td><td>Wissam Ben Yedder</td><td><div class=\"dni-plaintext\"><pre>25</pre></div></td></tr><tr><td>5</td><td>Patrik Schick</td><td><div class=\"dni-plaintext\"><pre>24</pre></div></td></tr><tr><td>6</td><td>Son Heung-min</td><td><div class=\"dni-plaintext\"><pre>23</pre></div></td></tr><tr><td>7</td><td>Mohamed Salah</td><td><div class=\"dni-plaintext\"><pre>23</pre></div></td></tr><tr><td>8</td><td>Erling Haaland</td><td><div class=\"dni-plaintext\"><pre>22</pre></div></td></tr><tr><td>9</td><td>Moussa Demb&#233;l&#233;</td><td><div class=\"dni-plaintext\"><pre>21</pre></div></td></tr><tr><td>10</td><td>Martin Terrier</td><td><div class=\"dni-plaintext\"><pre>21</pre></div></td></tr><tr><td>11</td><td>Lautaro Mart&#237;nez</td><td><div class=\"dni-plaintext\"><pre>21</pre></div></td></tr><tr><td>12</td><td>Christopher Nkunku</td><td><div class=\"dni-plaintext\"><pre>20</pre></div></td></tr><tr><td>13</td><td>Anthony Modeste</td><td><div class=\"dni-plaintext\"><pre>20</pre></div></td></tr><tr><td>14</td><td>Iago Aspas</td><td><div class=\"dni-plaintext\"><pre>18</pre></div></td></tr><tr><td>15</td><td>Cristiano Ronaldo</td><td><div class=\"dni-plaintext\"><pre>18</pre></div></td></tr><tr><td>16</td><td>Vinicius J&#250;nior</td><td><div class=\"dni-plaintext\"><pre>17</pre></div></td></tr><tr><td>17</td><td>Tammy Abraham</td><td><div class=\"dni-plaintext\"><pre>17</pre></div></td></tr><tr><td>18</td><td>Ra&#250;l de Tom&#225;s</td><td><div class=\"dni-plaintext\"><pre>17</pre></div></td></tr><tr><td>19</td><td>Harry Kane</td><td><div class=\"dni-plaintext\"><pre>17</pre></div></td></tr><tr><td colspan=\"3\"><i>... (more)</i></td></tr></tbody></table><style>\r\n",
       ".dni-code-hint {\r\n",
       "    font-style: italic;\r\n",
       "    overflow: hidden;\r\n",
       "    white-space: nowrap;\r\n",
       "}\r\n",
       ".dni-treeview {\r\n",
       "    white-space: nowrap;\r\n",
       "}\r\n",
       ".dni-treeview td {\r\n",
       "    vertical-align: top;\r\n",
       "    text-align: start;\r\n",
       "}\r\n",
       "details.dni-treeview {\r\n",
       "    padding-left: 1em;\r\n",
       "}\r\n",
       "table td {\r\n",
       "    text-align: start;\r\n",
       "}\r\n",
       "table tr { \r\n",
       "    vertical-align: top; \r\n",
       "    margin: 0em 0px;\r\n",
       "}\r\n",
       "table tr td pre \r\n",
       "{ \r\n",
       "    vertical-align: top !important; \r\n",
       "    margin: 0em 0px !important;\r\n",
       "} \r\n",
       "table th {\r\n",
       "    text-align: start;\r\n",
       "}\r\n",
       "</style>"
      ]
     },
     "metadata": {},
     "output_type": "display_data"
    }
   ],
   "source": [
    "// write your code here, see website for solution.\n",
    "type PlayerAndGoalsScored =\n",
    "    { Player : string \n",
    "      GoalsScored : int }\n",
    "\n",
    "playerStatsTable\n",
    "|> List.map(fun x -> \n",
    "    { Player = x.Player\n",
    "      GoalsScored = x.GoalsScored })\n"
   ]
  },
  {
   "cell_type": "markdown",
   "metadata": {
    "dotnet_interactive": {
     "language": "fsharp"
    },
    "polyglot_notebook": {
     "kernelName": "fsharp"
    }
   },
   "source": [
    "Example: Transform each element of the `playerStatsTable` List into an anonymous record with a `Player` field that is a `string` and a `Nation` field that is a `string`.\n",
    "\n",
    "With `Anonymous records` we don't need to define the record type beforehand and we don't need to specify the type of each field.\n",
    "\n"
   ]
  },
  {
   "cell_type": "code",
   "execution_count": 19,
   "metadata": {
    "dotnet_interactive": {
     "language": "fsharp"
    },
    "polyglot_notebook": {
     "kernelName": "fsharp"
    },
    "vscode": {
     "languageId": "polyglot-notebook"
    }
   },
   "outputs": [
    {
     "data": {
      "text/html": [
       "<table><thead><tr><th><i>index</i></th><th>Nation</th><th>Player</th></tr></thead><tbody><tr><td>0</td><td>pl POL</td><td>Robert Lewandowski</td></tr><tr><td>1</td><td>fr FRA</td><td>Kylian Mbapp&#233;</td></tr><tr><td>2</td><td>fr FRA</td><td>Karim Benzema</td></tr><tr><td>3</td><td>it ITA</td><td>Ciro Immobile</td></tr><tr><td>4</td><td>fr FRA</td><td>Wissam Ben Yedder</td></tr></tbody></table><style>\r\n",
       ".dni-code-hint {\r\n",
       "    font-style: italic;\r\n",
       "    overflow: hidden;\r\n",
       "    white-space: nowrap;\r\n",
       "}\r\n",
       ".dni-treeview {\r\n",
       "    white-space: nowrap;\r\n",
       "}\r\n",
       ".dni-treeview td {\r\n",
       "    vertical-align: top;\r\n",
       "    text-align: start;\r\n",
       "}\r\n",
       "details.dni-treeview {\r\n",
       "    padding-left: 1em;\r\n",
       "}\r\n",
       "table td {\r\n",
       "    text-align: start;\r\n",
       "}\r\n",
       "table tr { \r\n",
       "    vertical-align: top; \r\n",
       "    margin: 0em 0px;\r\n",
       "}\r\n",
       "table tr td pre \r\n",
       "{ \r\n",
       "    vertical-align: top !important; \r\n",
       "    margin: 0em 0px !important;\r\n",
       "} \r\n",
       "table th {\r\n",
       "    text-align: start;\r\n",
       "}\r\n",
       "</style>"
      ]
     },
     "metadata": {},
     "output_type": "display_data"
    }
   ],
   "source": [
    "playerStatsTable\n",
    "|> List.map(fun x -> \n",
    "    {| Player = x.Player\n",
    "       Nation = x.Nation |})\n",
    "|> List.truncate 5 //just to observe the first 5 rows, not a part of the exercise.\n"
   ]
  },
  {
   "cell_type": "markdown",
   "metadata": {
    "dotnet_interactive": {
     "language": "fsharp"
    },
    "polyglot_notebook": {
     "kernelName": "fsharp"
    }
   },
   "source": [
    "* Transform each element of the `playerStatsTable` List into an anonymous record with a `Player` field that is a `string` and a `Team` field that is a `string`.\n",
    "\n",
    "<div style=\"padding-left: 40px;\">\n",
    "<p> \n",
    "<span>\n",
    "<details>\n",
    "<summary><p style=\"display:inline\">answer</p></summary>\n",
    "\n",
    "```\n",
    "val it: {| Player: string; Team: string |} list =\n",
    "  [{ Player = \"Robert Lewandowski\"\n",
    "     Team = \"Bayern Munich\" }; { Player = \"Kylian Mbappé\"\n",
    "                                 Team = \"Paris S-G\" };\n",
    "   { Player = \"Karim Benzema\"\n",
    "     Team = \"Real Madrid\" }; { Player = \"Ciro Immobile\"\n",
    "                               Team = \"Lazio\" };\n",
    "   { Player = \"Wissam Ben Yedder\"\n",
    "     Team = \"Monaco\" }]\n",
    "```\n",
    "\n",
    "</details>\n",
    "</span>\n",
    "</p>\n",
    "</div>\n",
    "\n"
   ]
  },
  {
   "cell_type": "code",
   "execution_count": 20,
   "metadata": {
    "dotnet_interactive": {
     "language": "fsharp"
    },
    "polyglot_notebook": {
     "kernelName": "fsharp"
    },
    "vscode": {
     "languageId": "polyglot-notebook"
    }
   },
   "outputs": [
    {
     "data": {
      "text/html": [
       "<table><thead><tr><th><i>index</i></th><th>Player</th><th>Team</th></tr></thead><tbody><tr><td>0</td><td>Robert Lewandowski</td><td>Bayern Munich</td></tr><tr><td>1</td><td>Kylian Mbapp&#233;</td><td>Paris S-G</td></tr><tr><td>2</td><td>Karim Benzema</td><td>Real Madrid</td></tr><tr><td>3</td><td>Ciro Immobile</td><td>Lazio</td></tr><tr><td>4</td><td>Wissam Ben Yedder</td><td>Monaco</td></tr></tbody></table><style>\r\n",
       ".dni-code-hint {\r\n",
       "    font-style: italic;\r\n",
       "    overflow: hidden;\r\n",
       "    white-space: nowrap;\r\n",
       "}\r\n",
       ".dni-treeview {\r\n",
       "    white-space: nowrap;\r\n",
       "}\r\n",
       ".dni-treeview td {\r\n",
       "    vertical-align: top;\r\n",
       "    text-align: start;\r\n",
       "}\r\n",
       "details.dni-treeview {\r\n",
       "    padding-left: 1em;\r\n",
       "}\r\n",
       "table td {\r\n",
       "    text-align: start;\r\n",
       "}\r\n",
       "table tr { \r\n",
       "    vertical-align: top; \r\n",
       "    margin: 0em 0px;\r\n",
       "}\r\n",
       "table tr td pre \r\n",
       "{ \r\n",
       "    vertical-align: top !important; \r\n",
       "    margin: 0em 0px !important;\r\n",
       "} \r\n",
       "table th {\r\n",
       "    text-align: start;\r\n",
       "}\r\n",
       "</style>"
      ]
     },
     "metadata": {},
     "output_type": "display_data"
    }
   ],
   "source": [
    "// write your code here, see website for solution.\n",
    "playerStatsTable\n",
    "|> List.map(fun x -> \n",
    "    {| Player = x.Player\n",
    "       Team = x.Team |})\n",
    "|> List.truncate 5"
   ]
  },
  {
   "cell_type": "markdown",
   "metadata": {
    "dotnet_interactive": {
     "language": "fsharp"
    },
    "polyglot_notebook": {
     "kernelName": "fsharp"
    }
   },
   "source": [
    "* Transform each element of the `playerStatsTable` List into an anonymous record with a `Player` field that is a `string` and a `League` field that is a `string`.\n",
    "\n",
    "<div style=\"padding-left: 40px;\">\n",
    "<p> \n",
    "<span>\n",
    "<details>\n",
    "<summary><p style=\"display:inline\">answer</p></summary>\n",
    "\n",
    "```\n",
    "val it: {| League: string; Player: string |} list =\n",
    "  [{ League = \"deBundesliga\"\n",
    "     Player = \"Robert Lewandowski\" }; { League = \"frLigue 1\"\n",
    "                                        Player = \"Kylian Mbappé\" };\n",
    "   { League = \"esLa Liga\"\n",
    "     Player = \"Karim Benzema\" }; { League = \"itSerie A\"\n",
    "                                   Player = \"Ciro Immobile\" };\n",
    "   { League = \"frLigue 1\"\n",
    "     Player = \"Wissam Ben Yedder\" }]\n",
    "```\n",
    "\n",
    "</details>\n",
    "</span>\n",
    "</p>\n",
    "</div>\n",
    "\n"
   ]
  },
  {
   "cell_type": "code",
   "execution_count": 21,
   "metadata": {
    "dotnet_interactive": {
     "language": "fsharp"
    },
    "polyglot_notebook": {
     "kernelName": "fsharp"
    },
    "vscode": {
     "languageId": "polyglot-notebook"
    }
   },
   "outputs": [
    {
     "data": {
      "text/html": [
       "<table><thead><tr><th><i>index</i></th><th>League</th><th>Player</th></tr></thead><tbody><tr><td>0</td><td>deBundesliga</td><td>Robert Lewandowski</td></tr><tr><td>1</td><td>frLigue 1</td><td>Kylian Mbapp&#233;</td></tr><tr><td>2</td><td>esLa Liga</td><td>Karim Benzema</td></tr><tr><td>3</td><td>itSerie A</td><td>Ciro Immobile</td></tr><tr><td>4</td><td>frLigue 1</td><td>Wissam Ben Yedder</td></tr></tbody></table><style>\r\n",
       ".dni-code-hint {\r\n",
       "    font-style: italic;\r\n",
       "    overflow: hidden;\r\n",
       "    white-space: nowrap;\r\n",
       "}\r\n",
       ".dni-treeview {\r\n",
       "    white-space: nowrap;\r\n",
       "}\r\n",
       ".dni-treeview td {\r\n",
       "    vertical-align: top;\r\n",
       "    text-align: start;\r\n",
       "}\r\n",
       "details.dni-treeview {\r\n",
       "    padding-left: 1em;\r\n",
       "}\r\n",
       "table td {\r\n",
       "    text-align: start;\r\n",
       "}\r\n",
       "table tr { \r\n",
       "    vertical-align: top; \r\n",
       "    margin: 0em 0px;\r\n",
       "}\r\n",
       "table tr td pre \r\n",
       "{ \r\n",
       "    vertical-align: top !important; \r\n",
       "    margin: 0em 0px !important;\r\n",
       "} \r\n",
       "table th {\r\n",
       "    text-align: start;\r\n",
       "}\r\n",
       "</style>"
      ]
     },
     "metadata": {},
     "output_type": "display_data"
    }
   ],
   "source": [
    "// write your code here, see website for solution.\n",
    "playerStatsTable\n",
    "|> List.map(fun x -> \n",
    "    {| Player = x.Player\n",
    "       League = x.League |})\n",
    "|> List.truncate 5"
   ]
  },
  {
   "cell_type": "markdown",
   "metadata": {
    "dotnet_interactive": {
     "language": "fsharp"
    },
    "polyglot_notebook": {
     "kernelName": "fsharp"
    }
   },
   "source": [
    "* Transform each element of the `playerStatsTable` List into an anonymous record with a `Player` field that is a `string` and a `Age` field that is a integer(`int`).\n",
    "\n",
    "<div style=\"padding-left: 40px;\">\n",
    "<p> \n",
    "<span>\n",
    "<details>\n",
    "<summary><p style=\"display:inline\">answer</p></summary>\n",
    "\n",
    "```\n",
    "val it: {| Age: int; Player: string |} list =\n",
    "  [{ Age = 32\n",
    "     Player = \"Robert Lewandowski\" }; { Age = 22\n",
    "                                        Player = \"Kylian Mbappé\" };\n",
    "   { Age = 33\n",
    "     Player = \"Karim Benzema\" }; { Age = 31\n",
    "                                   Player = \"Ciro Immobile\" };\n",
    "   { Age = 30\n",
    "     Player = \"Wissam Ben Yedder\" }]\n",
    "```\n",
    "\n",
    "</details>\n",
    "</span>\n",
    "</p>\n",
    "</div>\n",
    "\n"
   ]
  },
  {
   "cell_type": "code",
   "execution_count": 22,
   "metadata": {
    "dotnet_interactive": {
     "language": "fsharp"
    },
    "polyglot_notebook": {
     "kernelName": "fsharp"
    },
    "vscode": {
     "languageId": "polyglot-notebook"
    }
   },
   "outputs": [
    {
     "data": {
      "text/html": [
       "<table><thead><tr><th><i>index</i></th><th>Age</th><th>Player</th></tr></thead><tbody><tr><td>0</td><td><div class=\"dni-plaintext\"><pre>32</pre></div></td><td>Robert Lewandowski</td></tr><tr><td>1</td><td><div class=\"dni-plaintext\"><pre>22</pre></div></td><td>Kylian Mbapp&#233;</td></tr><tr><td>2</td><td><div class=\"dni-plaintext\"><pre>33</pre></div></td><td>Karim Benzema</td></tr><tr><td>3</td><td><div class=\"dni-plaintext\"><pre>31</pre></div></td><td>Ciro Immobile</td></tr><tr><td>4</td><td><div class=\"dni-plaintext\"><pre>30</pre></div></td><td>Wissam Ben Yedder</td></tr></tbody></table><style>\r\n",
       ".dni-code-hint {\r\n",
       "    font-style: italic;\r\n",
       "    overflow: hidden;\r\n",
       "    white-space: nowrap;\r\n",
       "}\r\n",
       ".dni-treeview {\r\n",
       "    white-space: nowrap;\r\n",
       "}\r\n",
       ".dni-treeview td {\r\n",
       "    vertical-align: top;\r\n",
       "    text-align: start;\r\n",
       "}\r\n",
       "details.dni-treeview {\r\n",
       "    padding-left: 1em;\r\n",
       "}\r\n",
       "table td {\r\n",
       "    text-align: start;\r\n",
       "}\r\n",
       "table tr { \r\n",
       "    vertical-align: top; \r\n",
       "    margin: 0em 0px;\r\n",
       "}\r\n",
       "table tr td pre \r\n",
       "{ \r\n",
       "    vertical-align: top !important; \r\n",
       "    margin: 0em 0px !important;\r\n",
       "} \r\n",
       "table th {\r\n",
       "    text-align: start;\r\n",
       "}\r\n",
       "</style>"
      ]
     },
     "metadata": {},
     "output_type": "display_data"
    }
   ],
   "source": [
    "// write your code here, see website for solution.\n",
    "playerStatsTable\n",
    "|> List.map(fun x -> \n",
    "    {| Player = x.Player\n",
    "       Age = x.Age |})\n",
    "|> List.truncate 5"
   ]
  },
  {
   "cell_type": "markdown",
   "metadata": {
    "dotnet_interactive": {
     "language": "fsharp"
    },
    "polyglot_notebook": {
     "kernelName": "fsharp"
    }
   },
   "source": [
    "* Transform each element of the `playerStatsTable` List into an anonymous record with a `Player` field that is a `string` and a `MatchesPlayed` field that is a integer(`int`).\n",
    "\n",
    "<div style=\"padding-left: 40px;\">\n",
    "<p> \n",
    "<span>\n",
    "<details>\n",
    "<summary><p style=\"display:inline\">answer</p></summary>\n",
    "\n",
    "```\n",
    "val it: {| MatchesPlayed: int; Player: string |} list =\n",
    "  [{ MatchesPlayed = 34\n",
    "     Player = \"Robert Lewandowski\" }; { MatchesPlayed = 35\n",
    "                                        Player = \"Kylian Mbappé\" };\n",
    "   { MatchesPlayed = 32\n",
    "     Player = \"Karim Benzema\" }; { MatchesPlayed = 31\n",
    "                                   Player = \"Ciro Immobile\" };\n",
    "   { MatchesPlayed = 37\n",
    "     Player = \"Wissam Ben Yedder\" }]\n",
    "```\n",
    "\n",
    "</details>\n",
    "</span>\n",
    "</p>\n",
    "</div>\n",
    "\n"
   ]
  },
  {
   "cell_type": "code",
   "execution_count": 23,
   "metadata": {
    "dotnet_interactive": {
     "language": "fsharp"
    },
    "polyglot_notebook": {
     "kernelName": "fsharp"
    },
    "vscode": {
     "languageId": "polyglot-notebook"
    }
   },
   "outputs": [
    {
     "data": {
      "text/html": [
       "<table><thead><tr><th><i>index</i></th><th>MatchesPlayed</th><th>Player</th></tr></thead><tbody><tr><td>0</td><td><div class=\"dni-plaintext\"><pre>34</pre></div></td><td>Robert Lewandowski</td></tr><tr><td>1</td><td><div class=\"dni-plaintext\"><pre>35</pre></div></td><td>Kylian Mbapp&#233;</td></tr><tr><td>2</td><td><div class=\"dni-plaintext\"><pre>32</pre></div></td><td>Karim Benzema</td></tr><tr><td>3</td><td><div class=\"dni-plaintext\"><pre>31</pre></div></td><td>Ciro Immobile</td></tr><tr><td>4</td><td><div class=\"dni-plaintext\"><pre>37</pre></div></td><td>Wissam Ben Yedder</td></tr></tbody></table><style>\r\n",
       ".dni-code-hint {\r\n",
       "    font-style: italic;\r\n",
       "    overflow: hidden;\r\n",
       "    white-space: nowrap;\r\n",
       "}\r\n",
       ".dni-treeview {\r\n",
       "    white-space: nowrap;\r\n",
       "}\r\n",
       ".dni-treeview td {\r\n",
       "    vertical-align: top;\r\n",
       "    text-align: start;\r\n",
       "}\r\n",
       "details.dni-treeview {\r\n",
       "    padding-left: 1em;\r\n",
       "}\r\n",
       "table td {\r\n",
       "    text-align: start;\r\n",
       "}\r\n",
       "table tr { \r\n",
       "    vertical-align: top; \r\n",
       "    margin: 0em 0px;\r\n",
       "}\r\n",
       "table tr td pre \r\n",
       "{ \r\n",
       "    vertical-align: top !important; \r\n",
       "    margin: 0em 0px !important;\r\n",
       "} \r\n",
       "table th {\r\n",
       "    text-align: start;\r\n",
       "}\r\n",
       "</style>"
      ]
     },
     "metadata": {},
     "output_type": "display_data"
    }
   ],
   "source": [
    "// write your code here, see website for solution.\n",
    "playerStatsTable\n",
    "|> List.map(fun x -> \n",
    "    {| Player = x.Player\n",
    "       MatchesPlayed = x.MatchesPlayed |})\n",
    "|> List.truncate 5"
   ]
  },
  {
   "cell_type": "markdown",
   "metadata": {
    "dotnet_interactive": {
     "language": "fsharp"
    },
    "polyglot_notebook": {
     "kernelName": "fsharp"
    }
   },
   "source": [
    "* Transform each element of the `playerStatsTable` List into an anonymous record with a `Player` field that is a `string` and a `GoalsScored` field that is a integer(`int`).\n",
    "\n",
    "<div style=\"padding-left: 40px;\">\n",
    "<p> \n",
    "<span>\n",
    "<details>\n",
    "<summary><p style=\"display:inline\">answer</p></summary>\n",
    "\n",
    "```\n",
    "val it: {| GoalsScored: int; Player: string |} list =\n",
    "  [{ GoalsScored = 35\n",
    "     Player = \"Robert Lewandowski\" }; { GoalsScored = 28\n",
    "                                        Player = \"Kylian Mbappé\" };\n",
    "   { GoalsScored = 27\n",
    "     Player = \"Karim Benzema\" }; { GoalsScored = 27\n",
    "                                   Player = \"Ciro Immobile\" };\n",
    "   { GoalsScored = 25\n",
    "     Player = \"Wissam Ben Yedder\" }]\n",
    "```\n",
    "\n",
    "</details>\n",
    "</span>\n",
    "</p>\n",
    "</div>\n",
    "\n"
   ]
  },
  {
   "cell_type": "code",
   "execution_count": 24,
   "metadata": {
    "dotnet_interactive": {
     "language": "fsharp"
    },
    "polyglot_notebook": {
     "kernelName": "fsharp"
    },
    "vscode": {
     "languageId": "polyglot-notebook"
    }
   },
   "outputs": [
    {
     "data": {
      "text/html": [
       "<table><thead><tr><th><i>index</i></th><th>GoalsScored</th><th>Player</th></tr></thead><tbody><tr><td>0</td><td><div class=\"dni-plaintext\"><pre>35</pre></div></td><td>Robert Lewandowski</td></tr><tr><td>1</td><td><div class=\"dni-plaintext\"><pre>28</pre></div></td><td>Kylian Mbapp&#233;</td></tr><tr><td>2</td><td><div class=\"dni-plaintext\"><pre>27</pre></div></td><td>Karim Benzema</td></tr><tr><td>3</td><td><div class=\"dni-plaintext\"><pre>27</pre></div></td><td>Ciro Immobile</td></tr><tr><td>4</td><td><div class=\"dni-plaintext\"><pre>25</pre></div></td><td>Wissam Ben Yedder</td></tr></tbody></table><style>\r\n",
       ".dni-code-hint {\r\n",
       "    font-style: italic;\r\n",
       "    overflow: hidden;\r\n",
       "    white-space: nowrap;\r\n",
       "}\r\n",
       ".dni-treeview {\r\n",
       "    white-space: nowrap;\r\n",
       "}\r\n",
       ".dni-treeview td {\r\n",
       "    vertical-align: top;\r\n",
       "    text-align: start;\r\n",
       "}\r\n",
       "details.dni-treeview {\r\n",
       "    padding-left: 1em;\r\n",
       "}\r\n",
       "table td {\r\n",
       "    text-align: start;\r\n",
       "}\r\n",
       "table tr { \r\n",
       "    vertical-align: top; \r\n",
       "    margin: 0em 0px;\r\n",
       "}\r\n",
       "table tr td pre \r\n",
       "{ \r\n",
       "    vertical-align: top !important; \r\n",
       "    margin: 0em 0px !important;\r\n",
       "} \r\n",
       "table th {\r\n",
       "    text-align: start;\r\n",
       "}\r\n",
       "</style>"
      ]
     },
     "metadata": {},
     "output_type": "display_data"
    }
   ],
   "source": [
    "// write your code here, see website for solution.\n",
    "playerStatsTable\n",
    "|> List.map(fun x -> \n",
    "    {| Player = x.Player\n",
    "       GoalsScored = x.GoalsScored |})\n",
    "|> List.truncate 5"
   ]
  },
  {
   "cell_type": "markdown",
   "metadata": {
    "dotnet_interactive": {
     "language": "fsharp"
    },
    "polyglot_notebook": {
     "kernelName": "fsharp"
    }
   },
   "source": [
    "Now that you are used to work with `List.map` to organize the data into tuples, records and anonymous records.\n",
    "Let's try to do it while applying some simple transformations as sum, multiplication, type transformations and so on.\n",
    "\n",
    "<h3 class=numbered><a name=Transformations-using-tuples class=anchor href=#Transformations-using-tuples>Transformations using tuples</a></h3>\n",
    "\n",
    "Example: map the `playerStatsTable` to a tuple of player and age, but add 1 to age. ( `Player`, `Age + 1`)\n",
    "\n"
   ]
  },
  {
   "cell_type": "code",
   "execution_count": 25,
   "metadata": {
    "dotnet_interactive": {
     "language": "fsharp"
    },
    "polyglot_notebook": {
     "kernelName": "fsharp"
    },
    "vscode": {
     "languageId": "polyglot-notebook"
    }
   },
   "outputs": [
    {
     "data": {
      "text/html": [
       "<table><thead><tr><th><i>index</i></th><th>value</th></tr></thead><tbody><tr><td>0</td><td><div class=\"dni-plaintext\"><pre>33</pre></div></td></tr><tr><td>1</td><td><div class=\"dni-plaintext\"><pre>23</pre></div></td></tr><tr><td>2</td><td><div class=\"dni-plaintext\"><pre>34</pre></div></td></tr><tr><td>3</td><td><div class=\"dni-plaintext\"><pre>32</pre></div></td></tr><tr><td>4</td><td><div class=\"dni-plaintext\"><pre>31</pre></div></td></tr></tbody></table><style>\r\n",
       ".dni-code-hint {\r\n",
       "    font-style: italic;\r\n",
       "    overflow: hidden;\r\n",
       "    white-space: nowrap;\r\n",
       "}\r\n",
       ".dni-treeview {\r\n",
       "    white-space: nowrap;\r\n",
       "}\r\n",
       ".dni-treeview td {\r\n",
       "    vertical-align: top;\r\n",
       "    text-align: start;\r\n",
       "}\r\n",
       "details.dni-treeview {\r\n",
       "    padding-left: 1em;\r\n",
       "}\r\n",
       "table td {\r\n",
       "    text-align: start;\r\n",
       "}\r\n",
       "table tr { \r\n",
       "    vertical-align: top; \r\n",
       "    margin: 0em 0px;\r\n",
       "}\r\n",
       "table tr td pre \r\n",
       "{ \r\n",
       "    vertical-align: top !important; \r\n",
       "    margin: 0em 0px !important;\r\n",
       "} \r\n",
       "table th {\r\n",
       "    text-align: start;\r\n",
       "}\r\n",
       "</style>"
      ]
     },
     "metadata": {},
     "output_type": "display_data"
    }
   ],
   "source": [
    "playerStatsTable\n",
    "|> List.map(fun x -> x.Age + 1)\n",
    "|> List.truncate 5 //just to observe the first 5 rows, not a part of the exercise.\n"
   ]
  },
  {
   "cell_type": "markdown",
   "metadata": {
    "dotnet_interactive": {
     "language": "fsharp"
    },
    "polyglot_notebook": {
     "kernelName": "fsharp"
    }
   },
   "source": [
    "When to use integers or floats/decimals:\n",
    "\n",
    "0 Use integers if the results of the calculations should be integers (1, 2, 3, 4, ...).\n",
    "\n",
    "1 Use floats or decimals if the results of the calculations may be floats or decimals (1.1, 2.1324, ...).\n",
    "\n",
    "* map the `playerStatsTable` to a tuple of player and goals scored, but multiply goals scored by 10. ( `Player`, `GoalsScored * 10`)\n",
    "\n",
    "<div style=\"padding-left: 40px;\">\n",
    "<p> \n",
    "<span>\n",
    "<details>\n",
    "<summary><p style=\"display:inline\">answer</p></summary>\n",
    "\n",
    "```\n",
    "val it: (string * int) list =\n",
    "  [(\"Robert Lewandowski\", 350); (\"Kylian Mbappé\", 280); (\"Karim Benzema\", 270);\n",
    "   (\"Ciro Immobile\", 270); (\"Wissam Ben Yedder\", 250)]\n",
    "```\n",
    "\n",
    "</details>\n",
    "</span>\n",
    "</p>\n",
    "</div>\n",
    "\n"
   ]
  },
  {
   "cell_type": "code",
   "execution_count": 26,
   "metadata": {
    "dotnet_interactive": {
     "language": "fsharp"
    },
    "polyglot_notebook": {
     "kernelName": "fsharp"
    },
    "vscode": {
     "languageId": "polyglot-notebook"
    }
   },
   "outputs": [
    {
     "data": {
      "text/html": [
       "<table><thead><tr><th><i>index</i></th><th>GoalsScored</th><th>Player</th></tr></thead><tbody><tr><td>0</td><td><div class=\"dni-plaintext\"><pre>350</pre></div></td><td>Robert Lewandowski</td></tr><tr><td>1</td><td><div class=\"dni-plaintext\"><pre>280</pre></div></td><td>Kylian Mbapp&#233;</td></tr><tr><td>2</td><td><div class=\"dni-plaintext\"><pre>270</pre></div></td><td>Karim Benzema</td></tr><tr><td>3</td><td><div class=\"dni-plaintext\"><pre>270</pre></div></td><td>Ciro Immobile</td></tr><tr><td>4</td><td><div class=\"dni-plaintext\"><pre>250</pre></div></td><td>Wissam Ben Yedder</td></tr></tbody></table><style>\r\n",
       ".dni-code-hint {\r\n",
       "    font-style: italic;\r\n",
       "    overflow: hidden;\r\n",
       "    white-space: nowrap;\r\n",
       "}\r\n",
       ".dni-treeview {\r\n",
       "    white-space: nowrap;\r\n",
       "}\r\n",
       ".dni-treeview td {\r\n",
       "    vertical-align: top;\r\n",
       "    text-align: start;\r\n",
       "}\r\n",
       "details.dni-treeview {\r\n",
       "    padding-left: 1em;\r\n",
       "}\r\n",
       "table td {\r\n",
       "    text-align: start;\r\n",
       "}\r\n",
       "table tr { \r\n",
       "    vertical-align: top; \r\n",
       "    margin: 0em 0px;\r\n",
       "}\r\n",
       "table tr td pre \r\n",
       "{ \r\n",
       "    vertical-align: top !important; \r\n",
       "    margin: 0em 0px !important;\r\n",
       "} \r\n",
       "table th {\r\n",
       "    text-align: start;\r\n",
       "}\r\n",
       "</style>"
      ]
     },
     "metadata": {},
     "output_type": "display_data"
    }
   ],
   "source": [
    "// write your code here, see website for solution.\n",
    "playerStatsTable\n",
    "|> List.map(fun x -> \n",
    "    {|  Player = x.Player\n",
    "        GoalsScored = x.GoalsScored * 10|})\n",
    "|> List.truncate 5"
   ]
  },
  {
   "cell_type": "markdown",
   "metadata": {
    "dotnet_interactive": {
     "language": "fsharp"
    },
    "polyglot_notebook": {
     "kernelName": "fsharp"
    }
   },
   "source": [
    "* map the `playerStatsTable` to a tuple of player and goals scored, but divide GoalsScored by 2. ( `Player`, `GoalsScored / 2`)\n",
    "\n",
    "<div style=\"padding-left: 40px;\">\n",
    "<p> \n",
    "<span>\n",
    "<details>\n",
    "<summary><p style=\"display:inline\">answer</p></summary>\n",
    "\n",
    "```\n",
    "val it: (string * int) list =\n",
    "  [(\"Robert Lewandowski\", 17); (\"Kylian Mbappé\", 14); (\"Karim Benzema\", 13);\n",
    "   (\"Ciro Immobile\", 13); (\"Wissam Ben Yedder\", 12)]\n",
    "```\n",
    "\n",
    "</details>\n",
    "</span>\n",
    "</p>\n",
    "</div>\n",
    "\n"
   ]
  },
  {
   "cell_type": "code",
   "execution_count": 27,
   "metadata": {
    "dotnet_interactive": {
     "language": "fsharp"
    },
    "polyglot_notebook": {
     "kernelName": "fsharp"
    },
    "vscode": {
     "languageId": "polyglot-notebook"
    }
   },
   "outputs": [
    {
     "data": {
      "text/html": [
       "<table><thead><tr><th><i>index</i></th><th>GoalsScored</th><th>Player</th></tr></thead><tbody><tr><td>0</td><td><div class=\"dni-plaintext\"><pre>17</pre></div></td><td>Robert Lewandowski</td></tr><tr><td>1</td><td><div class=\"dni-plaintext\"><pre>14</pre></div></td><td>Kylian Mbapp&#233;</td></tr><tr><td>2</td><td><div class=\"dni-plaintext\"><pre>13</pre></div></td><td>Karim Benzema</td></tr><tr><td>3</td><td><div class=\"dni-plaintext\"><pre>13</pre></div></td><td>Ciro Immobile</td></tr><tr><td>4</td><td><div class=\"dni-plaintext\"><pre>12</pre></div></td><td>Wissam Ben Yedder</td></tr></tbody></table><style>\r\n",
       ".dni-code-hint {\r\n",
       "    font-style: italic;\r\n",
       "    overflow: hidden;\r\n",
       "    white-space: nowrap;\r\n",
       "}\r\n",
       ".dni-treeview {\r\n",
       "    white-space: nowrap;\r\n",
       "}\r\n",
       ".dni-treeview td {\r\n",
       "    vertical-align: top;\r\n",
       "    text-align: start;\r\n",
       "}\r\n",
       "details.dni-treeview {\r\n",
       "    padding-left: 1em;\r\n",
       "}\r\n",
       "table td {\r\n",
       "    text-align: start;\r\n",
       "}\r\n",
       "table tr { \r\n",
       "    vertical-align: top; \r\n",
       "    margin: 0em 0px;\r\n",
       "}\r\n",
       "table tr td pre \r\n",
       "{ \r\n",
       "    vertical-align: top !important; \r\n",
       "    margin: 0em 0px !important;\r\n",
       "} \r\n",
       "table th {\r\n",
       "    text-align: start;\r\n",
       "}\r\n",
       "</style>"
      ]
     },
     "metadata": {},
     "output_type": "display_data"
    }
   ],
   "source": [
    "// write your code here, see website for solution.\n",
    "playerStatsTable\n",
    "|> List.map(fun x -> \n",
    "    {|  Player = x.Player\n",
    "        GoalsScored = x.GoalsScored / 2|})\n",
    "|> List.truncate 5"
   ]
  },
  {
   "cell_type": "markdown",
   "metadata": {
    "dotnet_interactive": {
     "language": "fsharp"
    },
    "polyglot_notebook": {
     "kernelName": "fsharp"
    }
   },
   "source": [
    "In this case, look how dividing using integers rounds the results to the nearest integers.\n",
    "If the results are decimals you might prefer to get exact results.\n",
    "For that you can use floats or decimals types.\n",
    "In order to convert a variable to float you have to use the syntax: `float variable`.\n",
    "\n",
    "Example: map the `playerStatsTable` to a tuple of player and age, but convert age to float. ( `Player`, `float Age`)\n",
    "\n"
   ]
  },
  {
   "cell_type": "code",
   "execution_count": 28,
   "metadata": {
    "dotnet_interactive": {
     "language": "fsharp"
    },
    "polyglot_notebook": {
     "kernelName": "fsharp"
    },
    "vscode": {
     "languageId": "polyglot-notebook"
    }
   },
   "outputs": [
    {
     "data": {
      "text/html": [
       "<table><thead><tr><th><i>index</i></th><th>Item1</th><th>Item2</th></tr></thead><tbody><tr><td>0</td><td>Robert Lewandowski</td><td><div class=\"dni-plaintext\"><pre>32</pre></div></td></tr><tr><td>1</td><td>Kylian Mbapp&#233;</td><td><div class=\"dni-plaintext\"><pre>22</pre></div></td></tr><tr><td>2</td><td>Karim Benzema</td><td><div class=\"dni-plaintext\"><pre>33</pre></div></td></tr><tr><td>3</td><td>Ciro Immobile</td><td><div class=\"dni-plaintext\"><pre>31</pre></div></td></tr><tr><td>4</td><td>Wissam Ben Yedder</td><td><div class=\"dni-plaintext\"><pre>30</pre></div></td></tr></tbody></table><style>\r\n",
       ".dni-code-hint {\r\n",
       "    font-style: italic;\r\n",
       "    overflow: hidden;\r\n",
       "    white-space: nowrap;\r\n",
       "}\r\n",
       ".dni-treeview {\r\n",
       "    white-space: nowrap;\r\n",
       "}\r\n",
       ".dni-treeview td {\r\n",
       "    vertical-align: top;\r\n",
       "    text-align: start;\r\n",
       "}\r\n",
       "details.dni-treeview {\r\n",
       "    padding-left: 1em;\r\n",
       "}\r\n",
       "table td {\r\n",
       "    text-align: start;\r\n",
       "}\r\n",
       "table tr { \r\n",
       "    vertical-align: top; \r\n",
       "    margin: 0em 0px;\r\n",
       "}\r\n",
       "table tr td pre \r\n",
       "{ \r\n",
       "    vertical-align: top !important; \r\n",
       "    margin: 0em 0px !important;\r\n",
       "} \r\n",
       "table th {\r\n",
       "    text-align: start;\r\n",
       "}\r\n",
       "</style>"
      ]
     },
     "metadata": {},
     "output_type": "display_data"
    }
   ],
   "source": [
    "playerStatsTable\n",
    "|> List.map(fun x -> x.Player, float x.Age) \n",
    "|> List.truncate 5 //just to observe the first 5 rows, not a part of the exercise.\n"
   ]
  },
  {
   "cell_type": "markdown",
   "metadata": {
    "dotnet_interactive": {
     "language": "fsharp"
    },
    "polyglot_notebook": {
     "kernelName": "fsharp"
    }
   },
   "source": [
    "* map the `playerStatsTable` to a tuple of player and goals scored, but convert goalsScored to float. ( `Player`, `float GoalsScored`)\n",
    "\n",
    "<div style=\"padding-left: 40px;\">\n",
    "<p> \n",
    "<span>\n",
    "<details>\n",
    "<summary><p style=\"display:inline\">answer</p></summary>\n",
    "\n",
    "```\n",
    "val it: (string * float) list =\n",
    "  [(\"Robert Lewandowski\", 35.0); (\"Kylian Mbappé\", 28.0);\n",
    "   (\"Karim Benzema\", 27.0); (\"Ciro Immobile\", 27.0);\n",
    "   (\"Wissam Ben Yedder\", 25.0)]\n",
    "```\n",
    "\n",
    "</details>\n",
    "</span>\n",
    "</p>\n",
    "</div>\n",
    "\n"
   ]
  },
  {
   "cell_type": "code",
   "execution_count": 33,
   "metadata": {
    "dotnet_interactive": {
     "language": "fsharp"
    },
    "polyglot_notebook": {
     "kernelName": "fsharp"
    },
    "vscode": {
     "languageId": "polyglot-notebook"
    }
   },
   "outputs": [
    {
     "data": {
      "text/html": [
       "<table><thead><tr><th><i>index</i></th><th>Item1</th><th>Item2</th></tr></thead><tbody><tr><td>0</td><td>Robert Lewandowski</td><td><div class=\"dni-plaintext\"><pre>35</pre></div></td></tr><tr><td>1</td><td>Kylian Mbapp&#233;</td><td><div class=\"dni-plaintext\"><pre>28</pre></div></td></tr><tr><td>2</td><td>Karim Benzema</td><td><div class=\"dni-plaintext\"><pre>27</pre></div></td></tr><tr><td>3</td><td>Ciro Immobile</td><td><div class=\"dni-plaintext\"><pre>27</pre></div></td></tr><tr><td>4</td><td>Wissam Ben Yedder</td><td><div class=\"dni-plaintext\"><pre>25</pre></div></td></tr></tbody></table><style>\r\n",
       ".dni-code-hint {\r\n",
       "    font-style: italic;\r\n",
       "    overflow: hidden;\r\n",
       "    white-space: nowrap;\r\n",
       "}\r\n",
       ".dni-treeview {\r\n",
       "    white-space: nowrap;\r\n",
       "}\r\n",
       ".dni-treeview td {\r\n",
       "    vertical-align: top;\r\n",
       "    text-align: start;\r\n",
       "}\r\n",
       "details.dni-treeview {\r\n",
       "    padding-left: 1em;\r\n",
       "}\r\n",
       "table td {\r\n",
       "    text-align: start;\r\n",
       "}\r\n",
       "table tr { \r\n",
       "    vertical-align: top; \r\n",
       "    margin: 0em 0px;\r\n",
       "}\r\n",
       "table tr td pre \r\n",
       "{ \r\n",
       "    vertical-align: top !important; \r\n",
       "    margin: 0em 0px !important;\r\n",
       "} \r\n",
       "table th {\r\n",
       "    text-align: start;\r\n",
       "}\r\n",
       "</style>"
      ]
     },
     "metadata": {},
     "output_type": "display_data"
    }
   ],
   "source": [
    "// write your code here, see website for solution.\n",
    "playerStatsTable\n",
    "|> List.map(fun x -> x.Player, float x.GoalsScored)\n",
    "|> List.truncate 5"
   ]
  },
  {
   "cell_type": "markdown",
   "metadata": {
    "dotnet_interactive": {
     "language": "fsharp"
    },
    "polyglot_notebook": {
     "kernelName": "fsharp"
    }
   },
   "source": [
    "* map the `playerStatsTable` to a tuple of player and goals scored, but divide goalsScored by 2.0. ( `Player`, `GoalsScored / 2.0`)\n",
    "Hint: convert goals scored to float and divide by 2.0 (you can't divide by 2 because if you perform math operations with different types, you'll get an error).\n",
    "\n",
    "<div style=\"padding-left: 40px;\">\n",
    "<p> \n",
    "<span>\n",
    "<details>\n",
    "<summary><p style=\"display:inline\">answer</p></summary>\n",
    "\n",
    "```\n",
    "val it: (string * int) list =\n",
    "  [(\"Robert Lewandowski\", 17); (\"Kylian Mbappé\", 14); (\"Karim Benzema\", 13);\n",
    "   (\"Ciro Immobile\", 13); (\"Wissam Ben Yedder\", 12)]\n",
    "```\n",
    "\n",
    "</details>\n",
    "</span>\n",
    "</p>\n",
    "</div>\n",
    "\n"
   ]
  },
  {
   "cell_type": "code",
   "execution_count": 35,
   "metadata": {
    "dotnet_interactive": {
     "language": "fsharp"
    },
    "polyglot_notebook": {
     "kernelName": "fsharp"
    },
    "vscode": {
     "languageId": "polyglot-notebook"
    }
   },
   "outputs": [
    {
     "data": {
      "text/html": [
       "<table><thead><tr><th><i>index</i></th><th>Item1</th><th>Item2</th></tr></thead><tbody><tr><td>0</td><td>Robert Lewandowski</td><td><div class=\"dni-plaintext\"><pre>17.5</pre></div></td></tr><tr><td>1</td><td>Kylian Mbapp&#233;</td><td><div class=\"dni-plaintext\"><pre>14</pre></div></td></tr><tr><td>2</td><td>Karim Benzema</td><td><div class=\"dni-plaintext\"><pre>13.5</pre></div></td></tr><tr><td>3</td><td>Ciro Immobile</td><td><div class=\"dni-plaintext\"><pre>13.5</pre></div></td></tr><tr><td>4</td><td>Wissam Ben Yedder</td><td><div class=\"dni-plaintext\"><pre>12.5</pre></div></td></tr></tbody></table><style>\r\n",
       ".dni-code-hint {\r\n",
       "    font-style: italic;\r\n",
       "    overflow: hidden;\r\n",
       "    white-space: nowrap;\r\n",
       "}\r\n",
       ".dni-treeview {\r\n",
       "    white-space: nowrap;\r\n",
       "}\r\n",
       ".dni-treeview td {\r\n",
       "    vertical-align: top;\r\n",
       "    text-align: start;\r\n",
       "}\r\n",
       "details.dni-treeview {\r\n",
       "    padding-left: 1em;\r\n",
       "}\r\n",
       "table td {\r\n",
       "    text-align: start;\r\n",
       "}\r\n",
       "table tr { \r\n",
       "    vertical-align: top; \r\n",
       "    margin: 0em 0px;\r\n",
       "}\r\n",
       "table tr td pre \r\n",
       "{ \r\n",
       "    vertical-align: top !important; \r\n",
       "    margin: 0em 0px !important;\r\n",
       "} \r\n",
       "table th {\r\n",
       "    text-align: start;\r\n",
       "}\r\n",
       "</style>"
      ]
     },
     "metadata": {},
     "output_type": "display_data"
    }
   ],
   "source": [
    "// write your code here, see website for solution.\n",
    "playerStatsTable\n",
    "|> List.map(fun x -> x.Player, float x.GoalsScored / 2.0)\n",
    "|> List.truncate 5"
   ]
  },
  {
   "cell_type": "markdown",
   "metadata": {
    "dotnet_interactive": {
     "language": "fsharp"
    },
    "polyglot_notebook": {
     "kernelName": "fsharp"
    }
   },
   "source": [
    "Example: map the `playerStatsTable` to a record of player and age, but add 1 to age. ( `Player`, `Age + 1`)\n",
    "\n"
   ]
  },
  {
   "cell_type": "code",
   "execution_count": 36,
   "metadata": {
    "dotnet_interactive": {
     "language": "fsharp"
    },
    "polyglot_notebook": {
     "kernelName": "fsharp"
    },
    "vscode": {
     "languageId": "polyglot-notebook"
    }
   },
   "outputs": [
    {
     "data": {
      "text/html": [
       "<table><thead><tr><th><i>index</i></th><th>Player</th><th>AgePlus1Int</th></tr></thead><tbody><tr><td>0</td><td>Robert Lewandowski</td><td><div class=\"dni-plaintext\"><pre>33</pre></div></td></tr><tr><td>1</td><td>Kylian Mbapp&#233;</td><td><div class=\"dni-plaintext\"><pre>23</pre></div></td></tr><tr><td>2</td><td>Karim Benzema</td><td><div class=\"dni-plaintext\"><pre>34</pre></div></td></tr><tr><td>3</td><td>Ciro Immobile</td><td><div class=\"dni-plaintext\"><pre>32</pre></div></td></tr><tr><td>4</td><td>Wissam Ben Yedder</td><td><div class=\"dni-plaintext\"><pre>31</pre></div></td></tr></tbody></table><style>\r\n",
       ".dni-code-hint {\r\n",
       "    font-style: italic;\r\n",
       "    overflow: hidden;\r\n",
       "    white-space: nowrap;\r\n",
       "}\r\n",
       ".dni-treeview {\r\n",
       "    white-space: nowrap;\r\n",
       "}\r\n",
       ".dni-treeview td {\r\n",
       "    vertical-align: top;\r\n",
       "    text-align: start;\r\n",
       "}\r\n",
       "details.dni-treeview {\r\n",
       "    padding-left: 1em;\r\n",
       "}\r\n",
       "table td {\r\n",
       "    text-align: start;\r\n",
       "}\r\n",
       "table tr { \r\n",
       "    vertical-align: top; \r\n",
       "    margin: 0em 0px;\r\n",
       "}\r\n",
       "table tr td pre \r\n",
       "{ \r\n",
       "    vertical-align: top !important; \r\n",
       "    margin: 0em 0px !important;\r\n",
       "} \r\n",
       "table th {\r\n",
       "    text-align: start;\r\n",
       "}\r\n",
       "</style>"
      ]
     },
     "metadata": {},
     "output_type": "display_data"
    }
   ],
   "source": [
    "type PlayerAndAgePlus1Int =\n",
    "    { Player : string\n",
    "      AgePlus1Int : int }\n",
    "\n",
    "playerStatsTable\n",
    "|> List.map(fun x ->\n",
    "    { Player = x.Player \n",
    "      AgePlus1Int = x.Age + 1})\n",
    "|> List.truncate 5 //just to observe the first 5 rows, not a part of the exercise.\n"
   ]
  },
  {
   "cell_type": "markdown",
   "metadata": {
    "dotnet_interactive": {
     "language": "fsharp"
    },
    "polyglot_notebook": {
     "kernelName": "fsharp"
    }
   },
   "source": [
    "* map the `playerStatsTable` to a record of player and goals scored, but multiply goals scored by 10. ( `Player`, `GoalsScored * 10`)\n",
    "Hint: You have to create a new type record.\n",
    "\n",
    "<div style=\"padding-left: 40px;\">\n",
    "<p> \n",
    "<span>\n",
    "<details>\n",
    "<summary><p style=\"display:inline\">answer</p></summary>\n",
    "\n",
    "```\n",
    "type PlayerAndGls =\n",
    "  {\n",
    "    Player: string\n",
    "    GoalsScored: int\n",
    "  }\n",
    "val it: PlayerAndGls list =\n",
    "  [{ Player = \"Robert Lewandowski\"\n",
    "     GoalsScored = 350 }; { Player = \"Kylian Mbappé\"\n",
    "                            GoalsScored = 280 }; { Player = \"Karim Benzema\"\n",
    "                                                   GoalsScored = 270 };\n",
    "   { Player = \"Ciro Immobile\"\n",
    "     GoalsScored = 270 }; { Player = \"Wissam Ben Yedder\"\n",
    "                            GoalsScored = 250 }]\n",
    "```\n",
    "\n",
    "</details>\n",
    "</span>\n",
    "</p>\n",
    "</div>\n",
    "\n"
   ]
  },
  {
   "cell_type": "code",
   "execution_count": 40,
   "metadata": {
    "dotnet_interactive": {
     "language": "fsharp"
    },
    "polyglot_notebook": {
     "kernelName": "fsharp"
    },
    "vscode": {
     "languageId": "polyglot-notebook"
    }
   },
   "outputs": [
    {
     "data": {
      "text/html": [
       "<table><thead><tr><th><i>index</i></th><th>Player</th><th>GoalsScoredMult10</th></tr></thead><tbody><tr><td>0</td><td>Robert Lewandowski</td><td><div class=\"dni-plaintext\"><pre>350</pre></div></td></tr><tr><td>1</td><td>Kylian Mbapp&#233;</td><td><div class=\"dni-plaintext\"><pre>280</pre></div></td></tr><tr><td>2</td><td>Karim Benzema</td><td><div class=\"dni-plaintext\"><pre>270</pre></div></td></tr><tr><td>3</td><td>Ciro Immobile</td><td><div class=\"dni-plaintext\"><pre>270</pre></div></td></tr><tr><td>4</td><td>Wissam Ben Yedder</td><td><div class=\"dni-plaintext\"><pre>250</pre></div></td></tr></tbody></table><style>\r\n",
       ".dni-code-hint {\r\n",
       "    font-style: italic;\r\n",
       "    overflow: hidden;\r\n",
       "    white-space: nowrap;\r\n",
       "}\r\n",
       ".dni-treeview {\r\n",
       "    white-space: nowrap;\r\n",
       "}\r\n",
       ".dni-treeview td {\r\n",
       "    vertical-align: top;\r\n",
       "    text-align: start;\r\n",
       "}\r\n",
       "details.dni-treeview {\r\n",
       "    padding-left: 1em;\r\n",
       "}\r\n",
       "table td {\r\n",
       "    text-align: start;\r\n",
       "}\r\n",
       "table tr { \r\n",
       "    vertical-align: top; \r\n",
       "    margin: 0em 0px;\r\n",
       "}\r\n",
       "table tr td pre \r\n",
       "{ \r\n",
       "    vertical-align: top !important; \r\n",
       "    margin: 0em 0px !important;\r\n",
       "} \r\n",
       "table th {\r\n",
       "    text-align: start;\r\n",
       "}\r\n",
       "</style>"
      ]
     },
     "metadata": {},
     "output_type": "display_data"
    }
   ],
   "source": [
    "// write your code here, see website for solution.\n",
    "type PlayerAndGoalsScoredMult10 =\n",
    "    { Player : string\n",
    "      GoalsScoredMult10 : int }\n",
    "\n",
    "playerStatsTable\n",
    "|> List.map(fun x ->\n",
    "    { Player = x.Player \n",
    "      GoalsScoredMult10 = x.GoalsScored * 10})\n",
    "|> List.truncate 5"
   ]
  },
  {
   "cell_type": "markdown",
   "metadata": {
    "dotnet_interactive": {
     "language": "fsharp"
    },
    "polyglot_notebook": {
     "kernelName": "fsharp"
    }
   },
   "source": [
    "* map the `playerStatsTable` to a record of player and goals scored, but divide goals scored by 2.0. ( `Player`, `float GoalsScored  / 2.0`)\n",
    "Hint: You have to create a new type record, because previous type has goals scored as integers but you want floats.\n",
    "\n",
    "<div style=\"padding-left: 40px;\">\n",
    "<p> \n",
    "<span>\n",
    "<details>\n",
    "<summary><p style=\"display:inline\">answer</p></summary>\n",
    "\n",
    "```\n",
    "type PlayerAndGlsFloat =\n",
    "  {\n",
    "    Player: string\n",
    "    GoalsScoredFloat: float\n",
    "  }\n",
    "val it: PlayerAndGlsFloat list =\n",
    "  [{ Player = \"Robert Lewandowski\"\n",
    "     GoalsScoredFloat = 17.5 }; { Player = \"Kylian Mbappé\"\n",
    "                                  GoalsScoredFloat = 14.0 };\n",
    "   { Player = \"Karim Benzema\"\n",
    "     GoalsScoredFloat = 13.5 }; { Player = \"Ciro Immobile\"\n",
    "                                  GoalsScoredFloat = 13.5 };\n",
    "   { Player = \"Wissam Ben Yedder\"\n",
    "     GoalsScoredFloat = 12.5 }]\n",
    "```\n",
    "\n",
    "</details>\n",
    "</span>\n",
    "</p>\n",
    "</div>\n",
    "\n"
   ]
  },
  {
   "cell_type": "code",
   "execution_count": 42,
   "metadata": {
    "dotnet_interactive": {
     "language": "fsharp"
    },
    "polyglot_notebook": {
     "kernelName": "fsharp"
    },
    "vscode": {
     "languageId": "polyglot-notebook"
    }
   },
   "outputs": [
    {
     "data": {
      "text/html": [
       "<table><thead><tr><th><i>index</i></th><th>Player</th><th>GoalsScoredDiv2</th></tr></thead><tbody><tr><td>0</td><td>Robert Lewandowski</td><td><div class=\"dni-plaintext\"><pre>17.5</pre></div></td></tr><tr><td>1</td><td>Kylian Mbapp&#233;</td><td><div class=\"dni-plaintext\"><pre>14</pre></div></td></tr><tr><td>2</td><td>Karim Benzema</td><td><div class=\"dni-plaintext\"><pre>13.5</pre></div></td></tr><tr><td>3</td><td>Ciro Immobile</td><td><div class=\"dni-plaintext\"><pre>13.5</pre></div></td></tr><tr><td>4</td><td>Wissam Ben Yedder</td><td><div class=\"dni-plaintext\"><pre>12.5</pre></div></td></tr></tbody></table><style>\r\n",
       ".dni-code-hint {\r\n",
       "    font-style: italic;\r\n",
       "    overflow: hidden;\r\n",
       "    white-space: nowrap;\r\n",
       "}\r\n",
       ".dni-treeview {\r\n",
       "    white-space: nowrap;\r\n",
       "}\r\n",
       ".dni-treeview td {\r\n",
       "    vertical-align: top;\r\n",
       "    text-align: start;\r\n",
       "}\r\n",
       "details.dni-treeview {\r\n",
       "    padding-left: 1em;\r\n",
       "}\r\n",
       "table td {\r\n",
       "    text-align: start;\r\n",
       "}\r\n",
       "table tr { \r\n",
       "    vertical-align: top; \r\n",
       "    margin: 0em 0px;\r\n",
       "}\r\n",
       "table tr td pre \r\n",
       "{ \r\n",
       "    vertical-align: top !important; \r\n",
       "    margin: 0em 0px !important;\r\n",
       "} \r\n",
       "table th {\r\n",
       "    text-align: start;\r\n",
       "}\r\n",
       "</style>"
      ]
     },
     "metadata": {},
     "output_type": "display_data"
    }
   ],
   "source": [
    "// write your code here, see website for solution.\n",
    "type PlayerAndGoalsScoredDiv2 =\n",
    "    { Player : string\n",
    "      GoalsScoredDiv2 : float }\n",
    "\n",
    "playerStatsTable\n",
    "|> List.map(fun x ->\n",
    "    { Player = x.Player \n",
    "      GoalsScoredDiv2 = (float x.GoalsScored) / 2.0})\n",
    "|> List.truncate 5"
   ]
  },
  {
   "cell_type": "markdown",
   "metadata": {
    "dotnet_interactive": {
     "language": "fsharp"
    },
    "polyglot_notebook": {
     "kernelName": "fsharp"
    }
   },
   "source": [
    "Example: map the `playerStatsTable` to an anonymoys record of player and age, but add 1 to age. ( `Player`, `Age + 1`)\n",
    "\n"
   ]
  },
  {
   "cell_type": "code",
   "execution_count": 43,
   "metadata": {
    "dotnet_interactive": {
     "language": "fsharp"
    },
    "polyglot_notebook": {
     "kernelName": "fsharp"
    },
    "vscode": {
     "languageId": "polyglot-notebook"
    }
   },
   "outputs": [
    {
     "data": {
      "text/html": [
       "<table><thead><tr><th><i>index</i></th><th>AgePlus1</th><th>Player</th></tr></thead><tbody><tr><td>0</td><td><div class=\"dni-plaintext\"><pre>33</pre></div></td><td>Robert Lewandowski</td></tr><tr><td>1</td><td><div class=\"dni-plaintext\"><pre>23</pre></div></td><td>Kylian Mbapp&#233;</td></tr><tr><td>2</td><td><div class=\"dni-plaintext\"><pre>34</pre></div></td><td>Karim Benzema</td></tr><tr><td>3</td><td><div class=\"dni-plaintext\"><pre>32</pre></div></td><td>Ciro Immobile</td></tr><tr><td>4</td><td><div class=\"dni-plaintext\"><pre>31</pre></div></td><td>Wissam Ben Yedder</td></tr></tbody></table><style>\r\n",
       ".dni-code-hint {\r\n",
       "    font-style: italic;\r\n",
       "    overflow: hidden;\r\n",
       "    white-space: nowrap;\r\n",
       "}\r\n",
       ".dni-treeview {\r\n",
       "    white-space: nowrap;\r\n",
       "}\r\n",
       ".dni-treeview td {\r\n",
       "    vertical-align: top;\r\n",
       "    text-align: start;\r\n",
       "}\r\n",
       "details.dni-treeview {\r\n",
       "    padding-left: 1em;\r\n",
       "}\r\n",
       "table td {\r\n",
       "    text-align: start;\r\n",
       "}\r\n",
       "table tr { \r\n",
       "    vertical-align: top; \r\n",
       "    margin: 0em 0px;\r\n",
       "}\r\n",
       "table tr td pre \r\n",
       "{ \r\n",
       "    vertical-align: top !important; \r\n",
       "    margin: 0em 0px !important;\r\n",
       "} \r\n",
       "table th {\r\n",
       "    text-align: start;\r\n",
       "}\r\n",
       "</style>"
      ]
     },
     "metadata": {},
     "output_type": "display_data"
    }
   ],
   "source": [
    "playerStatsTable\n",
    "|> List.map(fun x -> \n",
    "    {| Player = x.Player\n",
    "       AgePlus1 = x.Age + 1 |})\n",
    "|> List.truncate 5 //just to observe the first 5 rows, not a part of the exercise.\n"
   ]
  },
  {
   "cell_type": "code",
   "execution_count": 44,
   "metadata": {
    "dotnet_interactive": {
     "language": "fsharp"
    },
    "polyglot_notebook": {
     "kernelName": "fsharp"
    },
    "vscode": {
     "languageId": "polyglot-notebook"
    }
   },
   "outputs": [
    {
     "data": {
      "text/html": [
       "<table><thead><tr><th><i>index</i></th><th>AgePlus1Float</th><th>Player</th></tr></thead><tbody><tr><td>0</td><td><div class=\"dni-plaintext\"><pre>33</pre></div></td><td>Robert Lewandowski</td></tr><tr><td>1</td><td><div class=\"dni-plaintext\"><pre>23</pre></div></td><td>Kylian Mbapp&#233;</td></tr><tr><td>2</td><td><div class=\"dni-plaintext\"><pre>34</pre></div></td><td>Karim Benzema</td></tr><tr><td>3</td><td><div class=\"dni-plaintext\"><pre>32</pre></div></td><td>Ciro Immobile</td></tr><tr><td>4</td><td><div class=\"dni-plaintext\"><pre>31</pre></div></td><td>Wissam Ben Yedder</td></tr></tbody></table><style>\r\n",
       ".dni-code-hint {\r\n",
       "    font-style: italic;\r\n",
       "    overflow: hidden;\r\n",
       "    white-space: nowrap;\r\n",
       "}\r\n",
       ".dni-treeview {\r\n",
       "    white-space: nowrap;\r\n",
       "}\r\n",
       ".dni-treeview td {\r\n",
       "    vertical-align: top;\r\n",
       "    text-align: start;\r\n",
       "}\r\n",
       "details.dni-treeview {\r\n",
       "    padding-left: 1em;\r\n",
       "}\r\n",
       "table td {\r\n",
       "    text-align: start;\r\n",
       "}\r\n",
       "table tr { \r\n",
       "    vertical-align: top; \r\n",
       "    margin: 0em 0px;\r\n",
       "}\r\n",
       "table tr td pre \r\n",
       "{ \r\n",
       "    vertical-align: top !important; \r\n",
       "    margin: 0em 0px !important;\r\n",
       "} \r\n",
       "table th {\r\n",
       "    text-align: start;\r\n",
       "}\r\n",
       "</style>"
      ]
     },
     "metadata": {},
     "output_type": "display_data"
    }
   ],
   "source": [
    "// or \n",
    "\n",
    "playerStatsTable\n",
    "|> List.map(fun x ->\n",
    "    {| Player = x.Player \n",
    "       AgePlus1Float = (float x.Age) + 1.0 |})\n",
    "|> List.truncate 5 //just to observe the first 5 rows, not a part of the exercise.\n"
   ]
  },
  {
   "cell_type": "markdown",
   "metadata": {
    "dotnet_interactive": {
     "language": "fsharp"
    },
    "polyglot_notebook": {
     "kernelName": "fsharp"
    }
   },
   "source": [
    "* map the `playerStatsTable` to an anonymous record of player and goals scored, but multiply goals scored by 10. ( `Player`, `GoalsScored * 10`)\n",
    "\n",
    "<div style=\"padding-left: 40px;\">\n",
    "<p> \n",
    "<span>\n",
    "<details>\n",
    "<summary><p style=\"display:inline\">answer</p></summary>\n",
    "\n",
    "```\n",
    "val it: {| AgePlus1Float: float; Player: string |} list =\n",
    "  [{ AgePlus1Float = 350.0\n",
    "     Player = \"Robert Lewandowski\" }; { AgePlus1Float = 280.0\n",
    "                                        Player = \"Kylian Mbappé\" };\n",
    "   { AgePlus1Float = 270.0\n",
    "     Player = \"Karim Benzema\" }; { AgePlus1Float = 270.0\n",
    "                                   Player = \"Ciro Immobile\" };\n",
    "   { AgePlus1Float = 250.0\n",
    "     Player = \"Wissam Ben Yedder\" }]\n",
    "```\n",
    "\n",
    "</details>\n",
    "</span>\n",
    "</p>\n",
    "</div>\n",
    "\n"
   ]
  },
  {
   "cell_type": "code",
   "execution_count": 45,
   "metadata": {
    "dotnet_interactive": {
     "language": "fsharp"
    },
    "polyglot_notebook": {
     "kernelName": "fsharp"
    },
    "vscode": {
     "languageId": "polyglot-notebook"
    }
   },
   "outputs": [
    {
     "data": {
      "text/html": [
       "<table><thead><tr><th><i>index</i></th><th>GoalsScoredMult10</th><th>Player</th></tr></thead><tbody><tr><td>0</td><td><div class=\"dni-plaintext\"><pre>350</pre></div></td><td>Robert Lewandowski</td></tr><tr><td>1</td><td><div class=\"dni-plaintext\"><pre>280</pre></div></td><td>Kylian Mbapp&#233;</td></tr><tr><td>2</td><td><div class=\"dni-plaintext\"><pre>270</pre></div></td><td>Karim Benzema</td></tr><tr><td>3</td><td><div class=\"dni-plaintext\"><pre>270</pre></div></td><td>Ciro Immobile</td></tr><tr><td>4</td><td><div class=\"dni-plaintext\"><pre>250</pre></div></td><td>Wissam Ben Yedder</td></tr></tbody></table><style>\r\n",
       ".dni-code-hint {\r\n",
       "    font-style: italic;\r\n",
       "    overflow: hidden;\r\n",
       "    white-space: nowrap;\r\n",
       "}\r\n",
       ".dni-treeview {\r\n",
       "    white-space: nowrap;\r\n",
       "}\r\n",
       ".dni-treeview td {\r\n",
       "    vertical-align: top;\r\n",
       "    text-align: start;\r\n",
       "}\r\n",
       "details.dni-treeview {\r\n",
       "    padding-left: 1em;\r\n",
       "}\r\n",
       "table td {\r\n",
       "    text-align: start;\r\n",
       "}\r\n",
       "table tr { \r\n",
       "    vertical-align: top; \r\n",
       "    margin: 0em 0px;\r\n",
       "}\r\n",
       "table tr td pre \r\n",
       "{ \r\n",
       "    vertical-align: top !important; \r\n",
       "    margin: 0em 0px !important;\r\n",
       "} \r\n",
       "table th {\r\n",
       "    text-align: start;\r\n",
       "}\r\n",
       "</style>"
      ]
     },
     "metadata": {},
     "output_type": "display_data"
    }
   ],
   "source": [
    "// write your code here, see website for solution.\n",
    "playerStatsTable\n",
    "|> List.map(fun x -> \n",
    "    {| Player = x.Player\n",
    "       GoalsScoredMult10 = x.GoalsScored * 10 |})\n",
    "|> List.truncate 5"
   ]
  },
  {
   "cell_type": "markdown",
   "metadata": {
    "dotnet_interactive": {
     "language": "fsharp"
    },
    "polyglot_notebook": {
     "kernelName": "fsharp"
    }
   },
   "source": [
    "* map the `playerStatsTable` to an anonymous record of player and goals scored, but divide goals scored by 2.0. ( `Player`, `float GoalsScored  / 2.0`)\n",
    "Hint: Remember that you have to transform GoalsScored to float.\n",
    "\n",
    "<div style=\"padding-left: 40px;\">\n",
    "<p> \n",
    "<span>\n",
    "<details>\n",
    "<summary><p style=\"display:inline\">answer</p></summary>\n",
    "\n",
    "```\n",
    "val it: {| GoalsScoredFloat: float; Player: string |} list =\n",
    "  [{ GoalsScoredFloat = 17.5\n",
    "     Player = \"Robert Lewandowski\" }; { GoalsScoredFloat = 14.0\n",
    "                                        Player = \"Kylian Mbappé\" };\n",
    "   { GoalsScoredFloat = 13.5\n",
    "     Player = \"Karim Benzema\" }; { GoalsScoredFloat = 13.5\n",
    "                                   Player = \"Ciro Immobile\" };\n",
    "   { GoalsScoredFloat = 12.5\n",
    "     Player = \"Wissam Ben Yedder\" }]\n",
    "```\n",
    "\n",
    "</details>\n",
    "</span>\n",
    "</p>\n",
    "</div>\n",
    "\n"
   ]
  },
  {
   "cell_type": "code",
   "execution_count": 46,
   "metadata": {
    "dotnet_interactive": {
     "language": "fsharp"
    },
    "polyglot_notebook": {
     "kernelName": "fsharp"
    },
    "vscode": {
     "languageId": "polyglot-notebook"
    }
   },
   "outputs": [
    {
     "data": {
      "text/html": [
       "<table><thead><tr><th><i>index</i></th><th>GoalsScoredDiv2</th><th>Player</th></tr></thead><tbody><tr><td>0</td><td><div class=\"dni-plaintext\"><pre>17.5</pre></div></td><td>Robert Lewandowski</td></tr><tr><td>1</td><td><div class=\"dni-plaintext\"><pre>14</pre></div></td><td>Kylian Mbapp&#233;</td></tr><tr><td>2</td><td><div class=\"dni-plaintext\"><pre>13.5</pre></div></td><td>Karim Benzema</td></tr><tr><td>3</td><td><div class=\"dni-plaintext\"><pre>13.5</pre></div></td><td>Ciro Immobile</td></tr><tr><td>4</td><td><div class=\"dni-plaintext\"><pre>12.5</pre></div></td><td>Wissam Ben Yedder</td></tr></tbody></table><style>\r\n",
       ".dni-code-hint {\r\n",
       "    font-style: italic;\r\n",
       "    overflow: hidden;\r\n",
       "    white-space: nowrap;\r\n",
       "}\r\n",
       ".dni-treeview {\r\n",
       "    white-space: nowrap;\r\n",
       "}\r\n",
       ".dni-treeview td {\r\n",
       "    vertical-align: top;\r\n",
       "    text-align: start;\r\n",
       "}\r\n",
       "details.dni-treeview {\r\n",
       "    padding-left: 1em;\r\n",
       "}\r\n",
       "table td {\r\n",
       "    text-align: start;\r\n",
       "}\r\n",
       "table tr { \r\n",
       "    vertical-align: top; \r\n",
       "    margin: 0em 0px;\r\n",
       "}\r\n",
       "table tr td pre \r\n",
       "{ \r\n",
       "    vertical-align: top !important; \r\n",
       "    margin: 0em 0px !important;\r\n",
       "} \r\n",
       "table th {\r\n",
       "    text-align: start;\r\n",
       "}\r\n",
       "</style>"
      ]
     },
     "metadata": {},
     "output_type": "display_data"
    }
   ],
   "source": [
    "// write your code here, see website for solution.\n",
    "playerStatsTable\n",
    "|> List.map(fun x ->\n",
    "    {| Player = x.Player \n",
    "       GoalsScoredDiv2 = (float x.GoalsScored) / 2.0 |})\n",
    "|> List.truncate 5"
   ]
  },
  {
   "cell_type": "markdown",
   "metadata": {
    "dotnet_interactive": {
     "language": "fsharp"
    },
    "polyglot_notebook": {
     "kernelName": "fsharp"
    }
   },
   "source": [
    "Now that you are used to work with records and perform simple Transformations, map `playerStatsTable` to a record type that includes:\n",
    "\n",
    "* Player (`Player`) - type `string`\n",
    "\n",
    "* Nation (`Nation`) - type `string`\n",
    "\n",
    "* League (`League`) - type `string`\n",
    "\n",
    "* AgeNextYear (`Age + 1`) - type `int`\n",
    "\n",
    "* HalfGoalsScored (`GoalsScored / 2.0`) - type `float`\n",
    "\n",
    "Hint: Create a new type.\n",
    "\n",
    "<div style=\"padding-left: 40px;\">\n",
    "<p> \n",
    "<span>\n",
    "<details>\n",
    "<summary><p style=\"display:inline\">answer</p></summary>\n",
    "\n",
    "```\n",
    "type TeamRecord =\n",
    "  {\n",
    "    Player: string\n",
    "    Nation: string\n",
    "    League: string\n",
    "    AgeNextYear: int\n",
    "    HalfGoalsScored: float\n",
    "  }\n",
    "val it: TeamRecord list =\n",
    "  [{ Player = \"Robert Lewandowski\"\n",
    "     Nation = \"pl POL\"\n",
    "     League = \"deBundesliga\"\n",
    "     AgeNextYear = 33\n",
    "     HalfGoalsScored = 17.5 }; { Player = \"Kylian Mbappé\"\n",
    "                                 Nation = \"fr FRA\"\n",
    "                                 League = \"frLigue 1\"\n",
    "                                 AgeNextYear = 23\n",
    "                                 HalfGoalsScored = 14.0 };\n",
    "   { Player = \"Karim Benzema\"\n",
    "     Nation = \"fr FRA\"\n",
    "     League = \"esLa Liga\"\n",
    "     AgeNextYear = 34\n",
    "     HalfGoalsScored = 13.5 }; { Player = \"Ciro Immobile\"\n",
    "                                 Nation = \"it ITA\"\n",
    "                                 League = \"itSerie A\"\n",
    "                                 AgeNextYear = 32\n",
    "                                 HalfGoalsScored = 13.5 };\n",
    "   { Player = \"Wissam Ben Yedder\"\n",
    "     Nation = \"fr FRA\"\n",
    "     League = \"frLigue 1\"\n",
    "     AgeNextYear = 31\n",
    "     HalfGoalsScored = 12.5 }]\n",
    "```\n",
    "\n",
    "</details>\n",
    "</span>\n",
    "</p>\n",
    "</div>\n",
    "\n"
   ]
  },
  {
   "cell_type": "code",
   "execution_count": 48,
   "metadata": {
    "dotnet_interactive": {
     "language": "fsharp"
    },
    "polyglot_notebook": {
     "kernelName": "fsharp"
    },
    "vscode": {
     "languageId": "polyglot-notebook"
    }
   },
   "outputs": [
    {
     "data": {
      "text/html": [
       "<table><thead><tr><th><i>index</i></th><th>AgeNextYear</th><th>HalfGoalsScored</th><th>League</th><th>Nation</th><th>Player</th></tr></thead><tbody><tr><td>0</td><td><div class=\"dni-plaintext\"><pre>33</pre></div></td><td><div class=\"dni-plaintext\"><pre>17.5</pre></div></td><td>deBundesliga</td><td>pl POL</td><td>Robert Lewandowski</td></tr><tr><td>1</td><td><div class=\"dni-plaintext\"><pre>23</pre></div></td><td><div class=\"dni-plaintext\"><pre>14</pre></div></td><td>frLigue 1</td><td>fr FRA</td><td>Kylian Mbapp&#233;</td></tr><tr><td>2</td><td><div class=\"dni-plaintext\"><pre>34</pre></div></td><td><div class=\"dni-plaintext\"><pre>13.5</pre></div></td><td>esLa Liga</td><td>fr FRA</td><td>Karim Benzema</td></tr><tr><td>3</td><td><div class=\"dni-plaintext\"><pre>32</pre></div></td><td><div class=\"dni-plaintext\"><pre>13.5</pre></div></td><td>itSerie A</td><td>it ITA</td><td>Ciro Immobile</td></tr><tr><td>4</td><td><div class=\"dni-plaintext\"><pre>31</pre></div></td><td><div class=\"dni-plaintext\"><pre>12.5</pre></div></td><td>frLigue 1</td><td>fr FRA</td><td>Wissam Ben Yedder</td></tr></tbody></table><style>\r\n",
       ".dni-code-hint {\r\n",
       "    font-style: italic;\r\n",
       "    overflow: hidden;\r\n",
       "    white-space: nowrap;\r\n",
       "}\r\n",
       ".dni-treeview {\r\n",
       "    white-space: nowrap;\r\n",
       "}\r\n",
       ".dni-treeview td {\r\n",
       "    vertical-align: top;\r\n",
       "    text-align: start;\r\n",
       "}\r\n",
       "details.dni-treeview {\r\n",
       "    padding-left: 1em;\r\n",
       "}\r\n",
       "table td {\r\n",
       "    text-align: start;\r\n",
       "}\r\n",
       "table tr { \r\n",
       "    vertical-align: top; \r\n",
       "    margin: 0em 0px;\r\n",
       "}\r\n",
       "table tr td pre \r\n",
       "{ \r\n",
       "    vertical-align: top !important; \r\n",
       "    margin: 0em 0px !important;\r\n",
       "} \r\n",
       "table th {\r\n",
       "    text-align: start;\r\n",
       "}\r\n",
       "</style>"
      ]
     },
     "metadata": {},
     "output_type": "display_data"
    }
   ],
   "source": [
    "// write your code here, see website for solution.\n",
    "type newtype = \n",
    "    { Player : string\n",
    "      Nation : string\n",
    "      League : string\n",
    "      AgeNextYear : int\n",
    "      HalfGoalsScored : float\n",
    "    }\n",
    "\n",
    "playerStatsTable\n",
    "|> List.map(fun x ->\n",
    "    {|  Player = x.Player\n",
    "        Nation = x.Nation\n",
    "        League = x.League\n",
    "        AgeNextYear = x.Age + 1\n",
    "        HalfGoalsScored = (float x.GoalsScored) / 2.0 |})\n",
    "|> List.truncate 5"
   ]
  },
  {
   "cell_type": "code",
   "execution_count": null,
   "metadata": {
    "dotnet_interactive": {
     "language": "fsharp"
    },
    "polyglot_notebook": {
     "kernelName": "fsharp"
    },
    "vscode": {
     "languageId": "polyglot-notebook"
    }
   },
   "outputs": [],
   "source": []
  }
 ],
 "metadata": {
  "kernelspec": {
   "display_name": ".NET (C#)",
   "language": "C#",
   "name": ".net-csharp"
  },
  "polyglot_notebook": {
   "kernelInfo": {
    "defaultKernelName": "csharp",
    "items": [
     {
      "aliases": [
       "c#",
       "C#"
      ],
      "languageName": "C#",
      "name": "csharp"
     },
     {
      "aliases": [],
      "name": ".NET"
     },
     {
      "aliases": [
       "f#",
       "F#"
      ],
      "languageName": "F#",
      "name": "fsharp"
     },
     {
      "aliases": [],
      "languageName": "HTML",
      "name": "html"
     },
     {
      "aliases": [],
      "languageName": "KQL",
      "name": "kql"
     },
     {
      "aliases": [],
      "languageName": "Mermaid",
      "name": "mermaid"
     },
     {
      "aliases": [
       "powershell"
      ],
      "languageName": "PowerShell",
      "name": "pwsh"
     },
     {
      "aliases": [],
      "languageName": "SQL",
      "name": "sql"
     },
     {
      "aliases": [],
      "name": "value"
     },
     {
      "aliases": [
       "frontend"
      ],
      "name": "vscode"
     },
     {
      "aliases": [
       "js"
      ],
      "languageName": "JavaScript",
      "name": "javascript"
     },
     {
      "aliases": [],
      "name": "webview"
     }
    ]
   }
  }
 },
 "nbformat": 4,
 "nbformat_minor": 2
}
