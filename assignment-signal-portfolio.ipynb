{
 "cells": [
  {
   "attachments": {},
   "cell_type": "markdown",
   "metadata": {},
   "source": [
    "[![Binder](../img/badge-binder.svg)](https://mybinder.org/v2/gh/nhirschey/teaching/gh-pages?filepath=assignments/assignment-signal-portfolio.ipynb)&emsp;\n",
    "[![Script](../img/badge-script.svg)](/Teaching//assignments/assignment-signal-portfolio.fsx)&emsp;\n",
    "[![Notebook](../img/badge-notebook.svg)](/Teaching//assignments/assignment-signal-portfolio.ipynb)\n",
    "\n",
    "Group Name:\n",
    "\n",
    "Student Name | Student Number\n",
    "--- | ---\n",
    "**1:Bernardo Manarte** |55810 &#32;\n",
    "**2:Leonor Rodrigues Pereira** |48778 &#32;\n",
    "**3:Marouan Kamoun** |53833 &#32;\n",
    "**4:Rodrigo Simões** |53154 &#32;\n",
    "**5:Vasco Calxito** |53960 &#32;\n",
    "\n",
    "\n",
    "This is an assignment. You should work in groups. Please write your group and group member names above. You will find sections labeled **Task** asking you to do each piece of analysis. Please make sure that you complete all of these tasks. I included some tests to help you see if you are calculating the solution correctly, but if you cannot get the test to pass submit your best attempt and you may recieve partial credit.\n",
    "\n",
    "All work that you submit should be your own. Make use of the course resources and example code on the course website. It should be possible to complete all the requested tasks using information given below or somewhere on the course website.\n",
    "\n",
    "For testing\n",
    "\n"
   ]
  },
  {
   "cell_type": "code",
   "execution_count": 3,
   "metadata": {
    "dotnet_interactive": {
     "language": "fsharp"
    },
    "polyglot_notebook": {
     "kernelName": "fsharp"
    }
   },
   "outputs": [
    {
     "data": {
      "text/html": [
       "<div><div></div><div></div><div><strong>Installed Packages</strong><ul><li><span>FsUnit.Xunit, 5.3.0</span></li><li><span>xunit, 2.4.2</span></li></ul></div></div>"
      ]
     },
     "metadata": {},
     "output_type": "display_data"
    }
   ],
   "source": [
    "#r \"nuget: FsUnit.Xunit\"\n",
    "#r \"nuget: xunit, 2.*\"\n",
    "open Xunit\n",
    "open FsUnit.Xunit\n",
    "open FsUnitTyped\n"
   ]
  },
  {
   "attachments": {},
   "cell_type": "markdown",
   "metadata": {},
   "source": [
    "For the assignment\n",
    "\n"
   ]
  },
  {
   "cell_type": "code",
   "execution_count": 14,
   "metadata": {
    "dotnet_interactive": {
     "language": "fsharp"
    },
    "polyglot_notebook": {
     "kernelName": "fsharp"
    }
   },
   "outputs": [
    {
     "data": {
      "text/html": [
       "<div><div></div><div></div><div><strong>Installed Packages</strong><ul><li><span>FSharp.Data, 6.2.0</span></li><li><span>FSharp.Stats, 0.4.11</span></li><li><span>MathNet.Numerics, 5.0.0</span></li><li><span>MathNet.Numerics.FSharp, 5.0.0</span></li><li><span>NovaSBE.Finance, 0.2.0-beta1</span></li><li><span>plotly.net, 3.0.0</span></li></ul></div></div>"
      ]
     },
     "metadata": {},
     "output_type": "display_data"
    }
   ],
   "source": [
    "#r \"nuget:FSharp.Data\"\n",
    "#r \"nuget: FSharp.Stats\"\n",
    "#r \"nuget: NovaSBE.Finance, 0.2.0-beta1\"\n",
    "#r \"nuget: MathNet.Numerics\"\n",
    "#r \"nuget: MathNet.Numerics.FSharp\"\n",
    "#r \"nuget: Plotly.NET\""
   ]
  },
  {
   "cell_type": "code",
   "execution_count": 5,
   "metadata": {
    "dotnet_interactive": {
     "language": "fsharp"
    },
    "polyglot_notebook": {
     "kernelName": "fsharp"
    }
   },
   "outputs": [
    {
     "data": {
      "text/html": [
       "<div><div></div><div></div><div><strong>Installed Packages</strong><ul><li><span>FSharp.Data, 6.2.0</span></li><li><span>FSharp.Stats, 0.4.11</span></li><li><span>Plotly.NET.Interactive, 3.0.2</span></li></ul></div></div>"
      ]
     },
     "metadata": {},
     "output_type": "display_data"
    },
    {
     "data": {
      "text/plain": [
       "Loading extensions from `/Users/rodrigosimoes/.nuget/packages/plotly.net.interactive/3.0.2/interactive-extensions/dotnet/Plotly.NET.Interactive.dll`"
      ]
     },
     "metadata": {},
     "output_type": "display_data"
    }
   ],
   "source": [
    "#r \"nuget: Plotly.NET.Interactive, 3.*\"\n"
   ]
  },
  {
   "cell_type": "code",
   "execution_count": 15,
   "metadata": {
    "dotnet_interactive": {
     "language": "fsharp"
    },
    "polyglot_notebook": {
     "kernelName": "fsharp"
    }
   },
   "outputs": [],
   "source": [
    "open System\n",
    "open FSharp.Data\n",
    "open Plotly.NET\n",
    "open FSharp.Stats\n",
    "open MathNet.Numerics.Statistics\n"
   ]
  },
  {
   "attachments": {},
   "cell_type": "markdown",
   "metadata": {},
   "source": [
    "## Load Data\n",
    "\n",
    "First, make sure that you're referencing the correct files.\n",
    "\n",
    "Here I'm assuming that you have a class folder with this notebook and a `data` folder inside of it. The folder hierarchy would look like below where you\n",
    "have the below files and folders accessible:\n",
    "\n",
    "```code\n",
    "/class\n",
    "    notebook.ipynb\n",
    "    id_and_return_data.csv\n",
    "    be_me.csv\n",
    "    \n",
    "```\n"
   ]
  },
  {
   "cell_type": "code",
   "execution_count": 16,
   "metadata": {
    "dotnet_interactive": {
     "language": "fsharp"
    },
    "polyglot_notebook": {
     "kernelName": "fsharp"
    }
   },
   "outputs": [],
   "source": [
    "open NovaSBE.Finance.Portfolio\n"
   ]
  },
  {
   "attachments": {},
   "cell_type": "markdown",
   "metadata": {},
   "source": [
    "### Data files\n",
    "\n",
    "We assume the `id_and_return_data.csv` file and the signal csv file  are in the `data` folder. In this example the signal file is `be_me.csv`.\n",
    "\n"
   ]
  },
  {
   "cell_type": "code",
   "execution_count": 4,
   "metadata": {
    "dotnet_interactive": {
     "language": "fsharp"
    },
    "polyglot_notebook": {
     "kernelName": "fsharp"
    }
   },
   "outputs": [],
   "source": [
    "let [<Literal>] IdAndReturnsFilePath = \"id_and_return_data.csv\"\n",
    "let [<Literal>] MySignalFilePath = \"be_me.csv\"\n",
    "let strategyName = \"book-to-market\"\n"
   ]
  },
  {
   "attachments": {},
   "cell_type": "markdown",
   "metadata": {},
   "source": [
    "If my paths are correct, then this code should read the first few lines of the files.\n",
    "If it doesn't show the first few lines, fix the above file paths.\n",
    "\n"
   ]
  },
  {
   "cell_type": "code",
   "execution_count": 19,
   "metadata": {
    "dotnet_interactive": {
     "language": "fsharp"
    },
    "polyglot_notebook": {
     "kernelName": "fsharp"
    }
   },
   "outputs": [
    {
     "name": "stdout",
     "output_type": "stream",
     "text": [
      "\"id(string),eom(date),source(string),sizeGrp(string),obsMain(bool),exchMain(bool),primarySec(bool),gvkey(string),iid(string),permno(int Option),permco(int Option),excntry(string),curcd(string),fx(string),common(bool),compTpci(string),crspShrcd(int Option),compExchg(string),crsp_exchcd(int Option),adjfct(float Option),shares(float Option),gics(int Option),sic(int Option),naics(int Option),ff49(int Option),ret(float Option),retExc(float Option),prc(float Option),marketEquity(float Option)\"\n",
      "\"crsp_86432,2000-01-31T00:00:00.0000000,CRSP,micro,1,1,true,115876,01,86432,16313,USA,USD,1,true,,11,,3,2,5.218,40101010,6020,522110,45,-0.003906,-0.00824925,15.9375,83.161875\"\n",
      "\"crsp_85640,2000-01-31T00:00:00.0000000,CRSP,small,1,1,true,002193,01,85640,20300,USA,USD,1,true,,11,,1,1,102.496,35102020,8051,623110,11,-0.157143,-0.161485863,3.6875,377.954\"\n",
      "\"crsp_86430,2000-01-31T00:00:00.0000000,CRSP,micro,1,1,true,115946,01,86430,16319,USA,USD,1,true,,11,,3,1,10.764,45103010,7372,511210,36,0.285714,0.2813712985,3.9375,42.38325\"\n",
      "\"crsp_85756,2000-01-31T00:00:00.0000000,CRSP,nano,1,1,true,066389,01,85756,15930,USA,USD,1,true,,11,,3,1,1.582,,6720,,48,0.190685,0.1863418699,10.25,16.2155\"\n"
     ]
    }
   ],
   "source": [
    "IO.File.ReadLines(IdAndReturnsFilePath) \n",
    "|> Seq.truncate 5\n",
    "|> Seq.iter (printfn \"%A\")\n"
   ]
  },
  {
   "cell_type": "code",
   "execution_count": 21,
   "metadata": {
    "dotnet_interactive": {
     "language": "fsharp"
    },
    "polyglot_notebook": {
     "kernelName": "fsharp"
    }
   },
   "outputs": [
    {
     "name": "stdout",
     "output_type": "stream",
     "text": [
      "\"id(string),eom(date),signal(float option)\"\n",
      "\"comp_001034_01,2008-12-31T00:00:00.0000000,0.5559700602\"\n",
      "\"comp_001043_01,2000-01-31T00:00:00.0000000,\"\n",
      "\"comp_001076_02,2010-12-31T00:00:00.0000000,0.6593168365\"\n",
      "\"comp_001081_01,2007-10-31T00:00:00.0000000,2.7828229254\"\n"
     ]
    }
   ],
   "source": [
    "IO.File.ReadLines(MySignalFilePath) \n",
    "|> Seq.truncate 5\n",
    "|> Seq.iter (printfn \"%A\")\n"
   ]
  },
  {
   "attachments": {},
   "cell_type": "markdown",
   "metadata": {},
   "source": [
    "Ok, now assuming those paths were correct the below code will work.\n",
    "I will put all this prep code in one block so that it is easy to run.\n",
    "\n"
   ]
  },
  {
   "cell_type": "code",
   "execution_count": 22,
   "metadata": {
    "dotnet_interactive": {
     "language": "fsharp"
    },
    "polyglot_notebook": {
     "kernelName": "fsharp"
    }
   },
   "outputs": [],
   "source": [
    "let idAndReturnsCsv = \n",
    "    CsvProvider<IdAndReturnsFilePath,ResolutionFolder = __SOURCE_DIRECTORY__>.GetSample().Rows \n",
    "    |> Seq.toList\n",
    "let mySignalCsv = \n",
    "    CsvProvider<MySignalFilePath,ResolutionFolder = __SOURCE_DIRECTORY__>.GetSample().Rows \n",
    "    |> Seq.toList\n"
   ]
  },
  {
   "cell_type": "code",
   "execution_count": 23,
   "metadata": {
    "dotnet_interactive": {
     "language": "fsharp"
    },
    "polyglot_notebook": {
     "kernelName": "fsharp"
    }
   },
   "outputs": [
    {
     "data": {
      "text/html": [
       "<table><thead><tr><th><i>index</i></th><th>value</th></tr></thead><tbody><tr><td>0</td><td><details class=\"dni-treeview\"><summary><span class=\"dni-code-hint\"><code>(comp_001034_01, 31/12/2008 00:00:00, Some(0.5559700602))</code></span></summary><div><table><thead><tr></tr></thead><tbody><tr><td>Item1</td><td>comp_001034_01</td></tr><tr><td>Item2</td><td><span>2008-12-31 00:00:00Z</span></td></tr><tr><td>Item3</td><td><details class=\"dni-treeview\"><summary><span class=\"dni-code-hint\"><code>Some(0.5559700602)</code></span></summary><div><table><thead><tr></tr></thead><tbody><tr><td>Value</td><td><div class=\"dni-plaintext\"><pre>0.5559700602</pre></div></td></tr></tbody></table></div></details></td></tr></tbody></table></div></details></td></tr><tr><td>1</td><td><details class=\"dni-treeview\"><summary><span class=\"dni-code-hint\"><code>(comp_001043_01, 31/01/2000 00:00:00, )</code></span></summary><div><table><thead><tr></tr></thead><tbody><tr><td>Item1</td><td>comp_001043_01</td></tr><tr><td>Item2</td><td><span>2000-01-31 00:00:00Z</span></td></tr><tr><td>Item3</td><td><div class=\"dni-plaintext\"><pre>&lt;null&gt;</pre></div></td></tr></tbody></table></div></details></td></tr><tr><td>2</td><td><details class=\"dni-treeview\"><summary><span class=\"dni-code-hint\"><code>(comp_001076_02, 31/12/2010 00:00:00, Some(0.6593168365))</code></span></summary><div><table><thead><tr></tr></thead><tbody><tr><td>Item1</td><td>comp_001076_02</td></tr><tr><td>Item2</td><td><span>2010-12-31 00:00:00Z</span></td></tr><tr><td>Item3</td><td><details class=\"dni-treeview\"><summary><span class=\"dni-code-hint\"><code>Some(0.6593168365)</code></span></summary><div><table><thead><tr></tr></thead><tbody><tr><td>Value</td><td><div class=\"dni-plaintext\"><pre>0.6593168365</pre></div></td></tr></tbody></table></div></details></td></tr></tbody></table></div></details></td></tr><tr><td>3</td><td><details class=\"dni-treeview\"><summary><span class=\"dni-code-hint\"><code>(comp_001081_01, 31/10/2007 00:00:00, Some(2.7828229254))</code></span></summary><div><table><thead><tr></tr></thead><tbody><tr><td>Item1</td><td>comp_001081_01</td></tr><tr><td>Item2</td><td><span>2007-10-31 00:00:00Z</span></td></tr><tr><td>Item3</td><td><details class=\"dni-treeview\"><summary><span class=\"dni-code-hint\"><code>Some(2.7828229254)</code></span></summary><div><table><thead><tr></tr></thead><tbody><tr><td>Value</td><td><div class=\"dni-plaintext\"><pre>2.7828229254</pre></div></td></tr></tbody></table></div></details></td></tr></tbody></table></div></details></td></tr><tr><td>4</td><td><details class=\"dni-treeview\"><summary><span class=\"dni-code-hint\"><code>(comp_001095_01, 30/06/2002 00:00:00, Some(0.6236514886))</code></span></summary><div><table><thead><tr></tr></thead><tbody><tr><td>Item1</td><td>comp_001095_01</td></tr><tr><td>Item2</td><td><span>2002-06-30 00:00:00Z</span></td></tr><tr><td>Item3</td><td><details class=\"dni-treeview\"><summary><span class=\"dni-code-hint\"><code>Some(0.6236514886)</code></span></summary><div><table><thead><tr></tr></thead><tbody><tr><td>Value</td><td><div class=\"dni-plaintext\"><pre>0.6236514886</pre></div></td></tr></tbody></table></div></details></td></tr></tbody></table></div></details></td></tr><tr><td>5</td><td><details class=\"dni-treeview\"><summary><span class=\"dni-code-hint\"><code>(comp_001111_02, 31/07/2008 00:00:00, Some(0.2180964901))</code></span></summary><div><table><thead><tr></tr></thead><tbody><tr><td>Item1</td><td>comp_001111_02</td></tr><tr><td>Item2</td><td><span>2008-07-31 00:00:00Z</span></td></tr><tr><td>Item3</td><td><details class=\"dni-treeview\"><summary><span class=\"dni-code-hint\"><code>Some(0.2180964901)</code></span></summary><div><table><thead><tr></tr></thead><tbody><tr><td>Value</td><td><div class=\"dni-plaintext\"><pre>0.2180964901</pre></div></td></tr></tbody></table></div></details></td></tr></tbody></table></div></details></td></tr><tr><td>6</td><td><details class=\"dni-treeview\"><summary><span class=\"dni-code-hint\"><code>(comp_001117_02, 31/05/2003 00:00:00, Some(1.0342302181))</code></span></summary><div><table><thead><tr></tr></thead><tbody><tr><td>Item1</td><td>comp_001117_02</td></tr><tr><td>Item2</td><td><span>2003-05-31 00:00:00Z</span></td></tr><tr><td>Item3</td><td><details class=\"dni-treeview\"><summary><span class=\"dni-code-hint\"><code>Some(1.0342302181)</code></span></summary><div><table><thead><tr></tr></thead><tbody><tr><td>Value</td><td><div class=\"dni-plaintext\"><pre>1.0342302181</pre></div></td></tr></tbody></table></div></details></td></tr></tbody></table></div></details></td></tr><tr><td>7</td><td><details class=\"dni-treeview\"><summary><span class=\"dni-code-hint\"><code>(comp_001117_02, 30/06/2003 00:00:00, Some(0.8751178769))</code></span></summary><div><table><thead><tr></tr></thead><tbody><tr><td>Item1</td><td>comp_001117_02</td></tr><tr><td>Item2</td><td><span>2003-06-30 00:00:00Z</span></td></tr><tr><td>Item3</td><td><details class=\"dni-treeview\"><summary><span class=\"dni-code-hint\"><code>Some(0.8751178769)</code></span></summary><div><table><thead><tr></tr></thead><tbody><tr><td>Value</td><td><div class=\"dni-plaintext\"><pre>0.8751178769</pre></div></td></tr></tbody></table></div></details></td></tr></tbody></table></div></details></td></tr><tr><td>8</td><td><details class=\"dni-treeview\"><summary><span class=\"dni-code-hint\"><code>(comp_001117_02, 31/07/2003 00:00:00, Some(0.8417513135))</code></span></summary><div><table><thead><tr></tr></thead><tbody><tr><td>Item1</td><td>comp_001117_02</td></tr><tr><td>Item2</td><td><span>2003-07-31 00:00:00Z</span></td></tr><tr><td>Item3</td><td><details class=\"dni-treeview\"><summary><span class=\"dni-code-hint\"><code>Some(0.8417513135)</code></span></summary><div><table><thead><tr></tr></thead><tbody><tr><td>Value</td><td><div class=\"dni-plaintext\"><pre>0.8417513135</pre></div></td></tr></tbody></table></div></details></td></tr></tbody></table></div></details></td></tr><tr><td>9</td><td><details class=\"dni-treeview\"><summary><span class=\"dni-code-hint\"><code>(comp_001117_02, 31/08/2003 00:00:00, Some(0.809376263))</code></span></summary><div><table><thead><tr></tr></thead><tbody><tr><td>Item1</td><td>comp_001117_02</td></tr><tr><td>Item2</td><td><span>2003-08-31 00:00:00Z</span></td></tr><tr><td>Item3</td><td><details class=\"dni-treeview\"><summary><span class=\"dni-code-hint\"><code>Some(0.809376263)</code></span></summary><div><table><thead><tr></tr></thead><tbody><tr><td>Value</td><td><div class=\"dni-plaintext\"><pre>0.809376263</pre></div></td></tr></tbody></table></div></details></td></tr></tbody></table></div></details></td></tr><tr><td>10</td><td><details class=\"dni-treeview\"><summary><span class=\"dni-code-hint\"><code>(comp_001117_02, 30/09/2003 00:00:00, Some(0.3288091068))</code></span></summary><div><table><thead><tr></tr></thead><tbody><tr><td>Item1</td><td>comp_001117_02</td></tr><tr><td>Item2</td><td><span>2003-09-30 00:00:00Z</span></td></tr><tr><td>Item3</td><td><details class=\"dni-treeview\"><summary><span class=\"dni-code-hint\"><code>Some(0.3288091068)</code></span></summary><div><table><thead><tr></tr></thead><tbody><tr><td>Value</td><td><div class=\"dni-plaintext\"><pre>0.3288091068</pre></div></td></tr></tbody></table></div></details></td></tr></tbody></table></div></details></td></tr><tr><td>11</td><td><details class=\"dni-treeview\"><summary><span class=\"dni-code-hint\"><code>(comp_001117_02, 31/10/2003 00:00:00, Some(0.3399090198))</code></span></summary><div><table><thead><tr></tr></thead><tbody><tr><td>Item1</td><td>comp_001117_02</td></tr><tr><td>Item2</td><td><span>2003-10-31 00:00:00Z</span></td></tr><tr><td>Item3</td><td><details class=\"dni-treeview\"><summary><span class=\"dni-code-hint\"><code>Some(0.3399090198)</code></span></summary><div><table><thead><tr></tr></thead><tbody><tr><td>Value</td><td><div class=\"dni-plaintext\"><pre>0.3399090198</pre></div></td></tr></tbody></table></div></details></td></tr></tbody></table></div></details></td></tr><tr><td>12</td><td><details class=\"dni-treeview\"><summary><span class=\"dni-code-hint\"><code>(comp_001117_02, 30/11/2003 00:00:00, Some(0.3381757213))</code></span></summary><div><table><thead><tr></tr></thead><tbody><tr><td>Item1</td><td>comp_001117_02</td></tr><tr><td>Item2</td><td><span>2003-11-30 00:00:00Z</span></td></tr><tr><td>Item3</td><td><details class=\"dni-treeview\"><summary><span class=\"dni-code-hint\"><code>Some(0.3381757213)</code></span></summary><div><table><thead><tr></tr></thead><tbody><tr><td>Value</td><td><div class=\"dni-plaintext\"><pre>0.3381757213</pre></div></td></tr></tbody></table></div></details></td></tr></tbody></table></div></details></td></tr><tr><td>13</td><td><details class=\"dni-treeview\"><summary><span class=\"dni-code-hint\"><code>(comp_001117_02, 31/12/2003 00:00:00, Some(0.3294486059))</code></span></summary><div><table><thead><tr></tr></thead><tbody><tr><td>Item1</td><td>comp_001117_02</td></tr><tr><td>Item2</td><td><span>2003-12-31 00:00:00Z</span></td></tr><tr><td>Item3</td><td><details class=\"dni-treeview\"><summary><span class=\"dni-code-hint\"><code>Some(0.3294486059)</code></span></summary><div><table><thead><tr></tr></thead><tbody><tr><td>Value</td><td><div class=\"dni-plaintext\"><pre>0.3294486059</pre></div></td></tr></tbody></table></div></details></td></tr></tbody></table></div></details></td></tr><tr><td>14</td><td><details class=\"dni-treeview\"><summary><span class=\"dni-code-hint\"><code>(comp_001117_02, 31/01/2004 00:00:00, Some(0.2036921396))</code></span></summary><div><table><thead><tr></tr></thead><tbody><tr><td>Item1</td><td>comp_001117_02</td></tr><tr><td>Item2</td><td><span>2004-01-31 00:00:00Z</span></td></tr><tr><td>Item3</td><td><details class=\"dni-treeview\"><summary><span class=\"dni-code-hint\"><code>Some(0.2036921396)</code></span></summary><div><table><thead><tr></tr></thead><tbody><tr><td>Value</td><td><div class=\"dni-plaintext\"><pre>0.2036921396</pre></div></td></tr></tbody></table></div></details></td></tr></tbody></table></div></details></td></tr><tr><td>15</td><td><details class=\"dni-treeview\"><summary><span class=\"dni-code-hint\"><code>(comp_001117_02, 29/02/2004 00:00:00, Some(0.1481397379))</code></span></summary><div><table><thead><tr></tr></thead><tbody><tr><td>Item1</td><td>comp_001117_02</td></tr><tr><td>Item2</td><td><span>2004-02-29 00:00:00Z</span></td></tr><tr><td>Item3</td><td><details class=\"dni-treeview\"><summary><span class=\"dni-code-hint\"><code>Some(0.1481397379)</code></span></summary><div><table><thead><tr></tr></thead><tbody><tr><td>Value</td><td><div class=\"dni-plaintext\"><pre>0.1481397379</pre></div></td></tr></tbody></table></div></details></td></tr></tbody></table></div></details></td></tr><tr><td>16</td><td><details class=\"dni-treeview\"><summary><span class=\"dni-code-hint\"><code>(comp_001117_02, 31/03/2004 00:00:00, Some(0.2060292878))</code></span></summary><div><table><thead><tr></tr></thead><tbody><tr><td>Item1</td><td>comp_001117_02</td></tr><tr><td>Item2</td><td><span>2004-03-31 00:00:00Z</span></td></tr><tr><td>Item3</td><td><details class=\"dni-treeview\"><summary><span class=\"dni-code-hint\"><code>Some(0.2060292878)</code></span></summary><div><table><thead><tr></tr></thead><tbody><tr><td>Value</td><td><div class=\"dni-plaintext\"><pre>0.2060292878</pre></div></td></tr></tbody></table></div></details></td></tr></tbody></table></div></details></td></tr><tr><td>17</td><td><details class=\"dni-treeview\"><summary><span class=\"dni-code-hint\"><code>(comp_001117_02, 30/04/2004 00:00:00, Some(0.1795151741))</code></span></summary><div><table><thead><tr></tr></thead><tbody><tr><td>Item1</td><td>comp_001117_02</td></tr><tr><td>Item2</td><td><span>2004-04-30 00:00:00Z</span></td></tr><tr><td>Item3</td><td><details class=\"dni-treeview\"><summary><span class=\"dni-code-hint\"><code>Some(0.1795151741)</code></span></summary><div><table><thead><tr></tr></thead><tbody><tr><td>Value</td><td><div class=\"dni-plaintext\"><pre>0.1795151741</pre></div></td></tr></tbody></table></div></details></td></tr></tbody></table></div></details></td></tr><tr><td>18</td><td><details class=\"dni-treeview\"><summary><span class=\"dni-code-hint\"><code>(comp_001117_02, 31/05/2004 00:00:00, Some(0.1944747719))</code></span></summary><div><table><thead><tr></tr></thead><tbody><tr><td>Item1</td><td>comp_001117_02</td></tr><tr><td>Item2</td><td><span>2004-05-31 00:00:00Z</span></td></tr><tr><td>Item3</td><td><details class=\"dni-treeview\"><summary><span class=\"dni-code-hint\"><code>Some(0.1944747719)</code></span></summary><div><table><thead><tr></tr></thead><tbody><tr><td>Value</td><td><div class=\"dni-plaintext\"><pre>0.1944747719</pre></div></td></tr></tbody></table></div></details></td></tr></tbody></table></div></details></td></tr><tr><td>19</td><td><details class=\"dni-treeview\"><summary><span class=\"dni-code-hint\"><code>(comp_001117_02, 30/06/2004 00:00:00, Some(0.1897314848))</code></span></summary><div><table><thead><tr></tr></thead><tbody><tr><td>Item1</td><td>comp_001117_02</td></tr><tr><td>Item2</td><td><span>2004-06-30 00:00:00Z</span></td></tr><tr><td>Item3</td><td><details class=\"dni-treeview\"><summary><span class=\"dni-code-hint\"><code>Some(0.1897314848)</code></span></summary><div><table><thead><tr></tr></thead><tbody><tr><td>Value</td><td><div class=\"dni-plaintext\"><pre>0.1897314848</pre></div></td></tr></tbody></table></div></details></td></tr></tbody></table></div></details></td></tr><tr><td colspan=\"2\"><i>... (more)</i></td></tr></tbody></table><style>\r\n",
       ".dni-code-hint {\r\n",
       "    font-style: italic;\r\n",
       "    overflow: hidden;\r\n",
       "    white-space: nowrap;\r\n",
       "}\r\n",
       ".dni-treeview {\r\n",
       "    white-space: nowrap;\r\n",
       "}\r\n",
       ".dni-treeview td {\r\n",
       "    vertical-align: top;\r\n",
       "    text-align: start;\r\n",
       "}\r\n",
       "details.dni-treeview {\r\n",
       "    padding-left: 1em;\r\n",
       "}\r\n",
       "table td {\r\n",
       "    text-align: start;\r\n",
       "}\r\n",
       "table tr { \r\n",
       "    vertical-align: top; \r\n",
       "    margin: 0em 0px;\r\n",
       "}\r\n",
       "table tr td pre \r\n",
       "{ \r\n",
       "    vertical-align: top !important; \r\n",
       "    margin: 0em 0px !important;\r\n",
       "} \r\n",
       "table th {\r\n",
       "    text-align: start;\r\n",
       "}\r\n",
       "</style>"
      ]
     },
     "metadata": {},
     "output_type": "display_data"
    }
   ],
   "source": [
    "mySignalCsv"
   ]
  },
  {
   "attachments": {},
   "cell_type": "markdown",
   "metadata": {},
   "source": [
    "A list of `Signal` records. The signal type is defined in the `NovaSBE.Finance.Portfolio` module [here](https://github.com/nhirschey/NovaSBE.Finance/blob/6d1398625e5a9279af00bb6e1c1802af3596c3f6/src/NovaSBE.Finance/Portfolio.fs#L178-L181).\n",
    "\n"
   ]
  },
  {
   "cell_type": "code",
   "execution_count": 10,
   "metadata": {
    "dotnet_interactive": {
     "language": "fsharp"
    },
    "polyglot_notebook": {
     "kernelName": "fsharp"
    }
   },
   "outputs": [
    {
     "data": {
      "text/html": [
       "<table><thead><tr><th><i>index</i></th><th>value</th></tr></thead><tbody><tr><td>0</td><td><details class=\"dni-treeview\"><summary><span class=\"dni-code-hint\"><code>{ SecurityId = Other \"comp_001034_01\"\\n  FormationDate = 01/12/2008 00:00:00\\n  Signal = 0.5559700602 }</code></span></summary><div><table><thead><tr></tr></thead><tbody><tr><td>SecurityId</td><td><details class=\"dni-treeview\"><summary><span class=\"dni-code-hint\"><code>Other \"comp_001034_01\"</code></span></summary><div><table><thead><tr></tr></thead><tbody><tr><td>Item</td><td>comp_001034_01</td></tr></tbody></table></div></details></td></tr><tr><td>FormationDate</td><td><span>2008-12-01 00:00:00Z</span></td></tr><tr><td>Signal</td><td><div class=\"dni-plaintext\"><pre>0.5559700602</pre></div></td></tr></tbody></table></div></details></td></tr><tr><td>1</td><td><details class=\"dni-treeview\"><summary><span class=\"dni-code-hint\"><code>{ SecurityId = Other \"comp_001076_02\"\\n  FormationDate = 01/12/2010 00:00:00\\n  Signal = 0.6593168365 }</code></span></summary><div><table><thead><tr></tr></thead><tbody><tr><td>SecurityId</td><td><details class=\"dni-treeview\"><summary><span class=\"dni-code-hint\"><code>Other \"comp_001076_02\"</code></span></summary><div><table><thead><tr></tr></thead><tbody><tr><td>Item</td><td>comp_001076_02</td></tr></tbody></table></div></details></td></tr><tr><td>FormationDate</td><td><span>2010-12-01 00:00:00Z</span></td></tr><tr><td>Signal</td><td><div class=\"dni-plaintext\"><pre>0.6593168365</pre></div></td></tr></tbody></table></div></details></td></tr><tr><td>2</td><td><details class=\"dni-treeview\"><summary><span class=\"dni-code-hint\"><code>{ SecurityId = Other \"comp_001081_01\"\\n  FormationDate = 01/10/2007 00:00:00\\n  Signal = 2.782822925 }</code></span></summary><div><table><thead><tr></tr></thead><tbody><tr><td>SecurityId</td><td><details class=\"dni-treeview\"><summary><span class=\"dni-code-hint\"><code>Other \"comp_001081_01\"</code></span></summary><div><table><thead><tr></tr></thead><tbody><tr><td>Item</td><td>comp_001081_01</td></tr></tbody></table></div></details></td></tr><tr><td>FormationDate</td><td><span>2007-10-01 00:00:00Z</span></td></tr><tr><td>Signal</td><td><div class=\"dni-plaintext\"><pre>2.7828229254</pre></div></td></tr></tbody></table></div></details></td></tr><tr><td>3</td><td><details class=\"dni-treeview\"><summary><span class=\"dni-code-hint\"><code>{ SecurityId = Other \"comp_001095_01\"\\n  FormationDate = 01/06/2002 00:00:00\\n  Signal = 0.6236514886 }</code></span></summary><div><table><thead><tr></tr></thead><tbody><tr><td>SecurityId</td><td><details class=\"dni-treeview\"><summary><span class=\"dni-code-hint\"><code>Other \"comp_001095_01\"</code></span></summary><div><table><thead><tr></tr></thead><tbody><tr><td>Item</td><td>comp_001095_01</td></tr></tbody></table></div></details></td></tr><tr><td>FormationDate</td><td><span>2002-06-01 00:00:00Z</span></td></tr><tr><td>Signal</td><td><div class=\"dni-plaintext\"><pre>0.6236514886</pre></div></td></tr></tbody></table></div></details></td></tr></tbody></table><style>\r\n",
       ".dni-code-hint {\r\n",
       "    font-style: italic;\r\n",
       "    overflow: hidden;\r\n",
       "    white-space: nowrap;\r\n",
       "}\r\n",
       ".dni-treeview {\r\n",
       "    white-space: nowrap;\r\n",
       "}\r\n",
       ".dni-treeview td {\r\n",
       "    vertical-align: top;\r\n",
       "    text-align: start;\r\n",
       "}\r\n",
       "details.dni-treeview {\r\n",
       "    padding-left: 1em;\r\n",
       "}\r\n",
       "table td {\r\n",
       "    text-align: start;\r\n",
       "}\r\n",
       "table tr { \r\n",
       "    vertical-align: top; \r\n",
       "    margin: 0em 0px;\r\n",
       "}\r\n",
       "table tr td pre \r\n",
       "{ \r\n",
       "    vertical-align: top !important; \r\n",
       "    margin: 0em 0px !important;\r\n",
       "} \r\n",
       "table th {\r\n",
       "    text-align: start;\r\n",
       "}\r\n",
       "</style>"
      ]
     },
     "metadata": {},
     "output_type": "display_data"
    }
   ],
   "source": [
    "let mySignals =\n",
    "    mySignalCsv\n",
    "    |> List.choose (fun row -> \n",
    "        match row.Signal with\n",
    "        | None -> None\n",
    "        | Some signal ->\n",
    "            let signalRecord: Signal =\n",
    "                { SecurityId = Other row.Id\n",
    "                  FormationDate = DateTime(row.Eom.Year, row.Eom.Month, 1)\n",
    "                  Signal = signal }\n",
    "            Some signalRecord)\n",
    "\n",
    "// look at a few signals\n",
    "mySignals[..3]\n"
   ]
  },
  {
   "attachments": {},
   "cell_type": "markdown",
   "metadata": {},
   "source": [
    "A list of Security return records. The `SecurityReturn` type is defined in the `NovaSBE.Finance.Portfolio` module [here](https://github.com/nhirschey/NovaSBE.Finance/blob/6d1398625e5a9279af00bb6e1c1802af3596c3f6/src/NovaSBE.Finance/Portfolio.fs#L173-L176)\n",
    "\n"
   ]
  },
  {
   "cell_type": "code",
   "execution_count": 11,
   "metadata": {
    "dotnet_interactive": {
     "language": "fsharp"
    },
    "polyglot_notebook": {
     "kernelName": "fsharp"
    }
   },
   "outputs": [
    {
     "data": {
      "text/html": [
       "<table><thead><tr><th><i>index</i></th><th>value</th></tr></thead><tbody><tr><td>0</td><td><details class=\"dni-treeview\"><summary><span class=\"dni-code-hint\"><code>{ SecurityId = Other \"crsp_86432\"\\n  Date = 01/01/2000 00:00:00\\n  Return = -0.003906 }</code></span></summary><div><table><thead><tr></tr></thead><tbody><tr><td>SecurityId</td><td><details class=\"dni-treeview\"><summary><span class=\"dni-code-hint\"><code>Other \"crsp_86432\"</code></span></summary><div><table><thead><tr></tr></thead><tbody><tr><td>Item</td><td>crsp_86432</td></tr></tbody></table></div></details></td></tr><tr><td>Date</td><td><span>2000-01-01 00:00:00Z</span></td></tr><tr><td>Return</td><td><div class=\"dni-plaintext\"><pre>-0.003906</pre></div></td></tr></tbody></table></div></details></td></tr><tr><td>1</td><td><details class=\"dni-treeview\"><summary><span class=\"dni-code-hint\"><code>{ SecurityId = Other \"crsp_85640\"\\n  Date = 01/01/2000 00:00:00\\n  Return = -0.157143 }</code></span></summary><div><table><thead><tr></tr></thead><tbody><tr><td>SecurityId</td><td><details class=\"dni-treeview\"><summary><span class=\"dni-code-hint\"><code>Other \"crsp_85640\"</code></span></summary><div><table><thead><tr></tr></thead><tbody><tr><td>Item</td><td>crsp_85640</td></tr></tbody></table></div></details></td></tr><tr><td>Date</td><td><span>2000-01-01 00:00:00Z</span></td></tr><tr><td>Return</td><td><div class=\"dni-plaintext\"><pre>-0.157143</pre></div></td></tr></tbody></table></div></details></td></tr><tr><td>2</td><td><details class=\"dni-treeview\"><summary><span class=\"dni-code-hint\"><code>{ SecurityId = Other \"crsp_86430\"\\n  Date = 01/01/2000 00:00:00\\n  Return = 0.285714 }</code></span></summary><div><table><thead><tr></tr></thead><tbody><tr><td>SecurityId</td><td><details class=\"dni-treeview\"><summary><span class=\"dni-code-hint\"><code>Other \"crsp_86430\"</code></span></summary><div><table><thead><tr></tr></thead><tbody><tr><td>Item</td><td>crsp_86430</td></tr></tbody></table></div></details></td></tr><tr><td>Date</td><td><span>2000-01-01 00:00:00Z</span></td></tr><tr><td>Return</td><td><div class=\"dni-plaintext\"><pre>0.285714</pre></div></td></tr></tbody></table></div></details></td></tr><tr><td>3</td><td><details class=\"dni-treeview\"><summary><span class=\"dni-code-hint\"><code>{ SecurityId = Other \"crsp_85756\"\\n  Date = 01/01/2000 00:00:00\\n  Return = 0.190685 }</code></span></summary><div><table><thead><tr></tr></thead><tbody><tr><td>SecurityId</td><td><details class=\"dni-treeview\"><summary><span class=\"dni-code-hint\"><code>Other \"crsp_85756\"</code></span></summary><div><table><thead><tr></tr></thead><tbody><tr><td>Item</td><td>crsp_85756</td></tr></tbody></table></div></details></td></tr><tr><td>Date</td><td><span>2000-01-01 00:00:00Z</span></td></tr><tr><td>Return</td><td><div class=\"dni-plaintext\"><pre>0.190685</pre></div></td></tr></tbody></table></div></details></td></tr></tbody></table><style>\r\n",
       ".dni-code-hint {\r\n",
       "    font-style: italic;\r\n",
       "    overflow: hidden;\r\n",
       "    white-space: nowrap;\r\n",
       "}\r\n",
       ".dni-treeview {\r\n",
       "    white-space: nowrap;\r\n",
       "}\r\n",
       ".dni-treeview td {\r\n",
       "    vertical-align: top;\r\n",
       "    text-align: start;\r\n",
       "}\r\n",
       "details.dni-treeview {\r\n",
       "    padding-left: 1em;\r\n",
       "}\r\n",
       "table td {\r\n",
       "    text-align: start;\r\n",
       "}\r\n",
       "table tr { \r\n",
       "    vertical-align: top; \r\n",
       "    margin: 0em 0px;\r\n",
       "}\r\n",
       "table tr td pre \r\n",
       "{ \r\n",
       "    vertical-align: top !important; \r\n",
       "    margin: 0em 0px !important;\r\n",
       "} \r\n",
       "table th {\r\n",
       "    text-align: start;\r\n",
       "}\r\n",
       "</style>"
      ]
     },
     "metadata": {},
     "output_type": "display_data"
    }
   ],
   "source": [
    "let myReturns =\n",
    "    idAndReturnsCsv\n",
    "    |> List.choose (fun row -> \n",
    "        match row.Ret with\n",
    "        | None -> None\n",
    "        | Some ret ->\n",
    "            let ret: SecurityReturn =\n",
    "                { SecurityId = Other row.Id\n",
    "                  Date = DateTime(row.Eom.Year, row.Eom.Month, 1)\n",
    "                  Return= ret }\n",
    "            Some ret)\n",
    "\n",
    "// look at a few returns\n",
    "myReturns[..3]\n"
   ]
  },
  {
   "attachments": {},
   "cell_type": "markdown",
   "metadata": {},
   "source": [
    "A list of security market caps. We'll need this for value-weight portfolios. The `WeightVariable` type is defined in the `NovaSBE.Finance.Portfolio` module [here](https://github.com/nhirschey/NovaSBE.Finance/blob/6d1398625e5a9279af00bb6e1c1802af3596c3f6/src/NovaSBE.Finance/Portfolio.fs#L183-L186).\n",
    "\n"
   ]
  },
  {
   "cell_type": "code",
   "execution_count": 12,
   "metadata": {
    "dotnet_interactive": {
     "language": "fsharp"
    },
    "polyglot_notebook": {
     "kernelName": "fsharp"
    }
   },
   "outputs": [
    {
     "data": {
      "text/html": [
       "<table><thead><tr><th><i>index</i></th><th>value</th></tr></thead><tbody><tr><td>0</td><td><details class=\"dni-treeview\"><summary><span class=\"dni-code-hint\"><code>{ SecurityId = Other \"crsp_86432\"\\n  FormationDate = 01/01/2000 00:00:00\\n  Value = 83.161875 }</code></span></summary><div><table><thead><tr></tr></thead><tbody><tr><td>SecurityId</td><td><details class=\"dni-treeview\"><summary><span class=\"dni-code-hint\"><code>Other \"crsp_86432\"</code></span></summary><div><table><thead><tr></tr></thead><tbody><tr><td>Item</td><td>crsp_86432</td></tr></tbody></table></div></details></td></tr><tr><td>FormationDate</td><td><span>2000-01-01 00:00:00Z</span></td></tr><tr><td>Value</td><td><div class=\"dni-plaintext\"><pre>83.161875</pre></div></td></tr></tbody></table></div></details></td></tr><tr><td>1</td><td><details class=\"dni-treeview\"><summary><span class=\"dni-code-hint\"><code>{ SecurityId = Other \"crsp_85640\"\\n  FormationDate = 01/01/2000 00:00:00\\n  Value = 377.954 }</code></span></summary><div><table><thead><tr></tr></thead><tbody><tr><td>SecurityId</td><td><details class=\"dni-treeview\"><summary><span class=\"dni-code-hint\"><code>Other \"crsp_85640\"</code></span></summary><div><table><thead><tr></tr></thead><tbody><tr><td>Item</td><td>crsp_85640</td></tr></tbody></table></div></details></td></tr><tr><td>FormationDate</td><td><span>2000-01-01 00:00:00Z</span></td></tr><tr><td>Value</td><td><div class=\"dni-plaintext\"><pre>377.954</pre></div></td></tr></tbody></table></div></details></td></tr><tr><td>2</td><td><details class=\"dni-treeview\"><summary><span class=\"dni-code-hint\"><code>{ SecurityId = Other \"crsp_86430\"\\n  FormationDate = 01/01/2000 00:00:00\\n  Value = 42.38325 }</code></span></summary><div><table><thead><tr></tr></thead><tbody><tr><td>SecurityId</td><td><details class=\"dni-treeview\"><summary><span class=\"dni-code-hint\"><code>Other \"crsp_86430\"</code></span></summary><div><table><thead><tr></tr></thead><tbody><tr><td>Item</td><td>crsp_86430</td></tr></tbody></table></div></details></td></tr><tr><td>FormationDate</td><td><span>2000-01-01 00:00:00Z</span></td></tr><tr><td>Value</td><td><div class=\"dni-plaintext\"><pre>42.38325</pre></div></td></tr></tbody></table></div></details></td></tr><tr><td>3</td><td><details class=\"dni-treeview\"><summary><span class=\"dni-code-hint\"><code>{ SecurityId = Other \"crsp_85756\"\\n  FormationDate = 01/01/2000 00:00:00\\n  Value = 16.2155 }</code></span></summary><div><table><thead><tr></tr></thead><tbody><tr><td>SecurityId</td><td><details class=\"dni-treeview\"><summary><span class=\"dni-code-hint\"><code>Other \"crsp_85756\"</code></span></summary><div><table><thead><tr></tr></thead><tbody><tr><td>Item</td><td>crsp_85756</td></tr></tbody></table></div></details></td></tr><tr><td>FormationDate</td><td><span>2000-01-01 00:00:00Z</span></td></tr><tr><td>Value</td><td><div class=\"dni-plaintext\"><pre>16.2155</pre></div></td></tr></tbody></table></div></details></td></tr></tbody></table><style>\r\n",
       ".dni-code-hint {\r\n",
       "    font-style: italic;\r\n",
       "    overflow: hidden;\r\n",
       "    white-space: nowrap;\r\n",
       "}\r\n",
       ".dni-treeview {\r\n",
       "    white-space: nowrap;\r\n",
       "}\r\n",
       ".dni-treeview td {\r\n",
       "    vertical-align: top;\r\n",
       "    text-align: start;\r\n",
       "}\r\n",
       "details.dni-treeview {\r\n",
       "    padding-left: 1em;\r\n",
       "}\r\n",
       "table td {\r\n",
       "    text-align: start;\r\n",
       "}\r\n",
       "table tr { \r\n",
       "    vertical-align: top; \r\n",
       "    margin: 0em 0px;\r\n",
       "}\r\n",
       "table tr td pre \r\n",
       "{ \r\n",
       "    vertical-align: top !important; \r\n",
       "    margin: 0em 0px !important;\r\n",
       "} \r\n",
       "table th {\r\n",
       "    text-align: start;\r\n",
       "}\r\n",
       "</style>"
      ]
     },
     "metadata": {},
     "output_type": "display_data"
    }
   ],
   "source": [
    "let myMktCaps =\n",
    "    idAndReturnsCsv\n",
    "    |> List.choose (fun row -> \n",
    "        match row.MarketEquity with\n",
    "        | None -> None\n",
    "        | Some mktCap ->\n",
    "            let mktCap: WeightVariable =\n",
    "                { SecurityId = Other row.Id\n",
    "                  FormationDate = DateTime(row.Eom.Year, row.Eom.Month, 1)\n",
    "                  Value = mktCap }\n",
    "            Some mktCap)\n",
    "\n",
    "// look at a few market caps\n",
    "myMktCaps[..3]\n"
   ]
  },
  {
   "attachments": {},
   "cell_type": "markdown",
   "metadata": {},
   "source": [
    "## Forming our strategy\n",
    "\n",
    "We're now going to use the `Backtest` code to generate portfolios. It is defined in the `NovaSBE.Finance.Portfolio` module [here](https://github.com/nhirschey/NovaSBE.Finance/blob/6d1398625e5a9279af00bb6e1c1802af3596c3f6/src/NovaSBE.Finance/Portfolio.fs#L199).\n",
    "The `Backtest` class automates some of the code we did earlier to make portfolio construction simpler.\n",
    "\n"
   ]
  },
  {
   "cell_type": "code",
   "execution_count": 13,
   "metadata": {
    "dotnet_interactive": {
     "language": "fsharp"
    },
    "polyglot_notebook": {
     "kernelName": "fsharp"
    }
   },
   "outputs": [],
   "source": [
    "let backtest = Backtest(returns=myReturns, signals=mySignals, nPortfolios=3, name = strategyName)\n"
   ]
  },
  {
   "attachments": {},
   "cell_type": "markdown",
   "metadata": {},
   "source": [
    "### Equal Weighted Portfolios\n",
    "\n"
   ]
  },
  {
   "cell_type": "code",
   "execution_count": 14,
   "metadata": {
    "dotnet_interactive": {
     "language": "fsharp"
    },
    "polyglot_notebook": {
     "kernelName": "fsharp"
    }
   },
   "outputs": [],
   "source": [
    "let ew = backtest.strategyEqualWeighted()\n"
   ]
  },
  {
   "attachments": {},
   "cell_type": "markdown",
   "metadata": {},
   "source": [
    "Some portfolios with their positions.\n",
    "\n"
   ]
  },
  {
   "cell_type": "code",
   "execution_count": 15,
   "metadata": {
    "dotnet_interactive": {
     "language": "fsharp"
    },
    "polyglot_notebook": {
     "kernelName": "fsharp"
    }
   },
   "outputs": [
    {
     "data": {
      "text/html": [
       "<table><thead><tr><th><i>index</i></th><th>value</th></tr></thead><tbody><tr><td>0</td><td><details class=\"dni-treeview\"><summary><span class=\"dni-code-hint\"><code>{ Name = \"book-to-market\"\\n  Index = 1\\n  FormationMonth = 01/12/2008 00:00:00\\n  Positions =\\n   [{ SecurityId = Other \"crsp_92800\"\\n      Weight = 0.0006451612903 }; { SecurityId = Other \"crsp_83386\"\\n                                    Weight = 0.0006451612903 };\\n    { SecurityId = Other \"crsp_8...</code></span></summary><div><table><thead><tr></tr></thead><tbody><tr><td>Name</td><td>book-to-market</td></tr><tr><td>Index</td><td><div class=\"dni-plaintext\"><pre>1</pre></div></td></tr><tr><td>FormationMonth</td><td><span>2008-12-01 00:00:00Z</span></td></tr><tr><td>Positions</td><td><table><thead><tr><th><i>index</i></th><th>value</th></tr></thead><tbody><tr><td>0</td><td><details class=\"dni-treeview\"><summary><span class=\"dni-code-hint\"><code>{ SecurityId = Other \"crsp_92800\"\\n  Weight = 0.0006451612903 }</code></span></summary><div><table><thead><tr></tr></thead><tbody><tr><td>SecurityId</td><td><details class=\"dni-treeview\"><summary><span class=\"dni-code-hint\"><code>Other \"crsp_92800\"</code></span></summary><div><table><thead><tr></tr></thead><tbody><tr><td>Item</td><td>crsp_92800</td></tr></tbody></table></div></details></td></tr><tr><td>Weight</td><td><div class=\"dni-plaintext\"><pre>0.0006451612903225806</pre></div></td></tr></tbody></table></div></details></td></tr><tr><td>1</td><td><details class=\"dni-treeview\"><summary><span class=\"dni-code-hint\"><code>{ SecurityId = Other \"crsp_83386\"\\n  Weight = 0.0006451612903 }</code></span></summary><div><table><thead><tr></tr></thead><tbody><tr><td>SecurityId</td><td><details class=\"dni-treeview\"><summary><span class=\"dni-code-hint\"><code>Other \"crsp_83386\"</code></span></summary><div><table><thead><tr></tr></thead><tbody><tr><td>Item</td><td>crsp_83386</td></tr></tbody></table></div></details></td></tr><tr><td>Weight</td><td><div class=\"dni-plaintext\"><pre>0.0006451612903225806</pre></div></td></tr></tbody></table></div></details></td></tr><tr><td>2</td><td><details class=\"dni-treeview\"><summary><span class=\"dni-code-hint\"><code>{ SecurityId = Other \"crsp_82567\"\\n  Weight = 0.0006451612903 }</code></span></summary><div><table><thead><tr></tr></thead><tbody><tr><td>SecurityId</td><td><details class=\"dni-treeview\"><summary><span class=\"dni-code-hint\"><code>Other \"crsp_82567\"</code></span></summary><div><table><thead><tr></tr></thead><tbody><tr><td>Item</td><td>crsp_82567</td></tr></tbody></table></div></details></td></tr><tr><td>Weight</td><td><div class=\"dni-plaintext\"><pre>0.0006451612903225806</pre></div></td></tr></tbody></table></div></details></td></tr><tr><td>3</td><td><details class=\"dni-treeview\"><summary><span class=\"dni-code-hint\"><code>{ SecurityId = Other \"crsp_90488\"\\n  Weight = 0.0006451612903 }</code></span></summary><div><table><thead><tr></tr></thead><tbody><tr><td>SecurityId</td><td><details class=\"dni-treeview\"><summary><span class=\"dni-code-hint\"><code>Other \"crsp_90488\"</code></span></summary><div><table><thead><tr></tr></thead><tbody><tr><td>Item</td><td>crsp_90488</td></tr></tbody></table></div></details></td></tr><tr><td>Weight</td><td><div class=\"dni-plaintext\"><pre>0.0006451612903225806</pre></div></td></tr></tbody></table></div></details></td></tr><tr><td>4</td><td><details class=\"dni-treeview\"><summary><span class=\"dni-code-hint\"><code>{ SecurityId = Other \"comp_180759_01\"\\n  Weight = 0.0006451612903 }</code></span></summary><div><table><thead><tr></tr></thead><tbody><tr><td>SecurityId</td><td><details class=\"dni-treeview\"><summary><span class=\"dni-code-hint\"><code>Other \"comp_180759_01\"</code></span></summary><div><table><thead><tr></tr></thead><tbody><tr><td>Item</td><td>comp_180759_01</td></tr></tbody></table></div></details></td></tr><tr><td>Weight</td><td><div class=\"dni-plaintext\"><pre>0.0006451612903225806</pre></div></td></tr></tbody></table></div></details></td></tr><tr><td>5</td><td><details class=\"dni-treeview\"><summary><span class=\"dni-code-hint\"><code>{ SecurityId = Other \"crsp_79698\"\\n  Weight = 0.0006451612903 }</code></span></summary><div><table><thead><tr></tr></thead><tbody><tr><td>SecurityId</td><td><details class=\"dni-treeview\"><summary><span class=\"dni-code-hint\"><code>Other \"crsp_79698\"</code></span></summary><div><table><thead><tr></tr></thead><tbody><tr><td>Item</td><td>crsp_79698</td></tr></tbody></table></div></details></td></tr><tr><td>Weight</td><td><div class=\"dni-plaintext\"><pre>0.0006451612903225806</pre></div></td></tr></tbody></table></div></details></td></tr><tr><td>6</td><td><details class=\"dni-treeview\"><summary><span class=\"dni-code-hint\"><code>{ SecurityId = Other \"crsp_88159\"\\n  Weight = 0.0006451612903 }</code></span></summary><div><table><thead><tr></tr></thead><tbody><tr><td>SecurityId</td><td><details class=\"dni-treeview\"><summary><span class=\"dni-code-hint\"><code>Other \"crsp_88159\"</code></span></summary><div><table><thead><tr></tr></thead><tbody><tr><td>Item</td><td>crsp_88159</td></tr></tbody></table></div></details></td></tr><tr><td>Weight</td><td><div class=\"dni-plaintext\"><pre>0.0006451612903225806</pre></div></td></tr></tbody></table></div></details></td></tr><tr><td>7</td><td><details class=\"dni-treeview\"><summary><span class=\"dni-code-hint\"><code>{ SecurityId = Other \"crsp_90325\"\\n  Weight = 0.0006451612903 }</code></span></summary><div><table><thead><tr></tr></thead><tbody><tr><td>SecurityId</td><td><details class=\"dni-treeview\"><summary><span class=\"dni-code-hint\"><code>Other \"crsp_90325\"</code></span></summary><div><table><thead><tr></tr></thead><tbody><tr><td>Item</td><td>crsp_90325</td></tr></tbody></table></div></details></td></tr><tr><td>Weight</td><td><div class=\"dni-plaintext\"><pre>0.0006451612903225806</pre></div></td></tr></tbody></table></div></details></td></tr><tr><td>8</td><td><details class=\"dni-treeview\"><summary><span class=\"dni-code-hint\"><code>{ SecurityId = Other \"crsp_85706\"\\n  Weight = 0.0006451612903 }</code></span></summary><div><table><thead><tr></tr></thead><tbody><tr><td>SecurityId</td><td><details class=\"dni-treeview\"><summary><span class=\"dni-code-hint\"><code>Other \"crsp_85706\"</code></span></summary><div><table><thead><tr></tr></thead><tbody><tr><td>Item</td><td>crsp_85706</td></tr></tbody></table></div></details></td></tr><tr><td>Weight</td><td><div class=\"dni-plaintext\"><pre>0.0006451612903225806</pre></div></td></tr></tbody></table></div></details></td></tr><tr><td>9</td><td><details class=\"dni-treeview\"><summary><span class=\"dni-code-hint\"><code>{ SecurityId = Other \"crsp_87816\"\\n  Weight = 0.0006451612903 }</code></span></summary><div><table><thead><tr></tr></thead><tbody><tr><td>SecurityId</td><td><details class=\"dni-treeview\"><summary><span class=\"dni-code-hint\"><code>Other \"crsp_87816\"</code></span></summary><div><table><thead><tr></tr></thead><tbody><tr><td>Item</td><td>crsp_87816</td></tr></tbody></table></div></details></td></tr><tr><td>Weight</td><td><div class=\"dni-plaintext\"><pre>0.0006451612903225806</pre></div></td></tr></tbody></table></div></details></td></tr><tr><td>10</td><td><details class=\"dni-treeview\"><summary><span class=\"dni-code-hint\"><code>{ SecurityId = Other \"crsp_91434\"\\n  Weight = 0.0006451612903 }</code></span></summary><div><table><thead><tr></tr></thead><tbody><tr><td>SecurityId</td><td><details class=\"dni-treeview\"><summary><span class=\"dni-code-hint\"><code>Other \"crsp_91434\"</code></span></summary><div><table><thead><tr></tr></thead><tbody><tr><td>Item</td><td>crsp_91434</td></tr></tbody></table></div></details></td></tr><tr><td>Weight</td><td><div class=\"dni-plaintext\"><pre>0.0006451612903225806</pre></div></td></tr></tbody></table></div></details></td></tr><tr><td>11</td><td><details class=\"dni-treeview\"><summary><span class=\"dni-code-hint\"><code>{ SecurityId = Other \"crsp_79678\"\\n  Weight = 0.0006451612903 }</code></span></summary><div><table><thead><tr></tr></thead><tbody><tr><td>SecurityId</td><td><details class=\"dni-treeview\"><summary><span class=\"dni-code-hint\"><code>Other \"crsp_79678\"</code></span></summary><div><table><thead><tr></tr></thead><tbody><tr><td>Item</td><td>crsp_79678</td></tr></tbody></table></div></details></td></tr><tr><td>Weight</td><td><div class=\"dni-plaintext\"><pre>0.0006451612903225806</pre></div></td></tr></tbody></table></div></details></td></tr><tr><td>12</td><td><details class=\"dni-treeview\"><summary><span class=\"dni-code-hint\"><code>{ SecurityId = Other \"crsp_89952\"\\n  Weight = 0.0006451612903 }</code></span></summary><div><table><thead><tr></tr></thead><tbody><tr><td>SecurityId</td><td><details class=\"dni-treeview\"><summary><span class=\"dni-code-hint\"><code>Other \"crsp_89952\"</code></span></summary><div><table><thead><tr></tr></thead><tbody><tr><td>Item</td><td>crsp_89952</td></tr></tbody></table></div></details></td></tr><tr><td>Weight</td><td><div class=\"dni-plaintext\"><pre>0.0006451612903225806</pre></div></td></tr></tbody></table></div></details></td></tr><tr><td>13</td><td><details class=\"dni-treeview\"><summary><span class=\"dni-code-hint\"><code>{ SecurityId = Other \"crsp_84020\"\\n  Weight = 0.0006451612903 }</code></span></summary><div><table><thead><tr></tr></thead><tbody><tr><td>SecurityId</td><td><details class=\"dni-treeview\"><summary><span class=\"dni-code-hint\"><code>Other \"crsp_84020\"</code></span></summary><div><table><thead><tr></tr></thead><tbody><tr><td>Item</td><td>crsp_84020</td></tr></tbody></table></div></details></td></tr><tr><td>Weight</td><td><div class=\"dni-plaintext\"><pre>0.0006451612903225806</pre></div></td></tr></tbody></table></div></details></td></tr><tr><td>14</td><td><details class=\"dni-treeview\"><summary><span class=\"dni-code-hint\"><code>{ SecurityId = Other \"crsp_81128\"\\n  Weight = 0.0006451612903 }</code></span></summary><div><table><thead><tr></tr></thead><tbody><tr><td>SecurityId</td><td><details class=\"dni-treeview\"><summary><span class=\"dni-code-hint\"><code>Other \"crsp_81128\"</code></span></summary><div><table><thead><tr></tr></thead><tbody><tr><td>Item</td><td>crsp_81128</td></tr></tbody></table></div></details></td></tr><tr><td>Weight</td><td><div class=\"dni-plaintext\"><pre>0.0006451612903225806</pre></div></td></tr></tbody></table></div></details></td></tr><tr><td>15</td><td><details class=\"dni-treeview\"><summary><span class=\"dni-code-hint\"><code>{ SecurityId = Other \"crsp_76605\"\\n  Weight = 0.0006451612903 }</code></span></summary><div><table><thead><tr></tr></thead><tbody><tr><td>SecurityId</td><td><details class=\"dni-treeview\"><summary><span class=\"dni-code-hint\"><code>Other \"crsp_76605\"</code></span></summary><div><table><thead><tr></tr></thead><tbody><tr><td>Item</td><td>crsp_76605</td></tr></tbody></table></div></details></td></tr><tr><td>Weight</td><td><div class=\"dni-plaintext\"><pre>0.0006451612903225806</pre></div></td></tr></tbody></table></div></details></td></tr><tr><td>16</td><td><details class=\"dni-treeview\"><summary><span class=\"dni-code-hint\"><code>{ SecurityId = Other \"crsp_91461\"\\n  Weight = 0.0006451612903 }</code></span></summary><div><table><thead><tr></tr></thead><tbody><tr><td>SecurityId</td><td><details class=\"dni-treeview\"><summary><span class=\"dni-code-hint\"><code>Other \"crsp_91461\"</code></span></summary><div><table><thead><tr></tr></thead><tbody><tr><td>Item</td><td>crsp_91461</td></tr></tbody></table></div></details></td></tr><tr><td>Weight</td><td><div class=\"dni-plaintext\"><pre>0.0006451612903225806</pre></div></td></tr></tbody></table></div></details></td></tr><tr><td>17</td><td><details class=\"dni-treeview\"><summary><span class=\"dni-code-hint\"><code>{ SecurityId = Other \"crsp_90169\"\\n  Weight = 0.0006451612903 }</code></span></summary><div><table><thead><tr></tr></thead><tbody><tr><td>SecurityId</td><td><details class=\"dni-treeview\"><summary><span class=\"dni-code-hint\"><code>Other \"crsp_90169\"</code></span></summary><div><table><thead><tr></tr></thead><tbody><tr><td>Item</td><td>crsp_90169</td></tr></tbody></table></div></details></td></tr><tr><td>Weight</td><td><div class=\"dni-plaintext\"><pre>0.0006451612903225806</pre></div></td></tr></tbody></table></div></details></td></tr><tr><td>18</td><td><details class=\"dni-treeview\"><summary><span class=\"dni-code-hint\"><code>{ SecurityId = Other \"crsp_85216\"\\n  Weight = 0.0006451612903 }</code></span></summary><div><table><thead><tr></tr></thead><tbody><tr><td>SecurityId</td><td><details class=\"dni-treeview\"><summary><span class=\"dni-code-hint\"><code>Other \"crsp_85216\"</code></span></summary><div><table><thead><tr></tr></thead><tbody><tr><td>Item</td><td>crsp_85216</td></tr></tbody></table></div></details></td></tr><tr><td>Weight</td><td><div class=\"dni-plaintext\"><pre>0.0006451612903225806</pre></div></td></tr></tbody></table></div></details></td></tr><tr><td>19</td><td><details class=\"dni-treeview\"><summary><span class=\"dni-code-hint\"><code>{ SecurityId = Other \"crsp_90061\"\\n  Weight = 0.0006451612903 }</code></span></summary><div><table><thead><tr></tr></thead><tbody><tr><td>SecurityId</td><td><details class=\"dni-treeview\"><summary><span class=\"dni-code-hint\"><code>Other \"crsp_90061\"</code></span></summary><div><table><thead><tr></tr></thead><tbody><tr><td>Item</td><td>crsp_90061</td></tr></tbody></table></div></details></td></tr><tr><td>Weight</td><td><div class=\"dni-plaintext\"><pre>0.0006451612903225806</pre></div></td></tr></tbody></table></div></details></td></tr><tr><td colspan=\"2\"><i>... (more)</i></td></tr></tbody></table></td></tr></tbody></table></div></details></td></tr><tr><td>1</td><td><details class=\"dni-treeview\"><summary><span class=\"dni-code-hint\"><code>{ Name = \"book-to-market\"\\n  Index = 2\\n  FormationMonth = 01/12/2008 00:00:00\\n  Positions =\\n   [{ SecurityId = Other \"crsp_90454\"\\n      Weight = 0.0006455777921 }; { SecurityId = Other \"crsp_23712\"\\n                                    Weight = 0.0006455777921 };\\n    { SecurityId = Other \"crsp_1...</code></span></summary><div><table><thead><tr></tr></thead><tbody><tr><td>Name</td><td>book-to-market</td></tr><tr><td>Index</td><td><div class=\"dni-plaintext\"><pre>2</pre></div></td></tr><tr><td>FormationMonth</td><td><span>2008-12-01 00:00:00Z</span></td></tr><tr><td>Positions</td><td><table><thead><tr><th><i>index</i></th><th>value</th></tr></thead><tbody><tr><td>0</td><td><details class=\"dni-treeview\"><summary><span class=\"dni-code-hint\"><code>{ SecurityId = Other \"crsp_90454\"\\n  Weight = 0.0006455777921 }</code></span></summary><div><table><thead><tr></tr></thead><tbody><tr><td>SecurityId</td><td><details class=\"dni-treeview\"><summary><span class=\"dni-code-hint\"><code>Other \"crsp_90454\"</code></span></summary><div><table><thead><tr></tr></thead><tbody><tr><td>Item</td><td>crsp_90454</td></tr></tbody></table></div></details></td></tr><tr><td>Weight</td><td><div class=\"dni-plaintext\"><pre>0.0006455777921239509</pre></div></td></tr></tbody></table></div></details></td></tr><tr><td>1</td><td><details class=\"dni-treeview\"><summary><span class=\"dni-code-hint\"><code>{ SecurityId = Other \"crsp_23712\"\\n  Weight = 0.0006455777921 }</code></span></summary><div><table><thead><tr></tr></thead><tbody><tr><td>SecurityId</td><td><details class=\"dni-treeview\"><summary><span class=\"dni-code-hint\"><code>Other \"crsp_23712\"</code></span></summary><div><table><thead><tr></tr></thead><tbody><tr><td>Item</td><td>crsp_23712</td></tr></tbody></table></div></details></td></tr><tr><td>Weight</td><td><div class=\"dni-plaintext\"><pre>0.0006455777921239509</pre></div></td></tr></tbody></table></div></details></td></tr><tr><td>2</td><td><details class=\"dni-treeview\"><summary><span class=\"dni-code-hint\"><code>{ SecurityId = Other \"crsp_18411\"\\n  Weight = 0.0006455777921 }</code></span></summary><div><table><thead><tr></tr></thead><tbody><tr><td>SecurityId</td><td><details class=\"dni-treeview\"><summary><span class=\"dni-code-hint\"><code>Other \"crsp_18411\"</code></span></summary><div><table><thead><tr></tr></thead><tbody><tr><td>Item</td><td>crsp_18411</td></tr></tbody></table></div></details></td></tr><tr><td>Weight</td><td><div class=\"dni-plaintext\"><pre>0.0006455777921239509</pre></div></td></tr></tbody></table></div></details></td></tr><tr><td>3</td><td><details class=\"dni-treeview\"><summary><span class=\"dni-code-hint\"><code>{ SecurityId = Other \"crsp_42439\"\\n  Weight = 0.0006455777921 }</code></span></summary><div><table><thead><tr></tr></thead><tbody><tr><td>SecurityId</td><td><details class=\"dni-treeview\"><summary><span class=\"dni-code-hint\"><code>Other \"crsp_42439\"</code></span></summary><div><table><thead><tr></tr></thead><tbody><tr><td>Item</td><td>crsp_42439</td></tr></tbody></table></div></details></td></tr><tr><td>Weight</td><td><div class=\"dni-plaintext\"><pre>0.0006455777921239509</pre></div></td></tr></tbody></table></div></details></td></tr><tr><td>4</td><td><details class=\"dni-treeview\"><summary><span class=\"dni-code-hint\"><code>{ SecurityId = Other \"crsp_92195\"\\n  Weight = 0.0006455777921 }</code></span></summary><div><table><thead><tr></tr></thead><tbody><tr><td>SecurityId</td><td><details class=\"dni-treeview\"><summary><span class=\"dni-code-hint\"><code>Other \"crsp_92195\"</code></span></summary><div><table><thead><tr></tr></thead><tbody><tr><td>Item</td><td>crsp_92195</td></tr></tbody></table></div></details></td></tr><tr><td>Weight</td><td><div class=\"dni-plaintext\"><pre>0.0006455777921239509</pre></div></td></tr></tbody></table></div></details></td></tr><tr><td>5</td><td><details class=\"dni-treeview\"><summary><span class=\"dni-code-hint\"><code>{ SecurityId = Other \"crsp_85675\"\\n  Weight = 0.0006455777921 }</code></span></summary><div><table><thead><tr></tr></thead><tbody><tr><td>SecurityId</td><td><details class=\"dni-treeview\"><summary><span class=\"dni-code-hint\"><code>Other \"crsp_85675\"</code></span></summary><div><table><thead><tr></tr></thead><tbody><tr><td>Item</td><td>crsp_85675</td></tr></tbody></table></div></details></td></tr><tr><td>Weight</td><td><div class=\"dni-plaintext\"><pre>0.0006455777921239509</pre></div></td></tr></tbody></table></div></details></td></tr><tr><td>6</td><td><details class=\"dni-treeview\"><summary><span class=\"dni-code-hint\"><code>{ SecurityId = Other \"crsp_81564\"\\n  Weight = 0.0006455777921 }</code></span></summary><div><table><thead><tr></tr></thead><tbody><tr><td>SecurityId</td><td><details class=\"dni-treeview\"><summary><span class=\"dni-code-hint\"><code>Other \"crsp_81564\"</code></span></summary><div><table><thead><tr></tr></thead><tbody><tr><td>Item</td><td>crsp_81564</td></tr></tbody></table></div></details></td></tr><tr><td>Weight</td><td><div class=\"dni-plaintext\"><pre>0.0006455777921239509</pre></div></td></tr></tbody></table></div></details></td></tr><tr><td>7</td><td><details class=\"dni-treeview\"><summary><span class=\"dni-code-hint\"><code>{ SecurityId = Other \"crsp_48486\"\\n  Weight = 0.0006455777921 }</code></span></summary><div><table><thead><tr></tr></thead><tbody><tr><td>SecurityId</td><td><details class=\"dni-treeview\"><summary><span class=\"dni-code-hint\"><code>Other \"crsp_48486\"</code></span></summary><div><table><thead><tr></tr></thead><tbody><tr><td>Item</td><td>crsp_48486</td></tr></tbody></table></div></details></td></tr><tr><td>Weight</td><td><div class=\"dni-plaintext\"><pre>0.0006455777921239509</pre></div></td></tr></tbody></table></div></details></td></tr><tr><td>8</td><td><details class=\"dni-treeview\"><summary><span class=\"dni-code-hint\"><code>{ SecurityId = Other \"crsp_48653\"\\n  Weight = 0.0006455777921 }</code></span></summary><div><table><thead><tr></tr></thead><tbody><tr><td>SecurityId</td><td><details class=\"dni-treeview\"><summary><span class=\"dni-code-hint\"><code>Other \"crsp_48653\"</code></span></summary><div><table><thead><tr></tr></thead><tbody><tr><td>Item</td><td>crsp_48653</td></tr></tbody></table></div></details></td></tr><tr><td>Weight</td><td><div class=\"dni-plaintext\"><pre>0.0006455777921239509</pre></div></td></tr></tbody></table></div></details></td></tr><tr><td>9</td><td><details class=\"dni-treeview\"><summary><span class=\"dni-code-hint\"><code>{ SecurityId = Other \"crsp_53859\"\\n  Weight = 0.0006455777921 }</code></span></summary><div><table><thead><tr></tr></thead><tbody><tr><td>SecurityId</td><td><details class=\"dni-treeview\"><summary><span class=\"dni-code-hint\"><code>Other \"crsp_53859\"</code></span></summary><div><table><thead><tr></tr></thead><tbody><tr><td>Item</td><td>crsp_53859</td></tr></tbody></table></div></details></td></tr><tr><td>Weight</td><td><div class=\"dni-plaintext\"><pre>0.0006455777921239509</pre></div></td></tr></tbody></table></div></details></td></tr><tr><td>10</td><td><details class=\"dni-treeview\"><summary><span class=\"dni-code-hint\"><code>{ SecurityId = Other \"crsp_91500\"\\n  Weight = 0.0006455777921 }</code></span></summary><div><table><thead><tr></tr></thead><tbody><tr><td>SecurityId</td><td><details class=\"dni-treeview\"><summary><span class=\"dni-code-hint\"><code>Other \"crsp_91500\"</code></span></summary><div><table><thead><tr></tr></thead><tbody><tr><td>Item</td><td>crsp_91500</td></tr></tbody></table></div></details></td></tr><tr><td>Weight</td><td><div class=\"dni-plaintext\"><pre>0.0006455777921239509</pre></div></td></tr></tbody></table></div></details></td></tr><tr><td>11</td><td><details class=\"dni-treeview\"><summary><span class=\"dni-code-hint\"><code>{ SecurityId = Other \"crsp_60206\"\\n  Weight = 0.0006455777921 }</code></span></summary><div><table><thead><tr></tr></thead><tbody><tr><td>SecurityId</td><td><details class=\"dni-treeview\"><summary><span class=\"dni-code-hint\"><code>Other \"crsp_60206\"</code></span></summary><div><table><thead><tr></tr></thead><tbody><tr><td>Item</td><td>crsp_60206</td></tr></tbody></table></div></details></td></tr><tr><td>Weight</td><td><div class=\"dni-plaintext\"><pre>0.0006455777921239509</pre></div></td></tr></tbody></table></div></details></td></tr><tr><td>12</td><td><details class=\"dni-treeview\"><summary><span class=\"dni-code-hint\"><code>{ SecurityId = Other \"crsp_90803\"\\n  Weight = 0.0006455777921 }</code></span></summary><div><table><thead><tr></tr></thead><tbody><tr><td>SecurityId</td><td><details class=\"dni-treeview\"><summary><span class=\"dni-code-hint\"><code>Other \"crsp_90803\"</code></span></summary><div><table><thead><tr></tr></thead><tbody><tr><td>Item</td><td>crsp_90803</td></tr></tbody></table></div></details></td></tr><tr><td>Weight</td><td><div class=\"dni-plaintext\"><pre>0.0006455777921239509</pre></div></td></tr></tbody></table></div></details></td></tr><tr><td>13</td><td><details class=\"dni-treeview\"><summary><span class=\"dni-code-hint\"><code>{ SecurityId = Other \"crsp_84146\"\\n  Weight = 0.0006455777921 }</code></span></summary><div><table><thead><tr></tr></thead><tbody><tr><td>SecurityId</td><td><details class=\"dni-treeview\"><summary><span class=\"dni-code-hint\"><code>Other \"crsp_84146\"</code></span></summary><div><table><thead><tr></tr></thead><tbody><tr><td>Item</td><td>crsp_84146</td></tr></tbody></table></div></details></td></tr><tr><td>Weight</td><td><div class=\"dni-plaintext\"><pre>0.0006455777921239509</pre></div></td></tr></tbody></table></div></details></td></tr><tr><td>14</td><td><details class=\"dni-treeview\"><summary><span class=\"dni-code-hint\"><code>{ SecurityId = Other \"crsp_90946\"\\n  Weight = 0.0006455777921 }</code></span></summary><div><table><thead><tr></tr></thead><tbody><tr><td>SecurityId</td><td><details class=\"dni-treeview\"><summary><span class=\"dni-code-hint\"><code>Other \"crsp_90946\"</code></span></summary><div><table><thead><tr></tr></thead><tbody><tr><td>Item</td><td>crsp_90946</td></tr></tbody></table></div></details></td></tr><tr><td>Weight</td><td><div class=\"dni-plaintext\"><pre>0.0006455777921239509</pre></div></td></tr></tbody></table></div></details></td></tr><tr><td>15</td><td><details class=\"dni-treeview\"><summary><span class=\"dni-code-hint\"><code>{ SecurityId = Other \"crsp_64629\"\\n  Weight = 0.0006455777921 }</code></span></summary><div><table><thead><tr></tr></thead><tbody><tr><td>SecurityId</td><td><details class=\"dni-treeview\"><summary><span class=\"dni-code-hint\"><code>Other \"crsp_64629\"</code></span></summary><div><table><thead><tr></tr></thead><tbody><tr><td>Item</td><td>crsp_64629</td></tr></tbody></table></div></details></td></tr><tr><td>Weight</td><td><div class=\"dni-plaintext\"><pre>0.0006455777921239509</pre></div></td></tr></tbody></table></div></details></td></tr><tr><td>16</td><td><details class=\"dni-treeview\"><summary><span class=\"dni-code-hint\"><code>{ SecurityId = Other \"crsp_87269\"\\n  Weight = 0.0006455777921 }</code></span></summary><div><table><thead><tr></tr></thead><tbody><tr><td>SecurityId</td><td><details class=\"dni-treeview\"><summary><span class=\"dni-code-hint\"><code>Other \"crsp_87269\"</code></span></summary><div><table><thead><tr></tr></thead><tbody><tr><td>Item</td><td>crsp_87269</td></tr></tbody></table></div></details></td></tr><tr><td>Weight</td><td><div class=\"dni-plaintext\"><pre>0.0006455777921239509</pre></div></td></tr></tbody></table></div></details></td></tr><tr><td>17</td><td><details class=\"dni-treeview\"><summary><span class=\"dni-code-hint\"><code>{ SecurityId = Other \"crsp_21371\"\\n  Weight = 0.0006455777921 }</code></span></summary><div><table><thead><tr></tr></thead><tbody><tr><td>SecurityId</td><td><details class=\"dni-treeview\"><summary><span class=\"dni-code-hint\"><code>Other \"crsp_21371\"</code></span></summary><div><table><thead><tr></tr></thead><tbody><tr><td>Item</td><td>crsp_21371</td></tr></tbody></table></div></details></td></tr><tr><td>Weight</td><td><div class=\"dni-plaintext\"><pre>0.0006455777921239509</pre></div></td></tr></tbody></table></div></details></td></tr><tr><td>18</td><td><details class=\"dni-treeview\"><summary><span class=\"dni-code-hint\"><code>{ SecurityId = Other \"crsp_90893\"\\n  Weight = 0.0006455777921 }</code></span></summary><div><table><thead><tr></tr></thead><tbody><tr><td>SecurityId</td><td><details class=\"dni-treeview\"><summary><span class=\"dni-code-hint\"><code>Other \"crsp_90893\"</code></span></summary><div><table><thead><tr></tr></thead><tbody><tr><td>Item</td><td>crsp_90893</td></tr></tbody></table></div></details></td></tr><tr><td>Weight</td><td><div class=\"dni-plaintext\"><pre>0.0006455777921239509</pre></div></td></tr></tbody></table></div></details></td></tr><tr><td>19</td><td><details class=\"dni-treeview\"><summary><span class=\"dni-code-hint\"><code>{ SecurityId = Other \"crsp_33398\"\\n  Weight = 0.0006455777921 }</code></span></summary><div><table><thead><tr></tr></thead><tbody><tr><td>SecurityId</td><td><details class=\"dni-treeview\"><summary><span class=\"dni-code-hint\"><code>Other \"crsp_33398\"</code></span></summary><div><table><thead><tr></tr></thead><tbody><tr><td>Item</td><td>crsp_33398</td></tr></tbody></table></div></details></td></tr><tr><td>Weight</td><td><div class=\"dni-plaintext\"><pre>0.0006455777921239509</pre></div></td></tr></tbody></table></div></details></td></tr><tr><td colspan=\"2\"><i>... (more)</i></td></tr></tbody></table></td></tr></tbody></table></div></details></td></tr><tr><td>2</td><td><details class=\"dni-treeview\"><summary><span class=\"dni-code-hint\"><code>{ Name = \"book-to-market\"\\n  Index = 3\\n  FormationMonth = 01/12/2008 00:00:00\\n  Positions =\\n   [{ SecurityId = Other \"crsp_87532\"\\n      Weight = 0.0006455777921 }; { SecurityId = Other \"crsp_57446\"\\n                                    Weight = 0.0006455777921 };\\n    { SecurityId = Other \"crsp_9...</code></span></summary><div><table><thead><tr></tr></thead><tbody><tr><td>Name</td><td>book-to-market</td></tr><tr><td>Index</td><td><div class=\"dni-plaintext\"><pre>3</pre></div></td></tr><tr><td>FormationMonth</td><td><span>2008-12-01 00:00:00Z</span></td></tr><tr><td>Positions</td><td><table><thead><tr><th><i>index</i></th><th>value</th></tr></thead><tbody><tr><td>0</td><td><details class=\"dni-treeview\"><summary><span class=\"dni-code-hint\"><code>{ SecurityId = Other \"crsp_87532\"\\n  Weight = 0.0006455777921 }</code></span></summary><div><table><thead><tr></tr></thead><tbody><tr><td>SecurityId</td><td><details class=\"dni-treeview\"><summary><span class=\"dni-code-hint\"><code>Other \"crsp_87532\"</code></span></summary><div><table><thead><tr></tr></thead><tbody><tr><td>Item</td><td>crsp_87532</td></tr></tbody></table></div></details></td></tr><tr><td>Weight</td><td><div class=\"dni-plaintext\"><pre>0.0006455777921239509</pre></div></td></tr></tbody></table></div></details></td></tr><tr><td>1</td><td><details class=\"dni-treeview\"><summary><span class=\"dni-code-hint\"><code>{ SecurityId = Other \"crsp_57446\"\\n  Weight = 0.0006455777921 }</code></span></summary><div><table><thead><tr></tr></thead><tbody><tr><td>SecurityId</td><td><details class=\"dni-treeview\"><summary><span class=\"dni-code-hint\"><code>Other \"crsp_57446\"</code></span></summary><div><table><thead><tr></tr></thead><tbody><tr><td>Item</td><td>crsp_57446</td></tr></tbody></table></div></details></td></tr><tr><td>Weight</td><td><div class=\"dni-plaintext\"><pre>0.0006455777921239509</pre></div></td></tr></tbody></table></div></details></td></tr><tr><td>2</td><td><details class=\"dni-treeview\"><summary><span class=\"dni-code-hint\"><code>{ SecurityId = Other \"crsp_92635\"\\n  Weight = 0.0006455777921 }</code></span></summary><div><table><thead><tr></tr></thead><tbody><tr><td>SecurityId</td><td><details class=\"dni-treeview\"><summary><span class=\"dni-code-hint\"><code>Other \"crsp_92635\"</code></span></summary><div><table><thead><tr></tr></thead><tbody><tr><td>Item</td><td>crsp_92635</td></tr></tbody></table></div></details></td></tr><tr><td>Weight</td><td><div class=\"dni-plaintext\"><pre>0.0006455777921239509</pre></div></td></tr></tbody></table></div></details></td></tr><tr><td>3</td><td><details class=\"dni-treeview\"><summary><span class=\"dni-code-hint\"><code>{ SecurityId = Other \"crsp_70332\"\\n  Weight = 0.0006455777921 }</code></span></summary><div><table><thead><tr></tr></thead><tbody><tr><td>SecurityId</td><td><details class=\"dni-treeview\"><summary><span class=\"dni-code-hint\"><code>Other \"crsp_70332\"</code></span></summary><div><table><thead><tr></tr></thead><tbody><tr><td>Item</td><td>crsp_70332</td></tr></tbody></table></div></details></td></tr><tr><td>Weight</td><td><div class=\"dni-plaintext\"><pre>0.0006455777921239509</pre></div></td></tr></tbody></table></div></details></td></tr><tr><td>4</td><td><details class=\"dni-treeview\"><summary><span class=\"dni-code-hint\"><code>{ SecurityId = Other \"crsp_77971\"\\n  Weight = 0.0006455777921 }</code></span></summary><div><table><thead><tr></tr></thead><tbody><tr><td>SecurityId</td><td><details class=\"dni-treeview\"><summary><span class=\"dni-code-hint\"><code>Other \"crsp_77971\"</code></span></summary><div><table><thead><tr></tr></thead><tbody><tr><td>Item</td><td>crsp_77971</td></tr></tbody></table></div></details></td></tr><tr><td>Weight</td><td><div class=\"dni-plaintext\"><pre>0.0006455777921239509</pre></div></td></tr></tbody></table></div></details></td></tr><tr><td>5</td><td><details class=\"dni-treeview\"><summary><span class=\"dni-code-hint\"><code>{ SecurityId = Other \"crsp_91262\"\\n  Weight = 0.0006455777921 }</code></span></summary><div><table><thead><tr></tr></thead><tbody><tr><td>SecurityId</td><td><details class=\"dni-treeview\"><summary><span class=\"dni-code-hint\"><code>Other \"crsp_91262\"</code></span></summary><div><table><thead><tr></tr></thead><tbody><tr><td>Item</td><td>crsp_91262</td></tr></tbody></table></div></details></td></tr><tr><td>Weight</td><td><div class=\"dni-plaintext\"><pre>0.0006455777921239509</pre></div></td></tr></tbody></table></div></details></td></tr><tr><td>6</td><td><details class=\"dni-treeview\"><summary><span class=\"dni-code-hint\"><code>{ SecurityId = Other \"crsp_84108\"\\n  Weight = 0.0006455777921 }</code></span></summary><div><table><thead><tr></tr></thead><tbody><tr><td>SecurityId</td><td><details class=\"dni-treeview\"><summary><span class=\"dni-code-hint\"><code>Other \"crsp_84108\"</code></span></summary><div><table><thead><tr></tr></thead><tbody><tr><td>Item</td><td>crsp_84108</td></tr></tbody></table></div></details></td></tr><tr><td>Weight</td><td><div class=\"dni-plaintext\"><pre>0.0006455777921239509</pre></div></td></tr></tbody></table></div></details></td></tr><tr><td>7</td><td><details class=\"dni-treeview\"><summary><span class=\"dni-code-hint\"><code>{ SecurityId = Other \"crsp_90312\"\\n  Weight = 0.0006455777921 }</code></span></summary><div><table><thead><tr></tr></thead><tbody><tr><td>SecurityId</td><td><details class=\"dni-treeview\"><summary><span class=\"dni-code-hint\"><code>Other \"crsp_90312\"</code></span></summary><div><table><thead><tr></tr></thead><tbody><tr><td>Item</td><td>crsp_90312</td></tr></tbody></table></div></details></td></tr><tr><td>Weight</td><td><div class=\"dni-plaintext\"><pre>0.0006455777921239509</pre></div></td></tr></tbody></table></div></details></td></tr><tr><td>8</td><td><details class=\"dni-treeview\"><summary><span class=\"dni-code-hint\"><code>{ SecurityId = Other \"crsp_88951\"\\n  Weight = 0.0006455777921 }</code></span></summary><div><table><thead><tr></tr></thead><tbody><tr><td>SecurityId</td><td><details class=\"dni-treeview\"><summary><span class=\"dni-code-hint\"><code>Other \"crsp_88951\"</code></span></summary><div><table><thead><tr></tr></thead><tbody><tr><td>Item</td><td>crsp_88951</td></tr></tbody></table></div></details></td></tr><tr><td>Weight</td><td><div class=\"dni-plaintext\"><pre>0.0006455777921239509</pre></div></td></tr></tbody></table></div></details></td></tr><tr><td>9</td><td><details class=\"dni-treeview\"><summary><span class=\"dni-code-hint\"><code>{ SecurityId = Other \"crsp_90657\"\\n  Weight = 0.0006455777921 }</code></span></summary><div><table><thead><tr></tr></thead><tbody><tr><td>SecurityId</td><td><details class=\"dni-treeview\"><summary><span class=\"dni-code-hint\"><code>Other \"crsp_90657\"</code></span></summary><div><table><thead><tr></tr></thead><tbody><tr><td>Item</td><td>crsp_90657</td></tr></tbody></table></div></details></td></tr><tr><td>Weight</td><td><div class=\"dni-plaintext\"><pre>0.0006455777921239509</pre></div></td></tr></tbody></table></div></details></td></tr><tr><td>10</td><td><details class=\"dni-treeview\"><summary><span class=\"dni-code-hint\"><code>{ SecurityId = Other \"crsp_44943\"\\n  Weight = 0.0006455777921 }</code></span></summary><div><table><thead><tr></tr></thead><tbody><tr><td>SecurityId</td><td><details class=\"dni-treeview\"><summary><span class=\"dni-code-hint\"><code>Other \"crsp_44943\"</code></span></summary><div><table><thead><tr></tr></thead><tbody><tr><td>Item</td><td>crsp_44943</td></tr></tbody></table></div></details></td></tr><tr><td>Weight</td><td><div class=\"dni-plaintext\"><pre>0.0006455777921239509</pre></div></td></tr></tbody></table></div></details></td></tr><tr><td>11</td><td><details class=\"dni-treeview\"><summary><span class=\"dni-code-hint\"><code>{ SecurityId = Other \"crsp_84226\"\\n  Weight = 0.0006455777921 }</code></span></summary><div><table><thead><tr></tr></thead><tbody><tr><td>SecurityId</td><td><details class=\"dni-treeview\"><summary><span class=\"dni-code-hint\"><code>Other \"crsp_84226\"</code></span></summary><div><table><thead><tr></tr></thead><tbody><tr><td>Item</td><td>crsp_84226</td></tr></tbody></table></div></details></td></tr><tr><td>Weight</td><td><div class=\"dni-plaintext\"><pre>0.0006455777921239509</pre></div></td></tr></tbody></table></div></details></td></tr><tr><td>12</td><td><details class=\"dni-treeview\"><summary><span class=\"dni-code-hint\"><code>{ SecurityId = Other \"crsp_90949\"\\n  Weight = 0.0006455777921 }</code></span></summary><div><table><thead><tr></tr></thead><tbody><tr><td>SecurityId</td><td><details class=\"dni-treeview\"><summary><span class=\"dni-code-hint\"><code>Other \"crsp_90949\"</code></span></summary><div><table><thead><tr></tr></thead><tbody><tr><td>Item</td><td>crsp_90949</td></tr></tbody></table></div></details></td></tr><tr><td>Weight</td><td><div class=\"dni-plaintext\"><pre>0.0006455777921239509</pre></div></td></tr></tbody></table></div></details></td></tr><tr><td>13</td><td><details class=\"dni-treeview\"><summary><span class=\"dni-code-hint\"><code>{ SecurityId = Other \"crsp_84636\"\\n  Weight = 0.0006455777921 }</code></span></summary><div><table><thead><tr></tr></thead><tbody><tr><td>SecurityId</td><td><details class=\"dni-treeview\"><summary><span class=\"dni-code-hint\"><code>Other \"crsp_84636\"</code></span></summary><div><table><thead><tr></tr></thead><tbody><tr><td>Item</td><td>crsp_84636</td></tr></tbody></table></div></details></td></tr><tr><td>Weight</td><td><div class=\"dni-plaintext\"><pre>0.0006455777921239509</pre></div></td></tr></tbody></table></div></details></td></tr><tr><td>14</td><td><details class=\"dni-treeview\"><summary><span class=\"dni-code-hint\"><code>{ SecurityId = Other \"crsp_92087\"\\n  Weight = 0.0006455777921 }</code></span></summary><div><table><thead><tr></tr></thead><tbody><tr><td>SecurityId</td><td><details class=\"dni-treeview\"><summary><span class=\"dni-code-hint\"><code>Other \"crsp_92087\"</code></span></summary><div><table><thead><tr></tr></thead><tbody><tr><td>Item</td><td>crsp_92087</td></tr></tbody></table></div></details></td></tr><tr><td>Weight</td><td><div class=\"dni-plaintext\"><pre>0.0006455777921239509</pre></div></td></tr></tbody></table></div></details></td></tr><tr><td>15</td><td><details class=\"dni-treeview\"><summary><span class=\"dni-code-hint\"><code>{ SecurityId = Other \"crsp_62084\"\\n  Weight = 0.0006455777921 }</code></span></summary><div><table><thead><tr></tr></thead><tbody><tr><td>SecurityId</td><td><details class=\"dni-treeview\"><summary><span class=\"dni-code-hint\"><code>Other \"crsp_62084\"</code></span></summary><div><table><thead><tr></tr></thead><tbody><tr><td>Item</td><td>crsp_62084</td></tr></tbody></table></div></details></td></tr><tr><td>Weight</td><td><div class=\"dni-plaintext\"><pre>0.0006455777921239509</pre></div></td></tr></tbody></table></div></details></td></tr><tr><td>16</td><td><details class=\"dni-treeview\"><summary><span class=\"dni-code-hint\"><code>{ SecurityId = Other \"crsp_86878\"\\n  Weight = 0.0006455777921 }</code></span></summary><div><table><thead><tr></tr></thead><tbody><tr><td>SecurityId</td><td><details class=\"dni-treeview\"><summary><span class=\"dni-code-hint\"><code>Other \"crsp_86878\"</code></span></summary><div><table><thead><tr></tr></thead><tbody><tr><td>Item</td><td>crsp_86878</td></tr></tbody></table></div></details></td></tr><tr><td>Weight</td><td><div class=\"dni-plaintext\"><pre>0.0006455777921239509</pre></div></td></tr></tbody></table></div></details></td></tr><tr><td>17</td><td><details class=\"dni-treeview\"><summary><span class=\"dni-code-hint\"><code>{ SecurityId = Other \"crsp_76644\"\\n  Weight = 0.0006455777921 }</code></span></summary><div><table><thead><tr></tr></thead><tbody><tr><td>SecurityId</td><td><details class=\"dni-treeview\"><summary><span class=\"dni-code-hint\"><code>Other \"crsp_76644\"</code></span></summary><div><table><thead><tr></tr></thead><tbody><tr><td>Item</td><td>crsp_76644</td></tr></tbody></table></div></details></td></tr><tr><td>Weight</td><td><div class=\"dni-plaintext\"><pre>0.0006455777921239509</pre></div></td></tr></tbody></table></div></details></td></tr><tr><td>18</td><td><details class=\"dni-treeview\"><summary><span class=\"dni-code-hint\"><code>{ SecurityId = Other \"crsp_77605\"\\n  Weight = 0.0006455777921 }</code></span></summary><div><table><thead><tr></tr></thead><tbody><tr><td>SecurityId</td><td><details class=\"dni-treeview\"><summary><span class=\"dni-code-hint\"><code>Other \"crsp_77605\"</code></span></summary><div><table><thead><tr></tr></thead><tbody><tr><td>Item</td><td>crsp_77605</td></tr></tbody></table></div></details></td></tr><tr><td>Weight</td><td><div class=\"dni-plaintext\"><pre>0.0006455777921239509</pre></div></td></tr></tbody></table></div></details></td></tr><tr><td>19</td><td><details class=\"dni-treeview\"><summary><span class=\"dni-code-hint\"><code>{ SecurityId = Other \"crsp_84725\"\\n  Weight = 0.0006455777921 }</code></span></summary><div><table><thead><tr></tr></thead><tbody><tr><td>SecurityId</td><td><details class=\"dni-treeview\"><summary><span class=\"dni-code-hint\"><code>Other \"crsp_84725\"</code></span></summary><div><table><thead><tr></tr></thead><tbody><tr><td>Item</td><td>crsp_84725</td></tr></tbody></table></div></details></td></tr><tr><td>Weight</td><td><div class=\"dni-plaintext\"><pre>0.0006455777921239509</pre></div></td></tr></tbody></table></div></details></td></tr><tr><td colspan=\"2\"><i>... (more)</i></td></tr></tbody></table></td></tr></tbody></table></div></details></td></tr><tr><td>3</td><td><details class=\"dni-treeview\"><summary><span class=\"dni-code-hint\"><code>{ Name = \"book-to-market\"\\n  Index = 1\\n  FormationMonth = 01/12/2010 00:00:00\\n  Positions =\\n   [{ SecurityId = Other \"crsp_84330\"\\n      Weight = 0.0007122507123 }; { SecurityId = Other \"crsp_92046\"\\n                                    Weight = 0.0007122507123 };\\n    { SecurityId = Other \"crsp_8...</code></span></summary><div><table><thead><tr></tr></thead><tbody><tr><td>Name</td><td>book-to-market</td></tr><tr><td>Index</td><td><div class=\"dni-plaintext\"><pre>1</pre></div></td></tr><tr><td>FormationMonth</td><td><span>2010-12-01 00:00:00Z</span></td></tr><tr><td>Positions</td><td><table><thead><tr><th><i>index</i></th><th>value</th></tr></thead><tbody><tr><td>0</td><td><details class=\"dni-treeview\"><summary><span class=\"dni-code-hint\"><code>{ SecurityId = Other \"crsp_84330\"\\n  Weight = 0.0007122507123 }</code></span></summary><div><table><thead><tr></tr></thead><tbody><tr><td>SecurityId</td><td><details class=\"dni-treeview\"><summary><span class=\"dni-code-hint\"><code>Other \"crsp_84330\"</code></span></summary><div><table><thead><tr></tr></thead><tbody><tr><td>Item</td><td>crsp_84330</td></tr></tbody></table></div></details></td></tr><tr><td>Weight</td><td><div class=\"dni-plaintext\"><pre>0.0007122507122507123</pre></div></td></tr></tbody></table></div></details></td></tr><tr><td>1</td><td><details class=\"dni-treeview\"><summary><span class=\"dni-code-hint\"><code>{ SecurityId = Other \"crsp_92046\"\\n  Weight = 0.0007122507123 }</code></span></summary><div><table><thead><tr></tr></thead><tbody><tr><td>SecurityId</td><td><details class=\"dni-treeview\"><summary><span class=\"dni-code-hint\"><code>Other \"crsp_92046\"</code></span></summary><div><table><thead><tr></tr></thead><tbody><tr><td>Item</td><td>crsp_92046</td></tr></tbody></table></div></details></td></tr><tr><td>Weight</td><td><div class=\"dni-plaintext\"><pre>0.0007122507122507123</pre></div></td></tr></tbody></table></div></details></td></tr><tr><td>2</td><td><details class=\"dni-treeview\"><summary><span class=\"dni-code-hint\"><code>{ SecurityId = Other \"crsp_89148\"\\n  Weight = 0.0007122507123 }</code></span></summary><div><table><thead><tr></tr></thead><tbody><tr><td>SecurityId</td><td><details class=\"dni-treeview\"><summary><span class=\"dni-code-hint\"><code>Other \"crsp_89148\"</code></span></summary><div><table><thead><tr></tr></thead><tbody><tr><td>Item</td><td>crsp_89148</td></tr></tbody></table></div></details></td></tr><tr><td>Weight</td><td><div class=\"dni-plaintext\"><pre>0.0007122507122507123</pre></div></td></tr></tbody></table></div></details></td></tr><tr><td>3</td><td><details class=\"dni-treeview\"><summary><span class=\"dni-code-hint\"><code>{ SecurityId = Other \"crsp_75853\"\\n  Weight = 0.0007122507123 }</code></span></summary><div><table><thead><tr></tr></thead><tbody><tr><td>SecurityId</td><td><details class=\"dni-treeview\"><summary><span class=\"dni-code-hint\"><code>Other \"crsp_75853\"</code></span></summary><div><table><thead><tr></tr></thead><tbody><tr><td>Item</td><td>crsp_75853</td></tr></tbody></table></div></details></td></tr><tr><td>Weight</td><td><div class=\"dni-plaintext\"><pre>0.0007122507122507123</pre></div></td></tr></tbody></table></div></details></td></tr><tr><td>4</td><td><details class=\"dni-treeview\"><summary><span class=\"dni-code-hint\"><code>{ SecurityId = Other \"crsp_17279\"\\n  Weight = 0.0007122507123 }</code></span></summary><div><table><thead><tr></tr></thead><tbody><tr><td>SecurityId</td><td><details class=\"dni-treeview\"><summary><span class=\"dni-code-hint\"><code>Other \"crsp_17279\"</code></span></summary><div><table><thead><tr></tr></thead><tbody><tr><td>Item</td><td>crsp_17279</td></tr></tbody></table></div></details></td></tr><tr><td>Weight</td><td><div class=\"dni-plaintext\"><pre>0.0007122507122507123</pre></div></td></tr></tbody></table></div></details></td></tr><tr><td>5</td><td><details class=\"dni-treeview\"><summary><span class=\"dni-code-hint\"><code>{ SecurityId = Other \"crsp_90436\"\\n  Weight = 0.0007122507123 }</code></span></summary><div><table><thead><tr></tr></thead><tbody><tr><td>SecurityId</td><td><details class=\"dni-treeview\"><summary><span class=\"dni-code-hint\"><code>Other \"crsp_90436\"</code></span></summary><div><table><thead><tr></tr></thead><tbody><tr><td>Item</td><td>crsp_90436</td></tr></tbody></table></div></details></td></tr><tr><td>Weight</td><td><div class=\"dni-plaintext\"><pre>0.0007122507122507123</pre></div></td></tr></tbody></table></div></details></td></tr><tr><td>6</td><td><details class=\"dni-treeview\"><summary><span class=\"dni-code-hint\"><code>{ SecurityId = Other \"crsp_80858\"\\n  Weight = 0.0007122507123 }</code></span></summary><div><table><thead><tr></tr></thead><tbody><tr><td>SecurityId</td><td><details class=\"dni-treeview\"><summary><span class=\"dni-code-hint\"><code>Other \"crsp_80858\"</code></span></summary><div><table><thead><tr></tr></thead><tbody><tr><td>Item</td><td>crsp_80858</td></tr></tbody></table></div></details></td></tr><tr><td>Weight</td><td><div class=\"dni-plaintext\"><pre>0.0007122507122507123</pre></div></td></tr></tbody></table></div></details></td></tr><tr><td>7</td><td><details class=\"dni-treeview\"><summary><span class=\"dni-code-hint\"><code>{ SecurityId = Other \"crsp_85991\"\\n  Weight = 0.0007122507123 }</code></span></summary><div><table><thead><tr></tr></thead><tbody><tr><td>SecurityId</td><td><details class=\"dni-treeview\"><summary><span class=\"dni-code-hint\"><code>Other \"crsp_85991\"</code></span></summary><div><table><thead><tr></tr></thead><tbody><tr><td>Item</td><td>crsp_85991</td></tr></tbody></table></div></details></td></tr><tr><td>Weight</td><td><div class=\"dni-plaintext\"><pre>0.0007122507122507123</pre></div></td></tr></tbody></table></div></details></td></tr><tr><td>8</td><td><details class=\"dni-treeview\"><summary><span class=\"dni-code-hint\"><code>{ SecurityId = Other \"crsp_85401\"\\n  Weight = 0.0007122507123 }</code></span></summary><div><table><thead><tr></tr></thead><tbody><tr><td>SecurityId</td><td><details class=\"dni-treeview\"><summary><span class=\"dni-code-hint\"><code>Other \"crsp_85401\"</code></span></summary><div><table><thead><tr></tr></thead><tbody><tr><td>Item</td><td>crsp_85401</td></tr></tbody></table></div></details></td></tr><tr><td>Weight</td><td><div class=\"dni-plaintext\"><pre>0.0007122507122507123</pre></div></td></tr></tbody></table></div></details></td></tr><tr><td>9</td><td><details class=\"dni-treeview\"><summary><span class=\"dni-code-hint\"><code>{ SecurityId = Other \"crsp_90926\"\\n  Weight = 0.0007122507123 }</code></span></summary><div><table><thead><tr></tr></thead><tbody><tr><td>SecurityId</td><td><details class=\"dni-treeview\"><summary><span class=\"dni-code-hint\"><code>Other \"crsp_90926\"</code></span></summary><div><table><thead><tr></tr></thead><tbody><tr><td>Item</td><td>crsp_90926</td></tr></tbody></table></div></details></td></tr><tr><td>Weight</td><td><div class=\"dni-plaintext\"><pre>0.0007122507122507123</pre></div></td></tr></tbody></table></div></details></td></tr><tr><td>10</td><td><details class=\"dni-treeview\"><summary><span class=\"dni-code-hint\"><code>{ SecurityId = Other \"crsp_93089\"\\n  Weight = 0.0007122507123 }</code></span></summary><div><table><thead><tr></tr></thead><tbody><tr><td>SecurityId</td><td><details class=\"dni-treeview\"><summary><span class=\"dni-code-hint\"><code>Other \"crsp_93089\"</code></span></summary><div><table><thead><tr></tr></thead><tbody><tr><td>Item</td><td>crsp_93089</td></tr></tbody></table></div></details></td></tr><tr><td>Weight</td><td><div class=\"dni-plaintext\"><pre>0.0007122507122507123</pre></div></td></tr></tbody></table></div></details></td></tr><tr><td>11</td><td><details class=\"dni-treeview\"><summary><span class=\"dni-code-hint\"><code>{ SecurityId = Other \"crsp_12049\"\\n  Weight = 0.0007122507123 }</code></span></summary><div><table><thead><tr></tr></thead><tbody><tr><td>SecurityId</td><td><details class=\"dni-treeview\"><summary><span class=\"dni-code-hint\"><code>Other \"crsp_12049\"</code></span></summary><div><table><thead><tr></tr></thead><tbody><tr><td>Item</td><td>crsp_12049</td></tr></tbody></table></div></details></td></tr><tr><td>Weight</td><td><div class=\"dni-plaintext\"><pre>0.0007122507122507123</pre></div></td></tr></tbody></table></div></details></td></tr><tr><td>12</td><td><details class=\"dni-treeview\"><summary><span class=\"dni-code-hint\"><code>{ SecurityId = Other \"crsp_46578\"\\n  Weight = 0.0007122507123 }</code></span></summary><div><table><thead><tr></tr></thead><tbody><tr><td>SecurityId</td><td><details class=\"dni-treeview\"><summary><span class=\"dni-code-hint\"><code>Other \"crsp_46578\"</code></span></summary><div><table><thead><tr></tr></thead><tbody><tr><td>Item</td><td>crsp_46578</td></tr></tbody></table></div></details></td></tr><tr><td>Weight</td><td><div class=\"dni-plaintext\"><pre>0.0007122507122507123</pre></div></td></tr></tbody></table></div></details></td></tr><tr><td>13</td><td><details class=\"dni-treeview\"><summary><span class=\"dni-code-hint\"><code>{ SecurityId = Other \"crsp_92457\"\\n  Weight = 0.0007122507123 }</code></span></summary><div><table><thead><tr></tr></thead><tbody><tr><td>SecurityId</td><td><details class=\"dni-treeview\"><summary><span class=\"dni-code-hint\"><code>Other \"crsp_92457\"</code></span></summary><div><table><thead><tr></tr></thead><tbody><tr><td>Item</td><td>crsp_92457</td></tr></tbody></table></div></details></td></tr><tr><td>Weight</td><td><div class=\"dni-plaintext\"><pre>0.0007122507122507123</pre></div></td></tr></tbody></table></div></details></td></tr><tr><td>14</td><td><details class=\"dni-treeview\"><summary><span class=\"dni-code-hint\"><code>{ SecurityId = Other \"crsp_92101\"\\n  Weight = 0.0007122507123 }</code></span></summary><div><table><thead><tr></tr></thead><tbody><tr><td>SecurityId</td><td><details class=\"dni-treeview\"><summary><span class=\"dni-code-hint\"><code>Other \"crsp_92101\"</code></span></summary><div><table><thead><tr></tr></thead><tbody><tr><td>Item</td><td>crsp_92101</td></tr></tbody></table></div></details></td></tr><tr><td>Weight</td><td><div class=\"dni-plaintext\"><pre>0.0007122507122507123</pre></div></td></tr></tbody></table></div></details></td></tr><tr><td>15</td><td><details class=\"dni-treeview\"><summary><span class=\"dni-code-hint\"><code>{ SecurityId = Other \"crsp_11999\"\\n  Weight = 0.0007122507123 }</code></span></summary><div><table><thead><tr></tr></thead><tbody><tr><td>SecurityId</td><td><details class=\"dni-treeview\"><summary><span class=\"dni-code-hint\"><code>Other \"crsp_11999\"</code></span></summary><div><table><thead><tr></tr></thead><tbody><tr><td>Item</td><td>crsp_11999</td></tr></tbody></table></div></details></td></tr><tr><td>Weight</td><td><div class=\"dni-plaintext\"><pre>0.0007122507122507123</pre></div></td></tr></tbody></table></div></details></td></tr><tr><td>16</td><td><details class=\"dni-treeview\"><summary><span class=\"dni-code-hint\"><code>{ SecurityId = Other \"crsp_78081\"\\n  Weight = 0.0007122507123 }</code></span></summary><div><table><thead><tr></tr></thead><tbody><tr><td>SecurityId</td><td><details class=\"dni-treeview\"><summary><span class=\"dni-code-hint\"><code>Other \"crsp_78081\"</code></span></summary><div><table><thead><tr></tr></thead><tbody><tr><td>Item</td><td>crsp_78081</td></tr></tbody></table></div></details></td></tr><tr><td>Weight</td><td><div class=\"dni-plaintext\"><pre>0.0007122507122507123</pre></div></td></tr></tbody></table></div></details></td></tr><tr><td>17</td><td><details class=\"dni-treeview\"><summary><span class=\"dni-code-hint\"><code>{ SecurityId = Other \"crsp_92047\"\\n  Weight = 0.0007122507123 }</code></span></summary><div><table><thead><tr></tr></thead><tbody><tr><td>SecurityId</td><td><details class=\"dni-treeview\"><summary><span class=\"dni-code-hint\"><code>Other \"crsp_92047\"</code></span></summary><div><table><thead><tr></tr></thead><tbody><tr><td>Item</td><td>crsp_92047</td></tr></tbody></table></div></details></td></tr><tr><td>Weight</td><td><div class=\"dni-plaintext\"><pre>0.0007122507122507123</pre></div></td></tr></tbody></table></div></details></td></tr><tr><td>18</td><td><details class=\"dni-treeview\"><summary><span class=\"dni-code-hint\"><code>{ SecurityId = Other \"crsp_84604\"\\n  Weight = 0.0007122507123 }</code></span></summary><div><table><thead><tr></tr></thead><tbody><tr><td>SecurityId</td><td><details class=\"dni-treeview\"><summary><span class=\"dni-code-hint\"><code>Other \"crsp_84604\"</code></span></summary><div><table><thead><tr></tr></thead><tbody><tr><td>Item</td><td>crsp_84604</td></tr></tbody></table></div></details></td></tr><tr><td>Weight</td><td><div class=\"dni-plaintext\"><pre>0.0007122507122507123</pre></div></td></tr></tbody></table></div></details></td></tr><tr><td>19</td><td><details class=\"dni-treeview\"><summary><span class=\"dni-code-hint\"><code>{ SecurityId = Other \"crsp_92763\"\\n  Weight = 0.0007122507123 }</code></span></summary><div><table><thead><tr></tr></thead><tbody><tr><td>SecurityId</td><td><details class=\"dni-treeview\"><summary><span class=\"dni-code-hint\"><code>Other \"crsp_92763\"</code></span></summary><div><table><thead><tr></tr></thead><tbody><tr><td>Item</td><td>crsp_92763</td></tr></tbody></table></div></details></td></tr><tr><td>Weight</td><td><div class=\"dni-plaintext\"><pre>0.0007122507122507123</pre></div></td></tr></tbody></table></div></details></td></tr><tr><td colspan=\"2\"><i>... (more)</i></td></tr></tbody></table></td></tr></tbody></table></div></details></td></tr></tbody></table><style>\r\n",
       ".dni-code-hint {\r\n",
       "    font-style: italic;\r\n",
       "    overflow: hidden;\r\n",
       "    white-space: nowrap;\r\n",
       "}\r\n",
       ".dni-treeview {\r\n",
       "    white-space: nowrap;\r\n",
       "}\r\n",
       ".dni-treeview td {\r\n",
       "    vertical-align: top;\r\n",
       "    text-align: start;\r\n",
       "}\r\n",
       "details.dni-treeview {\r\n",
       "    padding-left: 1em;\r\n",
       "}\r\n",
       "table td {\r\n",
       "    text-align: start;\r\n",
       "}\r\n",
       "table tr { \r\n",
       "    vertical-align: top; \r\n",
       "    margin: 0em 0px;\r\n",
       "}\r\n",
       "table tr td pre \r\n",
       "{ \r\n",
       "    vertical-align: top !important; \r\n",
       "    margin: 0em 0px !important;\r\n",
       "} \r\n",
       "table th {\r\n",
       "    text-align: start;\r\n",
       "}\r\n",
       "</style>"
      ]
     },
     "metadata": {},
     "output_type": "display_data"
    }
   ],
   "source": [
    "ew.Portfolios[..3]\n"
   ]
  },
  {
   "attachments": {},
   "cell_type": "markdown",
   "metadata": {},
   "source": [
    "Some portfolio returns.\n",
    "\n"
   ]
  },
  {
   "cell_type": "code",
   "execution_count": 16,
   "metadata": {
    "dotnet_interactive": {
     "language": "fsharp"
    },
    "polyglot_notebook": {
     "kernelName": "fsharp"
    }
   },
   "outputs": [
    {
     "data": {
      "text/html": [
       "<table><thead><tr><th><i>index</i></th><th>value</th></tr></thead><tbody><tr><td>0</td><td><details class=\"dni-treeview\"><summary><span class=\"dni-code-hint\"><code>{ Name = \"book-to-market\"\\n  Index = 1\\n  Month = 01/01/2009 00:00:00\\n  Return = -0.04363115613 }</code></span></summary><div><table><thead><tr></tr></thead><tbody><tr><td>Name</td><td>book-to-market</td></tr><tr><td>Index</td><td><div class=\"dni-plaintext\"><pre>1</pre></div></td></tr><tr><td>Month</td><td><span>2009-01-01 00:00:00Z</span></td></tr><tr><td>Return</td><td><div class=\"dni-plaintext\"><pre>-0.04363115612903222</pre></div></td></tr></tbody></table></div></details></td></tr><tr><td>1</td><td><details class=\"dni-treeview\"><summary><span class=\"dni-code-hint\"><code>{ Name = \"book-to-market\"\\n  Index = 2\\n  Month = 01/01/2009 00:00:00\\n  Return = -0.05140669141 }</code></span></summary><div><table><thead><tr></tr></thead><tbody><tr><td>Name</td><td>book-to-market</td></tr><tr><td>Index</td><td><div class=\"dni-plaintext\"><pre>2</pre></div></td></tr><tr><td>Month</td><td><span>2009-01-01 00:00:00Z</span></td></tr><tr><td>Return</td><td><div class=\"dni-plaintext\"><pre>-0.05140669141381543</pre></div></td></tr></tbody></table></div></details></td></tr><tr><td>2</td><td><details class=\"dni-treeview\"><summary><span class=\"dni-code-hint\"><code>{ Name = \"book-to-market\"\\n  Index = 3\\n  Month = 01/01/2009 00:00:00\\n  Return = 0.00328639122 }</code></span></summary><div><table><thead><tr></tr></thead><tbody><tr><td>Name</td><td>book-to-market</td></tr><tr><td>Index</td><td><div class=\"dni-plaintext\"><pre>3</pre></div></td></tr><tr><td>Month</td><td><span>2009-01-01 00:00:00Z</span></td></tr><tr><td>Return</td><td><div class=\"dni-plaintext\"><pre>0.0032863912201420284</pre></div></td></tr></tbody></table></div></details></td></tr><tr><td>3</td><td><details class=\"dni-treeview\"><summary><span class=\"dni-code-hint\"><code>{ Name = \"book-to-market\"\\n  Index = 1\\n  Month = 01/01/2011 00:00:00\\n  Return = 0.004434853989 }</code></span></summary><div><table><thead><tr></tr></thead><tbody><tr><td>Name</td><td>book-to-market</td></tr><tr><td>Index</td><td><div class=\"dni-plaintext\"><pre>1</pre></div></td></tr><tr><td>Month</td><td><span>2011-01-01 00:00:00Z</span></td></tr><tr><td>Return</td><td><div class=\"dni-plaintext\"><pre>0.0044348539886039885</pre></div></td></tr></tbody></table></div></details></td></tr></tbody></table><style>\r\n",
       ".dni-code-hint {\r\n",
       "    font-style: italic;\r\n",
       "    overflow: hidden;\r\n",
       "    white-space: nowrap;\r\n",
       "}\r\n",
       ".dni-treeview {\r\n",
       "    white-space: nowrap;\r\n",
       "}\r\n",
       ".dni-treeview td {\r\n",
       "    vertical-align: top;\r\n",
       "    text-align: start;\r\n",
       "}\r\n",
       "details.dni-treeview {\r\n",
       "    padding-left: 1em;\r\n",
       "}\r\n",
       "table td {\r\n",
       "    text-align: start;\r\n",
       "}\r\n",
       "table tr { \r\n",
       "    vertical-align: top; \r\n",
       "    margin: 0em 0px;\r\n",
       "}\r\n",
       "table tr td pre \r\n",
       "{ \r\n",
       "    vertical-align: top !important; \r\n",
       "    margin: 0em 0px !important;\r\n",
       "} \r\n",
       "table th {\r\n",
       "    text-align: start;\r\n",
       "}\r\n",
       "</style>"
      ]
     },
     "metadata": {},
     "output_type": "display_data"
    }
   ],
   "source": [
    "ew.Returns[..3]\n"
   ]
  },
  {
   "attachments": {},
   "cell_type": "markdown",
   "metadata": {},
   "source": [
    "### Value Weighted Portfolios\n",
    "\n"
   ]
  },
  {
   "cell_type": "code",
   "execution_count": 17,
   "metadata": {
    "dotnet_interactive": {
     "language": "fsharp"
    },
    "polyglot_notebook": {
     "kernelName": "fsharp"
    }
   },
   "outputs": [
    {
     "data": {
      "text/html": [
       "<table><thead><tr><th><i>index</i></th><th>value</th></tr></thead><tbody><tr><td>0</td><td><details class=\"dni-treeview\"><summary><span class=\"dni-code-hint\"><code>{ Name = \"book-to-market\"\\n  Index = 1\\n  FormationMonth = 01/12/2008 00:00:00\\n  Positions =\\n   [{ SecurityId = Other \"crsp_92800\"\\n      Weight = 7.82337602e-06 }; { SecurityId = Other \"crsp_83386\"\\n                                   Weight = 2.021589824e-05 };\\n    { SecurityId = Other \"crsp_825...</code></span></summary><div><table><thead><tr></tr></thead><tbody><tr><td>Name</td><td>book-to-market</td></tr><tr><td>Index</td><td><div class=\"dni-plaintext\"><pre>1</pre></div></td></tr><tr><td>FormationMonth</td><td><span>2008-12-01 00:00:00Z</span></td></tr><tr><td>Positions</td><td><table><thead><tr><th><i>index</i></th><th>value</th></tr></thead><tbody><tr><td>0</td><td><details class=\"dni-treeview\"><summary><span class=\"dni-code-hint\"><code>{ SecurityId = Other \"crsp_92800\"\\n  Weight = 7.82337602e-06 }</code></span></summary><div><table><thead><tr></tr></thead><tbody><tr><td>SecurityId</td><td><details class=\"dni-treeview\"><summary><span class=\"dni-code-hint\"><code>Other \"crsp_92800\"</code></span></summary><div><table><thead><tr></tr></thead><tbody><tr><td>Item</td><td>crsp_92800</td></tr></tbody></table></div></details></td></tr><tr><td>Weight</td><td><div class=\"dni-plaintext\"><pre>7.823376019658486E-06</pre></div></td></tr></tbody></table></div></details></td></tr><tr><td>1</td><td><details class=\"dni-treeview\"><summary><span class=\"dni-code-hint\"><code>{ SecurityId = Other \"crsp_83386\"\\n  Weight = 2.021589824e-05 }</code></span></summary><div><table><thead><tr></tr></thead><tbody><tr><td>SecurityId</td><td><details class=\"dni-treeview\"><summary><span class=\"dni-code-hint\"><code>Other \"crsp_83386\"</code></span></summary><div><table><thead><tr></tr></thead><tbody><tr><td>Item</td><td>crsp_83386</td></tr></tbody></table></div></details></td></tr><tr><td>Weight</td><td><div class=\"dni-plaintext\"><pre>2.021589824150812E-05</pre></div></td></tr></tbody></table></div></details></td></tr><tr><td>2</td><td><details class=\"dni-treeview\"><summary><span class=\"dni-code-hint\"><code>{ SecurityId = Other \"crsp_82567\"\\n  Weight = 4.651873303e-05 }</code></span></summary><div><table><thead><tr></tr></thead><tbody><tr><td>SecurityId</td><td><details class=\"dni-treeview\"><summary><span class=\"dni-code-hint\"><code>Other \"crsp_82567\"</code></span></summary><div><table><thead><tr></tr></thead><tbody><tr><td>Item</td><td>crsp_82567</td></tr></tbody></table></div></details></td></tr><tr><td>Weight</td><td><div class=\"dni-plaintext\"><pre>4.651873303407826E-05</pre></div></td></tr></tbody></table></div></details></td></tr><tr><td>3</td><td><details class=\"dni-treeview\"><summary><span class=\"dni-code-hint\"><code>{ SecurityId = Other \"crsp_90488\"\\n  Weight = 2.805908036e-06 }</code></span></summary><div><table><thead><tr></tr></thead><tbody><tr><td>SecurityId</td><td><details class=\"dni-treeview\"><summary><span class=\"dni-code-hint\"><code>Other \"crsp_90488\"</code></span></summary><div><table><thead><tr></tr></thead><tbody><tr><td>Item</td><td>crsp_90488</td></tr></tbody></table></div></details></td></tr><tr><td>Weight</td><td><div class=\"dni-plaintext\"><pre>2.805908036166525E-06</pre></div></td></tr></tbody></table></div></details></td></tr><tr><td>4</td><td><details class=\"dni-treeview\"><summary><span class=\"dni-code-hint\"><code>{ SecurityId = Other \"comp_180759_01\"\\n  Weight = 1.370770344e-05 }</code></span></summary><div><table><thead><tr></tr></thead><tbody><tr><td>SecurityId</td><td><details class=\"dni-treeview\"><summary><span class=\"dni-code-hint\"><code>Other \"comp_180759_01\"</code></span></summary><div><table><thead><tr></tr></thead><tbody><tr><td>Item</td><td>comp_180759_01</td></tr></tbody></table></div></details></td></tr><tr><td>Weight</td><td><div class=\"dni-plaintext\"><pre>1.370770344343533E-05</pre></div></td></tr></tbody></table></div></details></td></tr><tr><td>5</td><td><details class=\"dni-treeview\"><summary><span class=\"dni-code-hint\"><code>{ SecurityId = Other \"crsp_79698\"\\n  Weight = 0.0002423434367 }</code></span></summary><div><table><thead><tr></tr></thead><tbody><tr><td>SecurityId</td><td><details class=\"dni-treeview\"><summary><span class=\"dni-code-hint\"><code>Other \"crsp_79698\"</code></span></summary><div><table><thead><tr></tr></thead><tbody><tr><td>Item</td><td>crsp_79698</td></tr></tbody></table></div></details></td></tr><tr><td>Weight</td><td><div class=\"dni-plaintext\"><pre>0.00024234343666512957</pre></div></td></tr></tbody></table></div></details></td></tr><tr><td>6</td><td><details class=\"dni-treeview\"><summary><span class=\"dni-code-hint\"><code>{ SecurityId = Other \"crsp_88159\"\\n  Weight = 7.712778478e-05 }</code></span></summary><div><table><thead><tr></tr></thead><tbody><tr><td>SecurityId</td><td><details class=\"dni-treeview\"><summary><span class=\"dni-code-hint\"><code>Other \"crsp_88159\"</code></span></summary><div><table><thead><tr></tr></thead><tbody><tr><td>Item</td><td>crsp_88159</td></tr></tbody></table></div></details></td></tr><tr><td>Weight</td><td><div class=\"dni-plaintext\"><pre>7.71277847807716E-05</pre></div></td></tr></tbody></table></div></details></td></tr><tr><td>7</td><td><details class=\"dni-treeview\"><summary><span class=\"dni-code-hint\"><code>{ SecurityId = Other \"crsp_90325\"\\n  Weight = 2.678371234e-05 }</code></span></summary><div><table><thead><tr></tr></thead><tbody><tr><td>SecurityId</td><td><details class=\"dni-treeview\"><summary><span class=\"dni-code-hint\"><code>Other \"crsp_90325\"</code></span></summary><div><table><thead><tr></tr></thead><tbody><tr><td>Item</td><td>crsp_90325</td></tr></tbody></table></div></details></td></tr><tr><td>Weight</td><td><div class=\"dni-plaintext\"><pre>2.6783712335954458E-05</pre></div></td></tr></tbody></table></div></details></td></tr><tr><td>8</td><td><details class=\"dni-treeview\"><summary><span class=\"dni-code-hint\"><code>{ SecurityId = Other \"crsp_85706\"\\n  Weight = 1.482623975e-05 }</code></span></summary><div><table><thead><tr></tr></thead><tbody><tr><td>SecurityId</td><td><details class=\"dni-treeview\"><summary><span class=\"dni-code-hint\"><code>Other \"crsp_85706\"</code></span></summary><div><table><thead><tr></tr></thead><tbody><tr><td>Item</td><td>crsp_85706</td></tr></tbody></table></div></details></td></tr><tr><td>Weight</td><td><div class=\"dni-plaintext\"><pre>1.4826239745163141E-05</pre></div></td></tr></tbody></table></div></details></td></tr><tr><td>9</td><td><details class=\"dni-treeview\"><summary><span class=\"dni-code-hint\"><code>{ SecurityId = Other \"crsp_87816\"\\n  Weight = 5.104974214e-05 }</code></span></summary><div><table><thead><tr></tr></thead><tbody><tr><td>SecurityId</td><td><details class=\"dni-treeview\"><summary><span class=\"dni-code-hint\"><code>Other \"crsp_87816\"</code></span></summary><div><table><thead><tr></tr></thead><tbody><tr><td>Item</td><td>crsp_87816</td></tr></tbody></table></div></details></td></tr><tr><td>Weight</td><td><div class=\"dni-plaintext\"><pre>5.1049742144116546E-05</pre></div></td></tr></tbody></table></div></details></td></tr><tr><td>10</td><td><details class=\"dni-treeview\"><summary><span class=\"dni-code-hint\"><code>{ SecurityId = Other \"crsp_91434\"\\n  Weight = 9.046313474e-05 }</code></span></summary><div><table><thead><tr></tr></thead><tbody><tr><td>SecurityId</td><td><details class=\"dni-treeview\"><summary><span class=\"dni-code-hint\"><code>Other \"crsp_91434\"</code></span></summary><div><table><thead><tr></tr></thead><tbody><tr><td>Item</td><td>crsp_91434</td></tr></tbody></table></div></details></td></tr><tr><td>Weight</td><td><div class=\"dni-plaintext\"><pre>9.046313474129236E-05</pre></div></td></tr></tbody></table></div></details></td></tr><tr><td>11</td><td><details class=\"dni-treeview\"><summary><span class=\"dni-code-hint\"><code>{ SecurityId = Other \"crsp_79678\"\\n  Weight = 0.00162203822 }</code></span></summary><div><table><thead><tr></tr></thead><tbody><tr><td>SecurityId</td><td><details class=\"dni-treeview\"><summary><span class=\"dni-code-hint\"><code>Other \"crsp_79678\"</code></span></summary><div><table><thead><tr></tr></thead><tbody><tr><td>Item</td><td>crsp_79678</td></tr></tbody></table></div></details></td></tr><tr><td>Weight</td><td><div class=\"dni-plaintext\"><pre>0.001622038219962141</pre></div></td></tr></tbody></table></div></details></td></tr><tr><td>12</td><td><details class=\"dni-treeview\"><summary><span class=\"dni-code-hint\"><code>{ SecurityId = Other \"crsp_89952\"\\n  Weight = 0.0002748332582 }</code></span></summary><div><table><thead><tr></tr></thead><tbody><tr><td>SecurityId</td><td><details class=\"dni-treeview\"><summary><span class=\"dni-code-hint\"><code>Other \"crsp_89952\"</code></span></summary><div><table><thead><tr></tr></thead><tbody><tr><td>Item</td><td>crsp_89952</td></tr></tbody></table></div></details></td></tr><tr><td>Weight</td><td><div class=\"dni-plaintext\"><pre>0.0002748332581892655</pre></div></td></tr></tbody></table></div></details></td></tr><tr><td>13</td><td><details class=\"dni-treeview\"><summary><span class=\"dni-code-hint\"><code>{ SecurityId = Other \"crsp_84020\"\\n  Weight = 0.000398395727 }</code></span></summary><div><table><thead><tr></tr></thead><tbody><tr><td>SecurityId</td><td><details class=\"dni-treeview\"><summary><span class=\"dni-code-hint\"><code>Other \"crsp_84020\"</code></span></summary><div><table><thead><tr></tr></thead><tbody><tr><td>Item</td><td>crsp_84020</td></tr></tbody></table></div></details></td></tr><tr><td>Weight</td><td><div class=\"dni-plaintext\"><pre>0.000398395726968492</pre></div></td></tr></tbody></table></div></details></td></tr><tr><td>14</td><td><details class=\"dni-treeview\"><summary><span class=\"dni-code-hint\"><code>{ SecurityId = Other \"crsp_81128\"\\n  Weight = 0.0005310074374 }</code></span></summary><div><table><thead><tr></tr></thead><tbody><tr><td>SecurityId</td><td><details class=\"dni-treeview\"><summary><span class=\"dni-code-hint\"><code>Other \"crsp_81128\"</code></span></summary><div><table><thead><tr></tr></thead><tbody><tr><td>Item</td><td>crsp_81128</td></tr></tbody></table></div></details></td></tr><tr><td>Weight</td><td><div class=\"dni-plaintext\"><pre>0.0005310074373897382</pre></div></td></tr></tbody></table></div></details></td></tr><tr><td>15</td><td><details class=\"dni-treeview\"><summary><span class=\"dni-code-hint\"><code>{ SecurityId = Other \"crsp_76605\"\\n  Weight = 0.001158061064 }</code></span></summary><div><table><thead><tr></tr></thead><tbody><tr><td>SecurityId</td><td><details class=\"dni-treeview\"><summary><span class=\"dni-code-hint\"><code>Other \"crsp_76605\"</code></span></summary><div><table><thead><tr></tr></thead><tbody><tr><td>Item</td><td>crsp_76605</td></tr></tbody></table></div></details></td></tr><tr><td>Weight</td><td><div class=\"dni-plaintext\"><pre>0.0011580610635797482</pre></div></td></tr></tbody></table></div></details></td></tr><tr><td>16</td><td><details class=\"dni-treeview\"><summary><span class=\"dni-code-hint\"><code>{ SecurityId = Other \"crsp_91461\"\\n  Weight = 0.001482692028 }</code></span></summary><div><table><thead><tr></tr></thead><tbody><tr><td>SecurityId</td><td><details class=\"dni-treeview\"><summary><span class=\"dni-code-hint\"><code>Other \"crsp_91461\"</code></span></summary><div><table><thead><tr></tr></thead><tbody><tr><td>Item</td><td>crsp_91461</td></tr></tbody></table></div></details></td></tr><tr><td>Weight</td><td><div class=\"dni-plaintext\"><pre>0.0014826920280422897</pre></div></td></tr></tbody></table></div></details></td></tr><tr><td>17</td><td><details class=\"dni-treeview\"><summary><span class=\"dni-code-hint\"><code>{ SecurityId = Other \"crsp_90169\"\\n  Weight = 2.806264885e-06 }</code></span></summary><div><table><thead><tr></tr></thead><tbody><tr><td>SecurityId</td><td><details class=\"dni-treeview\"><summary><span class=\"dni-code-hint\"><code>Other \"crsp_90169\"</code></span></summary><div><table><thead><tr></tr></thead><tbody><tr><td>Item</td><td>crsp_90169</td></tr></tbody></table></div></details></td></tr><tr><td>Weight</td><td><div class=\"dni-plaintext\"><pre>2.806264885396256E-06</pre></div></td></tr></tbody></table></div></details></td></tr><tr><td>18</td><td><details class=\"dni-treeview\"><summary><span class=\"dni-code-hint\"><code>{ SecurityId = Other \"crsp_85216\"\\n  Weight = 6.295208103e-06 }</code></span></summary><div><table><thead><tr></tr></thead><tbody><tr><td>SecurityId</td><td><details class=\"dni-treeview\"><summary><span class=\"dni-code-hint\"><code>Other \"crsp_85216\"</code></span></summary><div><table><thead><tr></tr></thead><tbody><tr><td>Item</td><td>crsp_85216</td></tr></tbody></table></div></details></td></tr><tr><td>Weight</td><td><div class=\"dni-plaintext\"><pre>6.295208103460335E-06</pre></div></td></tr></tbody></table></div></details></td></tr><tr><td>19</td><td><details class=\"dni-treeview\"><summary><span class=\"dni-code-hint\"><code>{ SecurityId = Other \"crsp_90061\"\\n  Weight = 8.849439676e-06 }</code></span></summary><div><table><thead><tr></tr></thead><tbody><tr><td>SecurityId</td><td><details class=\"dni-treeview\"><summary><span class=\"dni-code-hint\"><code>Other \"crsp_90061\"</code></span></summary><div><table><thead><tr></tr></thead><tbody><tr><td>Item</td><td>crsp_90061</td></tr></tbody></table></div></details></td></tr><tr><td>Weight</td><td><div class=\"dni-plaintext\"><pre>8.849439675829064E-06</pre></div></td></tr></tbody></table></div></details></td></tr><tr><td colspan=\"2\"><i>... (more)</i></td></tr></tbody></table></td></tr></tbody></table></div></details></td></tr><tr><td>1</td><td><details class=\"dni-treeview\"><summary><span class=\"dni-code-hint\"><code>{ Name = \"book-to-market\"\\n  Index = 2\\n  FormationMonth = 01/12/2008 00:00:00\\n  Positions =\\n   [{ SecurityId = Other \"crsp_90454\"\\n      Weight = 8.539153991e-05 }; { SecurityId = Other \"crsp_23712\"\\n                                    Weight = 0.004504794958 };\\n    { SecurityId = Other \"crsp_18...</code></span></summary><div><table><thead><tr></tr></thead><tbody><tr><td>Name</td><td>book-to-market</td></tr><tr><td>Index</td><td><div class=\"dni-plaintext\"><pre>2</pre></div></td></tr><tr><td>FormationMonth</td><td><span>2008-12-01 00:00:00Z</span></td></tr><tr><td>Positions</td><td><table><thead><tr><th><i>index</i></th><th>value</th></tr></thead><tbody><tr><td>0</td><td><details class=\"dni-treeview\"><summary><span class=\"dni-code-hint\"><code>{ SecurityId = Other \"crsp_90454\"\\n  Weight = 8.539153991e-05 }</code></span></summary><div><table><thead><tr></tr></thead><tbody><tr><td>SecurityId</td><td><details class=\"dni-treeview\"><summary><span class=\"dni-code-hint\"><code>Other \"crsp_90454\"</code></span></summary><div><table><thead><tr></tr></thead><tbody><tr><td>Item</td><td>crsp_90454</td></tr></tbody></table></div></details></td></tr><tr><td>Weight</td><td><div class=\"dni-plaintext\"><pre>8.539153990698411E-05</pre></div></td></tr></tbody></table></div></details></td></tr><tr><td>1</td><td><details class=\"dni-treeview\"><summary><span class=\"dni-code-hint\"><code>{ SecurityId = Other \"crsp_23712\"\\n  Weight = 0.004504794958 }</code></span></summary><div><table><thead><tr></tr></thead><tbody><tr><td>SecurityId</td><td><details class=\"dni-treeview\"><summary><span class=\"dni-code-hint\"><code>Other \"crsp_23712\"</code></span></summary><div><table><thead><tr></tr></thead><tbody><tr><td>Item</td><td>crsp_23712</td></tr></tbody></table></div></details></td></tr><tr><td>Weight</td><td><div class=\"dni-plaintext\"><pre>0.004504794958251874</pre></div></td></tr></tbody></table></div></details></td></tr><tr><td>2</td><td><details class=\"dni-treeview\"><summary><span class=\"dni-code-hint\"><code>{ SecurityId = Other \"crsp_18411\"\\n  Weight = 0.008745296825 }</code></span></summary><div><table><thead><tr></tr></thead><tbody><tr><td>SecurityId</td><td><details class=\"dni-treeview\"><summary><span class=\"dni-code-hint\"><code>Other \"crsp_18411\"</code></span></summary><div><table><thead><tr></tr></thead><tbody><tr><td>Item</td><td>crsp_18411</td></tr></tbody></table></div></details></td></tr><tr><td>Weight</td><td><div class=\"dni-plaintext\"><pre>0.008745296825062424</pre></div></td></tr></tbody></table></div></details></td></tr><tr><td>3</td><td><details class=\"dni-treeview\"><summary><span class=\"dni-code-hint\"><code>{ SecurityId = Other \"crsp_42439\"\\n  Weight = 0.0002139113808 }</code></span></summary><div><table><thead><tr></tr></thead><tbody><tr><td>SecurityId</td><td><details class=\"dni-treeview\"><summary><span class=\"dni-code-hint\"><code>Other \"crsp_42439\"</code></span></summary><div><table><thead><tr></tr></thead><tbody><tr><td>Item</td><td>crsp_42439</td></tr></tbody></table></div></details></td></tr><tr><td>Weight</td><td><div class=\"dni-plaintext\"><pre>0.00021391138083773256</pre></div></td></tr></tbody></table></div></details></td></tr><tr><td>4</td><td><details class=\"dni-treeview\"><summary><span class=\"dni-code-hint\"><code>{ SecurityId = Other \"crsp_92195\"\\n  Weight = 0.0002824027338 }</code></span></summary><div><table><thead><tr></tr></thead><tbody><tr><td>SecurityId</td><td><details class=\"dni-treeview\"><summary><span class=\"dni-code-hint\"><code>Other \"crsp_92195\"</code></span></summary><div><table><thead><tr></tr></thead><tbody><tr><td>Item</td><td>crsp_92195</td></tr></tbody></table></div></details></td></tr><tr><td>Weight</td><td><div class=\"dni-plaintext\"><pre>0.0002824027337811153</pre></div></td></tr></tbody></table></div></details></td></tr><tr><td>5</td><td><details class=\"dni-treeview\"><summary><span class=\"dni-code-hint\"><code>{ SecurityId = Other \"crsp_85675\"\\n  Weight = 0.0002232205183 }</code></span></summary><div><table><thead><tr></tr></thead><tbody><tr><td>SecurityId</td><td><details class=\"dni-treeview\"><summary><span class=\"dni-code-hint\"><code>Other \"crsp_85675\"</code></span></summary><div><table><thead><tr></tr></thead><tbody><tr><td>Item</td><td>crsp_85675</td></tr></tbody></table></div></details></td></tr><tr><td>Weight</td><td><div class=\"dni-plaintext\"><pre>0.00022322051827037024</pre></div></td></tr></tbody></table></div></details></td></tr><tr><td>6</td><td><details class=\"dni-treeview\"><summary><span class=\"dni-code-hint\"><code>{ SecurityId = Other \"crsp_81564\"\\n  Weight = 0.0002329014682 }</code></span></summary><div><table><thead><tr></tr></thead><tbody><tr><td>SecurityId</td><td><details class=\"dni-treeview\"><summary><span class=\"dni-code-hint\"><code>Other \"crsp_81564\"</code></span></summary><div><table><thead><tr></tr></thead><tbody><tr><td>Item</td><td>crsp_81564</td></tr></tbody></table></div></details></td></tr><tr><td>Weight</td><td><div class=\"dni-plaintext\"><pre>0.00023290146817613614</pre></div></td></tr></tbody></table></div></details></td></tr><tr><td>7</td><td><details class=\"dni-treeview\"><summary><span class=\"dni-code-hint\"><code>{ SecurityId = Other \"crsp_48486\"\\n  Weight = 0.0008122577012 }</code></span></summary><div><table><thead><tr></tr></thead><tbody><tr><td>SecurityId</td><td><details class=\"dni-treeview\"><summary><span class=\"dni-code-hint\"><code>Other \"crsp_48486\"</code></span></summary><div><table><thead><tr></tr></thead><tbody><tr><td>Item</td><td>crsp_48486</td></tr></tbody></table></div></details></td></tr><tr><td>Weight</td><td><div class=\"dni-plaintext\"><pre>0.0008122577012453666</pre></div></td></tr></tbody></table></div></details></td></tr><tr><td>8</td><td><details class=\"dni-treeview\"><summary><span class=\"dni-code-hint\"><code>{ SecurityId = Other \"crsp_48653\"\\n  Weight = 0.001919224771 }</code></span></summary><div><table><thead><tr></tr></thead><tbody><tr><td>SecurityId</td><td><details class=\"dni-treeview\"><summary><span class=\"dni-code-hint\"><code>Other \"crsp_48653\"</code></span></summary><div><table><thead><tr></tr></thead><tbody><tr><td>Item</td><td>crsp_48653</td></tr></tbody></table></div></details></td></tr><tr><td>Weight</td><td><div class=\"dni-plaintext\"><pre>0.0019192247712919647</pre></div></td></tr></tbody></table></div></details></td></tr><tr><td>9</td><td><details class=\"dni-treeview\"><summary><span class=\"dni-code-hint\"><code>{ SecurityId = Other \"crsp_53859\"\\n  Weight = 7.047356418e-05 }</code></span></summary><div><table><thead><tr></tr></thead><tbody><tr><td>SecurityId</td><td><details class=\"dni-treeview\"><summary><span class=\"dni-code-hint\"><code>Other \"crsp_53859\"</code></span></summary><div><table><thead><tr></tr></thead><tbody><tr><td>Item</td><td>crsp_53859</td></tr></tbody></table></div></details></td></tr><tr><td>Weight</td><td><div class=\"dni-plaintext\"><pre>7.047356418177885E-05</pre></div></td></tr></tbody></table></div></details></td></tr><tr><td>10</td><td><details class=\"dni-treeview\"><summary><span class=\"dni-code-hint\"><code>{ SecurityId = Other \"crsp_91500\"\\n  Weight = 7.597895043e-05 }</code></span></summary><div><table><thead><tr></tr></thead><tbody><tr><td>SecurityId</td><td><details class=\"dni-treeview\"><summary><span class=\"dni-code-hint\"><code>Other \"crsp_91500\"</code></span></summary><div><table><thead><tr></tr></thead><tbody><tr><td>Item</td><td>crsp_91500</td></tr></tbody></table></div></details></td></tr><tr><td>Weight</td><td><div class=\"dni-plaintext\"><pre>7.597895043474944E-05</pre></div></td></tr></tbody></table></div></details></td></tr><tr><td>11</td><td><details class=\"dni-treeview\"><summary><span class=\"dni-code-hint\"><code>{ SecurityId = Other \"crsp_60206\"\\n  Weight = 0.0006902225522 }</code></span></summary><div><table><thead><tr></tr></thead><tbody><tr><td>SecurityId</td><td><details class=\"dni-treeview\"><summary><span class=\"dni-code-hint\"><code>Other \"crsp_60206\"</code></span></summary><div><table><thead><tr></tr></thead><tbody><tr><td>Item</td><td>crsp_60206</td></tr></tbody></table></div></details></td></tr><tr><td>Weight</td><td><div class=\"dni-plaintext\"><pre>0.0006902225521926826</pre></div></td></tr></tbody></table></div></details></td></tr><tr><td>12</td><td><details class=\"dni-treeview\"><summary><span class=\"dni-code-hint\"><code>{ SecurityId = Other \"crsp_90803\"\\n  Weight = 0.0001068976884 }</code></span></summary><div><table><thead><tr></tr></thead><tbody><tr><td>SecurityId</td><td><details class=\"dni-treeview\"><summary><span class=\"dni-code-hint\"><code>Other \"crsp_90803\"</code></span></summary><div><table><thead><tr></tr></thead><tbody><tr><td>Item</td><td>crsp_90803</td></tr></tbody></table></div></details></td></tr><tr><td>Weight</td><td><div class=\"dni-plaintext\"><pre>0.00010689768841658729</pre></div></td></tr></tbody></table></div></details></td></tr><tr><td>13</td><td><details class=\"dni-treeview\"><summary><span class=\"dni-code-hint\"><code>{ SecurityId = Other \"crsp_84146\"\\n  Weight = 1.954839565e-06 }</code></span></summary><div><table><thead><tr></tr></thead><tbody><tr><td>SecurityId</td><td><details class=\"dni-treeview\"><summary><span class=\"dni-code-hint\"><code>Other \"crsp_84146\"</code></span></summary><div><table><thead><tr></tr></thead><tbody><tr><td>Item</td><td>crsp_84146</td></tr></tbody></table></div></details></td></tr><tr><td>Weight</td><td><div class=\"dni-plaintext\"><pre>1.954839565332457E-06</pre></div></td></tr></tbody></table></div></details></td></tr><tr><td>14</td><td><details class=\"dni-treeview\"><summary><span class=\"dni-code-hint\"><code>{ SecurityId = Other \"crsp_90946\"\\n  Weight = 7.601655461e-05 }</code></span></summary><div><table><thead><tr></tr></thead><tbody><tr><td>SecurityId</td><td><details class=\"dni-treeview\"><summary><span class=\"dni-code-hint\"><code>Other \"crsp_90946\"</code></span></summary><div><table><thead><tr></tr></thead><tbody><tr><td>Item</td><td>crsp_90946</td></tr></tbody></table></div></details></td></tr><tr><td>Weight</td><td><div class=\"dni-plaintext\"><pre>7.601655461362289E-05</pre></div></td></tr></tbody></table></div></details></td></tr><tr><td>15</td><td><details class=\"dni-treeview\"><summary><span class=\"dni-code-hint\"><code>{ SecurityId = Other \"crsp_64629\"\\n  Weight = 0.0006872164889 }</code></span></summary><div><table><thead><tr></tr></thead><tbody><tr><td>SecurityId</td><td><details class=\"dni-treeview\"><summary><span class=\"dni-code-hint\"><code>Other \"crsp_64629\"</code></span></summary><div><table><thead><tr></tr></thead><tbody><tr><td>Item</td><td>crsp_64629</td></tr></tbody></table></div></details></td></tr><tr><td>Weight</td><td><div class=\"dni-plaintext\"><pre>0.0006872164888649726</pre></div></td></tr></tbody></table></div></details></td></tr><tr><td>16</td><td><details class=\"dni-treeview\"><summary><span class=\"dni-code-hint\"><code>{ SecurityId = Other \"crsp_87269\"\\n  Weight = 3.107263118e-05 }</code></span></summary><div><table><thead><tr></tr></thead><tbody><tr><td>SecurityId</td><td><details class=\"dni-treeview\"><summary><span class=\"dni-code-hint\"><code>Other \"crsp_87269\"</code></span></summary><div><table><thead><tr></tr></thead><tbody><tr><td>Item</td><td>crsp_87269</td></tr></tbody></table></div></details></td></tr><tr><td>Weight</td><td><div class=\"dni-plaintext\"><pre>3.107263118004602E-05</pre></div></td></tr></tbody></table></div></details></td></tr><tr><td>17</td><td><details class=\"dni-treeview\"><summary><span class=\"dni-code-hint\"><code>{ SecurityId = Other \"crsp_21371\"\\n  Weight = 0.003782526902 }</code></span></summary><div><table><thead><tr></tr></thead><tbody><tr><td>SecurityId</td><td><details class=\"dni-treeview\"><summary><span class=\"dni-code-hint\"><code>Other \"crsp_21371\"</code></span></summary><div><table><thead><tr></tr></thead><tbody><tr><td>Item</td><td>crsp_21371</td></tr></tbody></table></div></details></td></tr><tr><td>Weight</td><td><div class=\"dni-plaintext\"><pre>0.003782526902206277</pre></div></td></tr></tbody></table></div></details></td></tr><tr><td>18</td><td><details class=\"dni-treeview\"><summary><span class=\"dni-code-hint\"><code>{ SecurityId = Other \"crsp_90893\"\\n  Weight = 0.0002691430126 }</code></span></summary><div><table><thead><tr></tr></thead><tbody><tr><td>SecurityId</td><td><details class=\"dni-treeview\"><summary><span class=\"dni-code-hint\"><code>Other \"crsp_90893\"</code></span></summary><div><table><thead><tr></tr></thead><tbody><tr><td>Item</td><td>crsp_90893</td></tr></tbody></table></div></details></td></tr><tr><td>Weight</td><td><div class=\"dni-plaintext\"><pre>0.0002691430126431344</pre></div></td></tr></tbody></table></div></details></td></tr><tr><td>19</td><td><details class=\"dni-treeview\"><summary><span class=\"dni-code-hint\"><code>{ SecurityId = Other \"crsp_33398\"\\n  Weight = 1.908847699e-05 }</code></span></summary><div><table><thead><tr></tr></thead><tbody><tr><td>SecurityId</td><td><details class=\"dni-treeview\"><summary><span class=\"dni-code-hint\"><code>Other \"crsp_33398\"</code></span></summary><div><table><thead><tr></tr></thead><tbody><tr><td>Item</td><td>crsp_33398</td></tr></tbody></table></div></details></td></tr><tr><td>Weight</td><td><div class=\"dni-plaintext\"><pre>1.9088476986687884E-05</pre></div></td></tr></tbody></table></div></details></td></tr><tr><td colspan=\"2\"><i>... (more)</i></td></tr></tbody></table></td></tr></tbody></table></div></details></td></tr><tr><td>2</td><td><details class=\"dni-treeview\"><summary><span class=\"dni-code-hint\"><code>{ Name = \"book-to-market\"\\n  Index = 3\\n  FormationMonth = 01/12/2008 00:00:00\\n  Positions =\\n   [{ SecurityId = Other \"crsp_87532\"\\n      Weight = 9.941642829e-05 }; { SecurityId = Other \"crsp_57446\"\\n                                    Weight = 0.0001921166256 };\\n    { SecurityId = Other \"crsp_9...</code></span></summary><div><table><thead><tr></tr></thead><tbody><tr><td>Name</td><td>book-to-market</td></tr><tr><td>Index</td><td><div class=\"dni-plaintext\"><pre>3</pre></div></td></tr><tr><td>FormationMonth</td><td><span>2008-12-01 00:00:00Z</span></td></tr><tr><td>Positions</td><td><table><thead><tr><th><i>index</i></th><th>value</th></tr></thead><tbody><tr><td>0</td><td><details class=\"dni-treeview\"><summary><span class=\"dni-code-hint\"><code>{ SecurityId = Other \"crsp_87532\"\\n  Weight = 9.941642829e-05 }</code></span></summary><div><table><thead><tr></tr></thead><tbody><tr><td>SecurityId</td><td><details class=\"dni-treeview\"><summary><span class=\"dni-code-hint\"><code>Other \"crsp_87532\"</code></span></summary><div><table><thead><tr></tr></thead><tbody><tr><td>Item</td><td>crsp_87532</td></tr></tbody></table></div></details></td></tr><tr><td>Weight</td><td><div class=\"dni-plaintext\"><pre>9.941642828541763E-05</pre></div></td></tr></tbody></table></div></details></td></tr><tr><td>1</td><td><details class=\"dni-treeview\"><summary><span class=\"dni-code-hint\"><code>{ SecurityId = Other \"crsp_57446\"\\n  Weight = 0.0001921166256 }</code></span></summary><div><table><thead><tr></tr></thead><tbody><tr><td>SecurityId</td><td><details class=\"dni-treeview\"><summary><span class=\"dni-code-hint\"><code>Other \"crsp_57446\"</code></span></summary><div><table><thead><tr></tr></thead><tbody><tr><td>Item</td><td>crsp_57446</td></tr></tbody></table></div></details></td></tr><tr><td>Weight</td><td><div class=\"dni-plaintext\"><pre>0.00019211662563807657</pre></div></td></tr></tbody></table></div></details></td></tr><tr><td>2</td><td><details class=\"dni-treeview\"><summary><span class=\"dni-code-hint\"><code>{ SecurityId = Other \"crsp_92635\"\\n  Weight = 0.0004255211316 }</code></span></summary><div><table><thead><tr></tr></thead><tbody><tr><td>SecurityId</td><td><details class=\"dni-treeview\"><summary><span class=\"dni-code-hint\"><code>Other \"crsp_92635\"</code></span></summary><div><table><thead><tr></tr></thead><tbody><tr><td>Item</td><td>crsp_92635</td></tr></tbody></table></div></details></td></tr><tr><td>Weight</td><td><div class=\"dni-plaintext\"><pre>0.0004255211315736442</pre></div></td></tr></tbody></table></div></details></td></tr><tr><td>3</td><td><details class=\"dni-treeview\"><summary><span class=\"dni-code-hint\"><code>{ SecurityId = Other \"crsp_70332\"\\n  Weight = 0.02127582798 }</code></span></summary><div><table><thead><tr></tr></thead><tbody><tr><td>SecurityId</td><td><details class=\"dni-treeview\"><summary><span class=\"dni-code-hint\"><code>Other \"crsp_70332\"</code></span></summary><div><table><thead><tr></tr></thead><tbody><tr><td>Item</td><td>crsp_70332</td></tr></tbody></table></div></details></td></tr><tr><td>Weight</td><td><div class=\"dni-plaintext\"><pre>0.02127582798124854</pre></div></td></tr></tbody></table></div></details></td></tr><tr><td>4</td><td><details class=\"dni-treeview\"><summary><span class=\"dni-code-hint\"><code>{ SecurityId = Other \"crsp_77971\"\\n  Weight = 0.0005657094569 }</code></span></summary><div><table><thead><tr></tr></thead><tbody><tr><td>SecurityId</td><td><details class=\"dni-treeview\"><summary><span class=\"dni-code-hint\"><code>Other \"crsp_77971\"</code></span></summary><div><table><thead><tr></tr></thead><tbody><tr><td>Item</td><td>crsp_77971</td></tr></tbody></table></div></details></td></tr><tr><td>Weight</td><td><div class=\"dni-plaintext\"><pre>0.0005657094569470524</pre></div></td></tr></tbody></table></div></details></td></tr><tr><td>5</td><td><details class=\"dni-treeview\"><summary><span class=\"dni-code-hint\"><code>{ SecurityId = Other \"crsp_91262\"\\n  Weight = 0.0004786003033 }</code></span></summary><div><table><thead><tr></tr></thead><tbody><tr><td>SecurityId</td><td><details class=\"dni-treeview\"><summary><span class=\"dni-code-hint\"><code>Other \"crsp_91262\"</code></span></summary><div><table><thead><tr></tr></thead><tbody><tr><td>Item</td><td>crsp_91262</td></tr></tbody></table></div></details></td></tr><tr><td>Weight</td><td><div class=\"dni-plaintext\"><pre>0.0004786003032580022</pre></div></td></tr></tbody></table></div></details></td></tr><tr><td>6</td><td><details class=\"dni-treeview\"><summary><span class=\"dni-code-hint\"><code>{ SecurityId = Other \"crsp_84108\"\\n  Weight = 8.162159475e-05 }</code></span></summary><div><table><thead><tr></tr></thead><tbody><tr><td>SecurityId</td><td><details class=\"dni-treeview\"><summary><span class=\"dni-code-hint\"><code>Other \"crsp_84108\"</code></span></summary><div><table><thead><tr></tr></thead><tbody><tr><td>Item</td><td>crsp_84108</td></tr></tbody></table></div></details></td></tr><tr><td>Weight</td><td><div class=\"dni-plaintext\"><pre>8.162159474574729E-05</pre></div></td></tr></tbody></table></div></details></td></tr><tr><td>7</td><td><details class=\"dni-treeview\"><summary><span class=\"dni-code-hint\"><code>{ SecurityId = Other \"crsp_90312\"\\n  Weight = 0.001285880114 }</code></span></summary><div><table><thead><tr></tr></thead><tbody><tr><td>SecurityId</td><td><details class=\"dni-treeview\"><summary><span class=\"dni-code-hint\"><code>Other \"crsp_90312\"</code></span></summary><div><table><thead><tr></tr></thead><tbody><tr><td>Item</td><td>crsp_90312</td></tr></tbody></table></div></details></td></tr><tr><td>Weight</td><td><div class=\"dni-plaintext\"><pre>0.0012858801138387068</pre></div></td></tr></tbody></table></div></details></td></tr><tr><td>8</td><td><details class=\"dni-treeview\"><summary><span class=\"dni-code-hint\"><code>{ SecurityId = Other \"crsp_88951\"\\n  Weight = 3.905370448e-05 }</code></span></summary><div><table><thead><tr></tr></thead><tbody><tr><td>SecurityId</td><td><details class=\"dni-treeview\"><summary><span class=\"dni-code-hint\"><code>Other \"crsp_88951\"</code></span></summary><div><table><thead><tr></tr></thead><tbody><tr><td>Item</td><td>crsp_88951</td></tr></tbody></table></div></details></td></tr><tr><td>Weight</td><td><div class=\"dni-plaintext\"><pre>3.90537044796377E-05</pre></div></td></tr></tbody></table></div></details></td></tr><tr><td>9</td><td><details class=\"dni-treeview\"><summary><span class=\"dni-code-hint\"><code>{ SecurityId = Other \"crsp_90657\"\\n  Weight = 0.0004974809456 }</code></span></summary><div><table><thead><tr></tr></thead><tbody><tr><td>SecurityId</td><td><details class=\"dni-treeview\"><summary><span class=\"dni-code-hint\"><code>Other \"crsp_90657\"</code></span></summary><div><table><thead><tr></tr></thead><tbody><tr><td>Item</td><td>crsp_90657</td></tr></tbody></table></div></details></td></tr><tr><td>Weight</td><td><div class=\"dni-plaintext\"><pre>0.0004974809456190221</pre></div></td></tr></tbody></table></div></details></td></tr><tr><td>10</td><td><details class=\"dni-treeview\"><summary><span class=\"dni-code-hint\"><code>{ SecurityId = Other \"crsp_44943\"\\n  Weight = 0.0003014839361 }</code></span></summary><div><table><thead><tr></tr></thead><tbody><tr><td>SecurityId</td><td><details class=\"dni-treeview\"><summary><span class=\"dni-code-hint\"><code>Other \"crsp_44943\"</code></span></summary><div><table><thead><tr></tr></thead><tbody><tr><td>Item</td><td>crsp_44943</td></tr></tbody></table></div></details></td></tr><tr><td>Weight</td><td><div class=\"dni-plaintext\"><pre>0.00030148393605028363</pre></div></td></tr></tbody></table></div></details></td></tr><tr><td>11</td><td><details class=\"dni-treeview\"><summary><span class=\"dni-code-hint\"><code>{ SecurityId = Other \"crsp_84226\"\\n  Weight = 0.0009626503438 }</code></span></summary><div><table><thead><tr></tr></thead><tbody><tr><td>SecurityId</td><td><details class=\"dni-treeview\"><summary><span class=\"dni-code-hint\"><code>Other \"crsp_84226\"</code></span></summary><div><table><thead><tr></tr></thead><tbody><tr><td>Item</td><td>crsp_84226</td></tr></tbody></table></div></details></td></tr><tr><td>Weight</td><td><div class=\"dni-plaintext\"><pre>0.0009626503437738086</pre></div></td></tr></tbody></table></div></details></td></tr><tr><td>12</td><td><details class=\"dni-treeview\"><summary><span class=\"dni-code-hint\"><code>{ SecurityId = Other \"crsp_90949\"\\n  Weight = 3.979360798e-05 }</code></span></summary><div><table><thead><tr></tr></thead><tbody><tr><td>SecurityId</td><td><details class=\"dni-treeview\"><summary><span class=\"dni-code-hint\"><code>Other \"crsp_90949\"</code></span></summary><div><table><thead><tr></tr></thead><tbody><tr><td>Item</td><td>crsp_90949</td></tr></tbody></table></div></details></td></tr><tr><td>Weight</td><td><div class=\"dni-plaintext\"><pre>3.979360797920382E-05</pre></div></td></tr></tbody></table></div></details></td></tr><tr><td>13</td><td><details class=\"dni-treeview\"><summary><span class=\"dni-code-hint\"><code>{ SecurityId = Other \"crsp_84636\"\\n  Weight = 0.000587540013 }</code></span></summary><div><table><thead><tr></tr></thead><tbody><tr><td>SecurityId</td><td><details class=\"dni-treeview\"><summary><span class=\"dni-code-hint\"><code>Other \"crsp_84636\"</code></span></summary><div><table><thead><tr></tr></thead><tbody><tr><td>Item</td><td>crsp_84636</td></tr></tbody></table></div></details></td></tr><tr><td>Weight</td><td><div class=\"dni-plaintext\"><pre>0.0005875400130294747</pre></div></td></tr></tbody></table></div></details></td></tr><tr><td>14</td><td><details class=\"dni-treeview\"><summary><span class=\"dni-code-hint\"><code>{ SecurityId = Other \"crsp_92087\"\\n  Weight = 5.746022271e-05 }</code></span></summary><div><table><thead><tr></tr></thead><tbody><tr><td>SecurityId</td><td><details class=\"dni-treeview\"><summary><span class=\"dni-code-hint\"><code>Other \"crsp_92087\"</code></span></summary><div><table><thead><tr></tr></thead><tbody><tr><td>Item</td><td>crsp_92087</td></tr></tbody></table></div></details></td></tr><tr><td>Weight</td><td><div class=\"dni-plaintext\"><pre>5.7460222711101496E-05</pre></div></td></tr></tbody></table></div></details></td></tr><tr><td>15</td><td><details class=\"dni-treeview\"><summary><span class=\"dni-code-hint\"><code>{ SecurityId = Other \"crsp_62084\"\\n  Weight = 5.108389178e-06 }</code></span></summary><div><table><thead><tr></tr></thead><tbody><tr><td>SecurityId</td><td><details class=\"dni-treeview\"><summary><span class=\"dni-code-hint\"><code>Other \"crsp_62084\"</code></span></summary><div><table><thead><tr></tr></thead><tbody><tr><td>Item</td><td>crsp_62084</td></tr></tbody></table></div></details></td></tr><tr><td>Weight</td><td><div class=\"dni-plaintext\"><pre>5.108389177963393E-06</pre></div></td></tr></tbody></table></div></details></td></tr><tr><td>16</td><td><details class=\"dni-treeview\"><summary><span class=\"dni-code-hint\"><code>{ SecurityId = Other \"crsp_86878\"\\n  Weight = 7.924051009e-05 }</code></span></summary><div><table><thead><tr></tr></thead><tbody><tr><td>SecurityId</td><td><details class=\"dni-treeview\"><summary><span class=\"dni-code-hint\"><code>Other \"crsp_86878\"</code></span></summary><div><table><thead><tr></tr></thead><tbody><tr><td>Item</td><td>crsp_86878</td></tr></tbody></table></div></details></td></tr><tr><td>Weight</td><td><div class=\"dni-plaintext\"><pre>7.924051008753141E-05</pre></div></td></tr></tbody></table></div></details></td></tr><tr><td>17</td><td><details class=\"dni-treeview\"><summary><span class=\"dni-code-hint\"><code>{ SecurityId = Other \"crsp_76644\"\\n  Weight = 0.005199644193 }</code></span></summary><div><table><thead><tr></tr></thead><tbody><tr><td>SecurityId</td><td><details class=\"dni-treeview\"><summary><span class=\"dni-code-hint\"><code>Other \"crsp_76644\"</code></span></summary><div><table><thead><tr></tr></thead><tbody><tr><td>Item</td><td>crsp_76644</td></tr></tbody></table></div></details></td></tr><tr><td>Weight</td><td><div class=\"dni-plaintext\"><pre>0.00519964419273907</pre></div></td></tr></tbody></table></div></details></td></tr><tr><td>18</td><td><details class=\"dni-treeview\"><summary><span class=\"dni-code-hint\"><code>{ SecurityId = Other \"crsp_77605\"\\n  Weight = 0.0139728434 }</code></span></summary><div><table><thead><tr></tr></thead><tbody><tr><td>SecurityId</td><td><details class=\"dni-treeview\"><summary><span class=\"dni-code-hint\"><code>Other \"crsp_77605\"</code></span></summary><div><table><thead><tr></tr></thead><tbody><tr><td>Item</td><td>crsp_77605</td></tr></tbody></table></div></details></td></tr><tr><td>Weight</td><td><div class=\"dni-plaintext\"><pre>0.013972843398356761</pre></div></td></tr></tbody></table></div></details></td></tr><tr><td>19</td><td><details class=\"dni-treeview\"><summary><span class=\"dni-code-hint\"><code>{ SecurityId = Other \"crsp_84725\"\\n  Weight = 3.863699879e-05 }</code></span></summary><div><table><thead><tr></tr></thead><tbody><tr><td>SecurityId</td><td><details class=\"dni-treeview\"><summary><span class=\"dni-code-hint\"><code>Other \"crsp_84725\"</code></span></summary><div><table><thead><tr></tr></thead><tbody><tr><td>Item</td><td>crsp_84725</td></tr></tbody></table></div></details></td></tr><tr><td>Weight</td><td><div class=\"dni-plaintext\"><pre>3.863699879206279E-05</pre></div></td></tr></tbody></table></div></details></td></tr><tr><td colspan=\"2\"><i>... (more)</i></td></tr></tbody></table></td></tr></tbody></table></div></details></td></tr><tr><td>3</td><td><details class=\"dni-treeview\"><summary><span class=\"dni-code-hint\"><code>{ Name = \"book-to-market\"\\n  Index = 1\\n  FormationMonth = 01/12/2010 00:00:00\\n  Positions =\\n   [{ SecurityId = Other \"crsp_84330\"\\n      Weight = 5.785008719e-05 }; { SecurityId = Other \"crsp_92046\"\\n                                    Weight = 1.530036407e-05 };\\n    { SecurityId = Other \"crsp_8...</code></span></summary><div><table><thead><tr></tr></thead><tbody><tr><td>Name</td><td>book-to-market</td></tr><tr><td>Index</td><td><div class=\"dni-plaintext\"><pre>1</pre></div></td></tr><tr><td>FormationMonth</td><td><span>2010-12-01 00:00:00Z</span></td></tr><tr><td>Positions</td><td><table><thead><tr><th><i>index</i></th><th>value</th></tr></thead><tbody><tr><td>0</td><td><details class=\"dni-treeview\"><summary><span class=\"dni-code-hint\"><code>{ SecurityId = Other \"crsp_84330\"\\n  Weight = 5.785008719e-05 }</code></span></summary><div><table><thead><tr></tr></thead><tbody><tr><td>SecurityId</td><td><details class=\"dni-treeview\"><summary><span class=\"dni-code-hint\"><code>Other \"crsp_84330\"</code></span></summary><div><table><thead><tr></tr></thead><tbody><tr><td>Item</td><td>crsp_84330</td></tr></tbody></table></div></details></td></tr><tr><td>Weight</td><td><div class=\"dni-plaintext\"><pre>5.7850087187617115E-05</pre></div></td></tr></tbody></table></div></details></td></tr><tr><td>1</td><td><details class=\"dni-treeview\"><summary><span class=\"dni-code-hint\"><code>{ SecurityId = Other \"crsp_92046\"\\n  Weight = 1.530036407e-05 }</code></span></summary><div><table><thead><tr></tr></thead><tbody><tr><td>SecurityId</td><td><details class=\"dni-treeview\"><summary><span class=\"dni-code-hint\"><code>Other \"crsp_92046\"</code></span></summary><div><table><thead><tr></tr></thead><tbody><tr><td>Item</td><td>crsp_92046</td></tr></tbody></table></div></details></td></tr><tr><td>Weight</td><td><div class=\"dni-plaintext\"><pre>1.530036406703944E-05</pre></div></td></tr></tbody></table></div></details></td></tr><tr><td>2</td><td><details class=\"dni-treeview\"><summary><span class=\"dni-code-hint\"><code>{ SecurityId = Other \"crsp_89148\"\\n  Weight = 4.998654014e-06 }</code></span></summary><div><table><thead><tr></tr></thead><tbody><tr><td>SecurityId</td><td><details class=\"dni-treeview\"><summary><span class=\"dni-code-hint\"><code>Other \"crsp_89148\"</code></span></summary><div><table><thead><tr></tr></thead><tbody><tr><td>Item</td><td>crsp_89148</td></tr></tbody></table></div></details></td></tr><tr><td>Weight</td><td><div class=\"dni-plaintext\"><pre>4.998654014365119E-06</pre></div></td></tr></tbody></table></div></details></td></tr><tr><td>3</td><td><details class=\"dni-treeview\"><summary><span class=\"dni-code-hint\"><code>{ SecurityId = Other \"crsp_75853\"\\n  Weight = 3.861942463e-05 }</code></span></summary><div><table><thead><tr></tr></thead><tbody><tr><td>SecurityId</td><td><details class=\"dni-treeview\"><summary><span class=\"dni-code-hint\"><code>Other \"crsp_75853\"</code></span></summary><div><table><thead><tr></tr></thead><tbody><tr><td>Item</td><td>crsp_75853</td></tr></tbody></table></div></details></td></tr><tr><td>Weight</td><td><div class=\"dni-plaintext\"><pre>3.8619424625636604E-05</pre></div></td></tr></tbody></table></div></details></td></tr><tr><td>4</td><td><details class=\"dni-treeview\"><summary><span class=\"dni-code-hint\"><code>{ SecurityId = Other \"crsp_17279\"\\n  Weight = 0.001652861691 }</code></span></summary><div><table><thead><tr></tr></thead><tbody><tr><td>SecurityId</td><td><details class=\"dni-treeview\"><summary><span class=\"dni-code-hint\"><code>Other \"crsp_17279\"</code></span></summary><div><table><thead><tr></tr></thead><tbody><tr><td>Item</td><td>crsp_17279</td></tr></tbody></table></div></details></td></tr><tr><td>Weight</td><td><div class=\"dni-plaintext\"><pre>0.0016528616906095505</pre></div></td></tr></tbody></table></div></details></td></tr><tr><td>5</td><td><details class=\"dni-treeview\"><summary><span class=\"dni-code-hint\"><code>{ SecurityId = Other \"crsp_90436\"\\n  Weight = 0.0001072470922 }</code></span></summary><div><table><thead><tr></tr></thead><tbody><tr><td>SecurityId</td><td><details class=\"dni-treeview\"><summary><span class=\"dni-code-hint\"><code>Other \"crsp_90436\"</code></span></summary><div><table><thead><tr></tr></thead><tbody><tr><td>Item</td><td>crsp_90436</td></tr></tbody></table></div></details></td></tr><tr><td>Weight</td><td><div class=\"dni-plaintext\"><pre>0.00010724709224990544</pre></div></td></tr></tbody></table></div></details></td></tr><tr><td>6</td><td><details class=\"dni-treeview\"><summary><span class=\"dni-code-hint\"><code>{ SecurityId = Other \"crsp_80858\"\\n  Weight = 4.314217849e-05 }</code></span></summary><div><table><thead><tr></tr></thead><tbody><tr><td>SecurityId</td><td><details class=\"dni-treeview\"><summary><span class=\"dni-code-hint\"><code>Other \"crsp_80858\"</code></span></summary><div><table><thead><tr></tr></thead><tbody><tr><td>Item</td><td>crsp_80858</td></tr></tbody></table></div></details></td></tr><tr><td>Weight</td><td><div class=\"dni-plaintext\"><pre>4.31421784945421E-05</pre></div></td></tr></tbody></table></div></details></td></tr><tr><td>7</td><td><details class=\"dni-treeview\"><summary><span class=\"dni-code-hint\"><code>{ SecurityId = Other \"crsp_85991\"\\n  Weight = 0.0002203998201 }</code></span></summary><div><table><thead><tr></tr></thead><tbody><tr><td>SecurityId</td><td><details class=\"dni-treeview\"><summary><span class=\"dni-code-hint\"><code>Other \"crsp_85991\"</code></span></summary><div><table><thead><tr></tr></thead><tbody><tr><td>Item</td><td>crsp_85991</td></tr></tbody></table></div></details></td></tr><tr><td>Weight</td><td><div class=\"dni-plaintext\"><pre>0.0002203998201444612</pre></div></td></tr></tbody></table></div></details></td></tr><tr><td>8</td><td><details class=\"dni-treeview\"><summary><span class=\"dni-code-hint\"><code>{ SecurityId = Other \"crsp_85401\"\\n  Weight = 9.23925331e-05 }</code></span></summary><div><table><thead><tr></tr></thead><tbody><tr><td>SecurityId</td><td><details class=\"dni-treeview\"><summary><span class=\"dni-code-hint\"><code>Other \"crsp_85401\"</code></span></summary><div><table><thead><tr></tr></thead><tbody><tr><td>Item</td><td>crsp_85401</td></tr></tbody></table></div></details></td></tr><tr><td>Weight</td><td><div class=\"dni-plaintext\"><pre>9.239253309650083E-05</pre></div></td></tr></tbody></table></div></details></td></tr><tr><td>9</td><td><details class=\"dni-treeview\"><summary><span class=\"dni-code-hint\"><code>{ SecurityId = Other \"crsp_90926\"\\n  Weight = 2.329719442e-05 }</code></span></summary><div><table><thead><tr></tr></thead><tbody><tr><td>SecurityId</td><td><details class=\"dni-treeview\"><summary><span class=\"dni-code-hint\"><code>Other \"crsp_90926\"</code></span></summary><div><table><thead><tr></tr></thead><tbody><tr><td>Item</td><td>crsp_90926</td></tr></tbody></table></div></details></td></tr><tr><td>Weight</td><td><div class=\"dni-plaintext\"><pre>2.329719442494234E-05</pre></div></td></tr></tbody></table></div></details></td></tr><tr><td>10</td><td><details class=\"dni-treeview\"><summary><span class=\"dni-code-hint\"><code>{ SecurityId = Other \"crsp_93089\"\\n  Weight = 0.0006564271068 }</code></span></summary><div><table><thead><tr></tr></thead><tbody><tr><td>SecurityId</td><td><details class=\"dni-treeview\"><summary><span class=\"dni-code-hint\"><code>Other \"crsp_93089\"</code></span></summary><div><table><thead><tr></tr></thead><tbody><tr><td>Item</td><td>crsp_93089</td></tr></tbody></table></div></details></td></tr><tr><td>Weight</td><td><div class=\"dni-plaintext\"><pre>0.0006564271067669881</pre></div></td></tr></tbody></table></div></details></td></tr><tr><td>11</td><td><details class=\"dni-treeview\"><summary><span class=\"dni-code-hint\"><code>{ SecurityId = Other \"crsp_12049\"\\n  Weight = 0.0002097737765 }</code></span></summary><div><table><thead><tr></tr></thead><tbody><tr><td>SecurityId</td><td><details class=\"dni-treeview\"><summary><span class=\"dni-code-hint\"><code>Other \"crsp_12049\"</code></span></summary><div><table><thead><tr></tr></thead><tbody><tr><td>Item</td><td>crsp_12049</td></tr></tbody></table></div></details></td></tr><tr><td>Weight</td><td><div class=\"dni-plaintext\"><pre>0.00020977377652935212</pre></div></td></tr></tbody></table></div></details></td></tr><tr><td>12</td><td><details class=\"dni-treeview\"><summary><span class=\"dni-code-hint\"><code>{ SecurityId = Other \"crsp_46578\"\\n  Weight = 0.001187975738 }</code></span></summary><div><table><thead><tr></tr></thead><tbody><tr><td>SecurityId</td><td><details class=\"dni-treeview\"><summary><span class=\"dni-code-hint\"><code>Other \"crsp_46578\"</code></span></summary><div><table><thead><tr></tr></thead><tbody><tr><td>Item</td><td>crsp_46578</td></tr></tbody></table></div></details></td></tr><tr><td>Weight</td><td><div class=\"dni-plaintext\"><pre>0.0011879757376366598</pre></div></td></tr></tbody></table></div></details></td></tr><tr><td>13</td><td><details class=\"dni-treeview\"><summary><span class=\"dni-code-hint\"><code>{ SecurityId = Other \"crsp_92457\"\\n  Weight = 0.0001020695428 }</code></span></summary><div><table><thead><tr></tr></thead><tbody><tr><td>SecurityId</td><td><details class=\"dni-treeview\"><summary><span class=\"dni-code-hint\"><code>Other \"crsp_92457\"</code></span></summary><div><table><thead><tr></tr></thead><tbody><tr><td>Item</td><td>crsp_92457</td></tr></tbody></table></div></details></td></tr><tr><td>Weight</td><td><div class=\"dni-plaintext\"><pre>0.00010206954281656795</pre></div></td></tr></tbody></table></div></details></td></tr><tr><td>14</td><td><details class=\"dni-treeview\"><summary><span class=\"dni-code-hint\"><code>{ SecurityId = Other \"crsp_92101\"\\n  Weight = 6.130784609e-06 }</code></span></summary><div><table><thead><tr></tr></thead><tbody><tr><td>SecurityId</td><td><details class=\"dni-treeview\"><summary><span class=\"dni-code-hint\"><code>Other \"crsp_92101\"</code></span></summary><div><table><thead><tr></tr></thead><tbody><tr><td>Item</td><td>crsp_92101</td></tr></tbody></table></div></details></td></tr><tr><td>Weight</td><td><div class=\"dni-plaintext\"><pre>6.130784608705514E-06</pre></div></td></tr></tbody></table></div></details></td></tr><tr><td>15</td><td><details class=\"dni-treeview\"><summary><span class=\"dni-code-hint\"><code>{ SecurityId = Other \"crsp_11999\"\\n  Weight = 0.0005528372399 }</code></span></summary><div><table><thead><tr></tr></thead><tbody><tr><td>SecurityId</td><td><details class=\"dni-treeview\"><summary><span class=\"dni-code-hint\"><code>Other \"crsp_11999\"</code></span></summary><div><table><thead><tr></tr></thead><tbody><tr><td>Item</td><td>crsp_11999</td></tr></tbody></table></div></details></td></tr><tr><td>Weight</td><td><div class=\"dni-plaintext\"><pre>0.0005528372398787136</pre></div></td></tr></tbody></table></div></details></td></tr><tr><td>16</td><td><details class=\"dni-treeview\"><summary><span class=\"dni-code-hint\"><code>{ SecurityId = Other \"crsp_78081\"\\n  Weight = 2.342848781e-05 }</code></span></summary><div><table><thead><tr></tr></thead><tbody><tr><td>SecurityId</td><td><details class=\"dni-treeview\"><summary><span class=\"dni-code-hint\"><code>Other \"crsp_78081\"</code></span></summary><div><table><thead><tr></tr></thead><tbody><tr><td>Item</td><td>crsp_78081</td></tr></tbody></table></div></details></td></tr><tr><td>Weight</td><td><div class=\"dni-plaintext\"><pre>2.3428487812345676E-05</pre></div></td></tr></tbody></table></div></details></td></tr><tr><td>17</td><td><details class=\"dni-treeview\"><summary><span class=\"dni-code-hint\"><code>{ SecurityId = Other \"crsp_92047\"\\n  Weight = 2.679696513e-06 }</code></span></summary><div><table><thead><tr></tr></thead><tbody><tr><td>SecurityId</td><td><details class=\"dni-treeview\"><summary><span class=\"dni-code-hint\"><code>Other \"crsp_92047\"</code></span></summary><div><table><thead><tr></tr></thead><tbody><tr><td>Item</td><td>crsp_92047</td></tr></tbody></table></div></details></td></tr><tr><td>Weight</td><td><div class=\"dni-plaintext\"><pre>2.6796965127334403E-06</pre></div></td></tr></tbody></table></div></details></td></tr><tr><td>18</td><td><details class=\"dni-treeview\"><summary><span class=\"dni-code-hint\"><code>{ SecurityId = Other \"crsp_84604\"\\n  Weight = 3.998791887e-05 }</code></span></summary><div><table><thead><tr></tr></thead><tbody><tr><td>SecurityId</td><td><details class=\"dni-treeview\"><summary><span class=\"dni-code-hint\"><code>Other \"crsp_84604\"</code></span></summary><div><table><thead><tr></tr></thead><tbody><tr><td>Item</td><td>crsp_84604</td></tr></tbody></table></div></details></td></tr><tr><td>Weight</td><td><div class=\"dni-plaintext\"><pre>3.99879188680438E-05</pre></div></td></tr></tbody></table></div></details></td></tr><tr><td>19</td><td><details class=\"dni-treeview\"><summary><span class=\"dni-code-hint\"><code>{ SecurityId = Other \"crsp_92763\"\\n  Weight = 1.015048834e-05 }</code></span></summary><div><table><thead><tr></tr></thead><tbody><tr><td>SecurityId</td><td><details class=\"dni-treeview\"><summary><span class=\"dni-code-hint\"><code>Other \"crsp_92763\"</code></span></summary><div><table><thead><tr></tr></thead><tbody><tr><td>Item</td><td>crsp_92763</td></tr></tbody></table></div></details></td></tr><tr><td>Weight</td><td><div class=\"dni-plaintext\"><pre>1.0150488342436722E-05</pre></div></td></tr></tbody></table></div></details></td></tr><tr><td colspan=\"2\"><i>... (more)</i></td></tr></tbody></table></td></tr></tbody></table></div></details></td></tr></tbody></table><style>\r\n",
       ".dni-code-hint {\r\n",
       "    font-style: italic;\r\n",
       "    overflow: hidden;\r\n",
       "    white-space: nowrap;\r\n",
       "}\r\n",
       ".dni-treeview {\r\n",
       "    white-space: nowrap;\r\n",
       "}\r\n",
       ".dni-treeview td {\r\n",
       "    vertical-align: top;\r\n",
       "    text-align: start;\r\n",
       "}\r\n",
       "details.dni-treeview {\r\n",
       "    padding-left: 1em;\r\n",
       "}\r\n",
       "table td {\r\n",
       "    text-align: start;\r\n",
       "}\r\n",
       "table tr { \r\n",
       "    vertical-align: top; \r\n",
       "    margin: 0em 0px;\r\n",
       "}\r\n",
       "table tr td pre \r\n",
       "{ \r\n",
       "    vertical-align: top !important; \r\n",
       "    margin: 0em 0px !important;\r\n",
       "} \r\n",
       "table th {\r\n",
       "    text-align: start;\r\n",
       "}\r\n",
       "</style>"
      ]
     },
     "metadata": {},
     "output_type": "display_data"
    }
   ],
   "source": [
    "let vw = backtest.strategyValueWeighted(myMktCaps)\n",
    "\n",
    "vw.Portfolios[..3]\n"
   ]
  },
  {
   "cell_type": "code",
   "execution_count": 18,
   "metadata": {
    "dotnet_interactive": {
     "language": "fsharp"
    },
    "polyglot_notebook": {
     "kernelName": "fsharp"
    }
   },
   "outputs": [
    {
     "data": {
      "text/html": [
       "<table><thead><tr><th><i>index</i></th><th>value</th></tr></thead><tbody><tr><td>0</td><td><details class=\"dni-treeview\"><summary><span class=\"dni-code-hint\"><code>{ Name = \"book-to-market\"\\n  Index = 1\\n  Month = 01/01/2009 00:00:00\\n  Return = -0.06155853096 }</code></span></summary><div><table><thead><tr></tr></thead><tbody><tr><td>Name</td><td>book-to-market</td></tr><tr><td>Index</td><td><div class=\"dni-plaintext\"><pre>1</pre></div></td></tr><tr><td>Month</td><td><span>2009-01-01 00:00:00Z</span></td></tr><tr><td>Return</td><td><div class=\"dni-plaintext\"><pre>-0.06155853095989918</pre></div></td></tr></tbody></table></div></details></td></tr><tr><td>1</td><td><details class=\"dni-treeview\"><summary><span class=\"dni-code-hint\"><code>{ Name = \"book-to-market\"\\n  Index = 2\\n  Month = 01/01/2009 00:00:00\\n  Return = -0.09467724311 }</code></span></summary><div><table><thead><tr></tr></thead><tbody><tr><td>Name</td><td>book-to-market</td></tr><tr><td>Index</td><td><div class=\"dni-plaintext\"><pre>2</pre></div></td></tr><tr><td>Month</td><td><span>2009-01-01 00:00:00Z</span></td></tr><tr><td>Return</td><td><div class=\"dni-plaintext\"><pre>-0.09467724311109113</pre></div></td></tr></tbody></table></div></details></td></tr><tr><td>2</td><td><details class=\"dni-treeview\"><summary><span class=\"dni-code-hint\"><code>{ Name = \"book-to-market\"\\n  Index = 3\\n  Month = 01/01/2009 00:00:00\\n  Return = -0.1636988519 }</code></span></summary><div><table><thead><tr></tr></thead><tbody><tr><td>Name</td><td>book-to-market</td></tr><tr><td>Index</td><td><div class=\"dni-plaintext\"><pre>3</pre></div></td></tr><tr><td>Month</td><td><span>2009-01-01 00:00:00Z</span></td></tr><tr><td>Return</td><td><div class=\"dni-plaintext\"><pre>-0.16369885187798322</pre></div></td></tr></tbody></table></div></details></td></tr><tr><td>3</td><td><details class=\"dni-treeview\"><summary><span class=\"dni-code-hint\"><code>{ Name = \"book-to-market\"\\n  Index = 1\\n  Month = 01/01/2011 00:00:00\\n  Return = 0.01197364509 }</code></span></summary><div><table><thead><tr></tr></thead><tbody><tr><td>Name</td><td>book-to-market</td></tr><tr><td>Index</td><td><div class=\"dni-plaintext\"><pre>1</pre></div></td></tr><tr><td>Month</td><td><span>2011-01-01 00:00:00Z</span></td></tr><tr><td>Return</td><td><div class=\"dni-plaintext\"><pre>0.011973645093246018</pre></div></td></tr></tbody></table></div></details></td></tr></tbody></table><style>\r\n",
       ".dni-code-hint {\r\n",
       "    font-style: italic;\r\n",
       "    overflow: hidden;\r\n",
       "    white-space: nowrap;\r\n",
       "}\r\n",
       ".dni-treeview {\r\n",
       "    white-space: nowrap;\r\n",
       "}\r\n",
       ".dni-treeview td {\r\n",
       "    vertical-align: top;\r\n",
       "    text-align: start;\r\n",
       "}\r\n",
       "details.dni-treeview {\r\n",
       "    padding-left: 1em;\r\n",
       "}\r\n",
       "table td {\r\n",
       "    text-align: start;\r\n",
       "}\r\n",
       "table tr { \r\n",
       "    vertical-align: top; \r\n",
       "    margin: 0em 0px;\r\n",
       "}\r\n",
       "table tr td pre \r\n",
       "{ \r\n",
       "    vertical-align: top !important; \r\n",
       "    margin: 0em 0px !important;\r\n",
       "} \r\n",
       "table th {\r\n",
       "    text-align: start;\r\n",
       "}\r\n",
       "</style>"
      ]
     },
     "metadata": {},
     "output_type": "display_data"
    }
   ],
   "source": [
    "vw.Returns[..3]\n"
   ]
  },
  {
   "attachments": {},
   "cell_type": "markdown",
   "metadata": {},
   "source": [
    "### Plot of value-weight returns\n",
    "\n"
   ]
  },
  {
   "cell_type": "code",
   "execution_count": 19,
   "metadata": {
    "dotnet_interactive": {
     "language": "fsharp"
    },
    "polyglot_notebook": {
     "kernelName": "fsharp"
    }
   },
   "outputs": [
    {
     "data": {
      "text/html": [
       "\n",
       "<div>\n",
       "    <div id=\"3c8b1570-debd-41ad-8d30-e29c036be96d\"><!-- Plotly chart will be drawn inside this DIV --></div>\r\n",
       "<script type=\"text/javascript\">\r\n",
       "\r\n",
       "            var renderPlotly_3c8b1570debd41ad8d30e29c036be96d = function() {\r\n",
       "            var fsharpPlotlyRequire = requirejs.config({context:'fsharp-plotly',paths:{plotly:'https://cdn.plot.ly/plotly-2.6.3.min'}}) || require;\r\n",
       "            fsharpPlotlyRequire(['plotly'], function(Plotly) {\r\n",
       "\r\n",
       "            var data = [{\"type\":\"scatter\",\"mode\":\"lines\",\"x\":[\"2000-02-01T00:00:00\",\"2000-03-01T00:00:00\",\"2000-04-01T00:00:00\",\"2000-05-01T00:00:00\",\"2000-06-01T00:00:00\",\"2000-07-01T00:00:00\",\"2000-08-01T00:00:00\",\"2000-09-01T00:00:00\",\"2000-10-01T00:00:00\",\"2000-11-01T00:00:00\",\"2000-12-01T00:00:00\",\"2001-01-01T00:00:00\",\"2001-02-01T00:00:00\",\"2001-03-01T00:00:00\",\"2001-04-01T00:00:00\",\"2001-05-01T00:00:00\",\"2001-06-01T00:00:00\",\"2001-07-01T00:00:00\",\"2001-08-01T00:00:00\",\"2001-09-01T00:00:00\",\"2001-10-01T00:00:00\",\"2001-11-01T00:00:00\",\"2001-12-01T00:00:00\",\"2002-01-01T00:00:00\",\"2002-02-01T00:00:00\",\"2002-03-01T00:00:00\",\"2002-04-01T00:00:00\",\"2002-05-01T00:00:00\",\"2002-06-01T00:00:00\",\"2002-07-01T00:00:00\",\"2002-08-01T00:00:00\",\"2002-09-01T00:00:00\",\"2002-10-01T00:00:00\",\"2002-11-01T00:00:00\",\"2002-12-01T00:00:00\",\"2003-01-01T00:00:00\",\"2003-02-01T00:00:00\",\"2003-03-01T00:00:00\",\"2003-04-01T00:00:00\",\"2003-05-01T00:00:00\",\"2003-06-01T00:00:00\",\"2003-07-01T00:00:00\",\"2003-08-01T00:00:00\",\"2003-09-01T00:00:00\",\"2003-10-01T00:00:00\",\"2003-11-01T00:00:00\",\"2003-12-01T00:00:00\",\"2004-01-01T00:00:00\",\"2004-02-01T00:00:00\",\"2004-03-01T00:00:00\",\"2004-04-01T00:00:00\",\"2004-05-01T00:00:00\",\"2004-06-01T00:00:00\",\"2004-07-01T00:00:00\",\"2004-08-01T00:00:00\",\"2004-09-01T00:00:00\",\"2004-10-01T00:00:00\",\"2004-11-01T00:00:00\",\"2004-12-01T00:00:00\",\"2005-01-01T00:00:00\",\"2005-02-01T00:00:00\",\"2005-03-01T00:00:00\",\"2005-04-01T00:00:00\",\"2005-05-01T00:00:00\",\"2005-06-01T00:00:00\",\"2005-07-01T00:00:00\",\"2005-08-01T00:00:00\",\"2005-09-01T00:00:00\",\"2005-10-01T00:00:00\",\"2005-11-01T00:00:00\",\"2005-12-01T00:00:00\",\"2006-01-01T00:00:00\",\"2006-02-01T00:00:00\",\"2006-03-01T00:00:00\",\"2006-04-01T00:00:00\",\"2006-05-01T00:00:00\",\"2006-06-01T00:00:00\",\"2006-07-01T00:00:00\",\"2006-08-01T00:00:00\",\"2006-09-01T00:00:00\",\"2006-10-01T00:00:00\",\"2006-11-01T00:00:00\",\"2006-12-01T00:00:00\",\"2007-01-01T00:00:00\",\"2007-02-01T00:00:00\",\"2007-03-01T00:00:00\",\"2007-04-01T00:00:00\",\"2007-05-01T00:00:00\",\"2007-06-01T00:00:00\",\"2007-07-01T00:00:00\",\"2007-08-01T00:00:00\",\"2007-09-01T00:00:00\",\"2007-10-01T00:00:00\",\"2007-11-01T00:00:00\",\"2007-12-01T00:00:00\",\"2008-01-01T00:00:00\",\"2008-02-01T00:00:00\",\"2008-03-01T00:00:00\",\"2008-04-01T00:00:00\",\"2008-05-01T00:00:00\",\"2008-06-01T00:00:00\",\"2008-07-01T00:00:00\",\"2008-08-01T00:00:00\",\"2008-09-01T00:00:00\",\"2008-10-01T00:00:00\",\"2008-11-01T00:00:00\",\"2008-12-01T00:00:00\",\"2009-01-01T00:00:00\",\"2009-02-01T00:00:00\",\"2009-03-01T00:00:00\",\"2009-04-01T00:00:00\",\"2009-05-01T00:00:00\",\"2009-06-01T00:00:00\",\"2009-07-01T00:00:00\",\"2009-08-01T00:00:00\",\"2009-09-01T00:00:00\",\"2009-10-01T00:00:00\",\"2009-11-01T00:00:00\",\"2009-12-01T00:00:00\",\"2010-01-01T00:00:00\",\"2010-02-01T00:00:00\",\"2010-03-01T00:00:00\",\"2010-04-01T00:00:00\",\"2010-05-01T00:00:00\",\"2010-06-01T00:00:00\",\"2010-07-01T00:00:00\",\"2010-08-01T00:00:00\",\"2010-09-01T00:00:00\",\"2010-10-01T00:00:00\",\"2010-11-01T00:00:00\",\"2010-12-01T00:00:00\",\"2011-01-01T00:00:00\",\"2011-02-01T00:00:00\",\"2011-03-01T00:00:00\",\"2011-04-01T00:00:00\",\"2011-05-01T00:00:00\",\"2011-06-01T00:00:00\",\"2011-07-01T00:00:00\",\"2011-08-01T00:00:00\",\"2011-09-01T00:00:00\",\"2011-10-01T00:00:00\",\"2011-11-01T00:00:00\",\"2011-12-01T00:00:00\",\"2012-01-01T00:00:00\",\"2012-02-01T00:00:00\",\"2012-03-01T00:00:00\",\"2012-04-01T00:00:00\",\"2012-05-01T00:00:00\",\"2012-06-01T00:00:00\",\"2012-07-01T00:00:00\",\"2012-08-01T00:00:00\",\"2012-09-01T00:00:00\",\"2012-10-01T00:00:00\",\"2012-11-01T00:00:00\",\"2012-12-01T00:00:00\",\"2013-01-01T00:00:00\",\"2013-02-01T00:00:00\",\"2013-03-01T00:00:00\",\"2013-04-01T00:00:00\",\"2013-05-01T00:00:00\",\"2013-06-01T00:00:00\",\"2013-07-01T00:00:00\",\"2013-08-01T00:00:00\",\"2013-09-01T00:00:00\",\"2013-10-01T00:00:00\",\"2013-11-01T00:00:00\",\"2013-12-01T00:00:00\",\"2014-01-01T00:00:00\",\"2014-02-01T00:00:00\",\"2014-03-01T00:00:00\",\"2014-04-01T00:00:00\",\"2014-05-01T00:00:00\",\"2014-06-01T00:00:00\",\"2014-07-01T00:00:00\",\"2014-08-01T00:00:00\",\"2014-09-01T00:00:00\",\"2014-10-01T00:00:00\",\"2014-11-01T00:00:00\",\"2014-12-01T00:00:00\",\"2015-01-01T00:00:00\",\"2015-02-01T00:00:00\",\"2015-03-01T00:00:00\",\"2015-04-01T00:00:00\",\"2015-05-01T00:00:00\",\"2015-06-01T00:00:00\",\"2015-07-01T00:00:00\",\"2015-08-01T00:00:00\",\"2015-09-01T00:00:00\",\"2015-10-01T00:00:00\",\"2015-11-01T00:00:00\",\"2015-12-01T00:00:00\",\"2016-01-01T00:00:00\",\"2016-02-01T00:00:00\",\"2016-03-01T00:00:00\",\"2016-04-01T00:00:00\",\"2016-05-01T00:00:00\",\"2016-06-01T00:00:00\",\"2016-07-01T00:00:00\",\"2016-08-01T00:00:00\",\"2016-09-01T00:00:00\",\"2016-10-01T00:00:00\",\"2016-11-01T00:00:00\",\"2016-12-01T00:00:00\",\"2017-01-01T00:00:00\",\"2017-02-01T00:00:00\",\"2017-03-01T00:00:00\",\"2017-04-01T00:00:00\",\"2017-05-01T00:00:00\",\"2017-06-01T00:00:00\",\"2017-07-01T00:00:00\",\"2017-08-01T00:00:00\",\"2017-09-01T00:00:00\",\"2017-10-01T00:00:00\",\"2017-11-01T00:00:00\",\"2017-12-01T00:00:00\",\"2018-01-01T00:00:00\",\"2018-02-01T00:00:00\",\"2018-03-01T00:00:00\",\"2018-04-01T00:00:00\",\"2018-05-01T00:00:00\",\"2018-06-01T00:00:00\",\"2018-07-01T00:00:00\",\"2018-08-01T00:00:00\",\"2018-09-01T00:00:00\",\"2018-10-01T00:00:00\",\"2018-11-01T00:00:00\",\"2018-12-01T00:00:00\",\"2019-01-01T00:00:00\",\"2019-02-01T00:00:00\",\"2019-03-01T00:00:00\",\"2019-04-01T00:00:00\",\"2019-05-01T00:00:00\",\"2019-06-01T00:00:00\",\"2019-07-01T00:00:00\",\"2019-08-01T00:00:00\",\"2019-09-01T00:00:00\",\"2019-10-01T00:00:00\",\"2019-11-01T00:00:00\",\"2019-12-01T00:00:00\",\"2020-01-01T00:00:00\",\"2020-02-01T00:00:00\",\"2020-03-01T00:00:00\",\"2020-04-01T00:00:00\",\"2020-05-01T00:00:00\",\"2020-06-01T00:00:00\",\"2020-07-01T00:00:00\",\"2020-08-01T00:00:00\",\"2020-09-01T00:00:00\",\"2020-10-01T00:00:00\",\"2020-11-01T00:00:00\",\"2020-12-01T00:00:00\",\"2021-01-01T00:00:00\"],\"y\":[0.059839738408460574,0.10293311720095466,0.02493890133453247,-0.028905885216989113,0.04452047826526684,0.01356186841102236,0.09219473764744479,0.021366677733529738,-0.00555483538911361,-0.11755904978808607,-0.11073930213675875,-0.0896183403121057,-0.19418427247176384,-0.2582159373376145,-0.19210273068738004,-0.18485917446977074,-0.2014422010995497,-0.21710899483770907,-0.2660759124081895,-0.32779047592182453,-0.307002007257576,-0.2522718513652309,-0.24257674746281865,-0.2516173046663479,-0.2712023995679518,-0.2443126752942022,-0.2909596130380673,-0.2997477278114403,-0.3475881641929752,-0.3925299384862335,-0.3904407753398096,-0.4514958356257166,-0.4085273757583997,-0.37888941636369244,-0.41488253969524247,-0.4298576511537441,-0.4368792874973001,-0.4291432279190165,-0.38628524559697586,-0.3580492067465675,-0.34938062866491004,-0.3338453242472669,-0.31885475932784535,-0.3244018951619789,-0.28798474472228186,-0.27833469717469617,-0.2542543588148748,-0.23877124498575997,-0.23292236944709732,-0.2482948378684675,-0.26026406423334825,-0.24875483514735353,-0.23531549485531078,-0.2753886932879075,-0.27738251051787355,-0.2666363272396871,-0.25344679572914064,-0.223636517861022,-0.19503112210941587,-0.218315282281777,-0.20834797538705918,-0.22197375411335019,-0.24061378276590595,-0.20881172677554927,-0.20937824388601534,-0.1691894499439347,-0.17815719761224635,-0.17466010475126315,-0.19176148673009918,-0.1578720246564761,-0.15900082406987737,-0.12826425334329572,-0.13683415073520477,-0.11946979113347467,-0.11756639130254865,-0.15061752246263027,-0.15461876539485087,-0.17134533207803548,-0.15004455964404773,-0.13358300549926294,-0.10104647431598446,-0.07923640472648574,-0.07924622501354206,-0.05934894607577157,-0.07597872872919587,-0.06402253611739517,-0.02234378115075053,0.016214690945623778,0.006783121034721784,-0.005970899154719489,0.009483613076216146,0.06295729987694809,0.10529434955363337,0.06071016809900809,0.06377429976820714,-0.026147092801219407,-0.036549250402625244,-0.03907687344808841,0.006109632259373665,0.03838061341322163,-0.019535008689914757,-0.04629474577304549,-0.0369403325622808,-0.13762822444647937,-0.28007148391731873,-0.32765304913774507,-0.3158554770338913,-0.357970408831946,-0.4133612782468993,-0.3675147144669547,-0.32216371231214247,-0.29067189193104304,-0.28413217410166625,-0.23241497406976175,-0.21798145631608845,-0.18521226382715406,-0.19684907443166155,-0.14570512718816464,-0.12500621788173383,-0.16540300192119095,-0.1372513927528496,-0.08828984279341223,-0.07513676689203252,-0.14719467810770837,-0.19039075675628547,-0.13719439458857396,-0.17239729720562758,-0.09006323355532808,-0.04709481418499495,-0.04199359803355385,0.008575238111924621,0.02065156006291291,0.056532167462921334,0.06481615044037503,0.09942533319745017,0.09031666458828558,0.07650152014995393,0.06322449426578913,0.012969117295549282,-0.06221636912230677,0.03225111670644876,0.03084661543968359,0.024897673144495203,0.077616425585874,0.12614710564280052,0.16319143788535695,0.15753487407433941,0.08783025023642943,0.1208905644749454,0.1325348595328084,0.16198368212641912,0.18563417188094933,0.1539281367603098,0.17075026497856016,0.16962972179123081,0.2283362343264228,0.24046306576482013,0.287192539958377,0.30638953996868645,0.3349062693907203,0.3107585645728794,0.380871053219481,0.3516281427852228,0.41158552313898467,0.4677400174244899,0.5126932892052014,0.5520425140141574,0.5065423994893554,0.5861569819485517,0.5654930318574904,0.55794222015105,0.5946033101280068,0.6367332036924913,0.5995431935222728,0.6733573864555387,0.6499024297436014,0.693404340700505,0.7518348075016454,0.7370540489423658,0.7088128919978058,0.814580136265453,0.8005273571906377,0.7994706809923202,0.8347715776772882,0.8094745633652887,0.8611236204940109,0.7423235838755033,0.693522132403952,0.819687398351461,0.8318226467082197,0.8059601259517657,0.6962139292357556,0.6929038448892704,0.8055960834844667,0.7980883342690672,0.8309887657117951,0.8293400538695126,0.9087647018276901,0.9045121564288781,0.9152015443380523,0.8624859118362465,0.9124293052094277,0.9289863370843736,0.9835506273898587,1.0641072097313655,1.090607041400229,1.1273782244373955,1.1780742077014703,1.1853705149989526,1.234114207702043,1.269385381497461,1.3043013662376022,1.385169660282466,1.4524702187056824,1.4692305930944207,1.6371398674850046,1.5676443577914796,1.5024461845887322,1.5125869970351848,1.614839227591875,1.6329387360712633,1.708974484423,1.8543189474919504,1.8713303079038655,1.6213429623309565,1.659275258466765,1.4345622131279674,1.6371166819105416,1.7434610465604687,1.8131929363062107,1.9277113464194082,1.7538007495336152,1.9563159228897615,2.000220221342642,1.9652698463494533,1.9638715984757744,2.0371594778990403,2.17096941238699,2.2630934933889946,2.3166831456039274,2.07877828057586,1.7832005448659665,2.1669397108318575,2.3773815810607064,2.516267764806075,2.7641645352492823,3.1072410888341064,2.9579987847910787,2.835427762569039,3.2617281761746684,3.4651858452206152,3.4651858452206152],\"marker\":{},\"line\":{},\"name\":\"book-to-market: 1\"}];\r\n",
       "            var layout = {\"width\":600,\"height\":600,\"template\":{\"layout\":{\"title\":{\"x\":0.05},\"font\":{\"color\":\"rgba(42, 63, 95, 1.0)\"},\"paper_bgcolor\":\"rgba(255, 255, 255, 1.0)\",\"plot_bgcolor\":\"rgba(229, 236, 246, 1.0)\",\"autotypenumbers\":\"strict\",\"colorscale\":{\"diverging\":[[0.0,\"#8e0152\"],[0.1,\"#c51b7d\"],[0.2,\"#de77ae\"],[0.3,\"#f1b6da\"],[0.4,\"#fde0ef\"],[0.5,\"#f7f7f7\"],[0.6,\"#e6f5d0\"],[0.7,\"#b8e186\"],[0.8,\"#7fbc41\"],[0.9,\"#4d9221\"],[1.0,\"#276419\"]],\"sequential\":[[0.0,\"#0d0887\"],[0.1111111111111111,\"#46039f\"],[0.2222222222222222,\"#7201a8\"],[0.3333333333333333,\"#9c179e\"],[0.4444444444444444,\"#bd3786\"],[0.5555555555555556,\"#d8576b\"],[0.6666666666666666,\"#ed7953\"],[0.7777777777777778,\"#fb9f3a\"],[0.8888888888888888,\"#fdca26\"],[1.0,\"#f0f921\"]],\"sequentialminus\":[[0.0,\"#0d0887\"],[0.1111111111111111,\"#46039f\"],[0.2222222222222222,\"#7201a8\"],[0.3333333333333333,\"#9c179e\"],[0.4444444444444444,\"#bd3786\"],[0.5555555555555556,\"#d8576b\"],[0.6666666666666666,\"#ed7953\"],[0.7777777777777778,\"#fb9f3a\"],[0.8888888888888888,\"#fdca26\"],[1.0,\"#f0f921\"]]},\"hovermode\":\"closest\",\"hoverlabel\":{\"align\":\"left\"},\"coloraxis\":{\"colorbar\":{\"outlinewidth\":0.0,\"ticks\":\"\"}},\"geo\":{\"showland\":true,\"landcolor\":\"rgba(229, 236, 246, 1.0)\",\"showlakes\":true,\"lakecolor\":\"rgba(255, 255, 255, 1.0)\",\"subunitcolor\":\"rgba(255, 255, 255, 1.0)\",\"bgcolor\":\"rgba(255, 255, 255, 1.0)\"},\"mapbox\":{\"style\":\"light\"},\"polar\":{\"bgcolor\":\"rgba(229, 236, 246, 1.0)\",\"radialaxis\":{\"linecolor\":\"rgba(255, 255, 255, 1.0)\",\"gridcolor\":\"rgba(255, 255, 255, 1.0)\",\"ticks\":\"\"},\"angularaxis\":{\"linecolor\":\"rgba(255, 255, 255, 1.0)\",\"gridcolor\":\"rgba(255, 255, 255, 1.0)\",\"ticks\":\"\"}},\"scene\":{\"xaxis\":{\"ticks\":\"\",\"linecolor\":\"rgba(255, 255, 255, 1.0)\",\"gridcolor\":\"rgba(255, 255, 255, 1.0)\",\"gridwidth\":2.0,\"zerolinecolor\":\"rgba(255, 255, 255, 1.0)\",\"backgroundcolor\":\"rgba(229, 236, 246, 1.0)\",\"showbackground\":true},\"yaxis\":{\"ticks\":\"\",\"linecolor\":\"rgba(255, 255, 255, 1.0)\",\"gridcolor\":\"rgba(255, 255, 255, 1.0)\",\"gridwidth\":2.0,\"zerolinecolor\":\"rgba(255, 255, 255, 1.0)\",\"backgroundcolor\":\"rgba(229, 236, 246, 1.0)\",\"showbackground\":true},\"zaxis\":{\"ticks\":\"\",\"linecolor\":\"rgba(255, 255, 255, 1.0)\",\"gridcolor\":\"rgba(255, 255, 255, 1.0)\",\"gridwidth\":2.0,\"zerolinecolor\":\"rgba(255, 255, 255, 1.0)\",\"backgroundcolor\":\"rgba(229, 236, 246, 1.0)\",\"showbackground\":true}},\"ternary\":{\"aaxis\":{\"ticks\":\"\",\"linecolor\":\"rgba(255, 255, 255, 1.0)\",\"gridcolor\":\"rgba(255, 255, 255, 1.0)\"},\"baxis\":{\"ticks\":\"\",\"linecolor\":\"rgba(255, 255, 255, 1.0)\",\"gridcolor\":\"rgba(255, 255, 255, 1.0)\"},\"caxis\":{\"ticks\":\"\",\"linecolor\":\"rgba(255, 255, 255, 1.0)\",\"gridcolor\":\"rgba(255, 255, 255, 1.0)\"},\"bgcolor\":\"rgba(229, 236, 246, 1.0)\"},\"xaxis\":{\"title\":{\"standoff\":15},\"ticks\":\"\",\"automargin\":true,\"linecolor\":\"rgba(255, 255, 255, 1.0)\",\"gridcolor\":\"rgba(255, 255, 255, 1.0)\",\"zerolinecolor\":\"rgba(255, 255, 255, 1.0)\",\"zerolinewidth\":2.0},\"yaxis\":{\"title\":{\"standoff\":15},\"ticks\":\"\",\"automargin\":true,\"linecolor\":\"rgba(255, 255, 255, 1.0)\",\"gridcolor\":\"rgba(255, 255, 255, 1.0)\",\"zerolinecolor\":\"rgba(255, 255, 255, 1.0)\",\"zerolinewidth\":2.0},\"annotationdefaults\":{\"arrowcolor\":\"#2a3f5f\",\"arrowhead\":0,\"arrowwidth\":1},\"shapedefaults\":{\"line\":{\"color\":\"rgba(42, 63, 95, 1.0)\"}},\"colorway\":[\"rgba(99, 110, 250, 1.0)\",\"rgba(239, 85, 59, 1.0)\",\"rgba(0, 204, 150, 1.0)\",\"rgba(171, 99, 250, 1.0)\",\"rgba(255, 161, 90, 1.0)\",\"rgba(25, 211, 243, 1.0)\",\"rgba(255, 102, 146, 1.0)\",\"rgba(182, 232, 128, 1.0)\",\"rgba(255, 151, 255, 1.0)\",\"rgba(254, 203, 82, 1.0)\"]},\"data\":{\"bar\":[{\"marker\":{\"line\":{\"color\":\"rgba(229, 236, 246, 1.0)\",\"width\":0.5},\"pattern\":{\"fillmode\":\"overlay\",\"size\":10,\"solidity\":0.2}},\"error_x\":{\"color\":\"rgba(42, 63, 95, 1.0)\"},\"error_y\":{\"color\":\"rgba(42, 63, 95, 1.0)\"}}],\"barpolar\":[{\"marker\":{\"line\":{\"color\":\"rgba(229, 236, 246, 1.0)\",\"width\":0.5},\"pattern\":{\"fillmode\":\"overlay\",\"size\":10,\"solidity\":0.2}}}],\"carpet\":[{\"aaxis\":{\"linecolor\":\"rgba(255, 255, 255, 1.0)\",\"gridcolor\":\"rgba(255, 255, 255, 1.0)\",\"endlinecolor\":\"rgba(42, 63, 95, 1.0)\",\"minorgridcolor\":\"rgba(255, 255, 255, 1.0)\",\"startlinecolor\":\"rgba(42, 63, 95, 1.0)\"},\"baxis\":{\"linecolor\":\"rgba(255, 255, 255, 1.0)\",\"gridcolor\":\"rgba(255, 255, 255, 1.0)\",\"endlinecolor\":\"rgba(42, 63, 95, 1.0)\",\"minorgridcolor\":\"rgba(255, 255, 255, 1.0)\",\"startlinecolor\":\"rgba(42, 63, 95, 1.0)\"}}],\"choropleth\":[{\"colorbar\":{\"outlinewidth\":0.0,\"ticks\":\"\"},\"colorscale\":[[0.0,\"#0d0887\"],[0.1111111111111111,\"#46039f\"],[0.2222222222222222,\"#7201a8\"],[0.3333333333333333,\"#9c179e\"],[0.4444444444444444,\"#bd3786\"],[0.5555555555555556,\"#d8576b\"],[0.6666666666666666,\"#ed7953\"],[0.7777777777777778,\"#fb9f3a\"],[0.8888888888888888,\"#fdca26\"],[1.0,\"#f0f921\"]]}],\"contour\":[{\"colorbar\":{\"outlinewidth\":0.0,\"ticks\":\"\"},\"colorscale\":[[0.0,\"#0d0887\"],[0.1111111111111111,\"#46039f\"],[0.2222222222222222,\"#7201a8\"],[0.3333333333333333,\"#9c179e\"],[0.4444444444444444,\"#bd3786\"],[0.5555555555555556,\"#d8576b\"],[0.6666666666666666,\"#ed7953\"],[0.7777777777777778,\"#fb9f3a\"],[0.8888888888888888,\"#fdca26\"],[1.0,\"#f0f921\"]]}],\"contourcarpet\":[{\"colorbar\":{\"outlinewidth\":0.0,\"ticks\":\"\"}}],\"heatmap\":[{\"colorbar\":{\"outlinewidth\":0.0,\"ticks\":\"\"},\"colorscale\":[[0.0,\"#0d0887\"],[0.1111111111111111,\"#46039f\"],[0.2222222222222222,\"#7201a8\"],[0.3333333333333333,\"#9c179e\"],[0.4444444444444444,\"#bd3786\"],[0.5555555555555556,\"#d8576b\"],[0.6666666666666666,\"#ed7953\"],[0.7777777777777778,\"#fb9f3a\"],[0.8888888888888888,\"#fdca26\"],[1.0,\"#f0f921\"]]}],\"heatmapgl\":[{\"colorbar\":{\"outlinewidth\":0.0,\"ticks\":\"\"},\"colorscale\":[[0.0,\"#0d0887\"],[0.1111111111111111,\"#46039f\"],[0.2222222222222222,\"#7201a8\"],[0.3333333333333333,\"#9c179e\"],[0.4444444444444444,\"#bd3786\"],[0.5555555555555556,\"#d8576b\"],[0.6666666666666666,\"#ed7953\"],[0.7777777777777778,\"#fb9f3a\"],[0.8888888888888888,\"#fdca26\"],[1.0,\"#f0f921\"]]}],\"histogram\":[{\"marker\":{\"pattern\":{\"fillmode\":\"overlay\",\"size\":10,\"solidity\":0.2}}}],\"histogram2d\":[{\"colorbar\":{\"outlinewidth\":0.0,\"ticks\":\"\"},\"colorscale\":[[0.0,\"#0d0887\"],[0.1111111111111111,\"#46039f\"],[0.2222222222222222,\"#7201a8\"],[0.3333333333333333,\"#9c179e\"],[0.4444444444444444,\"#bd3786\"],[0.5555555555555556,\"#d8576b\"],[0.6666666666666666,\"#ed7953\"],[0.7777777777777778,\"#fb9f3a\"],[0.8888888888888888,\"#fdca26\"],[1.0,\"#f0f921\"]]}],\"histogram2dcontour\":[{\"colorbar\":{\"outlinewidth\":0.0,\"ticks\":\"\"},\"colorscale\":[[0.0,\"#0d0887\"],[0.1111111111111111,\"#46039f\"],[0.2222222222222222,\"#7201a8\"],[0.3333333333333333,\"#9c179e\"],[0.4444444444444444,\"#bd3786\"],[0.5555555555555556,\"#d8576b\"],[0.6666666666666666,\"#ed7953\"],[0.7777777777777778,\"#fb9f3a\"],[0.8888888888888888,\"#fdca26\"],[1.0,\"#f0f921\"]]}],\"mesh3d\":[{\"colorbar\":{\"outlinewidth\":0.0,\"ticks\":\"\"}}],\"parcoords\":[{\"line\":{\"colorbar\":{\"outlinewidth\":0.0,\"ticks\":\"\"}}}],\"pie\":[{\"automargin\":true}],\"scatter\":[{\"marker\":{\"colorbar\":{\"outlinewidth\":0.0,\"ticks\":\"\"}}}],\"scatter3d\":[{\"marker\":{\"colorbar\":{\"outlinewidth\":0.0,\"ticks\":\"\"}},\"line\":{\"colorbar\":{\"outlinewidth\":0.0,\"ticks\":\"\"}}}],\"scattercarpet\":[{\"marker\":{\"colorbar\":{\"outlinewidth\":0.0,\"ticks\":\"\"}}}],\"scattergeo\":[{\"marker\":{\"colorbar\":{\"outlinewidth\":0.0,\"ticks\":\"\"}}}],\"scattergl\":[{\"marker\":{\"colorbar\":{\"outlinewidth\":0.0,\"ticks\":\"\"}}}],\"scattermapbox\":[{\"marker\":{\"colorbar\":{\"outlinewidth\":0.0,\"ticks\":\"\"}}}],\"scatterpolar\":[{\"marker\":{\"colorbar\":{\"outlinewidth\":0.0,\"ticks\":\"\"}}}],\"scatterpolargl\":[{\"marker\":{\"colorbar\":{\"outlinewidth\":0.0,\"ticks\":\"\"}}}],\"scatterternary\":[{\"marker\":{\"colorbar\":{\"outlinewidth\":0.0,\"ticks\":\"\"}}}],\"surface\":[{\"colorbar\":{\"outlinewidth\":0.0,\"ticks\":\"\"},\"colorscale\":[[0.0,\"#0d0887\"],[0.1111111111111111,\"#46039f\"],[0.2222222222222222,\"#7201a8\"],[0.3333333333333333,\"#9c179e\"],[0.4444444444444444,\"#bd3786\"],[0.5555555555555556,\"#d8576b\"],[0.6666666666666666,\"#ed7953\"],[0.7777777777777778,\"#fb9f3a\"],[0.8888888888888888,\"#fdca26\"],[1.0,\"#f0f921\"]]}],\"table\":[{\"cells\":{\"fill\":{\"color\":\"rgba(235, 240, 248, 1.0)\"},\"line\":{\"color\":\"rgba(255, 255, 255, 1.0)\"}},\"header\":{\"fill\":{\"color\":\"rgba(200, 212, 227, 1.0)\"},\"line\":{\"color\":\"rgba(255, 255, 255, 1.0)\"}}}]}}};\r\n",
       "            var config = {\"responsive\":true};\r\n",
       "            Plotly.newPlot('3c8b1570-debd-41ad-8d30-e29c036be96d', data, layout, config);\r\n",
       "});\r\n",
       "            };\r\n",
       "            if ((typeof(requirejs) !==  typeof(Function)) || (typeof(requirejs.config) !== typeof(Function))) {\r\n",
       "                var script = document.createElement(\"script\");\r\n",
       "                script.setAttribute(\"src\", \"https://cdnjs.cloudflare.com/ajax/libs/require.js/2.3.6/require.min.js\");\r\n",
       "                script.onload = function(){\r\n",
       "                    renderPlotly_3c8b1570debd41ad8d30e29c036be96d();\r\n",
       "                };\r\n",
       "                document.getElementsByTagName(\"head\")[0].appendChild(script);\r\n",
       "            }\r\n",
       "            else {\r\n",
       "                renderPlotly_3c8b1570debd41ad8d30e29c036be96d();\r\n",
       "            }\r\n",
       "</script>\r\n",
       "\n",
       "    \n",
       "</div>    \n"
      ]
     },
     "metadata": {},
     "output_type": "display_data"
    }
   ],
   "source": [
    "let cumulativeReturn xs =\n",
    "    let sorted = xs |> List.sortBy (fun (dt, r) -> dt)\n",
    "    let mutable cr = 1.0\n",
    "    [ for (dt, r) in sorted do \n",
    "        cr <- cr * (1.0 + r)\n",
    "        (dt, cr - 1.0) ]\n",
    "let makeCumulativeChart (returns:List<PortfolioReturn>) =\n",
    "    let firstObs = returns[0]\n",
    "    returns\n",
    "    |> List.map (fun x -> x.Month, x.Return)\n",
    "    |> cumulativeReturn\n",
    "    |> Chart.Line\n",
    "    |> Chart.withTraceInfo(Name = $\"{firstObs.Name}: {firstObs.Index}\")\n",
    "\n",
    "vw.Returns\n",
    "|> List.filter (fun x -> x.Index = 1)\n",
    "|> makeCumulativeChart\n"
   ]
  },
  {
   "attachments": {},
   "cell_type": "markdown",
   "metadata": {},
   "source": [
    "All the ports.\n",
    "\n"
   ]
  },
  {
   "cell_type": "code",
   "execution_count": 20,
   "metadata": {
    "dotnet_interactive": {
     "language": "fsharp"
    },
    "polyglot_notebook": {
     "kernelName": "fsharp"
    }
   },
   "outputs": [
    {
     "data": {
      "text/html": [
       "\n",
       "<div>\n",
       "    <div id=\"6ac2ab74-c2f9-4a74-acb8-e735af945df4\"><!-- Plotly chart will be drawn inside this DIV --></div>\r\n",
       "<script type=\"text/javascript\">\r\n",
       "\r\n",
       "            var renderPlotly_6ac2ab74c2f94a74acb8e735af945df4 = function() {\r\n",
       "            var fsharpPlotlyRequire = requirejs.config({context:'fsharp-plotly',paths:{plotly:'https://cdn.plot.ly/plotly-2.6.3.min'}}) || require;\r\n",
       "            fsharpPlotlyRequire(['plotly'], function(Plotly) {\r\n",
       "\r\n",
       "            var data = [{\"type\":\"scatter\",\"mode\":\"lines\",\"x\":[\"2000-02-01T00:00:00\",\"2000-03-01T00:00:00\",\"2000-04-01T00:00:00\",\"2000-05-01T00:00:00\",\"2000-06-01T00:00:00\",\"2000-07-01T00:00:00\",\"2000-08-01T00:00:00\",\"2000-09-01T00:00:00\",\"2000-10-01T00:00:00\",\"2000-11-01T00:00:00\",\"2000-12-01T00:00:00\",\"2001-01-01T00:00:00\",\"2001-02-01T00:00:00\",\"2001-03-01T00:00:00\",\"2001-04-01T00:00:00\",\"2001-05-01T00:00:00\",\"2001-06-01T00:00:00\",\"2001-07-01T00:00:00\",\"2001-08-01T00:00:00\",\"2001-09-01T00:00:00\",\"2001-10-01T00:00:00\",\"2001-11-01T00:00:00\",\"2001-12-01T00:00:00\",\"2002-01-01T00:00:00\",\"2002-02-01T00:00:00\",\"2002-03-01T00:00:00\",\"2002-04-01T00:00:00\",\"2002-05-01T00:00:00\",\"2002-06-01T00:00:00\",\"2002-07-01T00:00:00\",\"2002-08-01T00:00:00\",\"2002-09-01T00:00:00\",\"2002-10-01T00:00:00\",\"2002-11-01T00:00:00\",\"2002-12-01T00:00:00\",\"2003-01-01T00:00:00\",\"2003-02-01T00:00:00\",\"2003-03-01T00:00:00\",\"2003-04-01T00:00:00\",\"2003-05-01T00:00:00\",\"2003-06-01T00:00:00\",\"2003-07-01T00:00:00\",\"2003-08-01T00:00:00\",\"2003-09-01T00:00:00\",\"2003-10-01T00:00:00\",\"2003-11-01T00:00:00\",\"2003-12-01T00:00:00\",\"2004-01-01T00:00:00\",\"2004-02-01T00:00:00\",\"2004-03-01T00:00:00\",\"2004-04-01T00:00:00\",\"2004-05-01T00:00:00\",\"2004-06-01T00:00:00\",\"2004-07-01T00:00:00\",\"2004-08-01T00:00:00\",\"2004-09-01T00:00:00\",\"2004-10-01T00:00:00\",\"2004-11-01T00:00:00\",\"2004-12-01T00:00:00\",\"2005-01-01T00:00:00\",\"2005-02-01T00:00:00\",\"2005-03-01T00:00:00\",\"2005-04-01T00:00:00\",\"2005-05-01T00:00:00\",\"2005-06-01T00:00:00\",\"2005-07-01T00:00:00\",\"2005-08-01T00:00:00\",\"2005-09-01T00:00:00\",\"2005-10-01T00:00:00\",\"2005-11-01T00:00:00\",\"2005-12-01T00:00:00\",\"2006-01-01T00:00:00\",\"2006-02-01T00:00:00\",\"2006-03-01T00:00:00\",\"2006-04-01T00:00:00\",\"2006-05-01T00:00:00\",\"2006-06-01T00:00:00\",\"2006-07-01T00:00:00\",\"2006-08-01T00:00:00\",\"2006-09-01T00:00:00\",\"2006-10-01T00:00:00\",\"2006-11-01T00:00:00\",\"2006-12-01T00:00:00\",\"2007-01-01T00:00:00\",\"2007-02-01T00:00:00\",\"2007-03-01T00:00:00\",\"2007-04-01T00:00:00\",\"2007-05-01T00:00:00\",\"2007-06-01T00:00:00\",\"2007-07-01T00:00:00\",\"2007-08-01T00:00:00\",\"2007-09-01T00:00:00\",\"2007-10-01T00:00:00\",\"2007-11-01T00:00:00\",\"2007-12-01T00:00:00\",\"2008-01-01T00:00:00\",\"2008-02-01T00:00:00\",\"2008-03-01T00:00:00\",\"2008-04-01T00:00:00\",\"2008-05-01T00:00:00\",\"2008-06-01T00:00:00\",\"2008-07-01T00:00:00\",\"2008-08-01T00:00:00\",\"2008-09-01T00:00:00\",\"2008-10-01T00:00:00\",\"2008-11-01T00:00:00\",\"2008-12-01T00:00:00\",\"2009-01-01T00:00:00\",\"2009-02-01T00:00:00\",\"2009-03-01T00:00:00\",\"2009-04-01T00:00:00\",\"2009-05-01T00:00:00\",\"2009-06-01T00:00:00\",\"2009-07-01T00:00:00\",\"2009-08-01T00:00:00\",\"2009-09-01T00:00:00\",\"2009-10-01T00:00:00\",\"2009-11-01T00:00:00\",\"2009-12-01T00:00:00\",\"2010-01-01T00:00:00\",\"2010-02-01T00:00:00\",\"2010-03-01T00:00:00\",\"2010-04-01T00:00:00\",\"2010-05-01T00:00:00\",\"2010-06-01T00:00:00\",\"2010-07-01T00:00:00\",\"2010-08-01T00:00:00\",\"2010-09-01T00:00:00\",\"2010-10-01T00:00:00\",\"2010-11-01T00:00:00\",\"2010-12-01T00:00:00\",\"2011-01-01T00:00:00\",\"2011-02-01T00:00:00\",\"2011-03-01T00:00:00\",\"2011-04-01T00:00:00\",\"2011-05-01T00:00:00\",\"2011-06-01T00:00:00\",\"2011-07-01T00:00:00\",\"2011-08-01T00:00:00\",\"2011-09-01T00:00:00\",\"2011-10-01T00:00:00\",\"2011-11-01T00:00:00\",\"2011-12-01T00:00:00\",\"2012-01-01T00:00:00\",\"2012-02-01T00:00:00\",\"2012-03-01T00:00:00\",\"2012-04-01T00:00:00\",\"2012-05-01T00:00:00\",\"2012-06-01T00:00:00\",\"2012-07-01T00:00:00\",\"2012-08-01T00:00:00\",\"2012-09-01T00:00:00\",\"2012-10-01T00:00:00\",\"2012-11-01T00:00:00\",\"2012-12-01T00:00:00\",\"2013-01-01T00:00:00\",\"2013-02-01T00:00:00\",\"2013-03-01T00:00:00\",\"2013-04-01T00:00:00\",\"2013-05-01T00:00:00\",\"2013-06-01T00:00:00\",\"2013-07-01T00:00:00\",\"2013-08-01T00:00:00\",\"2013-09-01T00:00:00\",\"2013-10-01T00:00:00\",\"2013-11-01T00:00:00\",\"2013-12-01T00:00:00\",\"2014-01-01T00:00:00\",\"2014-02-01T00:00:00\",\"2014-03-01T00:00:00\",\"2014-04-01T00:00:00\",\"2014-05-01T00:00:00\",\"2014-06-01T00:00:00\",\"2014-07-01T00:00:00\",\"2014-08-01T00:00:00\",\"2014-09-01T00:00:00\",\"2014-10-01T00:00:00\",\"2014-11-01T00:00:00\",\"2014-12-01T00:00:00\",\"2015-01-01T00:00:00\",\"2015-02-01T00:00:00\",\"2015-03-01T00:00:00\",\"2015-04-01T00:00:00\",\"2015-05-01T00:00:00\",\"2015-06-01T00:00:00\",\"2015-07-01T00:00:00\",\"2015-08-01T00:00:00\",\"2015-09-01T00:00:00\",\"2015-10-01T00:00:00\",\"2015-11-01T00:00:00\",\"2015-12-01T00:00:00\",\"2016-01-01T00:00:00\",\"2016-02-01T00:00:00\",\"2016-03-01T00:00:00\",\"2016-04-01T00:00:00\",\"2016-05-01T00:00:00\",\"2016-06-01T00:00:00\",\"2016-07-01T00:00:00\",\"2016-08-01T00:00:00\",\"2016-09-01T00:00:00\",\"2016-10-01T00:00:00\",\"2016-11-01T00:00:00\",\"2016-12-01T00:00:00\",\"2017-01-01T00:00:00\",\"2017-02-01T00:00:00\",\"2017-03-01T00:00:00\",\"2017-04-01T00:00:00\",\"2017-05-01T00:00:00\",\"2017-06-01T00:00:00\",\"2017-07-01T00:00:00\",\"2017-08-01T00:00:00\",\"2017-09-01T00:00:00\",\"2017-10-01T00:00:00\",\"2017-11-01T00:00:00\",\"2017-12-01T00:00:00\",\"2018-01-01T00:00:00\",\"2018-02-01T00:00:00\",\"2018-03-01T00:00:00\",\"2018-04-01T00:00:00\",\"2018-05-01T00:00:00\",\"2018-06-01T00:00:00\",\"2018-07-01T00:00:00\",\"2018-08-01T00:00:00\",\"2018-09-01T00:00:00\",\"2018-10-01T00:00:00\",\"2018-11-01T00:00:00\",\"2018-12-01T00:00:00\",\"2019-01-01T00:00:00\",\"2019-02-01T00:00:00\",\"2019-03-01T00:00:00\",\"2019-04-01T00:00:00\",\"2019-05-01T00:00:00\",\"2019-06-01T00:00:00\",\"2019-07-01T00:00:00\",\"2019-08-01T00:00:00\",\"2019-09-01T00:00:00\",\"2019-10-01T00:00:00\",\"2019-11-01T00:00:00\",\"2019-12-01T00:00:00\",\"2020-01-01T00:00:00\",\"2020-02-01T00:00:00\",\"2020-03-01T00:00:00\",\"2020-04-01T00:00:00\",\"2020-05-01T00:00:00\",\"2020-06-01T00:00:00\",\"2020-07-01T00:00:00\",\"2020-08-01T00:00:00\",\"2020-09-01T00:00:00\",\"2020-10-01T00:00:00\",\"2020-11-01T00:00:00\",\"2020-12-01T00:00:00\",\"2021-01-01T00:00:00\"],\"y\":[0.059839738408460574,0.10293311720095466,0.02493890133453247,-0.028905885216989113,0.04452047826526684,0.01356186841102236,0.09219473764744479,0.021366677733529738,-0.00555483538911361,-0.11755904978808607,-0.11073930213675875,-0.0896183403121057,-0.19418427247176384,-0.2582159373376145,-0.19210273068738004,-0.18485917446977074,-0.2014422010995497,-0.21710899483770907,-0.2660759124081895,-0.32779047592182453,-0.307002007257576,-0.2522718513652309,-0.24257674746281865,-0.2516173046663479,-0.2712023995679518,-0.2443126752942022,-0.2909596130380673,-0.2997477278114403,-0.3475881641929752,-0.3925299384862335,-0.3904407753398096,-0.4514958356257166,-0.4085273757583997,-0.37888941636369244,-0.41488253969524247,-0.4298576511537441,-0.4368792874973001,-0.4291432279190165,-0.38628524559697586,-0.3580492067465675,-0.34938062866491004,-0.3338453242472669,-0.31885475932784535,-0.3244018951619789,-0.28798474472228186,-0.27833469717469617,-0.2542543588148748,-0.23877124498575997,-0.23292236944709732,-0.2482948378684675,-0.26026406423334825,-0.24875483514735353,-0.23531549485531078,-0.2753886932879075,-0.27738251051787355,-0.2666363272396871,-0.25344679572914064,-0.223636517861022,-0.19503112210941587,-0.218315282281777,-0.20834797538705918,-0.22197375411335019,-0.24061378276590595,-0.20881172677554927,-0.20937824388601534,-0.1691894499439347,-0.17815719761224635,-0.17466010475126315,-0.19176148673009918,-0.1578720246564761,-0.15900082406987737,-0.12826425334329572,-0.13683415073520477,-0.11946979113347467,-0.11756639130254865,-0.15061752246263027,-0.15461876539485087,-0.17134533207803548,-0.15004455964404773,-0.13358300549926294,-0.10104647431598446,-0.07923640472648574,-0.07924622501354206,-0.05934894607577157,-0.07597872872919587,-0.06402253611739517,-0.02234378115075053,0.016214690945623778,0.006783121034721784,-0.005970899154719489,0.009483613076216146,0.06295729987694809,0.10529434955363337,0.06071016809900809,0.06377429976820714,-0.026147092801219407,-0.036549250402625244,-0.03907687344808841,0.006109632259373665,0.03838061341322163,-0.019535008689914757,-0.04629474577304549,-0.0369403325622808,-0.13762822444647937,-0.28007148391731873,-0.32765304913774507,-0.3158554770338913,-0.357970408831946,-0.4133612782468993,-0.3675147144669547,-0.32216371231214247,-0.29067189193104304,-0.28413217410166625,-0.23241497406976175,-0.21798145631608845,-0.18521226382715406,-0.19684907443166155,-0.14570512718816464,-0.12500621788173383,-0.16540300192119095,-0.1372513927528496,-0.08828984279341223,-0.07513676689203252,-0.14719467810770837,-0.19039075675628547,-0.13719439458857396,-0.17239729720562758,-0.09006323355532808,-0.04709481418499495,-0.04199359803355385,0.008575238111924621,0.02065156006291291,0.056532167462921334,0.06481615044037503,0.09942533319745017,0.09031666458828558,0.07650152014995393,0.06322449426578913,0.012969117295549282,-0.06221636912230677,0.03225111670644876,0.03084661543968359,0.024897673144495203,0.077616425585874,0.12614710564280052,0.16319143788535695,0.15753487407433941,0.08783025023642943,0.1208905644749454,0.1325348595328084,0.16198368212641912,0.18563417188094933,0.1539281367603098,0.17075026497856016,0.16962972179123081,0.2283362343264228,0.24046306576482013,0.287192539958377,0.30638953996868645,0.3349062693907203,0.3107585645728794,0.380871053219481,0.3516281427852228,0.41158552313898467,0.4677400174244899,0.5126932892052014,0.5520425140141574,0.5065423994893554,0.5861569819485517,0.5654930318574904,0.55794222015105,0.5946033101280068,0.6367332036924913,0.5995431935222728,0.6733573864555387,0.6499024297436014,0.693404340700505,0.7518348075016454,0.7370540489423658,0.7088128919978058,0.814580136265453,0.8005273571906377,0.7994706809923202,0.8347715776772882,0.8094745633652887,0.8611236204940109,0.7423235838755033,0.693522132403952,0.819687398351461,0.8318226467082197,0.8059601259517657,0.6962139292357556,0.6929038448892704,0.8055960834844667,0.7980883342690672,0.8309887657117951,0.8293400538695126,0.9087647018276901,0.9045121564288781,0.9152015443380523,0.8624859118362465,0.9124293052094277,0.9289863370843736,0.9835506273898587,1.0641072097313655,1.090607041400229,1.1273782244373955,1.1780742077014703,1.1853705149989526,1.234114207702043,1.269385381497461,1.3043013662376022,1.385169660282466,1.4524702187056824,1.4692305930944207,1.6371398674850046,1.5676443577914796,1.5024461845887322,1.5125869970351848,1.614839227591875,1.6329387360712633,1.708974484423,1.8543189474919504,1.8713303079038655,1.6213429623309565,1.659275258466765,1.4345622131279674,1.6371166819105416,1.7434610465604687,1.8131929363062107,1.9277113464194082,1.7538007495336152,1.9563159228897615,2.000220221342642,1.9652698463494533,1.9638715984757744,2.0371594778990403,2.17096941238699,2.2630934933889946,2.3166831456039274,2.07877828057586,1.7832005448659665,2.1669397108318575,2.3773815810607064,2.516267764806075,2.7641645352492823,3.1072410888341064,2.9579987847910787,2.835427762569039,3.2617281761746684,3.4651858452206152,3.4651858452206152],\"marker\":{},\"line\":{},\"name\":\"book-to-market: 1\"},{\"type\":\"scatter\",\"mode\":\"lines\",\"x\":[\"2000-02-01T00:00:00\",\"2000-03-01T00:00:00\",\"2000-04-01T00:00:00\",\"2000-05-01T00:00:00\",\"2000-06-01T00:00:00\",\"2000-07-01T00:00:00\",\"2000-08-01T00:00:00\",\"2000-09-01T00:00:00\",\"2000-10-01T00:00:00\",\"2000-11-01T00:00:00\",\"2000-12-01T00:00:00\",\"2001-01-01T00:00:00\",\"2001-02-01T00:00:00\",\"2001-03-01T00:00:00\",\"2001-04-01T00:00:00\",\"2001-05-01T00:00:00\",\"2001-06-01T00:00:00\",\"2001-07-01T00:00:00\",\"2001-08-01T00:00:00\",\"2001-09-01T00:00:00\",\"2001-10-01T00:00:00\",\"2001-11-01T00:00:00\",\"2001-12-01T00:00:00\",\"2002-01-01T00:00:00\",\"2002-02-01T00:00:00\",\"2002-03-01T00:00:00\",\"2002-04-01T00:00:00\",\"2002-05-01T00:00:00\",\"2002-06-01T00:00:00\",\"2002-07-01T00:00:00\",\"2002-08-01T00:00:00\",\"2002-09-01T00:00:00\",\"2002-10-01T00:00:00\",\"2002-11-01T00:00:00\",\"2002-12-01T00:00:00\",\"2003-01-01T00:00:00\",\"2003-02-01T00:00:00\",\"2003-03-01T00:00:00\",\"2003-04-01T00:00:00\",\"2003-05-01T00:00:00\",\"2003-06-01T00:00:00\",\"2003-07-01T00:00:00\",\"2003-08-01T00:00:00\",\"2003-09-01T00:00:00\",\"2003-10-01T00:00:00\",\"2003-11-01T00:00:00\",\"2003-12-01T00:00:00\",\"2004-01-01T00:00:00\",\"2004-02-01T00:00:00\",\"2004-03-01T00:00:00\",\"2004-04-01T00:00:00\",\"2004-05-01T00:00:00\",\"2004-06-01T00:00:00\",\"2004-07-01T00:00:00\",\"2004-08-01T00:00:00\",\"2004-09-01T00:00:00\",\"2004-10-01T00:00:00\",\"2004-11-01T00:00:00\",\"2004-12-01T00:00:00\",\"2005-01-01T00:00:00\",\"2005-02-01T00:00:00\",\"2005-03-01T00:00:00\",\"2005-04-01T00:00:00\",\"2005-05-01T00:00:00\",\"2005-06-01T00:00:00\",\"2005-07-01T00:00:00\",\"2005-08-01T00:00:00\",\"2005-09-01T00:00:00\",\"2005-10-01T00:00:00\",\"2005-11-01T00:00:00\",\"2005-12-01T00:00:00\",\"2006-01-01T00:00:00\",\"2006-02-01T00:00:00\",\"2006-03-01T00:00:00\",\"2006-04-01T00:00:00\",\"2006-05-01T00:00:00\",\"2006-06-01T00:00:00\",\"2006-07-01T00:00:00\",\"2006-08-01T00:00:00\",\"2006-09-01T00:00:00\",\"2006-10-01T00:00:00\",\"2006-11-01T00:00:00\",\"2006-12-01T00:00:00\",\"2007-01-01T00:00:00\",\"2007-02-01T00:00:00\",\"2007-03-01T00:00:00\",\"2007-04-01T00:00:00\",\"2007-05-01T00:00:00\",\"2007-06-01T00:00:00\",\"2007-07-01T00:00:00\",\"2007-08-01T00:00:00\",\"2007-09-01T00:00:00\",\"2007-10-01T00:00:00\",\"2007-11-01T00:00:00\",\"2007-12-01T00:00:00\",\"2008-01-01T00:00:00\",\"2008-02-01T00:00:00\",\"2008-03-01T00:00:00\",\"2008-04-01T00:00:00\",\"2008-05-01T00:00:00\",\"2008-06-01T00:00:00\",\"2008-07-01T00:00:00\",\"2008-08-01T00:00:00\",\"2008-09-01T00:00:00\",\"2008-10-01T00:00:00\",\"2008-11-01T00:00:00\",\"2008-12-01T00:00:00\",\"2009-01-01T00:00:00\",\"2009-02-01T00:00:00\",\"2009-03-01T00:00:00\",\"2009-04-01T00:00:00\",\"2009-05-01T00:00:00\",\"2009-06-01T00:00:00\",\"2009-07-01T00:00:00\",\"2009-08-01T00:00:00\",\"2009-09-01T00:00:00\",\"2009-10-01T00:00:00\",\"2009-11-01T00:00:00\",\"2009-12-01T00:00:00\",\"2010-01-01T00:00:00\",\"2010-02-01T00:00:00\",\"2010-03-01T00:00:00\",\"2010-04-01T00:00:00\",\"2010-05-01T00:00:00\",\"2010-06-01T00:00:00\",\"2010-07-01T00:00:00\",\"2010-08-01T00:00:00\",\"2010-09-01T00:00:00\",\"2010-10-01T00:00:00\",\"2010-11-01T00:00:00\",\"2010-12-01T00:00:00\",\"2011-01-01T00:00:00\",\"2011-02-01T00:00:00\",\"2011-03-01T00:00:00\",\"2011-04-01T00:00:00\",\"2011-05-01T00:00:00\",\"2011-06-01T00:00:00\",\"2011-07-01T00:00:00\",\"2011-08-01T00:00:00\",\"2011-09-01T00:00:00\",\"2011-10-01T00:00:00\",\"2011-11-01T00:00:00\",\"2011-12-01T00:00:00\",\"2012-01-01T00:00:00\",\"2012-02-01T00:00:00\",\"2012-03-01T00:00:00\",\"2012-04-01T00:00:00\",\"2012-05-01T00:00:00\",\"2012-06-01T00:00:00\",\"2012-07-01T00:00:00\",\"2012-08-01T00:00:00\",\"2012-09-01T00:00:00\",\"2012-10-01T00:00:00\",\"2012-11-01T00:00:00\",\"2012-12-01T00:00:00\",\"2013-01-01T00:00:00\",\"2013-02-01T00:00:00\",\"2013-03-01T00:00:00\",\"2013-04-01T00:00:00\",\"2013-05-01T00:00:00\",\"2013-06-01T00:00:00\",\"2013-07-01T00:00:00\",\"2013-08-01T00:00:00\",\"2013-09-01T00:00:00\",\"2013-10-01T00:00:00\",\"2013-11-01T00:00:00\",\"2013-12-01T00:00:00\",\"2014-01-01T00:00:00\",\"2014-02-01T00:00:00\",\"2014-03-01T00:00:00\",\"2014-04-01T00:00:00\",\"2014-05-01T00:00:00\",\"2014-06-01T00:00:00\",\"2014-07-01T00:00:00\",\"2014-08-01T00:00:00\",\"2014-09-01T00:00:00\",\"2014-10-01T00:00:00\",\"2014-11-01T00:00:00\",\"2014-12-01T00:00:00\",\"2015-01-01T00:00:00\",\"2015-02-01T00:00:00\",\"2015-03-01T00:00:00\",\"2015-04-01T00:00:00\",\"2015-05-01T00:00:00\",\"2015-06-01T00:00:00\",\"2015-07-01T00:00:00\",\"2015-08-01T00:00:00\",\"2015-09-01T00:00:00\",\"2015-10-01T00:00:00\",\"2015-11-01T00:00:00\",\"2015-12-01T00:00:00\",\"2016-01-01T00:00:00\",\"2016-02-01T00:00:00\",\"2016-03-01T00:00:00\",\"2016-04-01T00:00:00\",\"2016-05-01T00:00:00\",\"2016-06-01T00:00:00\",\"2016-07-01T00:00:00\",\"2016-08-01T00:00:00\",\"2016-09-01T00:00:00\",\"2016-10-01T00:00:00\",\"2016-11-01T00:00:00\",\"2016-12-01T00:00:00\",\"2017-01-01T00:00:00\",\"2017-02-01T00:00:00\",\"2017-03-01T00:00:00\",\"2017-04-01T00:00:00\",\"2017-05-01T00:00:00\",\"2017-06-01T00:00:00\",\"2017-07-01T00:00:00\",\"2017-08-01T00:00:00\",\"2017-09-01T00:00:00\",\"2017-10-01T00:00:00\",\"2017-11-01T00:00:00\",\"2017-12-01T00:00:00\",\"2018-01-01T00:00:00\",\"2018-02-01T00:00:00\",\"2018-03-01T00:00:00\",\"2018-04-01T00:00:00\",\"2018-05-01T00:00:00\",\"2018-06-01T00:00:00\",\"2018-07-01T00:00:00\",\"2018-08-01T00:00:00\",\"2018-09-01T00:00:00\",\"2018-10-01T00:00:00\",\"2018-11-01T00:00:00\",\"2018-12-01T00:00:00\",\"2019-01-01T00:00:00\",\"2019-02-01T00:00:00\",\"2019-03-01T00:00:00\",\"2019-04-01T00:00:00\",\"2019-05-01T00:00:00\",\"2019-06-01T00:00:00\",\"2019-07-01T00:00:00\",\"2019-08-01T00:00:00\",\"2019-09-01T00:00:00\",\"2019-10-01T00:00:00\",\"2019-11-01T00:00:00\",\"2019-12-01T00:00:00\",\"2020-01-01T00:00:00\",\"2020-02-01T00:00:00\",\"2020-03-01T00:00:00\",\"2020-04-01T00:00:00\",\"2020-05-01T00:00:00\",\"2020-06-01T00:00:00\",\"2020-07-01T00:00:00\",\"2020-08-01T00:00:00\",\"2020-09-01T00:00:00\",\"2020-10-01T00:00:00\",\"2020-11-01T00:00:00\",\"2020-12-01T00:00:00\",\"2021-01-01T00:00:00\"],\"y\":[-0.057136363245165134,0.04752294985259531,0.021469400805073757,0.026522064489507446,-0.01247650569418024,-0.00036256392318945174,0.07323326468827585,0.07628121581707625,0.060085877243730934,-0.008982023842117437,0.0666887655697519,0.14980882661915507,0.09260831910964851,0.046186438636724114,0.12320034417135672,0.13168658177367631,0.12392916939182386,0.1053484377365328,0.05228602575784835,-0.06783782578398234,-0.04360778310078384,0.028899604514261767,0.05854554255792954,0.03959222880622559,0.03602390270063194,0.1058610002915088,0.09180751920600994,0.08638918198168954,0.01954523735514946,-0.08875690362765687,-0.08114743072270003,-0.17248133505836005,-0.10859600275983683,-0.03912681482272584,-0.08310999781034545,-0.09652223102528901,-0.11561399265247285,-0.11567962847428193,-0.03264563679287358,0.05571772833433375,0.07464912196151974,0.10016949782580342,0.12534776452194074,0.10944156973315122,0.19534326826557202,0.2152394758930627,0.27663161118508794,0.3074709930456434,0.3425401209613006,0.33626957267543767,0.2951159326553563,0.31592377092002355,0.3439416200551306,0.31317736214729996,0.32113944993039545,0.3540390776773523,0.37235335560203575,0.44474039350845107,0.48700440942662926,0.4512399102214988,0.5032840235593092,0.4751937075068149,0.4298156320431319,0.4760776256803776,0.5067428625680617,0.5523145533682063,0.5579764075154694,0.588693856725268,0.5559376776338016,0.6211080458393363,0.6355191186515312,0.6989600020474924,0.7054643289395202,0.7368725949832196,0.7729059820021571,0.7181726804515969,0.7169657969041245,0.7313032564125188,0.7765462355620876,0.8126863113302276,0.8670506699382545,0.9042382225352579,0.9404898845286676,0.9662813768961795,0.9406575944621971,0.9697458218794828,1.0485849318455132,1.1378439581281423,1.1061252423720296,1.0253956519409662,1.0502066799142726,1.1187933851569722,1.1568277943443697,1.0318485804386204,1.0274223254898032,0.9202349471255551,0.8664636264679446,0.8394255615265431,0.9357413946756317,0.9897361867398338,0.8279009184133046,0.8076941358915772,0.8291717486639598,0.6517403532746293,0.32936844857797376,0.20409199307280734,0.2229901410563051,0.1072008061490497,-0.013719974189013717,0.07820039225275988,0.22150469846922105,0.3314087514137978,0.29611926985436665,0.41438578793788317,0.4597380566593121,0.5290363867668868,0.46628881940602396,0.5321100654663709,0.5753916678689159,0.5207306966570375,0.5685307777535156,0.6726427412667293,0.7099660559537304,0.5662089769946952,0.48077330581803257,0.5868882123890948,0.5221767768000973,0.6568905009758772,0.7152242182549096,0.7349845350546667,0.8657869439313526,0.9166895518217115,0.999052782839444,1.0042446716423972,1.0556565766079604,1.0164667962031575,0.969618051919922,0.9116120777355732,0.7948195099607223,0.6390871772280211,0.8415884892692453,0.8487326034805089,0.8800251424775825,0.9624951917667699,1.0318512045236052,1.0543380650491683,1.0448588779635863,0.9177428042127178,1.0034620944928947,1.030915285900842,1.0816598242679394,1.1507386047717332,1.1239805653571464,1.1294938954586664,1.1687543728620784,1.286713971512147,1.310800679478065,1.3940571997811202,1.4203799925585257,1.477816705768345,1.4611224094898794,1.60550460538981,1.5363295394041305,1.6230659848813955,1.737557546963922,1.8064374416461968,1.8945599038249061,1.78470285915872,1.9111022949060033,1.9554637783379083,1.969943250850445,2.0272005008151144,2.1094976829601753,2.056580500623913,2.1563718916396977,2.0505836408910567,2.1093931065039113,2.184821647387593,2.186807924252779,2.043431896497783,2.231047140429063,2.1891392564563095,2.2325359815065178,2.2558631841936823,2.183934543188673,2.172805218511656,1.9875487598374333,1.8789056190155913,2.1049836536404283,2.0982821111541496,2.0011817079164906,1.8653883614686255,1.901007612697735,2.0842589223357124,2.162570273942009,2.2070358215744914,2.2348697920813776,2.3286102031685205,2.346287198029166,2.348923394040881,2.267029154905011,2.4325252922247658,2.4996378493471254,2.569599089110899,2.643234149452716,2.6298695938963346,2.6455830374329365,2.659140022953806,2.6846505464118895,2.7389920688038765,2.6984921449431307,2.825779621442454,2.8571845680947607,2.9836230000531905,3.0504411330191754,3.234672111972449,3.0269742216657782,2.963054285077501,2.9659404925549233,3.0365654251132943,3.049898231587852,3.1857729175603238,3.243513681357739,3.2499627183768434,2.97920570346662,3.0825032382588784,2.6587202210780063,2.973321470650772,3.108421212074151,3.0858171108504786,3.2335587164022126,2.943169682136792,3.2023210589515685,3.2292287369728108,3.095567371569026,3.2382943065262912,3.2975616653341824,3.434912976412522,3.540903977178468,3.446340395203615,3.048506753281681,2.3428529572187937,2.678362386075073,2.833035923209815,2.799516496972307,2.9943173783115897,3.164615441135677,3.072859421087469,3.032505808539275,3.578870839667931,3.782166212686991,3.782166212686991],\"marker\":{},\"line\":{},\"name\":\"book-to-market: 2\"},{\"type\":\"scatter\",\"mode\":\"lines\",\"x\":[\"2000-02-01T00:00:00\",\"2000-03-01T00:00:00\",\"2000-04-01T00:00:00\",\"2000-05-01T00:00:00\",\"2000-06-01T00:00:00\",\"2000-07-01T00:00:00\",\"2000-08-01T00:00:00\",\"2000-09-01T00:00:00\",\"2000-10-01T00:00:00\",\"2000-11-01T00:00:00\",\"2000-12-01T00:00:00\",\"2001-01-01T00:00:00\",\"2001-02-01T00:00:00\",\"2001-03-01T00:00:00\",\"2001-04-01T00:00:00\",\"2001-05-01T00:00:00\",\"2001-06-01T00:00:00\",\"2001-07-01T00:00:00\",\"2001-08-01T00:00:00\",\"2001-09-01T00:00:00\",\"2001-10-01T00:00:00\",\"2001-11-01T00:00:00\",\"2001-12-01T00:00:00\",\"2002-01-01T00:00:00\",\"2002-02-01T00:00:00\",\"2002-03-01T00:00:00\",\"2002-04-01T00:00:00\",\"2002-05-01T00:00:00\",\"2002-06-01T00:00:00\",\"2002-07-01T00:00:00\",\"2002-08-01T00:00:00\",\"2002-09-01T00:00:00\",\"2002-10-01T00:00:00\",\"2002-11-01T00:00:00\",\"2002-12-01T00:00:00\",\"2003-01-01T00:00:00\",\"2003-02-01T00:00:00\",\"2003-03-01T00:00:00\",\"2003-04-01T00:00:00\",\"2003-05-01T00:00:00\",\"2003-06-01T00:00:00\",\"2003-07-01T00:00:00\",\"2003-08-01T00:00:00\",\"2003-09-01T00:00:00\",\"2003-10-01T00:00:00\",\"2003-11-01T00:00:00\",\"2003-12-01T00:00:00\",\"2004-01-01T00:00:00\",\"2004-02-01T00:00:00\",\"2004-03-01T00:00:00\",\"2004-04-01T00:00:00\",\"2004-05-01T00:00:00\",\"2004-06-01T00:00:00\",\"2004-07-01T00:00:00\",\"2004-08-01T00:00:00\",\"2004-09-01T00:00:00\",\"2004-10-01T00:00:00\",\"2004-11-01T00:00:00\",\"2004-12-01T00:00:00\",\"2005-01-01T00:00:00\",\"2005-02-01T00:00:00\",\"2005-03-01T00:00:00\",\"2005-04-01T00:00:00\",\"2005-05-01T00:00:00\",\"2005-06-01T00:00:00\",\"2005-07-01T00:00:00\",\"2005-08-01T00:00:00\",\"2005-09-01T00:00:00\",\"2005-10-01T00:00:00\",\"2005-11-01T00:00:00\",\"2005-12-01T00:00:00\",\"2006-01-01T00:00:00\",\"2006-02-01T00:00:00\",\"2006-03-01T00:00:00\",\"2006-04-01T00:00:00\",\"2006-05-01T00:00:00\",\"2006-06-01T00:00:00\",\"2006-07-01T00:00:00\",\"2006-08-01T00:00:00\",\"2006-09-01T00:00:00\",\"2006-10-01T00:00:00\",\"2006-11-01T00:00:00\",\"2006-12-01T00:00:00\",\"2007-01-01T00:00:00\",\"2007-02-01T00:00:00\",\"2007-03-01T00:00:00\",\"2007-04-01T00:00:00\",\"2007-05-01T00:00:00\",\"2007-06-01T00:00:00\",\"2007-07-01T00:00:00\",\"2007-08-01T00:00:00\",\"2007-09-01T00:00:00\",\"2007-10-01T00:00:00\",\"2007-11-01T00:00:00\",\"2007-12-01T00:00:00\",\"2008-01-01T00:00:00\",\"2008-02-01T00:00:00\",\"2008-03-01T00:00:00\",\"2008-04-01T00:00:00\",\"2008-05-01T00:00:00\",\"2008-06-01T00:00:00\",\"2008-07-01T00:00:00\",\"2008-08-01T00:00:00\",\"2008-09-01T00:00:00\",\"2008-10-01T00:00:00\",\"2008-11-01T00:00:00\",\"2008-12-01T00:00:00\",\"2009-01-01T00:00:00\",\"2009-02-01T00:00:00\",\"2009-03-01T00:00:00\",\"2009-04-01T00:00:00\",\"2009-05-01T00:00:00\",\"2009-06-01T00:00:00\",\"2009-07-01T00:00:00\",\"2009-08-01T00:00:00\",\"2009-09-01T00:00:00\",\"2009-10-01T00:00:00\",\"2009-11-01T00:00:00\",\"2009-12-01T00:00:00\",\"2010-01-01T00:00:00\",\"2010-02-01T00:00:00\",\"2010-03-01T00:00:00\",\"2010-04-01T00:00:00\",\"2010-05-01T00:00:00\",\"2010-06-01T00:00:00\",\"2010-07-01T00:00:00\",\"2010-08-01T00:00:00\",\"2010-09-01T00:00:00\",\"2010-10-01T00:00:00\",\"2010-11-01T00:00:00\",\"2010-12-01T00:00:00\",\"2011-01-01T00:00:00\",\"2011-02-01T00:00:00\",\"2011-03-01T00:00:00\",\"2011-04-01T00:00:00\",\"2011-05-01T00:00:00\",\"2011-06-01T00:00:00\",\"2011-07-01T00:00:00\",\"2011-08-01T00:00:00\",\"2011-09-01T00:00:00\",\"2011-10-01T00:00:00\",\"2011-11-01T00:00:00\",\"2011-12-01T00:00:00\",\"2012-01-01T00:00:00\",\"2012-02-01T00:00:00\",\"2012-03-01T00:00:00\",\"2012-04-01T00:00:00\",\"2012-05-01T00:00:00\",\"2012-06-01T00:00:00\",\"2012-07-01T00:00:00\",\"2012-08-01T00:00:00\",\"2012-09-01T00:00:00\",\"2012-10-01T00:00:00\",\"2012-11-01T00:00:00\",\"2012-12-01T00:00:00\",\"2013-01-01T00:00:00\",\"2013-02-01T00:00:00\",\"2013-03-01T00:00:00\",\"2013-04-01T00:00:00\",\"2013-05-01T00:00:00\",\"2013-06-01T00:00:00\",\"2013-07-01T00:00:00\",\"2013-08-01T00:00:00\",\"2013-09-01T00:00:00\",\"2013-10-01T00:00:00\",\"2013-11-01T00:00:00\",\"2013-12-01T00:00:00\",\"2014-01-01T00:00:00\",\"2014-02-01T00:00:00\",\"2014-03-01T00:00:00\",\"2014-04-01T00:00:00\",\"2014-05-01T00:00:00\",\"2014-06-01T00:00:00\",\"2014-07-01T00:00:00\",\"2014-08-01T00:00:00\",\"2014-09-01T00:00:00\",\"2014-10-01T00:00:00\",\"2014-11-01T00:00:00\",\"2014-12-01T00:00:00\",\"2015-01-01T00:00:00\",\"2015-02-01T00:00:00\",\"2015-03-01T00:00:00\",\"2015-04-01T00:00:00\",\"2015-05-01T00:00:00\",\"2015-06-01T00:00:00\",\"2015-07-01T00:00:00\",\"2015-08-01T00:00:00\",\"2015-09-01T00:00:00\",\"2015-10-01T00:00:00\",\"2015-11-01T00:00:00\",\"2015-12-01T00:00:00\",\"2016-01-01T00:00:00\",\"2016-02-01T00:00:00\",\"2016-03-01T00:00:00\",\"2016-04-01T00:00:00\",\"2016-05-01T00:00:00\",\"2016-06-01T00:00:00\",\"2016-07-01T00:00:00\",\"2016-08-01T00:00:00\",\"2016-09-01T00:00:00\",\"2016-10-01T00:00:00\",\"2016-11-01T00:00:00\",\"2016-12-01T00:00:00\",\"2017-01-01T00:00:00\",\"2017-02-01T00:00:00\",\"2017-03-01T00:00:00\",\"2017-04-01T00:00:00\",\"2017-05-01T00:00:00\",\"2017-06-01T00:00:00\",\"2017-07-01T00:00:00\",\"2017-08-01T00:00:00\",\"2017-09-01T00:00:00\",\"2017-10-01T00:00:00\",\"2017-11-01T00:00:00\",\"2017-12-01T00:00:00\",\"2018-01-01T00:00:00\",\"2018-02-01T00:00:00\",\"2018-03-01T00:00:00\",\"2018-04-01T00:00:00\",\"2018-05-01T00:00:00\",\"2018-06-01T00:00:00\",\"2018-07-01T00:00:00\",\"2018-08-01T00:00:00\",\"2018-09-01T00:00:00\",\"2018-10-01T00:00:00\",\"2018-11-01T00:00:00\",\"2018-12-01T00:00:00\",\"2019-01-01T00:00:00\",\"2019-02-01T00:00:00\",\"2019-03-01T00:00:00\",\"2019-04-01T00:00:00\",\"2019-05-01T00:00:00\",\"2019-06-01T00:00:00\",\"2019-07-01T00:00:00\",\"2019-08-01T00:00:00\",\"2019-09-01T00:00:00\",\"2019-10-01T00:00:00\",\"2019-11-01T00:00:00\",\"2019-12-01T00:00:00\",\"2020-01-01T00:00:00\",\"2020-02-01T00:00:00\",\"2020-03-01T00:00:00\",\"2020-04-01T00:00:00\",\"2020-05-01T00:00:00\",\"2020-06-01T00:00:00\",\"2020-07-01T00:00:00\",\"2020-08-01T00:00:00\",\"2020-09-01T00:00:00\",\"2020-10-01T00:00:00\",\"2020-11-01T00:00:00\",\"2020-12-01T00:00:00\",\"2021-01-01T00:00:00\"],\"y\":[-0.07487321595622698,0.037599351310927176,0.07322453644608418,0.09303757679314262,0.059396530545031245,0.10769019726091611,0.16638079379730786,0.14351403837611243,0.16149925482272365,0.09548578084348236,0.12138082247592807,0.39035234453846956,0.32206951469401335,0.26662057925903704,0.3348079365090797,0.3824237141977498,0.3362616255515414,0.32363491442360104,0.2345605232100909,0.09736811659206501,0.10291658031105277,0.20774306921243002,0.24893781721366115,0.17243138702887273,0.1297849080340321,0.21168940245947088,0.15052529236955858,0.13568731114726473,-0.0067898357631031026,-0.14666880475974353,-0.10609640631550965,-0.2262321632379718,-0.16132024825154612,-0.056088953244157636,-0.11003696742024138,-0.14844624025779785,-0.18145020111687438,-0.17797409255815366,-0.08235387595587884,0.01644296862295236,0.045262367133146464,0.06464469332863021,0.1108159389151615,0.09769589507801602,0.15705205369749153,0.1868226591083153,0.28262274142065325,0.30933593235786927,0.3349748046343848,0.33139080875864435,0.31676384638996957,0.31824391390387796,0.36100965182393074,0.3284962725858407,0.3293656292791989,0.37350578660267986,0.40499961697304476,0.49917038691360416,0.5543432452595909,0.520905827333257,0.5617571163051267,0.5476078942596738,0.5071147647230747,0.5642199914290249,0.6009784206729905,0.6767259113764432,0.6603525166227813,0.6773463977800309,0.6493883102684885,0.7063345987130043,0.7105919551109698,0.7882480771199039,0.7948708334070242,0.8235496369938307,0.8672818621063136,0.829875982899303,0.8367382114344457,0.8510093358448931,0.8843791804837151,0.9229811171197957,1.0096595612005421,1.0643912186307651,1.107934474710703,1.1437941698944383,1.1327285704309746,1.1607543669366156,1.2418917281031496,1.3222885334741505,1.2714328458716335,1.1464807916439343,1.1477782088457764,1.1918799331085594,1.1905372695068288,1.0718408162506021,1.0064177251955169,0.9882158620963257,0.8743709910730975,0.8107923885389328,0.9280780518296523,0.8831375744437302,0.5605606734227919,0.6355457976670194,0.6598548803935413,0.5303015765339214,0.15508658596105174,0.006303504700711615,0.062488012277529315,-0.11144005546642266,-0.2627767993063157,-0.14938853250851603,0.09087533359903732,0.24223432505302145,0.26150087850805637,0.39914616327797114,0.5277376668890625,0.6019654169287443,0.5168681559147601,0.6054550641577512,0.6739705307432229,0.6496083238138735,0.7170673361696422,0.8671834386173787,0.9254925561584684,0.7682444949907505,0.6536619311262668,0.7925975431746755,0.6688957438417988,0.8190145992156359,0.8497621476779704,0.835229121654685,1.046673602558175,1.1043104601795646,1.185506117159973,1.1758728388208732,1.2134785373136343,1.1545987055385822,1.1016119194247724,1.0080195049361906,0.8149862855568666,0.5919837612919887,0.8420415518687339,0.7603554764757061,0.7618795883602658,0.9179442891222689,1.0348485290925074,1.11414151506315,1.0466054750913063,0.8420494263260365,0.9256446036280892,0.9158895708195127,0.9966343962754372,1.0783497542261027,1.122256627403286,1.0968019610949882,1.1981986541795182,1.3533988533174726,1.351798655808555,1.429059665276967,1.466645677148482,1.5711522365306418,1.5098790463156977,1.669726406585625,1.586695163193903,1.6488902950901343,1.75483284604586,1.8504617247054642,1.8992468484921217,1.800279429159358,1.9073065919772305,1.9987297020500758,2.0077404249819226,2.0285636827277984,2.1494256398161524,2.07381477323376,2.1977216911915995,2.083951809515235,2.1073691998921573,2.0553390552408626,2.0929898794629125,1.9061901378723825,2.0803764160606453,2.0272306596798115,2.14289466653836,2.1288016497765594,2.075026576465564,2.0281984625530503,1.857494392419182,1.7237181737889058,1.9127930667728918,1.9442357480500712,1.8228367988713043,1.5906613873152233,1.5627830557151348,1.8142320082613201,1.963063474226395,1.9831088187828634,1.9286631271800134,2.054624903357475,2.139813219801134,2.1500350127723404,2.1795951895836323,2.515272328002637,2.6566754472765006,2.6926574588613406,2.810958771261225,2.748471384257346,2.725525648232074,2.6527938387069776,2.7751468815518234,2.874174199152374,2.8039607482263538,2.984995498546971,3.015184137962473,3.1228872345783767,3.197179337189133,3.306013017273873,3.0699744305013486,3.0231105309055017,3.0868112708217765,3.0881778804807727,3.0910363236808998,3.2457321962192562,3.259216396352957,3.19725722768223,2.9129429676545815,2.9618996766277097,2.5200256593365378,2.951267228896044,3.023668224309011,2.9674290495544984,3.200000224222519,2.82137064863516,3.1311492093888065,3.166283167935428,2.9189288982785904,3.161910293005498,3.2313432279160326,3.386364623020601,3.5957433120875812,3.3117968879021475,2.834589016977106,1.8083611306697946,2.3116664789302104,2.3790251551792774,2.441100735460741,2.4699765920211667,2.5901520336640833,2.3631613075761617,2.4103343465977813,3.120022416838008,3.3440537190288424,3.3440537190288424],\"marker\":{},\"line\":{},\"name\":\"book-to-market: 3\"}];\r\n",
       "            var layout = {\"width\":600,\"height\":600,\"template\":{\"layout\":{\"title\":{\"x\":0.05},\"font\":{\"color\":\"rgba(42, 63, 95, 1.0)\"},\"paper_bgcolor\":\"rgba(255, 255, 255, 1.0)\",\"plot_bgcolor\":\"rgba(229, 236, 246, 1.0)\",\"autotypenumbers\":\"strict\",\"colorscale\":{\"diverging\":[[0.0,\"#8e0152\"],[0.1,\"#c51b7d\"],[0.2,\"#de77ae\"],[0.3,\"#f1b6da\"],[0.4,\"#fde0ef\"],[0.5,\"#f7f7f7\"],[0.6,\"#e6f5d0\"],[0.7,\"#b8e186\"],[0.8,\"#7fbc41\"],[0.9,\"#4d9221\"],[1.0,\"#276419\"]],\"sequential\":[[0.0,\"#0d0887\"],[0.1111111111111111,\"#46039f\"],[0.2222222222222222,\"#7201a8\"],[0.3333333333333333,\"#9c179e\"],[0.4444444444444444,\"#bd3786\"],[0.5555555555555556,\"#d8576b\"],[0.6666666666666666,\"#ed7953\"],[0.7777777777777778,\"#fb9f3a\"],[0.8888888888888888,\"#fdca26\"],[1.0,\"#f0f921\"]],\"sequentialminus\":[[0.0,\"#0d0887\"],[0.1111111111111111,\"#46039f\"],[0.2222222222222222,\"#7201a8\"],[0.3333333333333333,\"#9c179e\"],[0.4444444444444444,\"#bd3786\"],[0.5555555555555556,\"#d8576b\"],[0.6666666666666666,\"#ed7953\"],[0.7777777777777778,\"#fb9f3a\"],[0.8888888888888888,\"#fdca26\"],[1.0,\"#f0f921\"]]},\"hovermode\":\"closest\",\"hoverlabel\":{\"align\":\"left\"},\"coloraxis\":{\"colorbar\":{\"outlinewidth\":0.0,\"ticks\":\"\"}},\"geo\":{\"showland\":true,\"landcolor\":\"rgba(229, 236, 246, 1.0)\",\"showlakes\":true,\"lakecolor\":\"rgba(255, 255, 255, 1.0)\",\"subunitcolor\":\"rgba(255, 255, 255, 1.0)\",\"bgcolor\":\"rgba(255, 255, 255, 1.0)\"},\"mapbox\":{\"style\":\"light\"},\"polar\":{\"bgcolor\":\"rgba(229, 236, 246, 1.0)\",\"radialaxis\":{\"linecolor\":\"rgba(255, 255, 255, 1.0)\",\"gridcolor\":\"rgba(255, 255, 255, 1.0)\",\"ticks\":\"\"},\"angularaxis\":{\"linecolor\":\"rgba(255, 255, 255, 1.0)\",\"gridcolor\":\"rgba(255, 255, 255, 1.0)\",\"ticks\":\"\"}},\"scene\":{\"xaxis\":{\"ticks\":\"\",\"linecolor\":\"rgba(255, 255, 255, 1.0)\",\"gridcolor\":\"rgba(255, 255, 255, 1.0)\",\"gridwidth\":2.0,\"zerolinecolor\":\"rgba(255, 255, 255, 1.0)\",\"backgroundcolor\":\"rgba(229, 236, 246, 1.0)\",\"showbackground\":true},\"yaxis\":{\"ticks\":\"\",\"linecolor\":\"rgba(255, 255, 255, 1.0)\",\"gridcolor\":\"rgba(255, 255, 255, 1.0)\",\"gridwidth\":2.0,\"zerolinecolor\":\"rgba(255, 255, 255, 1.0)\",\"backgroundcolor\":\"rgba(229, 236, 246, 1.0)\",\"showbackground\":true},\"zaxis\":{\"ticks\":\"\",\"linecolor\":\"rgba(255, 255, 255, 1.0)\",\"gridcolor\":\"rgba(255, 255, 255, 1.0)\",\"gridwidth\":2.0,\"zerolinecolor\":\"rgba(255, 255, 255, 1.0)\",\"backgroundcolor\":\"rgba(229, 236, 246, 1.0)\",\"showbackground\":true}},\"ternary\":{\"aaxis\":{\"ticks\":\"\",\"linecolor\":\"rgba(255, 255, 255, 1.0)\",\"gridcolor\":\"rgba(255, 255, 255, 1.0)\"},\"baxis\":{\"ticks\":\"\",\"linecolor\":\"rgba(255, 255, 255, 1.0)\",\"gridcolor\":\"rgba(255, 255, 255, 1.0)\"},\"caxis\":{\"ticks\":\"\",\"linecolor\":\"rgba(255, 255, 255, 1.0)\",\"gridcolor\":\"rgba(255, 255, 255, 1.0)\"},\"bgcolor\":\"rgba(229, 236, 246, 1.0)\"},\"xaxis\":{\"title\":{\"standoff\":15},\"ticks\":\"\",\"automargin\":true,\"linecolor\":\"rgba(255, 255, 255, 1.0)\",\"gridcolor\":\"rgba(255, 255, 255, 1.0)\",\"zerolinecolor\":\"rgba(255, 255, 255, 1.0)\",\"zerolinewidth\":2.0},\"yaxis\":{\"title\":{\"standoff\":15},\"ticks\":\"\",\"automargin\":true,\"linecolor\":\"rgba(255, 255, 255, 1.0)\",\"gridcolor\":\"rgba(255, 255, 255, 1.0)\",\"zerolinecolor\":\"rgba(255, 255, 255, 1.0)\",\"zerolinewidth\":2.0},\"annotationdefaults\":{\"arrowcolor\":\"#2a3f5f\",\"arrowhead\":0,\"arrowwidth\":1},\"shapedefaults\":{\"line\":{\"color\":\"rgba(42, 63, 95, 1.0)\"}},\"colorway\":[\"rgba(99, 110, 250, 1.0)\",\"rgba(239, 85, 59, 1.0)\",\"rgba(0, 204, 150, 1.0)\",\"rgba(171, 99, 250, 1.0)\",\"rgba(255, 161, 90, 1.0)\",\"rgba(25, 211, 243, 1.0)\",\"rgba(255, 102, 146, 1.0)\",\"rgba(182, 232, 128, 1.0)\",\"rgba(255, 151, 255, 1.0)\",\"rgba(254, 203, 82, 1.0)\"]},\"data\":{\"bar\":[{\"marker\":{\"line\":{\"color\":\"rgba(229, 236, 246, 1.0)\",\"width\":0.5},\"pattern\":{\"fillmode\":\"overlay\",\"size\":10,\"solidity\":0.2}},\"error_x\":{\"color\":\"rgba(42, 63, 95, 1.0)\"},\"error_y\":{\"color\":\"rgba(42, 63, 95, 1.0)\"}}],\"barpolar\":[{\"marker\":{\"line\":{\"color\":\"rgba(229, 236, 246, 1.0)\",\"width\":0.5},\"pattern\":{\"fillmode\":\"overlay\",\"size\":10,\"solidity\":0.2}}}],\"carpet\":[{\"aaxis\":{\"linecolor\":\"rgba(255, 255, 255, 1.0)\",\"gridcolor\":\"rgba(255, 255, 255, 1.0)\",\"endlinecolor\":\"rgba(42, 63, 95, 1.0)\",\"minorgridcolor\":\"rgba(255, 255, 255, 1.0)\",\"startlinecolor\":\"rgba(42, 63, 95, 1.0)\"},\"baxis\":{\"linecolor\":\"rgba(255, 255, 255, 1.0)\",\"gridcolor\":\"rgba(255, 255, 255, 1.0)\",\"endlinecolor\":\"rgba(42, 63, 95, 1.0)\",\"minorgridcolor\":\"rgba(255, 255, 255, 1.0)\",\"startlinecolor\":\"rgba(42, 63, 95, 1.0)\"}}],\"choropleth\":[{\"colorbar\":{\"outlinewidth\":0.0,\"ticks\":\"\"},\"colorscale\":[[0.0,\"#0d0887\"],[0.1111111111111111,\"#46039f\"],[0.2222222222222222,\"#7201a8\"],[0.3333333333333333,\"#9c179e\"],[0.4444444444444444,\"#bd3786\"],[0.5555555555555556,\"#d8576b\"],[0.6666666666666666,\"#ed7953\"],[0.7777777777777778,\"#fb9f3a\"],[0.8888888888888888,\"#fdca26\"],[1.0,\"#f0f921\"]]}],\"contour\":[{\"colorbar\":{\"outlinewidth\":0.0,\"ticks\":\"\"},\"colorscale\":[[0.0,\"#0d0887\"],[0.1111111111111111,\"#46039f\"],[0.2222222222222222,\"#7201a8\"],[0.3333333333333333,\"#9c179e\"],[0.4444444444444444,\"#bd3786\"],[0.5555555555555556,\"#d8576b\"],[0.6666666666666666,\"#ed7953\"],[0.7777777777777778,\"#fb9f3a\"],[0.8888888888888888,\"#fdca26\"],[1.0,\"#f0f921\"]]}],\"contourcarpet\":[{\"colorbar\":{\"outlinewidth\":0.0,\"ticks\":\"\"}}],\"heatmap\":[{\"colorbar\":{\"outlinewidth\":0.0,\"ticks\":\"\"},\"colorscale\":[[0.0,\"#0d0887\"],[0.1111111111111111,\"#46039f\"],[0.2222222222222222,\"#7201a8\"],[0.3333333333333333,\"#9c179e\"],[0.4444444444444444,\"#bd3786\"],[0.5555555555555556,\"#d8576b\"],[0.6666666666666666,\"#ed7953\"],[0.7777777777777778,\"#fb9f3a\"],[0.8888888888888888,\"#fdca26\"],[1.0,\"#f0f921\"]]}],\"heatmapgl\":[{\"colorbar\":{\"outlinewidth\":0.0,\"ticks\":\"\"},\"colorscale\":[[0.0,\"#0d0887\"],[0.1111111111111111,\"#46039f\"],[0.2222222222222222,\"#7201a8\"],[0.3333333333333333,\"#9c179e\"],[0.4444444444444444,\"#bd3786\"],[0.5555555555555556,\"#d8576b\"],[0.6666666666666666,\"#ed7953\"],[0.7777777777777778,\"#fb9f3a\"],[0.8888888888888888,\"#fdca26\"],[1.0,\"#f0f921\"]]}],\"histogram\":[{\"marker\":{\"pattern\":{\"fillmode\":\"overlay\",\"size\":10,\"solidity\":0.2}}}],\"histogram2d\":[{\"colorbar\":{\"outlinewidth\":0.0,\"ticks\":\"\"},\"colorscale\":[[0.0,\"#0d0887\"],[0.1111111111111111,\"#46039f\"],[0.2222222222222222,\"#7201a8\"],[0.3333333333333333,\"#9c179e\"],[0.4444444444444444,\"#bd3786\"],[0.5555555555555556,\"#d8576b\"],[0.6666666666666666,\"#ed7953\"],[0.7777777777777778,\"#fb9f3a\"],[0.8888888888888888,\"#fdca26\"],[1.0,\"#f0f921\"]]}],\"histogram2dcontour\":[{\"colorbar\":{\"outlinewidth\":0.0,\"ticks\":\"\"},\"colorscale\":[[0.0,\"#0d0887\"],[0.1111111111111111,\"#46039f\"],[0.2222222222222222,\"#7201a8\"],[0.3333333333333333,\"#9c179e\"],[0.4444444444444444,\"#bd3786\"],[0.5555555555555556,\"#d8576b\"],[0.6666666666666666,\"#ed7953\"],[0.7777777777777778,\"#fb9f3a\"],[0.8888888888888888,\"#fdca26\"],[1.0,\"#f0f921\"]]}],\"mesh3d\":[{\"colorbar\":{\"outlinewidth\":0.0,\"ticks\":\"\"}}],\"parcoords\":[{\"line\":{\"colorbar\":{\"outlinewidth\":0.0,\"ticks\":\"\"}}}],\"pie\":[{\"automargin\":true}],\"scatter\":[{\"marker\":{\"colorbar\":{\"outlinewidth\":0.0,\"ticks\":\"\"}}}],\"scatter3d\":[{\"marker\":{\"colorbar\":{\"outlinewidth\":0.0,\"ticks\":\"\"}},\"line\":{\"colorbar\":{\"outlinewidth\":0.0,\"ticks\":\"\"}}}],\"scattercarpet\":[{\"marker\":{\"colorbar\":{\"outlinewidth\":0.0,\"ticks\":\"\"}}}],\"scattergeo\":[{\"marker\":{\"colorbar\":{\"outlinewidth\":0.0,\"ticks\":\"\"}}}],\"scattergl\":[{\"marker\":{\"colorbar\":{\"outlinewidth\":0.0,\"ticks\":\"\"}}}],\"scattermapbox\":[{\"marker\":{\"colorbar\":{\"outlinewidth\":0.0,\"ticks\":\"\"}}}],\"scatterpolar\":[{\"marker\":{\"colorbar\":{\"outlinewidth\":0.0,\"ticks\":\"\"}}}],\"scatterpolargl\":[{\"marker\":{\"colorbar\":{\"outlinewidth\":0.0,\"ticks\":\"\"}}}],\"scatterternary\":[{\"marker\":{\"colorbar\":{\"outlinewidth\":0.0,\"ticks\":\"\"}}}],\"surface\":[{\"colorbar\":{\"outlinewidth\":0.0,\"ticks\":\"\"},\"colorscale\":[[0.0,\"#0d0887\"],[0.1111111111111111,\"#46039f\"],[0.2222222222222222,\"#7201a8\"],[0.3333333333333333,\"#9c179e\"],[0.4444444444444444,\"#bd3786\"],[0.5555555555555556,\"#d8576b\"],[0.6666666666666666,\"#ed7953\"],[0.7777777777777778,\"#fb9f3a\"],[0.8888888888888888,\"#fdca26\"],[1.0,\"#f0f921\"]]}],\"table\":[{\"cells\":{\"fill\":{\"color\":\"rgba(235, 240, 248, 1.0)\"},\"line\":{\"color\":\"rgba(255, 255, 255, 1.0)\"}},\"header\":{\"fill\":{\"color\":\"rgba(200, 212, 227, 1.0)\"},\"line\":{\"color\":\"rgba(255, 255, 255, 1.0)\"}}}]}}};\r\n",
       "            var config = {\"responsive\":true};\r\n",
       "            Plotly.newPlot('6ac2ab74-c2f9-4a74-acb8-e735af945df4', data, layout, config);\r\n",
       "});\r\n",
       "            };\r\n",
       "            if ((typeof(requirejs) !==  typeof(Function)) || (typeof(requirejs.config) !== typeof(Function))) {\r\n",
       "                var script = document.createElement(\"script\");\r\n",
       "                script.setAttribute(\"src\", \"https://cdnjs.cloudflare.com/ajax/libs/require.js/2.3.6/require.min.js\");\r\n",
       "                script.onload = function(){\r\n",
       "                    renderPlotly_6ac2ab74c2f94a74acb8e735af945df4();\r\n",
       "                };\r\n",
       "                document.getElementsByTagName(\"head\")[0].appendChild(script);\r\n",
       "            }\r\n",
       "            else {\r\n",
       "                renderPlotly_6ac2ab74c2f94a74acb8e735af945df4();\r\n",
       "            }\r\n",
       "</script>\r\n",
       "\n",
       "    \n",
       "</div>    \n"
      ]
     },
     "metadata": {},
     "output_type": "display_data"
    }
   ],
   "source": [
    "vw.Returns\n",
    "|> List.groupBy (fun x -> x.Index)\n",
    "|> List.map (fun (idx, xs) -> makeCumulativeChart xs)\n",
    "|> Chart.combine\n"
   ]
  },
  {
   "attachments": {},
   "cell_type": "markdown",
   "metadata": {},
   "source": [
    "## Start of assignment\n",
    "\n",
    "> **Task:** How many stocks are in the tercile 3 portfolio held during September 2017? Assign the result to a value named `nStocksSept2017`. Remember that this portfolio\n",
    "was formed at the end of August 2017.\n",
    "> \n",
    "\n"
   ]
  },
  {
   "cell_type": "code",
   "execution_count": 21,
   "metadata": {
    "dotnet_interactive": {
     "language": "fsharp"
    },
    "polyglot_notebook": {
     "kernelName": "fsharp"
    }
   },
   "outputs": [
    {
     "name": "stdout",
     "output_type": "stream",
     "text": [
      "Number of stocks in the tercile 3 portfolio held during September 2017: 1282\n"
     ]
    }
   ],
   "source": [
    "let nStocksSept2017 =\n",
    "    vw.Portfolios\n",
    "    |> List.filter (fun p -> p.FormationMonth.Year = 2017 && p.FormationMonth.Month = 8 && p.Index = 3)\n",
    "    |> List.head\n",
    "    |> fun p -> p.Positions.Length\n",
    "\n",
    "printfn \"Number of stocks in the tercile 3 portfolio held during September 2017: %d\" nStocksSept2017\n"
   ]
  },
  {
   "attachments": {},
   "cell_type": "markdown",
   "metadata": {},
   "source": [
    "Tests.\n",
    "\n"
   ]
  },
  {
   "cell_type": "code",
   "execution_count": 22,
   "metadata": {
    "dotnet_interactive": {
     "language": "fsharp"
    },
    "polyglot_notebook": {
     "kernelName": "fsharp"
    }
   },
   "outputs": [],
   "source": [
    "nStocksSept2017 |> should equal 1282\n"
   ]
  },
  {
   "attachments": {},
   "cell_type": "markdown",
   "metadata": {},
   "source": [
    "> **Task:** What is the minimum and maximum weight of a stock in the tercile 3 portfolio held during September 2017? Do it for both the value and equal weight portfolios.\n",
    "Assign the results to values named `vwMinSept2017`, `vwMaxSept2017`, `ewMinSept2017`, `ewMaxSept2017`.\n",
    "> \n",
    "\n"
   ]
  },
  {
   "cell_type": "code",
   "execution_count": 23,
   "metadata": {
    "dotnet_interactive": {
     "language": "fsharp"
    },
    "polyglot_notebook": {
     "kernelName": "fsharp"
    }
   },
   "outputs": [
    {
     "name": "stdout",
     "output_type": "stream",
     "text": [
      "Value Weighted Portfolio:\n",
      "Minimum weight: 0.000000\n",
      "Maximum weight: 0.064677\n",
      "Equal Weighted Portfolio:\n",
      "Minimum weight: 0.000780\n",
      "Maximum weight: 0.000780\n"
     ]
    }
   ],
   "source": [
    "let vwPortfolioSept2017 =\n",
    "    vw.Portfolios\n",
    "    |> List.filter (fun p -> p.FormationMonth.Year = 2017 && p.FormationMonth.Month = 8 && p.Index = 3)\n",
    "    |> List.head\n",
    "    |> fun p -> p.Positions\n",
    "\n",
    "let ewPortfolioSept2017 =\n",
    "    ew.Portfolios\n",
    "    |> List.filter (fun p -> p.FormationMonth.Year = 2017 && p.FormationMonth.Month = 8 && p.Index = 3)\n",
    "    |> List.head\n",
    "    |> fun p -> p.Positions\n",
    "\n",
    "let vwMinSept2017 = vwPortfolioSept2017 |> List.minBy (fun p -> p.Weight) |> fun p -> p.Weight\n",
    "let vwMaxSept2017 = vwPortfolioSept2017 |> List.maxBy (fun p -> p.Weight) |> fun p -> p.Weight\n",
    "let ewMinSept2017 = ewPortfolioSept2017 |> List.minBy (fun p -> p.Weight) |> fun p -> p.Weight\n",
    "let ewMaxSept2017 = ewPortfolioSept2017 |> List.maxBy (fun p -> p.Weight) |> fun p -> p.Weight\n",
    "\n",
    "printfn \"Value Weighted Portfolio:\"\n",
    "printfn \"Minimum weight: %f\" vwMinSept2017\n",
    "printfn \"Maximum weight: %f\" vwMaxSept2017\n",
    "printfn \"Equal Weighted Portfolio:\"\n",
    "printfn \"Minimum weight: %f\" ewMinSept2017\n",
    "printfn \"Maximum weight: %f\" ewMaxSept2017\n"
   ]
  },
  {
   "attachments": {},
   "cell_type": "markdown",
   "metadata": {},
   "source": [
    "Tests\n",
    "\n"
   ]
  },
  {
   "cell_type": "code",
   "execution_count": 24,
   "metadata": {
    "dotnet_interactive": {
     "language": "fsharp"
    },
    "polyglot_notebook": {
     "kernelName": "fsharp"
    }
   },
   "outputs": [],
   "source": [
    "let tol = 1e-6\n",
    "vwMinSept2017 |> should (equalWithin tol)  1.134675008e-07\n",
    "vwMaxSept2017 |> should (equalWithin tol)  0.06467652288\n",
    "ewMinSept2017 |> should (equalWithin tol)  0.0007800312012\n",
    "ewMaxSept2017 |> should (equalWithin tol)  0.0007800312012\n"
   ]
  },
  {
   "attachments": {},
   "cell_type": "markdown",
   "metadata": {},
   "source": [
    "> **Task:** Plot a histogram of the Sept 2017 (formed August 2017) position weights for the stocks in the value weight tercile 3.\n",
    "> \n",
    "\n",
    "> **Task:** Calculate the total weight put in quintile 3's top 10 positions in Sept 2017 (formed August 2017) when using value weights. Assign it to a value named `topWeightsSept2017`.\n",
    "> \n",
    "\n"
   ]
  },
  {
   "cell_type": "code",
   "execution_count": 25,
   "metadata": {
    "dotnet_interactive": {
     "language": "fsharp"
    },
    "polyglot_notebook": {
     "kernelName": "fsharp"
    }
   },
   "outputs": [
    {
     "data": {
      "text/html": [
       "\n",
       "<div>\n",
       "    <div id=\"e9985f69-8aa6-41ef-8ad8-2794d6c37d18\"><!-- Plotly chart will be drawn inside this DIV --></div>\r\n",
       "<script type=\"text/javascript\">\r\n",
       "\r\n",
       "            var renderPlotly_e9985f698aa641ef8ad82794d6c37d18 = function() {\r\n",
       "            var fsharpPlotlyRequire = requirejs.config({context:'fsharp-plotly',paths:{plotly:'https://cdn.plot.ly/plotly-2.6.3.min'}}) || require;\r\n",
       "            fsharpPlotlyRequire(['plotly'], function(Plotly) {\r\n",
       "\r\n",
       "            var data = [{\"type\":\"histogram\",\"x\":[0.00018203832116015035,4.12493262790587E-05,0.00025440160492770924,0.00020719554568064493,9.314739442752872E-05,0.001138870022691873,7.449391237843605E-05,4.191660855437099E-06,0.0010615978444143946,0.004637917974365213,0.0001381713027198045,0.0001148871783227784,7.949152540844266E-06,7.106262091665181E-06,1.664696304959363E-05,0.0007368365067698126,8.30062767767035E-05,0.00020983434339757803,0.00025422227473227986,0.0009842739563447427,0.0023969882522813374,0.00020222924816815695,2.3310000418629204E-05,0.002775072586448122,0.0002558827791668418,4.182293980427672E-06,7.686961413553916E-05,6.230412262938475E-05,2.626299971640061E-05,5.525593193184999E-05,0.0007651452948351768,0.0001343468856538488,0.00015207231117559978,0.002625357134403625,4.940983767321921E-05,8.498693582188219E-05,1.3629203900297264E-05,2.919584027881313E-05,0.00014670389283549315,7.473349300161752E-05,1.0680783572259049E-05,0.0001555137039687656,1.3976267144401865E-05,9.122706347321906E-06,1.6829303867904741E-06,0.008668950930081201,0.001943198642157815,0.0038083641991726973,2.990242342180078E-06,4.06782119689596E-05,0.002927164076098316,5.896118819000248E-05,6.134713070244666E-05,9.979869692426367E-06,7.231065888887164E-05,0.000799167507585613,0.00014467758440871504,0.00010129375922994249,0.0002739118922877788,0.00013751641666981894,0.012152652313620732,0.0005919646704169074,0.002581679097342887,0.00034004070095480364,6.241333523799554E-05,5.930771793403271E-06,0.00018006845238650916,2.4186522725907676E-05,0.0007465905517086457,7.705896858363775E-05,2.22286150085372E-05,4.5792381261326185E-05,0.001288699339773354,3.838991471147727E-05,3.1155578159100445E-05,0.00013342978423652407,2.4290532708480815E-05,0.0008414541609496932,0.004161998170051584,6.30604062725375E-05,0.0002639091763616623,3.4244084540958665E-05,2.8059637391149287E-05,1.6921969660701518E-05,2.982946310525636E-05,0.00038322007922992604,0.00027210058630575693,0.0001675809119150279,0.00044327387752241454,0.051263535535597066,0.00012316998927255627,0.0006913468893602429,0.0006173092633665435,1.744220870366061E-05,0.006761956385259449,8.866878800268667E-05,0.0003578511182488843,1.366482626109125E-05,1.2524840835460184E-05,7.86653196061808E-06,0.00040144622684931084,8.105381331945996E-05,0.00013433947640119543,4.857433864770401E-05,0.007573584769309335,0.00019587415299359242,2.083406289087429E-05,0.0007187374813740897,0.00010049997826836974,0.004784842996845993,5.703087482557991E-05,6.189612671214069E-06,0.00026224670751897846,0.0008486139364206016,0.0001461025688893278,0.0004559741750027216,3.941925544132795E-05,4.096215694904148E-05,1.721975278967771E-05,0.00010204322609340535,7.143025333070415E-05,2.791188835442372E-05,0.064676522880998,2.1667414084106042E-05,2.28196626962801E-05,2.07766131763859E-05,0.005082553856010949,1.6148249504868326E-05,3.279365941608145E-05,0.0018359170985790454,1.5097321679938605E-05,0.0075315401109903,0.0005564722248958571,0.00036982930489284254,0.0013673510157073275,9.014757670046106E-05,0.00010358208024377271,3.994419272128066E-05,0.0008556537813622615,0.0016356935897047242,0.00019740793422741998,3.733047309131464E-05,0.002184986500989471,1.069502727384104E-05,0.008700744030877111,0.0005587862882199359,0.0004088235857360653,2.840448728151504E-05,8.4300393538442E-05,0.00037936890177652394,2.576118226872914E-05,1.354233180837945E-05,0.00027030575460685685,0.00033284535712713626,8.18946309116161E-05,2.1837013088555157E-05,4.767461106779599E-06,0.00019155047905958312,2.7266415528794187E-05,5.4312000279614335E-05,0.000224995903370637,3.2450467099209825E-05,1.8243071732432455E-05,3.017476912639953E-05,0.0004802343405771013,0.0010078980519320298,0.00295419779763715,3.965811727927869E-06,0.00025081993118929104,2.9418498801199396E-05,1.591152581486959E-05,4.984813102471762E-05,0.00019848255685761052,1.4282515588108869E-05,0.00014760602253443555,0.00015165492259331103,0.0002769089974678041,1.949355086858312E-05,0.0007531447628263944,0.00018505945924287618,0.0003834588386150876,3.4495307113287717E-05,0.0004776373492601937,0.0004711953716392356,1.697080389397131E-05,0.00031980434023271703,0.00013133991022893916,0.0037848077325774994,4.2818783535565574E-05,0.00013072664903138287,4.520069623291064E-05,1.872982128228265E-05,1.5466650385802534E-05,8.320820840320961E-05,0.0006745983727494142,0.00014988359044202604,2.8681847373224423E-05,0.00018785278495776897,1.4716802117288068E-05,2.174530929863273E-06,4.230535352074646E-05,6.932498866554536E-05,0.0005940376769786657,2.0444250342776554E-05,2.3474902856996365E-05,5.791616070562532E-05,0.00017789303031009223,0.0024062027568496603,4.8739500794235855E-05,0.000906748797895245,4.188809432643192E-05,5.532901806927655E-05,0.00017322062075565873,0.013309688018566718,0.000384269379524406,3.1869056571958798E-06,4.156671341669495E-05,1.239597903724741E-05,1.327953155765162E-05,1.9615367082213E-06,0.00017511906313514626,2.291401673046314E-05,3.9215769072260984E-05,2.269647297121728E-05,0.00025398310747723626,0.0007952592054376445,0.013309068178484583,0.00040574428276317776,4.161170547260415E-06,3.849062117044383E-05,0.0003339159190698951,0.00037610578175640235,2.8064927245125602E-05,1.450022910372982E-05,1.629969212429248E-06,0.000270862404987477,0.000774694747630665,0.0006694820120815704,1.0196666372970847E-05,2.3112947201036672E-05,0.0007351757561169222,1.6140484611517193E-05,0.00018760794437826215,4.4001061514215563E-05,2.7859716358923233E-05,0.0006225802240293687,0.0005974465876918518,0.0005253725872234849,0.0004561450779228982,3.86976544301987E-05,7.074125970478553E-06,0.0007617723301577672,0.00019621852904916083,1.7975232422611556E-05,3.5280743239068973E-06,0.00042603301411966613,5.724521507528212E-06,6.228324782051308E-06,3.157023838509188E-05,0.0003371839238020062,1.854143776631493E-05,0.0006240938875413076,1.2603482900992923E-05,0.0006829504586151058,0.00011478848720410387,7.596419547659399E-06,5.2325599405222856E-05,1.0161826115516343E-05,0.0017706299242165999,6.009071858523321E-05,2.75230699290041E-05,1.780706856486171E-05,0.0010055911138137092,8.857941281815614E-05,0.003892791396676986,0.000813722279616088,1.5430504257190836E-05,5.1749361982480423E-05,0.0029433917006673137,0.00013935609904726118,1.4183438106650512E-06,3.3607832575549605E-05,3.733871985229563E-05,3.65443129873931E-05,0.0013560838817120642,0.0052825976696088866,4.281553978097288E-06,1.7224019136144956E-05,1.5624752597283445E-05,0.00010158463912031796,2.480584877874795E-06,1.959469209864445E-05,0.0002410096013189288,6.294431227012507E-05,0.0005912335213497903,2.3759309929186415E-05,7.09748534917003E-05,2.43008661859721E-05,8.469651785779768E-05,3.63711044780616E-05,0.0014743155592750145,0.007856012371108776,0.00042930463686186905,5.206765287241786E-05,6.251439963362152E-05,0.0017849270710498146,2.4889566047682423E-06,8.618705095548664E-06,1.9494643517822512E-05,0.00010548516901750459,0.0011335513426481436,0.0020308363923522183,1.505164274020903E-05,0.0002612144910880662,4.266266524140963E-06,1.4167058601610032E-06,0.00034263982000978056,5.341093514937425E-05,0.0002652475486415275,0.007298466730859378,0.019892760163255398,1.6830850463583197E-05,0.0004029470594663407,9.454804377122958E-06,0.00015915500975404516,0.00048006357957218655,8.409095912017925E-06,8.20921551693794E-06,3.571945263200216E-05,0.008729320946212881,4.021787192784507E-06,0.00024200579375975622,5.225112468418602E-05,0.04123999839192079,0.046510592562323115,0.00010728001487557628,0.0002762873310709272,0.0006532892604481501,0.002096543918729471,0.0006595889939634071,2.6812721477670166E-05,0.0004969964435217608,0.0001434967290244019,0.010744144659806196,7.727069444806108E-05,3.273201301776482E-05,0.00042682378599843496,0.004700400477023064,4.1517411439983526E-05,3.389397661329842E-05,0.0008306689984627009,0.0014424938420086817,0.0034138376751975314,1.5059583745991834E-05,0.00012398566569845384,0.00047615198846017104,0.00014585484248177692,0.00020186126541268208,0.00033816545703124084,2.6737374331651003E-06,0.00014774601017938406,2.8062136151281983E-06,0.0010318198369237575,8.12424902263244E-05,0.00023946341290370594,0.00017348214858419958,2.9538646633895464E-05,2.2443803308092553E-05,2.034851657598213E-05,0.0002837529791669131,0.0005793555560807194,0.0005626306459352266,0.010512798011279226,3.753510047688209E-05,0.0073230899585838855,5.981390587027391E-05,0.00012462274113434857,1.020190356097614E-05,0.0011498654627493073,0.00032783022030029443,0.0002472655537130173,7.164137713914286E-05,0.0013175528285215461,2.002406575805047E-06,4.4601512594567485E-06,0.0005389801842192091,0.00015452030161474558,0.0003702768280384689,0.00046109358876974854,0.0007577669665244192,0.0002387090297724305,0.0004783784319709879,3.7005922005336624E-05,5.470433063862394E-05,0.003091233655288296,0.004037005499348461,6.128361251502817E-06,0.016898074589913104,0.001096045131916528,0.00014465934300354684,0.00044804752266053906,0.00043793859816534605,3.6311358175057097E-05,3.600800432748445E-05,7.751352575578114E-05,1.7176172698009162E-05,5.1719075690333406E-05,0.0053474982789107365,0.00044314367275690466,0.0007488498826153347,1.3327052342120147E-05,3.348923047062048E-05,7.054480845824689E-06,7.738231636044442E-05,0.0001543855689900273,1.763575150428394E-05,8.188851617770785E-05,8.110756246306563E-06,2.2005964562662137E-05,6.21417760771997E-05,1.4771886406067472E-06,4.7082705544962664E-05,9.770513013313822E-05,7.102016626639496E-05,9.38425468745106E-05,1.3673392352239713E-05,2.8760770931460528E-05,5.871311972177852E-06,0.00018104442806606667,0.00013231690696433764,0.0006892305686145221,1.6223292493398744E-05,0.012800333118893928,4.968876828641206E-05,3.278814631350403E-06,0.00042282133848308134,2.816150502149541E-05,5.607248926973977E-05,0.0003281016954200774,0.0076669920560031345,0.00026786359464037526,1.1218504721159142E-05,0.002198778003886186,0.0001101468848363465,5.691335153547762E-05,8.136780043394259E-06,6.574522747288478E-05,5.16233742801378E-05,0.00044175097133922615,1.8040912214039047E-05,0.001163616023214301,0.00025292270313249,8.770759417272271E-05,0.00012484624266129616,0.010767275856632483,0.003983192333922002,0.009753815638308357,0.00019086312837682349,4.466016934709217E-06,1.7195668983926184E-06,3.303522487929997E-05,0.00012061473261142237,6.663667514252587E-06,0.00021046890537829578,0.0006055324681692125,1.8691998517466903E-05,5.405458900879263E-05,5.856437444719438E-05,3.086363833886009E-06,0.0007829896632627237,0.00023570568444609128,9.647992994015543E-06,1.5481664707882537E-05,6.384393630932131E-05,0.00045120121531652517,0.017503707600495487,1.8470510239087937E-05,1.7556887553288848E-06,0.0004497026571251264,0.002688585200759807,0.0029230735955613134,0.00045124641965485626,0.00019519496159717145,1.2842863724957157E-05,2.6038599905075276E-05,0.00033184148627795436,0.0015304409020772793,7.603173852886137E-05,1.6032319929021133E-05,4.0737464654365304E-05,0.00012751481923737324,3.755489649317069E-05,2.70024210924812E-06,1.1736792154455802E-06,8.89867363870756E-05,0.005045180276860531,0.0008395584956059856,0.00024046741468781524,1.0268129335075894E-05,0.00013354604286306687,1.2414649202030052E-05,3.9641344250173264E-05,0.00251015509165584,0.0010064345584781826,6.917853496451796E-05,4.834865886101577E-06,7.247557708998412E-05,1.4512483994761572E-05,2.9439126793183025E-06,1.352482921471164E-05,4.313269500909229E-06,0.006082118012972917,7.128258430482451E-05,1.5564350755370216E-05,0.000670227409760481,0.00013322456912602727,3.03018415401906E-05,9.37937154061416E-06,1.2638304483587994E-05,2.9475473131915094E-05,1.4341550122174796E-05,0.0003525853058867404,7.222607982545542E-05,0.0002905304592084913,0.00022956143107140877,0.0002531173573451762,0.0004985165851074817,7.885502674545306E-05,0.004791690089740972,0.00026395799551507055,4.3351978170600974E-06,0.0012791565028214792,3.5849982029179074E-05,1.8201825644719122E-05,0.0005063756670193585,6.628982741569408E-05,0.0002830073923350588,8.103596750965624E-05,0.0004894110764752362,4.171583807700067E-05,8.082314800796563E-05,4.208835073811098E-05,6.018448892465387E-05,0.012356543881497194,2.000684747112533E-05,0.00042071160415853103,0.00029293979693312955,0.0008314076132068307,0.0010676418909535276,1.7022945710740412E-05,0.004703396617591829,0.00028909946900058345,3.923928650791263E-06,1.2976854657404415E-05,0.0005929723361343855,0.0017449892132434248,0.0010179162257424638,5.038428147883505E-05,0.00016947151559349957,9.679128273893997E-05,3.611320877429654E-05,1.9018829024824887E-05,1.262859851320243E-05,0.0002375241720117214,4.3556380240918715E-05,0.0006836345953499266,9.557622831634982E-05,9.497301366376604E-06,3.301916480149069E-05,8.618774046791413E-06,3.3149218948357536E-05,1.6018544865687035E-05,6.06231873372526E-05,0.0001339321207426024,0.0005234914244749976,6.005513555971801E-05,1.6826402629578015E-05,2.3922920740498756E-05,0.0004569202879984935,6.646074921274397E-05,0.00025398885498467726,6.173924683978204E-05,1.8079025538726052E-05,2.250771402325724E-05,1.5717657191526332E-05,0.003409884907467325,0.0017547000994013718,0.0008064131470677945,0.00013722258440612386,3.819391769488467E-05,6.000728581615779E-06,0.0003702025155008141,1.9170137224733713E-05,1.8707324587217122E-05,0.00048060217007299096,0.00021287689151071562,5.3412148445998986E-05,0.00012379255754719118,0.000389881967956083,0.00026973470548920757,0.00010948818303520752,0.005279582334485302,3.342308655359967E-05,2.920374560194664E-06,0.00023897863508078512,0.0007639381903708808,5.100901303506375E-05,0.0011224217985527287,6.766449112655257E-05,0.0023386646063006406,0.0006889906203806626,0.00015264785464322688,0.05096644447243113,7.211958863712959E-06,0.00011206978220623082,0.00028731205234378384,0.0002659840183581113,5.075624194236336E-05,1.8165415772113735E-06,7.199007654872929E-05,1.2921790949977877E-06,1.6144832644999644E-05,0.0007605794868224415,6.256161542362883E-05,4.3103833859204996E-05,8.060334033630391E-05,8.976777294156705E-06,6.35213248397708E-05,0.0001203667057612948,4.758144929976285E-06,1.892273661321024E-05,0.000854143208683031,0.00035572128089344525,0.005998922101035763,0.00026967473842486007,0.0004909319111768756,1.3268187534501324E-05,8.250528371555666E-06,0.0002607574971107601,6.384678370012831E-06,1.7074788158295897E-05,2.5831279696624338E-05,8.968324661004429E-05,1.6208975286465118E-05,0.0004991372775304931,3.012736768987566E-06,1.699506606989731E-05,0.0004700962726363174,2.2175038844631308E-05,0.0008027582351658827,0.0008482026510681468,0.0003050897394650132,2.671259603612478E-05,0.003039892492961851,4.673484923497915E-05,4.908102894739052E-06,0.00018426480064521214,0.0003402593791281942,6.394578451681063E-05,0.00014845736090674942,1.835030258459957E-05,0.006667931398334331,6.579780841607912E-05,1.146437948922963E-05,1.3492001931418525E-05,1.0196221440314622E-05,0.0001248852301688301,7.036230552652055E-06,1.161861134291811E-05,2.8074167584823387E-06,0.0001448617317820217,0.0004174261408361896,0.000127218065697151,0.0013383700039633767,4.8279069252356375E-05,2.3299935639830595E-05,8.994713949140764E-07,3.238417048072015E-05,6.374293649343034E-05,2.6073744465411907E-05,0.00013647780501508473,0.0010129525037553858,2.4310096228825864E-06,0.000779275145049994,3.540795983900876E-05,7.207952820127961E-06,1.5879577786407723E-05,2.9571689206361617E-05,5.959843542465496E-06,4.868296308651002E-05,3.019133395582631E-05,0.00027115220573947985,7.806538167548117E-06,2.424621035590957E-05,7.09796703925415E-06,9.157401773760532E-05,7.494623723240769E-05,9.002944233351373E-06,5.7105958403128957E-05,3.9456370749261325E-05,0.00014383335841154776,1.1569284934456984E-05,0.0003669065660197341,0.0008294425711779107,1.2638455568541324E-05,0.0002492096476095063,0.0011917237442887773,7.177280536061449E-05,9.03450999188336E-06,0.00036919605209962607,0.0008338379577065702,0.002136491196267531,9.333850749650865E-05,3.5372955028199524E-06,0.0005495347308870985,1.4236791758021908E-05,0.00018291255701196167,2.242706102190144E-06,9.733065523570698E-06,1.3797366357700594E-05,2.9712458713810222E-05,1.611950507795844E-05,6.936311424715708E-05,0.000512360539140829,0.00018570665910727595,6.820749192014452E-06,0.00013522934026779935,0.0004740847507800959,6.740890985687482E-05,0.0009915509390804036,0.00012451814537823148,0.0006772065113908345,1.681193322772687E-05,1.899213198440412E-05,1.2997743416558464E-05,2.5292461298270698E-05,0.0003412940469844935,0.0001608240859492885,0.00881422805915276,0.00022474803352311482,6.5645775230993795E-06,0.0009598346005286992,0.000223121778167227,0.0008037203156103331,0.0011595286577759391,6.334379173279224E-06,0.00035686448658545967,3.7514938720414606E-05,1.5496427314996015E-05,0.015513319729658283,5.934622001574222E-06,0.0003637630593731232,1.3696828388831883E-05,2.872783012020445E-06,5.3621039171889066E-06,2.1468798662178414E-06,3.330636606749723E-05,0.0007068557936705308,4.5383602239975144E-07,0.00016914640274916216,6.831674476571571E-05,2.934860019015561E-05,5.228621054523195E-06,1.5175913362924568E-05,6.686422763435492E-05,2.5846859023845516E-06,8.757809671870188E-05,9.548753553028423E-06,3.0889064619714685E-05,4.101136760496028E-05,1.2954701509300341E-05,0.00166221143681014,0.00022655071664646803,1.9513745578995794E-05,0.0028740162113607896,2.006332315148782E-05,6.779780249358248E-05,1.91833510934869E-06,0.0002039245268770586,6.751493915935291E-06,0.0007744115949757445,4.077627873732402E-05,3.83577463839384E-05,0.0019431224525289518,0.0006769192161772481,1.387706015788616E-05,0.03748106658469155,0.0007016042525077193,5.040802579084471E-07,0.00025507451308758673,4.487832485454055E-06,5.7469794871073084E-05,1.0018675008305886E-06,1.1322167079083093E-05,5.128968624148954E-06,4.563865365088392E-05,4.3565500892948796E-05,2.5496356303618718E-05,6.027528370870073E-06,8.743096254430681E-06,2.187445432436083E-05,0.0001063028858423138,4.170104646643581E-06,0.0024404135521731486,5.938063893774433E-06,1.6861789842162027E-06,0.0002343852625258,7.378021195049482E-05,3.4160285728380204E-06,7.2059866585902445E-06,5.028917585592485E-05,0.0008825783061239833,3.358538440608037E-05,2.412677720345733E-06,6.838220855313624E-06,6.653221367812354E-06,0.00012951282786819127,0.00024317854197084297,3.567714932027764E-05,8.09012073896143E-06,0.00011379256273196896,0.00025245173592128105,4.528406623006302E-05,0.00016935873445707777,1.9877742413207997E-05,4.44108208003751E-05,7.020123020587407E-05,0.0001530060471767964,1.2968624297564982E-05,0.0017534599428159652,0.0005489689785371941,0.0012931679211912607,0.0001389273167178932,0.00039689696312691263,4.717015014403691E-05,0.0005238348666278437,4.291116635301051E-06,4.445086453317488E-06,1.2112997407001356E-05,1.3123597727250221E-05,0.0002364843528821641,0.0007228307017168655,0.00014631908100874174,4.503574888841323E-06,0.0028735110963609527,0.0002648026479758906,6.30243446298141E-05,3.1162026683043115E-05,0.0007639000003834399,0.00012123790901256936,1.6491892487020507E-05,0.00046331209839238507,2.141134311779974E-06,1.5038104328966073E-06,0.00037882841400334436,0.0017173203834370686,4.924716932039254E-05,0.003354205183460748,4.527998843717105E-06,1.099989886186517E-05,1.3712819734398455E-05,0.0031705210591406008,0.0009296606119665724,1.1014982548315424E-05,9.794579530801742E-06,0.002500226621070967,3.383650769030231E-05,0.007352280598582368,2.3493466691698274E-05,8.889419937176264E-05,0.00016542232833113575,0.007786695083236907,0.0030505561147334223,0.00010552608246963524,0.00030750371653262017,4.937470068789784E-05,2.2813465522910527E-05,0.00551536705523724,0.00010149714435345045,0.0008232741327167322,4.690962818895199E-06,0.0004381036150600503,0.00015252345817940758,8.927064090371505E-06,0.00010111245124777376,0.0001398699976412811,0.0012805421850755243,1.4087465813828308E-05,6.459924475317897E-05,0.0023569896897060304,0.0001556109882154054,1.0183501895501092E-05,0.001523783452560813,5.5352229005979186E-05,3.890951347010389E-06,0.0013713280954955216,1.3985366869087329E-05,0.0007907669151117236,1.2094383163869014E-05,3.518754149291204E-06,0.00026323949100072263,0.00010794320915012763,0.0003743609716485305,2.3915715550182556E-05,5.892738830811559E-07,7.015790582213124E-05,0.0001587570826599218,0.00017253700588600447,0.0010241436423099111,9.4664823098174E-05,0.0020558660113545843,0.0010382588632613405,6.573797050311297E-05,9.393127306465442E-05,7.333642088304233E-06,5.1088281770123106E-05,7.170445756711699E-06,2.992863169052946E-06,1.4549671484946603E-05,0.00011536500962617913,9.000515991029588E-05,0.0005469842174251024,0.0002089889587122449,6.990380322536029E-05,5.282693582729232E-06,5.359945471593239E-06,0.00011013055174455288,1.6886040802576243E-05,3.222030431293369E-06,4.559229051519043E-05,3.6334796944599917E-06,3.993723916059578E-05,9.955674827366081E-06,0.00017522507190460113,0.00012475887054658443,0.011048682377920534,2.3326153877813205E-05,2.6467642033605184E-05,1.889283685451744E-05,2.8994979750567333E-06,1.60920366552916E-05,1.2655168820139771E-05,9.874808609754532E-06,0.00011650867123259974,4.072546453803194E-06,0.0003580408062767125,3.52724550723185E-06,0.0012560864559630815,6.356218159252801E-07,2.5345297642426695E-05,0.0024361906785284,9.037021484755268E-06,1.5134581618491693E-05,4.047678869756196E-05,0.0019109755703719008,0.00014253281634634183,1.6825350151376575E-05,7.19230121763571E-06,2.9783805647145746E-05,6.453611471552802E-05,0.0010353953906524493,1.569589313511241E-06,0.00018487488791541862,1.843675003321397E-06,7.458287216660117E-05,3.4446728520201246E-05,6.165124312126855E-06,0.0001947102725531868,4.631699030207653E-06,2.967192726812187E-05,9.019385260821588E-05,1.8827360966889674E-05,6.777425340706622E-05,4.1600302273944225E-05,6.788215361900613E-05,3.767574177729851E-05,2.167772899613681E-06,0.00024808569762246104,4.28076935918947E-06,1.0398583220108556E-05,4.921434434054306E-07,1.6699701955313206E-05,4.797330243887753E-05,1.943675934446101E-06,1.547026023384564E-05,0.00028833753633327673,5.499582667742434E-05,1.0837165687048596E-05,0.0001455182028968729,0.00011002448712907653,0.00014732644150932108,9.183836212506377E-06,4.035788562833859E-05,1.3216931331046649E-06,2.6499133123234073E-05,2.1510899446386012E-05,7.262959357624194E-05,6.967224149189854E-06,1.9153909667704895E-06,9.773868217087925E-05,8.036276368556862E-06,0.0014183394752731084,0.00012284003768601624,0.00011739387351246338,1.8497839789643055E-06,5.417339166760951E-06,1.1221081032785498E-05,9.758318495517686E-06,3.1170317124724756E-05,0.00013011501079399017,1.9423543761319697E-05,1.5458855279545502E-06,0.0001513571536431214,0.0008710603616141683,0.00010210952731635571,1.7722890531772216E-05,9.572263537623279E-07,3.964350006190418E-05,0.000125770002432104,0.002191676597749964,3.788128828359105E-05,8.171718626609446E-05,2.205991598708109E-05,0.010065136158145045,3.3252466715747246E-05,5.740892792686276E-06,3.490763700898391E-05,2.6835137330983807E-05,0.00023235293078296997,9.167972620603476E-06,1.7513813883745036E-05,9.721189419700866E-05,0.00024467913720638816,0.0005848309263868554,5.441376283442844E-06,3.3484965783538585E-06,1.1415078981820416E-06,9.331059948211733E-06,0.0004686113217283379,6.5644602422077424E-06,7.344323979491948E-05,1.3622214513187437E-05,0.00036803483841644813,7.753306747318584E-05,2.250402406669784E-06,1.3448988652905344E-05,7.8055614862112E-06,0.0002192277234177553,7.083300455671006E-06,7.451899248756416E-05,0.00013419527141199933,0.0006301663880904461,1.6488296964370648E-05,3.363711150593017E-05,2.134934862063716E-06,0.00025024923746644475,1.2326446820753819E-06,5.25795275542051E-06,0.0012282496145426267,7.380483368222458E-06,1.7723169632056854E-05,0.0001269921683744666,0.000612681078945245,0.00017025808214572393,9.724420785119509E-06,7.235039435333149E-06,0.00037856772802268875,2.4071653372532063E-05,4.445822157160799E-05,1.053126029487359E-06,6.533452837524838E-06,1.3259724312100542E-05,6.651127108034728E-05,6.8651720979589885E-06,6.883468368400567E-06,2.7793592430964322E-06,2.1925138648337864E-05,3.757919425852436E-05,0.000376597676716659,0.00016757000232183383,0.00018724780059881698,3.6495721025799977E-06,3.3455987787119844E-06,8.640825753389071E-06,3.892801493124849E-06,1.8343903713810183E-05,7.151170370857956E-06,5.019185816476358E-05,6.004483796345225E-06,0.000944126474611246,5.702308261809072E-06,3.449021243627294E-05,6.246947058622819E-05,8.770193158189033E-07,0.0008252792969888544,0.00011916789687699167,9.196828667971813E-06,5.394535401283696E-06,0.0001099466652017103,2.3458159986400717E-06,6.537881026842151E-06,0.0013892338579253548,4.406713346454708E-06,6.692823397144877E-06,1.789220203223984E-06,5.5009654639277985E-06,1.010279727626034E-05,9.624659854076874E-07,6.223807252648112E-06,1.5604612884393472E-05,0.00030169460053804684,8.639253075270857E-05,5.6962762969744046E-05,4.9484708948124865E-06,1.6448131524168712E-05,0.00060162039604575,0.00030156148727808983,7.080383119729098E-07,7.731508111748641E-05,0.00016644725296055226,1.7652858439900266E-06,0.00035046670458824047,2.6717257523779152E-05,0.0001375676320254184,2.377048360852384E-05,2.404386355143144E-05,4.51135207672937E-06,3.096518925834394E-05,2.461749349861928E-05,0.0007570746230916721,7.987818148852905E-05,0.0001518019758873309,8.145102901126254E-05,0.00017027292889657607,0.00017630341210800446,0.006678337596174331,0.00017729473760354924,9.685966253515811E-05,2.0540353546260247E-05,1.806533186899159E-05,0.0005675560803858149,9.180348486004004E-06,2.5159374589288144E-05,5.760584942290723E-06,9.812502769556157E-06,0.00027916818231380115,1.0782810018684593E-05,3.7352938536105655E-05,1.1708716983986276E-05,1.2130377674485733E-05,8.380100106831332E-05,2.2387782060296647E-05,0.00010906184550864917,0.0004075663103239266,7.762526241569277E-06,1.881823139733162E-05,5.5710940076238E-06,2.9462076658784426E-06,8.048281680024152E-05,1.894902450270997E-06,3.587111639859767E-05,1.8874850466302514E-05,3.429116778842054E-05,1.3134543008553445E-06,2.7957995233781422E-06,1.1429779918481976E-06,2.6496296411459524E-05,0.0003307573215814171,4.3184765655903545E-05,4.443304502359767E-06,8.520174808037031E-05,4.612088297053263E-05,0.0003672629259799708,8.469278049571699E-05,7.964068280146916E-05,6.954965218284776E-06,0.00025594674551974534,0.00031523441635384166,8.134089770253616E-05,3.663515739729406E-05,1.2024983325519176E-05,7.967235847193574E-07,1.4026669508354122E-05,3.030360046035179E-06,9.370411186300901E-07,1.9565629946354097E-05,2.988430571424563E-06,4.602493398109427E-06,4.605576828292778E-05,4.577475304009483E-05,1.639636917906304E-06,4.8628030380135564E-05,0.00012093392374116727,3.075312689014606E-05,4.149508990026085E-05,1.4385596984625514E-05,3.87240964991648E-05,3.610406875603017E-06,1.0824718905471433E-05,2.920538401748706E-06,4.872664601356059E-05,3.0958477137620898E-06,1.1875312994965072E-06,2.439812069471164E-05,6.787487121853706E-05,4.26428870140717E-06,9.183442152568763E-06,4.983669674139817E-07,3.345350028637983E-06,2.3095681866714965E-05,2.789037177836888E-05,3.5038084921159506E-05,3.601151708207181E-05,2.8612567652655946E-05,2.6171899201825936E-06,0.0003279316526867645,9.992336691569622E-05,0.00010482931615412582,3.892181702383445E-05,3.7212894480952756E-05,2.5737357517175418E-05,0.0001492473304567263,8.38387967687279E-06,3.3933481349183473E-06,1.1319703282317017E-05,7.383172936033328E-06,3.7909048391057335E-05,8.98380294650043E-05,7.717476394319679E-07,1.4848985808216114E-05,7.66842898968611E-05,8.79437519324416E-05,7.55177051921848E-05,2.6796180956641272E-05,1.7694875748693436E-05,3.666936800839868E-05,4.7710153354854845E-05,2.865059986098159E-05,0.00024889764120378574,2.5954926557478616E-05,1.6312813751563121E-06,4.05407406021249E-05,1.9465094019868037E-05,1.1442196206072856E-06,3.503450747561827E-06,5.886565630161128E-05,1.1683416143645339E-05,2.2338570267923336E-05,0.0006454812661903808,3.243144767162534E-05,2.29105274774314E-05,9.884947891841248E-07,1.456491027519304E-05,1.2389214217592121E-06,8.033742492586605E-06,0.00026124601815598434,3.6601458965204445E-06,0.00010701682357489754,0.00021386860712965716,1.0390284452178828E-05,1.0758653782360029E-05,1.6990650059651514E-06,0.00016130234617326767,1.0099202337003942E-05,2.131701426558815E-06,0.00034620620904175266,9.432716263740131E-06,2.1567297701842125E-06,3.6435296502115216E-06,7.378008964817288E-07,1.3053008926557194E-06,6.582922948231547E-06,7.424101288659818E-07,1.7469266791633343E-06,2.074081224886339E-05,1.2485615078732323E-06,1.9949895840785054E-06,9.583587080124333E-07,6.449884686183218E-07,1.9289466773584948E-05,1.1346750082991249E-07,2.0056313497875602E-06],\"marker\":{}}];\r\n",
       "            var layout = {\"width\":600,\"height\":600,\"template\":{\"layout\":{\"title\":{\"x\":0.05},\"font\":{\"color\":\"rgba(42, 63, 95, 1.0)\"},\"paper_bgcolor\":\"rgba(255, 255, 255, 1.0)\",\"plot_bgcolor\":\"rgba(229, 236, 246, 1.0)\",\"autotypenumbers\":\"strict\",\"colorscale\":{\"diverging\":[[0.0,\"#8e0152\"],[0.1,\"#c51b7d\"],[0.2,\"#de77ae\"],[0.3,\"#f1b6da\"],[0.4,\"#fde0ef\"],[0.5,\"#f7f7f7\"],[0.6,\"#e6f5d0\"],[0.7,\"#b8e186\"],[0.8,\"#7fbc41\"],[0.9,\"#4d9221\"],[1.0,\"#276419\"]],\"sequential\":[[0.0,\"#0d0887\"],[0.1111111111111111,\"#46039f\"],[0.2222222222222222,\"#7201a8\"],[0.3333333333333333,\"#9c179e\"],[0.4444444444444444,\"#bd3786\"],[0.5555555555555556,\"#d8576b\"],[0.6666666666666666,\"#ed7953\"],[0.7777777777777778,\"#fb9f3a\"],[0.8888888888888888,\"#fdca26\"],[1.0,\"#f0f921\"]],\"sequentialminus\":[[0.0,\"#0d0887\"],[0.1111111111111111,\"#46039f\"],[0.2222222222222222,\"#7201a8\"],[0.3333333333333333,\"#9c179e\"],[0.4444444444444444,\"#bd3786\"],[0.5555555555555556,\"#d8576b\"],[0.6666666666666666,\"#ed7953\"],[0.7777777777777778,\"#fb9f3a\"],[0.8888888888888888,\"#fdca26\"],[1.0,\"#f0f921\"]]},\"hovermode\":\"closest\",\"hoverlabel\":{\"align\":\"left\"},\"coloraxis\":{\"colorbar\":{\"outlinewidth\":0.0,\"ticks\":\"\"}},\"geo\":{\"showland\":true,\"landcolor\":\"rgba(229, 236, 246, 1.0)\",\"showlakes\":true,\"lakecolor\":\"rgba(255, 255, 255, 1.0)\",\"subunitcolor\":\"rgba(255, 255, 255, 1.0)\",\"bgcolor\":\"rgba(255, 255, 255, 1.0)\"},\"mapbox\":{\"style\":\"light\"},\"polar\":{\"bgcolor\":\"rgba(229, 236, 246, 1.0)\",\"radialaxis\":{\"linecolor\":\"rgba(255, 255, 255, 1.0)\",\"gridcolor\":\"rgba(255, 255, 255, 1.0)\",\"ticks\":\"\"},\"angularaxis\":{\"linecolor\":\"rgba(255, 255, 255, 1.0)\",\"gridcolor\":\"rgba(255, 255, 255, 1.0)\",\"ticks\":\"\"}},\"scene\":{\"xaxis\":{\"ticks\":\"\",\"linecolor\":\"rgba(255, 255, 255, 1.0)\",\"gridcolor\":\"rgba(255, 255, 255, 1.0)\",\"gridwidth\":2.0,\"zerolinecolor\":\"rgba(255, 255, 255, 1.0)\",\"backgroundcolor\":\"rgba(229, 236, 246, 1.0)\",\"showbackground\":true},\"yaxis\":{\"ticks\":\"\",\"linecolor\":\"rgba(255, 255, 255, 1.0)\",\"gridcolor\":\"rgba(255, 255, 255, 1.0)\",\"gridwidth\":2.0,\"zerolinecolor\":\"rgba(255, 255, 255, 1.0)\",\"backgroundcolor\":\"rgba(229, 236, 246, 1.0)\",\"showbackground\":true},\"zaxis\":{\"ticks\":\"\",\"linecolor\":\"rgba(255, 255, 255, 1.0)\",\"gridcolor\":\"rgba(255, 255, 255, 1.0)\",\"gridwidth\":2.0,\"zerolinecolor\":\"rgba(255, 255, 255, 1.0)\",\"backgroundcolor\":\"rgba(229, 236, 246, 1.0)\",\"showbackground\":true}},\"ternary\":{\"aaxis\":{\"ticks\":\"\",\"linecolor\":\"rgba(255, 255, 255, 1.0)\",\"gridcolor\":\"rgba(255, 255, 255, 1.0)\"},\"baxis\":{\"ticks\":\"\",\"linecolor\":\"rgba(255, 255, 255, 1.0)\",\"gridcolor\":\"rgba(255, 255, 255, 1.0)\"},\"caxis\":{\"ticks\":\"\",\"linecolor\":\"rgba(255, 255, 255, 1.0)\",\"gridcolor\":\"rgba(255, 255, 255, 1.0)\"},\"bgcolor\":\"rgba(229, 236, 246, 1.0)\"},\"xaxis\":{\"title\":{\"standoff\":15},\"ticks\":\"\",\"automargin\":true,\"linecolor\":\"rgba(255, 255, 255, 1.0)\",\"gridcolor\":\"rgba(255, 255, 255, 1.0)\",\"zerolinecolor\":\"rgba(255, 255, 255, 1.0)\",\"zerolinewidth\":2.0},\"yaxis\":{\"title\":{\"standoff\":15},\"ticks\":\"\",\"automargin\":true,\"linecolor\":\"rgba(255, 255, 255, 1.0)\",\"gridcolor\":\"rgba(255, 255, 255, 1.0)\",\"zerolinecolor\":\"rgba(255, 255, 255, 1.0)\",\"zerolinewidth\":2.0},\"annotationdefaults\":{\"arrowcolor\":\"#2a3f5f\",\"arrowhead\":0,\"arrowwidth\":1},\"shapedefaults\":{\"line\":{\"color\":\"rgba(42, 63, 95, 1.0)\"}},\"colorway\":[\"rgba(99, 110, 250, 1.0)\",\"rgba(239, 85, 59, 1.0)\",\"rgba(0, 204, 150, 1.0)\",\"rgba(171, 99, 250, 1.0)\",\"rgba(255, 161, 90, 1.0)\",\"rgba(25, 211, 243, 1.0)\",\"rgba(255, 102, 146, 1.0)\",\"rgba(182, 232, 128, 1.0)\",\"rgba(255, 151, 255, 1.0)\",\"rgba(254, 203, 82, 1.0)\"]},\"data\":{\"bar\":[{\"marker\":{\"line\":{\"color\":\"rgba(229, 236, 246, 1.0)\",\"width\":0.5},\"pattern\":{\"fillmode\":\"overlay\",\"size\":10,\"solidity\":0.2}},\"error_x\":{\"color\":\"rgba(42, 63, 95, 1.0)\"},\"error_y\":{\"color\":\"rgba(42, 63, 95, 1.0)\"}}],\"barpolar\":[{\"marker\":{\"line\":{\"color\":\"rgba(229, 236, 246, 1.0)\",\"width\":0.5},\"pattern\":{\"fillmode\":\"overlay\",\"size\":10,\"solidity\":0.2}}}],\"carpet\":[{\"aaxis\":{\"linecolor\":\"rgba(255, 255, 255, 1.0)\",\"gridcolor\":\"rgba(255, 255, 255, 1.0)\",\"endlinecolor\":\"rgba(42, 63, 95, 1.0)\",\"minorgridcolor\":\"rgba(255, 255, 255, 1.0)\",\"startlinecolor\":\"rgba(42, 63, 95, 1.0)\"},\"baxis\":{\"linecolor\":\"rgba(255, 255, 255, 1.0)\",\"gridcolor\":\"rgba(255, 255, 255, 1.0)\",\"endlinecolor\":\"rgba(42, 63, 95, 1.0)\",\"minorgridcolor\":\"rgba(255, 255, 255, 1.0)\",\"startlinecolor\":\"rgba(42, 63, 95, 1.0)\"}}],\"choropleth\":[{\"colorbar\":{\"outlinewidth\":0.0,\"ticks\":\"\"},\"colorscale\":[[0.0,\"#0d0887\"],[0.1111111111111111,\"#46039f\"],[0.2222222222222222,\"#7201a8\"],[0.3333333333333333,\"#9c179e\"],[0.4444444444444444,\"#bd3786\"],[0.5555555555555556,\"#d8576b\"],[0.6666666666666666,\"#ed7953\"],[0.7777777777777778,\"#fb9f3a\"],[0.8888888888888888,\"#fdca26\"],[1.0,\"#f0f921\"]]}],\"contour\":[{\"colorbar\":{\"outlinewidth\":0.0,\"ticks\":\"\"},\"colorscale\":[[0.0,\"#0d0887\"],[0.1111111111111111,\"#46039f\"],[0.2222222222222222,\"#7201a8\"],[0.3333333333333333,\"#9c179e\"],[0.4444444444444444,\"#bd3786\"],[0.5555555555555556,\"#d8576b\"],[0.6666666666666666,\"#ed7953\"],[0.7777777777777778,\"#fb9f3a\"],[0.8888888888888888,\"#fdca26\"],[1.0,\"#f0f921\"]]}],\"contourcarpet\":[{\"colorbar\":{\"outlinewidth\":0.0,\"ticks\":\"\"}}],\"heatmap\":[{\"colorbar\":{\"outlinewidth\":0.0,\"ticks\":\"\"},\"colorscale\":[[0.0,\"#0d0887\"],[0.1111111111111111,\"#46039f\"],[0.2222222222222222,\"#7201a8\"],[0.3333333333333333,\"#9c179e\"],[0.4444444444444444,\"#bd3786\"],[0.5555555555555556,\"#d8576b\"],[0.6666666666666666,\"#ed7953\"],[0.7777777777777778,\"#fb9f3a\"],[0.8888888888888888,\"#fdca26\"],[1.0,\"#f0f921\"]]}],\"heatmapgl\":[{\"colorbar\":{\"outlinewidth\":0.0,\"ticks\":\"\"},\"colorscale\":[[0.0,\"#0d0887\"],[0.1111111111111111,\"#46039f\"],[0.2222222222222222,\"#7201a8\"],[0.3333333333333333,\"#9c179e\"],[0.4444444444444444,\"#bd3786\"],[0.5555555555555556,\"#d8576b\"],[0.6666666666666666,\"#ed7953\"],[0.7777777777777778,\"#fb9f3a\"],[0.8888888888888888,\"#fdca26\"],[1.0,\"#f0f921\"]]}],\"histogram\":[{\"marker\":{\"pattern\":{\"fillmode\":\"overlay\",\"size\":10,\"solidity\":0.2}}}],\"histogram2d\":[{\"colorbar\":{\"outlinewidth\":0.0,\"ticks\":\"\"},\"colorscale\":[[0.0,\"#0d0887\"],[0.1111111111111111,\"#46039f\"],[0.2222222222222222,\"#7201a8\"],[0.3333333333333333,\"#9c179e\"],[0.4444444444444444,\"#bd3786\"],[0.5555555555555556,\"#d8576b\"],[0.6666666666666666,\"#ed7953\"],[0.7777777777777778,\"#fb9f3a\"],[0.8888888888888888,\"#fdca26\"],[1.0,\"#f0f921\"]]}],\"histogram2dcontour\":[{\"colorbar\":{\"outlinewidth\":0.0,\"ticks\":\"\"},\"colorscale\":[[0.0,\"#0d0887\"],[0.1111111111111111,\"#46039f\"],[0.2222222222222222,\"#7201a8\"],[0.3333333333333333,\"#9c179e\"],[0.4444444444444444,\"#bd3786\"],[0.5555555555555556,\"#d8576b\"],[0.6666666666666666,\"#ed7953\"],[0.7777777777777778,\"#fb9f3a\"],[0.8888888888888888,\"#fdca26\"],[1.0,\"#f0f921\"]]}],\"mesh3d\":[{\"colorbar\":{\"outlinewidth\":0.0,\"ticks\":\"\"}}],\"parcoords\":[{\"line\":{\"colorbar\":{\"outlinewidth\":0.0,\"ticks\":\"\"}}}],\"pie\":[{\"automargin\":true}],\"scatter\":[{\"marker\":{\"colorbar\":{\"outlinewidth\":0.0,\"ticks\":\"\"}}}],\"scatter3d\":[{\"marker\":{\"colorbar\":{\"outlinewidth\":0.0,\"ticks\":\"\"}},\"line\":{\"colorbar\":{\"outlinewidth\":0.0,\"ticks\":\"\"}}}],\"scattercarpet\":[{\"marker\":{\"colorbar\":{\"outlinewidth\":0.0,\"ticks\":\"\"}}}],\"scattergeo\":[{\"marker\":{\"colorbar\":{\"outlinewidth\":0.0,\"ticks\":\"\"}}}],\"scattergl\":[{\"marker\":{\"colorbar\":{\"outlinewidth\":0.0,\"ticks\":\"\"}}}],\"scattermapbox\":[{\"marker\":{\"colorbar\":{\"outlinewidth\":0.0,\"ticks\":\"\"}}}],\"scatterpolar\":[{\"marker\":{\"colorbar\":{\"outlinewidth\":0.0,\"ticks\":\"\"}}}],\"scatterpolargl\":[{\"marker\":{\"colorbar\":{\"outlinewidth\":0.0,\"ticks\":\"\"}}}],\"scatterternary\":[{\"marker\":{\"colorbar\":{\"outlinewidth\":0.0,\"ticks\":\"\"}}}],\"surface\":[{\"colorbar\":{\"outlinewidth\":0.0,\"ticks\":\"\"},\"colorscale\":[[0.0,\"#0d0887\"],[0.1111111111111111,\"#46039f\"],[0.2222222222222222,\"#7201a8\"],[0.3333333333333333,\"#9c179e\"],[0.4444444444444444,\"#bd3786\"],[0.5555555555555556,\"#d8576b\"],[0.6666666666666666,\"#ed7953\"],[0.7777777777777778,\"#fb9f3a\"],[0.8888888888888888,\"#fdca26\"],[1.0,\"#f0f921\"]]}],\"table\":[{\"cells\":{\"fill\":{\"color\":\"rgba(235, 240, 248, 1.0)\"},\"line\":{\"color\":\"rgba(255, 255, 255, 1.0)\"}},\"header\":{\"fill\":{\"color\":\"rgba(200, 212, 227, 1.0)\"},\"line\":{\"color\":\"rgba(255, 255, 255, 1.0)\"}}}]}}};\r\n",
       "            var config = {\"responsive\":true};\r\n",
       "            Plotly.newPlot('e9985f69-8aa6-41ef-8ad8-2794d6c37d18', data, layout, config);\r\n",
       "});\r\n",
       "            };\r\n",
       "            if ((typeof(requirejs) !==  typeof(Function)) || (typeof(requirejs.config) !== typeof(Function))) {\r\n",
       "                var script = document.createElement(\"script\");\r\n",
       "                script.setAttribute(\"src\", \"https://cdnjs.cloudflare.com/ajax/libs/require.js/2.3.6/require.min.js\");\r\n",
       "                script.onload = function(){\r\n",
       "                    renderPlotly_e9985f698aa641ef8ad82794d6c37d18();\r\n",
       "                };\r\n",
       "                document.getElementsByTagName(\"head\")[0].appendChild(script);\r\n",
       "            }\r\n",
       "            else {\r\n",
       "                renderPlotly_e9985f698aa641ef8ad82794d6c37d18();\r\n",
       "            }\r\n",
       "</script>\r\n",
       "\n",
       "    \n",
       "</div>    \n"
      ]
     },
     "metadata": {},
     "output_type": "display_data"
    }
   ],
   "source": [
    "let sept2017Tercile3VWPositions = \n",
    "    vw.Portfolios\n",
    "    |> List.tryFind (fun p -> p.FormationMonth = DateTime(2017, 8, 1) && p.Index = 3)\n",
    "    |> Option.map (fun p -> p.Positions)\n",
    "    |> Option.defaultValue []\n",
    "\n",
    "let weights = List.map (fun pos -> pos.Weight) sept2017Tercile3VWPositions\n",
    "\n",
    "let histogram = Chart.Histogram(weights)\n",
    "histogram\n"
   ]
  },
  {
   "cell_type": "code",
   "execution_count": 26,
   "metadata": {
    "dotnet_interactive": {
     "language": "fsharp"
    },
    "polyglot_notebook": {
     "kernelName": "fsharp"
    }
   },
   "outputs": [
    {
     "data": {
      "text/html": [
       "<div class=\"dni-plaintext\"><pre>0.361946022511284</pre></div><style>\r\n",
       ".dni-code-hint {\r\n",
       "    font-style: italic;\r\n",
       "    overflow: hidden;\r\n",
       "    white-space: nowrap;\r\n",
       "}\r\n",
       ".dni-treeview {\r\n",
       "    white-space: nowrap;\r\n",
       "}\r\n",
       ".dni-treeview td {\r\n",
       "    vertical-align: top;\r\n",
       "    text-align: start;\r\n",
       "}\r\n",
       "details.dni-treeview {\r\n",
       "    padding-left: 1em;\r\n",
       "}\r\n",
       "table td {\r\n",
       "    text-align: start;\r\n",
       "}\r\n",
       "table tr { \r\n",
       "    vertical-align: top; \r\n",
       "    margin: 0em 0px;\r\n",
       "}\r\n",
       "table tr td pre \r\n",
       "{ \r\n",
       "    vertical-align: top !important; \r\n",
       "    margin: 0em 0px !important;\r\n",
       "} \r\n",
       "table th {\r\n",
       "    text-align: start;\r\n",
       "}\r\n",
       "</style>"
      ]
     },
     "metadata": {},
     "output_type": "display_data"
    }
   ],
   "source": [
    "let top10Sept2017VWPositions =\n",
    "    vw.Portfolios\n",
    "    |> List.tryFind (fun p -> p.FormationMonth = DateTime(2017, 8, 1) && p.Index = 3)\n",
    "    |> Option.map (fun p -> p.Positions |> List.sortByDescending (fun pos -> pos.Weight) |> List.take 10)\n",
    "    |> Option.defaultValue []\n",
    "\n",
    "let topWeightsSept2017 = List.sumBy (fun pos -> pos.Weight) top10Sept2017VWPositions\n",
    "topWeightsSept2017\n"
   ]
  },
  {
   "attachments": {},
   "cell_type": "markdown",
   "metadata": {},
   "source": [
    "Tests\n",
    "\n"
   ]
  },
  {
   "cell_type": "code",
   "execution_count": 27,
   "metadata": {
    "dotnet_interactive": {
     "language": "fsharp"
    },
    "polyglot_notebook": {
     "kernelName": "fsharp"
    }
   },
   "outputs": [],
   "source": [
    "topWeightsSept2017 |> should (equalWithin tol) 0.3619460225\n"
   ]
  },
  {
   "attachments": {},
   "cell_type": "markdown",
   "metadata": {},
   "source": [
    "> **Task:** Write a function that takes a `Portfolio` as it's input and outputs a tuple of the formaiton date and the sum of the top 10 position weights. I have type hints to constrain the function type.\n",
    "> \n",
    "\n"
   ]
  },
  {
   "cell_type": "code",
   "execution_count": 28,
   "metadata": {
    "dotnet_interactive": {
     "language": "fsharp"
    },
    "polyglot_notebook": {
     "kernelName": "fsharp"
    }
   },
   "outputs": [],
   "source": [
    "//solution here\n",
    "let calcTop10Weights (portfolio: Portfolio) : (DateTime * float) =\n",
    "    let sorted_weights = portfolio.Positions |> List.map (fun p -> p.Weight) |> List.sort\n",
    "    let top_10_sum = List.take 10 sorted_weights |> List.sum\n",
    "    (portfolio.FormationMonth, top_10_sum)\n"
   ]
  },
  {
   "attachments": {},
   "cell_type": "markdown",
   "metadata": {},
   "source": [
    "tests\n",
    "\n"
   ]
  },
  {
   "cell_type": "code",
   "execution_count": 29,
   "metadata": {
    "dotnet_interactive": {
     "language": "fsharp"
    },
    "polyglot_notebook": {
     "kernelName": "fsharp"
    }
   },
   "outputs": [],
   "source": [
    "// Portfolio with 10 test positions\n",
    "let testPortfolio =\n",
    "    { FormationMonth = DateTime(1999,1,1)\n",
    "      Name = \"test\"\n",
    "      Index = 1\n",
    "      Positions = [ for i in 1..20 do { SecurityId = Other \"test\"; Weight = 1./20.} ] }\n",
    "\n",
    "let testPortfolioDate, testPortfolioWeight = testPortfolio |> calcTop10Weights\n",
    "\n",
    "testPortfolioDate |> should equal (DateTime(1999,1,1))\n",
    "testPortfolioWeight |> should (equalWithin tol) 0.5\n"
   ]
  },
  {
   "attachments": {},
   "cell_type": "markdown",
   "metadata": {},
   "source": [
    "> **Task:** Using the value-weight strategy, calculate the total weight put in quintile 3's top 10 positions every month. Assign it to a value named `topWeights` that has type `list<DateTime * float>` where the first thing in the tuple is the formation month and the second thing is the sum of the top 10 position weights.\n",
    "> \n",
    "\n"
   ]
  },
  {
   "cell_type": "code",
   "execution_count": 37,
   "metadata": {
    "dotnet_interactive": {
     "language": "fsharp"
    },
    "polyglot_notebook": {
     "kernelName": "fsharp"
    }
   },
   "outputs": [],
   "source": [
    "// Solution here\n",
    "let topWeights= \n",
    "    vw.Portfolios\n",
    "    |> List.filter (fun p -> p.Index = 3)\n",
    "    |> List.map (fun p -> \n",
    "        let topTenPositions = p.Positions |> List.sortByDescending (fun pos -> pos.Weight) |> List.take 10\n",
    "        let sumOfWeights = topTenPositions |> List.sumBy (fun pos -> pos.Weight)\n",
    "        (p.FormationMonth, sumOfWeights))"
   ]
  },
  {
   "attachments": {},
   "cell_type": "markdown",
   "metadata": {},
   "source": [
    "tests\n",
    "\n"
   ]
  },
  {
   "cell_type": "code",
   "execution_count": 38,
   "metadata": {
    "dotnet_interactive": {
     "language": "fsharp"
    },
    "polyglot_notebook": {
     "kernelName": "fsharp"
    }
   },
   "outputs": [],
   "source": [
    "topWeights |> shouldHaveLength 252\n",
    "topWeights |> should be ofExactType<list<DateTime * float>>\n",
    "topWeights\n",
    "|> List.averageBy (fun (dt, w) -> w)\n",
    "|> should (equalWithin tol) 0.3174428516\n"
   ]
  },
  {
   "attachments": {},
   "cell_type": "markdown",
   "metadata": {},
   "source": [
    "> **Task:** Plot a line chart of `topWeights` that shows how the top 10 weights evolves over the sample period.\n",
    "> \n",
    "\n"
   ]
  },
  {
   "cell_type": "code",
   "execution_count": 49,
   "metadata": {
    "dotnet_interactive": {
     "language": "fsharp"
    },
    "polyglot_notebook": {
     "kernelName": "fsharp"
    }
   },
   "outputs": [
    {
     "data": {
      "text/html": [
       "\n",
       "<div>\n",
       "    <div id=\"a9136016-5944-4ef2-a42e-2b5765b166e6\"><!-- Plotly chart will be drawn inside this DIV --></div>\r\n",
       "<script type=\"text/javascript\">\r\n",
       "\r\n",
       "            var renderPlotly_a913601659444ef2a42e2b5765b166e6 = function() {\r\n",
       "            var fsharpPlotlyRequire = requirejs.config({context:'fsharp-plotly',paths:{plotly:'https://cdn.plot.ly/plotly-2.6.3.min'}}) || require;\r\n",
       "            fsharpPlotlyRequire(['plotly'], function(Plotly) {\r\n",
       "\r\n",
       "            var data = [{\"type\":\"scatter\",\"mode\":\"lines\",\"x\":[\"2000-01-01T00:00:00\",\"2000-02-01T00:00:00\",\"2000-03-01T00:00:00\",\"2000-04-01T00:00:00\",\"2000-05-01T00:00:00\",\"2000-06-01T00:00:00\",\"2000-07-01T00:00:00\",\"2000-08-01T00:00:00\",\"2000-09-01T00:00:00\",\"2000-10-01T00:00:00\",\"2000-11-01T00:00:00\",\"2000-12-01T00:00:00\",\"2001-01-01T00:00:00\",\"2001-02-01T00:00:00\",\"2001-03-01T00:00:00\",\"2001-04-01T00:00:00\",\"2001-05-01T00:00:00\",\"2001-06-01T00:00:00\",\"2001-07-01T00:00:00\",\"2001-08-01T00:00:00\",\"2001-09-01T00:00:00\",\"2001-10-01T00:00:00\",\"2001-11-01T00:00:00\",\"2001-12-01T00:00:00\",\"2002-01-01T00:00:00\",\"2002-02-01T00:00:00\",\"2002-03-01T00:00:00\",\"2002-04-01T00:00:00\",\"2002-05-01T00:00:00\",\"2002-06-01T00:00:00\",\"2002-07-01T00:00:00\",\"2002-08-01T00:00:00\",\"2002-09-01T00:00:00\",\"2002-10-01T00:00:00\",\"2002-11-01T00:00:00\",\"2002-12-01T00:00:00\",\"2003-01-01T00:00:00\",\"2003-02-01T00:00:00\",\"2003-03-01T00:00:00\",\"2003-04-01T00:00:00\",\"2003-05-01T00:00:00\",\"2003-06-01T00:00:00\",\"2003-07-01T00:00:00\",\"2003-08-01T00:00:00\",\"2003-09-01T00:00:00\",\"2003-10-01T00:00:00\",\"2003-11-01T00:00:00\",\"2003-12-01T00:00:00\",\"2004-01-01T00:00:00\",\"2004-02-01T00:00:00\",\"2004-03-01T00:00:00\",\"2004-04-01T00:00:00\",\"2004-05-01T00:00:00\",\"2004-06-01T00:00:00\",\"2004-07-01T00:00:00\",\"2004-08-01T00:00:00\",\"2004-09-01T00:00:00\",\"2004-10-01T00:00:00\",\"2004-11-01T00:00:00\",\"2004-12-01T00:00:00\",\"2005-01-01T00:00:00\",\"2005-02-01T00:00:00\",\"2005-03-01T00:00:00\",\"2005-04-01T00:00:00\",\"2005-05-01T00:00:00\",\"2005-06-01T00:00:00\",\"2005-07-01T00:00:00\",\"2005-08-01T00:00:00\",\"2005-09-01T00:00:00\",\"2005-10-01T00:00:00\",\"2005-11-01T00:00:00\",\"2005-12-01T00:00:00\",\"2006-01-01T00:00:00\",\"2006-02-01T00:00:00\",\"2006-03-01T00:00:00\",\"2006-04-01T00:00:00\",\"2006-05-01T00:00:00\",\"2006-06-01T00:00:00\",\"2006-07-01T00:00:00\",\"2006-08-01T00:00:00\",\"2006-09-01T00:00:00\",\"2006-10-01T00:00:00\",\"2006-11-01T00:00:00\",\"2006-12-01T00:00:00\",\"2007-01-01T00:00:00\",\"2007-02-01T00:00:00\",\"2007-03-01T00:00:00\",\"2007-04-01T00:00:00\",\"2007-05-01T00:00:00\",\"2007-06-01T00:00:00\",\"2007-07-01T00:00:00\",\"2007-08-01T00:00:00\",\"2007-09-01T00:00:00\",\"2007-10-01T00:00:00\",\"2007-11-01T00:00:00\",\"2007-12-01T00:00:00\",\"2008-01-01T00:00:00\",\"2008-02-01T00:00:00\",\"2008-03-01T00:00:00\",\"2008-04-01T00:00:00\",\"2008-05-01T00:00:00\",\"2008-06-01T00:00:00\",\"2008-07-01T00:00:00\",\"2008-08-01T00:00:00\",\"2008-09-01T00:00:00\",\"2008-10-01T00:00:00\",\"2008-11-01T00:00:00\",\"2008-12-01T00:00:00\",\"2009-01-01T00:00:00\",\"2009-02-01T00:00:00\",\"2009-03-01T00:00:00\",\"2009-04-01T00:00:00\",\"2009-05-01T00:00:00\",\"2009-06-01T00:00:00\",\"2009-07-01T00:00:00\",\"2009-08-01T00:00:00\",\"2009-09-01T00:00:00\",\"2009-10-01T00:00:00\",\"2009-11-01T00:00:00\",\"2009-12-01T00:00:00\",\"2010-01-01T00:00:00\",\"2010-02-01T00:00:00\",\"2010-03-01T00:00:00\",\"2010-04-01T00:00:00\",\"2010-05-01T00:00:00\",\"2010-06-01T00:00:00\",\"2010-07-01T00:00:00\",\"2010-08-01T00:00:00\",\"2010-09-01T00:00:00\",\"2010-10-01T00:00:00\",\"2010-11-01T00:00:00\",\"2010-12-01T00:00:00\",\"2011-01-01T00:00:00\",\"2011-02-01T00:00:00\",\"2011-03-01T00:00:00\",\"2011-04-01T00:00:00\",\"2011-05-01T00:00:00\",\"2011-06-01T00:00:00\",\"2011-07-01T00:00:00\",\"2011-08-01T00:00:00\",\"2011-09-01T00:00:00\",\"2011-10-01T00:00:00\",\"2011-11-01T00:00:00\",\"2011-12-01T00:00:00\",\"2012-01-01T00:00:00\",\"2012-02-01T00:00:00\",\"2012-03-01T00:00:00\",\"2012-04-01T00:00:00\",\"2012-05-01T00:00:00\",\"2012-06-01T00:00:00\",\"2012-07-01T00:00:00\",\"2012-08-01T00:00:00\",\"2012-09-01T00:00:00\",\"2012-10-01T00:00:00\",\"2012-11-01T00:00:00\",\"2012-12-01T00:00:00\",\"2013-01-01T00:00:00\",\"2013-02-01T00:00:00\",\"2013-03-01T00:00:00\",\"2013-04-01T00:00:00\",\"2013-05-01T00:00:00\",\"2013-06-01T00:00:00\",\"2013-07-01T00:00:00\",\"2013-08-01T00:00:00\",\"2013-09-01T00:00:00\",\"2013-10-01T00:00:00\",\"2013-11-01T00:00:00\",\"2013-12-01T00:00:00\",\"2014-01-01T00:00:00\",\"2014-02-01T00:00:00\",\"2014-03-01T00:00:00\",\"2014-04-01T00:00:00\",\"2014-05-01T00:00:00\",\"2014-06-01T00:00:00\",\"2014-07-01T00:00:00\",\"2014-08-01T00:00:00\",\"2014-09-01T00:00:00\",\"2014-10-01T00:00:00\",\"2014-11-01T00:00:00\",\"2014-12-01T00:00:00\",\"2015-01-01T00:00:00\",\"2015-02-01T00:00:00\",\"2015-03-01T00:00:00\",\"2015-04-01T00:00:00\",\"2015-05-01T00:00:00\",\"2015-06-01T00:00:00\",\"2015-07-01T00:00:00\",\"2015-08-01T00:00:00\",\"2015-09-01T00:00:00\",\"2015-10-01T00:00:00\",\"2015-11-01T00:00:00\",\"2015-12-01T00:00:00\",\"2016-01-01T00:00:00\",\"2016-02-01T00:00:00\",\"2016-03-01T00:00:00\",\"2016-04-01T00:00:00\",\"2016-05-01T00:00:00\",\"2016-06-01T00:00:00\",\"2016-07-01T00:00:00\",\"2016-08-01T00:00:00\",\"2016-09-01T00:00:00\",\"2016-10-01T00:00:00\",\"2016-11-01T00:00:00\",\"2016-12-01T00:00:00\",\"2017-01-01T00:00:00\",\"2017-02-01T00:00:00\",\"2017-03-01T00:00:00\",\"2017-04-01T00:00:00\",\"2017-05-01T00:00:00\",\"2017-06-01T00:00:00\",\"2017-07-01T00:00:00\",\"2017-08-01T00:00:00\",\"2017-09-01T00:00:00\",\"2017-10-01T00:00:00\",\"2017-11-01T00:00:00\",\"2017-12-01T00:00:00\",\"2018-01-01T00:00:00\",\"2018-02-01T00:00:00\",\"2018-03-01T00:00:00\",\"2018-04-01T00:00:00\",\"2018-05-01T00:00:00\",\"2018-06-01T00:00:00\",\"2018-07-01T00:00:00\",\"2018-08-01T00:00:00\",\"2018-09-01T00:00:00\",\"2018-10-01T00:00:00\",\"2018-11-01T00:00:00\",\"2018-12-01T00:00:00\",\"2019-01-01T00:00:00\",\"2019-02-01T00:00:00\",\"2019-03-01T00:00:00\",\"2019-04-01T00:00:00\",\"2019-05-01T00:00:00\",\"2019-06-01T00:00:00\",\"2019-07-01T00:00:00\",\"2019-08-01T00:00:00\",\"2019-09-01T00:00:00\",\"2019-10-01T00:00:00\",\"2019-11-01T00:00:00\",\"2019-12-01T00:00:00\",\"2020-01-01T00:00:00\",\"2020-02-01T00:00:00\",\"2020-03-01T00:00:00\",\"2020-04-01T00:00:00\",\"2020-05-01T00:00:00\",\"2020-06-01T00:00:00\",\"2020-07-01T00:00:00\",\"2020-08-01T00:00:00\",\"2020-09-01T00:00:00\",\"2020-10-01T00:00:00\",\"2020-11-01T00:00:00\",\"2020-12-01T00:00:00\"],\"y\":[0.13759268797831362,0.17691438497332346,0.13792765129043272,0.15134776235359876,0.14392881920381384,0.14995950746524697,0.15276513132291214,0.16866521569332615,0.1554800004944378,0.2770109571260137,0.386671066845375,0.39443908793980614,0.37634756888921794,0.3726894102272802,0.3985914515516547,0.36417616263370545,0.36770739422720605,0.3854500705226466,0.35632588089730094,0.46254968912314265,0.49243609534111343,0.43621603198717146,0.44741290597606176,0.43142172398056516,0.3177236919509362,0.3280180923563445,0.2958522817461095,0.31768222280402336,0.3237138675424044,0.2942525945266387,0.3078951068954385,0.3078246324143248,0.34728546802160076,0.36278995947211823,0.32196767546035243,0.30754757681501793,0.2793898105153478,0.2930882412882244,0.28967777967340735,0.2883490164233912,0.2764405410288739,0.29484752293975197,0.26274446720153205,0.2585913026539468,0.24035581712829923,0.22679484500984368,0.2392309475975036,0.23522853577029212,0.23204629073066263,0.22923215221001936,0.22795725644731116,0.24697822688301885,0.24839303301971746,0.2457110366065861,0.22723941562830674,0.21419315698440172,0.2393841388413379,0.22333975505824863,0.2459219265864459,0.2464651066127279,0.2448115059302914,0.2617111336279126,0.27240517873318476,0.2771927651031283,0.2712842513215353,0.27499310180175585,0.26987557746686297,0.2661177674443438,0.25576286795486597,0.27129528035601247,0.2684676022589156,0.26210810553066416,0.25225237157043756,0.2760086961531564,0.26880552710574,0.25971273032893555,0.2887771673114111,0.29055513835246544,0.297747280914934,0.2743890569385002,0.2680201425600221,0.27051234473101976,0.2765499042705704,0.27834324995528265,0.27878362006150215,0.26888035836680585,0.2877636140640629,0.33713929184882185,0.3131327925109057,0.30790808123214697,0.3121007814292524,0.2839827542599255,0.2970983107530213,0.33762375387393323,0.3619158143761877,0.3694145202786159,0.30106653762925367,0.3520390681943227,0.3560376136976857,0.3484668059558764,0.36331589090761096,0.32905070732948544,0.3869032839048359,0.37953942376410754,0.3197352781229008,0.3097453538867478,0.3552318889303972,0.338164297207282,0.37273061441738453,0.35293894018845556,0.37012240986988876,0.3206408190957392,0.33464435341028304,0.35914625114362325,0.3652843684531508,0.38664620814051015,0.3450129992868504,0.346606777308809,0.3500709096948134,0.3426842664123441,0.36619964815513617,0.3716376703723284,0.37977175864167995,0.37305370132262583,0.3737332166246083,0.3363542551480936,0.32809251110649207,0.3375118187623223,0.3304730080231459,0.3253554951937304,0.30733690477948244,0.31374477437045345,0.34397568764783343,0.3504936051317814,0.3119545141179889,0.34886505216560293,0.35750400867959076,0.32824377736182986,0.3216052316553985,0.2981569322165461,0.28425964593633124,0.29133410269200355,0.27535558773154245,0.2743413244833219,0.2849647436616362,0.28845089265731155,0.29304992476183395,0.2921414671418872,0.27903264842057063,0.281519443349898,0.2677744993414845,0.268633504309189,0.2706017940228497,0.2874385268653758,0.2892979788501594,0.2904293709266367,0.2960148770656446,0.30469592070793894,0.3017410536623994,0.3208595723254259,0.3245054356426546,0.32314470844661003,0.30322193941522574,0.29630274217117064,0.28610470193712967,0.2856446686107606,0.3024591843476986,0.3032635043131017,0.31483149592388476,0.3289549003185139,0.31960110607661574,0.31210719609805226,0.3154122350671349,0.3266218446107047,0.289127941741527,0.32339372628935176,0.3136448372900849,0.3094139686829348,0.32306441212920084,0.3315926632987421,0.32155906338416096,0.32609183870071057,0.3203027315831502,0.3306659215371853,0.3297933325751758,0.33734996418589525,0.3443631159367266,0.32608837998254075,0.32634570389748035,0.3418083685891455,0.332532377332331,0.331158901246692,0.32967373526029375,0.3173122385704827,0.3238914941135975,0.3373237457808041,0.33783300301363073,0.346373235707994,0.30463110110334757,0.31051981826948766,0.3287184190904003,0.3588598055798273,0.32744688733629657,0.33180087840939354,0.32505941266280686,0.341955039118867,0.331039818882922,0.35696295301171316,0.3623121589747945,0.37119868930635525,0.3676681994855611,0.361946022511284,0.3681049053769919,0.372879906372413,0.36460175091049574,0.3125110819945074,0.3206723434137799,0.3645882008513949,0.3558950924067462,0.3499431836738692,0.3729058658717944,0.36630283966592503,0.35701882400120605,0.35172221957020267,0.32862098307205256,0.330719462151614,0.33361635747414453,0.3521137497213619,0.36852963731235083,0.3854867899325933,0.38054958637074054,0.38808867453719526,0.36178756767339476,0.3839828916689928,0.35708666981819925,0.37089215225236105,0.3815163952996754,0.3865990350368818,0.3796024934539962,0.4036705670965438,0.4268868376015325,0.40543754016501854,0.4273118606149791,0.41224691309926187,0.409623676996864,0.4020082428350834,0.3621521484057965,0.34624479780849726,0.34091730611060084,0.31930053951542603,0.33973985739710133,0.32727198710900735],\"marker\":{},\"line\":{}}];\r\n",
       "            var layout = {\"width\":600,\"height\":600,\"template\":{\"layout\":{\"title\":{\"x\":0.05},\"font\":{\"color\":\"rgba(42, 63, 95, 1.0)\"},\"paper_bgcolor\":\"rgba(255, 255, 255, 1.0)\",\"plot_bgcolor\":\"rgba(229, 236, 246, 1.0)\",\"autotypenumbers\":\"strict\",\"colorscale\":{\"diverging\":[[0.0,\"#8e0152\"],[0.1,\"#c51b7d\"],[0.2,\"#de77ae\"],[0.3,\"#f1b6da\"],[0.4,\"#fde0ef\"],[0.5,\"#f7f7f7\"],[0.6,\"#e6f5d0\"],[0.7,\"#b8e186\"],[0.8,\"#7fbc41\"],[0.9,\"#4d9221\"],[1.0,\"#276419\"]],\"sequential\":[[0.0,\"#0d0887\"],[0.1111111111111111,\"#46039f\"],[0.2222222222222222,\"#7201a8\"],[0.3333333333333333,\"#9c179e\"],[0.4444444444444444,\"#bd3786\"],[0.5555555555555556,\"#d8576b\"],[0.6666666666666666,\"#ed7953\"],[0.7777777777777778,\"#fb9f3a\"],[0.8888888888888888,\"#fdca26\"],[1.0,\"#f0f921\"]],\"sequentialminus\":[[0.0,\"#0d0887\"],[0.1111111111111111,\"#46039f\"],[0.2222222222222222,\"#7201a8\"],[0.3333333333333333,\"#9c179e\"],[0.4444444444444444,\"#bd3786\"],[0.5555555555555556,\"#d8576b\"],[0.6666666666666666,\"#ed7953\"],[0.7777777777777778,\"#fb9f3a\"],[0.8888888888888888,\"#fdca26\"],[1.0,\"#f0f921\"]]},\"hovermode\":\"closest\",\"hoverlabel\":{\"align\":\"left\"},\"coloraxis\":{\"colorbar\":{\"outlinewidth\":0.0,\"ticks\":\"\"}},\"geo\":{\"showland\":true,\"landcolor\":\"rgba(229, 236, 246, 1.0)\",\"showlakes\":true,\"lakecolor\":\"rgba(255, 255, 255, 1.0)\",\"subunitcolor\":\"rgba(255, 255, 255, 1.0)\",\"bgcolor\":\"rgba(255, 255, 255, 1.0)\"},\"mapbox\":{\"style\":\"light\"},\"polar\":{\"bgcolor\":\"rgba(229, 236, 246, 1.0)\",\"radialaxis\":{\"linecolor\":\"rgba(255, 255, 255, 1.0)\",\"gridcolor\":\"rgba(255, 255, 255, 1.0)\",\"ticks\":\"\"},\"angularaxis\":{\"linecolor\":\"rgba(255, 255, 255, 1.0)\",\"gridcolor\":\"rgba(255, 255, 255, 1.0)\",\"ticks\":\"\"}},\"scene\":{\"xaxis\":{\"ticks\":\"\",\"linecolor\":\"rgba(255, 255, 255, 1.0)\",\"gridcolor\":\"rgba(255, 255, 255, 1.0)\",\"gridwidth\":2.0,\"zerolinecolor\":\"rgba(255, 255, 255, 1.0)\",\"backgroundcolor\":\"rgba(229, 236, 246, 1.0)\",\"showbackground\":true},\"yaxis\":{\"ticks\":\"\",\"linecolor\":\"rgba(255, 255, 255, 1.0)\",\"gridcolor\":\"rgba(255, 255, 255, 1.0)\",\"gridwidth\":2.0,\"zerolinecolor\":\"rgba(255, 255, 255, 1.0)\",\"backgroundcolor\":\"rgba(229, 236, 246, 1.0)\",\"showbackground\":true},\"zaxis\":{\"ticks\":\"\",\"linecolor\":\"rgba(255, 255, 255, 1.0)\",\"gridcolor\":\"rgba(255, 255, 255, 1.0)\",\"gridwidth\":2.0,\"zerolinecolor\":\"rgba(255, 255, 255, 1.0)\",\"backgroundcolor\":\"rgba(229, 236, 246, 1.0)\",\"showbackground\":true}},\"ternary\":{\"aaxis\":{\"ticks\":\"\",\"linecolor\":\"rgba(255, 255, 255, 1.0)\",\"gridcolor\":\"rgba(255, 255, 255, 1.0)\"},\"baxis\":{\"ticks\":\"\",\"linecolor\":\"rgba(255, 255, 255, 1.0)\",\"gridcolor\":\"rgba(255, 255, 255, 1.0)\"},\"caxis\":{\"ticks\":\"\",\"linecolor\":\"rgba(255, 255, 255, 1.0)\",\"gridcolor\":\"rgba(255, 255, 255, 1.0)\"},\"bgcolor\":\"rgba(229, 236, 246, 1.0)\"},\"xaxis\":{\"title\":{\"standoff\":15},\"ticks\":\"\",\"automargin\":true,\"linecolor\":\"rgba(255, 255, 255, 1.0)\",\"gridcolor\":\"rgba(255, 255, 255, 1.0)\",\"zerolinecolor\":\"rgba(255, 255, 255, 1.0)\",\"zerolinewidth\":2.0},\"yaxis\":{\"title\":{\"standoff\":15},\"ticks\":\"\",\"automargin\":true,\"linecolor\":\"rgba(255, 255, 255, 1.0)\",\"gridcolor\":\"rgba(255, 255, 255, 1.0)\",\"zerolinecolor\":\"rgba(255, 255, 255, 1.0)\",\"zerolinewidth\":2.0},\"annotationdefaults\":{\"arrowcolor\":\"#2a3f5f\",\"arrowhead\":0,\"arrowwidth\":1},\"shapedefaults\":{\"line\":{\"color\":\"rgba(42, 63, 95, 1.0)\"}},\"colorway\":[\"rgba(99, 110, 250, 1.0)\",\"rgba(239, 85, 59, 1.0)\",\"rgba(0, 204, 150, 1.0)\",\"rgba(171, 99, 250, 1.0)\",\"rgba(255, 161, 90, 1.0)\",\"rgba(25, 211, 243, 1.0)\",\"rgba(255, 102, 146, 1.0)\",\"rgba(182, 232, 128, 1.0)\",\"rgba(255, 151, 255, 1.0)\",\"rgba(254, 203, 82, 1.0)\"]},\"data\":{\"bar\":[{\"marker\":{\"line\":{\"color\":\"rgba(229, 236, 246, 1.0)\",\"width\":0.5},\"pattern\":{\"fillmode\":\"overlay\",\"size\":10,\"solidity\":0.2}},\"error_x\":{\"color\":\"rgba(42, 63, 95, 1.0)\"},\"error_y\":{\"color\":\"rgba(42, 63, 95, 1.0)\"}}],\"barpolar\":[{\"marker\":{\"line\":{\"color\":\"rgba(229, 236, 246, 1.0)\",\"width\":0.5},\"pattern\":{\"fillmode\":\"overlay\",\"size\":10,\"solidity\":0.2}}}],\"carpet\":[{\"aaxis\":{\"linecolor\":\"rgba(255, 255, 255, 1.0)\",\"gridcolor\":\"rgba(255, 255, 255, 1.0)\",\"endlinecolor\":\"rgba(42, 63, 95, 1.0)\",\"minorgridcolor\":\"rgba(255, 255, 255, 1.0)\",\"startlinecolor\":\"rgba(42, 63, 95, 1.0)\"},\"baxis\":{\"linecolor\":\"rgba(255, 255, 255, 1.0)\",\"gridcolor\":\"rgba(255, 255, 255, 1.0)\",\"endlinecolor\":\"rgba(42, 63, 95, 1.0)\",\"minorgridcolor\":\"rgba(255, 255, 255, 1.0)\",\"startlinecolor\":\"rgba(42, 63, 95, 1.0)\"}}],\"choropleth\":[{\"colorbar\":{\"outlinewidth\":0.0,\"ticks\":\"\"},\"colorscale\":[[0.0,\"#0d0887\"],[0.1111111111111111,\"#46039f\"],[0.2222222222222222,\"#7201a8\"],[0.3333333333333333,\"#9c179e\"],[0.4444444444444444,\"#bd3786\"],[0.5555555555555556,\"#d8576b\"],[0.6666666666666666,\"#ed7953\"],[0.7777777777777778,\"#fb9f3a\"],[0.8888888888888888,\"#fdca26\"],[1.0,\"#f0f921\"]]}],\"contour\":[{\"colorbar\":{\"outlinewidth\":0.0,\"ticks\":\"\"},\"colorscale\":[[0.0,\"#0d0887\"],[0.1111111111111111,\"#46039f\"],[0.2222222222222222,\"#7201a8\"],[0.3333333333333333,\"#9c179e\"],[0.4444444444444444,\"#bd3786\"],[0.5555555555555556,\"#d8576b\"],[0.6666666666666666,\"#ed7953\"],[0.7777777777777778,\"#fb9f3a\"],[0.8888888888888888,\"#fdca26\"],[1.0,\"#f0f921\"]]}],\"contourcarpet\":[{\"colorbar\":{\"outlinewidth\":0.0,\"ticks\":\"\"}}],\"heatmap\":[{\"colorbar\":{\"outlinewidth\":0.0,\"ticks\":\"\"},\"colorscale\":[[0.0,\"#0d0887\"],[0.1111111111111111,\"#46039f\"],[0.2222222222222222,\"#7201a8\"],[0.3333333333333333,\"#9c179e\"],[0.4444444444444444,\"#bd3786\"],[0.5555555555555556,\"#d8576b\"],[0.6666666666666666,\"#ed7953\"],[0.7777777777777778,\"#fb9f3a\"],[0.8888888888888888,\"#fdca26\"],[1.0,\"#f0f921\"]]}],\"heatmapgl\":[{\"colorbar\":{\"outlinewidth\":0.0,\"ticks\":\"\"},\"colorscale\":[[0.0,\"#0d0887\"],[0.1111111111111111,\"#46039f\"],[0.2222222222222222,\"#7201a8\"],[0.3333333333333333,\"#9c179e\"],[0.4444444444444444,\"#bd3786\"],[0.5555555555555556,\"#d8576b\"],[0.6666666666666666,\"#ed7953\"],[0.7777777777777778,\"#fb9f3a\"],[0.8888888888888888,\"#fdca26\"],[1.0,\"#f0f921\"]]}],\"histogram\":[{\"marker\":{\"pattern\":{\"fillmode\":\"overlay\",\"size\":10,\"solidity\":0.2}}}],\"histogram2d\":[{\"colorbar\":{\"outlinewidth\":0.0,\"ticks\":\"\"},\"colorscale\":[[0.0,\"#0d0887\"],[0.1111111111111111,\"#46039f\"],[0.2222222222222222,\"#7201a8\"],[0.3333333333333333,\"#9c179e\"],[0.4444444444444444,\"#bd3786\"],[0.5555555555555556,\"#d8576b\"],[0.6666666666666666,\"#ed7953\"],[0.7777777777777778,\"#fb9f3a\"],[0.8888888888888888,\"#fdca26\"],[1.0,\"#f0f921\"]]}],\"histogram2dcontour\":[{\"colorbar\":{\"outlinewidth\":0.0,\"ticks\":\"\"},\"colorscale\":[[0.0,\"#0d0887\"],[0.1111111111111111,\"#46039f\"],[0.2222222222222222,\"#7201a8\"],[0.3333333333333333,\"#9c179e\"],[0.4444444444444444,\"#bd3786\"],[0.5555555555555556,\"#d8576b\"],[0.6666666666666666,\"#ed7953\"],[0.7777777777777778,\"#fb9f3a\"],[0.8888888888888888,\"#fdca26\"],[1.0,\"#f0f921\"]]}],\"mesh3d\":[{\"colorbar\":{\"outlinewidth\":0.0,\"ticks\":\"\"}}],\"parcoords\":[{\"line\":{\"colorbar\":{\"outlinewidth\":0.0,\"ticks\":\"\"}}}],\"pie\":[{\"automargin\":true}],\"scatter\":[{\"marker\":{\"colorbar\":{\"outlinewidth\":0.0,\"ticks\":\"\"}}}],\"scatter3d\":[{\"marker\":{\"colorbar\":{\"outlinewidth\":0.0,\"ticks\":\"\"}},\"line\":{\"colorbar\":{\"outlinewidth\":0.0,\"ticks\":\"\"}}}],\"scattercarpet\":[{\"marker\":{\"colorbar\":{\"outlinewidth\":0.0,\"ticks\":\"\"}}}],\"scattergeo\":[{\"marker\":{\"colorbar\":{\"outlinewidth\":0.0,\"ticks\":\"\"}}}],\"scattergl\":[{\"marker\":{\"colorbar\":{\"outlinewidth\":0.0,\"ticks\":\"\"}}}],\"scattermapbox\":[{\"marker\":{\"colorbar\":{\"outlinewidth\":0.0,\"ticks\":\"\"}}}],\"scatterpolar\":[{\"marker\":{\"colorbar\":{\"outlinewidth\":0.0,\"ticks\":\"\"}}}],\"scatterpolargl\":[{\"marker\":{\"colorbar\":{\"outlinewidth\":0.0,\"ticks\":\"\"}}}],\"scatterternary\":[{\"marker\":{\"colorbar\":{\"outlinewidth\":0.0,\"ticks\":\"\"}}}],\"surface\":[{\"colorbar\":{\"outlinewidth\":0.0,\"ticks\":\"\"},\"colorscale\":[[0.0,\"#0d0887\"],[0.1111111111111111,\"#46039f\"],[0.2222222222222222,\"#7201a8\"],[0.3333333333333333,\"#9c179e\"],[0.4444444444444444,\"#bd3786\"],[0.5555555555555556,\"#d8576b\"],[0.6666666666666666,\"#ed7953\"],[0.7777777777777778,\"#fb9f3a\"],[0.8888888888888888,\"#fdca26\"],[1.0,\"#f0f921\"]]}],\"table\":[{\"cells\":{\"fill\":{\"color\":\"rgba(235, 240, 248, 1.0)\"},\"line\":{\"color\":\"rgba(255, 255, 255, 1.0)\"}},\"header\":{\"fill\":{\"color\":\"rgba(200, 212, 227, 1.0)\"},\"line\":{\"color\":\"rgba(255, 255, 255, 1.0)\"}}}]}},\"title\":{\"text\":\"Top 10 weights\"},\"xaxis\":{\"title\":{\"text\":\"Month\"}},\"yaxis\":{\"title\":{\"text\":\"Weight\"}}};\r\n",
       "            var config = {\"responsive\":true};\r\n",
       "            Plotly.newPlot('a9136016-5944-4ef2-a42e-2b5765b166e6', data, layout, config);\r\n",
       "});\r\n",
       "            };\r\n",
       "            if ((typeof(requirejs) !==  typeof(Function)) || (typeof(requirejs.config) !== typeof(Function))) {\r\n",
       "                var script = document.createElement(\"script\");\r\n",
       "                script.setAttribute(\"src\", \"https://cdnjs.cloudflare.com/ajax/libs/require.js/2.3.6/require.min.js\");\r\n",
       "                script.onload = function(){\r\n",
       "                    renderPlotly_a913601659444ef2a42e2b5765b166e6();\r\n",
       "                };\r\n",
       "                document.getElementsByTagName(\"head\")[0].appendChild(script);\r\n",
       "            }\r\n",
       "            else {\r\n",
       "                renderPlotly_a913601659444ef2a42e2b5765b166e6();\r\n",
       "            }\r\n",
       "</script>\r\n",
       "\n",
       "    \n",
       "</div>    \n"
      ]
     },
     "metadata": {},
     "output_type": "display_data"
    }
   ],
   "source": [
    "let x =\n",
    "    topWeights\n",
    "    |>List.sortBy(fun x->x.Item1.Year,x.Item1.Month)\n",
    "    |> Chart.Line\n",
    "    |> Chart.withTitle \"Top 10 weights\"\n",
    "    |> Chart.withXAxisStyle(\"Month\")\n",
    "    |> Chart.withYAxisStyle(\"Weight\")\n",
    "x"
   ]
  }
 ],
 "metadata": {
  "kernelspec": {
   "display_name": ".NET (C#)",
   "language": "C#",
   "name": ".net-csharp"
  },
  "language_info": {
   "file_extension": ".fs",
   "mimetype": "text/x-fsharp",
   "name": "polyglot-notebook",
   "pygments_lexer": "fsharp"
  },
  "polyglot_notebook": {
   "kernelInfo": {
    "defaultKernelName": "csharp",
    "items": [
     {
      "aliases": [],
      "name": "csharp"
     },
     {
      "aliases": [],
      "languageName": "fsharp",
      "name": "fsharp"
     }
    ]
   }
  }
 },
 "nbformat": 4,
 "nbformat_minor": 2
}
