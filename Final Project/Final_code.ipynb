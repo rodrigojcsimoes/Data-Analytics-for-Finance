{
 "cells": [
  {
   "attachments": {},
   "cell_type": "markdown",
   "metadata": {},
   "source": [
    "# Final project"
   ]
  },
  {
   "cell_type": "code",
   "execution_count": 1,
   "metadata": {
    "dotnet_interactive": {
     "language": "fsharp"
    },
    "polyglot_notebook": {
     "kernelName": "fsharp"
    },
    "vscode": {
     "languageId": "polyglot-notebook"
    }
   },
   "outputs": [
    {
     "data": {
      "text/html": [
       "<div><div></div><div></div><div><strong>Installed Packages</strong><ul><li><span>Deedle, 3.0.0</span></li><li><span>DiffSharp-lite, 1.0.7</span></li><li><span>FSharp.Data, 5.0.2</span></li><li><span>FSharp.Stats, 0.4.11</span></li><li><span>MathNet.Numerics, 5.0.0</span></li><li><span>MathNet.Numerics.FSharp, 5.0.0</span></li><li><span>NovaSBE.Finance, 0.2.0-beta1</span></li><li><span>Plotly.NET, 3.0.1</span></li><li><span>Plotly.NET.Interactive, 3.0.2</span></li><li><span>Quotes.YahooFinance, 0.0.5</span></li></ul></div></div>"
      ]
     },
     "metadata": {},
     "output_type": "display_data"
    },
    {
     "data": {
      "text/plain": [
       "Loading extensions from `/Users/rodrigosimoes/.nuget/packages/plotly.net.interactive/3.0.2/interactive-extensions/dotnet/Plotly.NET.Interactive.dll`"
      ]
     },
     "metadata": {},
     "output_type": "display_data"
    }
   ],
   "source": [
    "#r \"nuget: FSharp.Data, 5.*\"\n",
    "#r \"nuget: FSharp.Stats\"\n",
    "#r \"nuget: Plotly.NET, 3.*\"\n",
    "#r \"nuget: Plotly.NET.Interactive, 3.*\"\n",
    "#r \"nuget: MathNet.Numerics\"\n",
    "#r \"nuget: MathNet.Numerics.FSharp\"\n",
    "#r \"nuget: NovaSBE.Finance, 0.2.0-beta1\"\n",
    "#r \"nuget: Deedle\"\n",
    "#r \"nuget: Quotes.YahooFinance, 0.0.5\"\n",
    "#r \"nuget: DiffSharp-lite\"\n",
    "\n",
    "open System\n",
    "open FSharp.Data\n",
    "open FSharp.Stats\n",
    "open Plotly.NET\n",
    "open MathNet.Numerics\n",
    "open MathNet.Numerics.Statistics\n",
    "open NovaSBE.Finance\n",
    "open MathNet.Numerics.LinearAlgebra\n",
    "open NovaSBE.Finance.Ols\n",
    "open NovaSBE.Finance.Portfolio\n",
    "open NovaSBE.Finance.French\n",
    "open Deedle\n",
    "open Quotes.YahooFinance\n",
    "open DiffSharp\n"
   ]
  },
  {
   "attachments": {},
   "cell_type": "markdown",
   "metadata": {},
   "source": [
    "### Import data"
   ]
  },
  {
   "cell_type": "code",
   "execution_count": 2,
   "metadata": {
    "dotnet_interactive": {
     "language": "fsharp"
    },
    "polyglot_notebook": {
     "kernelName": "fsharp"
    },
    "vscode": {
     "languageId": "polyglot-notebook"
    }
   },
   "outputs": [],
   "source": [
    "let [<Literal>] ResolutionFolder = __SOURCE_DIRECTORY__\n",
    "Environment.CurrentDirectory <- ResolutionFolder\n",
    "\n",
    "let [<Literal>] IdAndReturnsFilePath = \"id_and_return_data.csv\"\n",
    "let [<Literal>] MySignalFilePath = \"cowc_gr1a.csv\""
   ]
  },
  {
   "cell_type": "code",
   "execution_count": 3,
   "metadata": {
    "dotnet_interactive": {
     "language": "fsharp"
    },
    "polyglot_notebook": {
     "kernelName": "fsharp"
    },
    "vscode": {
     "languageId": "polyglot-notebook"
    }
   },
   "outputs": [],
   "source": [
    "type IdAndReturnsType = \n",
    "    CsvProvider<Sample=IdAndReturnsFilePath,\n",
    "                ResolutionFolder=ResolutionFolder>\n",
    "\n",
    "type MySignalType = \n",
    "    CsvProvider<MySignalFilePath,\n",
    "                ResolutionFolder=ResolutionFolder>\n"
   ]
  },
  {
   "cell_type": "code",
   "execution_count": 4,
   "metadata": {
    "dotnet_interactive": {
     "language": "fsharp"
    },
    "polyglot_notebook": {
     "kernelName": "fsharp"
    },
    "vscode": {
     "languageId": "polyglot-notebook"
    }
   },
   "outputs": [],
   "source": [
    "let idAndReturnsCsv = IdAndReturnsType.GetSample()\n",
    "let mySignalCsv = MySignalType.GetSample()\n",
    "\n",
    "let idAndReturnsRows = idAndReturnsCsv.Rows |> Seq.toList\n",
    "let mySignalRows = mySignalCsv.Rows |> Seq.toList"
   ]
  },
  {
   "cell_type": "code",
   "execution_count": 5,
   "metadata": {
    "dotnet_interactive": {
     "language": "fsharp"
    },
    "polyglot_notebook": {
     "kernelName": "fsharp"
    },
    "vscode": {
     "languageId": "polyglot-notebook"
    }
   },
   "outputs": [
    {
     "data": {
      "text/html": [
       "<table><thead><tr><th><i>index</i></th><th>value</th></tr></thead><tbody><tr><td>0</td><td><details class=\"dni-treeview\"><summary><span class=\"dni-code-hint\"><code>{ SecurityId = Other \"comp_001034_01\"\\n  FormationDate = 01/12/2008 00:00:00\\n  Signal = 0.042908689 }</code></span></summary><div><table><thead><tr></tr></thead><tbody><tr><td>SecurityId</td><td><details class=\"dni-treeview\"><summary><span class=\"dni-code-hint\"><code>Other \"comp_001034_01\"</code></span></summary><div><table><thead><tr></tr></thead><tbody><tr><td>Item</td><td>comp_001034_01</td></tr></tbody></table></div></details></td></tr><tr><td>FormationDate</td><td><span>2008-12-01 00:00:00Z</span></td></tr><tr><td>Signal</td><td><div class=\"dni-plaintext\"><pre>0.042908689</pre></div></td></tr></tbody></table></div></details></td></tr><tr><td>1</td><td><details class=\"dni-treeview\"><summary><span class=\"dni-code-hint\"><code>{ SecurityId = Other \"comp_001043_01\"\\n  FormationDate = 01/01/2000 00:00:00\\n  Signal = -0.0498933902 }</code></span></summary><div><table><thead><tr></tr></thead><tbody><tr><td>SecurityId</td><td><details class=\"dni-treeview\"><summary><span class=\"dni-code-hint\"><code>Other \"comp_001043_01\"</code></span></summary><div><table><thead><tr></tr></thead><tbody><tr><td>Item</td><td>comp_001043_01</td></tr></tbody></table></div></details></td></tr><tr><td>FormationDate</td><td><span>2000-01-01 00:00:00Z</span></td></tr><tr><td>Signal</td><td><div class=\"dni-plaintext\"><pre>-0.0498933902</pre></div></td></tr></tbody></table></div></details></td></tr><tr><td>2</td><td><details class=\"dni-treeview\"><summary><span class=\"dni-code-hint\"><code>{ SecurityId = Other \"comp_001081_01\"\\n  FormationDate = 01/10/2007 00:00:00\\n  Signal = -0.0042606852 }</code></span></summary><div><table><thead><tr></tr></thead><tbody><tr><td>SecurityId</td><td><details class=\"dni-treeview\"><summary><span class=\"dni-code-hint\"><code>Other \"comp_001081_01\"</code></span></summary><div><table><thead><tr></tr></thead><tbody><tr><td>Item</td><td>comp_001081_01</td></tr></tbody></table></div></details></td></tr><tr><td>FormationDate</td><td><span>2007-10-01 00:00:00Z</span></td></tr><tr><td>Signal</td><td><div class=\"dni-plaintext\"><pre>-0.0042606852</pre></div></td></tr></tbody></table></div></details></td></tr><tr><td>3</td><td><details class=\"dni-treeview\"><summary><span class=\"dni-code-hint\"><code>{ SecurityId = Other \"comp_001095_01\"\\n  FormationDate = 01/06/2002 00:00:00\\n  Signal = -0.0167255795 }</code></span></summary><div><table><thead><tr></tr></thead><tbody><tr><td>SecurityId</td><td><details class=\"dni-treeview\"><summary><span class=\"dni-code-hint\"><code>Other \"comp_001095_01\"</code></span></summary><div><table><thead><tr></tr></thead><tbody><tr><td>Item</td><td>comp_001095_01</td></tr></tbody></table></div></details></td></tr><tr><td>FormationDate</td><td><span>2002-06-01 00:00:00Z</span></td></tr><tr><td>Signal</td><td><div class=\"dni-plaintext\"><pre>-0.0167255795</pre></div></td></tr></tbody></table></div></details></td></tr></tbody></table><style>\r\n",
       ".dni-code-hint {\r\n",
       "    font-style: italic;\r\n",
       "    overflow: hidden;\r\n",
       "    white-space: nowrap;\r\n",
       "}\r\n",
       ".dni-treeview {\r\n",
       "    white-space: nowrap;\r\n",
       "}\r\n",
       ".dni-treeview td {\r\n",
       "    vertical-align: top;\r\n",
       "    text-align: start;\r\n",
       "}\r\n",
       "details.dni-treeview {\r\n",
       "    padding-left: 1em;\r\n",
       "}\r\n",
       "table td {\r\n",
       "    text-align: start;\r\n",
       "}\r\n",
       "table tr { \r\n",
       "    vertical-align: top; \r\n",
       "    margin: 0em 0px;\r\n",
       "}\r\n",
       "table tr td pre \r\n",
       "{ \r\n",
       "    vertical-align: top !important; \r\n",
       "    margin: 0em 0px !important;\r\n",
       "} \r\n",
       "table th {\r\n",
       "    text-align: start;\r\n",
       "}\r\n",
       "</style>"
      ]
     },
     "metadata": {},
     "output_type": "display_data"
    }
   ],
   "source": [
    "let mySignals =\n",
    "    mySignalRows\n",
    "    |> List.choose (fun row -> \n",
    "        match row.Signal with\n",
    "        | None -> None\n",
    "        | Some signal ->\n",
    "            let signalRecord: Signal =\n",
    "                { SecurityId = Other row.Id\n",
    "                  FormationDate = DateTime(row.Eom.Year, row.Eom.Month, 1)\n",
    "                  // Signal has negative direction\n",
    "                  Signal = -signal }\n",
    "            Some signalRecord)\n",
    "\n",
    "// look at a few signals\n",
    "mySignals[..3]"
   ]
  },
  {
   "cell_type": "code",
   "execution_count": 6,
   "metadata": {
    "dotnet_interactive": {
     "language": "fsharp"
    },
    "polyglot_notebook": {
     "kernelName": "fsharp"
    },
    "vscode": {
     "languageId": "polyglot-notebook"
    }
   },
   "outputs": [
    {
     "data": {
      "text/html": [
       "<table><thead><tr><th><i>index</i></th><th>value</th></tr></thead><tbody><tr><td>0</td><td><details class=\"dni-treeview\"><summary><span class=\"dni-code-hint\"><code>{ SecurityId = Other \"crsp_86432\"\\n  Date = 01/01/2000 00:00:00\\n  Return = -0.003906 }</code></span></summary><div><table><thead><tr></tr></thead><tbody><tr><td>SecurityId</td><td><details class=\"dni-treeview\"><summary><span class=\"dni-code-hint\"><code>Other \"crsp_86432\"</code></span></summary><div><table><thead><tr></tr></thead><tbody><tr><td>Item</td><td>crsp_86432</td></tr></tbody></table></div></details></td></tr><tr><td>Date</td><td><span>2000-01-01 00:00:00Z</span></td></tr><tr><td>Return</td><td><div class=\"dni-plaintext\"><pre>-0.003906</pre></div></td></tr></tbody></table></div></details></td></tr><tr><td>1</td><td><details class=\"dni-treeview\"><summary><span class=\"dni-code-hint\"><code>{ SecurityId = Other \"crsp_85640\"\\n  Date = 01/01/2000 00:00:00\\n  Return = -0.157143 }</code></span></summary><div><table><thead><tr></tr></thead><tbody><tr><td>SecurityId</td><td><details class=\"dni-treeview\"><summary><span class=\"dni-code-hint\"><code>Other \"crsp_85640\"</code></span></summary><div><table><thead><tr></tr></thead><tbody><tr><td>Item</td><td>crsp_85640</td></tr></tbody></table></div></details></td></tr><tr><td>Date</td><td><span>2000-01-01 00:00:00Z</span></td></tr><tr><td>Return</td><td><div class=\"dni-plaintext\"><pre>-0.157143</pre></div></td></tr></tbody></table></div></details></td></tr><tr><td>2</td><td><details class=\"dni-treeview\"><summary><span class=\"dni-code-hint\"><code>{ SecurityId = Other \"crsp_86430\"\\n  Date = 01/01/2000 00:00:00\\n  Return = 0.285714 }</code></span></summary><div><table><thead><tr></tr></thead><tbody><tr><td>SecurityId</td><td><details class=\"dni-treeview\"><summary><span class=\"dni-code-hint\"><code>Other \"crsp_86430\"</code></span></summary><div><table><thead><tr></tr></thead><tbody><tr><td>Item</td><td>crsp_86430</td></tr></tbody></table></div></details></td></tr><tr><td>Date</td><td><span>2000-01-01 00:00:00Z</span></td></tr><tr><td>Return</td><td><div class=\"dni-plaintext\"><pre>0.285714</pre></div></td></tr></tbody></table></div></details></td></tr><tr><td>3</td><td><details class=\"dni-treeview\"><summary><span class=\"dni-code-hint\"><code>{ SecurityId = Other \"crsp_85756\"\\n  Date = 01/01/2000 00:00:00\\n  Return = 0.190685 }</code></span></summary><div><table><thead><tr></tr></thead><tbody><tr><td>SecurityId</td><td><details class=\"dni-treeview\"><summary><span class=\"dni-code-hint\"><code>Other \"crsp_85756\"</code></span></summary><div><table><thead><tr></tr></thead><tbody><tr><td>Item</td><td>crsp_85756</td></tr></tbody></table></div></details></td></tr><tr><td>Date</td><td><span>2000-01-01 00:00:00Z</span></td></tr><tr><td>Return</td><td><div class=\"dni-plaintext\"><pre>0.190685</pre></div></td></tr></tbody></table></div></details></td></tr></tbody></table><style>\r\n",
       ".dni-code-hint {\r\n",
       "    font-style: italic;\r\n",
       "    overflow: hidden;\r\n",
       "    white-space: nowrap;\r\n",
       "}\r\n",
       ".dni-treeview {\r\n",
       "    white-space: nowrap;\r\n",
       "}\r\n",
       ".dni-treeview td {\r\n",
       "    vertical-align: top;\r\n",
       "    text-align: start;\r\n",
       "}\r\n",
       "details.dni-treeview {\r\n",
       "    padding-left: 1em;\r\n",
       "}\r\n",
       "table td {\r\n",
       "    text-align: start;\r\n",
       "}\r\n",
       "table tr { \r\n",
       "    vertical-align: top; \r\n",
       "    margin: 0em 0px;\r\n",
       "}\r\n",
       "table tr td pre \r\n",
       "{ \r\n",
       "    vertical-align: top !important; \r\n",
       "    margin: 0em 0px !important;\r\n",
       "} \r\n",
       "table th {\r\n",
       "    text-align: start;\r\n",
       "}\r\n",
       "</style>"
      ]
     },
     "metadata": {},
     "output_type": "display_data"
    }
   ],
   "source": [
    "let myReturns =\n",
    "    idAndReturnsRows\n",
    "    |> List.choose (fun row -> \n",
    "        match row.Ret with\n",
    "        | None -> None\n",
    "        | Some ret ->\n",
    "            let ret: SecurityReturn =\n",
    "                { SecurityId = Other row.Id\n",
    "                  Date = DateTime(row.Eom.Year, row.Eom.Month, 1)\n",
    "                  Return= ret }\n",
    "            Some ret)\n",
    "\n",
    "// look at a few returns\n",
    "myReturns[..3]\n"
   ]
  },
  {
   "cell_type": "code",
   "execution_count": 7,
   "metadata": {
    "dotnet_interactive": {
     "language": "fsharp"
    },
    "polyglot_notebook": {
     "kernelName": "fsharp"
    },
    "vscode": {
     "languageId": "polyglot-notebook"
    }
   },
   "outputs": [
    {
     "data": {
      "text/html": [
       "<table><thead><tr><th><i>index</i></th><th>value</th></tr></thead><tbody><tr><td>0</td><td><details class=\"dni-treeview\"><summary><span class=\"dni-code-hint\"><code>{ SecurityId = Other \"crsp_86432\"\\n  FormationDate = 01/01/2000 00:00:00\\n  Value = 83.161875 }</code></span></summary><div><table><thead><tr></tr></thead><tbody><tr><td>SecurityId</td><td><details class=\"dni-treeview\"><summary><span class=\"dni-code-hint\"><code>Other \"crsp_86432\"</code></span></summary><div><table><thead><tr></tr></thead><tbody><tr><td>Item</td><td>crsp_86432</td></tr></tbody></table></div></details></td></tr><tr><td>FormationDate</td><td><span>2000-01-01 00:00:00Z</span></td></tr><tr><td>Value</td><td><div class=\"dni-plaintext\"><pre>83.161875</pre></div></td></tr></tbody></table></div></details></td></tr><tr><td>1</td><td><details class=\"dni-treeview\"><summary><span class=\"dni-code-hint\"><code>{ SecurityId = Other \"crsp_85640\"\\n  FormationDate = 01/01/2000 00:00:00\\n  Value = 377.954 }</code></span></summary><div><table><thead><tr></tr></thead><tbody><tr><td>SecurityId</td><td><details class=\"dni-treeview\"><summary><span class=\"dni-code-hint\"><code>Other \"crsp_85640\"</code></span></summary><div><table><thead><tr></tr></thead><tbody><tr><td>Item</td><td>crsp_85640</td></tr></tbody></table></div></details></td></tr><tr><td>FormationDate</td><td><span>2000-01-01 00:00:00Z</span></td></tr><tr><td>Value</td><td><div class=\"dni-plaintext\"><pre>377.954</pre></div></td></tr></tbody></table></div></details></td></tr><tr><td>2</td><td><details class=\"dni-treeview\"><summary><span class=\"dni-code-hint\"><code>{ SecurityId = Other \"crsp_86430\"\\n  FormationDate = 01/01/2000 00:00:00\\n  Value = 42.38325 }</code></span></summary><div><table><thead><tr></tr></thead><tbody><tr><td>SecurityId</td><td><details class=\"dni-treeview\"><summary><span class=\"dni-code-hint\"><code>Other \"crsp_86430\"</code></span></summary><div><table><thead><tr></tr></thead><tbody><tr><td>Item</td><td>crsp_86430</td></tr></tbody></table></div></details></td></tr><tr><td>FormationDate</td><td><span>2000-01-01 00:00:00Z</span></td></tr><tr><td>Value</td><td><div class=\"dni-plaintext\"><pre>42.38325</pre></div></td></tr></tbody></table></div></details></td></tr><tr><td>3</td><td><details class=\"dni-treeview\"><summary><span class=\"dni-code-hint\"><code>{ SecurityId = Other \"crsp_85756\"\\n  FormationDate = 01/01/2000 00:00:00\\n  Value = 16.2155 }</code></span></summary><div><table><thead><tr></tr></thead><tbody><tr><td>SecurityId</td><td><details class=\"dni-treeview\"><summary><span class=\"dni-code-hint\"><code>Other \"crsp_85756\"</code></span></summary><div><table><thead><tr></tr></thead><tbody><tr><td>Item</td><td>crsp_85756</td></tr></tbody></table></div></details></td></tr><tr><td>FormationDate</td><td><span>2000-01-01 00:00:00Z</span></td></tr><tr><td>Value</td><td><div class=\"dni-plaintext\"><pre>16.2155</pre></div></td></tr></tbody></table></div></details></td></tr></tbody></table><style>\r\n",
       ".dni-code-hint {\r\n",
       "    font-style: italic;\r\n",
       "    overflow: hidden;\r\n",
       "    white-space: nowrap;\r\n",
       "}\r\n",
       ".dni-treeview {\r\n",
       "    white-space: nowrap;\r\n",
       "}\r\n",
       ".dni-treeview td {\r\n",
       "    vertical-align: top;\r\n",
       "    text-align: start;\r\n",
       "}\r\n",
       "details.dni-treeview {\r\n",
       "    padding-left: 1em;\r\n",
       "}\r\n",
       "table td {\r\n",
       "    text-align: start;\r\n",
       "}\r\n",
       "table tr { \r\n",
       "    vertical-align: top; \r\n",
       "    margin: 0em 0px;\r\n",
       "}\r\n",
       "table tr td pre \r\n",
       "{ \r\n",
       "    vertical-align: top !important; \r\n",
       "    margin: 0em 0px !important;\r\n",
       "} \r\n",
       "table th {\r\n",
       "    text-align: start;\r\n",
       "}\r\n",
       "</style>"
      ]
     },
     "metadata": {},
     "output_type": "display_data"
    }
   ],
   "source": [
    "let myMktCaps =\n",
    "    idAndReturnsRows\n",
    "    |> List.choose (fun row -> \n",
    "        match row.MarketEquity with\n",
    "        | None -> None\n",
    "        | Some mktCap ->\n",
    "            let mktCap: WeightVariable =\n",
    "                { SecurityId = Other row.Id\n",
    "                  FormationDate = DateTime(row.Eom.Year, row.Eom.Month, 1)\n",
    "                  Value = mktCap }\n",
    "            Some mktCap)\n",
    "\n",
    "// look at a few market caps\n",
    "myMktCaps[..3]"
   ]
  },
  {
   "attachments": {},
   "cell_type": "markdown",
   "metadata": {},
   "source": [
    "### Value-weight portfolios"
   ]
  },
  {
   "cell_type": "code",
   "execution_count": 8,
   "metadata": {
    "dotnet_interactive": {
     "language": "fsharp"
    },
    "polyglot_notebook": {
     "kernelName": "fsharp"
    },
    "vscode": {
     "languageId": "polyglot-notebook"
    }
   },
   "outputs": [],
   "source": [
    "let strategyName = \"Change in COWC\"\n",
    "let backtest = Backtest(returns=myReturns, signals=mySignals, nPortfolios=3, name = strategyName)\n",
    "let vw = backtest.strategyValueWeighted(myMktCaps)"
   ]
  },
  {
   "cell_type": "code",
   "execution_count": 9,
   "metadata": {
    "dotnet_interactive": {
     "language": "fsharp"
    },
    "polyglot_notebook": {
     "kernelName": "fsharp"
    },
    "vscode": {
     "languageId": "polyglot-notebook"
    }
   },
   "outputs": [
    {
     "data": {
      "text/html": [
       "<table><thead><tr><th><i>index</i></th><th>value</th></tr></thead><tbody><tr><td>0</td><td><details class=\"dni-treeview\"><summary><span class=\"dni-code-hint\"><code>{ Name = \"Change in COWC\"\\n  Index = 1\\n  FormationMonth = 01/12/2008 00:00:00\\n  Positions =\\n   [{ SecurityId = Other \"crsp_91070\"\\n      Weight = 1.393719523e-06 }; { SecurityId = Other \"crsp_86251\"\\n                                    Weight = 1.002456765e-06 };\\n    { SecurityId = Other \"crsp_9...</code></span></summary><div><table><thead><tr></tr></thead><tbody><tr><td>Name</td><td>Change in COWC</td></tr><tr><td>Index</td><td><div class=\"dni-plaintext\"><pre>1</pre></div></td></tr><tr><td>FormationMonth</td><td><span>2008-12-01 00:00:00Z</span></td></tr><tr><td>Positions</td><td><table><thead><tr><th><i>index</i></th><th>value</th></tr></thead><tbody><tr><td>0</td><td><details class=\"dni-treeview\"><summary><span class=\"dni-code-hint\"><code>{ SecurityId = Other \"crsp_91070\"\\n  Weight = 1.393719523e-06 }</code></span></summary><div><table><thead><tr></tr></thead><tbody><tr><td>SecurityId</td><td><details class=\"dni-treeview\"><summary><span class=\"dni-code-hint\"><code>Other \"crsp_91070\"</code></span></summary><div><table><thead><tr></tr></thead><tbody><tr><td>Item</td><td>crsp_91070</td></tr></tbody></table></div></details></td></tr><tr><td>Weight</td><td><div class=\"dni-plaintext\"><pre>1.3937195227322193E-06</pre></div></td></tr></tbody></table></div></details></td></tr><tr><td>1</td><td><details class=\"dni-treeview\"><summary><span class=\"dni-code-hint\"><code>{ SecurityId = Other \"crsp_86251\"\\n  Weight = 1.002456765e-06 }</code></span></summary><div><table><thead><tr></tr></thead><tbody><tr><td>SecurityId</td><td><details class=\"dni-treeview\"><summary><span class=\"dni-code-hint\"><code>Other \"crsp_86251\"</code></span></summary><div><table><thead><tr></tr></thead><tbody><tr><td>Item</td><td>crsp_86251</td></tr></tbody></table></div></details></td></tr><tr><td>Weight</td><td><div class=\"dni-plaintext\"><pre>1.0024567652869495E-06</pre></div></td></tr></tbody></table></div></details></td></tr><tr><td>2</td><td><details class=\"dni-treeview\"><summary><span class=\"dni-code-hint\"><code>{ SecurityId = Other \"crsp_92243\"\\n  Weight = 7.985680388e-05 }</code></span></summary><div><table><thead><tr></tr></thead><tbody><tr><td>SecurityId</td><td><details class=\"dni-treeview\"><summary><span class=\"dni-code-hint\"><code>Other \"crsp_92243\"</code></span></summary><div><table><thead><tr></tr></thead><tbody><tr><td>Item</td><td>crsp_92243</td></tr></tbody></table></div></details></td></tr><tr><td>Weight</td><td><div class=\"dni-plaintext\"><pre>7.985680387796288E-05</pre></div></td></tr></tbody></table></div></details></td></tr><tr><td>3</td><td><details class=\"dni-treeview\"><summary><span class=\"dni-code-hint\"><code>{ SecurityId = Other \"crsp_91512\"\\n  Weight = 5.133257197e-07 }</code></span></summary><div><table><thead><tr></tr></thead><tbody><tr><td>SecurityId</td><td><details class=\"dni-treeview\"><summary><span class=\"dni-code-hint\"><code>Other \"crsp_91512\"</code></span></summary><div><table><thead><tr></tr></thead><tbody><tr><td>Item</td><td>crsp_91512</td></tr></tbody></table></div></details></td></tr><tr><td>Weight</td><td><div class=\"dni-plaintext\"><pre>5.13325719746382E-07</pre></div></td></tr></tbody></table></div></details></td></tr><tr><td>4</td><td><details class=\"dni-treeview\"><summary><span class=\"dni-code-hint\"><code>{ SecurityId = Other \"crsp_82530\"\\n  Weight = 3.743947556e-06 }</code></span></summary><div><table><thead><tr></tr></thead><tbody><tr><td>SecurityId</td><td><details class=\"dni-treeview\"><summary><span class=\"dni-code-hint\"><code>Other \"crsp_82530\"</code></span></summary><div><table><thead><tr></tr></thead><tbody><tr><td>Item</td><td>crsp_82530</td></tr></tbody></table></div></details></td></tr><tr><td>Weight</td><td><div class=\"dni-plaintext\"><pre>3.7439475564690517E-06</pre></div></td></tr></tbody></table></div></details></td></tr><tr><td>5</td><td><details class=\"dni-treeview\"><summary><span class=\"dni-code-hint\"><code>{ SecurityId = Other \"crsp_79066\"\\n  Weight = 3.25993626e-06 }</code></span></summary><div><table><thead><tr></tr></thead><tbody><tr><td>SecurityId</td><td><details class=\"dni-treeview\"><summary><span class=\"dni-code-hint\"><code>Other \"crsp_79066\"</code></span></summary><div><table><thead><tr></tr></thead><tbody><tr><td>Item</td><td>crsp_79066</td></tr></tbody></table></div></details></td></tr><tr><td>Weight</td><td><div class=\"dni-plaintext\"><pre>3.2599362602864603E-06</pre></div></td></tr></tbody></table></div></details></td></tr><tr><td>6</td><td><details class=\"dni-treeview\"><summary><span class=\"dni-code-hint\"><code>{ SecurityId = Other \"crsp_89445\"\\n  Weight = 2.256595912e-05 }</code></span></summary><div><table><thead><tr></tr></thead><tbody><tr><td>SecurityId</td><td><details class=\"dni-treeview\"><summary><span class=\"dni-code-hint\"><code>Other \"crsp_89445\"</code></span></summary><div><table><thead><tr></tr></thead><tbody><tr><td>Item</td><td>crsp_89445</td></tr></tbody></table></div></details></td></tr><tr><td>Weight</td><td><div class=\"dni-plaintext\"><pre>2.2565959123103108E-05</pre></div></td></tr></tbody></table></div></details></td></tr><tr><td>7</td><td><details class=\"dni-treeview\"><summary><span class=\"dni-code-hint\"><code>{ SecurityId = Other \"crsp_53373\"\\n  Weight = 1.724564693e-05 }</code></span></summary><div><table><thead><tr></tr></thead><tbody><tr><td>SecurityId</td><td><details class=\"dni-treeview\"><summary><span class=\"dni-code-hint\"><code>Other \"crsp_53373\"</code></span></summary><div><table><thead><tr></tr></thead><tbody><tr><td>Item</td><td>crsp_53373</td></tr></tbody></table></div></details></td></tr><tr><td>Weight</td><td><div class=\"dni-plaintext\"><pre>1.72456469293296E-05</pre></div></td></tr></tbody></table></div></details></td></tr><tr><td>8</td><td><details class=\"dni-treeview\"><summary><span class=\"dni-code-hint\"><code>{ SecurityId = Other \"crsp_86887\"\\n  Weight = 9.553593397e-07 }</code></span></summary><div><table><thead><tr></tr></thead><tbody><tr><td>SecurityId</td><td><details class=\"dni-treeview\"><summary><span class=\"dni-code-hint\"><code>Other \"crsp_86887\"</code></span></summary><div><table><thead><tr></tr></thead><tbody><tr><td>Item</td><td>crsp_86887</td></tr></tbody></table></div></details></td></tr><tr><td>Weight</td><td><div class=\"dni-plaintext\"><pre>9.553593397379023E-07</pre></div></td></tr></tbody></table></div></details></td></tr><tr><td>9</td><td><details class=\"dni-treeview\"><summary><span class=\"dni-code-hint\"><code>{ SecurityId = Other \"crsp_90752\"\\n  Weight = 9.368789152e-06 }</code></span></summary><div><table><thead><tr></tr></thead><tbody><tr><td>SecurityId</td><td><details class=\"dni-treeview\"><summary><span class=\"dni-code-hint\"><code>Other \"crsp_90752\"</code></span></summary><div><table><thead><tr></tr></thead><tbody><tr><td>Item</td><td>crsp_90752</td></tr></tbody></table></div></details></td></tr><tr><td>Weight</td><td><div class=\"dni-plaintext\"><pre>9.368789152185624E-06</pre></div></td></tr></tbody></table></div></details></td></tr><tr><td>10</td><td><details class=\"dni-treeview\"><summary><span class=\"dni-code-hint\"><code>{ SecurityId = Other \"crsp_90855\"\\n  Weight = 5.943823816e-06 }</code></span></summary><div><table><thead><tr></tr></thead><tbody><tr><td>SecurityId</td><td><details class=\"dni-treeview\"><summary><span class=\"dni-code-hint\"><code>Other \"crsp_90855\"</code></span></summary><div><table><thead><tr></tr></thead><tbody><tr><td>Item</td><td>crsp_90855</td></tr></tbody></table></div></details></td></tr><tr><td>Weight</td><td><div class=\"dni-plaintext\"><pre>5.9438238155101275E-06</pre></div></td></tr></tbody></table></div></details></td></tr><tr><td>11</td><td><details class=\"dni-treeview\"><summary><span class=\"dni-code-hint\"><code>{ SecurityId = Other \"crsp_86595\"\\n  Weight = 1.147209611e-05 }</code></span></summary><div><table><thead><tr></tr></thead><tbody><tr><td>SecurityId</td><td><details class=\"dni-treeview\"><summary><span class=\"dni-code-hint\"><code>Other \"crsp_86595\"</code></span></summary><div><table><thead><tr></tr></thead><tbody><tr><td>Item</td><td>crsp_86595</td></tr></tbody></table></div></details></td></tr><tr><td>Weight</td><td><div class=\"dni-plaintext\"><pre>1.1472096107398608E-05</pre></div></td></tr></tbody></table></div></details></td></tr><tr><td>12</td><td><details class=\"dni-treeview\"><summary><span class=\"dni-code-hint\"><code>{ SecurityId = Other \"crsp_82552\"\\n  Weight = 1.570507153e-05 }</code></span></summary><div><table><thead><tr></tr></thead><tbody><tr><td>SecurityId</td><td><details class=\"dni-treeview\"><summary><span class=\"dni-code-hint\"><code>Other \"crsp_82552\"</code></span></summary><div><table><thead><tr></tr></thead><tbody><tr><td>Item</td><td>crsp_82552</td></tr></tbody></table></div></details></td></tr><tr><td>Weight</td><td><div class=\"dni-plaintext\"><pre>1.5705071532975245E-05</pre></div></td></tr></tbody></table></div></details></td></tr><tr><td>13</td><td><details class=\"dni-treeview\"><summary><span class=\"dni-code-hint\"><code>{ SecurityId = Other \"crsp_91078\"\\n  Weight = 2.13466859e-05 }</code></span></summary><div><table><thead><tr></tr></thead><tbody><tr><td>SecurityId</td><td><details class=\"dni-treeview\"><summary><span class=\"dni-code-hint\"><code>Other \"crsp_91078\"</code></span></summary><div><table><thead><tr></tr></thead><tbody><tr><td>Item</td><td>crsp_91078</td></tr></tbody></table></div></details></td></tr><tr><td>Weight</td><td><div class=\"dni-plaintext\"><pre>2.134668590075088E-05</pre></div></td></tr></tbody></table></div></details></td></tr><tr><td>14</td><td><details class=\"dni-treeview\"><summary><span class=\"dni-code-hint\"><code>{ SecurityId = Other \"comp_114698_01\"\\n  Weight = 3.281111208e-06 }</code></span></summary><div><table><thead><tr></tr></thead><tbody><tr><td>SecurityId</td><td><details class=\"dni-treeview\"><summary><span class=\"dni-code-hint\"><code>Other \"comp_114698_01\"</code></span></summary><div><table><thead><tr></tr></thead><tbody><tr><td>Item</td><td>comp_114698_01</td></tr></tbody></table></div></details></td></tr><tr><td>Weight</td><td><div class=\"dni-plaintext\"><pre>3.281111207885825E-06</pre></div></td></tr></tbody></table></div></details></td></tr><tr><td>15</td><td><details class=\"dni-treeview\"><summary><span class=\"dni-code-hint\"><code>{ SecurityId = Other \"crsp_92088\"\\n  Weight = 4.265016454e-05 }</code></span></summary><div><table><thead><tr></tr></thead><tbody><tr><td>SecurityId</td><td><details class=\"dni-treeview\"><summary><span class=\"dni-code-hint\"><code>Other \"crsp_92088\"</code></span></summary><div><table><thead><tr></tr></thead><tbody><tr><td>Item</td><td>crsp_92088</td></tr></tbody></table></div></details></td></tr><tr><td>Weight</td><td><div class=\"dni-plaintext\"><pre>4.2650164539863356E-05</pre></div></td></tr></tbody></table></div></details></td></tr><tr><td>16</td><td><details class=\"dni-treeview\"><summary><span class=\"dni-code-hint\"><code>{ SecurityId = Other \"crsp_81119\"\\n  Weight = 2.834427478e-07 }</code></span></summary><div><table><thead><tr></tr></thead><tbody><tr><td>SecurityId</td><td><details class=\"dni-treeview\"><summary><span class=\"dni-code-hint\"><code>Other \"crsp_81119\"</code></span></summary><div><table><thead><tr></tr></thead><tbody><tr><td>Item</td><td>crsp_81119</td></tr></tbody></table></div></details></td></tr><tr><td>Weight</td><td><div class=\"dni-plaintext\"><pre>2.834427477935354E-07</pre></div></td></tr></tbody></table></div></details></td></tr><tr><td>17</td><td><details class=\"dni-treeview\"><summary><span class=\"dni-code-hint\"><code>{ SecurityId = Other \"crsp_89574\"\\n  Weight = 0.0002099150928 }</code></span></summary><div><table><thead><tr></tr></thead><tbody><tr><td>SecurityId</td><td><details class=\"dni-treeview\"><summary><span class=\"dni-code-hint\"><code>Other \"crsp_89574\"</code></span></summary><div><table><thead><tr></tr></thead><tbody><tr><td>Item</td><td>crsp_89574</td></tr></tbody></table></div></details></td></tr><tr><td>Weight</td><td><div class=\"dni-plaintext\"><pre>0.00020991509277028996</pre></div></td></tr></tbody></table></div></details></td></tr><tr><td>18</td><td><details class=\"dni-treeview\"><summary><span class=\"dni-code-hint\"><code>{ SecurityId = Other \"crsp_84420\"\\n  Weight = 1.746597589e-05 }</code></span></summary><div><table><thead><tr></tr></thead><tbody><tr><td>SecurityId</td><td><details class=\"dni-treeview\"><summary><span class=\"dni-code-hint\"><code>Other \"crsp_84420\"</code></span></summary><div><table><thead><tr></tr></thead><tbody><tr><td>Item</td><td>crsp_84420</td></tr></tbody></table></div></details></td></tr><tr><td>Weight</td><td><div class=\"dni-plaintext\"><pre>1.7465975891381783E-05</pre></div></td></tr></tbody></table></div></details></td></tr><tr><td>19</td><td><details class=\"dni-treeview\"><summary><span class=\"dni-code-hint\"><code>{ SecurityId = Other \"crsp_90169\"\\n  Weight = 7.857196074e-06 }</code></span></summary><div><table><thead><tr></tr></thead><tbody><tr><td>SecurityId</td><td><details class=\"dni-treeview\"><summary><span class=\"dni-code-hint\"><code>Other \"crsp_90169\"</code></span></summary><div><table><thead><tr></tr></thead><tbody><tr><td>Item</td><td>crsp_90169</td></tr></tbody></table></div></details></td></tr><tr><td>Weight</td><td><div class=\"dni-plaintext\"><pre>7.8571960742664E-06</pre></div></td></tr></tbody></table></div></details></td></tr><tr><td colspan=\"2\"><i>... (more)</i></td></tr></tbody></table></td></tr></tbody></table></div></details></td></tr><tr><td>1</td><td><details class=\"dni-treeview\"><summary><span class=\"dni-code-hint\"><code>{ Name = \"Change in COWC\"\\n  Index = 2\\n  FormationMonth = 01/12/2008 00:00:00\\n  Positions =\\n   [{ SecurityId = Other \"crsp_89920\"\\n      Weight = 1.205195795e-05 }; { SecurityId = Other \"crsp_79133\"\\n                                    Weight = 0.000488902511 };\\n    { SecurityId = Other \"crsp_84...</code></span></summary><div><table><thead><tr></tr></thead><tbody><tr><td>Name</td><td>Change in COWC</td></tr><tr><td>Index</td><td><div class=\"dni-plaintext\"><pre>2</pre></div></td></tr><tr><td>FormationMonth</td><td><span>2008-12-01 00:00:00Z</span></td></tr><tr><td>Positions</td><td><table><thead><tr><th><i>index</i></th><th>value</th></tr></thead><tbody><tr><td>0</td><td><details class=\"dni-treeview\"><summary><span class=\"dni-code-hint\"><code>{ SecurityId = Other \"crsp_89920\"\\n  Weight = 1.205195795e-05 }</code></span></summary><div><table><thead><tr></tr></thead><tbody><tr><td>SecurityId</td><td><details class=\"dni-treeview\"><summary><span class=\"dni-code-hint\"><code>Other \"crsp_89920\"</code></span></summary><div><table><thead><tr></tr></thead><tbody><tr><td>Item</td><td>crsp_89920</td></tr></tbody></table></div></details></td></tr><tr><td>Weight</td><td><div class=\"dni-plaintext\"><pre>1.2051957949406596E-05</pre></div></td></tr></tbody></table></div></details></td></tr><tr><td>1</td><td><details class=\"dni-treeview\"><summary><span class=\"dni-code-hint\"><code>{ SecurityId = Other \"crsp_79133\"\\n  Weight = 0.000488902511 }</code></span></summary><div><table><thead><tr></tr></thead><tbody><tr><td>SecurityId</td><td><details class=\"dni-treeview\"><summary><span class=\"dni-code-hint\"><code>Other \"crsp_79133\"</code></span></summary><div><table><thead><tr></tr></thead><tbody><tr><td>Item</td><td>crsp_79133</td></tr></tbody></table></div></details></td></tr><tr><td>Weight</td><td><div class=\"dni-plaintext\"><pre>0.0004889025109676507</pre></div></td></tr></tbody></table></div></details></td></tr><tr><td>2</td><td><details class=\"dni-treeview\"><summary><span class=\"dni-code-hint\"><code>{ SecurityId = Other \"crsp_84769\"\\n  Weight = 0.0008662244481 }</code></span></summary><div><table><thead><tr></tr></thead><tbody><tr><td>SecurityId</td><td><details class=\"dni-treeview\"><summary><span class=\"dni-code-hint\"><code>Other \"crsp_84769\"</code></span></summary><div><table><thead><tr></tr></thead><tbody><tr><td>Item</td><td>crsp_84769</td></tr></tbody></table></div></details></td></tr><tr><td>Weight</td><td><div class=\"dni-plaintext\"><pre>0.0008662244480838072</pre></div></td></tr></tbody></table></div></details></td></tr><tr><td>3</td><td><details class=\"dni-treeview\"><summary><span class=\"dni-code-hint\"><code>{ SecurityId = Other \"crsp_86949\"\\n  Weight = 8.777396357e-05 }</code></span></summary><div><table><thead><tr></tr></thead><tbody><tr><td>SecurityId</td><td><details class=\"dni-treeview\"><summary><span class=\"dni-code-hint\"><code>Other \"crsp_86949\"</code></span></summary><div><table><thead><tr></tr></thead><tbody><tr><td>Item</td><td>crsp_86949</td></tr></tbody></table></div></details></td></tr><tr><td>Weight</td><td><div class=\"dni-plaintext\"><pre>8.777396357011362E-05</pre></div></td></tr></tbody></table></div></details></td></tr><tr><td>4</td><td><details class=\"dni-treeview\"><summary><span class=\"dni-code-hint\"><code>{ SecurityId = Other \"crsp_86527\"\\n  Weight = 7.150059495e-06 }</code></span></summary><div><table><thead><tr></tr></thead><tbody><tr><td>SecurityId</td><td><details class=\"dni-treeview\"><summary><span class=\"dni-code-hint\"><code>Other \"crsp_86527\"</code></span></summary><div><table><thead><tr></tr></thead><tbody><tr><td>Item</td><td>crsp_86527</td></tr></tbody></table></div></details></td></tr><tr><td>Weight</td><td><div class=\"dni-plaintext\"><pre>7.150059495441206E-06</pre></div></td></tr></tbody></table></div></details></td></tr><tr><td>5</td><td><details class=\"dni-treeview\"><summary><span class=\"dni-code-hint\"><code>{ SecurityId = Other \"crsp_88360\"\\n  Weight = 0.0008374021532 }</code></span></summary><div><table><thead><tr></tr></thead><tbody><tr><td>SecurityId</td><td><details class=\"dni-treeview\"><summary><span class=\"dni-code-hint\"><code>Other \"crsp_88360\"</code></span></summary><div><table><thead><tr></tr></thead><tbody><tr><td>Item</td><td>crsp_88360</td></tr></tbody></table></div></details></td></tr><tr><td>Weight</td><td><div class=\"dni-plaintext\"><pre>0.0008374021531646031</pre></div></td></tr></tbody></table></div></details></td></tr><tr><td>6</td><td><details class=\"dni-treeview\"><summary><span class=\"dni-code-hint\"><code>{ SecurityId = Other \"crsp_92311\"\\n  Weight = 7.754418804e-07 }</code></span></summary><div><table><thead><tr></tr></thead><tbody><tr><td>SecurityId</td><td><details class=\"dni-treeview\"><summary><span class=\"dni-code-hint\"><code>Other \"crsp_92311\"</code></span></summary><div><table><thead><tr></tr></thead><tbody><tr><td>Item</td><td>crsp_92311</td></tr></tbody></table></div></details></td></tr><tr><td>Weight</td><td><div class=\"dni-plaintext\"><pre>7.754418803817567E-07</pre></div></td></tr></tbody></table></div></details></td></tr><tr><td>7</td><td><details class=\"dni-treeview\"><summary><span class=\"dni-code-hint\"><code>{ SecurityId = Other \"crsp_90548\"\\n  Weight = 6.476344624e-05 }</code></span></summary><div><table><thead><tr></tr></thead><tbody><tr><td>SecurityId</td><td><details class=\"dni-treeview\"><summary><span class=\"dni-code-hint\"><code>Other \"crsp_90548\"</code></span></summary><div><table><thead><tr></tr></thead><tbody><tr><td>Item</td><td>crsp_90548</td></tr></tbody></table></div></details></td></tr><tr><td>Weight</td><td><div class=\"dni-plaintext\"><pre>6.476344623726353E-05</pre></div></td></tr></tbody></table></div></details></td></tr><tr><td>8</td><td><details class=\"dni-treeview\"><summary><span class=\"dni-code-hint\"><code>{ SecurityId = Other \"crsp_83728\"\\n  Weight = 0.0006505791952 }</code></span></summary><div><table><thead><tr></tr></thead><tbody><tr><td>SecurityId</td><td><details class=\"dni-treeview\"><summary><span class=\"dni-code-hint\"><code>Other \"crsp_83728\"</code></span></summary><div><table><thead><tr></tr></thead><tbody><tr><td>Item</td><td>crsp_83728</td></tr></tbody></table></div></details></td></tr><tr><td>Weight</td><td><div class=\"dni-plaintext\"><pre>0.0006505791951819553</pre></div></td></tr></tbody></table></div></details></td></tr><tr><td>9</td><td><details class=\"dni-treeview\"><summary><span class=\"dni-code-hint\"><code>{ SecurityId = Other \"crsp_90078\"\\n  Weight = 4.827971746e-05 }</code></span></summary><div><table><thead><tr></tr></thead><tbody><tr><td>SecurityId</td><td><details class=\"dni-treeview\"><summary><span class=\"dni-code-hint\"><code>Other \"crsp_90078\"</code></span></summary><div><table><thead><tr></tr></thead><tbody><tr><td>Item</td><td>crsp_90078</td></tr></tbody></table></div></details></td></tr><tr><td>Weight</td><td><div class=\"dni-plaintext\"><pre>4.827971745958729E-05</pre></div></td></tr></tbody></table></div></details></td></tr><tr><td>10</td><td><details class=\"dni-treeview\"><summary><span class=\"dni-code-hint\"><code>{ SecurityId = Other \"crsp_92245\"\\n  Weight = 0.0002832365991 }</code></span></summary><div><table><thead><tr></tr></thead><tbody><tr><td>SecurityId</td><td><details class=\"dni-treeview\"><summary><span class=\"dni-code-hint\"><code>Other \"crsp_92245\"</code></span></summary><div><table><thead><tr></tr></thead><tbody><tr><td>Item</td><td>crsp_92245</td></tr></tbody></table></div></details></td></tr><tr><td>Weight</td><td><div class=\"dni-plaintext\"><pre>0.0002832365991086429</pre></div></td></tr></tbody></table></div></details></td></tr><tr><td>11</td><td><details class=\"dni-treeview\"><summary><span class=\"dni-code-hint\"><code>{ SecurityId = Other \"crsp_77279\"\\n  Weight = 7.212574247e-05 }</code></span></summary><div><table><thead><tr></tr></thead><tbody><tr><td>SecurityId</td><td><details class=\"dni-treeview\"><summary><span class=\"dni-code-hint\"><code>Other \"crsp_77279\"</code></span></summary><div><table><thead><tr></tr></thead><tbody><tr><td>Item</td><td>crsp_77279</td></tr></tbody></table></div></details></td></tr><tr><td>Weight</td><td><div class=\"dni-plaintext\"><pre>7.212574246860222E-05</pre></div></td></tr></tbody></table></div></details></td></tr><tr><td>12</td><td><details class=\"dni-treeview\"><summary><span class=\"dni-code-hint\"><code>{ SecurityId = Other \"crsp_85032\"\\n  Weight = 0.001274197443 }</code></span></summary><div><table><thead><tr></tr></thead><tbody><tr><td>SecurityId</td><td><details class=\"dni-treeview\"><summary><span class=\"dni-code-hint\"><code>Other \"crsp_85032\"</code></span></summary><div><table><thead><tr></tr></thead><tbody><tr><td>Item</td><td>crsp_85032</td></tr></tbody></table></div></details></td></tr><tr><td>Weight</td><td><div class=\"dni-plaintext\"><pre>0.0012741974430511708</pre></div></td></tr></tbody></table></div></details></td></tr><tr><td>13</td><td><details class=\"dni-treeview\"><summary><span class=\"dni-code-hint\"><code>{ SecurityId = Other \"crsp_90067\"\\n  Weight = 8.687145161e-05 }</code></span></summary><div><table><thead><tr></tr></thead><tbody><tr><td>SecurityId</td><td><details class=\"dni-treeview\"><summary><span class=\"dni-code-hint\"><code>Other \"crsp_90067\"</code></span></summary><div><table><thead><tr></tr></thead><tbody><tr><td>Item</td><td>crsp_90067</td></tr></tbody></table></div></details></td></tr><tr><td>Weight</td><td><div class=\"dni-plaintext\"><pre>8.687145161300486E-05</pre></div></td></tr></tbody></table></div></details></td></tr><tr><td>14</td><td><details class=\"dni-treeview\"><summary><span class=\"dni-code-hint\"><code>{ SecurityId = Other \"crsp_82720\"\\n  Weight = 2.898898925e-05 }</code></span></summary><div><table><thead><tr></tr></thead><tbody><tr><td>SecurityId</td><td><details class=\"dni-treeview\"><summary><span class=\"dni-code-hint\"><code>Other \"crsp_82720\"</code></span></summary><div><table><thead><tr></tr></thead><tbody><tr><td>Item</td><td>crsp_82720</td></tr></tbody></table></div></details></td></tr><tr><td>Weight</td><td><div class=\"dni-plaintext\"><pre>2.8988989253328733E-05</pre></div></td></tr></tbody></table></div></details></td></tr><tr><td>15</td><td><details class=\"dni-treeview\"><summary><span class=\"dni-code-hint\"><code>{ SecurityId = Other \"crsp_17005\"\\n  Weight = 0.008482462649 }</code></span></summary><div><table><thead><tr></tr></thead><tbody><tr><td>SecurityId</td><td><details class=\"dni-treeview\"><summary><span class=\"dni-code-hint\"><code>Other \"crsp_17005\"</code></span></summary><div><table><thead><tr></tr></thead><tbody><tr><td>Item</td><td>crsp_17005</td></tr></tbody></table></div></details></td></tr><tr><td>Weight</td><td><div class=\"dni-plaintext\"><pre>0.008482462648829401</pre></div></td></tr></tbody></table></div></details></td></tr><tr><td>16</td><td><details class=\"dni-treeview\"><summary><span class=\"dni-code-hint\"><code>{ SecurityId = Other \"crsp_68320\"\\n  Weight = 4.828427779e-06 }</code></span></summary><div><table><thead><tr></tr></thead><tbody><tr><td>SecurityId</td><td><details class=\"dni-treeview\"><summary><span class=\"dni-code-hint\"><code>Other \"crsp_68320\"</code></span></summary><div><table><thead><tr></tr></thead><tbody><tr><td>Item</td><td>crsp_68320</td></tr></tbody></table></div></details></td></tr><tr><td>Weight</td><td><div class=\"dni-plaintext\"><pre>4.828427779413395E-06</pre></div></td></tr></tbody></table></div></details></td></tr><tr><td>17</td><td><details class=\"dni-treeview\"><summary><span class=\"dni-code-hint\"><code>{ SecurityId = Other \"crsp_84419\"\\n  Weight = 9.780155942e-07 }</code></span></summary><div><table><thead><tr></tr></thead><tbody><tr><td>SecurityId</td><td><details class=\"dni-treeview\"><summary><span class=\"dni-code-hint\"><code>Other \"crsp_84419\"</code></span></summary><div><table><thead><tr></tr></thead><tbody><tr><td>Item</td><td>crsp_84419</td></tr></tbody></table></div></details></td></tr><tr><td>Weight</td><td><div class=\"dni-plaintext\"><pre>9.780155941794317E-07</pre></div></td></tr></tbody></table></div></details></td></tr><tr><td>18</td><td><details class=\"dni-treeview\"><summary><span class=\"dni-code-hint\"><code>{ SecurityId = Other \"crsp_27991\"\\n  Weight = 0.0006656527044 }</code></span></summary><div><table><thead><tr></tr></thead><tbody><tr><td>SecurityId</td><td><details class=\"dni-treeview\"><summary><span class=\"dni-code-hint\"><code>Other \"crsp_27991\"</code></span></summary><div><table><thead><tr></tr></thead><tbody><tr><td>Item</td><td>crsp_27991</td></tr></tbody></table></div></details></td></tr><tr><td>Weight</td><td><div class=\"dni-plaintext\"><pre>0.0006656527044470225</pre></div></td></tr></tbody></table></div></details></td></tr><tr><td>19</td><td><details class=\"dni-treeview\"><summary><span class=\"dni-code-hint\"><code>{ SecurityId = Other \"crsp_70578\"\\n  Weight = 0.001705672622 }</code></span></summary><div><table><thead><tr></tr></thead><tbody><tr><td>SecurityId</td><td><details class=\"dni-treeview\"><summary><span class=\"dni-code-hint\"><code>Other \"crsp_70578\"</code></span></summary><div><table><thead><tr></tr></thead><tbody><tr><td>Item</td><td>crsp_70578</td></tr></tbody></table></div></details></td></tr><tr><td>Weight</td><td><div class=\"dni-plaintext\"><pre>0.001705672621668038</pre></div></td></tr></tbody></table></div></details></td></tr><tr><td colspan=\"2\"><i>... (more)</i></td></tr></tbody></table></td></tr></tbody></table></div></details></td></tr><tr><td>2</td><td><details class=\"dni-treeview\"><summary><span class=\"dni-code-hint\"><code>{ Name = \"Change in COWC\"\\n  Index = 3\\n  FormationMonth = 01/12/2008 00:00:00\\n  Positions =\\n   [{ SecurityId = Other \"crsp_85395\"\\n      Weight = 2.764008948e-05 }; { SecurityId = Other \"crsp_84588\"\\n                                    Weight = 0.0003381578239 };\\n    { SecurityId = Other \"crsp_3...</code></span></summary><div><table><thead><tr></tr></thead><tbody><tr><td>Name</td><td>Change in COWC</td></tr><tr><td>Index</td><td><div class=\"dni-plaintext\"><pre>3</pre></div></td></tr><tr><td>FormationMonth</td><td><span>2008-12-01 00:00:00Z</span></td></tr><tr><td>Positions</td><td><table><thead><tr><th><i>index</i></th><th>value</th></tr></thead><tbody><tr><td>0</td><td><details class=\"dni-treeview\"><summary><span class=\"dni-code-hint\"><code>{ SecurityId = Other \"crsp_85395\"\\n  Weight = 2.764008948e-05 }</code></span></summary><div><table><thead><tr></tr></thead><tbody><tr><td>SecurityId</td><td><details class=\"dni-treeview\"><summary><span class=\"dni-code-hint\"><code>Other \"crsp_85395\"</code></span></summary><div><table><thead><tr></tr></thead><tbody><tr><td>Item</td><td>crsp_85395</td></tr></tbody></table></div></details></td></tr><tr><td>Weight</td><td><div class=\"dni-plaintext\"><pre>2.7640089483146336E-05</pre></div></td></tr></tbody></table></div></details></td></tr><tr><td>1</td><td><details class=\"dni-treeview\"><summary><span class=\"dni-code-hint\"><code>{ SecurityId = Other \"crsp_84588\"\\n  Weight = 0.0003381578239 }</code></span></summary><div><table><thead><tr></tr></thead><tbody><tr><td>SecurityId</td><td><details class=\"dni-treeview\"><summary><span class=\"dni-code-hint\"><code>Other \"crsp_84588\"</code></span></summary><div><table><thead><tr></tr></thead><tbody><tr><td>Item</td><td>crsp_84588</td></tr></tbody></table></div></details></td></tr><tr><td>Weight</td><td><div class=\"dni-plaintext\"><pre>0.0003381578238809889</pre></div></td></tr></tbody></table></div></details></td></tr><tr><td>2</td><td><details class=\"dni-treeview\"><summary><span class=\"dni-code-hint\"><code>{ SecurityId = Other \"crsp_33099\"\\n  Weight = 0.01015263314 }</code></span></summary><div><table><thead><tr></tr></thead><tbody><tr><td>SecurityId</td><td><details class=\"dni-treeview\"><summary><span class=\"dni-code-hint\"><code>Other \"crsp_33099\"</code></span></summary><div><table><thead><tr></tr></thead><tbody><tr><td>Item</td><td>crsp_33099</td></tr></tbody></table></div></details></td></tr><tr><td>Weight</td><td><div class=\"dni-plaintext\"><pre>0.010152633139662788</pre></div></td></tr></tbody></table></div></details></td></tr><tr><td>3</td><td><details class=\"dni-treeview\"><summary><span class=\"dni-code-hint\"><code>{ SecurityId = Other \"crsp_85593\"\\n  Weight = 0.0005961493814 }</code></span></summary><div><table><thead><tr></tr></thead><tbody><tr><td>SecurityId</td><td><details class=\"dni-treeview\"><summary><span class=\"dni-code-hint\"><code>Other \"crsp_85593\"</code></span></summary><div><table><thead><tr></tr></thead><tbody><tr><td>Item</td><td>crsp_85593</td></tr></tbody></table></div></details></td></tr><tr><td>Weight</td><td><div class=\"dni-plaintext\"><pre>0.0005961493814493833</pre></div></td></tr></tbody></table></div></details></td></tr><tr><td>4</td><td><details class=\"dni-treeview\"><summary><span class=\"dni-code-hint\"><code>{ SecurityId = Other \"crsp_37161\"\\n  Weight = 0.0009097855262 }</code></span></summary><div><table><thead><tr></tr></thead><tbody><tr><td>SecurityId</td><td><details class=\"dni-treeview\"><summary><span class=\"dni-code-hint\"><code>Other \"crsp_37161\"</code></span></summary><div><table><thead><tr></tr></thead><tbody><tr><td>Item</td><td>crsp_37161</td></tr></tbody></table></div></details></td></tr><tr><td>Weight</td><td><div class=\"dni-plaintext\"><pre>0.0009097855261748585</pre></div></td></tr></tbody></table></div></details></td></tr><tr><td>5</td><td><details class=\"dni-treeview\"><summary><span class=\"dni-code-hint\"><code>{ SecurityId = Other \"crsp_89891\"\\n  Weight = 3.504803957e-05 }</code></span></summary><div><table><thead><tr></tr></thead><tbody><tr><td>SecurityId</td><td><details class=\"dni-treeview\"><summary><span class=\"dni-code-hint\"><code>Other \"crsp_89891\"</code></span></summary><div><table><thead><tr></tr></thead><tbody><tr><td>Item</td><td>crsp_89891</td></tr></tbody></table></div></details></td></tr><tr><td>Weight</td><td><div class=\"dni-plaintext\"><pre>3.5048039565985925E-05</pre></div></td></tr></tbody></table></div></details></td></tr><tr><td>6</td><td><details class=\"dni-treeview\"><summary><span class=\"dni-code-hint\"><code>{ SecurityId = Other \"crsp_77605\"\\n  Weight = 0.004023540255 }</code></span></summary><div><table><thead><tr></tr></thead><tbody><tr><td>SecurityId</td><td><details class=\"dni-treeview\"><summary><span class=\"dni-code-hint\"><code>Other \"crsp_77605\"</code></span></summary><div><table><thead><tr></tr></thead><tbody><tr><td>Item</td><td>crsp_77605</td></tr></tbody></table></div></details></td></tr><tr><td>Weight</td><td><div class=\"dni-plaintext\"><pre>0.004023540254941698</pre></div></td></tr></tbody></table></div></details></td></tr><tr><td>7</td><td><details class=\"dni-treeview\"><summary><span class=\"dni-code-hint\"><code>{ SecurityId = Other \"crsp_61241\"\\n  Weight = 0.0004551954398 }</code></span></summary><div><table><thead><tr></tr></thead><tbody><tr><td>SecurityId</td><td><details class=\"dni-treeview\"><summary><span class=\"dni-code-hint\"><code>Other \"crsp_61241\"</code></span></summary><div><table><thead><tr></tr></thead><tbody><tr><td>Item</td><td>crsp_61241</td></tr></tbody></table></div></details></td></tr><tr><td>Weight</td><td><div class=\"dni-plaintext\"><pre>0.00045519543980240644</pre></div></td></tr></tbody></table></div></details></td></tr><tr><td>8</td><td><details class=\"dni-treeview\"><summary><span class=\"dni-code-hint\"><code>{ SecurityId = Other \"crsp_88434\"\\n  Weight = 6.656834465e-05 }</code></span></summary><div><table><thead><tr></tr></thead><tbody><tr><td>SecurityId</td><td><details class=\"dni-treeview\"><summary><span class=\"dni-code-hint\"><code>Other \"crsp_88434\"</code></span></summary><div><table><thead><tr></tr></thead><tbody><tr><td>Item</td><td>crsp_88434</td></tr></tbody></table></div></details></td></tr><tr><td>Weight</td><td><div class=\"dni-plaintext\"><pre>6.65683446538926E-05</pre></div></td></tr></tbody></table></div></details></td></tr><tr><td>9</td><td><details class=\"dni-treeview\"><summary><span class=\"dni-code-hint\"><code>{ SecurityId = Other \"crsp_90894\"\\n  Weight = 2.058040778e-06 }</code></span></summary><div><table><thead><tr></tr></thead><tbody><tr><td>SecurityId</td><td><details class=\"dni-treeview\"><summary><span class=\"dni-code-hint\"><code>Other \"crsp_90894\"</code></span></summary><div><table><thead><tr></tr></thead><tbody><tr><td>Item</td><td>crsp_90894</td></tr></tbody></table></div></details></td></tr><tr><td>Weight</td><td><div class=\"dni-plaintext\"><pre>2.0580407780910606E-06</pre></div></td></tr></tbody></table></div></details></td></tr><tr><td>10</td><td><details class=\"dni-treeview\"><summary><span class=\"dni-code-hint\"><code>{ SecurityId = Other \"crsp_86288\"\\n  Weight = 0.0002250359055 }</code></span></summary><div><table><thead><tr></tr></thead><tbody><tr><td>SecurityId</td><td><details class=\"dni-treeview\"><summary><span class=\"dni-code-hint\"><code>Other \"crsp_86288\"</code></span></summary><div><table><thead><tr></tr></thead><tbody><tr><td>Item</td><td>crsp_86288</td></tr></tbody></table></div></details></td></tr><tr><td>Weight</td><td><div class=\"dni-plaintext\"><pre>0.00022503590548889443</pre></div></td></tr></tbody></table></div></details></td></tr><tr><td>11</td><td><details class=\"dni-treeview\"><summary><span class=\"dni-code-hint\"><code>{ SecurityId = Other \"crsp_91485\"\\n  Weight = 0.0002726588777 }</code></span></summary><div><table><thead><tr></tr></thead><tbody><tr><td>SecurityId</td><td><details class=\"dni-treeview\"><summary><span class=\"dni-code-hint\"><code>Other \"crsp_91485\"</code></span></summary><div><table><thead><tr></tr></thead><tbody><tr><td>Item</td><td>crsp_91485</td></tr></tbody></table></div></details></td></tr><tr><td>Weight</td><td><div class=\"dni-plaintext\"><pre>0.0002726588777174293</pre></div></td></tr></tbody></table></div></details></td></tr><tr><td>12</td><td><details class=\"dni-treeview\"><summary><span class=\"dni-code-hint\"><code>{ SecurityId = Other \"crsp_79689\"\\n  Weight = 6.246900182e-06 }</code></span></summary><div><table><thead><tr></tr></thead><tbody><tr><td>SecurityId</td><td><details class=\"dni-treeview\"><summary><span class=\"dni-code-hint\"><code>Other \"crsp_79689\"</code></span></summary><div><table><thead><tr></tr></thead><tbody><tr><td>Item</td><td>crsp_79689</td></tr></tbody></table></div></details></td></tr><tr><td>Weight</td><td><div class=\"dni-plaintext\"><pre>6.2469001818561716E-06</pre></div></td></tr></tbody></table></div></details></td></tr><tr><td>13</td><td><details class=\"dni-treeview\"><summary><span class=\"dni-code-hint\"><code>{ SecurityId = Other \"crsp_48072\"\\n  Weight = 1.188398589e-05 }</code></span></summary><div><table><thead><tr></tr></thead><tbody><tr><td>SecurityId</td><td><details class=\"dni-treeview\"><summary><span class=\"dni-code-hint\"><code>Other \"crsp_48072\"</code></span></summary><div><table><thead><tr></tr></thead><tbody><tr><td>Item</td><td>crsp_48072</td></tr></tbody></table></div></details></td></tr><tr><td>Weight</td><td><div class=\"dni-plaintext\"><pre>1.1883985885316288E-05</pre></div></td></tr></tbody></table></div></details></td></tr><tr><td>14</td><td><details class=\"dni-treeview\"><summary><span class=\"dni-code-hint\"><code>{ SecurityId = Other \"crsp_90778\"\\n  Weight = 4.835035796e-06 }</code></span></summary><div><table><thead><tr></tr></thead><tbody><tr><td>SecurityId</td><td><details class=\"dni-treeview\"><summary><span class=\"dni-code-hint\"><code>Other \"crsp_90778\"</code></span></summary><div><table><thead><tr></tr></thead><tbody><tr><td>Item</td><td>crsp_90778</td></tr></tbody></table></div></details></td></tr><tr><td>Weight</td><td><div class=\"dni-plaintext\"><pre>4.835035795706268E-06</pre></div></td></tr></tbody></table></div></details></td></tr><tr><td>15</td><td><details class=\"dni-treeview\"><summary><span class=\"dni-code-hint\"><code>{ SecurityId = Other \"crsp_48389\"\\n  Weight = 0.0003607830535 }</code></span></summary><div><table><thead><tr></tr></thead><tbody><tr><td>SecurityId</td><td><details class=\"dni-treeview\"><summary><span class=\"dni-code-hint\"><code>Other \"crsp_48389\"</code></span></summary><div><table><thead><tr></tr></thead><tbody><tr><td>Item</td><td>crsp_48389</td></tr></tbody></table></div></details></td></tr><tr><td>Weight</td><td><div class=\"dni-plaintext\"><pre>0.0003607830535037311</pre></div></td></tr></tbody></table></div></details></td></tr><tr><td>16</td><td><details class=\"dni-treeview\"><summary><span class=\"dni-code-hint\"><code>{ SecurityId = Other \"crsp_86106\"\\n  Weight = 0.0005282744813 }</code></span></summary><div><table><thead><tr></tr></thead><tbody><tr><td>SecurityId</td><td><details class=\"dni-treeview\"><summary><span class=\"dni-code-hint\"><code>Other \"crsp_86106\"</code></span></summary><div><table><thead><tr></tr></thead><tbody><tr><td>Item</td><td>crsp_86106</td></tr></tbody></table></div></details></td></tr><tr><td>Weight</td><td><div class=\"dni-plaintext\"><pre>0.0005282744813328707</pre></div></td></tr></tbody></table></div></details></td></tr><tr><td>17</td><td><details class=\"dni-treeview\"><summary><span class=\"dni-code-hint\"><code>{ SecurityId = Other \"crsp_10866\"\\n  Weight = 0.0001241066329 }</code></span></summary><div><table><thead><tr></tr></thead><tbody><tr><td>SecurityId</td><td><details class=\"dni-treeview\"><summary><span class=\"dni-code-hint\"><code>Other \"crsp_10866\"</code></span></summary><div><table><thead><tr></tr></thead><tbody><tr><td>Item</td><td>crsp_10866</td></tr></tbody></table></div></details></td></tr><tr><td>Weight</td><td><div class=\"dni-plaintext\"><pre>0.0001241066329078664</pre></div></td></tr></tbody></table></div></details></td></tr><tr><td>18</td><td><details class=\"dni-treeview\"><summary><span class=\"dni-code-hint\"><code>{ SecurityId = Other \"crsp_80069\"\\n  Weight = 1.367522332e-05 }</code></span></summary><div><table><thead><tr></tr></thead><tbody><tr><td>SecurityId</td><td><details class=\"dni-treeview\"><summary><span class=\"dni-code-hint\"><code>Other \"crsp_80069\"</code></span></summary><div><table><thead><tr></tr></thead><tbody><tr><td>Item</td><td>crsp_80069</td></tr></tbody></table></div></details></td></tr><tr><td>Weight</td><td><div class=\"dni-plaintext\"><pre>1.3675223317416414E-05</pre></div></td></tr></tbody></table></div></details></td></tr><tr><td>19</td><td><details class=\"dni-treeview\"><summary><span class=\"dni-code-hint\"><code>{ SecurityId = Other \"crsp_87168\"\\n  Weight = 1.592215758e-05 }</code></span></summary><div><table><thead><tr></tr></thead><tbody><tr><td>SecurityId</td><td><details class=\"dni-treeview\"><summary><span class=\"dni-code-hint\"><code>Other \"crsp_87168\"</code></span></summary><div><table><thead><tr></tr></thead><tbody><tr><td>Item</td><td>crsp_87168</td></tr></tbody></table></div></details></td></tr><tr><td>Weight</td><td><div class=\"dni-plaintext\"><pre>1.5922157583052402E-05</pre></div></td></tr></tbody></table></div></details></td></tr><tr><td colspan=\"2\"><i>... (more)</i></td></tr></tbody></table></td></tr></tbody></table></div></details></td></tr><tr><td>3</td><td><details class=\"dni-treeview\"><summary><span class=\"dni-code-hint\"><code>{ Name = \"Change in COWC\"\\n  Index = 1\\n  FormationMonth = 01/01/2000 00:00:00\\n  Positions =\\n   [{ SecurityId = Other \"crsp_78743\"\\n      Weight = 3.520895533e-05 }; { SecurityId = Other \"crsp_86829\"\\n                                    Weight = 3.543174734e-05 };\\n    { SecurityId = Other \"crsp_8...</code></span></summary><div><table><thead><tr></tr></thead><tbody><tr><td>Name</td><td>Change in COWC</td></tr><tr><td>Index</td><td><div class=\"dni-plaintext\"><pre>1</pre></div></td></tr><tr><td>FormationMonth</td><td><span>2000-01-01 00:00:00Z</span></td></tr><tr><td>Positions</td><td><table><thead><tr><th><i>index</i></th><th>value</th></tr></thead><tbody><tr><td>0</td><td><details class=\"dni-treeview\"><summary><span class=\"dni-code-hint\"><code>{ SecurityId = Other \"crsp_78743\"\\n  Weight = 3.520895533e-05 }</code></span></summary><div><table><thead><tr></tr></thead><tbody><tr><td>SecurityId</td><td><details class=\"dni-treeview\"><summary><span class=\"dni-code-hint\"><code>Other \"crsp_78743\"</code></span></summary><div><table><thead><tr></tr></thead><tbody><tr><td>Item</td><td>crsp_78743</td></tr></tbody></table></div></details></td></tr><tr><td>Weight</td><td><div class=\"dni-plaintext\"><pre>3.520895533061922E-05</pre></div></td></tr></tbody></table></div></details></td></tr><tr><td>1</td><td><details class=\"dni-treeview\"><summary><span class=\"dni-code-hint\"><code>{ SecurityId = Other \"crsp_86829\"\\n  Weight = 3.543174734e-05 }</code></span></summary><div><table><thead><tr></tr></thead><tbody><tr><td>SecurityId</td><td><details class=\"dni-treeview\"><summary><span class=\"dni-code-hint\"><code>Other \"crsp_86829\"</code></span></summary><div><table><thead><tr></tr></thead><tbody><tr><td>Item</td><td>crsp_86829</td></tr></tbody></table></div></details></td></tr><tr><td>Weight</td><td><div class=\"dni-plaintext\"><pre>3.543174734370151E-05</pre></div></td></tr></tbody></table></div></details></td></tr><tr><td>2</td><td><details class=\"dni-treeview\"><summary><span class=\"dni-code-hint\"><code>{ SecurityId = Other \"crsp_86912\"\\n  Weight = 1.935230788e-05 }</code></span></summary><div><table><thead><tr></tr></thead><tbody><tr><td>SecurityId</td><td><details class=\"dni-treeview\"><summary><span class=\"dni-code-hint\"><code>Other \"crsp_86912\"</code></span></summary><div><table><thead><tr></tr></thead><tbody><tr><td>Item</td><td>crsp_86912</td></tr></tbody></table></div></details></td></tr><tr><td>Weight</td><td><div class=\"dni-plaintext\"><pre>1.935230787978388E-05</pre></div></td></tr></tbody></table></div></details></td></tr><tr><td>3</td><td><details class=\"dni-treeview\"><summary><span class=\"dni-code-hint\"><code>{ SecurityId = Other \"crsp_86961\"\\n  Weight = 0.0001849683052 }</code></span></summary><div><table><thead><tr></tr></thead><tbody><tr><td>SecurityId</td><td><details class=\"dni-treeview\"><summary><span class=\"dni-code-hint\"><code>Other \"crsp_86961\"</code></span></summary><div><table><thead><tr></tr></thead><tbody><tr><td>Item</td><td>crsp_86961</td></tr></tbody></table></div></details></td></tr><tr><td>Weight</td><td><div class=\"dni-plaintext\"><pre>0.00018496830521655722</pre></div></td></tr></tbody></table></div></details></td></tr><tr><td>4</td><td><details class=\"dni-treeview\"><summary><span class=\"dni-code-hint\"><code>{ SecurityId = Other \"crsp_85960\"\\n  Weight = 0.0002045313739 }</code></span></summary><div><table><thead><tr></tr></thead><tbody><tr><td>SecurityId</td><td><details class=\"dni-treeview\"><summary><span class=\"dni-code-hint\"><code>Other \"crsp_85960\"</code></span></summary><div><table><thead><tr></tr></thead><tbody><tr><td>Item</td><td>crsp_85960</td></tr></tbody></table></div></details></td></tr><tr><td>Weight</td><td><div class=\"dni-plaintext\"><pre>0.00020453137385213798</pre></div></td></tr></tbody></table></div></details></td></tr><tr><td>5</td><td><details class=\"dni-treeview\"><summary><span class=\"dni-code-hint\"><code>{ SecurityId = Other \"crsp_84805\"\\n  Weight = 0.0001239183468 }</code></span></summary><div><table><thead><tr></tr></thead><tbody><tr><td>SecurityId</td><td><details class=\"dni-treeview\"><summary><span class=\"dni-code-hint\"><code>Other \"crsp_84805\"</code></span></summary><div><table><thead><tr></tr></thead><tbody><tr><td>Item</td><td>crsp_84805</td></tr></tbody></table></div></details></td></tr><tr><td>Weight</td><td><div class=\"dni-plaintext\"><pre>0.00012391834676987634</pre></div></td></tr></tbody></table></div></details></td></tr><tr><td>6</td><td><details class=\"dni-treeview\"><summary><span class=\"dni-code-hint\"><code>{ SecurityId = Other \"crsp_84030\"\\n  Weight = 6.952641689e-06 }</code></span></summary><div><table><thead><tr></tr></thead><tbody><tr><td>SecurityId</td><td><details class=\"dni-treeview\"><summary><span class=\"dni-code-hint\"><code>Other \"crsp_84030\"</code></span></summary><div><table><thead><tr></tr></thead><tbody><tr><td>Item</td><td>crsp_84030</td></tr></tbody></table></div></details></td></tr><tr><td>Weight</td><td><div class=\"dni-plaintext\"><pre>6.95264168895919E-06</pre></div></td></tr></tbody></table></div></details></td></tr><tr><td>7</td><td><details class=\"dni-treeview\"><summary><span class=\"dni-code-hint\"><code>{ SecurityId = Other \"crsp_77264\"\\n  Weight = 0.000138314876 }</code></span></summary><div><table><thead><tr></tr></thead><tbody><tr><td>SecurityId</td><td><details class=\"dni-treeview\"><summary><span class=\"dni-code-hint\"><code>Other \"crsp_77264\"</code></span></summary><div><table><thead><tr></tr></thead><tbody><tr><td>Item</td><td>crsp_77264</td></tr></tbody></table></div></details></td></tr><tr><td>Weight</td><td><div class=\"dni-plaintext\"><pre>0.00013831487595076337</pre></div></td></tr></tbody></table></div></details></td></tr><tr><td>8</td><td><details class=\"dni-treeview\"><summary><span class=\"dni-code-hint\"><code>{ SecurityId = Other \"crsp_77171\"\\n  Weight = 2.2388643e-05 }</code></span></summary><div><table><thead><tr></tr></thead><tbody><tr><td>SecurityId</td><td><details class=\"dni-treeview\"><summary><span class=\"dni-code-hint\"><code>Other \"crsp_77171\"</code></span></summary><div><table><thead><tr></tr></thead><tbody><tr><td>Item</td><td>crsp_77171</td></tr></tbody></table></div></details></td></tr><tr><td>Weight</td><td><div class=\"dni-plaintext\"><pre>2.2388642998866218E-05</pre></div></td></tr></tbody></table></div></details></td></tr><tr><td>9</td><td><details class=\"dni-treeview\"><summary><span class=\"dni-code-hint\"><code>{ SecurityId = Other \"crsp_70156\"\\n  Weight = 6.197135732e-06 }</code></span></summary><div><table><thead><tr></tr></thead><tbody><tr><td>SecurityId</td><td><details class=\"dni-treeview\"><summary><span class=\"dni-code-hint\"><code>Other \"crsp_70156\"</code></span></summary><div><table><thead><tr></tr></thead><tbody><tr><td>Item</td><td>crsp_70156</td></tr></tbody></table></div></details></td></tr><tr><td>Weight</td><td><div class=\"dni-plaintext\"><pre>6.1971357323153605E-06</pre></div></td></tr></tbody></table></div></details></td></tr><tr><td>10</td><td><details class=\"dni-treeview\"><summary><span class=\"dni-code-hint\"><code>{ SecurityId = Other \"crsp_84553\"\\n  Weight = 3.278560361e-05 }</code></span></summary><div><table><thead><tr></tr></thead><tbody><tr><td>SecurityId</td><td><details class=\"dni-treeview\"><summary><span class=\"dni-code-hint\"><code>Other \"crsp_84553\"</code></span></summary><div><table><thead><tr></tr></thead><tbody><tr><td>Item</td><td>crsp_84553</td></tr></tbody></table></div></details></td></tr><tr><td>Weight</td><td><div class=\"dni-plaintext\"><pre>3.2785603609373224E-05</pre></div></td></tr></tbody></table></div></details></td></tr><tr><td>11</td><td><details class=\"dni-treeview\"><summary><span class=\"dni-code-hint\"><code>{ SecurityId = Other \"crsp_77838\"\\n  Weight = 2.491844386e-05 }</code></span></summary><div><table><thead><tr></tr></thead><tbody><tr><td>SecurityId</td><td><details class=\"dni-treeview\"><summary><span class=\"dni-code-hint\"><code>Other \"crsp_77838\"</code></span></summary><div><table><thead><tr></tr></thead><tbody><tr><td>Item</td><td>crsp_77838</td></tr></tbody></table></div></details></td></tr><tr><td>Weight</td><td><div class=\"dni-plaintext\"><pre>2.4918443864520775E-05</pre></div></td></tr></tbody></table></div></details></td></tr><tr><td>12</td><td><details class=\"dni-treeview\"><summary><span class=\"dni-code-hint\"><code>{ SecurityId = Other \"crsp_84508\"\\n  Weight = 1.774518841e-05 }</code></span></summary><div><table><thead><tr></tr></thead><tbody><tr><td>SecurityId</td><td><details class=\"dni-treeview\"><summary><span class=\"dni-code-hint\"><code>Other \"crsp_84508\"</code></span></summary><div><table><thead><tr></tr></thead><tbody><tr><td>Item</td><td>crsp_84508</td></tr></tbody></table></div></details></td></tr><tr><td>Weight</td><td><div class=\"dni-plaintext\"><pre>1.7745188410414214E-05</pre></div></td></tr></tbody></table></div></details></td></tr><tr><td>13</td><td><details class=\"dni-treeview\"><summary><span class=\"dni-code-hint\"><code>{ SecurityId = Other \"crsp_76955\"\\n  Weight = 1.283374825e-06 }</code></span></summary><div><table><thead><tr></tr></thead><tbody><tr><td>SecurityId</td><td><details class=\"dni-treeview\"><summary><span class=\"dni-code-hint\"><code>Other \"crsp_76955\"</code></span></summary><div><table><thead><tr></tr></thead><tbody><tr><td>Item</td><td>crsp_76955</td></tr></tbody></table></div></details></td></tr><tr><td>Weight</td><td><div class=\"dni-plaintext\"><pre>1.2833748253594587E-06</pre></div></td></tr></tbody></table></div></details></td></tr><tr><td>14</td><td><details class=\"dni-treeview\"><summary><span class=\"dni-code-hint\"><code>{ SecurityId = Other \"crsp_87005\"\\n  Weight = 3.113711779e-05 }</code></span></summary><div><table><thead><tr></tr></thead><tbody><tr><td>SecurityId</td><td><details class=\"dni-treeview\"><summary><span class=\"dni-code-hint\"><code>Other \"crsp_87005\"</code></span></summary><div><table><thead><tr></tr></thead><tbody><tr><td>Item</td><td>crsp_87005</td></tr></tbody></table></div></details></td></tr><tr><td>Weight</td><td><div class=\"dni-plaintext\"><pre>3.1137117786697344E-05</pre></div></td></tr></tbody></table></div></details></td></tr><tr><td>15</td><td><details class=\"dni-treeview\"><summary><span class=\"dni-code-hint\"><code>{ SecurityId = Other \"crsp_79147\"\\n  Weight = 1.071531053e-05 }</code></span></summary><div><table><thead><tr></tr></thead><tbody><tr><td>SecurityId</td><td><details class=\"dni-treeview\"><summary><span class=\"dni-code-hint\"><code>Other \"crsp_79147\"</code></span></summary><div><table><thead><tr></tr></thead><tbody><tr><td>Item</td><td>crsp_79147</td></tr></tbody></table></div></details></td></tr><tr><td>Weight</td><td><div class=\"dni-plaintext\"><pre>1.0715310528323243E-05</pre></div></td></tr></tbody></table></div></details></td></tr><tr><td>16</td><td><details class=\"dni-treeview\"><summary><span class=\"dni-code-hint\"><code>{ SecurityId = Other \"crsp_10244\"\\n  Weight = 2.093642342e-06 }</code></span></summary><div><table><thead><tr></tr></thead><tbody><tr><td>SecurityId</td><td><details class=\"dni-treeview\"><summary><span class=\"dni-code-hint\"><code>Other \"crsp_10244\"</code></span></summary><div><table><thead><tr></tr></thead><tbody><tr><td>Item</td><td>crsp_10244</td></tr></tbody></table></div></details></td></tr><tr><td>Weight</td><td><div class=\"dni-plaintext\"><pre>2.0936423422364164E-06</pre></div></td></tr></tbody></table></div></details></td></tr><tr><td>17</td><td><details class=\"dni-treeview\"><summary><span class=\"dni-code-hint\"><code>{ SecurityId = Other \"crsp_76542\"\\n  Weight = 5.320515119e-05 }</code></span></summary><div><table><thead><tr></tr></thead><tbody><tr><td>SecurityId</td><td><details class=\"dni-treeview\"><summary><span class=\"dni-code-hint\"><code>Other \"crsp_76542\"</code></span></summary><div><table><thead><tr></tr></thead><tbody><tr><td>Item</td><td>crsp_76542</td></tr></tbody></table></div></details></td></tr><tr><td>Weight</td><td><div class=\"dni-plaintext\"><pre>5.3205151189983055E-05</pre></div></td></tr></tbody></table></div></details></td></tr><tr><td>18</td><td><details class=\"dni-treeview\"><summary><span class=\"dni-code-hint\"><code>{ SecurityId = Other \"crsp_77278\"\\n  Weight = 3.256796203e-06 }</code></span></summary><div><table><thead><tr></tr></thead><tbody><tr><td>SecurityId</td><td><details class=\"dni-treeview\"><summary><span class=\"dni-code-hint\"><code>Other \"crsp_77278\"</code></span></summary><div><table><thead><tr></tr></thead><tbody><tr><td>Item</td><td>crsp_77278</td></tr></tbody></table></div></details></td></tr><tr><td>Weight</td><td><div class=\"dni-plaintext\"><pre>3.2567962032996872E-06</pre></div></td></tr></tbody></table></div></details></td></tr><tr><td>19</td><td><details class=\"dni-treeview\"><summary><span class=\"dni-code-hint\"><code>{ SecurityId = Other \"crsp_85437\"\\n  Weight = 3.82199047e-06 }</code></span></summary><div><table><thead><tr></tr></thead><tbody><tr><td>SecurityId</td><td><details class=\"dni-treeview\"><summary><span class=\"dni-code-hint\"><code>Other \"crsp_85437\"</code></span></summary><div><table><thead><tr></tr></thead><tbody><tr><td>Item</td><td>crsp_85437</td></tr></tbody></table></div></details></td></tr><tr><td>Weight</td><td><div class=\"dni-plaintext\"><pre>3.8219904700403894E-06</pre></div></td></tr></tbody></table></div></details></td></tr><tr><td colspan=\"2\"><i>... (more)</i></td></tr></tbody></table></td></tr></tbody></table></div></details></td></tr></tbody></table><style>\r\n",
       ".dni-code-hint {\r\n",
       "    font-style: italic;\r\n",
       "    overflow: hidden;\r\n",
       "    white-space: nowrap;\r\n",
       "}\r\n",
       ".dni-treeview {\r\n",
       "    white-space: nowrap;\r\n",
       "}\r\n",
       ".dni-treeview td {\r\n",
       "    vertical-align: top;\r\n",
       "    text-align: start;\r\n",
       "}\r\n",
       "details.dni-treeview {\r\n",
       "    padding-left: 1em;\r\n",
       "}\r\n",
       "table td {\r\n",
       "    text-align: start;\r\n",
       "}\r\n",
       "table tr { \r\n",
       "    vertical-align: top; \r\n",
       "    margin: 0em 0px;\r\n",
       "}\r\n",
       "table tr td pre \r\n",
       "{ \r\n",
       "    vertical-align: top !important; \r\n",
       "    margin: 0em 0px !important;\r\n",
       "} \r\n",
       "table th {\r\n",
       "    text-align: start;\r\n",
       "}\r\n",
       "</style>"
      ]
     },
     "metadata": {},
     "output_type": "display_data"
    }
   ],
   "source": [
    "// Some portfolios and their position\n",
    "vw.Portfolios[..3]"
   ]
  },
  {
   "cell_type": "code",
   "execution_count": 10,
   "metadata": {
    "dotnet_interactive": {
     "language": "fsharp"
    },
    "polyglot_notebook": {
     "kernelName": "fsharp"
    },
    "vscode": {
     "languageId": "polyglot-notebook"
    }
   },
   "outputs": [
    {
     "data": {
      "text/html": [
       "<table><thead><tr><th><i>index</i></th><th>value</th></tr></thead><tbody><tr><td>0</td><td><details class=\"dni-treeview\"><summary><span class=\"dni-code-hint\"><code>{ Name = \"Change in COWC\"\\n  Index = 1\\n  Month = 01/01/2009 00:00:00\\n  Return = -0.07062805145 }</code></span></summary><div><table><thead><tr></tr></thead><tbody><tr><td>Name</td><td>Change in COWC</td></tr><tr><td>Index</td><td><div class=\"dni-plaintext\"><pre>1</pre></div></td></tr><tr><td>Month</td><td><span>2009-01-01 00:00:00Z</span></td></tr><tr><td>Return</td><td><div class=\"dni-plaintext\"><pre>-0.07062805145274711</pre></div></td></tr></tbody></table></div></details></td></tr><tr><td>1</td><td><details class=\"dni-treeview\"><summary><span class=\"dni-code-hint\"><code>{ Name = \"Change in COWC\"\\n  Index = 2\\n  Month = 01/01/2009 00:00:00\\n  Return = -0.06009513391 }</code></span></summary><div><table><thead><tr></tr></thead><tbody><tr><td>Name</td><td>Change in COWC</td></tr><tr><td>Index</td><td><div class=\"dni-plaintext\"><pre>2</pre></div></td></tr><tr><td>Month</td><td><span>2009-01-01 00:00:00Z</span></td></tr><tr><td>Return</td><td><div class=\"dni-plaintext\"><pre>-0.0600951339117302</pre></div></td></tr></tbody></table></div></details></td></tr><tr><td>2</td><td><details class=\"dni-treeview\"><summary><span class=\"dni-code-hint\"><code>{ Name = \"Change in COWC\"\\n  Index = 3\\n  Month = 01/01/2009 00:00:00\\n  Return = -0.06354118521 }</code></span></summary><div><table><thead><tr></tr></thead><tbody><tr><td>Name</td><td>Change in COWC</td></tr><tr><td>Index</td><td><div class=\"dni-plaintext\"><pre>3</pre></div></td></tr><tr><td>Month</td><td><span>2009-01-01 00:00:00Z</span></td></tr><tr><td>Return</td><td><div class=\"dni-plaintext\"><pre>-0.06354118520501853</pre></div></td></tr></tbody></table></div></details></td></tr><tr><td>3</td><td><details class=\"dni-treeview\"><summary><span class=\"dni-code-hint\"><code>{ Name = \"Change in COWC\"\\n  Index = 1\\n  Month = 01/02/2000 00:00:00\\n  Return = 0.07837517275 }</code></span></summary><div><table><thead><tr></tr></thead><tbody><tr><td>Name</td><td>Change in COWC</td></tr><tr><td>Index</td><td><div class=\"dni-plaintext\"><pre>1</pre></div></td></tr><tr><td>Month</td><td><span>2000-02-01 00:00:00Z</span></td></tr><tr><td>Return</td><td><div class=\"dni-plaintext\"><pre>0.07837517274691844</pre></div></td></tr></tbody></table></div></details></td></tr></tbody></table><style>\r\n",
       ".dni-code-hint {\r\n",
       "    font-style: italic;\r\n",
       "    overflow: hidden;\r\n",
       "    white-space: nowrap;\r\n",
       "}\r\n",
       ".dni-treeview {\r\n",
       "    white-space: nowrap;\r\n",
       "}\r\n",
       ".dni-treeview td {\r\n",
       "    vertical-align: top;\r\n",
       "    text-align: start;\r\n",
       "}\r\n",
       "details.dni-treeview {\r\n",
       "    padding-left: 1em;\r\n",
       "}\r\n",
       "table td {\r\n",
       "    text-align: start;\r\n",
       "}\r\n",
       "table tr { \r\n",
       "    vertical-align: top; \r\n",
       "    margin: 0em 0px;\r\n",
       "}\r\n",
       "table tr td pre \r\n",
       "{ \r\n",
       "    vertical-align: top !important; \r\n",
       "    margin: 0em 0px !important;\r\n",
       "} \r\n",
       "table th {\r\n",
       "    text-align: start;\r\n",
       "}\r\n",
       "</style>"
      ]
     },
     "metadata": {},
     "output_type": "display_data"
    }
   ],
   "source": [
    "// Some portfolio returns\n",
    "vw.Returns[..3]"
   ]
  },
  {
   "cell_type": "code",
   "execution_count": 11,
   "metadata": {
    "dotnet_interactive": {
     "language": "fsharp"
    },
    "polyglot_notebook": {
     "kernelName": "fsharp"
    },
    "vscode": {
     "languageId": "polyglot-notebook"
    }
   },
   "outputs": [],
   "source": [
    "// get  Fama-French 3-Factor asset pricing model data\n",
    "let ff3Lookup = \n",
    "    French.getFF3 French.Frequency.Monthly\n",
    "    |> Array.map (fun x -> DateTime(x.Date.Year, x.Date.Month, 1), x)\n",
    "    |> Map"
   ]
  },
  {
   "attachments": {},
   "cell_type": "markdown",
   "metadata": {},
   "source": [
    "Create porfolios:\n",
    "\n",
    "- Long-only strategy portfolio is top tercile portfolio\n",
    "\n",
    "- Long-short strategy portfolio is long the top portfolio and short the bottom portfolio"
   ]
  },
  {
   "cell_type": "code",
   "execution_count": 12,
   "metadata": {
    "dotnet_interactive": {
     "language": "fsharp"
    },
    "polyglot_notebook": {
     "kernelName": "fsharp"
    },
    "vscode": {
     "languageId": "polyglot-notebook"
    }
   },
   "outputs": [],
   "source": [
    "type SignalPortfolioObs = \n",
    "    { Month: DateTime\n",
    "      Name: string\n",
    "      ExcessReturn: float }\n",
    "      \n",
    "let long =\n",
    "    vw.Returns\n",
    "    |> List.filter (fun row -> row.Index = 3)\n",
    "    |> List.map (fun row ->\n",
    "        let retx = row.Return - ff3Lookup[row.Month].Rf \n",
    "        { Month = row.Month\n",
    "          Name = \"Long\"\n",
    "          ExcessReturn = retx })\n",
    "\n",
    "let short =\n",
    "    vw.Returns\n",
    "    |> List.filter (fun row -> row.Index = 1)\n",
    "    |> List.map (fun row -> \n",
    "        let retx = row.Return - ff3Lookup[row.Month].Rf \n",
    "        { Month = row.Month\n",
    "          Name = \"Short\"\n",
    "          ExcessReturn = retx })\n",
    "\n",
    "let longShort =\n",
    "    vw.Returns\n",
    "    |> List.groupBy (fun x -> x.Month)\n",
    "    |> List.map (fun (month, xs) ->\n",
    "        let long = xs |> List.find (fun x -> x.Index = 3)\n",
    "        let short = xs |> List.find (fun x -> x.Index = 1)\n",
    "        { Month = long.Month\n",
    "          Name = \"Long-short\"\n",
    "          ExcessReturn = long.Return - short.Return })"
   ]
  },
  {
   "attachments": {},
   "cell_type": "markdown",
   "metadata": {},
   "source": [
    "Functions to plot cumulative graphs"
   ]
  },
  {
   "cell_type": "code",
   "execution_count": 13,
   "metadata": {
    "dotnet_interactive": {
     "language": "fsharp"
    },
    "polyglot_notebook": {
     "kernelName": "fsharp"
    },
    "vscode": {
     "languageId": "polyglot-notebook"
    }
   },
   "outputs": [],
   "source": [
    "let cumulativeReturn xs =\n",
    "    let sorted = xs |> List.sortBy (fun (dt, r) -> dt)\n",
    "    let mutable cr = 1.0\n",
    "    [ for (dt, r) in sorted do \n",
    "        cr <- cr * (1.0 + r)\n",
    "        (dt, cr - 1.0) ]\n",
    "let makeCumulativeChart (returns:List<PortfolioReturn>) =\n",
    "    let firstObs = returns[0]\n",
    "    returns\n",
    "    |> List.map (fun x -> x.Month, x.Return)\n",
    "    |> cumulativeReturn\n",
    "    |> Chart.Line\n",
    "    |> Chart.withTraceInfo(Name = $\"{firstObs.Name}: {firstObs.Index}\")"
   ]
  },
  {
   "attachments": {},
   "cell_type": "markdown",
   "metadata": {},
   "source": [
    "Graph showing cumulative returns for Long and Long-short portfolios and excess returns of the value-weighted stock market portfolio (MktRf)"
   ]
  },
  {
   "cell_type": "code",
   "execution_count": 14,
   "metadata": {
    "dotnet_interactive": {
     "language": "fsharp"
    },
    "polyglot_notebook": {
     "kernelName": "fsharp"
    },
    "vscode": {
     "languageId": "polyglot-notebook"
    }
   },
   "outputs": [
    {
     "data": {
      "text/html": [
       "\n",
       "<div>\n",
       "    <div id=\"554d3849-2f8a-4470-a50f-dc39587a7f82\"><!-- Plotly chart will be drawn inside this DIV --></div>\n",
       "<script type=\"text/javascript\">\n",
       "\r\n",
       "            var renderPlotly_554d38492f8a4470a50fdc39587a7f82 = function() {\r\n",
       "            var fsharpPlotlyRequire = requirejs.config({context:'fsharp-plotly',paths:{plotly:'https://cdn.plot.ly/plotly-2.6.3.min'}}) || require;\r\n",
       "            fsharpPlotlyRequire(['plotly'], function(Plotly) {\n",
       "\r\n",
       "            var data = [{\"type\":\"scatter\",\"mode\":\"lines\",\"x\":[\"2000-02-01T00:00:00\",\"2000-03-01T00:00:00\",\"2000-04-01T00:00:00\",\"2000-05-01T00:00:00\",\"2000-06-01T00:00:00\",\"2000-07-01T00:00:00\",\"2000-08-01T00:00:00\",\"2000-09-01T00:00:00\",\"2000-10-01T00:00:00\",\"2000-11-01T00:00:00\",\"2000-12-01T00:00:00\",\"2001-01-01T00:00:00\",\"2001-02-01T00:00:00\",\"2001-03-01T00:00:00\",\"2001-04-01T00:00:00\",\"2001-05-01T00:00:00\",\"2001-06-01T00:00:00\",\"2001-07-01T00:00:00\",\"2001-08-01T00:00:00\",\"2001-09-01T00:00:00\",\"2001-10-01T00:00:00\",\"2001-11-01T00:00:00\",\"2001-12-01T00:00:00\",\"2002-01-01T00:00:00\",\"2002-02-01T00:00:00\",\"2002-03-01T00:00:00\",\"2002-04-01T00:00:00\",\"2002-05-01T00:00:00\",\"2002-06-01T00:00:00\",\"2002-07-01T00:00:00\",\"2002-08-01T00:00:00\",\"2002-09-01T00:00:00\",\"2002-10-01T00:00:00\",\"2002-11-01T00:00:00\",\"2002-12-01T00:00:00\",\"2003-01-01T00:00:00\",\"2003-02-01T00:00:00\",\"2003-03-01T00:00:00\",\"2003-04-01T00:00:00\",\"2003-05-01T00:00:00\",\"2003-06-01T00:00:00\",\"2003-07-01T00:00:00\",\"2003-08-01T00:00:00\",\"2003-09-01T00:00:00\",\"2003-10-01T00:00:00\",\"2003-11-01T00:00:00\",\"2003-12-01T00:00:00\",\"2004-01-01T00:00:00\",\"2004-02-01T00:00:00\",\"2004-03-01T00:00:00\",\"2004-04-01T00:00:00\",\"2004-05-01T00:00:00\",\"2004-06-01T00:00:00\",\"2004-07-01T00:00:00\",\"2004-08-01T00:00:00\",\"2004-09-01T00:00:00\",\"2004-10-01T00:00:00\",\"2004-11-01T00:00:00\",\"2004-12-01T00:00:00\",\"2005-01-01T00:00:00\",\"2005-02-01T00:00:00\",\"2005-03-01T00:00:00\",\"2005-04-01T00:00:00\",\"2005-05-01T00:00:00\",\"2005-06-01T00:00:00\",\"2005-07-01T00:00:00\",\"2005-08-01T00:00:00\",\"2005-09-01T00:00:00\",\"2005-10-01T00:00:00\",\"2005-11-01T00:00:00\",\"2005-12-01T00:00:00\",\"2006-01-01T00:00:00\",\"2006-02-01T00:00:00\",\"2006-03-01T00:00:00\",\"2006-04-01T00:00:00\",\"2006-05-01T00:00:00\",\"2006-06-01T00:00:00\",\"2006-07-01T00:00:00\",\"2006-08-01T00:00:00\",\"2006-09-01T00:00:00\",\"2006-10-01T00:00:00\",\"2006-11-01T00:00:00\",\"2006-12-01T00:00:00\",\"2007-01-01T00:00:00\",\"2007-02-01T00:00:00\",\"2007-03-01T00:00:00\",\"2007-04-01T00:00:00\",\"2007-05-01T00:00:00\",\"2007-06-01T00:00:00\",\"2007-07-01T00:00:00\",\"2007-08-01T00:00:00\",\"2007-09-01T00:00:00\",\"2007-10-01T00:00:00\",\"2007-11-01T00:00:00\",\"2007-12-01T00:00:00\",\"2008-01-01T00:00:00\",\"2008-02-01T00:00:00\",\"2008-03-01T00:00:00\",\"2008-04-01T00:00:00\",\"2008-05-01T00:00:00\",\"2008-06-01T00:00:00\",\"2008-07-01T00:00:00\",\"2008-08-01T00:00:00\",\"2008-09-01T00:00:00\",\"2008-10-01T00:00:00\",\"2008-11-01T00:00:00\",\"2008-12-01T00:00:00\",\"2009-01-01T00:00:00\",\"2009-02-01T00:00:00\",\"2009-03-01T00:00:00\",\"2009-04-01T00:00:00\",\"2009-05-01T00:00:00\",\"2009-06-01T00:00:00\",\"2009-07-01T00:00:00\",\"2009-08-01T00:00:00\",\"2009-09-01T00:00:00\",\"2009-10-01T00:00:00\",\"2009-11-01T00:00:00\",\"2009-12-01T00:00:00\",\"2010-01-01T00:00:00\",\"2010-02-01T00:00:00\",\"2010-03-01T00:00:00\",\"2010-04-01T00:00:00\",\"2010-05-01T00:00:00\",\"2010-06-01T00:00:00\",\"2010-07-01T00:00:00\",\"2010-08-01T00:00:00\",\"2010-09-01T00:00:00\",\"2010-10-01T00:00:00\",\"2010-11-01T00:00:00\",\"2010-12-01T00:00:00\",\"2011-01-01T00:00:00\",\"2011-02-01T00:00:00\",\"2011-03-01T00:00:00\",\"2011-04-01T00:00:00\",\"2011-05-01T00:00:00\",\"2011-06-01T00:00:00\",\"2011-07-01T00:00:00\",\"2011-08-01T00:00:00\",\"2011-09-01T00:00:00\",\"2011-10-01T00:00:00\",\"2011-11-01T00:00:00\",\"2011-12-01T00:00:00\",\"2012-01-01T00:00:00\",\"2012-02-01T00:00:00\",\"2012-03-01T00:00:00\",\"2012-04-01T00:00:00\",\"2012-05-01T00:00:00\",\"2012-06-01T00:00:00\",\"2012-07-01T00:00:00\",\"2012-08-01T00:00:00\",\"2012-09-01T00:00:00\",\"2012-10-01T00:00:00\",\"2012-11-01T00:00:00\",\"2012-12-01T00:00:00\",\"2013-01-01T00:00:00\",\"2013-02-01T00:00:00\",\"2013-03-01T00:00:00\",\"2013-04-01T00:00:00\",\"2013-05-01T00:00:00\",\"2013-06-01T00:00:00\",\"2013-07-01T00:00:00\",\"2013-08-01T00:00:00\",\"2013-09-01T00:00:00\",\"2013-10-01T00:00:00\",\"2013-11-01T00:00:00\",\"2013-12-01T00:00:00\",\"2014-01-01T00:00:00\",\"2014-02-01T00:00:00\",\"2014-03-01T00:00:00\",\"2014-04-01T00:00:00\",\"2014-05-01T00:00:00\",\"2014-06-01T00:00:00\",\"2014-07-01T00:00:00\",\"2014-08-01T00:00:00\",\"2014-09-01T00:00:00\",\"2014-10-01T00:00:00\",\"2014-11-01T00:00:00\",\"2014-12-01T00:00:00\",\"2015-01-01T00:00:00\",\"2015-02-01T00:00:00\",\"2015-03-01T00:00:00\",\"2015-04-01T00:00:00\",\"2015-05-01T00:00:00\",\"2015-06-01T00:00:00\",\"2015-07-01T00:00:00\",\"2015-08-01T00:00:00\",\"2015-09-01T00:00:00\",\"2015-10-01T00:00:00\",\"2015-11-01T00:00:00\",\"2015-12-01T00:00:00\",\"2016-01-01T00:00:00\",\"2016-02-01T00:00:00\",\"2016-03-01T00:00:00\",\"2016-04-01T00:00:00\",\"2016-05-01T00:00:00\",\"2016-06-01T00:00:00\",\"2016-07-01T00:00:00\",\"2016-08-01T00:00:00\",\"2016-09-01T00:00:00\",\"2016-10-01T00:00:00\",\"2016-11-01T00:00:00\",\"2016-12-01T00:00:00\",\"2017-01-01T00:00:00\",\"2017-02-01T00:00:00\",\"2017-03-01T00:00:00\",\"2017-04-01T00:00:00\",\"2017-05-01T00:00:00\",\"2017-06-01T00:00:00\",\"2017-07-01T00:00:00\",\"2017-08-01T00:00:00\",\"2017-09-01T00:00:00\",\"2017-10-01T00:00:00\",\"2017-11-01T00:00:00\",\"2017-12-01T00:00:00\",\"2018-01-01T00:00:00\",\"2018-02-01T00:00:00\",\"2018-03-01T00:00:00\",\"2018-04-01T00:00:00\",\"2018-05-01T00:00:00\",\"2018-06-01T00:00:00\",\"2018-07-01T00:00:00\",\"2018-08-01T00:00:00\",\"2018-09-01T00:00:00\",\"2018-10-01T00:00:00\",\"2018-11-01T00:00:00\",\"2018-12-01T00:00:00\",\"2019-01-01T00:00:00\",\"2019-02-01T00:00:00\",\"2019-03-01T00:00:00\",\"2019-04-01T00:00:00\",\"2019-05-01T00:00:00\",\"2019-06-01T00:00:00\",\"2019-07-01T00:00:00\",\"2019-08-01T00:00:00\",\"2019-09-01T00:00:00\",\"2019-10-01T00:00:00\",\"2019-11-01T00:00:00\",\"2019-12-01T00:00:00\",\"2020-01-01T00:00:00\",\"2020-02-01T00:00:00\",\"2020-03-01T00:00:00\",\"2020-04-01T00:00:00\",\"2020-05-01T00:00:00\",\"2020-06-01T00:00:00\",\"2020-07-01T00:00:00\",\"2020-08-01T00:00:00\",\"2020-09-01T00:00:00\",\"2020-10-01T00:00:00\",\"2020-11-01T00:00:00\",\"2020-12-01T00:00:00\",\"2021-01-01T00:00:00\"],\"y\":[0.08448688075636257,0.12797980990119773,0.014533839408792382,-0.051709437503261735,0.03143482394586039,-0.004759310246313264,0.06200297292900281,-0.01198146808939049,-0.05111502541875734,-0.18235794332693878,-0.1959592334207012,-0.15807931796755204,-0.2530825885606196,-0.32875028029473874,-0.2681908408240483,-0.26393953764192535,-0.27544430846664003,-0.31013920810065077,-0.3644199955122108,-0.44323093393332846,-0.41580470449522455,-0.35762743885070747,-0.3433558684699969,-0.34806073495450307,-0.38178572711812664,-0.35227081948590233,-0.402389431799254,-0.4067533822420365,-0.4574989250469418,-0.5088666583366906,-0.5075962593246215,-0.566303472116453,-0.5144131265972741,-0.454751429588374,-0.5006935553839928,-0.5128250798842404,-0.5174331034175474,-0.5177814689313969,-0.47326434079541657,-0.43441181565410214,-0.43114773462848466,-0.41597349246355064,-0.3947887943182594,-0.39718456451866635,-0.36719975934112714,-0.3607368485148451,-0.3294857891896247,-0.310086456942385,-0.30616025503290445,-0.3239659914383167,-0.3326195338822515,-0.3232829973168768,-0.3078139093875496,-0.3375371045833059,-0.34540558113384534,-0.3329657817182601,-0.32206771309728077,-0.28435037129313434,-0.2577237369996961,-0.2781193113739253,-0.26397772909676476,-0.2741493055738613,-0.29592032390135814,-0.26718929740321407,-0.26548915858748945,-0.23054360573248245,-0.23531016622586842,-0.22187471672127013,-0.25127191468610643,-0.2223792484742797,-0.22043832623796078,-0.18064260890159511,-0.19073517835485743,-0.17908279334693278,-0.17566713143289703,-0.2087881122833305,-0.21307328458444186,-0.21104169081091995,-0.18889464884510243,-0.17618836558270645,-0.14198273241374781,-0.12460647679938441,-0.11910526097124041,-0.09844413509153749,-0.11844388599741651,-0.10920179989058554,-0.08042141945295023,-0.04446847964807943,-0.0628835588983312,-0.0936745523693765,-0.09055826254674715,-0.04940241171377757,-0.00030901672634786603,-0.05223738049719451,-0.0590638434211026,-0.13084730283143287,-0.1485033655679172,-0.16593767808028181,-0.11993461115039539,-0.08444861964448447,-0.14177285374800197,-0.18194527834092833,-0.16950157141011923,-0.2590183180059623,-0.39040212251532436,-0.4318542895421724,-0.4239732456188581,-0.46057466830203586,-0.49693891851453087,-0.4434525896194146,-0.379688467252963,-0.3354019955868912,-0.334103083004207,-0.26435033686999554,-0.242799519730997,-0.1991763098670537,-0.23355437556704084,-0.18205724194908524,-0.15653421621590902,-0.1918128513295554,-0.16349458020467045,-0.10018624416898114,-0.07942219361784297,-0.16462552686544984,-0.2284858249224362,-0.16147859150135468,-0.2049565910782042,-0.11292097344193408,-0.0800512749423602,-0.07033465164635555,-0.012617910229980489,0.0041328965798281825,0.04331969495528254,0.047356639720775195,0.06753828980093668,0.050559813620687066,0.029179018278043145,0.024134955675958247,-0.042628523021604026,-0.12830934476325861,-0.02407179847098828,-0.030621084521508912,-0.017811475365264284,0.03509460059807923,0.08825598074963503,0.12616715677343082,0.12428809112833394,0.05212165254941725,0.09254464221806047,0.09941096020419571,0.13505181504697905,0.1659650668972963,0.14385940345447423,0.15187451124698526,0.17137076746971358,0.2429566418853919,0.2534690932843504,0.3091219759100592,0.33027630304201727,0.36220304992568897,0.3357046249337634,0.41755293869267684,0.3813181282458571,0.43970064031651623,0.5036876664880154,0.5457510472379707,0.5932864240094189,0.5324640133739289,0.6095225526716517,0.5979459293066574,0.5895646252669919,0.6248341179039774,0.6770964232090708,0.6287582007856973,0.7034134471504669,0.6548996079512657,0.6903549401008882,0.7435926900391259,0.7143025197545332,0.6620433778293324,0.7713835331076424,0.7432026719025049,0.7871824772935097,0.8152902696821038,0.7750130556863342,0.7964168882619096,0.689128717974212,0.6356483404850422,0.7934830686309571,0.8008875120219974,0.7601814795403017,0.6286693754285195,0.629832536697581,0.7569354302979583,0.7604750577778598,0.7887432619935373,0.7880803298815675,0.8684055281953955,0.8686858281232728,0.8727481135202071,0.8382215326142759,0.9278178629669345,0.9492373975478012,0.9901220831475057,1.0580113251275183,1.0704313187040722,1.1023931664892408,1.132559385054265,1.1318244313561103,1.1911388555913045,1.1953109598291687,1.2397866885538864,1.2967461229799624,1.3784878557947389,1.414170582018723,1.5915982746163544,1.4973691004141942,1.4465762961940851,1.4788632778381032,1.5320742051470142,1.54891048116473,1.6251054929781565,1.7383429877471115,1.7458213264245277,1.4888357842607607,1.5486694852728808,1.3161983968083115,1.5103341101784618,1.597246413346093,1.6538165973719976,1.7595536322140246,1.5794342143893463,1.7315742297325425,1.7659212830198685,1.6907572117401628,1.6821999682046118,1.7264361114506555,1.8371355763376473,1.8977387700721673,1.9354599272235702,1.7283679530630582,1.434483061823209,1.7925482068818246,1.9434070570477977,2.042047153933362,2.2196171264493074,2.4721359494623956,2.3340247672014405,2.268486509819361,2.678984507791094,2.8187831813060855,2.818401302987955],\"marker\":{},\"line\":{},\"name\":\"Long\"},{\"type\":\"scatter\",\"mode\":\"lines\",\"x\":[\"2000-02-01T00:00:00\",\"2000-03-01T00:00:00\",\"2000-04-01T00:00:00\",\"2000-05-01T00:00:00\",\"2000-06-01T00:00:00\",\"2000-07-01T00:00:00\",\"2000-08-01T00:00:00\",\"2000-09-01T00:00:00\",\"2000-10-01T00:00:00\",\"2000-11-01T00:00:00\",\"2000-12-01T00:00:00\",\"2001-01-01T00:00:00\",\"2001-02-01T00:00:00\",\"2001-03-01T00:00:00\",\"2001-04-01T00:00:00\",\"2001-05-01T00:00:00\",\"2001-06-01T00:00:00\",\"2001-07-01T00:00:00\",\"2001-08-01T00:00:00\",\"2001-09-01T00:00:00\",\"2001-10-01T00:00:00\",\"2001-11-01T00:00:00\",\"2001-12-01T00:00:00\",\"2002-01-01T00:00:00\",\"2002-02-01T00:00:00\",\"2002-03-01T00:00:00\",\"2002-04-01T00:00:00\",\"2002-05-01T00:00:00\",\"2002-06-01T00:00:00\",\"2002-07-01T00:00:00\",\"2002-08-01T00:00:00\",\"2002-09-01T00:00:00\",\"2002-10-01T00:00:00\",\"2002-11-01T00:00:00\",\"2002-12-01T00:00:00\",\"2003-01-01T00:00:00\",\"2003-02-01T00:00:00\",\"2003-03-01T00:00:00\",\"2003-04-01T00:00:00\",\"2003-05-01T00:00:00\",\"2003-06-01T00:00:00\",\"2003-07-01T00:00:00\",\"2003-08-01T00:00:00\",\"2003-09-01T00:00:00\",\"2003-10-01T00:00:00\",\"2003-11-01T00:00:00\",\"2003-12-01T00:00:00\",\"2004-01-01T00:00:00\",\"2004-02-01T00:00:00\",\"2004-03-01T00:00:00\",\"2004-04-01T00:00:00\",\"2004-05-01T00:00:00\",\"2004-06-01T00:00:00\",\"2004-07-01T00:00:00\",\"2004-08-01T00:00:00\",\"2004-09-01T00:00:00\",\"2004-10-01T00:00:00\",\"2004-11-01T00:00:00\",\"2004-12-01T00:00:00\",\"2005-01-01T00:00:00\",\"2005-02-01T00:00:00\",\"2005-03-01T00:00:00\",\"2005-04-01T00:00:00\",\"2005-05-01T00:00:00\",\"2005-06-01T00:00:00\",\"2005-07-01T00:00:00\",\"2005-08-01T00:00:00\",\"2005-09-01T00:00:00\",\"2005-10-01T00:00:00\",\"2005-11-01T00:00:00\",\"2005-12-01T00:00:00\",\"2006-01-01T00:00:00\",\"2006-02-01T00:00:00\",\"2006-03-01T00:00:00\",\"2006-04-01T00:00:00\",\"2006-05-01T00:00:00\",\"2006-06-01T00:00:00\",\"2006-07-01T00:00:00\",\"2006-08-01T00:00:00\",\"2006-09-01T00:00:00\",\"2006-10-01T00:00:00\",\"2006-11-01T00:00:00\",\"2006-12-01T00:00:00\",\"2007-01-01T00:00:00\",\"2007-02-01T00:00:00\",\"2007-03-01T00:00:00\",\"2007-04-01T00:00:00\",\"2007-05-01T00:00:00\",\"2007-06-01T00:00:00\",\"2007-07-01T00:00:00\",\"2007-08-01T00:00:00\",\"2007-09-01T00:00:00\",\"2007-10-01T00:00:00\",\"2007-11-01T00:00:00\",\"2007-12-01T00:00:00\",\"2008-01-01T00:00:00\",\"2008-02-01T00:00:00\",\"2008-03-01T00:00:00\",\"2008-04-01T00:00:00\",\"2008-05-01T00:00:00\",\"2008-06-01T00:00:00\",\"2008-07-01T00:00:00\",\"2008-08-01T00:00:00\",\"2008-09-01T00:00:00\",\"2008-10-01T00:00:00\",\"2008-11-01T00:00:00\",\"2008-12-01T00:00:00\",\"2009-01-01T00:00:00\",\"2009-02-01T00:00:00\",\"2009-03-01T00:00:00\",\"2009-04-01T00:00:00\",\"2009-05-01T00:00:00\",\"2009-06-01T00:00:00\",\"2009-07-01T00:00:00\",\"2009-08-01T00:00:00\",\"2009-09-01T00:00:00\",\"2009-10-01T00:00:00\",\"2009-11-01T00:00:00\",\"2009-12-01T00:00:00\",\"2010-01-01T00:00:00\",\"2010-02-01T00:00:00\",\"2010-03-01T00:00:00\",\"2010-04-01T00:00:00\",\"2010-05-01T00:00:00\",\"2010-06-01T00:00:00\",\"2010-07-01T00:00:00\",\"2010-08-01T00:00:00\",\"2010-09-01T00:00:00\",\"2010-10-01T00:00:00\",\"2010-11-01T00:00:00\",\"2010-12-01T00:00:00\",\"2011-01-01T00:00:00\",\"2011-02-01T00:00:00\",\"2011-03-01T00:00:00\",\"2011-04-01T00:00:00\",\"2011-05-01T00:00:00\",\"2011-06-01T00:00:00\",\"2011-07-01T00:00:00\",\"2011-08-01T00:00:00\",\"2011-09-01T00:00:00\",\"2011-10-01T00:00:00\",\"2011-11-01T00:00:00\",\"2011-12-01T00:00:00\",\"2012-01-01T00:00:00\",\"2012-02-01T00:00:00\",\"2012-03-01T00:00:00\",\"2012-04-01T00:00:00\",\"2012-05-01T00:00:00\",\"2012-06-01T00:00:00\",\"2012-07-01T00:00:00\",\"2012-08-01T00:00:00\",\"2012-09-01T00:00:00\",\"2012-10-01T00:00:00\",\"2012-11-01T00:00:00\",\"2012-12-01T00:00:00\",\"2013-01-01T00:00:00\",\"2013-02-01T00:00:00\",\"2013-03-01T00:00:00\",\"2013-04-01T00:00:00\",\"2013-05-01T00:00:00\",\"2013-06-01T00:00:00\",\"2013-07-01T00:00:00\",\"2013-08-01T00:00:00\",\"2013-09-01T00:00:00\",\"2013-10-01T00:00:00\",\"2013-11-01T00:00:00\",\"2013-12-01T00:00:00\",\"2014-01-01T00:00:00\",\"2014-02-01T00:00:00\",\"2014-03-01T00:00:00\",\"2014-04-01T00:00:00\",\"2014-05-01T00:00:00\",\"2014-06-01T00:00:00\",\"2014-07-01T00:00:00\",\"2014-08-01T00:00:00\",\"2014-09-01T00:00:00\",\"2014-10-01T00:00:00\",\"2014-11-01T00:00:00\",\"2014-12-01T00:00:00\",\"2015-01-01T00:00:00\",\"2015-02-01T00:00:00\",\"2015-03-01T00:00:00\",\"2015-04-01T00:00:00\",\"2015-05-01T00:00:00\",\"2015-06-01T00:00:00\",\"2015-07-01T00:00:00\",\"2015-08-01T00:00:00\",\"2015-09-01T00:00:00\",\"2015-10-01T00:00:00\",\"2015-11-01T00:00:00\",\"2015-12-01T00:00:00\",\"2016-01-01T00:00:00\",\"2016-02-01T00:00:00\",\"2016-03-01T00:00:00\",\"2016-04-01T00:00:00\",\"2016-05-01T00:00:00\",\"2016-06-01T00:00:00\",\"2016-07-01T00:00:00\",\"2016-08-01T00:00:00\",\"2016-09-01T00:00:00\",\"2016-10-01T00:00:00\",\"2016-11-01T00:00:00\",\"2016-12-01T00:00:00\",\"2017-01-01T00:00:00\",\"2017-02-01T00:00:00\",\"2017-03-01T00:00:00\",\"2017-04-01T00:00:00\",\"2017-05-01T00:00:00\",\"2017-06-01T00:00:00\",\"2017-07-01T00:00:00\",\"2017-08-01T00:00:00\",\"2017-09-01T00:00:00\",\"2017-10-01T00:00:00\",\"2017-11-01T00:00:00\",\"2017-12-01T00:00:00\",\"2018-01-01T00:00:00\",\"2018-02-01T00:00:00\",\"2018-03-01T00:00:00\",\"2018-04-01T00:00:00\",\"2018-05-01T00:00:00\",\"2018-06-01T00:00:00\",\"2018-07-01T00:00:00\",\"2018-08-01T00:00:00\",\"2018-09-01T00:00:00\",\"2018-10-01T00:00:00\",\"2018-11-01T00:00:00\",\"2018-12-01T00:00:00\",\"2019-01-01T00:00:00\",\"2019-02-01T00:00:00\",\"2019-03-01T00:00:00\",\"2019-04-01T00:00:00\",\"2019-05-01T00:00:00\",\"2019-06-01T00:00:00\",\"2019-07-01T00:00:00\",\"2019-08-01T00:00:00\",\"2019-09-01T00:00:00\",\"2019-10-01T00:00:00\",\"2019-11-01T00:00:00\",\"2019-12-01T00:00:00\",\"2020-01-01T00:00:00\",\"2020-02-01T00:00:00\",\"2020-03-01T00:00:00\",\"2020-04-01T00:00:00\",\"2020-05-01T00:00:00\",\"2020-06-01T00:00:00\",\"2020-07-01T00:00:00\",\"2020-08-01T00:00:00\",\"2020-09-01T00:00:00\",\"2020-10-01T00:00:00\",\"2020-11-01T00:00:00\",\"2020-12-01T00:00:00\",\"2021-01-01T00:00:00\"],\"y\":[0.010411708009444132,0.0064742581507792885,-0.05035548006179047,-0.07104957429104408,-0.04246264279110079,-0.039377062606029245,-0.07136732832000847,-0.06117037435997019,-0.036071674790836394,-0.03592455327693711,-0.06838536605775714,-0.09612847297738802,-0.08528078396961569,-0.09868281580256966,-0.10625557130898378,-0.10371617197176741,-0.10408386183195384,-0.11797049742532462,-0.11661248287347026,-0.13295360818680102,-0.13693471407756042,-0.1426474881258908,-0.13298942345538656,-0.1227482134782163,-0.1335964793471165,-0.1413389886300307,-0.15981514260374174,-0.15002349761457368,-0.150148677524665,-0.16583009490588707,-0.16842379039807698,-0.17105171775729877,-0.10777403232621585,-0.04867755757373149,-0.08181546076174884,-0.07981697317695424,-0.06954667873665665,-0.09161555567054258,-0.09698909169651038,-0.07064118312397794,-0.07592954997881052,-0.0700735670021202,-0.05498820866951393,-0.042488490923428435,-0.04974881257056374,-0.057305708536955935,-0.058128344114992014,-0.05405525190537874,-0.06839150424420071,-0.07553216594259626,-0.06581515449961972,-0.06703415091103349,-0.07312642731910246,-0.06265595174722738,-0.07068004249475024,-0.07477045405702654,-0.06591334262561765,-0.05990719140613787,-0.0703242185460512,-0.07227497112401893,-0.061275419379677176,-0.04973233217044204,-0.048704670205503287,-0.04353767172345524,-0.05544910652302737,-0.05005672609367107,-0.04259462489923538,-0.03874024411950505,-0.059340068311656724,-0.06546762858373145,-0.061780015706581315,-0.04111698447066536,-0.04774654907238007,-0.05745546626047793,-0.06615881794575196,-0.06635856124291961,-0.061553299955731,-0.037313433557892406,-0.018583743262311603,-0.02614627741330844,-0.018744691714075223,-0.021695598578706843,-0.019822927445855565,-0.005702621713922551,-0.010865819774857122,-0.008590418388356058,-0.02230303826043656,-0.02363826112089218,-0.03086669269943254,-0.02527596288538214,-0.026507587866581472,-0.019621611499565983,0.018150632556386714,0.03750525543728411,0.04932528785223367,0.06281387529914229,0.05915548532799253,0.048246191307324215,0.06697063203075992,0.08703344468982066,0.10911513497136349,0.05317025290114641,0.0660310167083007,0.07616663160947268,0.1225913563576202,0.15084841602887433,0.14795772026613752,0.15609314308771105,0.2038967811682224,0.20527991332687168,0.19500748867147233,0.17415664500921424,0.2037951344349045,0.23262862038416032,0.23362222030502222,0.24862011920207072,0.210816133824967,0.23099249884210638,0.23283295048664066,0.23453156966198163,0.24009456423137432,0.25067019782769107,0.26198354166787063,0.24153503544240862,0.2124312607434733,0.22539136930593173,0.21786572870477028,0.24397359172365185,0.23840049714527178,0.2413036040079839,0.24248616863154138,0.22913182942945132,0.2211646248931045,0.21331442934547407,0.19492192266632014,0.20449440511673478,0.20354166156347264,0.24145864960684849,0.26610905057109746,0.30840264074458745,0.26616472796306345,0.26071442679198253,0.29864072051550683,0.25857382470211543,0.2802024395190943,0.3027791770582564,0.318222055982339,0.3411946954584477,0.36165653740306447,0.36143545607264227,0.34940014666051566,0.3604581077755453,0.3554218759465395,0.3397753167133952,0.32876542750390203,0.3176982277755611,0.32777647221813444,0.34648006460322267,0.35817649585224176,0.3619577440448283,0.35633202252092877,0.3590122058229712,0.35829107953360895,0.34646847237300693,0.3601445662031886,0.360698837904607,0.36134738439574043,0.3648836947919478,0.36303566662592424,0.36204341816505314,0.36119416226910994,0.3739667153179054,0.3794478292496266,0.365350137587543,0.35869009101357063,0.35555536347805994,0.3631985049962865,0.3747255405752019,0.35372814015277476,0.35339695207918886,0.34596219762951175,0.3271206508203046,0.36859583113838834,0.3605187747408556,0.34418837093629673,0.3682069559386356,0.3699526850125776,0.40439020399228953,0.4479280233653711,0.4459477408184884,0.4629326356910757,0.45854656750477996,0.4537829664480926,0.47408362126530146,0.4535590484397709,0.4603444832496142,0.4662266176268719,0.47721250462466336,0.46345820846961505,0.45281484654627024,0.4691491594857109,0.4934949144670302,0.4943339624948131,0.4665737131273211,0.4850733440694839,0.49858942172414844,0.5132462889904676,0.5021935478102555,0.49365638156167724,0.49807824624622343,0.4925209081785624,0.4688371457329592,0.4730635694407803,0.4741883521228083,0.490181213427084,0.5178987762393621,0.519881122106064,0.5163165051718228,0.5401278116526693,0.5260817800100166,0.5466924223160523,0.5309288800198411,0.5483486399506796,0.5636964544951821,0.5490220749376555,0.5328706766482583,0.5399198099008289,0.5415615857760063,0.5468696744921016,0.5729212289954091,0.5831203242310812,0.6031142780234688,0.5646304626100138,0.5796811283575889,0.6029875956801587,0.5833485551888158,0.5521013076952141,0.5385995928303928,0.5306743972157508,0.588054936242496,0.5996060299264112,0.745099972046428,0.7450983235799071,0.7047521699572397,0.7307793094008483,0.7259538673707402,0.770179420576067,0.7370274385921449,0.7528301458359377,0.6724621258807988,0.6513134680391761,0.6513134680391761],\"marker\":{},\"line\":{},\"name\":\"Long-short\"},{\"type\":\"scatter\",\"mode\":\"lines\",\"x\":[\"2000-02-01T00:00:00\",\"2000-03-01T00:00:00\",\"2000-04-01T00:00:00\",\"2000-05-01T00:00:00\",\"2000-06-01T00:00:00\",\"2000-07-01T00:00:00\",\"2000-08-01T00:00:00\",\"2000-09-01T00:00:00\",\"2000-10-01T00:00:00\",\"2000-11-01T00:00:00\",\"2000-12-01T00:00:00\",\"2001-01-01T00:00:00\",\"2001-02-01T00:00:00\",\"2001-03-01T00:00:00\",\"2001-04-01T00:00:00\",\"2001-05-01T00:00:00\",\"2001-06-01T00:00:00\",\"2001-07-01T00:00:00\",\"2001-08-01T00:00:00\",\"2001-09-01T00:00:00\",\"2001-10-01T00:00:00\",\"2001-11-01T00:00:00\",\"2001-12-01T00:00:00\",\"2002-01-01T00:00:00\",\"2002-02-01T00:00:00\",\"2002-03-01T00:00:00\",\"2002-04-01T00:00:00\",\"2002-05-01T00:00:00\",\"2002-06-01T00:00:00\",\"2002-07-01T00:00:00\",\"2002-08-01T00:00:00\",\"2002-09-01T00:00:00\",\"2002-10-01T00:00:00\",\"2002-11-01T00:00:00\",\"2002-12-01T00:00:00\",\"2003-01-01T00:00:00\",\"2003-02-01T00:00:00\",\"2003-03-01T00:00:00\",\"2003-04-01T00:00:00\",\"2003-05-01T00:00:00\",\"2003-06-01T00:00:00\",\"2003-07-01T00:00:00\",\"2003-08-01T00:00:00\",\"2003-09-01T00:00:00\",\"2003-10-01T00:00:00\",\"2003-11-01T00:00:00\",\"2003-12-01T00:00:00\",\"2004-01-01T00:00:00\",\"2004-02-01T00:00:00\",\"2004-03-01T00:00:00\",\"2004-04-01T00:00:00\",\"2004-05-01T00:00:00\",\"2004-06-01T00:00:00\",\"2004-07-01T00:00:00\",\"2004-08-01T00:00:00\",\"2004-09-01T00:00:00\",\"2004-10-01T00:00:00\",\"2004-11-01T00:00:00\",\"2004-12-01T00:00:00\",\"2005-01-01T00:00:00\",\"2005-02-01T00:00:00\",\"2005-03-01T00:00:00\",\"2005-04-01T00:00:00\",\"2005-05-01T00:00:00\",\"2005-06-01T00:00:00\",\"2005-07-01T00:00:00\",\"2005-08-01T00:00:00\",\"2005-09-01T00:00:00\",\"2005-10-01T00:00:00\",\"2005-11-01T00:00:00\",\"2005-12-01T00:00:00\",\"2006-01-01T00:00:00\",\"2006-02-01T00:00:00\",\"2006-03-01T00:00:00\",\"2006-04-01T00:00:00\",\"2006-05-01T00:00:00\",\"2006-06-01T00:00:00\",\"2006-07-01T00:00:00\",\"2006-08-01T00:00:00\",\"2006-09-01T00:00:00\",\"2006-10-01T00:00:00\",\"2006-11-01T00:00:00\",\"2006-12-01T00:00:00\",\"2007-01-01T00:00:00\",\"2007-02-01T00:00:00\",\"2007-03-01T00:00:00\",\"2007-04-01T00:00:00\",\"2007-05-01T00:00:00\",\"2007-06-01T00:00:00\",\"2007-07-01T00:00:00\",\"2007-08-01T00:00:00\",\"2007-09-01T00:00:00\",\"2007-10-01T00:00:00\",\"2007-11-01T00:00:00\",\"2007-12-01T00:00:00\",\"2008-01-01T00:00:00\",\"2008-02-01T00:00:00\",\"2008-03-01T00:00:00\",\"2008-04-01T00:00:00\",\"2008-05-01T00:00:00\",\"2008-06-01T00:00:00\",\"2008-07-01T00:00:00\",\"2008-08-01T00:00:00\",\"2008-09-01T00:00:00\",\"2008-10-01T00:00:00\",\"2008-11-01T00:00:00\",\"2008-12-01T00:00:00\",\"2009-01-01T00:00:00\",\"2009-02-01T00:00:00\",\"2009-03-01T00:00:00\",\"2009-04-01T00:00:00\",\"2009-05-01T00:00:00\",\"2009-06-01T00:00:00\",\"2009-07-01T00:00:00\",\"2009-08-01T00:00:00\",\"2009-09-01T00:00:00\",\"2009-10-01T00:00:00\",\"2009-11-01T00:00:00\",\"2009-12-01T00:00:00\",\"2010-01-01T00:00:00\",\"2010-02-01T00:00:00\",\"2010-03-01T00:00:00\",\"2010-04-01T00:00:00\",\"2010-05-01T00:00:00\",\"2010-06-01T00:00:00\",\"2010-07-01T00:00:00\",\"2010-08-01T00:00:00\",\"2010-09-01T00:00:00\",\"2010-10-01T00:00:00\",\"2010-11-01T00:00:00\",\"2010-12-01T00:00:00\",\"2011-01-01T00:00:00\",\"2011-02-01T00:00:00\",\"2011-03-01T00:00:00\",\"2011-04-01T00:00:00\",\"2011-05-01T00:00:00\",\"2011-06-01T00:00:00\",\"2011-07-01T00:00:00\",\"2011-08-01T00:00:00\",\"2011-09-01T00:00:00\",\"2011-10-01T00:00:00\",\"2011-11-01T00:00:00\",\"2011-12-01T00:00:00\",\"2012-01-01T00:00:00\",\"2012-02-01T00:00:00\",\"2012-03-01T00:00:00\",\"2012-04-01T00:00:00\",\"2012-05-01T00:00:00\",\"2012-06-01T00:00:00\",\"2012-07-01T00:00:00\",\"2012-08-01T00:00:00\",\"2012-09-01T00:00:00\",\"2012-10-01T00:00:00\",\"2012-11-01T00:00:00\",\"2012-12-01T00:00:00\",\"2013-01-01T00:00:00\",\"2013-02-01T00:00:00\",\"2013-03-01T00:00:00\",\"2013-04-01T00:00:00\",\"2013-05-01T00:00:00\",\"2013-06-01T00:00:00\",\"2013-07-01T00:00:00\",\"2013-08-01T00:00:00\",\"2013-09-01T00:00:00\",\"2013-10-01T00:00:00\",\"2013-11-01T00:00:00\",\"2013-12-01T00:00:00\",\"2014-01-01T00:00:00\",\"2014-02-01T00:00:00\",\"2014-03-01T00:00:00\",\"2014-04-01T00:00:00\",\"2014-05-01T00:00:00\",\"2014-06-01T00:00:00\",\"2014-07-01T00:00:00\",\"2014-08-01T00:00:00\",\"2014-09-01T00:00:00\",\"2014-10-01T00:00:00\",\"2014-11-01T00:00:00\",\"2014-12-01T00:00:00\",\"2015-01-01T00:00:00\",\"2015-02-01T00:00:00\",\"2015-03-01T00:00:00\",\"2015-04-01T00:00:00\",\"2015-05-01T00:00:00\",\"2015-06-01T00:00:00\",\"2015-07-01T00:00:00\",\"2015-08-01T00:00:00\",\"2015-09-01T00:00:00\",\"2015-10-01T00:00:00\",\"2015-11-01T00:00:00\",\"2015-12-01T00:00:00\",\"2016-01-01T00:00:00\",\"2016-02-01T00:00:00\",\"2016-03-01T00:00:00\",\"2016-04-01T00:00:00\",\"2016-05-01T00:00:00\",\"2016-06-01T00:00:00\",\"2016-07-01T00:00:00\",\"2016-08-01T00:00:00\",\"2016-09-01T00:00:00\",\"2016-10-01T00:00:00\",\"2016-11-01T00:00:00\",\"2016-12-01T00:00:00\",\"2017-01-01T00:00:00\",\"2017-02-01T00:00:00\",\"2017-03-01T00:00:00\",\"2017-04-01T00:00:00\",\"2017-05-01T00:00:00\",\"2017-06-01T00:00:00\",\"2017-07-01T00:00:00\",\"2017-08-01T00:00:00\",\"2017-09-01T00:00:00\",\"2017-10-01T00:00:00\",\"2017-11-01T00:00:00\",\"2017-12-01T00:00:00\",\"2018-01-01T00:00:00\",\"2018-02-01T00:00:00\",\"2018-03-01T00:00:00\",\"2018-04-01T00:00:00\",\"2018-05-01T00:00:00\",\"2018-06-01T00:00:00\",\"2018-07-01T00:00:00\",\"2018-08-01T00:00:00\",\"2018-09-01T00:00:00\",\"2018-10-01T00:00:00\",\"2018-11-01T00:00:00\",\"2018-12-01T00:00:00\",\"2019-01-01T00:00:00\",\"2019-02-01T00:00:00\",\"2019-03-01T00:00:00\",\"2019-04-01T00:00:00\",\"2019-05-01T00:00:00\",\"2019-06-01T00:00:00\",\"2019-07-01T00:00:00\",\"2019-08-01T00:00:00\",\"2019-09-01T00:00:00\",\"2019-10-01T00:00:00\",\"2019-11-01T00:00:00\",\"2019-12-01T00:00:00\",\"2020-01-01T00:00:00\",\"2020-02-01T00:00:00\",\"2020-03-01T00:00:00\",\"2020-04-01T00:00:00\",\"2020-05-01T00:00:00\",\"2020-06-01T00:00:00\",\"2020-07-01T00:00:00\",\"2020-08-01T00:00:00\",\"2020-09-01T00:00:00\",\"2020-10-01T00:00:00\",\"2020-11-01T00:00:00\",\"2020-12-01T00:00:00\",\"2021-01-01T00:00:00\"],\"y\":[0.024499999999999966,0.07777400000000001,0.008796464000000004,-0.035792339708800025,0.008946895728711546,-0.016377671354079082,0.052770978349729214,-0.004605039970331015,-0.03207794086714988,-0.13583918560619135,-0.12555567191490502,-0.09818556444584148,-0.18881791521903446,-0.2477097345741326,-0.18797788749931876,-0.18213132828931378,-0.1979979805205011,-0.21508062353541446,-0.26578641525502666,-0.3337011718439368,-0.31731022067129766,-0.2658354113099136,-0.25408877789087225,-0.2648298994892436,-0.28166529479093994,-0.2512079032900758,-0.2901450923189919,-0.2999410900449898,-0.3504153374527461,-0.4035513628491114,-0.40056911966335706,-0.4626102157781996,-0.42047885669521046,-0.3859393965542449,-0.42130928731272044,-0.43618163862878345,-0.44678142382256236,-0.4407513413422284,-0.39478110160055957,-0.3581653582473934,-0.3490513063345063,-0.3337540120333672,-0.3181638559149479,-0.3266186241016025,-0.28567703644697995,-0.2760336764390141,-0.24497552115824783,-0.22874249486315013,-0.21794488979123416,-0.22826801724598988,-0.24239071253038824,-0.2335266838669937,-0.21927028018691985,-0.25096790681133085,-0.25036868113678,-0.23837458003496848,-0.2274833365294685,-0.1924110800079063,-0.16471078005217754,-0.18776476252273744,-0.17241351653441728,-0.18871697025868928,-0.20989145733493753,-0.18105249552766278,-0.17638449475217044,-0.14409876694645563,-0.1545407619897089,-0.15039801172345857,-0.16755997188664473,-0.13750888687175256,-0.1396651146545731,-0.11351093414007218,-0.116170401337652,-0.10326648919718173,-0.09672033456832108,-0.128967418624232,-0.13201603265904716,-0.13878630760430666,-0.12130366964867412,-0.10513565717020978,-0.07623153889680756,-0.06043509821194304,-0.05226088356638703,-0.038992535936316464,-0.05782828223196457,-0.05142151455114197,-0.01831612540897687,0.013490432127772234,-0.0063739803419320396,-0.043436230875178006,-0.034635844199229604,-0.003551118382444818,0.014384961486671122,-0.03460983215313507,-0.043008726613402826,-0.10387337160079035,-0.131563684418326,-0.1396401421532355,-0.10006358869228427,-0.08332477144196082,-0.16069216073225934,-0.16715483109462093,-0.15441230001036854,-0.23254460348941053,-0.3647771683081851,-0.41470568287916176,-0.4045215617612591,-0.4528744109462448,-0.5081340954406741,-0.46411209698261446,-0.4095587084554446,-0.3787967171659733,-0.37612554304978696,-0.3279624349732305,-0.30558358405783903,-0.27725139428739887,-0.2959705831753553,-0.256826547599905,-0.23638927765890227,-0.2620465979295631,-0.23695618225916826,-0.1888081173597218,-0.17258427970691625,-0.23786738003804053,-0.2803181669699216,-0.23044421594093722,-0.2671520268405545,-0.19723833020114345,-0.16609117741294788,-0.1610877244774256,-0.10387390728678603,-0.086040998041793,-0.054143828873451594,-0.04979289048626956,-0.022236884310371408,-0.034654475879629776,-0.05154802255173618,-0.07383664402177037,-0.12931382904486632,-0.19539890942036098,-0.10407668563957195,-0.1065852709197812,-0.0999740019245875,-0.05452268902177915,-0.012732591876541743,0.01797142451609779,0.009318667407711034,-0.05315815810482627,-0.016326010455104067,-0.008554985937699322,0.016726861920889347,0.044483505251329714,0.026100595558906425,0.034104180204265866,0.046306609530676335,0.1045858876815351,0.11883504563262681,0.16392409797162166,0.18196492149018195,0.21505993929190703,0.2004792200204042,0.268306295951557,0.23393519533126983,0.28045455219525883,0.33397755247702077,0.37573104986955164,0.41438909237088595,0.3674313745041726,0.4310169334186167,0.4371703062323167,0.4344396826504753,0.4639891401130749,0.5021992566700262,0.47155439183395775,0.5339482980477175,0.5037295165761775,0.541623500393897,0.5809348996539414,0.5799863387141491,0.5308487635801391,0.6246897927876014,0.6064932671083803,0.6159715773843197,0.6379487908367465,0.6128881743369443,0.6377266522217333,0.5388079624275406,0.4915665579810151,0.6071629662245437,0.6161630788354011,0.5810923400246728,0.48986331200524913,0.4888204076868454,0.5924423080618497,0.6069335330652128,0.6355369499537737,0.6347191814787969,0.6992905891472094,0.7076171130340305,0.7118861558166154,0.6773060554691197,0.7588231297649188,0.7906578284136638,0.825396590284889,0.8905632485580597,0.8937772060806084,0.914419377626887,0.9347122230297318,0.9498029783693638,0.9862642940648707,0.9894423169353745,1.0393773190904523,1.0852633087699872,1.1503235240036105,1.1731169533580488,1.2941595676600923,1.2104227434404988,1.1584778089696472,1.164521546834762,1.2218813678258833,1.2325463983914475,1.3037646285001347,1.3830141317205396,1.3844439401995716,1.2013186455922447,1.2385209307027534,1.0242944776344998,1.194335213755798,1.2689426110234954,1.2939009797447536,1.3849688486406206,1.2194520105449613,1.373260034875727,1.4015018292907482,1.3395430820950467,1.3729985481690057,1.4218823182612872,1.5156091639779987,1.5852915378201895,1.5824477171285873,1.372494717726033,1.0548176750225169,1.3353002876630904,1.4656100437146908,1.526264050790072,1.6720294865206595,1.875905336342186,1.7715099726329648,1.7133082632076726,2.0516578036296695,2.1929495599377233,2.191991675069742],\"marker\":{},\"line\":{},\"name\":\"MktRf\"}];\r\n",
       "            var layout = {\"width\":600,\"height\":600,\"template\":{\"layout\":{\"title\":{\"x\":0.05},\"font\":{\"color\":\"rgba(42, 63, 95, 1.0)\"},\"paper_bgcolor\":\"rgba(255, 255, 255, 1.0)\",\"plot_bgcolor\":\"rgba(229, 236, 246, 1.0)\",\"autotypenumbers\":\"strict\",\"colorscale\":{\"diverging\":[[0.0,\"#8e0152\"],[0.1,\"#c51b7d\"],[0.2,\"#de77ae\"],[0.3,\"#f1b6da\"],[0.4,\"#fde0ef\"],[0.5,\"#f7f7f7\"],[0.6,\"#e6f5d0\"],[0.7,\"#b8e186\"],[0.8,\"#7fbc41\"],[0.9,\"#4d9221\"],[1.0,\"#276419\"]],\"sequential\":[[0.0,\"#0d0887\"],[0.1111111111111111,\"#46039f\"],[0.2222222222222222,\"#7201a8\"],[0.3333333333333333,\"#9c179e\"],[0.4444444444444444,\"#bd3786\"],[0.5555555555555556,\"#d8576b\"],[0.6666666666666666,\"#ed7953\"],[0.7777777777777778,\"#fb9f3a\"],[0.8888888888888888,\"#fdca26\"],[1.0,\"#f0f921\"]],\"sequentialminus\":[[0.0,\"#0d0887\"],[0.1111111111111111,\"#46039f\"],[0.2222222222222222,\"#7201a8\"],[0.3333333333333333,\"#9c179e\"],[0.4444444444444444,\"#bd3786\"],[0.5555555555555556,\"#d8576b\"],[0.6666666666666666,\"#ed7953\"],[0.7777777777777778,\"#fb9f3a\"],[0.8888888888888888,\"#fdca26\"],[1.0,\"#f0f921\"]]},\"hovermode\":\"closest\",\"hoverlabel\":{\"align\":\"left\"},\"coloraxis\":{\"colorbar\":{\"outlinewidth\":0.0,\"ticks\":\"\"}},\"geo\":{\"showland\":true,\"landcolor\":\"rgba(229, 236, 246, 1.0)\",\"showlakes\":true,\"lakecolor\":\"rgba(255, 255, 255, 1.0)\",\"subunitcolor\":\"rgba(255, 255, 255, 1.0)\",\"bgcolor\":\"rgba(255, 255, 255, 1.0)\"},\"mapbox\":{\"style\":\"light\"},\"polar\":{\"bgcolor\":\"rgba(229, 236, 246, 1.0)\",\"radialaxis\":{\"linecolor\":\"rgba(255, 255, 255, 1.0)\",\"gridcolor\":\"rgba(255, 255, 255, 1.0)\",\"ticks\":\"\"},\"angularaxis\":{\"linecolor\":\"rgba(255, 255, 255, 1.0)\",\"gridcolor\":\"rgba(255, 255, 255, 1.0)\",\"ticks\":\"\"}},\"scene\":{\"xaxis\":{\"ticks\":\"\",\"linecolor\":\"rgba(255, 255, 255, 1.0)\",\"gridcolor\":\"rgba(255, 255, 255, 1.0)\",\"gridwidth\":2.0,\"zerolinecolor\":\"rgba(255, 255, 255, 1.0)\",\"backgroundcolor\":\"rgba(229, 236, 246, 1.0)\",\"showbackground\":true},\"yaxis\":{\"ticks\":\"\",\"linecolor\":\"rgba(255, 255, 255, 1.0)\",\"gridcolor\":\"rgba(255, 255, 255, 1.0)\",\"gridwidth\":2.0,\"zerolinecolor\":\"rgba(255, 255, 255, 1.0)\",\"backgroundcolor\":\"rgba(229, 236, 246, 1.0)\",\"showbackground\":true},\"zaxis\":{\"ticks\":\"\",\"linecolor\":\"rgba(255, 255, 255, 1.0)\",\"gridcolor\":\"rgba(255, 255, 255, 1.0)\",\"gridwidth\":2.0,\"zerolinecolor\":\"rgba(255, 255, 255, 1.0)\",\"backgroundcolor\":\"rgba(229, 236, 246, 1.0)\",\"showbackground\":true}},\"ternary\":{\"aaxis\":{\"ticks\":\"\",\"linecolor\":\"rgba(255, 255, 255, 1.0)\",\"gridcolor\":\"rgba(255, 255, 255, 1.0)\"},\"baxis\":{\"ticks\":\"\",\"linecolor\":\"rgba(255, 255, 255, 1.0)\",\"gridcolor\":\"rgba(255, 255, 255, 1.0)\"},\"caxis\":{\"ticks\":\"\",\"linecolor\":\"rgba(255, 255, 255, 1.0)\",\"gridcolor\":\"rgba(255, 255, 255, 1.0)\"},\"bgcolor\":\"rgba(229, 236, 246, 1.0)\"},\"xaxis\":{\"title\":{\"standoff\":15},\"ticks\":\"\",\"automargin\":true,\"linecolor\":\"rgba(255, 255, 255, 1.0)\",\"gridcolor\":\"rgba(255, 255, 255, 1.0)\",\"zerolinecolor\":\"rgba(255, 255, 255, 1.0)\",\"zerolinewidth\":2.0},\"yaxis\":{\"title\":{\"standoff\":15},\"ticks\":\"\",\"automargin\":true,\"linecolor\":\"rgba(255, 255, 255, 1.0)\",\"gridcolor\":\"rgba(255, 255, 255, 1.0)\",\"zerolinecolor\":\"rgba(255, 255, 255, 1.0)\",\"zerolinewidth\":2.0},\"annotationdefaults\":{\"arrowcolor\":\"#2a3f5f\",\"arrowhead\":0,\"arrowwidth\":1},\"shapedefaults\":{\"line\":{\"color\":\"rgba(42, 63, 95, 1.0)\"}},\"colorway\":[\"rgba(99, 110, 250, 1.0)\",\"rgba(239, 85, 59, 1.0)\",\"rgba(0, 204, 150, 1.0)\",\"rgba(171, 99, 250, 1.0)\",\"rgba(255, 161, 90, 1.0)\",\"rgba(25, 211, 243, 1.0)\",\"rgba(255, 102, 146, 1.0)\",\"rgba(182, 232, 128, 1.0)\",\"rgba(255, 151, 255, 1.0)\",\"rgba(254, 203, 82, 1.0)\"]},\"data\":{\"bar\":[{\"marker\":{\"line\":{\"color\":\"rgba(229, 236, 246, 1.0)\",\"width\":0.5},\"pattern\":{\"fillmode\":\"overlay\",\"size\":10,\"solidity\":0.2}},\"error_x\":{\"color\":\"rgba(42, 63, 95, 1.0)\"},\"error_y\":{\"color\":\"rgba(42, 63, 95, 1.0)\"}}],\"barpolar\":[{\"marker\":{\"line\":{\"color\":\"rgba(229, 236, 246, 1.0)\",\"width\":0.5},\"pattern\":{\"fillmode\":\"overlay\",\"size\":10,\"solidity\":0.2}}}],\"carpet\":[{\"aaxis\":{\"linecolor\":\"rgba(255, 255, 255, 1.0)\",\"gridcolor\":\"rgba(255, 255, 255, 1.0)\",\"endlinecolor\":\"rgba(42, 63, 95, 1.0)\",\"minorgridcolor\":\"rgba(255, 255, 255, 1.0)\",\"startlinecolor\":\"rgba(42, 63, 95, 1.0)\"},\"baxis\":{\"linecolor\":\"rgba(255, 255, 255, 1.0)\",\"gridcolor\":\"rgba(255, 255, 255, 1.0)\",\"endlinecolor\":\"rgba(42, 63, 95, 1.0)\",\"minorgridcolor\":\"rgba(255, 255, 255, 1.0)\",\"startlinecolor\":\"rgba(42, 63, 95, 1.0)\"}}],\"choropleth\":[{\"colorbar\":{\"outlinewidth\":0.0,\"ticks\":\"\"},\"colorscale\":[[0.0,\"#0d0887\"],[0.1111111111111111,\"#46039f\"],[0.2222222222222222,\"#7201a8\"],[0.3333333333333333,\"#9c179e\"],[0.4444444444444444,\"#bd3786\"],[0.5555555555555556,\"#d8576b\"],[0.6666666666666666,\"#ed7953\"],[0.7777777777777778,\"#fb9f3a\"],[0.8888888888888888,\"#fdca26\"],[1.0,\"#f0f921\"]]}],\"contour\":[{\"colorbar\":{\"outlinewidth\":0.0,\"ticks\":\"\"},\"colorscale\":[[0.0,\"#0d0887\"],[0.1111111111111111,\"#46039f\"],[0.2222222222222222,\"#7201a8\"],[0.3333333333333333,\"#9c179e\"],[0.4444444444444444,\"#bd3786\"],[0.5555555555555556,\"#d8576b\"],[0.6666666666666666,\"#ed7953\"],[0.7777777777777778,\"#fb9f3a\"],[0.8888888888888888,\"#fdca26\"],[1.0,\"#f0f921\"]]}],\"contourcarpet\":[{\"colorbar\":{\"outlinewidth\":0.0,\"ticks\":\"\"}}],\"heatmap\":[{\"colorbar\":{\"outlinewidth\":0.0,\"ticks\":\"\"},\"colorscale\":[[0.0,\"#0d0887\"],[0.1111111111111111,\"#46039f\"],[0.2222222222222222,\"#7201a8\"],[0.3333333333333333,\"#9c179e\"],[0.4444444444444444,\"#bd3786\"],[0.5555555555555556,\"#d8576b\"],[0.6666666666666666,\"#ed7953\"],[0.7777777777777778,\"#fb9f3a\"],[0.8888888888888888,\"#fdca26\"],[1.0,\"#f0f921\"]]}],\"heatmapgl\":[{\"colorbar\":{\"outlinewidth\":0.0,\"ticks\":\"\"},\"colorscale\":[[0.0,\"#0d0887\"],[0.1111111111111111,\"#46039f\"],[0.2222222222222222,\"#7201a8\"],[0.3333333333333333,\"#9c179e\"],[0.4444444444444444,\"#bd3786\"],[0.5555555555555556,\"#d8576b\"],[0.6666666666666666,\"#ed7953\"],[0.7777777777777778,\"#fb9f3a\"],[0.8888888888888888,\"#fdca26\"],[1.0,\"#f0f921\"]]}],\"histogram\":[{\"marker\":{\"pattern\":{\"fillmode\":\"overlay\",\"size\":10,\"solidity\":0.2}}}],\"histogram2d\":[{\"colorbar\":{\"outlinewidth\":0.0,\"ticks\":\"\"},\"colorscale\":[[0.0,\"#0d0887\"],[0.1111111111111111,\"#46039f\"],[0.2222222222222222,\"#7201a8\"],[0.3333333333333333,\"#9c179e\"],[0.4444444444444444,\"#bd3786\"],[0.5555555555555556,\"#d8576b\"],[0.6666666666666666,\"#ed7953\"],[0.7777777777777778,\"#fb9f3a\"],[0.8888888888888888,\"#fdca26\"],[1.0,\"#f0f921\"]]}],\"histogram2dcontour\":[{\"colorbar\":{\"outlinewidth\":0.0,\"ticks\":\"\"},\"colorscale\":[[0.0,\"#0d0887\"],[0.1111111111111111,\"#46039f\"],[0.2222222222222222,\"#7201a8\"],[0.3333333333333333,\"#9c179e\"],[0.4444444444444444,\"#bd3786\"],[0.5555555555555556,\"#d8576b\"],[0.6666666666666666,\"#ed7953\"],[0.7777777777777778,\"#fb9f3a\"],[0.8888888888888888,\"#fdca26\"],[1.0,\"#f0f921\"]]}],\"mesh3d\":[{\"colorbar\":{\"outlinewidth\":0.0,\"ticks\":\"\"}}],\"parcoords\":[{\"line\":{\"colorbar\":{\"outlinewidth\":0.0,\"ticks\":\"\"}}}],\"pie\":[{\"automargin\":true}],\"scatter\":[{\"marker\":{\"colorbar\":{\"outlinewidth\":0.0,\"ticks\":\"\"}}}],\"scatter3d\":[{\"marker\":{\"colorbar\":{\"outlinewidth\":0.0,\"ticks\":\"\"}},\"line\":{\"colorbar\":{\"outlinewidth\":0.0,\"ticks\":\"\"}}}],\"scattercarpet\":[{\"marker\":{\"colorbar\":{\"outlinewidth\":0.0,\"ticks\":\"\"}}}],\"scattergeo\":[{\"marker\":{\"colorbar\":{\"outlinewidth\":0.0,\"ticks\":\"\"}}}],\"scattergl\":[{\"marker\":{\"colorbar\":{\"outlinewidth\":0.0,\"ticks\":\"\"}}}],\"scattermapbox\":[{\"marker\":{\"colorbar\":{\"outlinewidth\":0.0,\"ticks\":\"\"}}}],\"scatterpolar\":[{\"marker\":{\"colorbar\":{\"outlinewidth\":0.0,\"ticks\":\"\"}}}],\"scatterpolargl\":[{\"marker\":{\"colorbar\":{\"outlinewidth\":0.0,\"ticks\":\"\"}}}],\"scatterternary\":[{\"marker\":{\"colorbar\":{\"outlinewidth\":0.0,\"ticks\":\"\"}}}],\"surface\":[{\"colorbar\":{\"outlinewidth\":0.0,\"ticks\":\"\"},\"colorscale\":[[0.0,\"#0d0887\"],[0.1111111111111111,\"#46039f\"],[0.2222222222222222,\"#7201a8\"],[0.3333333333333333,\"#9c179e\"],[0.4444444444444444,\"#bd3786\"],[0.5555555555555556,\"#d8576b\"],[0.6666666666666666,\"#ed7953\"],[0.7777777777777778,\"#fb9f3a\"],[0.8888888888888888,\"#fdca26\"],[1.0,\"#f0f921\"]]}],\"table\":[{\"cells\":{\"fill\":{\"color\":\"rgba(235, 240, 248, 1.0)\"},\"line\":{\"color\":\"rgba(255, 255, 255, 1.0)\"}},\"header\":{\"fill\":{\"color\":\"rgba(200, 212, 227, 1.0)\"},\"line\":{\"color\":\"rgba(255, 255, 255, 1.0)\"}}}]}}};\r\n",
       "            var config = {\"responsive\":true};\r\n",
       "            Plotly.newPlot('554d3849-2f8a-4470-a50f-dc39587a7f82', data, layout, config);\n",
       "});\r\n",
       "            };\r\n",
       "            if ((typeof(requirejs) !==  typeof(Function)) || (typeof(requirejs.config) !== typeof(Function))) {\r\n",
       "                var script = document.createElement(\"script\");\r\n",
       "                script.setAttribute(\"src\", \"https://cdnjs.cloudflare.com/ajax/libs/require.js/2.3.6/require.min.js\");\r\n",
       "                script.onload = function(){\r\n",
       "                    renderPlotly_554d38492f8a4470a50fdc39587a7f82();\r\n",
       "                };\r\n",
       "                document.getElementsByTagName(\"head\")[0].appendChild(script);\r\n",
       "            }\r\n",
       "            else {\r\n",
       "                renderPlotly_554d38492f8a4470a50fdc39587a7f82();\r\n",
       "            }\n",
       "</script>\n",
       "\n",
       "    \n",
       "</div>    \n"
      ]
     },
     "metadata": {},
     "output_type": "display_data"
    }
   ],
   "source": [
    "let vwMktRf =\n",
    "    let portfolioMonths = \n",
    "        List.concat [long; short; longShort]\n",
    "        |> List.map(fun x -> x.Month)\n",
    "    let minMonth = portfolioMonths |> List.min\n",
    "    let maxMonth = portfolioMonths |> List.max\n",
    "\n",
    "    ff3Lookup\n",
    "    |> Map.toSeq\n",
    "    |> Seq.filter (fun (month, _) -> month >= minMonth && month <= maxMonth)\n",
    "    |> Seq.map (fun (month, ffData) ->\n",
    "        { Month = month\n",
    "          Name = \"MktRf\"\n",
    "          ExcessReturn = ffData.MktRf })\n",
    "    |> Seq.toList\n",
    "\n",
    "let combinedChart =\n",
    "    List.concat [long; longShort; vwMktRf]\n",
    "    |> List.groupBy(fun x -> x.Name)\n",
    "    |> List.map(fun (name, xs) ->\n",
    "        xs\n",
    "        |> List.map (fun x -> x.Month, x.ExcessReturn)\n",
    "        |> cumulativeReturn\n",
    "        |> Chart.Line\n",
    "        |> Chart.withTraceInfo(Name = name))\n",
    "    |> Chart.combine\n",
    "    \n",
    "combinedChart\n"
   ]
  },
  {
   "attachments": {},
   "cell_type": "markdown",
   "metadata": {},
   "source": [
    "Graph showing cumulative returns for Long and Long-short portfolios and excess returns of the value-weighted stock market portfolio (MktRf) with a constant leverage applied to each portfolio so that they all have an annualized volatility of 10%"
   ]
  },
  {
   "cell_type": "code",
   "execution_count": 15,
   "metadata": {
    "dotnet_interactive": {
     "language": "fsharp"
    },
    "polyglot_notebook": {
     "kernelName": "fsharp"
    },
    "vscode": {
     "languageId": "polyglot-notebook"
    }
   },
   "outputs": [
    {
     "data": {
      "text/html": [
       "\n",
       "<div>\n",
       "    <div id=\"317552de-d28d-4e45-b9bf-0e5a559d3738\"><!-- Plotly chart will be drawn inside this DIV --></div>\n",
       "<script type=\"text/javascript\">\n",
       "\r\n",
       "            var renderPlotly_317552ded28d4e45b9bf0e5a559d3738 = function() {\r\n",
       "            var fsharpPlotlyRequire = requirejs.config({context:'fsharp-plotly',paths:{plotly:'https://cdn.plot.ly/plotly-2.6.3.min'}}) || require;\r\n",
       "            fsharpPlotlyRequire(['plotly'], function(Plotly) {\n",
       "\r\n",
       "            var data = [{\"type\":\"scatter\",\"mode\":\"lines\",\"x\":[\"2000-02-01T00:00:00\",\"2000-03-01T00:00:00\",\"2000-04-01T00:00:00\",\"2000-05-01T00:00:00\",\"2000-06-01T00:00:00\",\"2000-07-01T00:00:00\",\"2000-08-01T00:00:00\",\"2000-09-01T00:00:00\",\"2000-10-01T00:00:00\",\"2000-11-01T00:00:00\",\"2000-12-01T00:00:00\",\"2001-01-01T00:00:00\",\"2001-02-01T00:00:00\",\"2001-03-01T00:00:00\",\"2001-04-01T00:00:00\",\"2001-05-01T00:00:00\",\"2001-06-01T00:00:00\",\"2001-07-01T00:00:00\",\"2001-08-01T00:00:00\",\"2001-09-01T00:00:00\",\"2001-10-01T00:00:00\",\"2001-11-01T00:00:00\",\"2001-12-01T00:00:00\",\"2002-01-01T00:00:00\",\"2002-02-01T00:00:00\",\"2002-03-01T00:00:00\",\"2002-04-01T00:00:00\",\"2002-05-01T00:00:00\",\"2002-06-01T00:00:00\",\"2002-07-01T00:00:00\",\"2002-08-01T00:00:00\",\"2002-09-01T00:00:00\",\"2002-10-01T00:00:00\",\"2002-11-01T00:00:00\",\"2002-12-01T00:00:00\",\"2003-01-01T00:00:00\",\"2003-02-01T00:00:00\",\"2003-03-01T00:00:00\",\"2003-04-01T00:00:00\",\"2003-05-01T00:00:00\",\"2003-06-01T00:00:00\",\"2003-07-01T00:00:00\",\"2003-08-01T00:00:00\",\"2003-09-01T00:00:00\",\"2003-10-01T00:00:00\",\"2003-11-01T00:00:00\",\"2003-12-01T00:00:00\",\"2004-01-01T00:00:00\",\"2004-02-01T00:00:00\",\"2004-03-01T00:00:00\",\"2004-04-01T00:00:00\",\"2004-05-01T00:00:00\",\"2004-06-01T00:00:00\",\"2004-07-01T00:00:00\",\"2004-08-01T00:00:00\",\"2004-09-01T00:00:00\",\"2004-10-01T00:00:00\",\"2004-11-01T00:00:00\",\"2004-12-01T00:00:00\",\"2005-01-01T00:00:00\",\"2005-02-01T00:00:00\",\"2005-03-01T00:00:00\",\"2005-04-01T00:00:00\",\"2005-05-01T00:00:00\",\"2005-06-01T00:00:00\",\"2005-07-01T00:00:00\",\"2005-08-01T00:00:00\",\"2005-09-01T00:00:00\",\"2005-10-01T00:00:00\",\"2005-11-01T00:00:00\",\"2005-12-01T00:00:00\",\"2006-01-01T00:00:00\",\"2006-02-01T00:00:00\",\"2006-03-01T00:00:00\",\"2006-04-01T00:00:00\",\"2006-05-01T00:00:00\",\"2006-06-01T00:00:00\",\"2006-07-01T00:00:00\",\"2006-08-01T00:00:00\",\"2006-09-01T00:00:00\",\"2006-10-01T00:00:00\",\"2006-11-01T00:00:00\",\"2006-12-01T00:00:00\",\"2007-01-01T00:00:00\",\"2007-02-01T00:00:00\",\"2007-03-01T00:00:00\",\"2007-04-01T00:00:00\",\"2007-05-01T00:00:00\",\"2007-06-01T00:00:00\",\"2007-07-01T00:00:00\",\"2007-08-01T00:00:00\",\"2007-09-01T00:00:00\",\"2007-10-01T00:00:00\",\"2007-11-01T00:00:00\",\"2007-12-01T00:00:00\",\"2008-01-01T00:00:00\",\"2008-02-01T00:00:00\",\"2008-03-01T00:00:00\",\"2008-04-01T00:00:00\",\"2008-05-01T00:00:00\",\"2008-06-01T00:00:00\",\"2008-07-01T00:00:00\",\"2008-08-01T00:00:00\",\"2008-09-01T00:00:00\",\"2008-10-01T00:00:00\",\"2008-11-01T00:00:00\",\"2008-12-01T00:00:00\",\"2009-01-01T00:00:00\",\"2009-02-01T00:00:00\",\"2009-03-01T00:00:00\",\"2009-04-01T00:00:00\",\"2009-05-01T00:00:00\",\"2009-06-01T00:00:00\",\"2009-07-01T00:00:00\",\"2009-08-01T00:00:00\",\"2009-09-01T00:00:00\",\"2009-10-01T00:00:00\",\"2009-11-01T00:00:00\",\"2009-12-01T00:00:00\",\"2010-01-01T00:00:00\",\"2010-02-01T00:00:00\",\"2010-03-01T00:00:00\",\"2010-04-01T00:00:00\",\"2010-05-01T00:00:00\",\"2010-06-01T00:00:00\",\"2010-07-01T00:00:00\",\"2010-08-01T00:00:00\",\"2010-09-01T00:00:00\",\"2010-10-01T00:00:00\",\"2010-11-01T00:00:00\",\"2010-12-01T00:00:00\",\"2011-01-01T00:00:00\",\"2011-02-01T00:00:00\",\"2011-03-01T00:00:00\",\"2011-04-01T00:00:00\",\"2011-05-01T00:00:00\",\"2011-06-01T00:00:00\",\"2011-07-01T00:00:00\",\"2011-08-01T00:00:00\",\"2011-09-01T00:00:00\",\"2011-10-01T00:00:00\",\"2011-11-01T00:00:00\",\"2011-12-01T00:00:00\",\"2012-01-01T00:00:00\",\"2012-02-01T00:00:00\",\"2012-03-01T00:00:00\",\"2012-04-01T00:00:00\",\"2012-05-01T00:00:00\",\"2012-06-01T00:00:00\",\"2012-07-01T00:00:00\",\"2012-08-01T00:00:00\",\"2012-09-01T00:00:00\",\"2012-10-01T00:00:00\",\"2012-11-01T00:00:00\",\"2012-12-01T00:00:00\",\"2013-01-01T00:00:00\",\"2013-02-01T00:00:00\",\"2013-03-01T00:00:00\",\"2013-04-01T00:00:00\",\"2013-05-01T00:00:00\",\"2013-06-01T00:00:00\",\"2013-07-01T00:00:00\",\"2013-08-01T00:00:00\",\"2013-09-01T00:00:00\",\"2013-10-01T00:00:00\",\"2013-11-01T00:00:00\",\"2013-12-01T00:00:00\",\"2014-01-01T00:00:00\",\"2014-02-01T00:00:00\",\"2014-03-01T00:00:00\",\"2014-04-01T00:00:00\",\"2014-05-01T00:00:00\",\"2014-06-01T00:00:00\",\"2014-07-01T00:00:00\",\"2014-08-01T00:00:00\",\"2014-09-01T00:00:00\",\"2014-10-01T00:00:00\",\"2014-11-01T00:00:00\",\"2014-12-01T00:00:00\",\"2015-01-01T00:00:00\",\"2015-02-01T00:00:00\",\"2015-03-01T00:00:00\",\"2015-04-01T00:00:00\",\"2015-05-01T00:00:00\",\"2015-06-01T00:00:00\",\"2015-07-01T00:00:00\",\"2015-08-01T00:00:00\",\"2015-09-01T00:00:00\",\"2015-10-01T00:00:00\",\"2015-11-01T00:00:00\",\"2015-12-01T00:00:00\",\"2016-01-01T00:00:00\",\"2016-02-01T00:00:00\",\"2016-03-01T00:00:00\",\"2016-04-01T00:00:00\",\"2016-05-01T00:00:00\",\"2016-06-01T00:00:00\",\"2016-07-01T00:00:00\",\"2016-08-01T00:00:00\",\"2016-09-01T00:00:00\",\"2016-10-01T00:00:00\",\"2016-11-01T00:00:00\",\"2016-12-01T00:00:00\",\"2017-01-01T00:00:00\",\"2017-02-01T00:00:00\",\"2017-03-01T00:00:00\",\"2017-04-01T00:00:00\",\"2017-05-01T00:00:00\",\"2017-06-01T00:00:00\",\"2017-07-01T00:00:00\",\"2017-08-01T00:00:00\",\"2017-09-01T00:00:00\",\"2017-10-01T00:00:00\",\"2017-11-01T00:00:00\",\"2017-12-01T00:00:00\",\"2018-01-01T00:00:00\",\"2018-02-01T00:00:00\",\"2018-03-01T00:00:00\",\"2018-04-01T00:00:00\",\"2018-05-01T00:00:00\",\"2018-06-01T00:00:00\",\"2018-07-01T00:00:00\",\"2018-08-01T00:00:00\",\"2018-09-01T00:00:00\",\"2018-10-01T00:00:00\",\"2018-11-01T00:00:00\",\"2018-12-01T00:00:00\",\"2019-01-01T00:00:00\",\"2019-02-01T00:00:00\",\"2019-03-01T00:00:00\",\"2019-04-01T00:00:00\",\"2019-05-01T00:00:00\",\"2019-06-01T00:00:00\",\"2019-07-01T00:00:00\",\"2019-08-01T00:00:00\",\"2019-09-01T00:00:00\",\"2019-10-01T00:00:00\",\"2019-11-01T00:00:00\",\"2019-12-01T00:00:00\",\"2020-01-01T00:00:00\",\"2020-02-01T00:00:00\",\"2020-03-01T00:00:00\",\"2020-04-01T00:00:00\",\"2020-05-01T00:00:00\",\"2020-06-01T00:00:00\",\"2020-07-01T00:00:00\",\"2020-08-01T00:00:00\",\"2020-09-01T00:00:00\",\"2020-10-01T00:00:00\",\"2020-11-01T00:00:00\",\"2020-12-01T00:00:00\",\"2021-01-01T00:00:00\"],\"y\":[0.1627727099330949,0.25261514257914586,0.009899524056391051,-0.11714201771864252,0.03199107251786826,-0.03777827475322981,0.08657881009237278,-0.059258354950469716,-0.13104554018248327,-0.36259919586464096,-0.38302700569476966,-0.32702682807739203,-0.4733312482907934,-0.5761252496294604,-0.5024489858646153,-0.4968802813958323,-0.5120308222978995,-0.5570480319038562,-0.624196116620612,-0.7139741017209387,-0.6868291744334676,-0.6267437871405195,-0.6107671951382005,-0.6161402217256451,-0.6543971101734631,-0.6226084602408485,-0.6788672069083753,-0.6833851266885245,-0.7355629864899782,-0.7838026600464677,-0.7827252441151934,-0.8326334211416566,-0.7940534699681137,-0.7453033756121747,-0.7866492382793788,-0.7966362307717938,-0.8003421475813577,-0.8006198350888197,-0.7651583015887077,-0.7317853929201135,-0.7288032026670239,-0.7148657183146537,-0.6949391976281789,-0.6972657719148927,-0.668254236691222,-0.6617265510609683,-0.629866585586816,-0.6092351520291017,-0.604950793900539,-0.624482684228871,-0.633743466411613,-0.6238718104834986,-0.6073070248184855,-0.6397946581980162,-0.6480373974763576,-0.6351510476353284,-0.6236666863649669,-0.5833281866581639,-0.5534604534447469,-0.5770991002824479,-0.561137974966302,-0.5728226767680888,-0.5975076098597116,-0.5658644878538905,-0.5639240032141646,-0.523952709489367,-0.5296342160346756,-0.5137123148478624,-0.5491073215801658,-0.5155853929487151,-0.5132559619958136,-0.46538426573088043,-0.4780713675425313,-0.46359273308523063,-0.4592927921617367,-0.5011485345489419,-0.506353754134266,-0.5038984192174745,-0.4770681764307595,-0.4612855725705348,-0.41819119254929116,-0.39549083083097447,-0.3881718507529104,-0.3605246135035334,-0.3878551460611761,-0.3754909304695171,-0.33661791178850653,-0.28664880119140546,-0.31313528376284716,-0.3566156976472534,-0.35235366820725267,-0.2958876803331406,-0.22582921513847576,-0.303305352284274,-0.31297322561834684,-0.4139520260147769,-0.436888321112766,-0.45910139918588344,-0.4016240859348239,-0.35513955806094577,-0.4329277349952412,-0.48406724014418934,-0.46894720359211384,-0.5792268823674753,-0.7229658976484481,-0.7592594387765857,-0.7528256677273353,-0.7830844187924986,-0.8112569822965524,-0.7725948963022828,-0.722399169692912,-0.6842157954674388,-0.6830267359005951,-0.619057780947295,-0.5975575004246614,-0.5528888436467669,-0.5898676041038713,-0.5367769470889059,-0.5089290933773472,-0.5485004398214448,-0.5180211780137742,-0.44774430758481876,-0.42319201967882836,-0.526045658862816,-0.59584937826787,-0.5282234333678855,-0.5753519837836665,-0.48064401838883974,-0.4435681898725896,-0.43224533316123825,-0.3643361994686619,-0.3435598002165726,-0.29420424137931056,-0.28894277543854996,-0.26254550920561315,-0.28514209323549033,-0.3131715780321982,-0.31965687877563653,-0.40510491446403807,-0.5076785710002575,-0.39425512270667296,-0.4020868608625682,-0.38686482557926594,-0.32323521804669264,-0.2562704648950691,-0.20635403224715765,-0.20890531284661984,-0.30673675336918416,-0.25542073328045534,-0.246405271491419,-0.1993380870857927,-0.15732636421212187,-0.18810644383975061,-0.17714600021149862,-0.15031349900071456,-0.05027112503493192,-0.034795792803360426,0.04776722487293128,0.08038664448619293,0.13034226281497818,0.08797986869280727,0.21642347297282583,0.15651837031719884,0.250692999643072,0.35778641410697953,0.43096269178508706,0.515743591222952,0.40426593439849645,0.5403076705515146,0.5189632370139996,0.5036139185736306,0.5678900422615345,0.6650500302544253,0.5725903796285519,0.7114614074135088,0.6175528863323596,0.6843197093730906,0.78652153015719,0.7287016178019297,0.6271733054857398,0.8334088228393024,0.7772143899864434,0.8635992351253616,0.9200672708135906,0.8379901515744008,0.8806899171807843,0.664291428480515,0.562771006936815,0.8533072338943424,0.8680485030061491,0.78669942142588,0.5295105968714133,0.5316151108281202,0.7617351367602931,0.7685732248469435,0.8232853654814332,0.8219834943122308,0.9796725442837979,0.9802447306692064,0.9885383734087587,0.9179065368804493,1.098005880627058,1.1429158799617665,1.2295109899440262,1.3760398516369539,1.4036659560558902,1.4751546693664146,1.5435775882998803,1.5418887185647643,1.6781453773733106,1.6879699058519497,1.792886394406478,1.9297237261573312,2.1306098013302504,2.2210951674024577,2.6771838807525365,2.419596034282777,2.2856016557245806,2.3691380853381614,2.508472815955382,2.553417676950285,2.758067104270104,3.070387495567795,3.0918038407640758,2.353995534259069,2.5093430892081234,1.8926436176557293,2.3597512111521337,2.5838549841417637,2.7342443687249025,3.020893925026244,2.515259505793513,2.9147152847276048,3.009550356270929,2.7996281078090464,2.776347581817031,2.896339053798072,3.2011280301637965,3.3740195358885376,3.483717561609436,2.8742961940756406,2.0702898841332185,2.9403053838807605,3.350407786816093,3.6312907826442764,4.152123134773353,4.9306400966178465,4.476148342017753,4.268755582806348,5.543622103679673,6.0226773712683395,6.021324379873139],\"marker\":{},\"line\":{},\"name\":\"Long\"},{\"type\":\"scatter\",\"mode\":\"lines\",\"x\":[\"2000-02-01T00:00:00\",\"2000-03-01T00:00:00\",\"2000-04-01T00:00:00\",\"2000-05-01T00:00:00\",\"2000-06-01T00:00:00\",\"2000-07-01T00:00:00\",\"2000-08-01T00:00:00\",\"2000-09-01T00:00:00\",\"2000-10-01T00:00:00\",\"2000-11-01T00:00:00\",\"2000-12-01T00:00:00\",\"2001-01-01T00:00:00\",\"2001-02-01T00:00:00\",\"2001-03-01T00:00:00\",\"2001-04-01T00:00:00\",\"2001-05-01T00:00:00\",\"2001-06-01T00:00:00\",\"2001-07-01T00:00:00\",\"2001-08-01T00:00:00\",\"2001-09-01T00:00:00\",\"2001-10-01T00:00:00\",\"2001-11-01T00:00:00\",\"2001-12-01T00:00:00\",\"2002-01-01T00:00:00\",\"2002-02-01T00:00:00\",\"2002-03-01T00:00:00\",\"2002-04-01T00:00:00\",\"2002-05-01T00:00:00\",\"2002-06-01T00:00:00\",\"2002-07-01T00:00:00\",\"2002-08-01T00:00:00\",\"2002-09-01T00:00:00\",\"2002-10-01T00:00:00\",\"2002-11-01T00:00:00\",\"2002-12-01T00:00:00\",\"2003-01-01T00:00:00\",\"2003-02-01T00:00:00\",\"2003-03-01T00:00:00\",\"2003-04-01T00:00:00\",\"2003-05-01T00:00:00\",\"2003-06-01T00:00:00\",\"2003-07-01T00:00:00\",\"2003-08-01T00:00:00\",\"2003-09-01T00:00:00\",\"2003-10-01T00:00:00\",\"2003-11-01T00:00:00\",\"2003-12-01T00:00:00\",\"2004-01-01T00:00:00\",\"2004-02-01T00:00:00\",\"2004-03-01T00:00:00\",\"2004-04-01T00:00:00\",\"2004-05-01T00:00:00\",\"2004-06-01T00:00:00\",\"2004-07-01T00:00:00\",\"2004-08-01T00:00:00\",\"2004-09-01T00:00:00\",\"2004-10-01T00:00:00\",\"2004-11-01T00:00:00\",\"2004-12-01T00:00:00\",\"2005-01-01T00:00:00\",\"2005-02-01T00:00:00\",\"2005-03-01T00:00:00\",\"2005-04-01T00:00:00\",\"2005-05-01T00:00:00\",\"2005-06-01T00:00:00\",\"2005-07-01T00:00:00\",\"2005-08-01T00:00:00\",\"2005-09-01T00:00:00\",\"2005-10-01T00:00:00\",\"2005-11-01T00:00:00\",\"2005-12-01T00:00:00\",\"2006-01-01T00:00:00\",\"2006-02-01T00:00:00\",\"2006-03-01T00:00:00\",\"2006-04-01T00:00:00\",\"2006-05-01T00:00:00\",\"2006-06-01T00:00:00\",\"2006-07-01T00:00:00\",\"2006-08-01T00:00:00\",\"2006-09-01T00:00:00\",\"2006-10-01T00:00:00\",\"2006-11-01T00:00:00\",\"2006-12-01T00:00:00\",\"2007-01-01T00:00:00\",\"2007-02-01T00:00:00\",\"2007-03-01T00:00:00\",\"2007-04-01T00:00:00\",\"2007-05-01T00:00:00\",\"2007-06-01T00:00:00\",\"2007-07-01T00:00:00\",\"2007-08-01T00:00:00\",\"2007-09-01T00:00:00\",\"2007-10-01T00:00:00\",\"2007-11-01T00:00:00\",\"2007-12-01T00:00:00\",\"2008-01-01T00:00:00\",\"2008-02-01T00:00:00\",\"2008-03-01T00:00:00\",\"2008-04-01T00:00:00\",\"2008-05-01T00:00:00\",\"2008-06-01T00:00:00\",\"2008-07-01T00:00:00\",\"2008-08-01T00:00:00\",\"2008-09-01T00:00:00\",\"2008-10-01T00:00:00\",\"2008-11-01T00:00:00\",\"2008-12-01T00:00:00\",\"2009-01-01T00:00:00\",\"2009-02-01T00:00:00\",\"2009-03-01T00:00:00\",\"2009-04-01T00:00:00\",\"2009-05-01T00:00:00\",\"2009-06-01T00:00:00\",\"2009-07-01T00:00:00\",\"2009-08-01T00:00:00\",\"2009-09-01T00:00:00\",\"2009-10-01T00:00:00\",\"2009-11-01T00:00:00\",\"2009-12-01T00:00:00\",\"2010-01-01T00:00:00\",\"2010-02-01T00:00:00\",\"2010-03-01T00:00:00\",\"2010-04-01T00:00:00\",\"2010-05-01T00:00:00\",\"2010-06-01T00:00:00\",\"2010-07-01T00:00:00\",\"2010-08-01T00:00:00\",\"2010-09-01T00:00:00\",\"2010-10-01T00:00:00\",\"2010-11-01T00:00:00\",\"2010-12-01T00:00:00\",\"2011-01-01T00:00:00\",\"2011-02-01T00:00:00\",\"2011-03-01T00:00:00\",\"2011-04-01T00:00:00\",\"2011-05-01T00:00:00\",\"2011-06-01T00:00:00\",\"2011-07-01T00:00:00\",\"2011-08-01T00:00:00\",\"2011-09-01T00:00:00\",\"2011-10-01T00:00:00\",\"2011-11-01T00:00:00\",\"2011-12-01T00:00:00\",\"2012-01-01T00:00:00\",\"2012-02-01T00:00:00\",\"2012-03-01T00:00:00\",\"2012-04-01T00:00:00\",\"2012-05-01T00:00:00\",\"2012-06-01T00:00:00\",\"2012-07-01T00:00:00\",\"2012-08-01T00:00:00\",\"2012-09-01T00:00:00\",\"2012-10-01T00:00:00\",\"2012-11-01T00:00:00\",\"2012-12-01T00:00:00\",\"2013-01-01T00:00:00\",\"2013-02-01T00:00:00\",\"2013-03-01T00:00:00\",\"2013-04-01T00:00:00\",\"2013-05-01T00:00:00\",\"2013-06-01T00:00:00\",\"2013-07-01T00:00:00\",\"2013-08-01T00:00:00\",\"2013-09-01T00:00:00\",\"2013-10-01T00:00:00\",\"2013-11-01T00:00:00\",\"2013-12-01T00:00:00\",\"2014-01-01T00:00:00\",\"2014-02-01T00:00:00\",\"2014-03-01T00:00:00\",\"2014-04-01T00:00:00\",\"2014-05-01T00:00:00\",\"2014-06-01T00:00:00\",\"2014-07-01T00:00:00\",\"2014-08-01T00:00:00\",\"2014-09-01T00:00:00\",\"2014-10-01T00:00:00\",\"2014-11-01T00:00:00\",\"2014-12-01T00:00:00\",\"2015-01-01T00:00:00\",\"2015-02-01T00:00:00\",\"2015-03-01T00:00:00\",\"2015-04-01T00:00:00\",\"2015-05-01T00:00:00\",\"2015-06-01T00:00:00\",\"2015-07-01T00:00:00\",\"2015-08-01T00:00:00\",\"2015-09-01T00:00:00\",\"2015-10-01T00:00:00\",\"2015-11-01T00:00:00\",\"2015-12-01T00:00:00\",\"2016-01-01T00:00:00\",\"2016-02-01T00:00:00\",\"2016-03-01T00:00:00\",\"2016-04-01T00:00:00\",\"2016-05-01T00:00:00\",\"2016-06-01T00:00:00\",\"2016-07-01T00:00:00\",\"2016-08-01T00:00:00\",\"2016-09-01T00:00:00\",\"2016-10-01T00:00:00\",\"2016-11-01T00:00:00\",\"2016-12-01T00:00:00\",\"2017-01-01T00:00:00\",\"2017-02-01T00:00:00\",\"2017-03-01T00:00:00\",\"2017-04-01T00:00:00\",\"2017-05-01T00:00:00\",\"2017-06-01T00:00:00\",\"2017-07-01T00:00:00\",\"2017-08-01T00:00:00\",\"2017-09-01T00:00:00\",\"2017-10-01T00:00:00\",\"2017-11-01T00:00:00\",\"2017-12-01T00:00:00\",\"2018-01-01T00:00:00\",\"2018-02-01T00:00:00\",\"2018-03-01T00:00:00\",\"2018-04-01T00:00:00\",\"2018-05-01T00:00:00\",\"2018-06-01T00:00:00\",\"2018-07-01T00:00:00\",\"2018-08-01T00:00:00\",\"2018-09-01T00:00:00\",\"2018-10-01T00:00:00\",\"2018-11-01T00:00:00\",\"2018-12-01T00:00:00\",\"2019-01-01T00:00:00\",\"2019-02-01T00:00:00\",\"2019-03-01T00:00:00\",\"2019-04-01T00:00:00\",\"2019-05-01T00:00:00\",\"2019-06-01T00:00:00\",\"2019-07-01T00:00:00\",\"2019-08-01T00:00:00\",\"2019-09-01T00:00:00\",\"2019-10-01T00:00:00\",\"2019-11-01T00:00:00\",\"2019-12-01T00:00:00\",\"2020-01-01T00:00:00\",\"2020-02-01T00:00:00\",\"2020-03-01T00:00:00\",\"2020-04-01T00:00:00\",\"2020-05-01T00:00:00\",\"2020-06-01T00:00:00\",\"2020-07-01T00:00:00\",\"2020-08-01T00:00:00\",\"2020-09-01T00:00:00\",\"2020-10-01T00:00:00\",\"2020-11-01T00:00:00\",\"2020-12-01T00:00:00\",\"2021-01-01T00:00:00\"],\"y\":[0.060259509472250006,0.03634659807026064,-0.3023272184574346,-0.39031872387661304,-0.28173081430703883,-0.2683349124299329,-0.4093549544076196,-0.3718182036508869,-0.27462108436948207,-0.2739803175971176,-0.41546205168765227,-0.5162097462051891,-0.48260572522909095,-0.5264798103243082,-0.5495058048534859,-0.5420976429427669,-0.5431848508045423,-0.5841650239800127,-0.5804595314764558,-0.6253762657928,-0.6353317020165479,-0.6493019791171631,-0.6264371683439869,-0.6008987412290172,-0.6294629874884117,-0.6486274539945347,-0.692385837152025,-0.6716371440012938,-0.6719170326928616,-0.7069542539710114,-0.7122278092547629,-0.7174911772479422,-0.5926784776736742,-0.4365336199715374,-0.5501311537929577,-0.5444640520469748,-0.5150378005274863,-0.5816106495364984,-0.5959349924787422,-0.527699865370965,-0.5432545006565359,-0.5265022712506029,-0.4820464589365616,-0.44239516195536566,-0.4668656146512692,-0.4914039630561019,-0.4939726619275203,-0.48130751866853894,-0.5268045888717396,-0.547796363451728,-0.5202871247464962,-0.5239100101435268,-0.5419031317257845,-0.511952440963193,-0.5361327898345027,-0.5479495665580162,-0.5229038698209093,-0.5051489547280634,-0.5368848803147765,-0.5425091125343522,-0.5111154653186827,-0.47632231945119274,-0.4730445982783419,-0.4564792549236283,-0.4956548809661435,-0.4789905994062593,-0.455303459041666,-0.442611841245822,-0.511744634362944,-0.5301525910242897,-0.51942230196185,-0.4581651815169122,-0.47984671034531123,-0.5105406901550724,-0.5366987096607112,-0.5372722530970591,-0.5234885457859356,-0.4522528670129963,-0.39057499099434634,-0.4177542733686388,-0.39214242246092634,-0.40272225833545816,-0.396105162097542,-0.3457545806932574,-0.36541744550443134,-0.35696865484380924,-0.40844445198868484,-0.41312017351245334,-0.43826716968014123,-0.41951211202544714,-0.4237572673743085,-0.4001665020497318,-0.2664104672839752,-0.18570008279992256,-0.13200724415945608,-0.06743051480239981,-0.08600931203770334,-0.14049498383702974,-0.05163676793020533,0.051572256311575915,0.1752046106302021,-0.1678796775562067,-0.10906876487954109,-0.06004258463333434,0.17464040173995254,0.34576554358225353,0.32620156051874205,0.3805976128495667,0.7109967119929104,0.7223736977067443,0.6374133966839788,0.47205930101503824,0.687118954998384,0.9209993855533984,0.9299614928445326,1.0657617193081852,0.7037762852778078,0.8680926840352563,0.8842575101229273,0.899283242727037,0.948816830350041,1.0450060110542676,1.1520707312485894,0.9502489429445384,0.6856524989119857,0.789937818105553,0.7263153939177247,0.9405036581081065,0.8901879799748291,0.9158334411834743,0.9263969507096999,0.8065629014900233,0.7387887325335725,0.674095822163493,0.527219602995286,0.598028878644816,0.5907131183495447,0.8807599848488132,1.0968967849162006,1.5022971217463956,1.0347735356644066,0.9840803034810148,1.329531371172389,0.9135548146314623,1.103879241415458,1.3186162774444985,1.4776868889191732,1.7275903999975366,1.9684343070419046,1.9656448765229864,1.813910857946488,1.9473699766613373,1.8842220919323256,1.6915243307452936,1.563511677644935,1.4399373261696726,1.54794415346021,1.7556714538847689,1.8942144240258698,1.9408495645335946,1.8705437865372572,1.9033734378164038,1.8944569364091857,1.7486456588257702,1.9102258997759023,1.9170897523779509,1.9251367246292603,1.9691142916286908,1.945847126722846,1.9334355478534362,1.922849647995104,2.0815828309855675,2.1527320398500103,1.9662515506090577,1.8825092634587293,1.8440187491325908,1.9368278805902963,2.08055563458206,1.8082339671943686,1.8042576581376357,1.7150991152984423,1.4951242850174373,1.9464329490048016,1.8457912228328106,1.648094699452452,1.9219520540071993,1.9435295849565581,2.3717805052096073,2.9767615800312375,2.9452831290786308,3.213503682022501,3.1403901035836492,3.0621264790052196,3.3904239402038456,3.03662047990231,3.145680741423079,3.24232567534162,3.4262934036594244,3.187765491721837,3.0114930293010893,3.2725289393835766,3.6823044319258162,3.6975290473760394,3.1924622930583277,3.4985401736012607,3.735501782897037,4.003559372884638,3.792043456905567,3.634423136383826,3.7138292691116748,3.6126224489294714,3.188997242997627,3.2587583033930176,3.2775789152116355,3.5461596377929796,4.035559959237677,4.073621643506449,4.004752459945122,4.459614375936585,4.171435289869502,4.575665181978169,4.246775569477239,4.592303571883486,4.913131477632305,4.591966304830848,4.254507566988277,4.394358651230265,4.427644466115071,4.535810846504276,5.075401938931272,5.303401127103068,5.764148976429833,4.824359847709425,5.148621611446679,5.673656785870495,5.200442786866505,4.492233603987704,4.215716830725582,4.060226998751151,5.158108372568055,5.417352259057129,8.795599024744876,8.79554547043451,7.484811746793985,8.234552313261474,8.085542501606941,9.432948781223514,8.302104261948887,8.791893942654792,6.193447631992685,5.6669854037012435,5.6669854037012435],\"marker\":{},\"line\":{},\"name\":\"Long-short\"},{\"type\":\"scatter\",\"mode\":\"lines\",\"x\":[\"2000-02-01T00:00:00\",\"2000-03-01T00:00:00\",\"2000-04-01T00:00:00\",\"2000-05-01T00:00:00\",\"2000-06-01T00:00:00\",\"2000-07-01T00:00:00\",\"2000-08-01T00:00:00\",\"2000-09-01T00:00:00\",\"2000-10-01T00:00:00\",\"2000-11-01T00:00:00\",\"2000-12-01T00:00:00\",\"2001-01-01T00:00:00\",\"2001-02-01T00:00:00\",\"2001-03-01T00:00:00\",\"2001-04-01T00:00:00\",\"2001-05-01T00:00:00\",\"2001-06-01T00:00:00\",\"2001-07-01T00:00:00\",\"2001-08-01T00:00:00\",\"2001-09-01T00:00:00\",\"2001-10-01T00:00:00\",\"2001-11-01T00:00:00\",\"2001-12-01T00:00:00\",\"2002-01-01T00:00:00\",\"2002-02-01T00:00:00\",\"2002-03-01T00:00:00\",\"2002-04-01T00:00:00\",\"2002-05-01T00:00:00\",\"2002-06-01T00:00:00\",\"2002-07-01T00:00:00\",\"2002-08-01T00:00:00\",\"2002-09-01T00:00:00\",\"2002-10-01T00:00:00\",\"2002-11-01T00:00:00\",\"2002-12-01T00:00:00\",\"2003-01-01T00:00:00\",\"2003-02-01T00:00:00\",\"2003-03-01T00:00:00\",\"2003-04-01T00:00:00\",\"2003-05-01T00:00:00\",\"2003-06-01T00:00:00\",\"2003-07-01T00:00:00\",\"2003-08-01T00:00:00\",\"2003-09-01T00:00:00\",\"2003-10-01T00:00:00\",\"2003-11-01T00:00:00\",\"2003-12-01T00:00:00\",\"2004-01-01T00:00:00\",\"2004-02-01T00:00:00\",\"2004-03-01T00:00:00\",\"2004-04-01T00:00:00\",\"2004-05-01T00:00:00\",\"2004-06-01T00:00:00\",\"2004-07-01T00:00:00\",\"2004-08-01T00:00:00\",\"2004-09-01T00:00:00\",\"2004-10-01T00:00:00\",\"2004-11-01T00:00:00\",\"2004-12-01T00:00:00\",\"2005-01-01T00:00:00\",\"2005-02-01T00:00:00\",\"2005-03-01T00:00:00\",\"2005-04-01T00:00:00\",\"2005-05-01T00:00:00\",\"2005-06-01T00:00:00\",\"2005-07-01T00:00:00\",\"2005-08-01T00:00:00\",\"2005-09-01T00:00:00\",\"2005-10-01T00:00:00\",\"2005-11-01T00:00:00\",\"2005-12-01T00:00:00\",\"2006-01-01T00:00:00\",\"2006-02-01T00:00:00\",\"2006-03-01T00:00:00\",\"2006-04-01T00:00:00\",\"2006-05-01T00:00:00\",\"2006-06-01T00:00:00\",\"2006-07-01T00:00:00\",\"2006-08-01T00:00:00\",\"2006-09-01T00:00:00\",\"2006-10-01T00:00:00\",\"2006-11-01T00:00:00\",\"2006-12-01T00:00:00\",\"2007-01-01T00:00:00\",\"2007-02-01T00:00:00\",\"2007-03-01T00:00:00\",\"2007-04-01T00:00:00\",\"2007-05-01T00:00:00\",\"2007-06-01T00:00:00\",\"2007-07-01T00:00:00\",\"2007-08-01T00:00:00\",\"2007-09-01T00:00:00\",\"2007-10-01T00:00:00\",\"2007-11-01T00:00:00\",\"2007-12-01T00:00:00\",\"2008-01-01T00:00:00\",\"2008-02-01T00:00:00\",\"2008-03-01T00:00:00\",\"2008-04-01T00:00:00\",\"2008-05-01T00:00:00\",\"2008-06-01T00:00:00\",\"2008-07-01T00:00:00\",\"2008-08-01T00:00:00\",\"2008-09-01T00:00:00\",\"2008-10-01T00:00:00\",\"2008-11-01T00:00:00\",\"2008-12-01T00:00:00\",\"2009-01-01T00:00:00\",\"2009-02-01T00:00:00\",\"2009-03-01T00:00:00\",\"2009-04-01T00:00:00\",\"2009-05-01T00:00:00\",\"2009-06-01T00:00:00\",\"2009-07-01T00:00:00\",\"2009-08-01T00:00:00\",\"2009-09-01T00:00:00\",\"2009-10-01T00:00:00\",\"2009-11-01T00:00:00\",\"2009-12-01T00:00:00\",\"2010-01-01T00:00:00\",\"2010-02-01T00:00:00\",\"2010-03-01T00:00:00\",\"2010-04-01T00:00:00\",\"2010-05-01T00:00:00\",\"2010-06-01T00:00:00\",\"2010-07-01T00:00:00\",\"2010-08-01T00:00:00\",\"2010-09-01T00:00:00\",\"2010-10-01T00:00:00\",\"2010-11-01T00:00:00\",\"2010-12-01T00:00:00\",\"2011-01-01T00:00:00\",\"2011-02-01T00:00:00\",\"2011-03-01T00:00:00\",\"2011-04-01T00:00:00\",\"2011-05-01T00:00:00\",\"2011-06-01T00:00:00\",\"2011-07-01T00:00:00\",\"2011-08-01T00:00:00\",\"2011-09-01T00:00:00\",\"2011-10-01T00:00:00\",\"2011-11-01T00:00:00\",\"2011-12-01T00:00:00\",\"2012-01-01T00:00:00\",\"2012-02-01T00:00:00\",\"2012-03-01T00:00:00\",\"2012-04-01T00:00:00\",\"2012-05-01T00:00:00\",\"2012-06-01T00:00:00\",\"2012-07-01T00:00:00\",\"2012-08-01T00:00:00\",\"2012-09-01T00:00:00\",\"2012-10-01T00:00:00\",\"2012-11-01T00:00:00\",\"2012-12-01T00:00:00\",\"2013-01-01T00:00:00\",\"2013-02-01T00:00:00\",\"2013-03-01T00:00:00\",\"2013-04-01T00:00:00\",\"2013-05-01T00:00:00\",\"2013-06-01T00:00:00\",\"2013-07-01T00:00:00\",\"2013-08-01T00:00:00\",\"2013-09-01T00:00:00\",\"2013-10-01T00:00:00\",\"2013-11-01T00:00:00\",\"2013-12-01T00:00:00\",\"2014-01-01T00:00:00\",\"2014-02-01T00:00:00\",\"2014-03-01T00:00:00\",\"2014-04-01T00:00:00\",\"2014-05-01T00:00:00\",\"2014-06-01T00:00:00\",\"2014-07-01T00:00:00\",\"2014-08-01T00:00:00\",\"2014-09-01T00:00:00\",\"2014-10-01T00:00:00\",\"2014-11-01T00:00:00\",\"2014-12-01T00:00:00\",\"2015-01-01T00:00:00\",\"2015-02-01T00:00:00\",\"2015-03-01T00:00:00\",\"2015-04-01T00:00:00\",\"2015-05-01T00:00:00\",\"2015-06-01T00:00:00\",\"2015-07-01T00:00:00\",\"2015-08-01T00:00:00\",\"2015-09-01T00:00:00\",\"2015-10-01T00:00:00\",\"2015-11-01T00:00:00\",\"2015-12-01T00:00:00\",\"2016-01-01T00:00:00\",\"2016-02-01T00:00:00\",\"2016-03-01T00:00:00\",\"2016-04-01T00:00:00\",\"2016-05-01T00:00:00\",\"2016-06-01T00:00:00\",\"2016-07-01T00:00:00\",\"2016-08-01T00:00:00\",\"2016-09-01T00:00:00\",\"2016-10-01T00:00:00\",\"2016-11-01T00:00:00\",\"2016-12-01T00:00:00\",\"2017-01-01T00:00:00\",\"2017-02-01T00:00:00\",\"2017-03-01T00:00:00\",\"2017-04-01T00:00:00\",\"2017-05-01T00:00:00\",\"2017-06-01T00:00:00\",\"2017-07-01T00:00:00\",\"2017-08-01T00:00:00\",\"2017-09-01T00:00:00\",\"2017-10-01T00:00:00\",\"2017-11-01T00:00:00\",\"2017-12-01T00:00:00\",\"2018-01-01T00:00:00\",\"2018-02-01T00:00:00\",\"2018-03-01T00:00:00\",\"2018-04-01T00:00:00\",\"2018-05-01T00:00:00\",\"2018-06-01T00:00:00\",\"2018-07-01T00:00:00\",\"2018-08-01T00:00:00\",\"2018-09-01T00:00:00\",\"2018-10-01T00:00:00\",\"2018-11-01T00:00:00\",\"2018-12-01T00:00:00\",\"2019-01-01T00:00:00\",\"2019-02-01T00:00:00\",\"2019-03-01T00:00:00\",\"2019-04-01T00:00:00\",\"2019-05-01T00:00:00\",\"2019-06-01T00:00:00\",\"2019-07-01T00:00:00\",\"2019-08-01T00:00:00\",\"2019-09-01T00:00:00\",\"2019-10-01T00:00:00\",\"2019-11-01T00:00:00\",\"2019-12-01T00:00:00\",\"2020-01-01T00:00:00\",\"2020-02-01T00:00:00\",\"2020-03-01T00:00:00\",\"2020-04-01T00:00:00\",\"2020-05-01T00:00:00\",\"2020-06-01T00:00:00\",\"2020-07-01T00:00:00\",\"2020-08-01T00:00:00\",\"2020-09-01T00:00:00\",\"2020-10-01T00:00:00\",\"2020-11-01T00:00:00\",\"2020-12-01T00:00:00\",\"2021-01-01T00:00:00\"],\"y\":[0.053743439520582914,0.17394153887684616,0.009130682138030366,-0.08871215856589487,0.004041901631116618,-0.05124024926409654,0.09506871985882848,-0.035848643147519677,-0.09422186599425542,-0.3072200941338986,-0.28913579771893194,-0.2403278715425795,-0.407803504426988,-0.5021143908393877,-0.4153963517025344,-0.40616312729952764,-0.43143446686808096,-0.4580000592931275,-0.5348053487121742,-0.6291974856969784,-0.6091879435934069,-0.5445483418606663,-0.5285630105014758,-0.5434547530644744,-0.566388693544325,-0.5260589159028914,-0.5801202892683449,-0.592830810157604,-0.6572283899027691,-0.7187343951788756,-0.7156494602764422,-0.7802080120947193,-0.7424084043856116,-0.7087311000158656,-0.7455334856732609,-0.7598792316762908,-0.7697817794564039,-0.7642771820182693,-0.7217728872439095,-0.6848484235113668,-0.6750316854864757,-0.6582796242010333,-0.6407389571241744,-0.6505111309695109,-0.603899285219792,-0.5921692648149155,-0.5537900029883751,-0.5327455748357512,-0.5183959405845857,-0.5323410987090259,-0.5511143575320311,-0.539593602306793,-0.5208084955704155,-0.5634855578261623,-0.5627195239478657,-0.5473719603114644,-0.5331736434228362,-0.48668246079492283,-0.4480600306225513,-0.48147647981541375,-0.45997889664198277,-0.48331542940568706,-0.512897282297193,-0.4738965474443443,-0.4673183730860272,-0.42151334460638423,-0.43699482719605187,-0.43094326030517904,-0.4561586865405296,-0.41309226658676645,-0.41631088294134366,-0.37738714387405725,-0.38148445281829513,-0.36167543925190726,-0.3514537237742339,-0.40224259480865043,-0.4068319575163478,-0.41698115540903147,-0.39101916391201974,-0.36643922370401205,-0.3215491645607341,-0.2960999803705203,-0.2826664672782183,-0.2606367693742644,-0.29242550782936605,-0.28187094002941904,-0.22689314708993646,-0.1719461571670312,-0.20754812646469523,-0.2723878420695621,-0.25770374835370846,-0.20527222062489237,-0.17389241335015282,-0.26141962921649997,-0.27551499617764885,-0.3765904940038177,-0.41884677508282697,-0.4307026326631702,-0.37325708421370385,-0.34768525760941915,-0.4684552428857809,-0.47743345655923686,-0.45989495825841253,-0.5693686025218219,-0.7321295995788595,-0.7783152055307325,-0.7698537607066942,-0.8108476651956237,-0.8527552326911071,-0.8238469509739802,-0.7845103060353813,-0.7598826204374995,-0.7576177079629958,-0.7165710727920644,-0.6958673816867914,-0.6686477316653652,-0.6874733428639441,-0.6493561217701603,-0.6282037861893452,-0.6556071333860283,-0.6299213723762976,-0.5786962815455994,-0.560212762433313,-0.6363292953983196,-0.6807640602416654,-0.632234720107418,-0.6707159086953856,-0.6018065041958012,-0.5679154357591233,-0.5622284862131501,-0.4967360349120249,-0.4747671363093787,-0.43455689384101603,-0.428851230823071,-0.3925177826323789,-0.4094415350557815,-0.43211199444442283,-0.4613865244446047,-0.5321588408051801,-0.610052046195872,-0.5129648676322287,-0.5159562897100352,-0.5080989473984953,-0.4536074800203196,-0.40063059878931595,-0.3597408606091309,-0.3716789296234373,-0.45699515754439646,-0.410659783107867,-0.40044680166303603,-0.36690956485152726,-0.3289965979090701,-0.35490238327019163,-0.34386466224787304,-0.3268808645281496,-0.24463643263472168,-0.2232614821464015,-0.15459587552721132,-0.12585133086485012,-0.07216018100009236,-0.0965840029742362,0.015384429245828946,-0.04497695116542966,0.03400258453501093,0.12881326838408458,0.20631757158768504,0.28067551110522904,0.18740667403166533,0.30852554435433155,0.32086824038914075,0.315363048366903,0.3748021491592637,0.45351399241128143,0.38846976533344746,0.5176100254329048,0.45202785491991015,0.5322944538716601,0.6180064842752966,0.615876919370034,0.5056397533902854,0.7081005402597114,0.6661351925657579,0.6876988102038462,0.7380480856943787,0.6797153168244225,0.7364587719076827,0.5063883504352096,0.40494240431161566,0.6437892972929156,0.6639819580206057,0.5847742001505807,0.38418729463623924,0.3820618378889693,0.5930684612832999,0.6248690532980044,0.6883141031007487,0.6864623519396926,0.8325902438948289,0.8522881844825834,0.8624461781578314,0.7799194792422981,0.9696756895023173,1.047880356764364,1.1350300139694096,1.3022282047679847,1.3108135282735112,1.366065880575194,1.4210822681946524,1.4625073641109618,1.5635206543792082,1.5725180367301235,1.714159864681863,1.8481205359910988,2.0430476856126947,2.1138054326351337,2.494262836589676,2.214488543728629,2.0487822065846317,2.067508154256747,2.2458244249763637,2.280000771492899,2.509522603598091,2.774351798017079,2.7793194710191886,2.142620426699534,2.259123667563625,1.5749408694332545,2.04940776846913,2.276840932030876,2.3559101453754026,2.648163970322317,2.09278018864097,2.5629358416938173,2.6559425633425153,2.449034010545451,2.557225447105762,2.7179706361653015,3.03359919583595,3.2786927466831983,3.2683683862201622,2.5071455415265844,1.4770115003064737,2.2186974421038843,2.6126770347309827,2.8076272048206645,3.2895634694914477,4.00751811358466,3.608779286566313,3.3964721572652055,4.599096952177137,5.167764377720384,5.163705477249226],\"marker\":{},\"line\":{},\"name\":\"MktRf\"}];\r\n",
       "            var layout = {\"width\":600,\"height\":600,\"template\":{\"layout\":{\"title\":{\"x\":0.05},\"font\":{\"color\":\"rgba(42, 63, 95, 1.0)\"},\"paper_bgcolor\":\"rgba(255, 255, 255, 1.0)\",\"plot_bgcolor\":\"rgba(229, 236, 246, 1.0)\",\"autotypenumbers\":\"strict\",\"colorscale\":{\"diverging\":[[0.0,\"#8e0152\"],[0.1,\"#c51b7d\"],[0.2,\"#de77ae\"],[0.3,\"#f1b6da\"],[0.4,\"#fde0ef\"],[0.5,\"#f7f7f7\"],[0.6,\"#e6f5d0\"],[0.7,\"#b8e186\"],[0.8,\"#7fbc41\"],[0.9,\"#4d9221\"],[1.0,\"#276419\"]],\"sequential\":[[0.0,\"#0d0887\"],[0.1111111111111111,\"#46039f\"],[0.2222222222222222,\"#7201a8\"],[0.3333333333333333,\"#9c179e\"],[0.4444444444444444,\"#bd3786\"],[0.5555555555555556,\"#d8576b\"],[0.6666666666666666,\"#ed7953\"],[0.7777777777777778,\"#fb9f3a\"],[0.8888888888888888,\"#fdca26\"],[1.0,\"#f0f921\"]],\"sequentialminus\":[[0.0,\"#0d0887\"],[0.1111111111111111,\"#46039f\"],[0.2222222222222222,\"#7201a8\"],[0.3333333333333333,\"#9c179e\"],[0.4444444444444444,\"#bd3786\"],[0.5555555555555556,\"#d8576b\"],[0.6666666666666666,\"#ed7953\"],[0.7777777777777778,\"#fb9f3a\"],[0.8888888888888888,\"#fdca26\"],[1.0,\"#f0f921\"]]},\"hovermode\":\"closest\",\"hoverlabel\":{\"align\":\"left\"},\"coloraxis\":{\"colorbar\":{\"outlinewidth\":0.0,\"ticks\":\"\"}},\"geo\":{\"showland\":true,\"landcolor\":\"rgba(229, 236, 246, 1.0)\",\"showlakes\":true,\"lakecolor\":\"rgba(255, 255, 255, 1.0)\",\"subunitcolor\":\"rgba(255, 255, 255, 1.0)\",\"bgcolor\":\"rgba(255, 255, 255, 1.0)\"},\"mapbox\":{\"style\":\"light\"},\"polar\":{\"bgcolor\":\"rgba(229, 236, 246, 1.0)\",\"radialaxis\":{\"linecolor\":\"rgba(255, 255, 255, 1.0)\",\"gridcolor\":\"rgba(255, 255, 255, 1.0)\",\"ticks\":\"\"},\"angularaxis\":{\"linecolor\":\"rgba(255, 255, 255, 1.0)\",\"gridcolor\":\"rgba(255, 255, 255, 1.0)\",\"ticks\":\"\"}},\"scene\":{\"xaxis\":{\"ticks\":\"\",\"linecolor\":\"rgba(255, 255, 255, 1.0)\",\"gridcolor\":\"rgba(255, 255, 255, 1.0)\",\"gridwidth\":2.0,\"zerolinecolor\":\"rgba(255, 255, 255, 1.0)\",\"backgroundcolor\":\"rgba(229, 236, 246, 1.0)\",\"showbackground\":true},\"yaxis\":{\"ticks\":\"\",\"linecolor\":\"rgba(255, 255, 255, 1.0)\",\"gridcolor\":\"rgba(255, 255, 255, 1.0)\",\"gridwidth\":2.0,\"zerolinecolor\":\"rgba(255, 255, 255, 1.0)\",\"backgroundcolor\":\"rgba(229, 236, 246, 1.0)\",\"showbackground\":true},\"zaxis\":{\"ticks\":\"\",\"linecolor\":\"rgba(255, 255, 255, 1.0)\",\"gridcolor\":\"rgba(255, 255, 255, 1.0)\",\"gridwidth\":2.0,\"zerolinecolor\":\"rgba(255, 255, 255, 1.0)\",\"backgroundcolor\":\"rgba(229, 236, 246, 1.0)\",\"showbackground\":true}},\"ternary\":{\"aaxis\":{\"ticks\":\"\",\"linecolor\":\"rgba(255, 255, 255, 1.0)\",\"gridcolor\":\"rgba(255, 255, 255, 1.0)\"},\"baxis\":{\"ticks\":\"\",\"linecolor\":\"rgba(255, 255, 255, 1.0)\",\"gridcolor\":\"rgba(255, 255, 255, 1.0)\"},\"caxis\":{\"ticks\":\"\",\"linecolor\":\"rgba(255, 255, 255, 1.0)\",\"gridcolor\":\"rgba(255, 255, 255, 1.0)\"},\"bgcolor\":\"rgba(229, 236, 246, 1.0)\"},\"xaxis\":{\"title\":{\"standoff\":15},\"ticks\":\"\",\"automargin\":true,\"linecolor\":\"rgba(255, 255, 255, 1.0)\",\"gridcolor\":\"rgba(255, 255, 255, 1.0)\",\"zerolinecolor\":\"rgba(255, 255, 255, 1.0)\",\"zerolinewidth\":2.0},\"yaxis\":{\"title\":{\"standoff\":15},\"ticks\":\"\",\"automargin\":true,\"linecolor\":\"rgba(255, 255, 255, 1.0)\",\"gridcolor\":\"rgba(255, 255, 255, 1.0)\",\"zerolinecolor\":\"rgba(255, 255, 255, 1.0)\",\"zerolinewidth\":2.0},\"annotationdefaults\":{\"arrowcolor\":\"#2a3f5f\",\"arrowhead\":0,\"arrowwidth\":1},\"shapedefaults\":{\"line\":{\"color\":\"rgba(42, 63, 95, 1.0)\"}},\"colorway\":[\"rgba(99, 110, 250, 1.0)\",\"rgba(239, 85, 59, 1.0)\",\"rgba(0, 204, 150, 1.0)\",\"rgba(171, 99, 250, 1.0)\",\"rgba(255, 161, 90, 1.0)\",\"rgba(25, 211, 243, 1.0)\",\"rgba(255, 102, 146, 1.0)\",\"rgba(182, 232, 128, 1.0)\",\"rgba(255, 151, 255, 1.0)\",\"rgba(254, 203, 82, 1.0)\"]},\"data\":{\"bar\":[{\"marker\":{\"line\":{\"color\":\"rgba(229, 236, 246, 1.0)\",\"width\":0.5},\"pattern\":{\"fillmode\":\"overlay\",\"size\":10,\"solidity\":0.2}},\"error_x\":{\"color\":\"rgba(42, 63, 95, 1.0)\"},\"error_y\":{\"color\":\"rgba(42, 63, 95, 1.0)\"}}],\"barpolar\":[{\"marker\":{\"line\":{\"color\":\"rgba(229, 236, 246, 1.0)\",\"width\":0.5},\"pattern\":{\"fillmode\":\"overlay\",\"size\":10,\"solidity\":0.2}}}],\"carpet\":[{\"aaxis\":{\"linecolor\":\"rgba(255, 255, 255, 1.0)\",\"gridcolor\":\"rgba(255, 255, 255, 1.0)\",\"endlinecolor\":\"rgba(42, 63, 95, 1.0)\",\"minorgridcolor\":\"rgba(255, 255, 255, 1.0)\",\"startlinecolor\":\"rgba(42, 63, 95, 1.0)\"},\"baxis\":{\"linecolor\":\"rgba(255, 255, 255, 1.0)\",\"gridcolor\":\"rgba(255, 255, 255, 1.0)\",\"endlinecolor\":\"rgba(42, 63, 95, 1.0)\",\"minorgridcolor\":\"rgba(255, 255, 255, 1.0)\",\"startlinecolor\":\"rgba(42, 63, 95, 1.0)\"}}],\"choropleth\":[{\"colorbar\":{\"outlinewidth\":0.0,\"ticks\":\"\"},\"colorscale\":[[0.0,\"#0d0887\"],[0.1111111111111111,\"#46039f\"],[0.2222222222222222,\"#7201a8\"],[0.3333333333333333,\"#9c179e\"],[0.4444444444444444,\"#bd3786\"],[0.5555555555555556,\"#d8576b\"],[0.6666666666666666,\"#ed7953\"],[0.7777777777777778,\"#fb9f3a\"],[0.8888888888888888,\"#fdca26\"],[1.0,\"#f0f921\"]]}],\"contour\":[{\"colorbar\":{\"outlinewidth\":0.0,\"ticks\":\"\"},\"colorscale\":[[0.0,\"#0d0887\"],[0.1111111111111111,\"#46039f\"],[0.2222222222222222,\"#7201a8\"],[0.3333333333333333,\"#9c179e\"],[0.4444444444444444,\"#bd3786\"],[0.5555555555555556,\"#d8576b\"],[0.6666666666666666,\"#ed7953\"],[0.7777777777777778,\"#fb9f3a\"],[0.8888888888888888,\"#fdca26\"],[1.0,\"#f0f921\"]]}],\"contourcarpet\":[{\"colorbar\":{\"outlinewidth\":0.0,\"ticks\":\"\"}}],\"heatmap\":[{\"colorbar\":{\"outlinewidth\":0.0,\"ticks\":\"\"},\"colorscale\":[[0.0,\"#0d0887\"],[0.1111111111111111,\"#46039f\"],[0.2222222222222222,\"#7201a8\"],[0.3333333333333333,\"#9c179e\"],[0.4444444444444444,\"#bd3786\"],[0.5555555555555556,\"#d8576b\"],[0.6666666666666666,\"#ed7953\"],[0.7777777777777778,\"#fb9f3a\"],[0.8888888888888888,\"#fdca26\"],[1.0,\"#f0f921\"]]}],\"heatmapgl\":[{\"colorbar\":{\"outlinewidth\":0.0,\"ticks\":\"\"},\"colorscale\":[[0.0,\"#0d0887\"],[0.1111111111111111,\"#46039f\"],[0.2222222222222222,\"#7201a8\"],[0.3333333333333333,\"#9c179e\"],[0.4444444444444444,\"#bd3786\"],[0.5555555555555556,\"#d8576b\"],[0.6666666666666666,\"#ed7953\"],[0.7777777777777778,\"#fb9f3a\"],[0.8888888888888888,\"#fdca26\"],[1.0,\"#f0f921\"]]}],\"histogram\":[{\"marker\":{\"pattern\":{\"fillmode\":\"overlay\",\"size\":10,\"solidity\":0.2}}}],\"histogram2d\":[{\"colorbar\":{\"outlinewidth\":0.0,\"ticks\":\"\"},\"colorscale\":[[0.0,\"#0d0887\"],[0.1111111111111111,\"#46039f\"],[0.2222222222222222,\"#7201a8\"],[0.3333333333333333,\"#9c179e\"],[0.4444444444444444,\"#bd3786\"],[0.5555555555555556,\"#d8576b\"],[0.6666666666666666,\"#ed7953\"],[0.7777777777777778,\"#fb9f3a\"],[0.8888888888888888,\"#fdca26\"],[1.0,\"#f0f921\"]]}],\"histogram2dcontour\":[{\"colorbar\":{\"outlinewidth\":0.0,\"ticks\":\"\"},\"colorscale\":[[0.0,\"#0d0887\"],[0.1111111111111111,\"#46039f\"],[0.2222222222222222,\"#7201a8\"],[0.3333333333333333,\"#9c179e\"],[0.4444444444444444,\"#bd3786\"],[0.5555555555555556,\"#d8576b\"],[0.6666666666666666,\"#ed7953\"],[0.7777777777777778,\"#fb9f3a\"],[0.8888888888888888,\"#fdca26\"],[1.0,\"#f0f921\"]]}],\"mesh3d\":[{\"colorbar\":{\"outlinewidth\":0.0,\"ticks\":\"\"}}],\"parcoords\":[{\"line\":{\"colorbar\":{\"outlinewidth\":0.0,\"ticks\":\"\"}}}],\"pie\":[{\"automargin\":true}],\"scatter\":[{\"marker\":{\"colorbar\":{\"outlinewidth\":0.0,\"ticks\":\"\"}}}],\"scatter3d\":[{\"marker\":{\"colorbar\":{\"outlinewidth\":0.0,\"ticks\":\"\"}},\"line\":{\"colorbar\":{\"outlinewidth\":0.0,\"ticks\":\"\"}}}],\"scattercarpet\":[{\"marker\":{\"colorbar\":{\"outlinewidth\":0.0,\"ticks\":\"\"}}}],\"scattergeo\":[{\"marker\":{\"colorbar\":{\"outlinewidth\":0.0,\"ticks\":\"\"}}}],\"scattergl\":[{\"marker\":{\"colorbar\":{\"outlinewidth\":0.0,\"ticks\":\"\"}}}],\"scattermapbox\":[{\"marker\":{\"colorbar\":{\"outlinewidth\":0.0,\"ticks\":\"\"}}}],\"scatterpolar\":[{\"marker\":{\"colorbar\":{\"outlinewidth\":0.0,\"ticks\":\"\"}}}],\"scatterpolargl\":[{\"marker\":{\"colorbar\":{\"outlinewidth\":0.0,\"ticks\":\"\"}}}],\"scatterternary\":[{\"marker\":{\"colorbar\":{\"outlinewidth\":0.0,\"ticks\":\"\"}}}],\"surface\":[{\"colorbar\":{\"outlinewidth\":0.0,\"ticks\":\"\"},\"colorscale\":[[0.0,\"#0d0887\"],[0.1111111111111111,\"#46039f\"],[0.2222222222222222,\"#7201a8\"],[0.3333333333333333,\"#9c179e\"],[0.4444444444444444,\"#bd3786\"],[0.5555555555555556,\"#d8576b\"],[0.6666666666666666,\"#ed7953\"],[0.7777777777777778,\"#fb9f3a\"],[0.8888888888888888,\"#fdca26\"],[1.0,\"#f0f921\"]]}],\"table\":[{\"cells\":{\"fill\":{\"color\":\"rgba(235, 240, 248, 1.0)\"},\"line\":{\"color\":\"rgba(255, 255, 255, 1.0)\"}},\"header\":{\"fill\":{\"color\":\"rgba(200, 212, 227, 1.0)\"},\"line\":{\"color\":\"rgba(255, 255, 255, 1.0)\"}}}]}}};\r\n",
       "            var config = {\"responsive\":true};\r\n",
       "            Plotly.newPlot('317552de-d28d-4e45-b9bf-0e5a559d3738', data, layout, config);\n",
       "});\r\n",
       "            };\r\n",
       "            if ((typeof(requirejs) !==  typeof(Function)) || (typeof(requirejs.config) !== typeof(Function))) {\r\n",
       "                var script = document.createElement(\"script\");\r\n",
       "                script.setAttribute(\"src\", \"https://cdnjs.cloudflare.com/ajax/libs/require.js/2.3.6/require.min.js\");\r\n",
       "                script.onload = function(){\r\n",
       "                    renderPlotly_317552ded28d4e45b9bf0e5a559d3738();\r\n",
       "                };\r\n",
       "                document.getElementsByTagName(\"head\")[0].appendChild(script);\r\n",
       "            }\r\n",
       "            else {\r\n",
       "                renderPlotly_317552ded28d4e45b9bf0e5a559d3738();\r\n",
       "            }\n",
       "</script>\n",
       "\n",
       "    \n",
       "</div>    \n"
      ]
     },
     "metadata": {},
     "output_type": "display_data"
    }
   ],
   "source": [
    "let annualizedVolatility = 0.10\n",
    "\n",
    "let leverage xs =\n",
    "    let returns = xs |> List.map (fun (_, r) -> r)\n",
    "    let stdev = Statistics.StandardDeviation(returns : float list)\n",
    "    let leverage = annualizedVolatility / stdev\n",
    "    xs |> List.map (fun (dt, r) -> dt, r * leverage)\n",
    "\n",
    "let combinedChartLeveraged =\n",
    "    List.concat [long; longShort; vwMktRf]\n",
    "    |> List.groupBy(fun x -> x.Name)\n",
    "    |> List.map(fun (name, xs) ->\n",
    "        xs\n",
    "        |> List.map (fun x -> x.Month, x.ExcessReturn)\n",
    "        |> leverage\n",
    "        |> cumulativeReturn\n",
    "        |> Chart.Line\n",
    "        |> Chart.withTraceInfo(Name = name))\n",
    "    |> Chart.combine\n",
    "    \n",
    "combinedChartLeveraged"
   ]
  },
  {
   "attachments": {},
   "cell_type": "markdown",
   "metadata": {},
   "source": [
    "### Performance measures"
   ]
  },
  {
   "attachments": {},
   "cell_type": "markdown",
   "metadata": {},
   "source": [
    "Functions needed"
   ]
  },
  {
   "cell_type": "code",
   "execution_count": 16,
   "metadata": {
    "dotnet_interactive": {
     "language": "fsharp"
    },
    "polyglot_notebook": {
     "kernelName": "fsharp"
    },
    "vscode": {
     "languageId": "polyglot-notebook"
    }
   },
   "outputs": [],
   "source": [
    "// Annualize excess returns\n",
    "let annualizeavgExcessReturn (excessReturns: SignalPortfolioObs list)  =\n",
    "    let excessReturnsSeq = excessReturns |> List.toSeq\n",
    "    let avgExcessReturn = excessReturnsSeq |> Seq.averageBy (fun x -> x.ExcessReturn)\n",
    "    avgExcessReturn\n",
    "\n",
    "// Annualize Sharpe rations\n",
    "let annualizeSharpeRatio (excessReturns: SignalPortfolioObs list) =\n",
    "    let excessReturnsSeq = excessReturns |> List.toSeq\n",
    "    let avgExcessReturn = excessReturnsSeq |> Seq.averageBy (fun x -> x.ExcessReturn)\n",
    "    let stDevExcessReturn = excessReturnsSeq |> Seq.map (fun x -> x.ExcessReturn) |> Seq.stDev\n",
    "    let sharpeRatio = avgExcessReturn / stDevExcessReturn\n",
    "    sharpeRatio * sqrt 12.0\n",
    "\n",
    "// Filter returns by time period (first half, second half, or full period)\n",
    "let filterReturnsByTimePeriodsSign (period: string) (returns: SignalPortfolioObs list) =\n",
    "    let sortedReturns = List.sortBy (fun x -> x.Month) returns\n",
    "    let midPoint = sortedReturns.Length / 2\n",
    "\n",
    "    match period with\n",
    "    | \"First Half\" -> sortedReturns |> List.take midPoint\n",
    "    | \"Second Half\" -> sortedReturns |> List.skip midPoint\n",
    "    | \"Full Period\" -> sortedReturns\n",
    "    | _ -> failwithf \"Unexpected time period: %s\" period"
   ]
  },
  {
   "attachments": {},
   "cell_type": "markdown",
   "metadata": {},
   "source": [
    "Code needed to process models"
   ]
  },
  {
   "cell_type": "code",
   "execution_count": 17,
   "metadata": {
    "dotnet_interactive": {
     "language": "fsharp"
    },
    "polyglot_notebook": {
     "kernelName": "fsharp"
    },
    "vscode": {
     "languageId": "polyglot-notebook"
    }
   },
   "outputs": [],
   "source": [
    "type RegData =\n",
    "    { Month: DateTime\n",
    "      ExcessReturn: float \n",
    "      MktRf: float\n",
    "      Hml: float\n",
    "      Smb: float }\n",
    "\n",
    "// Filter returns by time period (first half, second half, or full period)\n",
    "let filterReturnsByTimePeriodsRd (period: string) (returns: RegData list) =\n",
    "    let sortedReturns = List.sortBy (fun x -> x.Month) returns\n",
    "    let midPoint = sortedReturns.Length / 2\n",
    "\n",
    "    match period with\n",
    "    | \"First Half\" -> sortedReturns |> List.take midPoint\n",
    "    | \"Second Half\" -> sortedReturns |> List.skip midPoint\n",
    "    | \"Full Period\" -> sortedReturns\n",
    "    | _ -> failwithf \"Unexpected time period: %s\" period\n",
    "\n",
    "let longShortRd =\n",
    "    longShort\n",
    "    |> List.map (fun ls ->\n",
    "        let ffFactors = ff3Lookup[ls.Month]\n",
    "        { Month = ls.Month\n",
    "          ExcessReturn = ls.ExcessReturn\n",
    "          MktRf = ffFactors.MktRf\n",
    "          Hml = ffFactors.Hml\n",
    "          Smb = ffFactors.Smb })\n",
    "          \n",
    "let longRd =\n",
    "    long\n",
    "    |> List.map (fun ls ->\n",
    "        let ffFactors = ff3Lookup[ls.Month]\n",
    "        { Month = ls.Month\n",
    "          ExcessReturn = ls.ExcessReturn\n",
    "          MktRf = ffFactors.MktRf\n",
    "          Hml = ffFactors.Hml\n",
    "          Smb = ffFactors.Smb })\n",
    "\n",
    "type RegressionResults =\n",
    "    { Betas: float array\n",
    "      Residuals: float array\n",
    "      Mse: float }\n",
    "\n",
    "let fitCapmModel (data: RegData list) =\n",
    "    let capmInputData = \n",
    "     data\n",
    "    |> List.map (fun rd -> [|1.0; rd.MktRf|], rd.ExcessReturn)\n",
    "\n",
    "    let capmX = capmInputData |> List.map fst |> Array.ofList |> DenseMatrix.ofRowArrays\n",
    "    let capmY = capmInputData |> List.map snd |> Array.ofList |> DenseVector.ofArray\n",
    "\n",
    "    let capmBetas = capmX.QR().Solve(capmY)\n",
    "    let capmResiduals = capmY - (capmX * capmBetas)\n",
    "    let capmMse = capmResiduals.PointwisePower(2).Mean()\n",
    "    { Betas = capmBetas.ToArray(); Residuals = capmResiduals.ToArray(); Mse = capmMse }\n",
    "\n",
    "let fitff3Model (data: RegData list) =\n",
    "    let ff3InputData = \n",
    "        data\n",
    "        |> List.map (fun rd -> [|1.0; rd.MktRf; rd.Hml; rd.Smb|], rd.ExcessReturn)\n",
    "\n",
    "\n",
    "    let ff3X = ff3InputData |> List.map fst |> Array.ofList |> DenseMatrix.ofRowArrays\n",
    "    let ff3Y = ff3InputData |> List.map snd |> Array.ofList |> DenseVector.ofArray\n",
    "\n",
    "    let ff3Betas = ff3X.QR().Solve(ff3Y)\n",
    "    let ff3Residuals = ff3Y - (ff3X * ff3Betas)\n",
    "    let ff3Mse = ff3Residuals.PointwisePower(2).Mean()\n",
    "    { Betas = ff3Betas.ToArray(); Residuals = ff3Residuals.ToArray(); Mse = ff3Mse }\n",
    "\n",
    "let longCapmModel = fitCapmModel longRd\n",
    "let longShortCapmModel = fitCapmModel longShortRd\n",
    "\n",
    "let longff3mModel = fitff3Model longRd\n",
    "let longShortff3Model = fitff3Model longShortRd\n"
   ]
  },
  {
   "cell_type": "code",
   "execution_count": 18,
   "metadata": {
    "dotnet_interactive": {
     "language": "fsharp"
    },
    "polyglot_notebook": {
     "kernelName": "fsharp"
    },
    "vscode": {
     "languageId": "polyglot-notebook"
    }
   },
   "outputs": [],
   "source": [
    "let calculateCapmAlpha (model: RegressionResults) (data: RegData list) =\n",
    "    let capmAlpha = model.Betas.[0]\n",
    "\n",
    "    let capmX = data |> List.map (fun r -> [|1.0; r.MktRf|]) |> List.toArray |> DenseMatrix.ofRowArrays\n",
    "\n",
    "    let residuals = model.Residuals\n",
    "    let n = float residuals.Length\n",
    "\n",
    "    let XTX = capmX.TransposeThisAndMultiply(capmX)\n",
    "    let XTX_inv = XTX.Inverse()\n",
    "\n",
    "    let sumSquaredResiduals = residuals |> Array.map (fun x -> x * x) |> Array.sum\n",
    "    let residualsVar = sumSquaredResiduals / (n - 2.0)\n",
    "    let capmAlphaVar = XTX_inv.[0, 0] * residualsVar\n",
    "    let capmAlphaStdErr = sqrt capmAlphaVar\n",
    "\n",
    "    let capmAlphaT = capmAlpha / capmAlphaStdErr\n",
    "\n",
    "    (capmAlpha, capmAlphaStdErr, capmAlphaT)\n",
    "\n",
    "let (longCapmAlpha, longCapmAlphaStdErr, longCapmAlphaT) = calculateCapmAlpha longCapmModel longRd\n",
    "let (longShortCapmAlpha, longShortCapmAlphaStdErr, longShortCapmAlphaT) = calculateCapmAlpha longShortCapmModel longShortRd\n",
    "\n",
    "let calculateCapmBeta (model: RegressionResults) (data: RegData list) =\n",
    "    let capmBeta = model.Betas.[1]\n",
    "\n",
    "    let capmX = data |> List.map (fun r -> [|1.0; r.MktRf|]) |> List.toArray |> DenseMatrix.ofRowArrays\n",
    "\n",
    "    let residuals = model.Residuals\n",
    "    let n = float residuals.Length\n",
    "\n",
    "    let XTX = capmX.TransposeThisAndMultiply(capmX)\n",
    "    let XTX_inv = XTX.Inverse()\n",
    "\n",
    "    let sumSquaredResiduals = residuals |> Array.map (fun x -> x * x) |> Array.sum\n",
    "    let residualsVar = sumSquaredResiduals / (n - 2.0)\n",
    "    let capmBetaVar = XTX_inv.[1, 1] * residualsVar\n",
    "    let capmBetaStdErr = sqrt capmBetaVar\n",
    "\n",
    "    let capmBetaT = capmBeta / capmBetaStdErr\n",
    "\n",
    "    (capmBeta, capmBetaStdErr, capmBetaT)\n",
    "\n",
    "let (longCapmBeta, longCapmBetaStdErr, longCapmBetaT) = calculateCapmBeta longCapmModel longRd\n",
    "let (longShortCapmBeta, longShortCapmBetaStdErr, longShortCapmBetaT) = calculateCapmBeta longShortCapmModel longShortRd\n",
    "\n",
    "let calculateCapmInformationRatio (model: RegressionResults) =\n",
    "    let residuals = model.Residuals\n",
    "    let capmAlpha = model.Betas.[0]\n",
    "\n",
    "    let trackingError = residuals |> Statistics.StandardDeviation\n",
    "    let capmIR = capmAlpha / trackingError\n",
    "\n",
    "    (trackingError, capmIR)\n",
    "\n",
    "let (longTrackingError, longCapmIR) = calculateCapmInformationRatio longCapmModel\n",
    "let (longShortTrackingError, longShortCapmIR) = calculateCapmInformationRatio longShortCapmModel\n"
   ]
  },
  {
   "attachments": {},
   "cell_type": "markdown",
   "metadata": {},
   "source": [
    "Code needed to get Fama-French 3-factor statistics"
   ]
  },
  {
   "cell_type": "code",
   "execution_count": 19,
   "metadata": {
    "dotnet_interactive": {
     "language": "fsharp"
    },
    "polyglot_notebook": {
     "kernelName": "fsharp"
    },
    "vscode": {
     "languageId": "polyglot-notebook"
    }
   },
   "outputs": [],
   "source": [
    "let calculateFf3Alpha (model: RegressionResults) (data: RegData list) =\n",
    "    let ff3Alpha = model.Betas.[0]\n",
    "\n",
    "    let ff3X = data |> List.map (fun r -> [|1.0; r.MktRf; r.Hml; r.Smb|]) |> List.toArray |> DenseMatrix.ofRowArrays\n",
    "\n",
    "    let residuals = model.Residuals\n",
    "    let n = float residuals.Length\n",
    "\n",
    "    let XTX = ff3X.TransposeThisAndMultiply(ff3X)\n",
    "    let XTX_inv = XTX.Inverse()\n",
    "\n",
    "    let sumSquaredResiduals = residuals |> Array.map (fun x -> x * x) |> Array.sum\n",
    "    let residualsVar = sumSquaredResiduals / (n - 4.0)\n",
    "    let ff3AlphaVar = XTX_inv.[0, 0] * residualsVar\n",
    "    let ff3AlphaStdErr = sqrt ff3AlphaVar\n",
    "\n",
    "    let ff3AlphaT = ff3Alpha / ff3AlphaStdErr\n",
    "\n",
    "    (ff3Alpha, ff3AlphaStdErr, ff3AlphaT)\n",
    "\n",
    "let (longFf3Alpha, longFf3AlphaStdErr, longFf3AlphaT) = calculateFf3Alpha longff3mModel longRd\n",
    "let (longShortFf3Alpha, longShortFf3AlphaStdErr, longShortFf3AlphaT) = calculateFf3Alpha longShortff3Model longShortRd\n",
    "\n",
    "let calculateFf3Measures (model: RegressionResults) (data: RegData list) =\n",
    "    let hmlBeta = model.Betas.[2]\n",
    "    let smbBeta = model.Betas.[3]\n",
    "\n",
    "    let ff3X = data |> List.map (fun r -> [|1.0; r.MktRf; r.Hml; r.Smb|]) |> List.toArray |> DenseMatrix.ofRowArrays\n",
    "    let residuals = model.Residuals\n",
    "    let n = float residuals.Length\n",
    "\n",
    "    let residualsSquaredSum = residuals |> Array.map (fun x -> x * x) |> Array.sum\n",
    "    let residualsVar = residualsSquaredSum / (n - 4.0)\n",
    "\n",
    "    let XTX = ff3X.TransposeThisAndMultiply(ff3X)\n",
    "    let XTX_inv = XTX.Inverse()\n",
    "\n",
    "    let hmlBetaVar = XTX_inv.[2, 2] * residualsVar\n",
    "    let smbBetaVar = XTX_inv.[3, 3] * residualsVar\n",
    "\n",
    "    let hmlBetaStdErr = sqrt hmlBetaVar\n",
    "    let smbBetaStdErr = sqrt smbBetaVar\n",
    "\n",
    "    let hmlBetaT = hmlBeta / hmlBetaStdErr\n",
    "    let smbBetaT = smbBeta / smbBetaStdErr\n",
    "\n",
    "    let trackingError = residuals |> Array.map (fun x -> x * x) |> Array.sum |> sqrt\n",
    "    let ff3Alpha = model.Betas.[0]\n",
    "    let ff3IR = ff3Alpha / trackingError\n",
    "\n",
    "    (hmlBeta, hmlBetaStdErr, hmlBetaT, smbBeta, smbBetaStdErr, smbBetaT, trackingError, ff3IR)\n",
    "\n",
    "let (longHmlBeta, longHmlBetaStdErr, longHmlBetaT, longSmbBeta, longSmbBetaStdErr, longSmbBetaT, longTrackingError, longFf3IR) = calculateFf3Measures longff3mModel longRd\n",
    "\n",
    "let (longShortHmlBeta, longShortHmlBetaStdErr, longShortHmlBetaT, longShortSmbBeta,\n",
    " longShortSmbBetaStdErr, longShortSmbBetaT, longShortTrackingError, longShortFf3IR) = calculateFf3Measures longShortff3Model longShortRd\n"
   ]
  },
  {
   "attachments": {},
   "cell_type": "markdown",
   "metadata": {},
   "source": [
    "Calculate measures"
   ]
  },
  {
   "cell_type": "code",
   "execution_count": 20,
   "metadata": {
    "dotnet_interactive": {
     "language": "fsharp"
    },
    "polyglot_notebook": {
     "kernelName": "fsharp"
    },
    "vscode": {
     "languageId": "polyglot-notebook"
    }
   },
   "outputs": [],
   "source": [
    "// average annualized excess returns\n",
    "let longavgExcessReturnFirstHalf = annualizeavgExcessReturn (filterReturnsByTimePeriodsSign \"First Half\" long)\n",
    "let longavgExcessReturnSecondHalf = annualizeavgExcessReturn (filterReturnsByTimePeriodsSign \"Second Half\" long)\n",
    "let longavgExcessReturnFullPeriod = annualizeavgExcessReturn (filterReturnsByTimePeriodsSign \"Full Period\" long)\n",
    "\n",
    "let longShortavgExcessReturnFirstHalf = annualizeavgExcessReturn (filterReturnsByTimePeriodsSign \"First Half\" longShort)\n",
    "let longShortavgExcessReturnSecondHalf = annualizeavgExcessReturn (filterReturnsByTimePeriodsSign \"Second Half\" longShort)\n",
    "let longShortavgExcessReturnFullPeriod = annualizeavgExcessReturn (filterReturnsByTimePeriodsSign \"Full Period\" longShort)\n",
    "\n",
    "let vwMktRfavgExcessReturnFirstHalf = annualizeavgExcessReturn (filterReturnsByTimePeriodsSign \"First Half\" vwMktRf)\n",
    "let vwMktRfavgExcessReturnSecondHalf = annualizeavgExcessReturn (filterReturnsByTimePeriodsSign \"Second Half\" vwMktRf)\n",
    "let vwMktRfavgExcessReturnFullPeriod = annualizeavgExcessReturn (filterReturnsByTimePeriodsSign \"Full Period\" vwMktRf)\n",
    "\n",
    "// annualized Sharpe ratios\n",
    "let longSharpeFirstHalf = annualizeSharpeRatio (filterReturnsByTimePeriodsSign \"First Half\" long)\n",
    "let longSharpeSecondHalf = annualizeSharpeRatio (filterReturnsByTimePeriodsSign \"Second Half\" long)\n",
    "let longSharpeFullPeriod = annualizeSharpeRatio (filterReturnsByTimePeriodsSign \"Full Period\" long)\n",
    "\n",
    "let longShortSharpeFirstHalf = annualizeSharpeRatio (filterReturnsByTimePeriodsSign \"First Half\" longShort)\n",
    "let longShortSharpeSecondHalf = annualizeSharpeRatio (filterReturnsByTimePeriodsSign \"Second Half\" longShort)\n",
    "let longShortSharpeFullPeriod = annualizeSharpeRatio (filterReturnsByTimePeriodsSign \"Full Period\" longShort)\n",
    "\n",
    "let vwMktRfSharpeFirstHalf = annualizeSharpeRatio (filterReturnsByTimePeriodsSign \"First Half\" vwMktRf)\n",
    "let vwMktRfSharpeSecondHalf = annualizeSharpeRatio (filterReturnsByTimePeriodsSign \"Second Half\" vwMktRf)\n",
    "let vwMktRfSharpeFullPeriod = annualizeSharpeRatio (filterReturnsByTimePeriodsSign \"Full Period\" vwMktRf)\n",
    "\n",
    "// CAPM alphas and t-statistics\n",
    "let capmModelLongFirstHalf = fitCapmModel (filterReturnsByTimePeriodsRd \"First Half\" longRd)\n",
    "let capmModelLongSecondHalf = fitCapmModel (filterReturnsByTimePeriodsRd \"Second Half\" longRd)\n",
    "let capmModelLongFullPeriod = fitCapmModel (filterReturnsByTimePeriodsRd \"Full Period\" longRd)\n",
    "\n",
    "let capmModelLongShortFirstHalf = fitCapmModel (filterReturnsByTimePeriodsRd \"First Half\" longShortRd)\n",
    "let capmModelLongShortSecondHalf = fitCapmModel (filterReturnsByTimePeriodsRd \"Second Half\" longShortRd)\n",
    "let capmModelLongShortFullPeriod = fitCapmModel (filterReturnsByTimePeriodsRd \"Full Period\" longShortRd)\n",
    "\n",
    "let (longCapmAlphaFirstHalf, _, longCapmAlphaTStatFirstHalf) = calculateCapmAlpha capmModelLongFirstHalf (filterReturnsByTimePeriodsRd \"First Half\" longRd)\n",
    "let (longCapmAlphaSecondHalf, _, longCapmAlphaTStatSecondHalf) = calculateCapmAlpha capmModelLongSecondHalf (filterReturnsByTimePeriodsRd \"Second Half\" longRd)\n",
    "let (longCapmAlphaFullPeriod, _, longCapmAlphaTStatFullPeriod) = calculateCapmAlpha capmModelLongFullPeriod (filterReturnsByTimePeriodsRd \"Full Period\" longRd)\n",
    "\n",
    "let (longShortCapmAlphaFirstHalf, _, longShortCapmAlphaTStatFirstHalf) = calculateCapmAlpha capmModelLongShortFirstHalf (filterReturnsByTimePeriodsRd \"First Half\" longShortRd)\n",
    "let (longShortCapmAlphaSecondHalf, _, longShortCapmAlphaTStatSecondHalf) = calculateCapmAlpha capmModelLongShortSecondHalf (filterReturnsByTimePeriodsRd \"Second Half\" longShortRd)\n",
    "let (longShortCapmAlphaFullPeriod, _, longShortCapmAlphaTStatFullPeriod) = calculateCapmAlpha capmModelLongShortFullPeriod (filterReturnsByTimePeriodsRd \"Full Period\" longShortRd)\n",
    "\n",
    "// Fama-French 3-factor alphas and t-statistics\n",
    "let ff3ModelLongFirstHalf = fitff3Model (filterReturnsByTimePeriodsRd \"First Half\" longRd)\n",
    "let ff3ModelLongSecondHalf = fitff3Model (filterReturnsByTimePeriodsRd \"Second Half\" longRd)\n",
    "let ff3ModelLongFullPeriod = fitff3Model (filterReturnsByTimePeriodsRd \"Full Period\" longRd)\n",
    "\n",
    "let ff3ModelLongShortFirstHalf = fitff3Model (filterReturnsByTimePeriodsRd \"First Half\" longShortRd)\n",
    "let ff3ModelLongShortSecondHalf = fitff3Model (filterReturnsByTimePeriodsRd \"Second Half\" longShortRd)\n",
    "let ff3ModelLongShortFullPeriod = fitff3Model (filterReturnsByTimePeriodsRd \"Full Period\" longShortRd)\n",
    "\n",
    "let (longFf3AlphaFirstHalf, _, longFf3AlphaTStatFirstHalf) = calculateFf3Alpha ff3ModelLongFirstHalf (filterReturnsByTimePeriodsRd \"First Half\" longRd)\n",
    "let (longFf3AlphaSecondHalf, _, longFf3AlphaTStatSecondHalf) = calculateFf3Alpha ff3ModelLongSecondHalf (filterReturnsByTimePeriodsRd \"Second Half\" longRd)\n",
    "let (longFf3AlphaFullPeriod, _, longFf3AlphaTStatFullPeriod) = calculateFf3Alpha ff3ModelLongFullPeriod (filterReturnsByTimePeriodsRd \"Full Period\" longRd)\n",
    "\n",
    "let (longShortFf3AlphaFirstHalf, _, longShortFf3AlphaTStatFirstHalf) = calculateFf3Alpha ff3ModelLongShortFirstHalf (filterReturnsByTimePeriodsRd \"First Half\" longShortRd)\n",
    "let (longShortFf3AlphaSecondHalf, _, longShortFf3AlphaTStatSecondHalf) = calculateFf3Alpha ff3ModelLongShortSecondHalf (filterReturnsByTimePeriodsRd \"Second Half\" longShortRd)\n",
    "let (longShortFf3AlphaFullPeriod, _, longShortFf3AlphaTStatFullPeriod) = calculateFf3Alpha ff3ModelLongShortFullPeriod (filterReturnsByTimePeriodsRd \"Full Period\" longShortRd)\n",
    "\n",
    "// information ratios\n",
    "let (_, longCapmIRFirstHalf) = calculateCapmInformationRatio capmModelLongFirstHalf\n",
    "let (_, longCapmIRSecondHalf) = calculateCapmInformationRatio capmModelLongSecondHalf\n",
    "let (_, longCapmIRFullPeriod) = calculateCapmInformationRatio capmModelLongFullPeriod\n",
    "\n",
    "let (_, longShortCapmIRFirstHalf) = calculateCapmInformationRatio capmModelLongShortFirstHalf\n",
    "let (_, longShortCapmIRSecondHalf) = calculateCapmInformationRatio capmModelLongShortSecondHalf\n",
    "let (_, longShortCapmIRFullPeriod) = calculateCapmInformationRatio capmModelLongShortFullPeriod"
   ]
  },
  {
   "attachments": {},
   "cell_type": "markdown",
   "metadata": {},
   "source": [
    "Merge everything together in a table"
   ]
  },
  {
   "cell_type": "code",
   "execution_count": 21,
   "metadata": {
    "dotnet_interactive": {
     "language": "fsharp"
    },
    "polyglot_notebook": {
     "kernelName": "fsharp"
    },
    "vscode": {
     "languageId": "polyglot-notebook"
    }
   },
   "outputs": [
    {
     "name": "stdout",
     "output_type": "stream",
     "text": [
      "     Portfolio  Period      AvgExcessReturn        SharpeRatio         CapmAlpha              CapmAlphaTStat     FF3Alpha               FF3AlphaTStat        InformationRatio     \n",
      "0 -> Long       First Half  0,0003359849021016679  0,01986284720377159 0,001369773400013849   1,0455570617417893 0,0023088353160840695  2,113091888741322    0,09353610647769213  \n",
      "1 -> Long       Second Half 0,013036387381669411   1,0374004530571217  0,00045349049791219387 0,6723214639575283 -0,0002845587254554084 -0,45304076663688386 0,06268639097543324  \n",
      "2 -> Long       Full Period 0,006686186141885539   0,4462327117508477  0,0004096462410146534  0,5376734976756791 0,0004906280602022736  0,7610451293258454   0,034200039320133525 \n",
      "3 -> Long-Short First Half  0,0017858663308349594  0,33177620249816925 0,0018093006463858303  1,087227417032686  0,0024207450385800556  1,4329239102355136   0,09726395924830937  \n",
      "4 -> Long-Short Second Half 0,002493323985919797   0,5446117729990867  0,00398477176839208    2,8451882349173463 0,002749348816405957   2,0655954683809594   0,26528170176640165  \n",
      "5 -> Long-Short Full Period 0,002139595158377378   0,42896893387473756 0,002336440452677273   2,1349262869514947 0,0025438897558470734  2,40670681116647     0,13579721387601226  \n",
      "6 -> vwMktRf    First Half  -0,0008833333333333323 -0,0631187665657363 0                      0                  0                      0                    0                    \n",
      "7 -> vwMktRf    Second Half 0,01221428571428571    1,015433023850136   0                      0                  0                      0                    0                    \n",
      "8 -> vwMktRf    Full Period 0,00566547619047619    0,43051314331428014 0                      0                  0                      0                    0                    \n",
      "\n"
     ]
    }
   ],
   "source": [
    "let performanceTable = [\n",
    "    {| Portfolio = \"Long\"; Period = \"First Half\"; AvgExcessReturn = longavgExcessReturnFirstHalf; SharpeRatio = longSharpeFirstHalf; CapmAlpha = longCapmAlphaFirstHalf; CapmAlphaTStat = longCapmAlphaTStatFirstHalf; FF3Alpha = longFf3AlphaFirstHalf; FF3AlphaTStat = longFf3AlphaTStatFirstHalf; InformationRatio = longCapmIRFirstHalf |};\n",
    "    {| Portfolio = \"Long\"; Period = \"Second Half\"; AvgExcessReturn = longavgExcessReturnSecondHalf; SharpeRatio = longSharpeSecondHalf; CapmAlpha = longCapmAlphaSecondHalf; CapmAlphaTStat = longCapmAlphaTStatSecondHalf; FF3Alpha = longFf3AlphaSecondHalf; FF3AlphaTStat = longFf3AlphaTStatSecondHalf; InformationRatio = longCapmIRSecondHalf |};\n",
    "    {| Portfolio = \"Long\"; Period = \"Full Period\"; AvgExcessReturn = longavgExcessReturnFullPeriod; SharpeRatio = longSharpeFullPeriod; CapmAlpha = longCapmAlphaFullPeriod; CapmAlphaTStat = longCapmAlphaTStatFullPeriod; FF3Alpha = longFf3AlphaFullPeriod; FF3AlphaTStat = longFf3AlphaTStatFullPeriod; InformationRatio = longCapmIRFullPeriod |};\n",
    "\n",
    "    {| Portfolio = \"Long-Short\"; Period = \"First Half\"; AvgExcessReturn = longShortavgExcessReturnFirstHalf; SharpeRatio = longShortSharpeFirstHalf; CapmAlpha = longShortCapmAlphaFirstHalf; CapmAlphaTStat = longShortCapmAlphaTStatFirstHalf; FF3Alpha = longShortFf3AlphaFirstHalf; FF3AlphaTStat = longShortFf3AlphaTStatFirstHalf; InformationRatio = longShortCapmIRFirstHalf |};\n",
    "    {| Portfolio = \"Long-Short\"; Period = \"Second Half\"; AvgExcessReturn = longShortavgExcessReturnSecondHalf; SharpeRatio = longShortSharpeSecondHalf; CapmAlpha = longShortCapmAlphaSecondHalf; CapmAlphaTStat = longShortCapmAlphaTStatSecondHalf; FF3Alpha = longShortFf3AlphaSecondHalf; FF3AlphaTStat = longShortFf3AlphaTStatSecondHalf; InformationRatio = longShortCapmIRSecondHalf |};\n",
    "    {| Portfolio = \"Long-Short\"; Period = \"Full Period\"; AvgExcessReturn = longShortavgExcessReturnFullPeriod; SharpeRatio = longShortSharpeFullPeriod; CapmAlpha = longShortCapmAlphaFullPeriod; CapmAlphaTStat = longShortCapmAlphaTStatFullPeriod; FF3Alpha = longShortFf3AlphaFullPeriod; FF3AlphaTStat = longShortFf3AlphaTStatFullPeriod; InformationRatio = longShortCapmIRFullPeriod |};\n",
    "\n",
    "    {| Portfolio = \"vwMktRf\"; Period = \"First Half\"; AvgExcessReturn = vwMktRfavgExcessReturnFirstHalf; SharpeRatio = vwMktRfSharpeFirstHalf; CapmAlpha = 0.; CapmAlphaTStat = 0.; FF3Alpha = 0.; FF3AlphaTStat = 0.; InformationRatio = 0. |};\n",
    "    {| Portfolio = \"vwMktRf\"; Period = \"Second Half\"; AvgExcessReturn = vwMktRfavgExcessReturnSecondHalf; SharpeRatio = vwMktRfSharpeSecondHalf; CapmAlpha = 0.; CapmAlphaTStat = 0.; FF3Alpha = 0.; FF3AlphaTStat = 0.; InformationRatio = 0. |};\n",
    "    {| Portfolio = \"vwMktRf\"; Period = \"Full Period\"; AvgExcessReturn = vwMktRfavgExcessReturnFullPeriod; SharpeRatio = vwMktRfSharpeFullPeriod; CapmAlpha = 0.; CapmAlphaTStat = 0.; FF3Alpha = 0.; FF3AlphaTStat = 0.; InformationRatio = 0. |};\n",
    "]\n",
    "\n",
    "let columnOrder = [\"Portfolio\"; \"Period\"; \"AvgExcessReturn\"; \"SharpeRatio\"; \"CapmAlpha\"; \"CapmAlphaTStat\"; \"FF3Alpha\"; \"FF3AlphaTStat\"; \"InformationRatio\"]\n",
    "let orderedPerformanceDF = performanceTable |> Frame.ofRecords |> Frame.sliceCols columnOrder\n",
    "\n",
    "orderedPerformanceDF.Print()"
   ]
  },
  {
   "attachments": {},
   "cell_type": "markdown",
   "metadata": {},
   "source": [
    "### Portfolio Optimization\n"
   ]
  },
  {
   "cell_type": "code",
   "execution_count": 22,
   "metadata": {
    "dotnet_interactive": {
     "language": "fsharp"
    },
    "polyglot_notebook": {
     "kernelName": "fsharp"
    },
    "vscode": {
     "languageId": "polyglot-notebook"
    }
   },
   "outputs": [],
   "source": [
    "type StockData =\n",
    "    { Symbol : string \n",
    "      Date : DateTime\n",
    "      Return : float }"
   ]
  },
  {
   "cell_type": "code",
   "execution_count": 23,
   "metadata": {
    "dotnet_interactive": {
     "language": "fsharp"
    },
    "polyglot_notebook": {
     "kernelName": "fsharp"
    },
    "vscode": {
     "languageId": "polyglot-notebook"
    }
   },
   "outputs": [],
   "source": [
    "let ff3 = getFF3 Frequency.Monthly |> Array.toList\n",
    "\n",
    "// Transform to a StockData record type.\n",
    "let ff3StockData =\n",
    "    [ \n",
    "       ff3 |> List.map(fun x -> {Symbol=\"HML\";Date=x.Date;Return=x.Hml})\n",
    "       ff3 |> List.map(fun x -> {Symbol=\"MktRf\";Date=x.Date;Return=x.MktRf})\n",
    "       ff3 |> List.map(fun x -> {Symbol=\"Smb\";Date=x.Date;Return=x.Smb})\n",
    "    ] |> List.concat"
   ]
  },
  {
   "attachments": {},
   "cell_type": "markdown",
   "metadata": {},
   "source": [
    "Get ETFs information"
   ]
  },
  {
   "cell_type": "code",
   "execution_count": 24,
   "metadata": {
    "dotnet_interactive": {
     "language": "fsharp"
    },
    "polyglot_notebook": {
     "kernelName": "fsharp"
    },
    "vscode": {
     "languageId": "polyglot-notebook"
    }
   },
   "outputs": [
    {
     "data": {
      "text/html": [
       "<table><thead><tr><th><i>index</i></th><th>value</th></tr></thead><tbody><tr><td>0</td><td><details class=\"dni-treeview\"><summary><span class=\"dni-code-hint\"><code>{ Symbol = \"VTI\"\\n  Date = 01/05/2007 00:00:00\\n  Open = 73.65000153\\n  High = 76.47000122\\n  Low = 73.22000122\\n  Close = 76.31999969\\n  AdjustedClose = 56.36239624\\n  Volume = 8888000M }</code></span></summary><div><table><thead><tr></tr></thead><tbody><tr><td>Symbol</td><td>VTI</td></tr><tr><td>Date</td><td><span>2007-05-01 00:00:00Z</span></td></tr><tr><td>Open</td><td><div class=\"dni-plaintext\"><pre>73.6500015258789</pre></div></td></tr><tr><td>High</td><td><div class=\"dni-plaintext\"><pre>76.47000122070312</pre></div></td></tr><tr><td>Low</td><td><div class=\"dni-plaintext\"><pre>73.22000122070312</pre></div></td></tr><tr><td>Close</td><td><div class=\"dni-plaintext\"><pre>76.31999969482422</pre></div></td></tr><tr><td>AdjustedClose</td><td><div class=\"dni-plaintext\"><pre>56.362396240234375</pre></div></td></tr><tr><td>Volume</td><td><div class=\"dni-plaintext\"><pre>8888000</pre></div></td></tr></tbody></table></div></details></td></tr><tr><td>1</td><td><details class=\"dni-treeview\"><summary><span class=\"dni-code-hint\"><code>{ Symbol = \"VTI\"\\n  Date = 01/06/2007 00:00:00\\n  Open = 76.52500153\\n  High = 76.80999756\\n  Low = 73.58000183\\n  Close = 74.69000244\\n  AdjustedClose = 55.158638\\n  Volume = 12072000M }</code></span></summary><div><table><thead><tr></tr></thead><tbody><tr><td>Symbol</td><td>VTI</td></tr><tr><td>Date</td><td><span>2007-06-01 00:00:00Z</span></td></tr><tr><td>Open</td><td><div class=\"dni-plaintext\"><pre>76.5250015258789</pre></div></td></tr><tr><td>High</td><td><div class=\"dni-plaintext\"><pre>76.80999755859375</pre></div></td></tr><tr><td>Low</td><td><div class=\"dni-plaintext\"><pre>73.58000183105469</pre></div></td></tr><tr><td>Close</td><td><div class=\"dni-plaintext\"><pre>74.69000244140625</pre></div></td></tr><tr><td>AdjustedClose</td><td><div class=\"dni-plaintext\"><pre>55.15863800048828</pre></div></td></tr><tr><td>Volume</td><td><div class=\"dni-plaintext\"><pre>12072000</pre></div></td></tr></tbody></table></div></details></td></tr><tr><td>2</td><td><details class=\"dni-treeview\"><summary><span class=\"dni-code-hint\"><code>{ Symbol = \"VTI\"\\n  Date = 01/07/2007 00:00:00\\n  Open = 74.75\\n  High = 77.35500336\\n  Low = 71.90499878\\n  Close = 72.05000305\\n  AdjustedClose = 53.41179276\\n  Volume = 12724800M }</code></span></summary><div><table><thead><tr></tr></thead><tbody><tr><td>Symbol</td><td>VTI</td></tr><tr><td>Date</td><td><span>2007-07-01 00:00:00Z</span></td></tr><tr><td>Open</td><td><div class=\"dni-plaintext\"><pre>74.75</pre></div></td></tr><tr><td>High</td><td><div class=\"dni-plaintext\"><pre>77.3550033569336</pre></div></td></tr><tr><td>Low</td><td><div class=\"dni-plaintext\"><pre>71.90499877929688</pre></div></td></tr><tr><td>Close</td><td><div class=\"dni-plaintext\"><pre>72.05000305175781</pre></div></td></tr><tr><td>AdjustedClose</td><td><div class=\"dni-plaintext\"><pre>53.41179275512695</pre></div></td></tr><tr><td>Volume</td><td><div class=\"dni-plaintext\"><pre>12724800</pre></div></td></tr></tbody></table></div></details></td></tr><tr><td>3</td><td><details class=\"dni-treeview\"><summary><span class=\"dni-code-hint\"><code>{ Symbol = \"VTI\"\\n  Date = 01/08/2007 00:00:00\\n  Open = 72.03500366\\n  High = 74.44999695\\n  Low = 67.87000275\\n  Close = 73.11000061\\n  AdjustedClose = 54.19757462\\n  Volume = 29641200M }</code></span></summary><div><table><thead><tr></tr></thead><tbody><tr><td>Symbol</td><td>VTI</td></tr><tr><td>Date</td><td><span>2007-08-01 00:00:00Z</span></td></tr><tr><td>Open</td><td><div class=\"dni-plaintext\"><pre>72.03500366210938</pre></div></td></tr><tr><td>High</td><td><div class=\"dni-plaintext\"><pre>74.44999694824219</pre></div></td></tr><tr><td>Low</td><td><div class=\"dni-plaintext\"><pre>67.87000274658203</pre></div></td></tr><tr><td>Close</td><td><div class=\"dni-plaintext\"><pre>73.11000061035156</pre></div></td></tr><tr><td>AdjustedClose</td><td><div class=\"dni-plaintext\"><pre>54.19757461547851</pre></div></td></tr><tr><td>Volume</td><td><div class=\"dni-plaintext\"><pre>29641200</pre></div></td></tr></tbody></table></div></details></td></tr></tbody></table><style>\r\n",
       ".dni-code-hint {\r\n",
       "    font-style: italic;\r\n",
       "    overflow: hidden;\r\n",
       "    white-space: nowrap;\r\n",
       "}\r\n",
       ".dni-treeview {\r\n",
       "    white-space: nowrap;\r\n",
       "}\r\n",
       ".dni-treeview td {\r\n",
       "    vertical-align: top;\r\n",
       "    text-align: start;\r\n",
       "}\r\n",
       "details.dni-treeview {\r\n",
       "    padding-left: 1em;\r\n",
       "}\r\n",
       "table td {\r\n",
       "    text-align: start;\r\n",
       "}\r\n",
       "table tr { \r\n",
       "    vertical-align: top; \r\n",
       "    margin: 0em 0px;\r\n",
       "}\r\n",
       "table tr td pre \r\n",
       "{ \r\n",
       "    vertical-align: top !important; \r\n",
       "    margin: 0em 0px !important;\r\n",
       "} \r\n",
       "table th {\r\n",
       "    text-align: start;\r\n",
       "}\r\n",
       "</style>"
      ]
     },
     "metadata": {},
     "output_type": "display_data"
    }
   ],
   "source": [
    "let tickers = \n",
    "    [ \n",
    "        \"VTI\" // Vanguard Total Stock Market ETF\n",
    "        \"BND\" // Vanguard Total Bond Market ETF\n",
    "    ]\n",
    "\n",
    "let tickPrices = \n",
    "    YahooFinance.History(\n",
    "        tickers,\n",
    "        startDate = DateTime(2007,5,1),\n",
    "        interval = Interval.Monthly)\n",
    "\n",
    "tickPrices[..3]"
   ]
  },
  {
   "attachments": {},
   "cell_type": "markdown",
   "metadata": {},
   "source": [
    "Function to calculate returns from Price observations"
   ]
  },
  {
   "cell_type": "code",
   "execution_count": 25,
   "metadata": {
    "dotnet_interactive": {
     "language": "fsharp"
    },
    "polyglot_notebook": {
     "kernelName": "fsharp"
    },
    "vscode": {
     "languageId": "polyglot-notebook"
    }
   },
   "outputs": [],
   "source": [
    "let pricesToReturns (symbol, adjPrices: list<Quote>) =\n",
    "    adjPrices\n",
    "    |> List.sortBy (fun x -> x.Date)\n",
    "    |> List.pairwise\n",
    "    |> List.map (fun (day0, day1) ->\n",
    "        let r = day1.AdjustedClose / day0.AdjustedClose - 1.0 \n",
    "        { Symbol = symbol \n",
    "          Date = day1.Date \n",
    "          Return = r })\n",
    "\n",
    "let tickReturns =\n",
    "    tickPrices\n",
    "    |> List.groupBy (fun x -> x.Symbol)\n",
    "    |> List.collect pricesToReturns\n",
    "\n",
    "let rf = Map [ for x in ff3 do x.Date, x.Rf ]\n",
    "\n",
    "let standardInvestmentsExcess =\n",
    "    let maxff3Date = ff3 |> List.map(fun x -> x.Date) |> List.max\n",
    "    tickReturns\n",
    "    |> List.filter(fun x -> x.Date <= maxff3Date)\n",
    "    |> List.map(fun x -> \n",
    "        match Map.tryFind x.Date rf with \n",
    "        | None -> failwith $\"why isn't there a rf for {x.Date}\"\n",
    "        | Some rf -> { x with Return = x.Return - rf })\n",
    "\n"
   ]
  },
  {
   "cell_type": "code",
   "execution_count": 26,
   "metadata": {
    "dotnet_interactive": {
     "language": "fsharp"
    },
    "polyglot_notebook": {
     "kernelName": "fsharp"
    },
    "vscode": {
     "languageId": "polyglot-notebook"
    }
   },
   "outputs": [
    {
     "data": {
      "text/html": [
       "<table><thead><tr><th><i>index</i></th><th>value</th></tr></thead><tbody><tr><td>0</td><td><details class=\"dni-treeview\"><summary><span class=\"dni-code-hint\"><code>(1, 0,0006)</code></span></summary><div><table><thead><tr></tr></thead><tbody><tr><td>Item1</td><td><div class=\"dni-plaintext\"><pre>1</pre></div></td></tr><tr><td>Item2</td><td><div class=\"dni-plaintext\"><pre>0.0006</pre></div></td></tr></tbody></table></div></details></td></tr><tr><td>1</td><td><details class=\"dni-treeview\"><summary><span class=\"dni-code-hint\"><code>(2, 0,0314)</code></span></summary><div><table><thead><tr></tr></thead><tbody><tr><td>Item1</td><td><div class=\"dni-plaintext\"><pre>2</pre></div></td></tr><tr><td>Item2</td><td><div class=\"dni-plaintext\"><pre>0.0314</pre></div></td></tr></tbody></table></div></details></td></tr><tr><td>2</td><td><details class=\"dni-treeview\"><summary><span class=\"dni-code-hint\"><code>(3, 0,033)</code></span></summary><div><table><thead><tr></tr></thead><tbody><tr><td>Item1</td><td><div class=\"dni-plaintext\"><pre>3</pre></div></td></tr><tr><td>Item2</td><td><div class=\"dni-plaintext\"><pre>0.033</pre></div></td></tr></tbody></table></div></details></td></tr></tbody></table><style>\r\n",
       ".dni-code-hint {\r\n",
       "    font-style: italic;\r\n",
       "    overflow: hidden;\r\n",
       "    white-space: nowrap;\r\n",
       "}\r\n",
       ".dni-treeview {\r\n",
       "    white-space: nowrap;\r\n",
       "}\r\n",
       ".dni-treeview td {\r\n",
       "    vertical-align: top;\r\n",
       "    text-align: start;\r\n",
       "}\r\n",
       "details.dni-treeview {\r\n",
       "    padding-left: 1em;\r\n",
       "}\r\n",
       "table td {\r\n",
       "    text-align: start;\r\n",
       "}\r\n",
       "table tr { \r\n",
       "    vertical-align: top; \r\n",
       "    margin: 0em 0px;\r\n",
       "}\r\n",
       "table tr td pre \r\n",
       "{ \r\n",
       "    vertical-align: top !important; \r\n",
       "    margin: 0em 0px !important;\r\n",
       "} \r\n",
       "table th {\r\n",
       "    text-align: start;\r\n",
       "}\r\n",
       "</style>"
      ]
     },
     "metadata": {},
     "output_type": "display_data"
    }
   ],
   "source": [
    "standardInvestmentsExcess\n",
    "|> List.filter(fun x -> x.Symbol = \"VTI\" && x.Date.Year = 2021)\n",
    "|> List.map(fun x -> x.Date.Month, round 4 x.Return)\n",
    "|> List.take 3\n"
   ]
  },
  {
   "cell_type": "code",
   "execution_count": 27,
   "metadata": {
    "dotnet_interactive": {
     "language": "fsharp"
    },
    "polyglot_notebook": {
     "kernelName": "fsharp"
    },
    "vscode": {
     "languageId": "polyglot-notebook"
    }
   },
   "outputs": [],
   "source": [
    "let returnMap =\n",
    "    standardInvestmentsExcess\n",
    "    |> List.map (fun x -> (x.Symbol, x.Date), x.Return)\n",
    "    |> Map "
   ]
  },
  {
   "attachments": {},
   "cell_type": "markdown",
   "metadata": {},
   "source": [
    "Long and Long-Short "
   ]
  },
  {
   "cell_type": "code",
   "execution_count": 28,
   "metadata": {
    "dotnet_interactive": {
     "language": "fsharp"
    },
    "polyglot_notebook": {
     "kernelName": "fsharp"
    },
    "vscode": {
     "languageId": "polyglot-notebook"
    }
   },
   "outputs": [],
   "source": [
    "// Function to convert portfolio observations to stock data\n",
    "let convertToStockData (portfolioObs: SignalPortfolioObs) : StockData =\n",
    "    { Symbol = portfolioObs.Name\n",
    "      Date = portfolioObs.Month\n",
    "      Return = portfolioObs.ExcessReturn }\n",
    "\n",
    "let longStockData = long |> List.map convertToStockData\n",
    "let longShortStockData = longShort |> List.map convertToStockData\n",
    "\n",
    "// Creates a new list that concatenates 'standardInvestmentsExcess', 'longStockData', and 'longShortStockData'\n",
    "let extendedStandardInvestmentsExcess = \n",
    "    standardInvestmentsExcess @ longStockData @ longShortStockData   \n"
   ]
  },
  {
   "cell_type": "code",
   "execution_count": 29,
   "metadata": {
    "dotnet_interactive": {
     "language": "fsharp"
    },
    "polyglot_notebook": {
     "kernelName": "fsharp"
    },
    "vscode": {
     "languageId": "polyglot-notebook"
    }
   },
   "outputs": [],
   "source": [
    "// Group and sort stock data by date\n",
    "let stockDataByDate =\n",
    "    extendedStandardInvestmentsExcess\n",
    "    |> List.groupBy(fun x -> x.Date)\n",
    "    |> List.sortBy (fun (dt, xs) -> dt)\n",
    "\n",
    "// Find the first month where the number of stocks equals 4\n",
    "let allAssetsStart =\n",
    "    stockDataByDate\n",
    "    |> List.find(fun (month, stocks) -> stocks.Length = 4)\n",
    "    |> fst\n",
    "\n",
    "// Find the last month where the number of stocks equals 4\n",
    "let allAssetsEnd =\n",
    "    stockDataByDate\n",
    "    |> List.findBack(fun (month, stocks) -> stocks.Length = 4)\n",
    "    |> fst\n",
    "\n",
    "// Filter stock data to include only complete date range\n",
    "let stockDataByDateComplete =\n",
    "    extendedStandardInvestmentsExcess\n",
    "    |> List.filter(fun x -> \n",
    "        x.Date >= allAssetsStart &&\n",
    "        x.Date <= allAssetsEnd)"
   ]
  },
  {
   "attachments": {},
   "cell_type": "markdown",
   "metadata": {},
   "source": [
    "Covariances"
   ]
  },
  {
   "cell_type": "code",
   "execution_count": 30,
   "metadata": {
    "dotnet_interactive": {
     "language": "fsharp"
    },
    "polyglot_notebook": {
     "kernelName": "fsharp"
    },
    "vscode": {
     "languageId": "polyglot-notebook"
    }
   },
   "outputs": [],
   "source": [
    "// Create a map of (Symbol, Date) to Return\n",
    "let returnMap =\n",
    "    stockDataByDateComplete\n",
    "    |> List.map (fun x -> (x.Symbol, x.Date), x.Return)\n",
    "    |> Map\n",
    "\n",
    "// Define a function to calculate covariance of returns for given symbols\n",
    "let getCov xId yId =\n",
    "    // Filter stock data for specified symbol xId\n",
    "    let xs = \n",
    "        stockDataByDateComplete\n",
    "        |> List.filter (fun x -> x.Symbol = xId)\n",
    "    // Calculate covariance of return pairs\n",
    "    [ for x in xs do\n",
    "        let yLookup = yId, x.Date\n",
    "        if returnMap.ContainsKey yLookup then\n",
    "            x.Return, returnMap[yLookup]]\n",
    "    |> covOfPairs\n"
   ]
  },
  {
   "attachments": {},
   "cell_type": "markdown",
   "metadata": {},
   "source": [
    "Mean variance weights"
   ]
  },
  {
   "cell_type": "code",
   "execution_count": 31,
   "metadata": {
    "dotnet_interactive": {
     "language": "fsharp"
    },
    "polyglot_notebook": {
     "kernelName": "fsharp"
    },
    "vscode": {
     "languageId": "polyglot-notebook"
    }
   },
   "outputs": [],
   "source": [
    "// Function to calculate minimum variance efficient weights for a list of tickers\n",
    "let getMveWeights (tickers:List<string>) =\n",
    "    // Calculate covariance matrix for tickers\n",
    "    let covariances =\n",
    "        [ for rowTick in tickers do\n",
    "            [ for colTick in tickers do\n",
    "                getCov rowTick colTick ]]\n",
    "        |> dsharp.tensor\n",
    "\n",
    "    // Calculate mean returns for each ticker\n",
    "    let meansByTick =\n",
    "        extendedStandardInvestmentsExcess\n",
    "        |> List.groupBy (fun x -> x.Symbol)\n",
    "        |> List.map (fun (sym, xs) ->\n",
    "            let symAvg = xs |> List.averageBy (fun x -> x.Return)\n",
    "            sym, symAvg)\n",
    "        |> Map\n",
    "\n",
    "    // Create tensor for mean returns\n",
    "    let means = \n",
    "        [ for ticker in tickers do meansByTick[ticker] ]\n",
    "        |> dsharp.tensor\n",
    "\n",
    "    // Solve for weights\n",
    "    let w' = dsharp.solve(covariances,means)\n",
    "    let w = w' / w'.sum()   // Normalize weights\n",
    "    let weights =\n",
    "        Seq.zip tickers (w.toArray1D<float>())   // Zip tickers and weights\n",
    "        |> Map.ofSeq    // Convert to map\n",
    "\n",
    "    weights\n"
   ]
  },
  {
   "cell_type": "code",
   "execution_count": 32,
   "metadata": {
    "dotnet_interactive": {
     "language": "fsharp"
    },
    "polyglot_notebook": {
     "kernelName": "fsharp"
    },
    "vscode": {
     "languageId": "polyglot-notebook"
    }
   },
   "outputs": [
    {
     "data": {
      "text/html": [
       "<table><thead><tr><th><i>key</i></th><th>value</th></tr></thead><tbody><tr><td>BND</td><td><div class=\"dni-plaintext\"><pre>0.8237399458885193</pre></div></td></tr><tr><td>Long</td><td><div class=\"dni-plaintext\"><pre>-0.3082203269004822</pre></div></td></tr><tr><td>VTI</td><td><div class=\"dni-plaintext\"><pre>0.4844803214073181</pre></div></td></tr></tbody></table><style>\r\n",
       ".dni-code-hint {\r\n",
       "    font-style: italic;\r\n",
       "    overflow: hidden;\r\n",
       "    white-space: nowrap;\r\n",
       "}\r\n",
       ".dni-treeview {\r\n",
       "    white-space: nowrap;\r\n",
       "}\r\n",
       ".dni-treeview td {\r\n",
       "    vertical-align: top;\r\n",
       "    text-align: start;\r\n",
       "}\r\n",
       "details.dni-treeview {\r\n",
       "    padding-left: 1em;\r\n",
       "}\r\n",
       "table td {\r\n",
       "    text-align: start;\r\n",
       "}\r\n",
       "table tr { \r\n",
       "    vertical-align: top; \r\n",
       "    margin: 0em 0px;\r\n",
       "}\r\n",
       "table tr td pre \r\n",
       "{ \r\n",
       "    vertical-align: top !important; \r\n",
       "    margin: 0em 0px !important;\r\n",
       "} \r\n",
       "table th {\r\n",
       "    text-align: start;\r\n",
       "}\r\n",
       "</style>"
      ]
     },
     "metadata": {},
     "output_type": "display_data"
    }
   ],
   "source": [
    "let portfolioMonthReturn weights monthData =\n",
    "    weights\n",
    "    |> Map.toList\n",
    "    |> List.map(fun (symbol, weight) ->\n",
    "        let symbolData = \n",
    "            match monthData |> List.tryFind(fun x -> x.Symbol = symbol) with\n",
    "            | None -> failwith $\"You tried to find {symbol} in the data but it was not there\"\n",
    "            | Some data -> data\n",
    "        symbolData.Return*weight)\n",
    "    |> List.sum\n",
    "\n",
    "let weightsLongPlusAssets = getMveWeights [\"Long\";\"VTI\";\"BND\"]\n",
    "weightsLongPlusAssets"
   ]
  },
  {
   "cell_type": "code",
   "execution_count": 33,
   "metadata": {
    "dotnet_interactive": {
     "language": "fsharp"
    },
    "polyglot_notebook": {
     "kernelName": "fsharp"
    },
    "vscode": {
     "languageId": "polyglot-notebook"
    }
   },
   "outputs": [
    {
     "data": {
      "text/html": [
       "<table><thead><tr><th><i>key</i></th><th>value</th></tr></thead><tbody><tr><td>BND</td><td><div class=\"dni-plaintext\"><pre>0.5004767179489136</pre></div></td></tr><tr><td>Long-short</td><td><div class=\"dni-plaintext\"><pre>0.36945128440856934</pre></div></td></tr><tr><td>VTI</td><td><div class=\"dni-plaintext\"><pre>0.13007204234600067</pre></div></td></tr></tbody></table><style>\r\n",
       ".dni-code-hint {\r\n",
       "    font-style: italic;\r\n",
       "    overflow: hidden;\r\n",
       "    white-space: nowrap;\r\n",
       "}\r\n",
       ".dni-treeview {\r\n",
       "    white-space: nowrap;\r\n",
       "}\r\n",
       ".dni-treeview td {\r\n",
       "    vertical-align: top;\r\n",
       "    text-align: start;\r\n",
       "}\r\n",
       "details.dni-treeview {\r\n",
       "    padding-left: 1em;\r\n",
       "}\r\n",
       "table td {\r\n",
       "    text-align: start;\r\n",
       "}\r\n",
       "table tr { \r\n",
       "    vertical-align: top; \r\n",
       "    margin: 0em 0px;\r\n",
       "}\r\n",
       "table tr td pre \r\n",
       "{ \r\n",
       "    vertical-align: top !important; \r\n",
       "    margin: 0em 0px !important;\r\n",
       "} \r\n",
       "table th {\r\n",
       "    text-align: start;\r\n",
       "}\r\n",
       "</style>"
      ]
     },
     "metadata": {},
     "output_type": "display_data"
    }
   ],
   "source": [
    "let stockDataGroupedByDate = \n",
    "    stockDataByDateComplete\n",
    "    |> List.groupBy (fun x -> x.Date)\n",
    "\n",
    "let portMveLong =\n",
    "    stockDataGroupedByDate\n",
    "    |> List.map(fun (date, data) -> \n",
    "        { Symbol = \"MVE\"\n",
    "          Date = date\n",
    "          Return = portfolioMonthReturn weightsLongPlusAssets data })\n",
    "\n",
    "let weightsLongShortPlusAssets = getMveWeights [\"Long-short\";\"VTI\";\"BND\"]\n",
    "weightsLongShortPlusAssets"
   ]
  },
  {
   "cell_type": "code",
   "execution_count": 34,
   "metadata": {
    "dotnet_interactive": {
     "language": "fsharp"
    },
    "polyglot_notebook": {
     "kernelName": "fsharp"
    },
    "vscode": {
     "languageId": "polyglot-notebook"
    }
   },
   "outputs": [],
   "source": [
    "type Return = \n",
    "    { \n",
    "        Month: DateTime\n",
    "        Name: string\n",
    "        Return: float \n",
    "    }"
   ]
  },
  {
   "cell_type": "code",
   "execution_count": 35,
   "metadata": {
    "dotnet_interactive": {
     "language": "fsharp"
    },
    "polyglot_notebook": {
     "kernelName": "fsharp"
    },
    "vscode": {
     "languageId": "polyglot-notebook"
    }
   },
   "outputs": [
    {
     "data": {
      "text/html": [
       "<table><thead><tr><th><i>index</i></th><th>value</th></tr></thead><tbody><tr><td>0</td><td><details class=\"dni-treeview\"><summary><span class=\"dni-code-hint\"><code>{ Symbol = \"VTI_BND\"\\n  Date = 01/06/2007 00:00:00\\n  Return = -0.01876622847 }</code></span></summary><div><table><thead><tr></tr></thead><tbody><tr><td>Symbol</td><td>VTI_BND</td></tr><tr><td>Date</td><td><span>2007-06-01 00:00:00Z</span></td></tr><tr><td>Return</td><td><div class=\"dni-plaintext\"><pre>-0.0187662284715532</pre></div></td></tr></tbody></table></div></details></td></tr><tr><td>1</td><td><details class=\"dni-treeview\"><summary><span class=\"dni-code-hint\"><code>{ Symbol = \"VTI_BND\"\\n  Date = 01/07/2007 00:00:00\\n  Return = -0.01918462112 }</code></span></summary><div><table><thead><tr></tr></thead><tbody><tr><td>Symbol</td><td>VTI_BND</td></tr><tr><td>Date</td><td><span>2007-07-01 00:00:00Z</span></td></tr><tr><td>Return</td><td><div class=\"dni-plaintext\"><pre>-0.019184621123252563</pre></div></td></tr></tbody></table></div></details></td></tr><tr><td>2</td><td><details class=\"dni-treeview\"><summary><span class=\"dni-code-hint\"><code>{ Symbol = \"VTI_BND\"\\n  Date = 01/08/2007 00:00:00\\n  Return = 0.01018100952 }</code></span></summary><div><table><thead><tr></tr></thead><tbody><tr><td>Symbol</td><td>VTI_BND</td></tr><tr><td>Date</td><td><span>2007-08-01 00:00:00Z</span></td></tr><tr><td>Return</td><td><div class=\"dni-plaintext\"><pre>0.010181009515235734</pre></div></td></tr></tbody></table></div></details></td></tr></tbody></table><style>\r\n",
       ".dni-code-hint {\r\n",
       "    font-style: italic;\r\n",
       "    overflow: hidden;\r\n",
       "    white-space: nowrap;\r\n",
       "}\r\n",
       ".dni-treeview {\r\n",
       "    white-space: nowrap;\r\n",
       "}\r\n",
       ".dni-treeview td {\r\n",
       "    vertical-align: top;\r\n",
       "    text-align: start;\r\n",
       "}\r\n",
       "details.dni-treeview {\r\n",
       "    padding-left: 1em;\r\n",
       "}\r\n",
       "table td {\r\n",
       "    text-align: start;\r\n",
       "}\r\n",
       "table tr { \r\n",
       "    vertical-align: top; \r\n",
       "    margin: 0em 0px;\r\n",
       "}\r\n",
       "table tr td pre \r\n",
       "{ \r\n",
       "    vertical-align: top !important; \r\n",
       "    margin: 0em 0px !important;\r\n",
       "} \r\n",
       "table th {\r\n",
       "    text-align: start;\r\n",
       "}\r\n",
       "</style>"
      ]
     },
     "metadata": {},
     "output_type": "display_data"
    }
   ],
   "source": [
    "// Function to calculate minimum variance efficient weights for a list of tickers\n",
    "let getMveWeights (tickers:List<string>) (weights:List<float>) =\n",
    "    // Calculate covariance matrix for tickers\n",
    "    let covariances =\n",
    "        [ for rowTick in tickers do\n",
    "            [ for colTick in tickers do\n",
    "                getCov rowTick colTick ]]\n",
    "        |> dsharp.tensor\n",
    "\n",
    "    // Calculate mean returns for each ticker\n",
    "    let meansByTick =\n",
    "        extendedStandardInvestmentsExcess\n",
    "        |> List.groupBy (fun x -> x.Symbol)\n",
    "        |> List.map (fun (sym, xs) ->\n",
    "            let symAvg = xs |> List.averageBy (fun x -> x.Return)\n",
    "            sym, symAvg)\n",
    "        |> Map\n",
    "\n",
    "    // Create tensor for mean returns\n",
    "    let means = \n",
    "        [ for ticker in tickers do meansByTick[ticker] ]\n",
    "        |> dsharp.tensor\n",
    "\n",
    "    // Solve for weights\n",
    "    let w' = dsharp.solve(covariances,means)\n",
    "    let w = w' / w'.sum()  // Normalize weights\n",
    "    let weights =\n",
    "        Seq.zip tickers (Array.ofList weights)  // Zip tickers and weights\n",
    "        |> Map.ofSeq   // Convert to map\n",
    "\n",
    "    weights\n",
    "\n",
    "// Function to calculate the portfolio return for a given month\n",
    "let portfolioMonthReturn weights monthData =\n",
    "    weights\n",
    "    |> Map.toList\n",
    "    |> List.map(fun (symbol, weight) ->\n",
    "        let symbolData = \n",
    "            match monthData |> List.tryFind(fun x -> x.Symbol = symbol) with\n",
    "            | None -> failwith $\"You tried to find {symbol} in the data but it was not there\"\n",
    "            | Some data -> data\n",
    "        symbolData.Return*weight)\n",
    "    |> List.sum\n",
    "\n",
    "// Get minimum variance efficient weights for \"VTI\" and \"BND\"\n",
    "let weightsVTI_BND = getMveWeights [\"VTI\";\"BND\"] [0.6; 0.4]\n",
    "\n",
    "// Group stock data by date\n",
    "let stockDataGroupedByDate = \n",
    "    stockDataByDateComplete\n",
    "    |> List.groupBy (fun x -> x.Date)\n",
    "    \n",
    "// Calculate the portfolio return for \"VTI_BND\"\n",
    "let portVTI_BND =\n",
    "    stockDataGroupedByDate\n",
    "    |> List.map(fun (date, data) -> \n",
    "        { Symbol = \"VTI_BND\"\n",
    "          Date = date\n",
    "          Return = portfolioMonthReturn weightsVTI_BND data })\n",
    "\n",
    "// Display the first three elements of 'portVTI_BND'\n",
    "portVTI_BND[..2]\n"
   ]
  },
  {
   "cell_type": "code",
   "execution_count": 36,
   "metadata": {
    "dotnet_interactive": {
     "language": "fsharp"
    },
    "polyglot_notebook": {
     "kernelName": "fsharp"
    },
    "vscode": {
     "languageId": "polyglot-notebook"
    }
   },
   "outputs": [],
   "source": [
    "// Calculate the monthly returns for the mean-variance efficient long-short portfolio with VTI and BND\n",
    "let portMveLongShort =\n",
    "    stockDataGroupedByDate\n",
    "    |> List.map(fun (date, data) -> \n",
    "        { Symbol = \"Change in COWC Long-Short\"\n",
    "          Date = date\n",
    "          Return = portfolioMonthReturn weightsLongShortPlusAssets data })"
   ]
  },
  {
   "cell_type": "code",
   "execution_count": 37,
   "metadata": {
    "dotnet_interactive": {
     "language": "fsharp"
    },
    "polyglot_notebook": {
     "kernelName": "fsharp"
    },
    "vscode": {
     "languageId": "polyglot-notebook"
    }
   },
   "outputs": [],
   "source": [
    "// Function to create a cumulative return chart for a list of stock returns\n",
    "let makeCumulativeChartdf (returns:List<StockData>) =\n",
    "    // Get the first observation in the returns list\n",
    "    let firstObs = returns[0]\n",
    "    returns\n",
    "    // Map each return to a (Date, Return) pair\n",
    "    |> List.map (fun x ->x.Date, x.Return)\n",
    "    // Calculate the cumulative return\n",
    "    |> cumulativeReturn\n",
    "    // Generate the line chart\n",
    "    |> Chart.Line\n",
    "    // Add trace info to the chart\n",
    "    |> Chart.withTraceInfo(Name = $\"{firstObs.Symbol}\")\n",
    "\n",
    "// Function to apply leverage to a list of stock returns\n",
    "let applyLeveragedf (xs:List<StockData> ) =\n",
    "    // Calculate the annualized volatility\n",
    "    let annualizedVol = sqrt(12.0) * (xs |> Seq.stDevBy(fun x -> x.Return))\n",
    "    let targetVol = 0.1\n",
    "    xs \n",
    "    // Adjust each return by the ratio of target volatility to annualized volatility\n",
    "    |> List.map(fun x -> \n",
    "        { x with Return = (targetVol/annualizedVol) * x.Return })    \n",
    "\n",
    "// Function to create a cumulative return chart for a list of leveraged stock returns\n",
    "let makeCumulativeChartLeverageddf (returns:List<StockData>) =\n",
    "    // Get the first observation in the returns list\n",
    "    let firstObs = returns[0]\n",
    "    returns\n",
    "    // Apply leverage to the returns\n",
    "    |> applyLeveragedf\n",
    "    // Map each return to a (Date, Return) pair\n",
    "    |> List.map (fun x -> x.Date, x.Return)\n",
    "    // Calculate the cumulative return\n",
    "    |> cumulativeReturn\n",
    "    // Generate the line chart\n",
    "    |> Chart.Line\n",
    "    // Add trace info to the chart\n",
    "    |> Chart.withTraceInfo(Name = $\"{firstObs.Symbol}\")\n"
   ]
  },
  {
   "attachments": {},
   "cell_type": "markdown",
   "metadata": {},
   "source": [
    "Let's now try with different weights"
   ]
  },
  {
   "cell_type": "code",
   "execution_count": 38,
   "metadata": {
    "dotnet_interactive": {
     "language": "fsharp"
    },
    "polyglot_notebook": {
     "kernelName": "fsharp"
    },
    "vscode": {
     "languageId": "polyglot-notebook"
    }
   },
   "outputs": [],
   "source": [
    "// Get minimum variance efficient weights for \"VTI\" and \"BND\"\n",
    "let weightsVTI_BND_Inv = getMveWeights [\"VTI\";\"BND\"] [0.4; 0.6]\n",
    "    \n",
    "// Calculate the portfolio return for \"VTI_BND\"\n",
    "let portVTI_BND_Inv =\n",
    "    stockDataGroupedByDate\n",
    "    |> List.map(fun (date, data) -> \n",
    "        { Symbol = \"VTI_BND\"\n",
    "          Date = date\n",
    "          Return = portfolioMonthReturn weightsVTI_BND_Inv data })"
   ]
  },
  {
   "cell_type": "code",
   "execution_count": 39,
   "metadata": {
    "dotnet_interactive": {
     "language": "fsharp"
    },
    "polyglot_notebook": {
     "kernelName": "fsharp"
    },
    "vscode": {
     "languageId": "polyglot-notebook"
    }
   },
   "outputs": [
    {
     "data": {
      "text/html": [
       "\n",
       "<div>\n",
       "    <div id=\"18442a42-ea53-4605-8018-5b032127d257\"><!-- Plotly chart will be drawn inside this DIV --></div>\n",
       "<script type=\"text/javascript\">\n",
       "\r\n",
       "            var renderPlotly_18442a42ea53460580185b032127d257 = function() {\r\n",
       "            var fsharpPlotlyRequire = requirejs.config({context:'fsharp-plotly',paths:{plotly:'https://cdn.plot.ly/plotly-2.6.3.min'}}) || require;\r\n",
       "            fsharpPlotlyRequire(['plotly'], function(Plotly) {\n",
       "\r\n",
       "            var data = [{\"type\":\"scatter\",\"mode\":\"lines\",\"x\":[\"2007-06-01T00:00:00\",\"2007-07-01T00:00:00\",\"2007-08-01T00:00:00\",\"2007-09-01T00:00:00\",\"2007-10-01T00:00:00\",\"2007-11-01T00:00:00\",\"2007-12-01T00:00:00\",\"2008-01-01T00:00:00\",\"2008-02-01T00:00:00\",\"2008-03-01T00:00:00\",\"2008-04-01T00:00:00\",\"2008-05-01T00:00:00\",\"2008-06-01T00:00:00\",\"2008-07-01T00:00:00\",\"2008-08-01T00:00:00\",\"2008-09-01T00:00:00\",\"2008-10-01T00:00:00\",\"2008-11-01T00:00:00\",\"2008-12-01T00:00:00\",\"2009-01-01T00:00:00\",\"2009-02-01T00:00:00\",\"2009-03-01T00:00:00\",\"2009-04-01T00:00:00\",\"2009-05-01T00:00:00\",\"2009-06-01T00:00:00\",\"2009-07-01T00:00:00\",\"2009-08-01T00:00:00\",\"2009-09-01T00:00:00\",\"2009-10-01T00:00:00\",\"2009-11-01T00:00:00\",\"2009-12-01T00:00:00\",\"2010-01-01T00:00:00\",\"2010-02-01T00:00:00\",\"2010-03-01T00:00:00\",\"2010-04-01T00:00:00\",\"2010-05-01T00:00:00\",\"2010-06-01T00:00:00\",\"2010-07-01T00:00:00\",\"2010-08-01T00:00:00\",\"2010-09-01T00:00:00\",\"2010-10-01T00:00:00\",\"2010-11-01T00:00:00\",\"2010-12-01T00:00:00\",\"2011-01-01T00:00:00\",\"2011-02-01T00:00:00\",\"2011-03-01T00:00:00\",\"2011-04-01T00:00:00\",\"2011-05-01T00:00:00\",\"2011-06-01T00:00:00\",\"2011-07-01T00:00:00\",\"2011-08-01T00:00:00\",\"2011-09-01T00:00:00\",\"2011-10-01T00:00:00\",\"2011-11-01T00:00:00\",\"2011-12-01T00:00:00\",\"2012-01-01T00:00:00\",\"2012-02-01T00:00:00\",\"2012-03-01T00:00:00\",\"2012-04-01T00:00:00\",\"2012-05-01T00:00:00\",\"2012-06-01T00:00:00\",\"2012-07-01T00:00:00\",\"2012-08-01T00:00:00\",\"2012-09-01T00:00:00\",\"2012-10-01T00:00:00\",\"2012-11-01T00:00:00\",\"2012-12-01T00:00:00\",\"2013-01-01T00:00:00\",\"2013-02-01T00:00:00\",\"2013-03-01T00:00:00\",\"2013-04-01T00:00:00\",\"2013-05-01T00:00:00\",\"2013-06-01T00:00:00\",\"2013-07-01T00:00:00\",\"2013-08-01T00:00:00\",\"2013-09-01T00:00:00\",\"2013-10-01T00:00:00\",\"2013-11-01T00:00:00\",\"2013-12-01T00:00:00\",\"2014-01-01T00:00:00\",\"2014-02-01T00:00:00\",\"2014-03-01T00:00:00\",\"2014-04-01T00:00:00\",\"2014-05-01T00:00:00\",\"2014-06-01T00:00:00\",\"2014-07-01T00:00:00\",\"2014-08-01T00:00:00\",\"2014-09-01T00:00:00\",\"2014-10-01T00:00:00\",\"2014-11-01T00:00:00\",\"2014-12-01T00:00:00\",\"2015-01-01T00:00:00\",\"2015-02-01T00:00:00\",\"2015-03-01T00:00:00\",\"2015-04-01T00:00:00\",\"2015-05-01T00:00:00\",\"2015-06-01T00:00:00\",\"2015-07-01T00:00:00\",\"2015-08-01T00:00:00\",\"2015-09-01T00:00:00\",\"2015-10-01T00:00:00\",\"2015-11-01T00:00:00\",\"2015-12-01T00:00:00\",\"2016-01-01T00:00:00\",\"2016-02-01T00:00:00\",\"2016-03-01T00:00:00\",\"2016-04-01T00:00:00\",\"2016-05-01T00:00:00\",\"2016-06-01T00:00:00\",\"2016-07-01T00:00:00\",\"2016-08-01T00:00:00\",\"2016-09-01T00:00:00\",\"2016-10-01T00:00:00\",\"2016-11-01T00:00:00\",\"2016-12-01T00:00:00\",\"2017-01-01T00:00:00\",\"2017-02-01T00:00:00\",\"2017-03-01T00:00:00\",\"2017-04-01T00:00:00\",\"2017-05-01T00:00:00\",\"2017-06-01T00:00:00\",\"2017-07-01T00:00:00\",\"2017-08-01T00:00:00\",\"2017-09-01T00:00:00\",\"2017-10-01T00:00:00\",\"2017-11-01T00:00:00\",\"2017-12-01T00:00:00\",\"2018-01-01T00:00:00\",\"2018-02-01T00:00:00\",\"2018-03-01T00:00:00\",\"2018-04-01T00:00:00\",\"2018-05-01T00:00:00\",\"2018-06-01T00:00:00\",\"2018-07-01T00:00:00\",\"2018-08-01T00:00:00\",\"2018-09-01T00:00:00\",\"2018-10-01T00:00:00\",\"2018-11-01T00:00:00\",\"2018-12-01T00:00:00\",\"2019-01-01T00:00:00\",\"2019-02-01T00:00:00\",\"2019-03-01T00:00:00\",\"2019-04-01T00:00:00\",\"2019-05-01T00:00:00\",\"2019-06-01T00:00:00\",\"2019-07-01T00:00:00\",\"2019-08-01T00:00:00\",\"2019-09-01T00:00:00\",\"2019-10-01T00:00:00\",\"2019-11-01T00:00:00\",\"2019-12-01T00:00:00\",\"2020-01-01T00:00:00\",\"2020-02-01T00:00:00\",\"2020-03-01T00:00:00\",\"2020-04-01T00:00:00\",\"2020-05-01T00:00:00\",\"2020-06-01T00:00:00\",\"2020-07-01T00:00:00\",\"2020-08-01T00:00:00\",\"2020-09-01T00:00:00\",\"2020-10-01T00:00:00\",\"2020-11-01T00:00:00\",\"2020-12-01T00:00:00\",\"2021-01-01T00:00:00\"],\"y\":[-0.01876622847155318,-0.03759082661166657,-0.027792529659849796,-0.008620611583698756,0.005155389717386605,-0.017661845248558072,-0.025648257176805078,-0.05298097222689624,-0.06950823079629675,-0.0771311504372374,-0.0503503258426522,-0.0443635832111241,-0.09479445818945831,-0.09698069874177262,-0.08726020704771542,-0.14348207428123294,-0.24191710449499004,-0.26686505361644075,-0.24852775045038566,-0.2856114536618618,-0.3335313540086744,-0.3006165139171606,-0.25003225125142026,-0.22338919281993952,-0.22214381931003924,-0.17951560319690352,-0.15798406961240996,-0.13621069566893051,-0.14650638265775773,-0.11292898639684901,-0.10747376814028742,-0.11640456867615767,-0.09812281098103581,-0.06661420394269102,-0.04828289707819822,-0.08905339983057581,-0.11827824047354507,-0.07537281674838858,-0.0958448990094487,-0.04763575731647263,-0.020418163066604156,-0.020208965295263615,0.010475053910808718,0.03050713208575062,0.05331751035067023,0.05266003047117973,0.07974595823116326,0.07801312183215825,0.06206623394246069,0.05721860935977641,0.025503744570994025,-0.021307319934171676,0.0493411939408388,0.04675751259195171,0.051267931907960085,0.0937570958682592,0.1205565747655688,0.1359913451321002,0.1391167476626236,0.10118190717784503,0.12475873027459561,0.13965299522933594,0.15876165163589118,0.17336599071126546,0.16348443429682535,0.17000160379230378,0.1687238135193132,0.2098711653814902,0.22079825332044334,0.2467096693831854,0.2663447500708922,0.2760203590161492,0.2530344768307755,0.3018505759449128,0.27371088737547655,0.3053069946308571,0.34715184119706577,0.36735942037103575,0.3802892731378842,0.3697238612514451,0.41113361158594386,0.41078044152093995,0.4194016881382412,0.44337380707836727,0.46290789995911674,0.44737384940067493,0.4900225985599249,0.46385724080877444,0.496445022483206,0.5236072964269034,0.5160600345184425,0.5145424102404517,0.5576000796557572,0.5458646755262002,0.5537320352578481,0.5629715792661458,0.53631018419834,0.5614175142739812,0.5027745634740874,0.47685524631144105,0.552034390188932,0.5551471086384374,0.5271516842815092,0.4898480673970549,0.4932504826316859,0.5575334969608989,0.5703895806730814,0.5866002800286008,0.5974633714886863,0.6435394860149823,0.6431814285976569,0.6407634466217276,0.6174208357635176,0.644158817762557,0.6574946140455207,0.6858616467601879,0.7253105211449169,0.720532320267971,0.7406928447306014,0.7552166009079673,0.7595987369244472,0.7860320285763758,0.7936394059861258,0.8116682248167688,0.83825642602974,0.86937670555401,0.877316742444751,0.933967124696129,0.8785159074817881,0.8551044020233329,0.8554066334696626,0.8883543520370625,0.8884733871506258,0.9295285857033544,0.9712762951164349,0.9607023973933404,0.8682691049224882,0.8921056220117878,0.7904088588764877,0.8968046491956843,0.9313343831681677,0.952871949421698,1.0010291143032983,0.9340511192122092,1.0177963038043916,1.0368462427607477,1.0307041497382508,1.0385551526452717,1.0693545720282027,1.1135299205985212,1.1366323456166905,1.1607515448162773,1.0669868720797608,0.8751188145496864,1.0497177505105681,1.12155747548243,1.1504515858973212,1.2431343900087248,1.3301338736117545,1.2740595718749845,1.2476875390159017,1.4175299468737679,1.4773622163769855,1.474474601987061],\"marker\":{},\"line\":{},\"name\":\"60 Stock / 40 Bond\"},{\"type\":\"scatter\",\"mode\":\"lines\",\"x\":[\"2007-06-01T00:00:00\",\"2007-07-01T00:00:00\",\"2007-08-01T00:00:00\",\"2007-09-01T00:00:00\",\"2007-10-01T00:00:00\",\"2007-11-01T00:00:00\",\"2007-12-01T00:00:00\",\"2008-01-01T00:00:00\",\"2008-02-01T00:00:00\",\"2008-03-01T00:00:00\",\"2008-04-01T00:00:00\",\"2008-05-01T00:00:00\",\"2008-06-01T00:00:00\",\"2008-07-01T00:00:00\",\"2008-08-01T00:00:00\",\"2008-09-01T00:00:00\",\"2008-10-01T00:00:00\",\"2008-11-01T00:00:00\",\"2008-12-01T00:00:00\",\"2009-01-01T00:00:00\",\"2009-02-01T00:00:00\",\"2009-03-01T00:00:00\",\"2009-04-01T00:00:00\",\"2009-05-01T00:00:00\",\"2009-06-01T00:00:00\",\"2009-07-01T00:00:00\",\"2009-08-01T00:00:00\",\"2009-09-01T00:00:00\",\"2009-10-01T00:00:00\",\"2009-11-01T00:00:00\",\"2009-12-01T00:00:00\",\"2010-01-01T00:00:00\",\"2010-02-01T00:00:00\",\"2010-03-01T00:00:00\",\"2010-04-01T00:00:00\",\"2010-05-01T00:00:00\",\"2010-06-01T00:00:00\",\"2010-07-01T00:00:00\",\"2010-08-01T00:00:00\",\"2010-09-01T00:00:00\",\"2010-10-01T00:00:00\",\"2010-11-01T00:00:00\",\"2010-12-01T00:00:00\",\"2011-01-01T00:00:00\",\"2011-02-01T00:00:00\",\"2011-03-01T00:00:00\",\"2011-04-01T00:00:00\",\"2011-05-01T00:00:00\",\"2011-06-01T00:00:00\",\"2011-07-01T00:00:00\",\"2011-08-01T00:00:00\",\"2011-09-01T00:00:00\",\"2011-10-01T00:00:00\",\"2011-11-01T00:00:00\",\"2011-12-01T00:00:00\",\"2012-01-01T00:00:00\",\"2012-02-01T00:00:00\",\"2012-03-01T00:00:00\",\"2012-04-01T00:00:00\",\"2012-05-01T00:00:00\",\"2012-06-01T00:00:00\",\"2012-07-01T00:00:00\",\"2012-08-01T00:00:00\",\"2012-09-01T00:00:00\",\"2012-10-01T00:00:00\",\"2012-11-01T00:00:00\",\"2012-12-01T00:00:00\",\"2013-01-01T00:00:00\",\"2013-02-01T00:00:00\",\"2013-03-01T00:00:00\",\"2013-04-01T00:00:00\",\"2013-05-01T00:00:00\",\"2013-06-01T00:00:00\",\"2013-07-01T00:00:00\",\"2013-08-01T00:00:00\",\"2013-09-01T00:00:00\",\"2013-10-01T00:00:00\",\"2013-11-01T00:00:00\",\"2013-12-01T00:00:00\",\"2014-01-01T00:00:00\",\"2014-02-01T00:00:00\",\"2014-03-01T00:00:00\",\"2014-04-01T00:00:00\",\"2014-05-01T00:00:00\",\"2014-06-01T00:00:00\",\"2014-07-01T00:00:00\",\"2014-08-01T00:00:00\",\"2014-09-01T00:00:00\",\"2014-10-01T00:00:00\",\"2014-11-01T00:00:00\",\"2014-12-01T00:00:00\",\"2015-01-01T00:00:00\",\"2015-02-01T00:00:00\",\"2015-03-01T00:00:00\",\"2015-04-01T00:00:00\",\"2015-05-01T00:00:00\",\"2015-06-01T00:00:00\",\"2015-07-01T00:00:00\",\"2015-08-01T00:00:00\",\"2015-09-01T00:00:00\",\"2015-10-01T00:00:00\",\"2015-11-01T00:00:00\",\"2015-12-01T00:00:00\",\"2016-01-01T00:00:00\",\"2016-02-01T00:00:00\",\"2016-03-01T00:00:00\",\"2016-04-01T00:00:00\",\"2016-05-01T00:00:00\",\"2016-06-01T00:00:00\",\"2016-07-01T00:00:00\",\"2016-08-01T00:00:00\",\"2016-09-01T00:00:00\",\"2016-10-01T00:00:00\",\"2016-11-01T00:00:00\",\"2016-12-01T00:00:00\",\"2017-01-01T00:00:00\",\"2017-02-01T00:00:00\",\"2017-03-01T00:00:00\",\"2017-04-01T00:00:00\",\"2017-05-01T00:00:00\",\"2017-06-01T00:00:00\",\"2017-07-01T00:00:00\",\"2017-08-01T00:00:00\",\"2017-09-01T00:00:00\",\"2017-10-01T00:00:00\",\"2017-11-01T00:00:00\",\"2017-12-01T00:00:00\",\"2018-01-01T00:00:00\",\"2018-02-01T00:00:00\",\"2018-03-01T00:00:00\",\"2018-04-01T00:00:00\",\"2018-05-01T00:00:00\",\"2018-06-01T00:00:00\",\"2018-07-01T00:00:00\",\"2018-08-01T00:00:00\",\"2018-09-01T00:00:00\",\"2018-10-01T00:00:00\",\"2018-11-01T00:00:00\",\"2018-12-01T00:00:00\",\"2019-01-01T00:00:00\",\"2019-02-01T00:00:00\",\"2019-03-01T00:00:00\",\"2019-04-01T00:00:00\",\"2019-05-01T00:00:00\",\"2019-06-01T00:00:00\",\"2019-07-01T00:00:00\",\"2019-08-01T00:00:00\",\"2019-09-01T00:00:00\",\"2019-10-01T00:00:00\",\"2019-11-01T00:00:00\",\"2019-12-01T00:00:00\",\"2020-01-01T00:00:00\",\"2020-02-01T00:00:00\",\"2020-03-01T00:00:00\",\"2020-04-01T00:00:00\",\"2020-05-01T00:00:00\",\"2020-06-01T00:00:00\",\"2020-07-01T00:00:00\",\"2020-08-01T00:00:00\",\"2020-09-01T00:00:00\",\"2020-10-01T00:00:00\",\"2020-11-01T00:00:00\",\"2020-12-01T00:00:00\",\"2021-01-01T00:00:00\"],\"y\":[-0.015470607237892953,-0.026243517801107674,-0.016490732506491912,-0.002573341910839244,0.00870969815091227,-0.0011147788055162478,-0.005830125725788116,-0.018473221965510822,-0.0312785831263066,-0.035794136576212,-0.018870623100650907,-0.01859982870434962,-0.05347739648756089,-0.05547030670433051,-0.04650133583085847,-0.08770035140935561,-0.16673965772046317,-0.17435494783637961,-0.14747857397317488,-0.17928442092115016,-0.2186313556433529,-0.19006865759582203,-0.1497883972177212,-0.12770664453979752,-0.12499994296866113,-0.08922335062626097,-0.07022622958826208,-0.05111082069449857,-0.057722138763778075,-0.028933140426948945,-0.030667690553276783,-0.030911573850762042,-0.0175039934811535,0.0046784188298023555,0.02133111396415277,-0.003990667047046981,-0.020529928943551212,0.014096531542413082,0.0043552430904250095,0.04004304357471833,0.06094008419164543,0.05862477604646266,0.07458234400976238,0.09265207519102026,0.1087848981299504,0.10780218351236082,0.13213166136881105,0.13541099651127397,0.1227969581561994,0.1254957183918548,0.1091686942794341,0.07792237669328128,0.13020081818634854,0.12813649300932806,0.13313788810690297,0.169724321373939,0.18804306167151275,0.1969821734634707,0.2031808348578934,0.18059128770919375,0.19772869309464847,0.21321373266369759,0.2273949881534334,0.2384222125472235,0.2310582704638875,0.23669692250469998,0.23133896977840052,0.2582101435758153,0.26719308307116263,0.2855106866669568,0.3025798319330799,0.3015942748066238,0.27878097164660276,0.3135885030227037,0.2909080282925527,0.31701305330387264,0.34892691093206096,0.36104936000057886,0.365418935831747,0.36789358878230627,0.39664105102277025,0.39561470745755756,0.4049255283958857,0.4257516888960382,0.4390174314568338,0.4275372010601812,0.46100672277760313,0.44108771882307973,0.4660449507981257,0.4877795287186313,0.4809117806429428,0.49514686430112365,0.5159805412546381,0.5111541601194669,0.5144804492303843,0.5181654637193922,0.4952223461270462,0.5158998096174316,0.4766702897742572,0.4636774133894459,0.5135228203622364,0.513529721782527,0.49300190732880944,0.4770911427050528,0.4823741451622239,0.5292438822565104,0.5396197900721798,0.5501846816969338,0.5675599323436833,0.600778140581242,0.5987628027333312,0.5976850395195192,0.5774521676798183,0.581227088549753,0.5900013609782724,0.6113256840813841,0.6384369492034447,0.6351046821907891,0.6518324360725203,0.6646486729250043,0.667349886755908,0.6859169352836441,0.6961841300482061,0.7055568119643381,0.7216127769613438,0.7399346516092264,0.7459965214593105,0.7759016028702128,0.7338831134438026,0.7228806857931436,0.7171214062158988,0.7406971827460718,0.739656589754875,0.765104200610929,0.793509464575646,0.7829339939407551,0.7206717370430273,0.7378272207157568,0.683798343353867,0.7583894295375806,0.776698601820452,0.8003653701681768,0.8284593683163319,0.7975434660189054,0.855862873048935,0.8673009721009586,0.8797932005198297,0.8800261428430813,0.8999422954352454,0.9259376645176396,0.9371995759737533,0.9666037271394166,0.9184287303648251,0.7898350706706934,0.9172615420807857,0.9664224526701553,0.9886545078981106,1.055424758231919,1.1020884967479239,1.0676373138053363,1.0477685838657447,1.159124604873833,1.1934762174511824,1.188972741392163],\"marker\":{},\"line\":{},\"name\":\"40 Stock / 60 Bond\"},{\"type\":\"scatter\",\"mode\":\"lines\",\"x\":[\"2007-06-01T00:00:00\",\"2007-07-01T00:00:00\",\"2007-08-01T00:00:00\",\"2007-09-01T00:00:00\",\"2007-10-01T00:00:00\",\"2007-11-01T00:00:00\",\"2007-12-01T00:00:00\",\"2008-01-01T00:00:00\",\"2008-02-01T00:00:00\",\"2008-03-01T00:00:00\",\"2008-04-01T00:00:00\",\"2008-05-01T00:00:00\",\"2008-06-01T00:00:00\",\"2008-07-01T00:00:00\",\"2008-08-01T00:00:00\",\"2008-09-01T00:00:00\",\"2008-10-01T00:00:00\",\"2008-11-01T00:00:00\",\"2008-12-01T00:00:00\",\"2009-01-01T00:00:00\",\"2009-02-01T00:00:00\",\"2009-03-01T00:00:00\",\"2009-04-01T00:00:00\",\"2009-05-01T00:00:00\",\"2009-06-01T00:00:00\",\"2009-07-01T00:00:00\",\"2009-08-01T00:00:00\",\"2009-09-01T00:00:00\",\"2009-10-01T00:00:00\",\"2009-11-01T00:00:00\",\"2009-12-01T00:00:00\",\"2010-01-01T00:00:00\",\"2010-02-01T00:00:00\",\"2010-03-01T00:00:00\",\"2010-04-01T00:00:00\",\"2010-05-01T00:00:00\",\"2010-06-01T00:00:00\",\"2010-07-01T00:00:00\",\"2010-08-01T00:00:00\",\"2010-09-01T00:00:00\",\"2010-10-01T00:00:00\",\"2010-11-01T00:00:00\",\"2010-12-01T00:00:00\",\"2011-01-01T00:00:00\",\"2011-02-01T00:00:00\",\"2011-03-01T00:00:00\",\"2011-04-01T00:00:00\",\"2011-05-01T00:00:00\",\"2011-06-01T00:00:00\",\"2011-07-01T00:00:00\",\"2011-08-01T00:00:00\",\"2011-09-01T00:00:00\",\"2011-10-01T00:00:00\",\"2011-11-01T00:00:00\",\"2011-12-01T00:00:00\",\"2012-01-01T00:00:00\",\"2012-02-01T00:00:00\",\"2012-03-01T00:00:00\",\"2012-04-01T00:00:00\",\"2012-05-01T00:00:00\",\"2012-06-01T00:00:00\",\"2012-07-01T00:00:00\",\"2012-08-01T00:00:00\",\"2012-09-01T00:00:00\",\"2012-10-01T00:00:00\",\"2012-11-01T00:00:00\",\"2012-12-01T00:00:00\",\"2013-01-01T00:00:00\",\"2013-02-01T00:00:00\",\"2013-03-01T00:00:00\",\"2013-04-01T00:00:00\",\"2013-05-01T00:00:00\",\"2013-06-01T00:00:00\",\"2013-07-01T00:00:00\",\"2013-08-01T00:00:00\",\"2013-09-01T00:00:00\",\"2013-10-01T00:00:00\",\"2013-11-01T00:00:00\",\"2013-12-01T00:00:00\",\"2014-01-01T00:00:00\",\"2014-02-01T00:00:00\",\"2014-03-01T00:00:00\",\"2014-04-01T00:00:00\",\"2014-05-01T00:00:00\",\"2014-06-01T00:00:00\",\"2014-07-01T00:00:00\",\"2014-08-01T00:00:00\",\"2014-09-01T00:00:00\",\"2014-10-01T00:00:00\",\"2014-11-01T00:00:00\",\"2014-12-01T00:00:00\",\"2015-01-01T00:00:00\",\"2015-02-01T00:00:00\",\"2015-03-01T00:00:00\",\"2015-04-01T00:00:00\",\"2015-05-01T00:00:00\",\"2015-06-01T00:00:00\",\"2015-07-01T00:00:00\",\"2015-08-01T00:00:00\",\"2015-09-01T00:00:00\",\"2015-10-01T00:00:00\",\"2015-11-01T00:00:00\",\"2015-12-01T00:00:00\",\"2016-01-01T00:00:00\",\"2016-02-01T00:00:00\",\"2016-03-01T00:00:00\",\"2016-04-01T00:00:00\",\"2016-05-01T00:00:00\",\"2016-06-01T00:00:00\",\"2016-07-01T00:00:00\",\"2016-08-01T00:00:00\",\"2016-09-01T00:00:00\",\"2016-10-01T00:00:00\",\"2016-11-01T00:00:00\",\"2016-12-01T00:00:00\",\"2017-01-01T00:00:00\",\"2017-02-01T00:00:00\",\"2017-03-01T00:00:00\",\"2017-04-01T00:00:00\",\"2017-05-01T00:00:00\",\"2017-06-01T00:00:00\",\"2017-07-01T00:00:00\",\"2017-08-01T00:00:00\",\"2017-09-01T00:00:00\",\"2017-10-01T00:00:00\",\"2017-11-01T00:00:00\",\"2017-12-01T00:00:00\",\"2018-01-01T00:00:00\",\"2018-02-01T00:00:00\",\"2018-03-01T00:00:00\",\"2018-04-01T00:00:00\",\"2018-05-01T00:00:00\",\"2018-06-01T00:00:00\",\"2018-07-01T00:00:00\",\"2018-08-01T00:00:00\",\"2018-09-01T00:00:00\",\"2018-10-01T00:00:00\",\"2018-11-01T00:00:00\",\"2018-12-01T00:00:00\",\"2019-01-01T00:00:00\",\"2019-02-01T00:00:00\",\"2019-03-01T00:00:00\",\"2019-04-01T00:00:00\",\"2019-05-01T00:00:00\",\"2019-06-01T00:00:00\",\"2019-07-01T00:00:00\",\"2019-08-01T00:00:00\",\"2019-09-01T00:00:00\",\"2019-10-01T00:00:00\",\"2019-11-01T00:00:00\",\"2019-12-01T00:00:00\",\"2020-01-01T00:00:00\",\"2020-02-01T00:00:00\",\"2020-03-01T00:00:00\",\"2020-04-01T00:00:00\",\"2020-05-01T00:00:00\",\"2020-06-01T00:00:00\",\"2020-07-01T00:00:00\",\"2020-08-01T00:00:00\",\"2020-09-01T00:00:00\",\"2020-10-01T00:00:00\",\"2020-11-01T00:00:00\",\"2020-12-01T00:00:00\",\"2021-01-01T00:00:00\"],\"y\":[-0.013659436538996372,-0.016212282398741285,-0.004396221603937489,-0.0009280851886772634,-0.002547092485947311,0.0032217495572799404,-8.288192602468047E-05,0.009768876862633391,-0.0002798018775014288,0.0006178027746763792,0.004356549273715649,-0.008937799837547278,-0.03257476069347709,-0.021223970585593777,-0.013895052055570734,-0.0333565692399872,-0.0847833000207332,-0.07232258517312617,-0.03542637077199451,-0.061360008868283744,-0.09724218132020057,-0.0859025234946258,-0.06271695099658814,-0.053233175462917726,-0.04968477797619186,-0.03210032209378233,-0.015439866609725184,-0.0074543568354286105,-0.0024148982872892466,0.015097675439498026,0.0013995944822744466,0.01587501506828648,0.02193940268667638,0.02583466637101406,0.04017260667276146,0.039750402728754075,0.04478409968115815,0.062437483699088636,0.06864971050355395,0.07650818783669355,0.09073738966168454,0.08356545307033203,0.08078372882247908,0.09827701557453028,0.10470970779607502,0.1020551604178872,0.12636713213750195,0.1371407078217699,0.12855942472655713,0.135338794693044,0.1400177826547322,0.1333164008431058,0.1582427762021288,0.15801376931104172,0.1600414526839753,0.1879515755231469,0.19144679100777706,0.18893671882268248,0.1981628575248604,0.19581613574709222,0.20276417650078926,0.22070417558204047,0.22597091891168009,0.22922796898700737,0.22743933741455202,0.2319001275600654,0.2177167488834475,0.22638154310580405,0.23418871702233912,0.23901732252897712,0.2537746991786738,0.24121623598130992,0.22031497538777955,0.23794136378288155,0.22077692206696664,0.23608356127932706,0.2564586578666259,0.25893109512500634,0.25076012432703476,0.27073975153894514,0.28370952492135726,0.285200558981505,0.2986349674787532,0.3144173605376712,0.3163071391622625,0.3149373406387401,0.3351562487533881,0.32408005223791125,0.344065122550296,0.3562181902049979,0.35513905864896067,0.3877035549938759,0.38095874879173763,0.38314440765846225,0.37559659101232823,0.37236927136993314,0.3551404447578761,0.37395931479192046,0.35584925858355,0.35569660326148966,0.37134069313489393,0.3690713914816519,0.3554969053784378,0.37143627821397684,0.37789541614760647,0.39871353246879604,0.40986160839221863,0.4145936307279885,0.43669491312920194,0.45449791976078413,0.45174125097016726,0.44971286847940095,0.4343728269155296,0.4133798905179462,0.41809727300635346,0.4327914209693595,0.44743647422428157,0.4410995742522301,0.45311392695389774,0.4612720407914308,0.4642815078610978,0.47195144905990416,0.48333752771559846,0.4834952788736919,0.48862243922869175,0.49120205668447636,0.4908824109485763,0.4867416386727186,0.4588299355786949,0.45759629112355116,0.44430167668612897,0.4595590786125736,0.4552392138677124,0.4676711867368275,0.47747759338227413,0.46468407689594726,0.4434954066810919,0.45084614608015317,0.4390039281184779,0.48100014523773993,0.483130955497866,0.4996440018661459,0.5092067700135361,0.5110363634772002,0.5445176441835307,0.5500026228600989,0.5794699241005943,0.5801272818938963,0.5926091996164671,0.5988164336329134,0.5989438039948403,0.6254857789676713,0.6146998760307669,0.5347947692739257,0.601637800333904,0.6257717560369866,0.6322951341778134,0.6716088256972548,0.6756298620669356,0.662742649271459,0.6525554697385347,0.6993545843622075,0.7119067374514283,0.7070666143361335],\"marker\":{},\"line\":{},\"name\":\"Long + Assets\"},{\"type\":\"scatter\",\"mode\":\"lines\",\"x\":[\"2007-06-01T00:00:00\",\"2007-07-01T00:00:00\",\"2007-08-01T00:00:00\",\"2007-09-01T00:00:00\",\"2007-10-01T00:00:00\",\"2007-11-01T00:00:00\",\"2007-12-01T00:00:00\",\"2008-01-01T00:00:00\",\"2008-02-01T00:00:00\",\"2008-03-01T00:00:00\",\"2008-04-01T00:00:00\",\"2008-05-01T00:00:00\",\"2008-06-01T00:00:00\",\"2008-07-01T00:00:00\",\"2008-08-01T00:00:00\",\"2008-09-01T00:00:00\",\"2008-10-01T00:00:00\",\"2008-11-01T00:00:00\",\"2008-12-01T00:00:00\",\"2009-01-01T00:00:00\",\"2009-02-01T00:00:00\",\"2009-03-01T00:00:00\",\"2009-04-01T00:00:00\",\"2009-05-01T00:00:00\",\"2009-06-01T00:00:00\",\"2009-07-01T00:00:00\",\"2009-08-01T00:00:00\",\"2009-09-01T00:00:00\",\"2009-10-01T00:00:00\",\"2009-11-01T00:00:00\",\"2009-12-01T00:00:00\",\"2010-01-01T00:00:00\",\"2010-02-01T00:00:00\",\"2010-03-01T00:00:00\",\"2010-04-01T00:00:00\",\"2010-05-01T00:00:00\",\"2010-06-01T00:00:00\",\"2010-07-01T00:00:00\",\"2010-08-01T00:00:00\",\"2010-09-01T00:00:00\",\"2010-10-01T00:00:00\",\"2010-11-01T00:00:00\",\"2010-12-01T00:00:00\",\"2011-01-01T00:00:00\",\"2011-02-01T00:00:00\",\"2011-03-01T00:00:00\",\"2011-04-01T00:00:00\",\"2011-05-01T00:00:00\",\"2011-06-01T00:00:00\",\"2011-07-01T00:00:00\",\"2011-08-01T00:00:00\",\"2011-09-01T00:00:00\",\"2011-10-01T00:00:00\",\"2011-11-01T00:00:00\",\"2011-12-01T00:00:00\",\"2012-01-01T00:00:00\",\"2012-02-01T00:00:00\",\"2012-03-01T00:00:00\",\"2012-04-01T00:00:00\",\"2012-05-01T00:00:00\",\"2012-06-01T00:00:00\",\"2012-07-01T00:00:00\",\"2012-08-01T00:00:00\",\"2012-09-01T00:00:00\",\"2012-10-01T00:00:00\",\"2012-11-01T00:00:00\",\"2012-12-01T00:00:00\",\"2013-01-01T00:00:00\",\"2013-02-01T00:00:00\",\"2013-03-01T00:00:00\",\"2013-04-01T00:00:00\",\"2013-05-01T00:00:00\",\"2013-06-01T00:00:00\",\"2013-07-01T00:00:00\",\"2013-08-01T00:00:00\",\"2013-09-01T00:00:00\",\"2013-10-01T00:00:00\",\"2013-11-01T00:00:00\",\"2013-12-01T00:00:00\",\"2014-01-01T00:00:00\",\"2014-02-01T00:00:00\",\"2014-03-01T00:00:00\",\"2014-04-01T00:00:00\",\"2014-05-01T00:00:00\",\"2014-06-01T00:00:00\",\"2014-07-01T00:00:00\",\"2014-08-01T00:00:00\",\"2014-09-01T00:00:00\",\"2014-10-01T00:00:00\",\"2014-11-01T00:00:00\",\"2014-12-01T00:00:00\",\"2015-01-01T00:00:00\",\"2015-02-01T00:00:00\",\"2015-03-01T00:00:00\",\"2015-04-01T00:00:00\",\"2015-05-01T00:00:00\",\"2015-06-01T00:00:00\",\"2015-07-01T00:00:00\",\"2015-08-01T00:00:00\",\"2015-09-01T00:00:00\",\"2015-10-01T00:00:00\",\"2015-11-01T00:00:00\",\"2015-12-01T00:00:00\",\"2016-01-01T00:00:00\",\"2016-02-01T00:00:00\",\"2016-03-01T00:00:00\",\"2016-04-01T00:00:00\",\"2016-05-01T00:00:00\",\"2016-06-01T00:00:00\",\"2016-07-01T00:00:00\",\"2016-08-01T00:00:00\",\"2016-09-01T00:00:00\",\"2016-10-01T00:00:00\",\"2016-11-01T00:00:00\",\"2016-12-01T00:00:00\",\"2017-01-01T00:00:00\",\"2017-02-01T00:00:00\",\"2017-03-01T00:00:00\",\"2017-04-01T00:00:00\",\"2017-05-01T00:00:00\",\"2017-06-01T00:00:00\",\"2017-07-01T00:00:00\",\"2017-08-01T00:00:00\",\"2017-09-01T00:00:00\",\"2017-10-01T00:00:00\",\"2017-11-01T00:00:00\",\"2017-12-01T00:00:00\",\"2018-01-01T00:00:00\",\"2018-02-01T00:00:00\",\"2018-03-01T00:00:00\",\"2018-04-01T00:00:00\",\"2018-05-01T00:00:00\",\"2018-06-01T00:00:00\",\"2018-07-01T00:00:00\",\"2018-08-01T00:00:00\",\"2018-09-01T00:00:00\",\"2018-10-01T00:00:00\",\"2018-11-01T00:00:00\",\"2018-12-01T00:00:00\",\"2019-01-01T00:00:00\",\"2019-02-01T00:00:00\",\"2019-03-01T00:00:00\",\"2019-04-01T00:00:00\",\"2019-05-01T00:00:00\",\"2019-06-01T00:00:00\",\"2019-07-01T00:00:00\",\"2019-08-01T00:00:00\",\"2019-09-01T00:00:00\",\"2019-10-01T00:00:00\",\"2019-11-01T00:00:00\",\"2019-12-01T00:00:00\",\"2020-01-01T00:00:00\",\"2020-02-01T00:00:00\",\"2020-03-01T00:00:00\",\"2020-04-01T00:00:00\",\"2020-05-01T00:00:00\",\"2020-06-01T00:00:00\",\"2020-07-01T00:00:00\",\"2020-08-01T00:00:00\",\"2020-09-01T00:00:00\",\"2020-10-01T00:00:00\",\"2020-11-01T00:00:00\",\"2020-12-01T00:00:00\",\"2021-01-01T00:00:00\"],\"y\":[-0.010477422285063875,-0.0102145453711745,-0.004525738029779847,0.0035721451128920556,0.02343207521799817,0.032435504489745526,0.03585775306318162,0.04217225940612068,0.035077691915841314,0.030328711920753593,0.04131519556206387,0.04489669602541113,0.040321337980147476,0.019750038219005894,0.0296662759258719,0.016793736163713602,-0.004981228547795258,0.012983017268747954,0.0374996888581991,0.023438548617581878,0.020095681561681733,0.03604677186051486,0.05097751106430137,0.055281954484929896,0.06815441106586717,0.09606799875903227,0.107205686250196,0.12294868069942977,0.10885028622880033,0.13108684074324972,0.12495554843117551,0.13205164728490248,0.13907267402691725,0.15027983216717522,0.16399331716863652,0.15165709451448572,0.14050994326766753,0.16116728944543723,0.16038893357931094,0.18297301268436983,0.1898710413671072,0.1875231566675295,0.18744780647302917,0.19314108401729713,0.1960211745548841,0.1923207716487727,0.19940998438992397,0.20844792248704236,0.2023477240500442,0.2232812604660901,0.23263963873574722,0.2391126829057586,0.24430178570633876,0.24137294703115297,0.2587343658369188,0.26376353832807187,0.27744258565831803,0.2869501899179163,0.2986964394253193,0.30320579364495814,0.31699212351020734,0.3273972782762409,0.3287287915642416,0.33734188873048376,0.3325204005584492,0.32985492269502026,0.3195527000891194,0.322863239311979,0.33102777688100105,0.3445835815826397,0.358126776150433,0.35191063916886645,0.3353082643574863,0.34962772430191147,0.33825446174263574,0.3472685226872745,0.3664706906909512,0.369401043149012,0.367190823394568,0.37797012170908517,0.38778476913610027,0.38635774318021565,0.39234495032082517,0.40842992553640434,0.4151308778868008,0.40495141273839264,0.4180236842284113,0.40802520430696565,0.4220831097559474,0.43693090173972937,0.42493605187217387,0.4426803421882526,0.43965624508796286,0.4331458817789562,0.4491543194057728,0.44510832229205843,0.4266466135054534,0.44631472687486284,0.4337119609054332,0.4464707989360801,0.4792128527212238,0.4766619436750106,0.47444507749485476,0.4753039616409229,0.47801590980679265,0.5047892422307008,0.5021361690957789,0.5080514361124673,0.5249710131294776,0.5424420117112427,0.534930864285635,0.5309016850378785,0.5264974351238434,0.5249656087207459,0.5282317640526697,0.527210630379239,0.5443984137233597,0.5483047597990982,0.5624808108317514,0.5653505149200153,0.5628299827236807,0.57180308913435,0.5774419513952456,0.5693301533919708,0.5752703553781646,0.58023700978111,0.5893052945346504,0.6047256562731176,0.5864709870384841,0.5846756734478595,0.5871362638461408,0.5916246073059814,0.5983239412851102,0.6001056674012615,0.6176514633390673,0.6170349018252723,0.5878921009040057,0.5890536978728542,0.5825916230555801,0.6128011962616302,0.6177670594818532,0.643564137197995,0.6545838963959394,0.661401700699678,0.6696391466187619,0.6787190499418083,0.704901555402357,0.6934212206854253,0.6877164918469858,0.6889519016154817,0.6867218055932174,0.7302333144213766,0.728127091818656,0.7403816615989061,0.7952115584438237,0.7985883375084706,0.8190140642536632,0.8450706587537671,0.870827875835916,0.8473204188544798,0.8445785550227389,0.852715717949283,0.8526447362202105,0.8492421001774086],\"marker\":{},\"line\":{},\"name\":\"Long-Short + Assets\"}];\r\n",
       "            var layout = {\"width\":600,\"height\":600,\"template\":{\"layout\":{\"title\":{\"x\":0.05},\"font\":{\"color\":\"rgba(42, 63, 95, 1.0)\"},\"paper_bgcolor\":\"rgba(255, 255, 255, 1.0)\",\"plot_bgcolor\":\"rgba(229, 236, 246, 1.0)\",\"autotypenumbers\":\"strict\",\"colorscale\":{\"diverging\":[[0.0,\"#8e0152\"],[0.1,\"#c51b7d\"],[0.2,\"#de77ae\"],[0.3,\"#f1b6da\"],[0.4,\"#fde0ef\"],[0.5,\"#f7f7f7\"],[0.6,\"#e6f5d0\"],[0.7,\"#b8e186\"],[0.8,\"#7fbc41\"],[0.9,\"#4d9221\"],[1.0,\"#276419\"]],\"sequential\":[[0.0,\"#0d0887\"],[0.1111111111111111,\"#46039f\"],[0.2222222222222222,\"#7201a8\"],[0.3333333333333333,\"#9c179e\"],[0.4444444444444444,\"#bd3786\"],[0.5555555555555556,\"#d8576b\"],[0.6666666666666666,\"#ed7953\"],[0.7777777777777778,\"#fb9f3a\"],[0.8888888888888888,\"#fdca26\"],[1.0,\"#f0f921\"]],\"sequentialminus\":[[0.0,\"#0d0887\"],[0.1111111111111111,\"#46039f\"],[0.2222222222222222,\"#7201a8\"],[0.3333333333333333,\"#9c179e\"],[0.4444444444444444,\"#bd3786\"],[0.5555555555555556,\"#d8576b\"],[0.6666666666666666,\"#ed7953\"],[0.7777777777777778,\"#fb9f3a\"],[0.8888888888888888,\"#fdca26\"],[1.0,\"#f0f921\"]]},\"hovermode\":\"closest\",\"hoverlabel\":{\"align\":\"left\"},\"coloraxis\":{\"colorbar\":{\"outlinewidth\":0.0,\"ticks\":\"\"}},\"geo\":{\"showland\":true,\"landcolor\":\"rgba(229, 236, 246, 1.0)\",\"showlakes\":true,\"lakecolor\":\"rgba(255, 255, 255, 1.0)\",\"subunitcolor\":\"rgba(255, 255, 255, 1.0)\",\"bgcolor\":\"rgba(255, 255, 255, 1.0)\"},\"mapbox\":{\"style\":\"light\"},\"polar\":{\"bgcolor\":\"rgba(229, 236, 246, 1.0)\",\"radialaxis\":{\"linecolor\":\"rgba(255, 255, 255, 1.0)\",\"gridcolor\":\"rgba(255, 255, 255, 1.0)\",\"ticks\":\"\"},\"angularaxis\":{\"linecolor\":\"rgba(255, 255, 255, 1.0)\",\"gridcolor\":\"rgba(255, 255, 255, 1.0)\",\"ticks\":\"\"}},\"scene\":{\"xaxis\":{\"ticks\":\"\",\"linecolor\":\"rgba(255, 255, 255, 1.0)\",\"gridcolor\":\"rgba(255, 255, 255, 1.0)\",\"gridwidth\":2.0,\"zerolinecolor\":\"rgba(255, 255, 255, 1.0)\",\"backgroundcolor\":\"rgba(229, 236, 246, 1.0)\",\"showbackground\":true},\"yaxis\":{\"ticks\":\"\",\"linecolor\":\"rgba(255, 255, 255, 1.0)\",\"gridcolor\":\"rgba(255, 255, 255, 1.0)\",\"gridwidth\":2.0,\"zerolinecolor\":\"rgba(255, 255, 255, 1.0)\",\"backgroundcolor\":\"rgba(229, 236, 246, 1.0)\",\"showbackground\":true},\"zaxis\":{\"ticks\":\"\",\"linecolor\":\"rgba(255, 255, 255, 1.0)\",\"gridcolor\":\"rgba(255, 255, 255, 1.0)\",\"gridwidth\":2.0,\"zerolinecolor\":\"rgba(255, 255, 255, 1.0)\",\"backgroundcolor\":\"rgba(229, 236, 246, 1.0)\",\"showbackground\":true}},\"ternary\":{\"aaxis\":{\"ticks\":\"\",\"linecolor\":\"rgba(255, 255, 255, 1.0)\",\"gridcolor\":\"rgba(255, 255, 255, 1.0)\"},\"baxis\":{\"ticks\":\"\",\"linecolor\":\"rgba(255, 255, 255, 1.0)\",\"gridcolor\":\"rgba(255, 255, 255, 1.0)\"},\"caxis\":{\"ticks\":\"\",\"linecolor\":\"rgba(255, 255, 255, 1.0)\",\"gridcolor\":\"rgba(255, 255, 255, 1.0)\"},\"bgcolor\":\"rgba(229, 236, 246, 1.0)\"},\"xaxis\":{\"title\":{\"standoff\":15},\"ticks\":\"\",\"automargin\":true,\"linecolor\":\"rgba(255, 255, 255, 1.0)\",\"gridcolor\":\"rgba(255, 255, 255, 1.0)\",\"zerolinecolor\":\"rgba(255, 255, 255, 1.0)\",\"zerolinewidth\":2.0},\"yaxis\":{\"title\":{\"standoff\":15},\"ticks\":\"\",\"automargin\":true,\"linecolor\":\"rgba(255, 255, 255, 1.0)\",\"gridcolor\":\"rgba(255, 255, 255, 1.0)\",\"zerolinecolor\":\"rgba(255, 255, 255, 1.0)\",\"zerolinewidth\":2.0},\"annotationdefaults\":{\"arrowcolor\":\"#2a3f5f\",\"arrowhead\":0,\"arrowwidth\":1},\"shapedefaults\":{\"line\":{\"color\":\"rgba(42, 63, 95, 1.0)\"}},\"colorway\":[\"rgba(99, 110, 250, 1.0)\",\"rgba(239, 85, 59, 1.0)\",\"rgba(0, 204, 150, 1.0)\",\"rgba(171, 99, 250, 1.0)\",\"rgba(255, 161, 90, 1.0)\",\"rgba(25, 211, 243, 1.0)\",\"rgba(255, 102, 146, 1.0)\",\"rgba(182, 232, 128, 1.0)\",\"rgba(255, 151, 255, 1.0)\",\"rgba(254, 203, 82, 1.0)\"]},\"data\":{\"bar\":[{\"marker\":{\"line\":{\"color\":\"rgba(229, 236, 246, 1.0)\",\"width\":0.5},\"pattern\":{\"fillmode\":\"overlay\",\"size\":10,\"solidity\":0.2}},\"error_x\":{\"color\":\"rgba(42, 63, 95, 1.0)\"},\"error_y\":{\"color\":\"rgba(42, 63, 95, 1.0)\"}}],\"barpolar\":[{\"marker\":{\"line\":{\"color\":\"rgba(229, 236, 246, 1.0)\",\"width\":0.5},\"pattern\":{\"fillmode\":\"overlay\",\"size\":10,\"solidity\":0.2}}}],\"carpet\":[{\"aaxis\":{\"linecolor\":\"rgba(255, 255, 255, 1.0)\",\"gridcolor\":\"rgba(255, 255, 255, 1.0)\",\"endlinecolor\":\"rgba(42, 63, 95, 1.0)\",\"minorgridcolor\":\"rgba(255, 255, 255, 1.0)\",\"startlinecolor\":\"rgba(42, 63, 95, 1.0)\"},\"baxis\":{\"linecolor\":\"rgba(255, 255, 255, 1.0)\",\"gridcolor\":\"rgba(255, 255, 255, 1.0)\",\"endlinecolor\":\"rgba(42, 63, 95, 1.0)\",\"minorgridcolor\":\"rgba(255, 255, 255, 1.0)\",\"startlinecolor\":\"rgba(42, 63, 95, 1.0)\"}}],\"choropleth\":[{\"colorbar\":{\"outlinewidth\":0.0,\"ticks\":\"\"},\"colorscale\":[[0.0,\"#0d0887\"],[0.1111111111111111,\"#46039f\"],[0.2222222222222222,\"#7201a8\"],[0.3333333333333333,\"#9c179e\"],[0.4444444444444444,\"#bd3786\"],[0.5555555555555556,\"#d8576b\"],[0.6666666666666666,\"#ed7953\"],[0.7777777777777778,\"#fb9f3a\"],[0.8888888888888888,\"#fdca26\"],[1.0,\"#f0f921\"]]}],\"contour\":[{\"colorbar\":{\"outlinewidth\":0.0,\"ticks\":\"\"},\"colorscale\":[[0.0,\"#0d0887\"],[0.1111111111111111,\"#46039f\"],[0.2222222222222222,\"#7201a8\"],[0.3333333333333333,\"#9c179e\"],[0.4444444444444444,\"#bd3786\"],[0.5555555555555556,\"#d8576b\"],[0.6666666666666666,\"#ed7953\"],[0.7777777777777778,\"#fb9f3a\"],[0.8888888888888888,\"#fdca26\"],[1.0,\"#f0f921\"]]}],\"contourcarpet\":[{\"colorbar\":{\"outlinewidth\":0.0,\"ticks\":\"\"}}],\"heatmap\":[{\"colorbar\":{\"outlinewidth\":0.0,\"ticks\":\"\"},\"colorscale\":[[0.0,\"#0d0887\"],[0.1111111111111111,\"#46039f\"],[0.2222222222222222,\"#7201a8\"],[0.3333333333333333,\"#9c179e\"],[0.4444444444444444,\"#bd3786\"],[0.5555555555555556,\"#d8576b\"],[0.6666666666666666,\"#ed7953\"],[0.7777777777777778,\"#fb9f3a\"],[0.8888888888888888,\"#fdca26\"],[1.0,\"#f0f921\"]]}],\"heatmapgl\":[{\"colorbar\":{\"outlinewidth\":0.0,\"ticks\":\"\"},\"colorscale\":[[0.0,\"#0d0887\"],[0.1111111111111111,\"#46039f\"],[0.2222222222222222,\"#7201a8\"],[0.3333333333333333,\"#9c179e\"],[0.4444444444444444,\"#bd3786\"],[0.5555555555555556,\"#d8576b\"],[0.6666666666666666,\"#ed7953\"],[0.7777777777777778,\"#fb9f3a\"],[0.8888888888888888,\"#fdca26\"],[1.0,\"#f0f921\"]]}],\"histogram\":[{\"marker\":{\"pattern\":{\"fillmode\":\"overlay\",\"size\":10,\"solidity\":0.2}}}],\"histogram2d\":[{\"colorbar\":{\"outlinewidth\":0.0,\"ticks\":\"\"},\"colorscale\":[[0.0,\"#0d0887\"],[0.1111111111111111,\"#46039f\"],[0.2222222222222222,\"#7201a8\"],[0.3333333333333333,\"#9c179e\"],[0.4444444444444444,\"#bd3786\"],[0.5555555555555556,\"#d8576b\"],[0.6666666666666666,\"#ed7953\"],[0.7777777777777778,\"#fb9f3a\"],[0.8888888888888888,\"#fdca26\"],[1.0,\"#f0f921\"]]}],\"histogram2dcontour\":[{\"colorbar\":{\"outlinewidth\":0.0,\"ticks\":\"\"},\"colorscale\":[[0.0,\"#0d0887\"],[0.1111111111111111,\"#46039f\"],[0.2222222222222222,\"#7201a8\"],[0.3333333333333333,\"#9c179e\"],[0.4444444444444444,\"#bd3786\"],[0.5555555555555556,\"#d8576b\"],[0.6666666666666666,\"#ed7953\"],[0.7777777777777778,\"#fb9f3a\"],[0.8888888888888888,\"#fdca26\"],[1.0,\"#f0f921\"]]}],\"mesh3d\":[{\"colorbar\":{\"outlinewidth\":0.0,\"ticks\":\"\"}}],\"parcoords\":[{\"line\":{\"colorbar\":{\"outlinewidth\":0.0,\"ticks\":\"\"}}}],\"pie\":[{\"automargin\":true}],\"scatter\":[{\"marker\":{\"colorbar\":{\"outlinewidth\":0.0,\"ticks\":\"\"}}}],\"scatter3d\":[{\"marker\":{\"colorbar\":{\"outlinewidth\":0.0,\"ticks\":\"\"}},\"line\":{\"colorbar\":{\"outlinewidth\":0.0,\"ticks\":\"\"}}}],\"scattercarpet\":[{\"marker\":{\"colorbar\":{\"outlinewidth\":0.0,\"ticks\":\"\"}}}],\"scattergeo\":[{\"marker\":{\"colorbar\":{\"outlinewidth\":0.0,\"ticks\":\"\"}}}],\"scattergl\":[{\"marker\":{\"colorbar\":{\"outlinewidth\":0.0,\"ticks\":\"\"}}}],\"scattermapbox\":[{\"marker\":{\"colorbar\":{\"outlinewidth\":0.0,\"ticks\":\"\"}}}],\"scatterpolar\":[{\"marker\":{\"colorbar\":{\"outlinewidth\":0.0,\"ticks\":\"\"}}}],\"scatterpolargl\":[{\"marker\":{\"colorbar\":{\"outlinewidth\":0.0,\"ticks\":\"\"}}}],\"scatterternary\":[{\"marker\":{\"colorbar\":{\"outlinewidth\":0.0,\"ticks\":\"\"}}}],\"surface\":[{\"colorbar\":{\"outlinewidth\":0.0,\"ticks\":\"\"},\"colorscale\":[[0.0,\"#0d0887\"],[0.1111111111111111,\"#46039f\"],[0.2222222222222222,\"#7201a8\"],[0.3333333333333333,\"#9c179e\"],[0.4444444444444444,\"#bd3786\"],[0.5555555555555556,\"#d8576b\"],[0.6666666666666666,\"#ed7953\"],[0.7777777777777778,\"#fb9f3a\"],[0.8888888888888888,\"#fdca26\"],[1.0,\"#f0f921\"]]}],\"table\":[{\"cells\":{\"fill\":{\"color\":\"rgba(235, 240, 248, 1.0)\"},\"line\":{\"color\":\"rgba(255, 255, 255, 1.0)\"}},\"header\":{\"fill\":{\"color\":\"rgba(200, 212, 227, 1.0)\"},\"line\":{\"color\":\"rgba(255, 255, 255, 1.0)\"}}}]}},\"xaxis\":{\"title\":{\"text\":\"Year\"}},\"yaxis\":{\"title\":{\"text\":\"Cumulative Return\"}}};\r\n",
       "            var config = {\"responsive\":true};\r\n",
       "            Plotly.newPlot('18442a42-ea53-4605-8018-5b032127d257', data, layout, config);\n",
       "});\r\n",
       "            };\r\n",
       "            if ((typeof(requirejs) !==  typeof(Function)) || (typeof(requirejs.config) !== typeof(Function))) {\r\n",
       "                var script = document.createElement(\"script\");\r\n",
       "                script.setAttribute(\"src\", \"https://cdnjs.cloudflare.com/ajax/libs/require.js/2.3.6/require.min.js\");\r\n",
       "                script.onload = function(){\r\n",
       "                    renderPlotly_18442a42ea53460580185b032127d257();\r\n",
       "                };\r\n",
       "                document.getElementsByTagName(\"head\")[0].appendChild(script);\r\n",
       "            }\r\n",
       "            else {\r\n",
       "                renderPlotly_18442a42ea53460580185b032127d257();\r\n",
       "            }\n",
       "</script>\n",
       "\n",
       "    \n",
       "</div>    \n"
      ]
     },
     "metadata": {},
     "output_type": "display_data"
    }
   ],
   "source": [
    "let p6040 =\n",
    "    portVTI_BND\n",
    "    |> makeCumulativeChartdf\n",
    "    |> Chart.withXAxisStyle \"Year\"\n",
    "    |> Chart.withYAxisStyle \"Cumulative Return\"\n",
    "    |> Chart.withTraceInfo(Name = $\"60 Stock / 40 Bond\")\n",
    "\n",
    "let p4060 =\n",
    "    portVTI_BND_Inv\n",
    "    |> makeCumulativeChartdf\n",
    "    |> Chart.withXAxisStyle \"Year\"\n",
    "    |> Chart.withYAxisStyle \"Cumulative Return\"\n",
    "    |> Chart.withTraceInfo(Name = $\"40 Stock / 60 Bond\")\n",
    "    \n",
    "let longCum =\n",
    "    portMveLong\n",
    "    |> makeCumulativeChartdf\n",
    "    |> Chart.withXAxisStyle \"Year\"\n",
    "    |> Chart.withYAxisStyle \"Cumulative Return\"\n",
    "    |> Chart.withTraceInfo(Name = $\"Long + Assets\")  \n",
    "\n",
    "let longShortCum =\n",
    "    portMveLongShort\n",
    "    |> makeCumulativeChartdf\n",
    "    |> Chart.withXAxisStyle \"Year\"\n",
    "    |> Chart.withYAxisStyle \"Cumulative Return\"\n",
    "    |> Chart.withTraceInfo(Name = $\"Long-Short + Assets\")\n",
    "    \n",
    "let combinedChart =\n",
    "    [p6040; p4060; longCum; longShortCum]\n",
    "    |> Chart.combine\n",
    "    \n",
    "combinedChart"
   ]
  },
  {
   "cell_type": "code",
   "execution_count": 40,
   "metadata": {
    "dotnet_interactive": {
     "language": "fsharp"
    },
    "polyglot_notebook": {
     "kernelName": "fsharp"
    },
    "vscode": {
     "languageId": "polyglot-notebook"
    }
   },
   "outputs": [
    {
     "data": {
      "text/html": [
       "\n",
       "<div>\n",
       "    <div id=\"2257821c-9464-4e73-bc68-a42d42e1ffd0\"><!-- Plotly chart will be drawn inside this DIV --></div>\n",
       "<script type=\"text/javascript\">\n",
       "\r\n",
       "            var renderPlotly_2257821c94644e73bc68a42d42e1ffd0 = function() {\r\n",
       "            var fsharpPlotlyRequire = requirejs.config({context:'fsharp-plotly',paths:{plotly:'https://cdn.plot.ly/plotly-2.6.3.min'}}) || require;\r\n",
       "            fsharpPlotlyRequire(['plotly'], function(Plotly) {\n",
       "\r\n",
       "            var data = [{\"type\":\"scatter\",\"mode\":\"lines\",\"x\":[\"2007-06-01T00:00:00\",\"2007-07-01T00:00:00\",\"2007-08-01T00:00:00\",\"2007-09-01T00:00:00\",\"2007-10-01T00:00:00\",\"2007-11-01T00:00:00\",\"2007-12-01T00:00:00\",\"2008-01-01T00:00:00\",\"2008-02-01T00:00:00\",\"2008-03-01T00:00:00\",\"2008-04-01T00:00:00\",\"2008-05-01T00:00:00\",\"2008-06-01T00:00:00\",\"2008-07-01T00:00:00\",\"2008-08-01T00:00:00\",\"2008-09-01T00:00:00\",\"2008-10-01T00:00:00\",\"2008-11-01T00:00:00\",\"2008-12-01T00:00:00\",\"2009-01-01T00:00:00\",\"2009-02-01T00:00:00\",\"2009-03-01T00:00:00\",\"2009-04-01T00:00:00\",\"2009-05-01T00:00:00\",\"2009-06-01T00:00:00\",\"2009-07-01T00:00:00\",\"2009-08-01T00:00:00\",\"2009-09-01T00:00:00\",\"2009-10-01T00:00:00\",\"2009-11-01T00:00:00\",\"2009-12-01T00:00:00\",\"2010-01-01T00:00:00\",\"2010-02-01T00:00:00\",\"2010-03-01T00:00:00\",\"2010-04-01T00:00:00\",\"2010-05-01T00:00:00\",\"2010-06-01T00:00:00\",\"2010-07-01T00:00:00\",\"2010-08-01T00:00:00\",\"2010-09-01T00:00:00\",\"2010-10-01T00:00:00\",\"2010-11-01T00:00:00\",\"2010-12-01T00:00:00\",\"2011-01-01T00:00:00\",\"2011-02-01T00:00:00\",\"2011-03-01T00:00:00\",\"2011-04-01T00:00:00\",\"2011-05-01T00:00:00\",\"2011-06-01T00:00:00\",\"2011-07-01T00:00:00\",\"2011-08-01T00:00:00\",\"2011-09-01T00:00:00\",\"2011-10-01T00:00:00\",\"2011-11-01T00:00:00\",\"2011-12-01T00:00:00\",\"2012-01-01T00:00:00\",\"2012-02-01T00:00:00\",\"2012-03-01T00:00:00\",\"2012-04-01T00:00:00\",\"2012-05-01T00:00:00\",\"2012-06-01T00:00:00\",\"2012-07-01T00:00:00\",\"2012-08-01T00:00:00\",\"2012-09-01T00:00:00\",\"2012-10-01T00:00:00\",\"2012-11-01T00:00:00\",\"2012-12-01T00:00:00\",\"2013-01-01T00:00:00\",\"2013-02-01T00:00:00\",\"2013-03-01T00:00:00\",\"2013-04-01T00:00:00\",\"2013-05-01T00:00:00\",\"2013-06-01T00:00:00\",\"2013-07-01T00:00:00\",\"2013-08-01T00:00:00\",\"2013-09-01T00:00:00\",\"2013-10-01T00:00:00\",\"2013-11-01T00:00:00\",\"2013-12-01T00:00:00\",\"2014-01-01T00:00:00\",\"2014-02-01T00:00:00\",\"2014-03-01T00:00:00\",\"2014-04-01T00:00:00\",\"2014-05-01T00:00:00\",\"2014-06-01T00:00:00\",\"2014-07-01T00:00:00\",\"2014-08-01T00:00:00\",\"2014-09-01T00:00:00\",\"2014-10-01T00:00:00\",\"2014-11-01T00:00:00\",\"2014-12-01T00:00:00\",\"2015-01-01T00:00:00\",\"2015-02-01T00:00:00\",\"2015-03-01T00:00:00\",\"2015-04-01T00:00:00\",\"2015-05-01T00:00:00\",\"2015-06-01T00:00:00\",\"2015-07-01T00:00:00\",\"2015-08-01T00:00:00\",\"2015-09-01T00:00:00\",\"2015-10-01T00:00:00\",\"2015-11-01T00:00:00\",\"2015-12-01T00:00:00\",\"2016-01-01T00:00:00\",\"2016-02-01T00:00:00\",\"2016-03-01T00:00:00\",\"2016-04-01T00:00:00\",\"2016-05-01T00:00:00\",\"2016-06-01T00:00:00\",\"2016-07-01T00:00:00\",\"2016-08-01T00:00:00\",\"2016-09-01T00:00:00\",\"2016-10-01T00:00:00\",\"2016-11-01T00:00:00\",\"2016-12-01T00:00:00\",\"2017-01-01T00:00:00\",\"2017-02-01T00:00:00\",\"2017-03-01T00:00:00\",\"2017-04-01T00:00:00\",\"2017-05-01T00:00:00\",\"2017-06-01T00:00:00\",\"2017-07-01T00:00:00\",\"2017-08-01T00:00:00\",\"2017-09-01T00:00:00\",\"2017-10-01T00:00:00\",\"2017-11-01T00:00:00\",\"2017-12-01T00:00:00\",\"2018-01-01T00:00:00\",\"2018-02-01T00:00:00\",\"2018-03-01T00:00:00\",\"2018-04-01T00:00:00\",\"2018-05-01T00:00:00\",\"2018-06-01T00:00:00\",\"2018-07-01T00:00:00\",\"2018-08-01T00:00:00\",\"2018-09-01T00:00:00\",\"2018-10-01T00:00:00\",\"2018-11-01T00:00:00\",\"2018-12-01T00:00:00\",\"2019-01-01T00:00:00\",\"2019-02-01T00:00:00\",\"2019-03-01T00:00:00\",\"2019-04-01T00:00:00\",\"2019-05-01T00:00:00\",\"2019-06-01T00:00:00\",\"2019-07-01T00:00:00\",\"2019-08-01T00:00:00\",\"2019-09-01T00:00:00\",\"2019-10-01T00:00:00\",\"2019-11-01T00:00:00\",\"2019-12-01T00:00:00\",\"2020-01-01T00:00:00\",\"2020-02-01T00:00:00\",\"2020-03-01T00:00:00\",\"2020-04-01T00:00:00\",\"2020-05-01T00:00:00\",\"2020-06-01T00:00:00\",\"2020-07-01T00:00:00\",\"2020-08-01T00:00:00\",\"2020-09-01T00:00:00\",\"2020-10-01T00:00:00\",\"2020-11-01T00:00:00\",\"2020-12-01T00:00:00\",\"2021-01-01T00:00:00\"],\"y\":[-0.018544394298664835,-0.03715067377944947,-0.027463773529439406,-0.008512078821852231,0.005102567726676943,-0.017443761527835222,-0.025337518744890764,-0.05235574968612522,-0.06869842310164076,-0.07623778859382457,-0.049747920003516466,-0.04382819343521516,-0.09369084846227127,-0.09585387954569657,-0.08623630686344597,-0.14185590310007357,-0.2393120182266253,-0.26404977756413883,-0.2458596544706675,-0.2826351029940858,-0.33018583403827817,-0.2974968059442209,-0.24728752438681711,-0.2208630560934577,-0.2196284010213223,-0.17736786894723455,-0.156035162405885,-0.13446936954333633,-0.14466386187944102,-0.11141175151721505,-0.1060117987449054,-0.11485148480058849,-0.09675408063361923,-0.06557068081613748,-0.047435814853249214,-0.08776023166675673,-0.11668060446380613,-0.07420553901259408,-0.09446116140974714,-0.046748988235563504,-0.01982808774209821,-0.019621238356023696,0.010718255583967995,0.030518300410679933,0.0530592832024086,0.05240973462284315,0.07916911745588973,0.07745767958840322,0.061707418106038414,0.05691871532371229,0.025587639557790753,-0.020673859157775643,0.04918471080802855,0.0466319516989977,0.05108851904879086,0.09306825617953862,0.1195342618678954,0.1347726638913418,0.1378578080048769,0.10041282199736656,0.12369467341775287,0.1383989505112193,0.15726094681284675,0.17167395869075786,0.16192329249419668,0.16835478177256524,0.16709387344042614,0.20769811847573338,0.21847664401197586,0.24403306956030013,0.2633943885852368,0.27293334688471704,0.2502741303291538,0.29840691079664805,0.27067341479185125,0.301821568951542,0.34306135759054923,0.36296943163413187,0.37570542023526965,0.3652995735862361,0.4060876476004518,0.40573990027747553,0.41422879727278294,0.43783121194414454,0.45706026903527386,0.44177120503354295,0.48375266886056467,0.4580054106465994,0.4900792435211969,0.5168062536063251,0.5093814983658846,0.507888420209162,0.5502501747693818,0.5387082156528618,0.5464465851237374,0.5555340970852927,0.5293132342892004,0.5540107757346444,0.4963359291511673,0.4708327408129187,0.5448202467547729,0.5478818725328256,0.5203466211726409,0.4836482293327702,0.4869964334681267,0.5502535148123633,0.5628982481280931,0.5788409051876624,0.5895230861927523,0.6348282216892274,0.634476272222076,0.6320995314567974,0.6091546535296002,0.6354415328973206,0.6485498175223761,0.6764302504223554,0.7151947183688976,0.7105006845185842,0.7303067356699158,0.7445731737958561,0.7488772502695986,0.7748389180472119,0.782309257154024,0.8000124195837748,0.8261172841635247,0.85666661606898,0.86445944738754,0.9200567711096939,0.8656551652221867,0.8426787911731171,0.8429754495281361,0.8753155560587507,0.8754323718639225,0.9157221011582113,0.9566811250234695,0.9463095833914872,0.8556394368683826,0.8790349520629923,0.7792345557208493,0.8837164613494899,0.9176025789289401,0.9387342291165091,0.9859776215024887,0.9202892130327673,1.0024556001247626,1.0211372322183445,1.0151145548444314,1.022813192422566,1.0530135089369557,1.096321948363336,1.1189654091217842,1.14260242278734,1.0507243969291307,0.8626161170708135,1.034000723410668,1.1044468883775873,1.1327691642891389,1.223603281939691,1.308825795853425,1.2539210582405054,1.2280915507386254,1.3944630328471983,1.4530238871712506,1.450198440474677],\"marker\":{},\"line\":{},\"name\":\"60 Stock / 40 Bond\"},{\"type\":\"scatter\",\"mode\":\"lines\",\"x\":[\"2007-06-01T00:00:00\",\"2007-07-01T00:00:00\",\"2007-08-01T00:00:00\",\"2007-09-01T00:00:00\",\"2007-10-01T00:00:00\",\"2007-11-01T00:00:00\",\"2007-12-01T00:00:00\",\"2008-01-01T00:00:00\",\"2008-02-01T00:00:00\",\"2008-03-01T00:00:00\",\"2008-04-01T00:00:00\",\"2008-05-01T00:00:00\",\"2008-06-01T00:00:00\",\"2008-07-01T00:00:00\",\"2008-08-01T00:00:00\",\"2008-09-01T00:00:00\",\"2008-10-01T00:00:00\",\"2008-11-01T00:00:00\",\"2008-12-01T00:00:00\",\"2009-01-01T00:00:00\",\"2009-02-01T00:00:00\",\"2009-03-01T00:00:00\",\"2009-04-01T00:00:00\",\"2009-05-01T00:00:00\",\"2009-06-01T00:00:00\",\"2009-07-01T00:00:00\",\"2009-08-01T00:00:00\",\"2009-09-01T00:00:00\",\"2009-10-01T00:00:00\",\"2009-11-01T00:00:00\",\"2009-12-01T00:00:00\",\"2010-01-01T00:00:00\",\"2010-02-01T00:00:00\",\"2010-03-01T00:00:00\",\"2010-04-01T00:00:00\",\"2010-05-01T00:00:00\",\"2010-06-01T00:00:00\",\"2010-07-01T00:00:00\",\"2010-08-01T00:00:00\",\"2010-09-01T00:00:00\",\"2010-10-01T00:00:00\",\"2010-11-01T00:00:00\",\"2010-12-01T00:00:00\",\"2011-01-01T00:00:00\",\"2011-02-01T00:00:00\",\"2011-03-01T00:00:00\",\"2011-04-01T00:00:00\",\"2011-05-01T00:00:00\",\"2011-06-01T00:00:00\",\"2011-07-01T00:00:00\",\"2011-08-01T00:00:00\",\"2011-09-01T00:00:00\",\"2011-10-01T00:00:00\",\"2011-11-01T00:00:00\",\"2011-12-01T00:00:00\",\"2012-01-01T00:00:00\",\"2012-02-01T00:00:00\",\"2012-03-01T00:00:00\",\"2012-04-01T00:00:00\",\"2012-05-01T00:00:00\",\"2012-06-01T00:00:00\",\"2012-07-01T00:00:00\",\"2012-08-01T00:00:00\",\"2012-09-01T00:00:00\",\"2012-10-01T00:00:00\",\"2012-11-01T00:00:00\",\"2012-12-01T00:00:00\",\"2013-01-01T00:00:00\",\"2013-02-01T00:00:00\",\"2013-03-01T00:00:00\",\"2013-04-01T00:00:00\",\"2013-05-01T00:00:00\",\"2013-06-01T00:00:00\",\"2013-07-01T00:00:00\",\"2013-08-01T00:00:00\",\"2013-09-01T00:00:00\",\"2013-10-01T00:00:00\",\"2013-11-01T00:00:00\",\"2013-12-01T00:00:00\",\"2014-01-01T00:00:00\",\"2014-02-01T00:00:00\",\"2014-03-01T00:00:00\",\"2014-04-01T00:00:00\",\"2014-05-01T00:00:00\",\"2014-06-01T00:00:00\",\"2014-07-01T00:00:00\",\"2014-08-01T00:00:00\",\"2014-09-01T00:00:00\",\"2014-10-01T00:00:00\",\"2014-11-01T00:00:00\",\"2014-12-01T00:00:00\",\"2015-01-01T00:00:00\",\"2015-02-01T00:00:00\",\"2015-03-01T00:00:00\",\"2015-04-01T00:00:00\",\"2015-05-01T00:00:00\",\"2015-06-01T00:00:00\",\"2015-07-01T00:00:00\",\"2015-08-01T00:00:00\",\"2015-09-01T00:00:00\",\"2015-10-01T00:00:00\",\"2015-11-01T00:00:00\",\"2015-12-01T00:00:00\",\"2016-01-01T00:00:00\",\"2016-02-01T00:00:00\",\"2016-03-01T00:00:00\",\"2016-04-01T00:00:00\",\"2016-05-01T00:00:00\",\"2016-06-01T00:00:00\",\"2016-07-01T00:00:00\",\"2016-08-01T00:00:00\",\"2016-09-01T00:00:00\",\"2016-10-01T00:00:00\",\"2016-11-01T00:00:00\",\"2016-12-01T00:00:00\",\"2017-01-01T00:00:00\",\"2017-02-01T00:00:00\",\"2017-03-01T00:00:00\",\"2017-04-01T00:00:00\",\"2017-05-01T00:00:00\",\"2017-06-01T00:00:00\",\"2017-07-01T00:00:00\",\"2017-08-01T00:00:00\",\"2017-09-01T00:00:00\",\"2017-10-01T00:00:00\",\"2017-11-01T00:00:00\",\"2017-12-01T00:00:00\",\"2018-01-01T00:00:00\",\"2018-02-01T00:00:00\",\"2018-03-01T00:00:00\",\"2018-04-01T00:00:00\",\"2018-05-01T00:00:00\",\"2018-06-01T00:00:00\",\"2018-07-01T00:00:00\",\"2018-08-01T00:00:00\",\"2018-09-01T00:00:00\",\"2018-10-01T00:00:00\",\"2018-11-01T00:00:00\",\"2018-12-01T00:00:00\",\"2019-01-01T00:00:00\",\"2019-02-01T00:00:00\",\"2019-03-01T00:00:00\",\"2019-04-01T00:00:00\",\"2019-05-01T00:00:00\",\"2019-06-01T00:00:00\",\"2019-07-01T00:00:00\",\"2019-08-01T00:00:00\",\"2019-09-01T00:00:00\",\"2019-10-01T00:00:00\",\"2019-11-01T00:00:00\",\"2019-12-01T00:00:00\",\"2020-01-01T00:00:00\",\"2020-02-01T00:00:00\",\"2020-03-01T00:00:00\",\"2020-04-01T00:00:00\",\"2020-05-01T00:00:00\",\"2020-06-01T00:00:00\",\"2020-07-01T00:00:00\",\"2020-08-01T00:00:00\",\"2020-09-01T00:00:00\",\"2020-10-01T00:00:00\",\"2020-11-01T00:00:00\",\"2020-12-01T00:00:00\",\"2021-01-01T00:00:00\"],\"y\":[-0.015470607237892953,-0.026243517801107674,-0.016490732506491912,-0.002573341910839244,0.00870969815091227,-0.0011147788055162478,-0.005830125725788116,-0.018473221965510822,-0.0312785831263066,-0.035794136576212,-0.018870623100650907,-0.01859982870434962,-0.05347739648756089,-0.05547030670433051,-0.04650133583085847,-0.08770035140935561,-0.16673965772046317,-0.17435494783637961,-0.14747857397317488,-0.17928442092115016,-0.2186313556433529,-0.19006865759582203,-0.1497883972177212,-0.12770664453979752,-0.12499994296866113,-0.08922335062626097,-0.07022622958826208,-0.05111082069449857,-0.057722138763778075,-0.028933140426948945,-0.030667690553276783,-0.030911573850762042,-0.0175039934811535,0.0046784188298023555,0.02133111396415277,-0.003990667047046981,-0.020529928943551212,0.014096531542413082,0.0043552430904250095,0.04004304357471833,0.06094008419164543,0.05862477604646266,0.07458234400976238,0.09265207519102026,0.1087848981299504,0.10780218351236082,0.13213166136881105,0.13541099651127397,0.1227969581561994,0.1254957183918548,0.1091686942794341,0.07792237669328128,0.13020081818634854,0.12813649300932806,0.13313788810690297,0.169724321373939,0.18804306167151275,0.1969821734634707,0.2031808348578934,0.18059128770919375,0.19772869309464847,0.21321373266369759,0.2273949881534334,0.2384222125472235,0.2310582704638875,0.23669692250469998,0.23133896977840052,0.2582101435758153,0.26719308307116263,0.2855106866669568,0.3025798319330799,0.3015942748066238,0.27878097164660276,0.3135885030227037,0.2909080282925527,0.31701305330387264,0.34892691093206096,0.36104936000057886,0.365418935831747,0.36789358878230627,0.39664105102277025,0.39561470745755756,0.4049255283958857,0.4257516888960382,0.4390174314568338,0.4275372010601812,0.46100672277760313,0.44108771882307973,0.4660449507981257,0.4877795287186313,0.4809117806429428,0.49514686430112365,0.5159805412546381,0.5111541601194669,0.5144804492303843,0.5181654637193922,0.4952223461270462,0.5158998096174316,0.4766702897742572,0.4636774133894459,0.5135228203622364,0.513529721782527,0.49300190732880944,0.4770911427050528,0.4823741451622239,0.5292438822565104,0.5396197900721798,0.5501846816969338,0.5675599323436833,0.600778140581242,0.5987628027333312,0.5976850395195192,0.5774521676798183,0.581227088549753,0.5900013609782724,0.6113256840813841,0.6384369492034447,0.6351046821907891,0.6518324360725203,0.6646486729250043,0.667349886755908,0.6859169352836441,0.6961841300482061,0.7055568119643381,0.7216127769613438,0.7399346516092264,0.7459965214593105,0.7759016028702128,0.7338831134438026,0.7228806857931436,0.7171214062158988,0.7406971827460718,0.739656589754875,0.765104200610929,0.793509464575646,0.7829339939407551,0.7206717370430273,0.7378272207157568,0.683798343353867,0.7583894295375806,0.776698601820452,0.8003653701681768,0.8284593683163319,0.7975434660189054,0.855862873048935,0.8673009721009586,0.8797932005198297,0.8800261428430813,0.8999422954352454,0.9259376645176396,0.9371995759737533,0.9666037271394166,0.9184287303648251,0.7898350706706934,0.9172615420807857,0.9664224526701553,0.9886545078981106,1.055424758231919,1.1020884967479239,1.0676373138053363,1.0477685838657447,1.159124604873833,1.1934762174511824,1.188972741392163],\"marker\":{},\"line\":{},\"name\":\"40 Stock / 60 Bond\"},{\"type\":\"scatter\",\"mode\":\"lines\",\"x\":[\"2007-06-01T00:00:00\",\"2007-07-01T00:00:00\",\"2007-08-01T00:00:00\",\"2007-09-01T00:00:00\",\"2007-10-01T00:00:00\",\"2007-11-01T00:00:00\",\"2007-12-01T00:00:00\",\"2008-01-01T00:00:00\",\"2008-02-01T00:00:00\",\"2008-03-01T00:00:00\",\"2008-04-01T00:00:00\",\"2008-05-01T00:00:00\",\"2008-06-01T00:00:00\",\"2008-07-01T00:00:00\",\"2008-08-01T00:00:00\",\"2008-09-01T00:00:00\",\"2008-10-01T00:00:00\",\"2008-11-01T00:00:00\",\"2008-12-01T00:00:00\",\"2009-01-01T00:00:00\",\"2009-02-01T00:00:00\",\"2009-03-01T00:00:00\",\"2009-04-01T00:00:00\",\"2009-05-01T00:00:00\",\"2009-06-01T00:00:00\",\"2009-07-01T00:00:00\",\"2009-08-01T00:00:00\",\"2009-09-01T00:00:00\",\"2009-10-01T00:00:00\",\"2009-11-01T00:00:00\",\"2009-12-01T00:00:00\",\"2010-01-01T00:00:00\",\"2010-02-01T00:00:00\",\"2010-03-01T00:00:00\",\"2010-04-01T00:00:00\",\"2010-05-01T00:00:00\",\"2010-06-01T00:00:00\",\"2010-07-01T00:00:00\",\"2010-08-01T00:00:00\",\"2010-09-01T00:00:00\",\"2010-10-01T00:00:00\",\"2010-11-01T00:00:00\",\"2010-12-01T00:00:00\",\"2011-01-01T00:00:00\",\"2011-02-01T00:00:00\",\"2011-03-01T00:00:00\",\"2011-04-01T00:00:00\",\"2011-05-01T00:00:00\",\"2011-06-01T00:00:00\",\"2011-07-01T00:00:00\",\"2011-08-01T00:00:00\",\"2011-09-01T00:00:00\",\"2011-10-01T00:00:00\",\"2011-11-01T00:00:00\",\"2011-12-01T00:00:00\",\"2012-01-01T00:00:00\",\"2012-02-01T00:00:00\",\"2012-03-01T00:00:00\",\"2012-04-01T00:00:00\",\"2012-05-01T00:00:00\",\"2012-06-01T00:00:00\",\"2012-07-01T00:00:00\",\"2012-08-01T00:00:00\",\"2012-09-01T00:00:00\",\"2012-10-01T00:00:00\",\"2012-11-01T00:00:00\",\"2012-12-01T00:00:00\",\"2013-01-01T00:00:00\",\"2013-02-01T00:00:00\",\"2013-03-01T00:00:00\",\"2013-04-01T00:00:00\",\"2013-05-01T00:00:00\",\"2013-06-01T00:00:00\",\"2013-07-01T00:00:00\",\"2013-08-01T00:00:00\",\"2013-09-01T00:00:00\",\"2013-10-01T00:00:00\",\"2013-11-01T00:00:00\",\"2013-12-01T00:00:00\",\"2014-01-01T00:00:00\",\"2014-02-01T00:00:00\",\"2014-03-01T00:00:00\",\"2014-04-01T00:00:00\",\"2014-05-01T00:00:00\",\"2014-06-01T00:00:00\",\"2014-07-01T00:00:00\",\"2014-08-01T00:00:00\",\"2014-09-01T00:00:00\",\"2014-10-01T00:00:00\",\"2014-11-01T00:00:00\",\"2014-12-01T00:00:00\",\"2015-01-01T00:00:00\",\"2015-02-01T00:00:00\",\"2015-03-01T00:00:00\",\"2015-04-01T00:00:00\",\"2015-05-01T00:00:00\",\"2015-06-01T00:00:00\",\"2015-07-01T00:00:00\",\"2015-08-01T00:00:00\",\"2015-09-01T00:00:00\",\"2015-10-01T00:00:00\",\"2015-11-01T00:00:00\",\"2015-12-01T00:00:00\",\"2016-01-01T00:00:00\",\"2016-02-01T00:00:00\",\"2016-03-01T00:00:00\",\"2016-04-01T00:00:00\",\"2016-05-01T00:00:00\",\"2016-06-01T00:00:00\",\"2016-07-01T00:00:00\",\"2016-08-01T00:00:00\",\"2016-09-01T00:00:00\",\"2016-10-01T00:00:00\",\"2016-11-01T00:00:00\",\"2016-12-01T00:00:00\",\"2017-01-01T00:00:00\",\"2017-02-01T00:00:00\",\"2017-03-01T00:00:00\",\"2017-04-01T00:00:00\",\"2017-05-01T00:00:00\",\"2017-06-01T00:00:00\",\"2017-07-01T00:00:00\",\"2017-08-01T00:00:00\",\"2017-09-01T00:00:00\",\"2017-10-01T00:00:00\",\"2017-11-01T00:00:00\",\"2017-12-01T00:00:00\",\"2018-01-01T00:00:00\",\"2018-02-01T00:00:00\",\"2018-03-01T00:00:00\",\"2018-04-01T00:00:00\",\"2018-05-01T00:00:00\",\"2018-06-01T00:00:00\",\"2018-07-01T00:00:00\",\"2018-08-01T00:00:00\",\"2018-09-01T00:00:00\",\"2018-10-01T00:00:00\",\"2018-11-01T00:00:00\",\"2018-12-01T00:00:00\",\"2019-01-01T00:00:00\",\"2019-02-01T00:00:00\",\"2019-03-01T00:00:00\",\"2019-04-01T00:00:00\",\"2019-05-01T00:00:00\",\"2019-06-01T00:00:00\",\"2019-07-01T00:00:00\",\"2019-08-01T00:00:00\",\"2019-09-01T00:00:00\",\"2019-10-01T00:00:00\",\"2019-11-01T00:00:00\",\"2019-12-01T00:00:00\",\"2020-01-01T00:00:00\",\"2020-02-01T00:00:00\",\"2020-03-01T00:00:00\",\"2020-04-01T00:00:00\",\"2020-05-01T00:00:00\",\"2020-06-01T00:00:00\",\"2020-07-01T00:00:00\",\"2020-08-01T00:00:00\",\"2020-09-01T00:00:00\",\"2020-10-01T00:00:00\",\"2020-11-01T00:00:00\",\"2020-12-01T00:00:00\",\"2021-01-01T00:00:00\"],\"y\":[-0.030113875885603436,-0.03564804360047791,-0.01011275575105397,-0.002510731778422315,-0.006074374518206027,0.00659875887700645,-0.0007112239895842309,0.02099451855419865,-0.001405287754668083,0.0005713621763476784,0.008813497368800105,-0.020625561288742267,-0.072121545160867,-0.04812030727584349,-0.03240682274590834,-0.07450664137390717,-0.18305663217721468,-0.15853525574401917,-0.08475254248085451,-0.13900263260570078,-0.21156565613473766,-0.18973191803875744,-0.1444225591786109,-0.12533705224351588,-0.1181099560999529,-0.08213423069766546,-0.04730293981111289,-0.03026766689645688,-0.019412934091896816,0.018537788896011653,-0.011763626363848423,0.019729696535582875,0.03315010120754658,0.04183188590477904,0.0739345380609362,0.07297352662744827,0.084425513637155,0.12482120191629686,0.13932097760542983,0.1577916624222111,0.19153029611941874,0.1742577961265046,0.16761185867381712,0.20927624466209283,0.2248911828951008,0.21840224391237628,0.2776594827163017,0.3046014244021584,0.28289692656166143,0.29988681546910634,0.31169724954959976,0.29469837315158975,0.3574768002830844,0.35688508165976285,0.3621230558668893,0.43437315624961514,0.4436771891660416,0.43697193067024864,0.46155541263270905,0.45524446018157727,0.47388539869282087,0.5223516600365266,0.5368320607520813,0.5458333465384799,0.5408744505157839,0.5532200698151049,0.5137951278337198,0.537542357267653,0.55912125259636,0.5725691354242475,0.6138620371447125,0.5782237130708976,0.5196331774874599,0.5680241146285936,0.5200931447887385,0.5621123280715086,0.6188795938302536,0.6259026395621008,0.6026377976780943,0.6590772260249713,0.6964087952000495,0.7007527488978713,0.7399470294362944,0.7865652466243247,0.7922280358715983,0.7881162868753648,0.8487315884970044,0.8149199440801507,0.8753124126855685,0.9126953225434935,0.9093400755604975,1.0104928180788364,0.9889496697240385,0.9958896676093798,0.9718778952339084,0.9616787264176405,0.9073853977218687,0.9657811907505185,0.9086576693111437,0.9081839048768616,0.9567286129798753,0.9495900411619658,0.9069738657945254,0.9564107750720161,0.9767246532085472,1.0425669884263113,1.0784576382106317,1.0938372491836237,1.1659583867911643,1.225129914127295,1.2158325309806899,1.2090070786010467,1.1574752538409423,1.0878621761164422,1.1032252415625385,1.151271330779188,1.199748476790636,1.178516802824372,1.2185574577774947,1.2460170856949921,1.2562148612141986,1.282269303639198,1.3211900764107027,1.321734299732026,1.3394246780523287,1.3483621292647978,1.3472523634037747,1.3328798867398017,1.236324372285213,1.2321551599620686,1.1872706236311266,1.2382106379974251,1.2236062521815079,1.2654853601442437,1.2988569011360882,1.2549720287945552,1.183054497357694,1.207562847078285,1.167838328977027,1.3073173706907855,1.3146360191209636,1.3714511850490307,1.404789489798457,1.4112166154696633,1.5290035841679082,1.5488035930827082,1.655629889455314,1.6580665322917518,1.7043567222123452,1.7275940801354301,1.7280731329431047,1.827909763367737,1.7865409796803284,1.4825350674114621,1.720896006620197,1.8112838482075744,1.8361524603125825,1.9867467776168692,2.002586064357209,1.9516752265292245,1.911806591690342,2.093599939366492,2.1439769324714066,2.1243799353064],\"marker\":{},\"line\":{},\"name\":\"Long + Assets\"},{\"type\":\"scatter\",\"mode\":\"lines\",\"x\":[\"2007-06-01T00:00:00\",\"2007-07-01T00:00:00\",\"2007-08-01T00:00:00\",\"2007-09-01T00:00:00\",\"2007-10-01T00:00:00\",\"2007-11-01T00:00:00\",\"2007-12-01T00:00:00\",\"2008-01-01T00:00:00\",\"2008-02-01T00:00:00\",\"2008-03-01T00:00:00\",\"2008-04-01T00:00:00\",\"2008-05-01T00:00:00\",\"2008-06-01T00:00:00\",\"2008-07-01T00:00:00\",\"2008-08-01T00:00:00\",\"2008-09-01T00:00:00\",\"2008-10-01T00:00:00\",\"2008-11-01T00:00:00\",\"2008-12-01T00:00:00\",\"2009-01-01T00:00:00\",\"2009-02-01T00:00:00\",\"2009-03-01T00:00:00\",\"2009-04-01T00:00:00\",\"2009-05-01T00:00:00\",\"2009-06-01T00:00:00\",\"2009-07-01T00:00:00\",\"2009-08-01T00:00:00\",\"2009-09-01T00:00:00\",\"2009-10-01T00:00:00\",\"2009-11-01T00:00:00\",\"2009-12-01T00:00:00\",\"2010-01-01T00:00:00\",\"2010-02-01T00:00:00\",\"2010-03-01T00:00:00\",\"2010-04-01T00:00:00\",\"2010-05-01T00:00:00\",\"2010-06-01T00:00:00\",\"2010-07-01T00:00:00\",\"2010-08-01T00:00:00\",\"2010-09-01T00:00:00\",\"2010-10-01T00:00:00\",\"2010-11-01T00:00:00\",\"2010-12-01T00:00:00\",\"2011-01-01T00:00:00\",\"2011-02-01T00:00:00\",\"2011-03-01T00:00:00\",\"2011-04-01T00:00:00\",\"2011-05-01T00:00:00\",\"2011-06-01T00:00:00\",\"2011-07-01T00:00:00\",\"2011-08-01T00:00:00\",\"2011-09-01T00:00:00\",\"2011-10-01T00:00:00\",\"2011-11-01T00:00:00\",\"2011-12-01T00:00:00\",\"2012-01-01T00:00:00\",\"2012-02-01T00:00:00\",\"2012-03-01T00:00:00\",\"2012-04-01T00:00:00\",\"2012-05-01T00:00:00\",\"2012-06-01T00:00:00\",\"2012-07-01T00:00:00\",\"2012-08-01T00:00:00\",\"2012-09-01T00:00:00\",\"2012-10-01T00:00:00\",\"2012-11-01T00:00:00\",\"2012-12-01T00:00:00\",\"2013-01-01T00:00:00\",\"2013-02-01T00:00:00\",\"2013-03-01T00:00:00\",\"2013-04-01T00:00:00\",\"2013-05-01T00:00:00\",\"2013-06-01T00:00:00\",\"2013-07-01T00:00:00\",\"2013-08-01T00:00:00\",\"2013-09-01T00:00:00\",\"2013-10-01T00:00:00\",\"2013-11-01T00:00:00\",\"2013-12-01T00:00:00\",\"2014-01-01T00:00:00\",\"2014-02-01T00:00:00\",\"2014-03-01T00:00:00\",\"2014-04-01T00:00:00\",\"2014-05-01T00:00:00\",\"2014-06-01T00:00:00\",\"2014-07-01T00:00:00\",\"2014-08-01T00:00:00\",\"2014-09-01T00:00:00\",\"2014-10-01T00:00:00\",\"2014-11-01T00:00:00\",\"2014-12-01T00:00:00\",\"2015-01-01T00:00:00\",\"2015-02-01T00:00:00\",\"2015-03-01T00:00:00\",\"2015-04-01T00:00:00\",\"2015-05-01T00:00:00\",\"2015-06-01T00:00:00\",\"2015-07-01T00:00:00\",\"2015-08-01T00:00:00\",\"2015-09-01T00:00:00\",\"2015-10-01T00:00:00\",\"2015-11-01T00:00:00\",\"2015-12-01T00:00:00\",\"2016-01-01T00:00:00\",\"2016-02-01T00:00:00\",\"2016-03-01T00:00:00\",\"2016-04-01T00:00:00\",\"2016-05-01T00:00:00\",\"2016-06-01T00:00:00\",\"2016-07-01T00:00:00\",\"2016-08-01T00:00:00\",\"2016-09-01T00:00:00\",\"2016-10-01T00:00:00\",\"2016-11-01T00:00:00\",\"2016-12-01T00:00:00\",\"2017-01-01T00:00:00\",\"2017-02-01T00:00:00\",\"2017-03-01T00:00:00\",\"2017-04-01T00:00:00\",\"2017-05-01T00:00:00\",\"2017-06-01T00:00:00\",\"2017-07-01T00:00:00\",\"2017-08-01T00:00:00\",\"2017-09-01T00:00:00\",\"2017-10-01T00:00:00\",\"2017-11-01T00:00:00\",\"2017-12-01T00:00:00\",\"2018-01-01T00:00:00\",\"2018-02-01T00:00:00\",\"2018-03-01T00:00:00\",\"2018-04-01T00:00:00\",\"2018-05-01T00:00:00\",\"2018-06-01T00:00:00\",\"2018-07-01T00:00:00\",\"2018-08-01T00:00:00\",\"2018-09-01T00:00:00\",\"2018-10-01T00:00:00\",\"2018-11-01T00:00:00\",\"2018-12-01T00:00:00\",\"2019-01-01T00:00:00\",\"2019-02-01T00:00:00\",\"2019-03-01T00:00:00\",\"2019-04-01T00:00:00\",\"2019-05-01T00:00:00\",\"2019-06-01T00:00:00\",\"2019-07-01T00:00:00\",\"2019-08-01T00:00:00\",\"2019-09-01T00:00:00\",\"2019-10-01T00:00:00\",\"2019-11-01T00:00:00\",\"2019-12-01T00:00:00\",\"2020-01-01T00:00:00\",\"2020-02-01T00:00:00\",\"2020-03-01T00:00:00\",\"2020-04-01T00:00:00\",\"2020-05-01T00:00:00\",\"2020-06-01T00:00:00\",\"2020-07-01T00:00:00\",\"2020-08-01T00:00:00\",\"2020-09-01T00:00:00\",\"2020-10-01T00:00:00\",\"2020-11-01T00:00:00\",\"2020-12-01T00:00:00\",\"2021-01-01T00:00:00\"],\"y\":[-0.03294856779055377,-0.03214066630736301,-0.014647255519637192,0.010559403892460129,0.0734481677181893,0.10314513534085923,0.11464422254294204,0.13601191603918572,0.11169259781238128,0.09565297325142841,0.1323928779847625,0.14464078916354528,0.12887908976000007,0.05868124989065504,0.091055559317188,0.04816154296901565,-0.022427112915795022,0.033074928396133796,0.11170220984827606,0.06432132938780644,0.053389012969481175,0.10518788969389936,0.15527432900669824,0.17015391326272233,0.21504064722166283,0.3148921305933776,0.3569095861443705,0.4175821068648593,0.3616140711873608,0.4474819444624316,0.42280727632018755,0.45103088003473446,0.4793313165557176,0.5251024440921632,0.5822799807195429,0.5295452006728625,0.482988187006812,0.5674567753874245,0.5641526153335163,0.6598852533139801,0.69032284722951,0.6798339790935795,0.6794987893312301,0.7048214662889871,0.7177626898114271,0.7010496516980664,0.7328552802741484,0.7739178467445926,0.745757913594709,0.8413404672419342,0.8856391144335025,0.9167787203833033,0.9420214052096885,0.9276464721147861,1.0124262780224926,1.037711368663481,1.107072280333103,1.156388665241832,1.2182823896632113,1.2425041457389794,1.3171062386390586,1.3746758644195216,1.3821667129162454,1.4307265527892672,1.403167971518152,1.3880509081391077,1.3298737720213976,1.3482555062966215,1.3938323332289264,1.470500310680627,1.5487531888405557,1.5120680522915362,1.4150537595581105,1.496496803658434,1.4303385273167541,1.4818175928611885,1.5930542820042595,1.6105411986612608,1.597291150813723,1.661687920927641,1.721305471529461,1.712505745647848,1.7493442281066227,1.8492256609163307,1.8918551596427786,1.8264387080269904,1.90913983330966,1.8446342681901706,1.9339480995028602,2.0302802857111093,1.9507332820261927,2.0662847077271604,2.0460722005152507,2.002754169714087,2.1082318135888354,2.080941631875794,1.9571654568077963,2.0853701757189342,2.0008242986918794,2.084803526475031,2.304390133842229,2.2864701459362227,2.270954488576808,2.2769463613192813,2.295889472218785,2.483638654332216,2.4643239200319016,2.5072247442406272,2.6309672872350047,2.761783198018441,2.7041764583930434,2.673598989712008,2.64036377463267,2.628875882494639,2.6533175590805,2.645641065462016,2.7746669761636515,2.804691221773764,2.9142381814155525,2.9368456411611596,2.9169108757616042,2.987633255618052,3.03262063039299,2.9674077772139045,3.0146331969689575,3.0544381215873813,3.1276051959660434,3.2535462939467985,3.1013842164659726,3.0867886574508434,3.1067441846828006,3.1432659374453475,3.1981082660824134,3.212825014604701,3.3580963485276403,3.352872742938194,3.1061722826931675,3.1156184088645684,3.06298632044545,3.3068814795676484,3.348583676048479,3.566647914104501,3.6629343409344024,3.7233566240446496,3.797002894062043,3.879040065791071,4.118343902534682,4.009959497108896,3.9568849476303214,3.968295389657735,3.9476655532838807,4.349033893172856,4.328557331101864,4.447384055784367,4.9870723754929935,5.022487079165569,5.237568905100148,5.5185512592962205,5.804717971509164,5.5358345406224405,5.505328433247151,5.595574270265875,5.594779626470631,5.556690086105665],\"marker\":{},\"line\":{},\"name\":\"Long-Short + Assets\"}];\r\n",
       "            var layout = {\"width\":600,\"height\":600,\"template\":{\"layout\":{\"title\":{\"x\":0.05},\"font\":{\"color\":\"rgba(42, 63, 95, 1.0)\"},\"paper_bgcolor\":\"rgba(255, 255, 255, 1.0)\",\"plot_bgcolor\":\"rgba(229, 236, 246, 1.0)\",\"autotypenumbers\":\"strict\",\"colorscale\":{\"diverging\":[[0.0,\"#8e0152\"],[0.1,\"#c51b7d\"],[0.2,\"#de77ae\"],[0.3,\"#f1b6da\"],[0.4,\"#fde0ef\"],[0.5,\"#f7f7f7\"],[0.6,\"#e6f5d0\"],[0.7,\"#b8e186\"],[0.8,\"#7fbc41\"],[0.9,\"#4d9221\"],[1.0,\"#276419\"]],\"sequential\":[[0.0,\"#0d0887\"],[0.1111111111111111,\"#46039f\"],[0.2222222222222222,\"#7201a8\"],[0.3333333333333333,\"#9c179e\"],[0.4444444444444444,\"#bd3786\"],[0.5555555555555556,\"#d8576b\"],[0.6666666666666666,\"#ed7953\"],[0.7777777777777778,\"#fb9f3a\"],[0.8888888888888888,\"#fdca26\"],[1.0,\"#f0f921\"]],\"sequentialminus\":[[0.0,\"#0d0887\"],[0.1111111111111111,\"#46039f\"],[0.2222222222222222,\"#7201a8\"],[0.3333333333333333,\"#9c179e\"],[0.4444444444444444,\"#bd3786\"],[0.5555555555555556,\"#d8576b\"],[0.6666666666666666,\"#ed7953\"],[0.7777777777777778,\"#fb9f3a\"],[0.8888888888888888,\"#fdca26\"],[1.0,\"#f0f921\"]]},\"hovermode\":\"closest\",\"hoverlabel\":{\"align\":\"left\"},\"coloraxis\":{\"colorbar\":{\"outlinewidth\":0.0,\"ticks\":\"\"}},\"geo\":{\"showland\":true,\"landcolor\":\"rgba(229, 236, 246, 1.0)\",\"showlakes\":true,\"lakecolor\":\"rgba(255, 255, 255, 1.0)\",\"subunitcolor\":\"rgba(255, 255, 255, 1.0)\",\"bgcolor\":\"rgba(255, 255, 255, 1.0)\"},\"mapbox\":{\"style\":\"light\"},\"polar\":{\"bgcolor\":\"rgba(229, 236, 246, 1.0)\",\"radialaxis\":{\"linecolor\":\"rgba(255, 255, 255, 1.0)\",\"gridcolor\":\"rgba(255, 255, 255, 1.0)\",\"ticks\":\"\"},\"angularaxis\":{\"linecolor\":\"rgba(255, 255, 255, 1.0)\",\"gridcolor\":\"rgba(255, 255, 255, 1.0)\",\"ticks\":\"\"}},\"scene\":{\"xaxis\":{\"ticks\":\"\",\"linecolor\":\"rgba(255, 255, 255, 1.0)\",\"gridcolor\":\"rgba(255, 255, 255, 1.0)\",\"gridwidth\":2.0,\"zerolinecolor\":\"rgba(255, 255, 255, 1.0)\",\"backgroundcolor\":\"rgba(229, 236, 246, 1.0)\",\"showbackground\":true},\"yaxis\":{\"ticks\":\"\",\"linecolor\":\"rgba(255, 255, 255, 1.0)\",\"gridcolor\":\"rgba(255, 255, 255, 1.0)\",\"gridwidth\":2.0,\"zerolinecolor\":\"rgba(255, 255, 255, 1.0)\",\"backgroundcolor\":\"rgba(229, 236, 246, 1.0)\",\"showbackground\":true},\"zaxis\":{\"ticks\":\"\",\"linecolor\":\"rgba(255, 255, 255, 1.0)\",\"gridcolor\":\"rgba(255, 255, 255, 1.0)\",\"gridwidth\":2.0,\"zerolinecolor\":\"rgba(255, 255, 255, 1.0)\",\"backgroundcolor\":\"rgba(229, 236, 246, 1.0)\",\"showbackground\":true}},\"ternary\":{\"aaxis\":{\"ticks\":\"\",\"linecolor\":\"rgba(255, 255, 255, 1.0)\",\"gridcolor\":\"rgba(255, 255, 255, 1.0)\"},\"baxis\":{\"ticks\":\"\",\"linecolor\":\"rgba(255, 255, 255, 1.0)\",\"gridcolor\":\"rgba(255, 255, 255, 1.0)\"},\"caxis\":{\"ticks\":\"\",\"linecolor\":\"rgba(255, 255, 255, 1.0)\",\"gridcolor\":\"rgba(255, 255, 255, 1.0)\"},\"bgcolor\":\"rgba(229, 236, 246, 1.0)\"},\"xaxis\":{\"title\":{\"standoff\":15},\"ticks\":\"\",\"automargin\":true,\"linecolor\":\"rgba(255, 255, 255, 1.0)\",\"gridcolor\":\"rgba(255, 255, 255, 1.0)\",\"zerolinecolor\":\"rgba(255, 255, 255, 1.0)\",\"zerolinewidth\":2.0},\"yaxis\":{\"title\":{\"standoff\":15},\"ticks\":\"\",\"automargin\":true,\"linecolor\":\"rgba(255, 255, 255, 1.0)\",\"gridcolor\":\"rgba(255, 255, 255, 1.0)\",\"zerolinecolor\":\"rgba(255, 255, 255, 1.0)\",\"zerolinewidth\":2.0},\"annotationdefaults\":{\"arrowcolor\":\"#2a3f5f\",\"arrowhead\":0,\"arrowwidth\":1},\"shapedefaults\":{\"line\":{\"color\":\"rgba(42, 63, 95, 1.0)\"}},\"colorway\":[\"rgba(99, 110, 250, 1.0)\",\"rgba(239, 85, 59, 1.0)\",\"rgba(0, 204, 150, 1.0)\",\"rgba(171, 99, 250, 1.0)\",\"rgba(255, 161, 90, 1.0)\",\"rgba(25, 211, 243, 1.0)\",\"rgba(255, 102, 146, 1.0)\",\"rgba(182, 232, 128, 1.0)\",\"rgba(255, 151, 255, 1.0)\",\"rgba(254, 203, 82, 1.0)\"]},\"data\":{\"bar\":[{\"marker\":{\"line\":{\"color\":\"rgba(229, 236, 246, 1.0)\",\"width\":0.5},\"pattern\":{\"fillmode\":\"overlay\",\"size\":10,\"solidity\":0.2}},\"error_x\":{\"color\":\"rgba(42, 63, 95, 1.0)\"},\"error_y\":{\"color\":\"rgba(42, 63, 95, 1.0)\"}}],\"barpolar\":[{\"marker\":{\"line\":{\"color\":\"rgba(229, 236, 246, 1.0)\",\"width\":0.5},\"pattern\":{\"fillmode\":\"overlay\",\"size\":10,\"solidity\":0.2}}}],\"carpet\":[{\"aaxis\":{\"linecolor\":\"rgba(255, 255, 255, 1.0)\",\"gridcolor\":\"rgba(255, 255, 255, 1.0)\",\"endlinecolor\":\"rgba(42, 63, 95, 1.0)\",\"minorgridcolor\":\"rgba(255, 255, 255, 1.0)\",\"startlinecolor\":\"rgba(42, 63, 95, 1.0)\"},\"baxis\":{\"linecolor\":\"rgba(255, 255, 255, 1.0)\",\"gridcolor\":\"rgba(255, 255, 255, 1.0)\",\"endlinecolor\":\"rgba(42, 63, 95, 1.0)\",\"minorgridcolor\":\"rgba(255, 255, 255, 1.0)\",\"startlinecolor\":\"rgba(42, 63, 95, 1.0)\"}}],\"choropleth\":[{\"colorbar\":{\"outlinewidth\":0.0,\"ticks\":\"\"},\"colorscale\":[[0.0,\"#0d0887\"],[0.1111111111111111,\"#46039f\"],[0.2222222222222222,\"#7201a8\"],[0.3333333333333333,\"#9c179e\"],[0.4444444444444444,\"#bd3786\"],[0.5555555555555556,\"#d8576b\"],[0.6666666666666666,\"#ed7953\"],[0.7777777777777778,\"#fb9f3a\"],[0.8888888888888888,\"#fdca26\"],[1.0,\"#f0f921\"]]}],\"contour\":[{\"colorbar\":{\"outlinewidth\":0.0,\"ticks\":\"\"},\"colorscale\":[[0.0,\"#0d0887\"],[0.1111111111111111,\"#46039f\"],[0.2222222222222222,\"#7201a8\"],[0.3333333333333333,\"#9c179e\"],[0.4444444444444444,\"#bd3786\"],[0.5555555555555556,\"#d8576b\"],[0.6666666666666666,\"#ed7953\"],[0.7777777777777778,\"#fb9f3a\"],[0.8888888888888888,\"#fdca26\"],[1.0,\"#f0f921\"]]}],\"contourcarpet\":[{\"colorbar\":{\"outlinewidth\":0.0,\"ticks\":\"\"}}],\"heatmap\":[{\"colorbar\":{\"outlinewidth\":0.0,\"ticks\":\"\"},\"colorscale\":[[0.0,\"#0d0887\"],[0.1111111111111111,\"#46039f\"],[0.2222222222222222,\"#7201a8\"],[0.3333333333333333,\"#9c179e\"],[0.4444444444444444,\"#bd3786\"],[0.5555555555555556,\"#d8576b\"],[0.6666666666666666,\"#ed7953\"],[0.7777777777777778,\"#fb9f3a\"],[0.8888888888888888,\"#fdca26\"],[1.0,\"#f0f921\"]]}],\"heatmapgl\":[{\"colorbar\":{\"outlinewidth\":0.0,\"ticks\":\"\"},\"colorscale\":[[0.0,\"#0d0887\"],[0.1111111111111111,\"#46039f\"],[0.2222222222222222,\"#7201a8\"],[0.3333333333333333,\"#9c179e\"],[0.4444444444444444,\"#bd3786\"],[0.5555555555555556,\"#d8576b\"],[0.6666666666666666,\"#ed7953\"],[0.7777777777777778,\"#fb9f3a\"],[0.8888888888888888,\"#fdca26\"],[1.0,\"#f0f921\"]]}],\"histogram\":[{\"marker\":{\"pattern\":{\"fillmode\":\"overlay\",\"size\":10,\"solidity\":0.2}}}],\"histogram2d\":[{\"colorbar\":{\"outlinewidth\":0.0,\"ticks\":\"\"},\"colorscale\":[[0.0,\"#0d0887\"],[0.1111111111111111,\"#46039f\"],[0.2222222222222222,\"#7201a8\"],[0.3333333333333333,\"#9c179e\"],[0.4444444444444444,\"#bd3786\"],[0.5555555555555556,\"#d8576b\"],[0.6666666666666666,\"#ed7953\"],[0.7777777777777778,\"#fb9f3a\"],[0.8888888888888888,\"#fdca26\"],[1.0,\"#f0f921\"]]}],\"histogram2dcontour\":[{\"colorbar\":{\"outlinewidth\":0.0,\"ticks\":\"\"},\"colorscale\":[[0.0,\"#0d0887\"],[0.1111111111111111,\"#46039f\"],[0.2222222222222222,\"#7201a8\"],[0.3333333333333333,\"#9c179e\"],[0.4444444444444444,\"#bd3786\"],[0.5555555555555556,\"#d8576b\"],[0.6666666666666666,\"#ed7953\"],[0.7777777777777778,\"#fb9f3a\"],[0.8888888888888888,\"#fdca26\"],[1.0,\"#f0f921\"]]}],\"mesh3d\":[{\"colorbar\":{\"outlinewidth\":0.0,\"ticks\":\"\"}}],\"parcoords\":[{\"line\":{\"colorbar\":{\"outlinewidth\":0.0,\"ticks\":\"\"}}}],\"pie\":[{\"automargin\":true}],\"scatter\":[{\"marker\":{\"colorbar\":{\"outlinewidth\":0.0,\"ticks\":\"\"}}}],\"scatter3d\":[{\"marker\":{\"colorbar\":{\"outlinewidth\":0.0,\"ticks\":\"\"}},\"line\":{\"colorbar\":{\"outlinewidth\":0.0,\"ticks\":\"\"}}}],\"scattercarpet\":[{\"marker\":{\"colorbar\":{\"outlinewidth\":0.0,\"ticks\":\"\"}}}],\"scattergeo\":[{\"marker\":{\"colorbar\":{\"outlinewidth\":0.0,\"ticks\":\"\"}}}],\"scattergl\":[{\"marker\":{\"colorbar\":{\"outlinewidth\":0.0,\"ticks\":\"\"}}}],\"scattermapbox\":[{\"marker\":{\"colorbar\":{\"outlinewidth\":0.0,\"ticks\":\"\"}}}],\"scatterpolar\":[{\"marker\":{\"colorbar\":{\"outlinewidth\":0.0,\"ticks\":\"\"}}}],\"scatterpolargl\":[{\"marker\":{\"colorbar\":{\"outlinewidth\":0.0,\"ticks\":\"\"}}}],\"scatterternary\":[{\"marker\":{\"colorbar\":{\"outlinewidth\":0.0,\"ticks\":\"\"}}}],\"surface\":[{\"colorbar\":{\"outlinewidth\":0.0,\"ticks\":\"\"},\"colorscale\":[[0.0,\"#0d0887\"],[0.1111111111111111,\"#46039f\"],[0.2222222222222222,\"#7201a8\"],[0.3333333333333333,\"#9c179e\"],[0.4444444444444444,\"#bd3786\"],[0.5555555555555556,\"#d8576b\"],[0.6666666666666666,\"#ed7953\"],[0.7777777777777778,\"#fb9f3a\"],[0.8888888888888888,\"#fdca26\"],[1.0,\"#f0f921\"]]}],\"table\":[{\"cells\":{\"fill\":{\"color\":\"rgba(235, 240, 248, 1.0)\"},\"line\":{\"color\":\"rgba(255, 255, 255, 1.0)\"}},\"header\":{\"fill\":{\"color\":\"rgba(200, 212, 227, 1.0)\"},\"line\":{\"color\":\"rgba(255, 255, 255, 1.0)\"}}}]}},\"xaxis\":{\"title\":{\"text\":\"Year\"}},\"yaxis\":{\"title\":{\"text\":\"Cumulative Return\"}}};\r\n",
       "            var config = {\"responsive\":true};\r\n",
       "            Plotly.newPlot('2257821c-9464-4e73-bc68-a42d42e1ffd0', data, layout, config);\n",
       "});\r\n",
       "            };\r\n",
       "            if ((typeof(requirejs) !==  typeof(Function)) || (typeof(requirejs.config) !== typeof(Function))) {\r\n",
       "                var script = document.createElement(\"script\");\r\n",
       "                script.setAttribute(\"src\", \"https://cdnjs.cloudflare.com/ajax/libs/require.js/2.3.6/require.min.js\");\r\n",
       "                script.onload = function(){\r\n",
       "                    renderPlotly_2257821c94644e73bc68a42d42e1ffd0();\r\n",
       "                };\r\n",
       "                document.getElementsByTagName(\"head\")[0].appendChild(script);\r\n",
       "            }\r\n",
       "            else {\r\n",
       "                renderPlotly_2257821c94644e73bc68a42d42e1ffd0();\r\n",
       "            }\n",
       "</script>\n",
       "\n",
       "    \n",
       "</div>    \n"
      ]
     },
     "metadata": {},
     "output_type": "display_data"
    }
   ],
   "source": [
    "let p6040Vol =\n",
    "    portVTI_BND\n",
    "    |> makeCumulativeChartLeverageddf\n",
    "    |> Chart.withXAxisStyle \"Year\"\n",
    "    |> Chart.withYAxisStyle \"Cumulative Return\"\n",
    "    |> Chart.withTraceInfo(Name = $\"60 Stock / 40 Bond\")\n",
    "\n",
    "let p4060Vol =\n",
    "    portVTI_BND_Inv\n",
    "    |> makeCumulativeChartdf\n",
    "    |> Chart.withXAxisStyle \"Year\"\n",
    "    |> Chart.withYAxisStyle \"Cumulative Return\"\n",
    "    |> Chart.withTraceInfo(Name = $\"40 Stock / 60 Bond\")\n",
    "\n",
    "let longCumVol =\n",
    "    portMveLong\n",
    "    |> makeCumulativeChartLeverageddf\n",
    "    |> Chart.withXAxisStyle \"Year\"\n",
    "    |> Chart.withYAxisStyle \"Cumulative Return\"\n",
    "    |> Chart.withTraceInfo(Name = $\"Long + Assets\")\n",
    "\n",
    "let longShortCumVol =\n",
    "    portMveLongShort\n",
    "    |> makeCumulativeChartLeverageddf\n",
    "    |> Chart.withXAxisStyle \"Year\"\n",
    "    |> Chart.withYAxisStyle \"Cumulative Return\"\n",
    "    |> Chart.withTraceInfo(Name = $\"Long-Short + Assets\")\n",
    "\n",
    "let combinedChart =\n",
    "    [p6040Vol; p4060Vol; longCumVol; longShortCumVol]\n",
    "    |> Chart.combine\n",
    "    \n",
    "combinedChart"
   ]
  },
  {
   "cell_type": "code",
   "execution_count": 41,
   "metadata": {
    "dotnet_interactive": {
     "language": "fsharp"
    },
    "polyglot_notebook": {
     "kernelName": "fsharp"
    },
    "vscode": {
     "languageId": "polyglot-notebook"
    }
   },
   "outputs": [],
   "source": [
    "// Function to calculate annualized performance metrics\n",
    "let calculateAnnualizedMetrics (portfolio: StockData list) =\n",
    "    let returns = portfolio |> List.map(fun obs -> obs.Return)\n",
    "    let avgRets = returns |> List.average\n",
    "    let stdevRet = returns |> stDev\n",
    "\n",
    "    let annualizedAvgExcessReturns = 12.0 * avgRets\n",
    "    let annualizedSharpeRatio = sqrt(12.0) * (avgRets/stdevRet)\n",
    "\n",
    "    [annualizedAvgExcessReturns; annualizedSharpeRatio]"
   ]
  },
  {
   "cell_type": "code",
   "execution_count": 42,
   "metadata": {
    "dotnet_interactive": {
     "language": "fsharp"
    },
    "polyglot_notebook": {
     "kernelName": "fsharp"
    },
    "vscode": {
     "languageId": "polyglot-notebook"
    }
   },
   "outputs": [
    {
     "name": "stdout",
     "output_type": "stream",
     "text": [
      "     Portfolio           AvgExcessReturn      SharpeRatio        \n",
      "0 -> Long + Assets       0,04022060765244497  0,8867118225787891 \n",
      "1 -> Long Short + Assets 0,04556854757829241  1,4330035939668062 \n",
      "2 -> 60 Stock / 40 Bond  0,07160604612010416  0,7075959644381786 \n",
      "3 -> 40 Stock / 60 Bond  0,059995030213363436 0,8423559169007127 \n",
      "\n"
     ]
    }
   ],
   "source": [
    "let performanceTable = [\n",
    "    {| Portfolio = \"Long + Assets\"; AvgExcessReturn = [calculateAnnualizedMetrics portMveLong][0][0]; SharpeRatio = [calculateAnnualizedMetrics portMveLong][0][1]|};\n",
    "    {| Portfolio = \"Long Short + Assets\"; AvgExcessReturn = [calculateAnnualizedMetrics portMveLongShort][0][0]; SharpeRatio = [calculateAnnualizedMetrics portMveLongShort][0][1]|};\n",
    "    {| Portfolio = \"60 Stock / 40 Bond\"; AvgExcessReturn = [calculateAnnualizedMetrics portVTI_BND][0][0]; SharpeRatio = [calculateAnnualizedMetrics portVTI_BND][0][1]|};\n",
    "    {| Portfolio = \"40 Stock / 60 Bond\"; AvgExcessReturn = [calculateAnnualizedMetrics portVTI_BND_Inv][0][0]; SharpeRatio = [calculateAnnualizedMetrics portVTI_BND_Inv][0][1]|};\n",
    "]\n",
    "\n",
    "let columnOrder = [\"Portfolio\"; \"AvgExcessReturn\"; \"SharpeRatio\"]\n",
    "let orderedPerformanceDF = performanceTable |> Frame.ofRecords |> Frame.sliceCols columnOrder\n",
    "\n",
    "orderedPerformanceDF.Print()"
   ]
  },
  {
   "cell_type": "code",
   "execution_count": 43,
   "metadata": {
    "dotnet_interactive": {
     "language": "fsharp"
    },
    "polyglot_notebook": {
     "kernelName": "fsharp"
    },
    "vscode": {
     "languageId": "polyglot-notebook"
    }
   },
   "outputs": [],
   "source": []
  }
 ],
 "metadata": {
  "language_info": {
   "name": "python"
  },
  "orig_nbformat": 4
 },
 "nbformat": 4,
 "nbformat_minor": 2
}
