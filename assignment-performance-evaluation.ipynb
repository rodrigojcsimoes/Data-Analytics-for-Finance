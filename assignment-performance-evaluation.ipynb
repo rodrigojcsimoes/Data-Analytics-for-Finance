{
 "cells": [
  {
   "attachments": {},
   "cell_type": "markdown",
   "metadata": {},
   "source": [
    "[![Binder](../img/badge-binder.svg)](https://mybinder.org/v2/gh/nhirschey/teaching/gh-pages?filepath=assignments/assignment-performance-evaluation.ipynb)&emsp;\n",
    "[![Script](../img/badge-script.svg)](/Teaching//assignments/assignment-performance-evaluation.fsx)&emsp;\n",
    "[![Notebook](../img/badge-notebook.svg)](/Teaching//assignments/assignment-performance-evaluation.ipynb)\n",
    "Group Name:\n",
    "\n",
    "Student Name | Student Number\n",
    "--- | ---\n",
    "**1:Bernardo Manarte** |55810 &#32;\n",
    "**2:Leonor Rodrigues Pereira** |48778 &#32;\n",
    "**3:Marouan Kamoun** |53833 &#32;\n",
    "**4:Rodrigo Simões** |53154 &#32;\n",
    "**5:Vasco Calxito** |53960 &#32;\n",
    "\n",
    "\n",
    "This is an assignment. You should work in groups. Please write your group and group member names above. You will find sections labeled **Task** asking you to do each piece of analysis. Please make sure that you complete all of these tasks. I included some tests to help you see if you are calculating the solution correctly, but if you cannot get the test to pass submit your best attempt and you may recieve partial credit.\n",
    "\n",
    "All work that you submit should be your own. Make use of the course resources and example code on the course website. It should be possible to complete all the requested tasks using information given below or somewhere on the course website.\n",
    "\n",
    "For testing\n",
    "\n"
   ]
  },
  {
   "cell_type": "code",
   "execution_count": 36,
   "metadata": {
    "dotnet_interactive": {
     "language": "fsharp"
    },
    "polyglot_notebook": {
     "kernelName": "fsharp"
    }
   },
   "outputs": [
    {
     "ename": "Error",
     "evalue": "xunit version 2.* cannot be added because version 2.4.2 was added previously.",
     "output_type": "error",
     "traceback": [
      "xunit version 2.* cannot be added because version 2.4.2 was added previously."
     ]
    }
   ],
   "source": [
    "#r \"nuget: FsUnit.Xunit\"\n",
    "#r \"nuget: xunit, 2.*\"\n",
    "open Xunit\n",
    "open FsUnit.Xunit\n",
    "open FsUnitTyped\n"
   ]
  },
  {
   "attachments": {},
   "cell_type": "markdown",
   "metadata": {},
   "source": [
    "For the assignment\n",
    "\n"
   ]
  },
  {
   "cell_type": "code",
   "execution_count": 37,
   "metadata": {
    "dotnet_interactive": {
     "language": "fsharp"
    },
    "polyglot_notebook": {
     "kernelName": "fsharp"
    }
   },
   "outputs": [
    {
     "data": {
      "text/html": [
       "<div><div></div><div></div><div><strong>Installed Packages</strong><ul><li><span>FSharp.Data, 5.0.2</span></li><li><span>FSharp.Stats, 0.4.11</span></li><li><span>FsUnit.Xunit, 5.3.0</span></li><li><span>MathNet.Numerics, 5.0.0</span></li><li><span>MathNet.Numerics.FSharp, 5.0.0</span></li><li><span>NovaSBE.Finance, 0.2.0-beta1</span></li><li><span>Plotly.NET, 3.0.1</span></li></ul></div></div>"
      ]
     },
     "metadata": {},
     "output_type": "display_data"
    }
   ],
   "source": [
    "#r \"nuget:FSharp.Data\"\n",
    "#r \"nuget: FSharp.Stats\"\n",
    "#r \"nuget: NovaSBE.Finance, 0.2.0-beta1\"\n",
    "#r \"nuget: MathNet.Numerics\"\n",
    "#r \"nuget: MathNet.Numerics.FSharp\"\n",
    "#r \"nuget: Plotly.NET\"\n"
   ]
  },
  {
   "cell_type": "code",
   "execution_count": 38,
   "metadata": {
    "dotnet_interactive": {
     "language": "fsharp"
    },
    "polyglot_notebook": {
     "kernelName": "fsharp"
    }
   },
   "outputs": [
    {
     "ename": "Error",
     "evalue": "Plotly.NET.Interactive version 3.* cannot be added because version 3.0.2 was added previously.",
     "output_type": "error",
     "traceback": [
      "Plotly.NET.Interactive version 3.* cannot be added because version 3.0.2 was added previously."
     ]
    }
   ],
   "source": [
    "#r \"nuget: Plotly.NET.Interactive, 3.*\"\n"
   ]
  },
  {
   "cell_type": "code",
   "execution_count": 39,
   "metadata": {
    "dotnet_interactive": {
     "language": "fsharp"
    },
    "polyglot_notebook": {
     "kernelName": "fsharp"
    }
   },
   "outputs": [],
   "source": [
    "open System\n",
    "open FSharp.Data\n",
    "open Plotly.NET\n",
    "open FSharp.Stats\n",
    "open MathNet.Numerics.Statistics\n",
    "open NovaSBE.Finance.Ols\n"
   ]
  },
  {
   "attachments": {},
   "cell_type": "markdown",
   "metadata": {},
   "source": [
    "## Load Data\n",
    "\n",
    "First, make sure that you're referencing the correct files.\n",
    "\n",
    "Here I'm assuming that you have a class folder with this notebook and a `data` folder inside of it. The folder hierarchy would look like below where you\n",
    "have the below files and folders accessible:\n",
    "\n",
    "```code\n",
    "/class\n",
    "    notebook.ipynb\n",
    "    id_and_return_data.csv\n",
    "    rd_sale.csv\n",
    "    \n",
    "```\n"
   ]
  },
  {
   "cell_type": "code",
   "execution_count": 40,
   "metadata": {
    "dotnet_interactive": {
     "language": "fsharp"
    },
    "polyglot_notebook": {
     "kernelName": "fsharp"
    }
   },
   "outputs": [],
   "source": [
    "open NovaSBE.Finance.Portfolio\n"
   ]
  },
  {
   "attachments": {},
   "cell_type": "markdown",
   "metadata": {},
   "source": [
    "### Data files\n",
    "\n",
    "We assume the `id_and_return_data.csv` file and the signal csv file  are in the notebook folder.\n",
    "\n"
   ]
  },
  {
   "cell_type": "code",
   "execution_count": 41,
   "metadata": {
    "dotnet_interactive": {
     "language": "fsharp"
    },
    "polyglot_notebook": {
     "kernelName": "fsharp"
    }
   },
   "outputs": [],
   "source": [
    "let [<Literal>] IdAndReturnsFilePath = \"id_and_return_data.csv\"\n",
    "let [<Literal>] MySignalFilePath = \"rd_sale.csv\"\n",
    "let strategyName = \"R&D to sales\"\n"
   ]
  },
  {
   "attachments": {},
   "cell_type": "markdown",
   "metadata": {},
   "source": [
    "If my paths are correct, then this code should read the first few lines of the files.\n",
    "If it doesn't show the first few lines, fix the above file paths.\n",
    "\n"
   ]
  },
  {
   "cell_type": "code",
   "execution_count": 42,
   "metadata": {
    "dotnet_interactive": {
     "language": "fsharp"
    },
    "polyglot_notebook": {
     "kernelName": "fsharp"
    }
   },
   "outputs": [
    {
     "name": "stdout",
     "output_type": "stream",
     "text": [
      "\"id(string),eom(date),source(string),sizeGrp(string),obsMain(bool),exchMain(bool),primarySec(bool),gvkey(string),iid(string),permno(int Option),permco(int Option),excntry(string),curcd(string),fx(string),common(bool),compTpci(string),crspShrcd(int Option),compExchg(string),crsp_exchcd(int Option),adjfct(float Option),shares(float Option),gics(int Option),sic(int Option),naics(int Option),ff49(int Option),ret(float Option),retExc(float Option),prc(float Option),marketEquity(float Option)\"\n",
      "\"crsp_86432,2000-01-31T00:00:00.0000000,CRSP,micro,1,1,true,115876,01,86432,16313,USA,USD,1,true,,11,,3,2,5.218,40101010,6020,522110,45,-0.003906,-0.00824925,15.9375,83.161875\"\n",
      "\"crsp_85640,2000-01-31T00:00:00.0000000,CRSP,small,1,1,true,002193,01,85640,20300,USA,USD,1,true,,11,,1,1,102.496,35102020,8051,623110,11,-0.157143,-0.161485863,3.6875,377.954\"\n",
      "\"crsp_86430,2000-01-31T00:00:00.0000000,CRSP,micro,1,1,true,115946,01,86430,16319,USA,USD,1,true,,11,,3,1,10.764,45103010,7372,511210,36,0.285714,0.2813712985,3.9375,42.38325\"\n",
      "\"crsp_85756,2000-01-31T00:00:00.0000000,CRSP,nano,1,1,true,066389,01,85756,15930,USA,USD,1,true,,11,,3,1,1.582,,6720,,48,0.190685,0.1863418699,10.25,16.2155\"\n"
     ]
    }
   ],
   "source": [
    "IO.File.ReadLines(IdAndReturnsFilePath) \n",
    "|> Seq.truncate 5\n",
    "|> Seq.iter (printfn \"%A\")\n"
   ]
  },
  {
   "cell_type": "code",
   "execution_count": 43,
   "metadata": {
    "dotnet_interactive": {
     "language": "fsharp"
    },
    "polyglot_notebook": {
     "kernelName": "fsharp"
    }
   },
   "outputs": [
    {
     "ename": "Error",
     "evalue": "System.IO.FileNotFoundException: Could not find file '/Users/rodrigosimoes/Documents/Documents - MacBook Pro de Rodrigo/Nova SBE/2nd semester/Data Analytics for Finance/Assignment 6/Final files/rd_sale.csv'.\nFile name: '/Users/rodrigosimoes/Documents/Documents - MacBook Pro de Rodrigo/Nova SBE/2nd semester/Data Analytics for Finance/Assignment 6/Final files/rd_sale.csv'\n   at Interop.ThrowExceptionForIoErrno(ErrorInfo errorInfo, String path, Boolean isDirError)\n   at Microsoft.Win32.SafeHandles.SafeFileHandle.Open(String fullPath, FileMode mode, FileAccess access, FileShare share, FileOptions options, Int64 preallocationSize, UnixFileMode openPermissions, Int64& fileLength, UnixFileMode& filePermissions, Func`4 createOpenException)\n   at System.IO.Strategies.OSFileStreamStrategy..ctor(String path, FileMode mode, FileAccess access, FileShare share, FileOptions options, Int64 preallocationSize, Nullable`1 unixCreateMode)\n   at System.IO.StreamReader.ValidateArgsAndOpenPath(String path, Encoding encoding, Int32 bufferSize)\n   at System.IO.File.ReadLines(String path)\n   at <StartupCode$FSI_0039>.$FSI_0039.main@()\n   at System.RuntimeMethodHandle.InvokeMethod(Object target, Void** arguments, Signature sig, Boolean isConstructor)\n   at System.Reflection.MethodInvoker.Invoke(Object obj, IntPtr* args, BindingFlags invokeAttr)",
     "output_type": "error",
     "traceback": [
      "System.IO.FileNotFoundException: Could not find file '/Users/rodrigosimoes/Documents/Documents - MacBook Pro de Rodrigo/Nova SBE/2nd semester/Data Analytics for Finance/Assignment 6/Final files/rd_sale.csv'.\n",
      "File name: '/Users/rodrigosimoes/Documents/Documents - MacBook Pro de Rodrigo/Nova SBE/2nd semester/Data Analytics for Finance/Assignment 6/Final files/rd_sale.csv'\n",
      "   at Interop.ThrowExceptionForIoErrno(ErrorInfo errorInfo, String path, Boolean isDirError)\n",
      "   at Microsoft.Win32.SafeHandles.SafeFileHandle.Open(String fullPath, FileMode mode, FileAccess access, FileShare share, FileOptions options, Int64 preallocationSize, UnixFileMode openPermissions, Int64& fileLength, UnixFileMode& filePermissions, Func`4 createOpenException)\n",
      "   at System.IO.Strategies.OSFileStreamStrategy..ctor(String path, FileMode mode, FileAccess access, FileShare share, FileOptions options, Int64 preallocationSize, Nullable`1 unixCreateMode)\n",
      "   at System.IO.StreamReader.ValidateArgsAndOpenPath(String path, Encoding encoding, Int32 bufferSize)\n",
      "   at System.IO.File.ReadLines(String path)\n",
      "   at <StartupCode$FSI_0039>.$FSI_0039.main@()\n",
      "   at System.RuntimeMethodHandle.InvokeMethod(Object target, Void** arguments, Signature sig, Boolean isConstructor)\n",
      "   at System.Reflection.MethodInvoker.Invoke(Object obj, IntPtr* args, BindingFlags invokeAttr)"
     ]
    }
   ],
   "source": [
    "IO.File.ReadLines(MySignalFilePath) \n",
    "|> Seq.truncate 5\n",
    "|> Seq.iter (printfn \"%A\")\n"
   ]
  },
  {
   "attachments": {},
   "cell_type": "markdown",
   "metadata": {},
   "source": [
    "Ok, now assuming those paths were correct the below code will work.\n",
    "I will put all this prep code in one block so that it is easy to run.\n",
    "\n"
   ]
  },
  {
   "cell_type": "code",
   "execution_count": 44,
   "metadata": {
    "dotnet_interactive": {
     "language": "fsharp"
    },
    "polyglot_notebook": {
     "kernelName": "fsharp"
    }
   },
   "outputs": [],
   "source": [
    "let idAndReturnsCsv = \n",
    "    CsvProvider<IdAndReturnsFilePath,ResolutionFolder = __SOURCE_DIRECTORY__>.GetSample().Rows \n",
    "    |> Seq.toList\n",
    "let mySignalCsv = \n",
    "    CsvProvider<MySignalFilePath,ResolutionFolder = __SOURCE_DIRECTORY__>.GetSample().Rows \n",
    "    |> Seq.toList\n"
   ]
  },
  {
   "attachments": {},
   "cell_type": "markdown",
   "metadata": {},
   "source": [
    "A list of `Signal` records. The signal type is defined in the `NovaSBE.Finance.Portfolio` module [here](https://github.com/nhirschey/NovaSBE.Finance/blob/6d1398625e5a9279af00bb6e1c1802af3596c3f6/src/NovaSBE.Finance/Portfolio.fs#L178-L181).\n",
    "\n"
   ]
  },
  {
   "cell_type": "code",
   "execution_count": 45,
   "metadata": {
    "dotnet_interactive": {
     "language": "fsharp"
    },
    "polyglot_notebook": {
     "kernelName": "fsharp"
    }
   },
   "outputs": [
    {
     "ename": "Error",
     "evalue": "input.fsx (4,19)-(4,25) typecheck error The type 'Row' does not define the field, constructor or member 'Signal'.\ninput.fsx (8,42)-(8,44) typecheck error The type 'Row' does not define the field, constructor or member 'Id'.\ninput.fsx (9,48)-(9,51) typecheck error The type 'Row' does not define the field, constructor or member 'Eom'.\ninput.fsx (9,62)-(9,65) typecheck error The type 'Row' does not define the field, constructor or member 'Eom'.",
     "output_type": "error",
     "traceback": [
      "input.fsx (4,19)-(4,25) typecheck error The type 'Row' does not define the field, constructor or member 'Signal'.\n",
      "input.fsx (8,42)-(8,44) typecheck error The type 'Row' does not define the field, constructor or member 'Id'.\n",
      "input.fsx (9,48)-(9,51) typecheck error The type 'Row' does not define the field, constructor or member 'Eom'.\n",
      "input.fsx (9,62)-(9,65) typecheck error The type 'Row' does not define the field, constructor or member 'Eom'."
     ]
    }
   ],
   "source": [
    "let mySignals =\n",
    "    mySignalCsv\n",
    "    |> List.choose (fun row -> \n",
    "        match row.Signal with\n",
    "        | None -> None\n",
    "        | Some signal ->\n",
    "            let signalRecord: Signal =\n",
    "                { SecurityId = Other row.Id\n",
    "                  FormationDate = DateTime(row.Eom.Year, row.Eom.Month, 1)\n",
    "                  Signal = signal }\n",
    "            Some signalRecord)\n",
    "\n",
    "// look at a few signals\n",
    "mySignals[..3]\n"
   ]
  },
  {
   "attachments": {},
   "cell_type": "markdown",
   "metadata": {},
   "source": [
    "A list of Security return records. The `SecurityReturn` type is defined in the `NovaSBE.Finance.Portfolio` module [here](https://github.com/nhirschey/NovaSBE.Finance/blob/6d1398625e5a9279af00bb6e1c1802af3596c3f6/src/NovaSBE.Finance/Portfolio.fs#L173-L176)\n",
    "\n"
   ]
  },
  {
   "cell_type": "code",
   "execution_count": 46,
   "metadata": {
    "dotnet_interactive": {
     "language": "fsharp"
    },
    "polyglot_notebook": {
     "kernelName": "fsharp"
    }
   },
   "outputs": [
    {
     "data": {
      "text/html": [
       "<table><thead><tr><th><i>index</i></th><th>value</th></tr></thead><tbody><tr><td>0</td><td><details class=\"dni-treeview\"><summary><span class=\"dni-code-hint\"><code>{ SecurityId = Other \"crsp_86432\"\\n  Date = 01/01/2000 00:00:00\\n  Return = -0.003906 }</code></span></summary><div><table><thead><tr></tr></thead><tbody><tr><td>SecurityId</td><td><details class=\"dni-treeview\"><summary><span class=\"dni-code-hint\"><code>Other \"crsp_86432\"</code></span></summary><div><table><thead><tr></tr></thead><tbody><tr><td>Item</td><td>crsp_86432</td></tr></tbody></table></div></details></td></tr><tr><td>Date</td><td><span>2000-01-01 00:00:00Z</span></td></tr><tr><td>Return</td><td><div class=\"dni-plaintext\"><pre>-0.003906</pre></div></td></tr></tbody></table></div></details></td></tr><tr><td>1</td><td><details class=\"dni-treeview\"><summary><span class=\"dni-code-hint\"><code>{ SecurityId = Other \"crsp_85640\"\\n  Date = 01/01/2000 00:00:00\\n  Return = -0.157143 }</code></span></summary><div><table><thead><tr></tr></thead><tbody><tr><td>SecurityId</td><td><details class=\"dni-treeview\"><summary><span class=\"dni-code-hint\"><code>Other \"crsp_85640\"</code></span></summary><div><table><thead><tr></tr></thead><tbody><tr><td>Item</td><td>crsp_85640</td></tr></tbody></table></div></details></td></tr><tr><td>Date</td><td><span>2000-01-01 00:00:00Z</span></td></tr><tr><td>Return</td><td><div class=\"dni-plaintext\"><pre>-0.157143</pre></div></td></tr></tbody></table></div></details></td></tr><tr><td>2</td><td><details class=\"dni-treeview\"><summary><span class=\"dni-code-hint\"><code>{ SecurityId = Other \"crsp_86430\"\\n  Date = 01/01/2000 00:00:00\\n  Return = 0.285714 }</code></span></summary><div><table><thead><tr></tr></thead><tbody><tr><td>SecurityId</td><td><details class=\"dni-treeview\"><summary><span class=\"dni-code-hint\"><code>Other \"crsp_86430\"</code></span></summary><div><table><thead><tr></tr></thead><tbody><tr><td>Item</td><td>crsp_86430</td></tr></tbody></table></div></details></td></tr><tr><td>Date</td><td><span>2000-01-01 00:00:00Z</span></td></tr><tr><td>Return</td><td><div class=\"dni-plaintext\"><pre>0.285714</pre></div></td></tr></tbody></table></div></details></td></tr><tr><td>3</td><td><details class=\"dni-treeview\"><summary><span class=\"dni-code-hint\"><code>{ SecurityId = Other \"crsp_85756\"\\n  Date = 01/01/2000 00:00:00\\n  Return = 0.190685 }</code></span></summary><div><table><thead><tr></tr></thead><tbody><tr><td>SecurityId</td><td><details class=\"dni-treeview\"><summary><span class=\"dni-code-hint\"><code>Other \"crsp_85756\"</code></span></summary><div><table><thead><tr></tr></thead><tbody><tr><td>Item</td><td>crsp_85756</td></tr></tbody></table></div></details></td></tr><tr><td>Date</td><td><span>2000-01-01 00:00:00Z</span></td></tr><tr><td>Return</td><td><div class=\"dni-plaintext\"><pre>0.190685</pre></div></td></tr></tbody></table></div></details></td></tr></tbody></table><style>\r\n",
       ".dni-code-hint {\r\n",
       "    font-style: italic;\r\n",
       "    overflow: hidden;\r\n",
       "    white-space: nowrap;\r\n",
       "}\r\n",
       ".dni-treeview {\r\n",
       "    white-space: nowrap;\r\n",
       "}\r\n",
       ".dni-treeview td {\r\n",
       "    vertical-align: top;\r\n",
       "    text-align: start;\r\n",
       "}\r\n",
       "details.dni-treeview {\r\n",
       "    padding-left: 1em;\r\n",
       "}\r\n",
       "table td {\r\n",
       "    text-align: start;\r\n",
       "}\r\n",
       "table tr { \r\n",
       "    vertical-align: top; \r\n",
       "    margin: 0em 0px;\r\n",
       "}\r\n",
       "table tr td pre \r\n",
       "{ \r\n",
       "    vertical-align: top !important; \r\n",
       "    margin: 0em 0px !important;\r\n",
       "} \r\n",
       "table th {\r\n",
       "    text-align: start;\r\n",
       "}\r\n",
       "</style>"
      ]
     },
     "metadata": {},
     "output_type": "display_data"
    }
   ],
   "source": [
    "let myReturns =\n",
    "    idAndReturnsCsv\n",
    "    |> List.choose (fun row -> \n",
    "        match row.Ret with\n",
    "        | None -> None\n",
    "        | Some ret ->\n",
    "            let ret: SecurityReturn =\n",
    "                { SecurityId = Other row.Id\n",
    "                  Date = DateTime(row.Eom.Year, row.Eom.Month, 1)\n",
    "                  Return= ret }\n",
    "            Some ret)\n",
    "\n",
    "// look at a few returns\n",
    "myReturns[..3]\n"
   ]
  },
  {
   "attachments": {},
   "cell_type": "markdown",
   "metadata": {},
   "source": [
    "A list of security market caps. We'll need this for value-weight portfolios. The `WeightVariable` type is defined in the `NovaSBE.Finance.Portfolio` module [here](https://github.com/nhirschey/NovaSBE.Finance/blob/6d1398625e5a9279af00bb6e1c1802af3596c3f6/src/NovaSBE.Finance/Portfolio.fs#L183-L186).\n",
    "\n"
   ]
  },
  {
   "cell_type": "code",
   "execution_count": 47,
   "metadata": {
    "dotnet_interactive": {
     "language": "fsharp"
    },
    "polyglot_notebook": {
     "kernelName": "fsharp"
    }
   },
   "outputs": [
    {
     "data": {
      "text/html": [
       "<table><thead><tr><th><i>index</i></th><th>value</th></tr></thead><tbody><tr><td>0</td><td><details class=\"dni-treeview\"><summary><span class=\"dni-code-hint\"><code>{ SecurityId = Other \"crsp_86432\"\\n  FormationDate = 01/01/2000 00:00:00\\n  Value = 83.161875 }</code></span></summary><div><table><thead><tr></tr></thead><tbody><tr><td>SecurityId</td><td><details class=\"dni-treeview\"><summary><span class=\"dni-code-hint\"><code>Other \"crsp_86432\"</code></span></summary><div><table><thead><tr></tr></thead><tbody><tr><td>Item</td><td>crsp_86432</td></tr></tbody></table></div></details></td></tr><tr><td>FormationDate</td><td><span>2000-01-01 00:00:00Z</span></td></tr><tr><td>Value</td><td><div class=\"dni-plaintext\"><pre>83.161875</pre></div></td></tr></tbody></table></div></details></td></tr><tr><td>1</td><td><details class=\"dni-treeview\"><summary><span class=\"dni-code-hint\"><code>{ SecurityId = Other \"crsp_85640\"\\n  FormationDate = 01/01/2000 00:00:00\\n  Value = 377.954 }</code></span></summary><div><table><thead><tr></tr></thead><tbody><tr><td>SecurityId</td><td><details class=\"dni-treeview\"><summary><span class=\"dni-code-hint\"><code>Other \"crsp_85640\"</code></span></summary><div><table><thead><tr></tr></thead><tbody><tr><td>Item</td><td>crsp_85640</td></tr></tbody></table></div></details></td></tr><tr><td>FormationDate</td><td><span>2000-01-01 00:00:00Z</span></td></tr><tr><td>Value</td><td><div class=\"dni-plaintext\"><pre>377.954</pre></div></td></tr></tbody></table></div></details></td></tr><tr><td>2</td><td><details class=\"dni-treeview\"><summary><span class=\"dni-code-hint\"><code>{ SecurityId = Other \"crsp_86430\"\\n  FormationDate = 01/01/2000 00:00:00\\n  Value = 42.38325 }</code></span></summary><div><table><thead><tr></tr></thead><tbody><tr><td>SecurityId</td><td><details class=\"dni-treeview\"><summary><span class=\"dni-code-hint\"><code>Other \"crsp_86430\"</code></span></summary><div><table><thead><tr></tr></thead><tbody><tr><td>Item</td><td>crsp_86430</td></tr></tbody></table></div></details></td></tr><tr><td>FormationDate</td><td><span>2000-01-01 00:00:00Z</span></td></tr><tr><td>Value</td><td><div class=\"dni-plaintext\"><pre>42.38325</pre></div></td></tr></tbody></table></div></details></td></tr><tr><td>3</td><td><details class=\"dni-treeview\"><summary><span class=\"dni-code-hint\"><code>{ SecurityId = Other \"crsp_85756\"\\n  FormationDate = 01/01/2000 00:00:00\\n  Value = 16.2155 }</code></span></summary><div><table><thead><tr></tr></thead><tbody><tr><td>SecurityId</td><td><details class=\"dni-treeview\"><summary><span class=\"dni-code-hint\"><code>Other \"crsp_85756\"</code></span></summary><div><table><thead><tr></tr></thead><tbody><tr><td>Item</td><td>crsp_85756</td></tr></tbody></table></div></details></td></tr><tr><td>FormationDate</td><td><span>2000-01-01 00:00:00Z</span></td></tr><tr><td>Value</td><td><div class=\"dni-plaintext\"><pre>16.2155</pre></div></td></tr></tbody></table></div></details></td></tr></tbody></table><style>\r\n",
       ".dni-code-hint {\r\n",
       "    font-style: italic;\r\n",
       "    overflow: hidden;\r\n",
       "    white-space: nowrap;\r\n",
       "}\r\n",
       ".dni-treeview {\r\n",
       "    white-space: nowrap;\r\n",
       "}\r\n",
       ".dni-treeview td {\r\n",
       "    vertical-align: top;\r\n",
       "    text-align: start;\r\n",
       "}\r\n",
       "details.dni-treeview {\r\n",
       "    padding-left: 1em;\r\n",
       "}\r\n",
       "table td {\r\n",
       "    text-align: start;\r\n",
       "}\r\n",
       "table tr { \r\n",
       "    vertical-align: top; \r\n",
       "    margin: 0em 0px;\r\n",
       "}\r\n",
       "table tr td pre \r\n",
       "{ \r\n",
       "    vertical-align: top !important; \r\n",
       "    margin: 0em 0px !important;\r\n",
       "} \r\n",
       "table th {\r\n",
       "    text-align: start;\r\n",
       "}\r\n",
       "</style>"
      ]
     },
     "metadata": {},
     "output_type": "display_data"
    }
   ],
   "source": [
    "let myMktCaps =\n",
    "    idAndReturnsCsv\n",
    "    |> List.choose (fun row -> \n",
    "        match row.MarketEquity with\n",
    "        | None -> None\n",
    "        | Some mktCap ->\n",
    "            let mktCap: WeightVariable =\n",
    "                { SecurityId = Other row.Id\n",
    "                  FormationDate = DateTime(row.Eom.Year, row.Eom.Month, 1)\n",
    "                  Value = mktCap }\n",
    "            Some mktCap)\n",
    "\n",
    "// look at a few market caps\n",
    "myMktCaps[..3]\n"
   ]
  },
  {
   "attachments": {},
   "cell_type": "markdown",
   "metadata": {},
   "source": [
    "## Forming our strategy\n",
    "\n",
    "We're now going to use the `Backtest` code to generate portfolios. It is defined in the `NovaSBE.Finance.Portfolio` module [here](https://github.com/nhirschey/NovaSBE.Finance/blob/6d1398625e5a9279af00bb6e1c1802af3596c3f6/src/NovaSBE.Finance/Portfolio.fs#L199).\n",
    "The `Backtest` class automates some of the code we did earlier to make portfolio construction simpler.\n",
    "\n"
   ]
  },
  {
   "cell_type": "code",
   "execution_count": 48,
   "metadata": {
    "dotnet_interactive": {
     "language": "fsharp"
    },
    "polyglot_notebook": {
     "kernelName": "fsharp"
    }
   },
   "outputs": [
    {
     "ename": "Error",
     "evalue": "input.fsx (1,52)-(1,61) typecheck error The value or constructor 'mySignals' is not defined. Maybe you want one of the following:\n   mySignalCsv\n   MySignalFilePath\n   Signal",
     "output_type": "error",
     "traceback": [
      "input.fsx (1,52)-(1,61) typecheck error The value or constructor 'mySignals' is not defined. Maybe you want one of the following:\n",
      "   mySignalCsv\n",
      "   MySignalFilePath\n",
      "   Signal"
     ]
    }
   ],
   "source": [
    "let backtest = Backtest(returns=myReturns, signals=mySignals, nPortfolios=3, name = strategyName)\n"
   ]
  },
  {
   "attachments": {},
   "cell_type": "markdown",
   "metadata": {},
   "source": [
    "### Value Weighted Portfolios\n",
    "\n"
   ]
  },
  {
   "cell_type": "code",
   "execution_count": 49,
   "metadata": {
    "dotnet_interactive": {
     "language": "fsharp"
    },
    "polyglot_notebook": {
     "kernelName": "fsharp"
    }
   },
   "outputs": [
    {
     "ename": "Error",
     "evalue": "input.fsx (1,10)-(1,18) typecheck error The value, namespace, type or module 'backtest' is not defined. Maybe you want one of the following:\n   Backtest\n   BackTestResult\n   Bucket",
     "output_type": "error",
     "traceback": [
      "input.fsx (1,10)-(1,18) typecheck error The value, namespace, type or module 'backtest' is not defined. Maybe you want one of the following:\n",
      "   Backtest\n",
      "   BackTestResult\n",
      "   Bucket"
     ]
    }
   ],
   "source": [
    "let vw = backtest.strategyValueWeighted(myMktCaps)\n",
    "\n",
    "vw.Portfolios[..3]\n"
   ]
  },
  {
   "cell_type": "code",
   "execution_count": 50,
   "metadata": {
    "dotnet_interactive": {
     "language": "fsharp"
    },
    "polyglot_notebook": {
     "kernelName": "fsharp"
    }
   },
   "outputs": [
    {
     "ename": "Error",
     "evalue": "input.fsx (1,1)-(1,3) typecheck error The value, namespace, type or module 'vw' is not defined.",
     "output_type": "error",
     "traceback": [
      "input.fsx (1,1)-(1,3) typecheck error The value, namespace, type or module 'vw' is not defined."
     ]
    }
   ],
   "source": [
    "vw.Returns[..3]\n"
   ]
  },
  {
   "attachments": {},
   "cell_type": "markdown",
   "metadata": {},
   "source": [
    "### Long-short portfolios\n",
    "\n",
    "We get the Fama-French 3-Factor asset pricing model data.\n",
    "\n"
   ]
  },
  {
   "cell_type": "code",
   "execution_count": 51,
   "metadata": {
    "dotnet_interactive": {
     "language": "fsharp"
    },
    "polyglot_notebook": {
     "kernelName": "fsharp"
    }
   },
   "outputs": [],
   "source": [
    "open NovaSBE.Finance\n",
    "\n",
    "let ff3Lookup = \n",
    "    French.getFF3 French.Frequency.Monthly\n",
    "    |> Array.map (fun x -> DateTime(x.Date.Year, x.Date.Month, 1), x)\n",
    "    |> Map\n"
   ]
  },
  {
   "attachments": {},
   "cell_type": "markdown",
   "metadata": {},
   "source": [
    "Isolate some notable portfolios.\n",
    "\n"
   ]
  },
  {
   "cell_type": "code",
   "execution_count": 52,
   "metadata": {
    "dotnet_interactive": {
     "language": "fsharp"
    },
    "polyglot_notebook": {
     "kernelName": "fsharp"
    }
   },
   "outputs": [
    {
     "ename": "Error",
     "evalue": "input.fsx (6,5)-(6,7) typecheck error The value, namespace, type or module 'vw' is not defined.\ninput.fsx (9,24)-(9,30) typecheck error The type 'AssignedPortfolio' does not define the field, constructor or member 'Return'.\ninput.fsx (9,47)-(9,52) typecheck error The type 'AssignedPortfolio' does not define the field, constructor or member 'Month'.\ninput.fsx (10,23)-(10,28) typecheck error The type 'AssignedPortfolio' does not define the field, constructor or member 'Month'.\ninput.fsx (15,5)-(15,7) typecheck error The value, namespace, type or module 'vw' is not defined.\ninput.fsx (18,24)-(18,30) typecheck error The type 'AssignedPortfolio' does not define the field, constructor or member 'Return'.\ninput.fsx (18,47)-(18,52) typecheck error The type 'AssignedPortfolio' does not define the field, constructor or member 'Month'.\ninput.fsx (19,23)-(19,28) typecheck error The type 'AssignedPortfolio' does not define the field, constructor or member 'Month'.\ninput.fsx (24,5)-(24,7) typecheck error The value, namespace, type or module 'vw' is not defined.\ninput.fsx (27,48)-(27,53) typecheck error The type 'SignalPortfolioObs' does not define the field, constructor or member 'Index'.\ninput.fsx (28,49)-(28,54) typecheck error The type 'SignalPortfolioObs' does not define the field, constructor or member 'Index'.\ninput.fsx (31,31)-(31,37) typecheck error The type 'SignalPortfolioObs' does not define the field, constructor or member 'Return'.\ninput.fsx (31,46)-(31,52) typecheck error The type 'SignalPortfolioObs' does not define the field, constructor or member 'Return'.",
     "output_type": "error",
     "traceback": [
      "input.fsx (6,5)-(6,7) typecheck error The value, namespace, type or module 'vw' is not defined.\n",
      "input.fsx (9,24)-(9,30) typecheck error The type 'AssignedPortfolio' does not define the field, constructor or member 'Return'.\n",
      "input.fsx (9,47)-(9,52) typecheck error The type 'AssignedPortfolio' does not define the field, constructor or member 'Month'.\n",
      "input.fsx (10,23)-(10,28) typecheck error The type 'AssignedPortfolio' does not define the field, constructor or member 'Month'.\n",
      "input.fsx (15,5)-(15,7) typecheck error The value, namespace, type or module 'vw' is not defined.\n",
      "input.fsx (18,24)-(18,30) typecheck error The type 'AssignedPortfolio' does not define the field, constructor or member 'Return'.\n",
      "input.fsx (18,47)-(18,52) typecheck error The type 'AssignedPortfolio' does not define the field, constructor or member 'Month'.\n",
      "input.fsx (19,23)-(19,28) typecheck error The type 'AssignedPortfolio' does not define the field, constructor or member 'Month'.\n",
      "input.fsx (24,5)-(24,7) typecheck error The value, namespace, type or module 'vw' is not defined.\n",
      "input.fsx (27,48)-(27,53) typecheck error The type 'SignalPortfolioObs' does not define the field, constructor or member 'Index'.\n",
      "input.fsx (28,49)-(28,54) typecheck error The type 'SignalPortfolioObs' does not define the field, constructor or member 'Index'.\n",
      "input.fsx (31,31)-(31,37) typecheck error The type 'SignalPortfolioObs' does not define the field, constructor or member 'Return'.\n",
      "input.fsx (31,46)-(31,52) typecheck error The type 'SignalPortfolioObs' does not define the field, constructor or member 'Return'."
     ]
    }
   ],
   "source": [
    "type SignalPortfolioObs = \n",
    "    { Month: DateTime\n",
    "      Name: string\n",
    "      ExcessReturn: float }\n",
    "let long =\n",
    "    vw.Returns\n",
    "    |> List.filter (fun row -> row.Index = 3)\n",
    "    |> List.map (fun row ->\n",
    "        let retx = row.Return - ff3Lookup[row.Month].Rf \n",
    "        { Month = row.Month\n",
    "          Name = \"Long\"\n",
    "          ExcessReturn = retx })\n",
    "\n",
    "let short =\n",
    "    vw.Returns\n",
    "    |> List.filter (fun row -> row.Index = 1)\n",
    "    |> List.map (fun row -> \n",
    "        let retx = row.Return - ff3Lookup[row.Month].Rf \n",
    "        { Month = row.Month\n",
    "          Name = \"Short\"\n",
    "          ExcessReturn = retx })\n",
    "\n",
    "let longShort =\n",
    "    vw.Returns\n",
    "    |> List.groupBy (fun x -> x.Month)\n",
    "    |> List.map (fun (month, xs) ->\n",
    "        let long = xs |> List.find (fun x -> x.Index = 3)\n",
    "        let short = xs |> List.find (fun x -> x.Index = 1)\n",
    "        { Month = long.Month\n",
    "          Name = \"Long-short\"\n",
    "          ExcessReturn = long.Return - short.Return })\n"
   ]
  },
  {
   "attachments": {},
   "cell_type": "markdown",
   "metadata": {},
   "source": [
    "## Start of assignment\n",
    "\n",
    "> **Task:** Calculate the annualized Sharpe ratios of your long, short, and long-short portfolios. Assign them to values `longSharpe`, `shortSharpe`, and `longShortSharpe`, respectively.\n",
    "> \n",
    "\n"
   ]
  },
  {
   "cell_type": "code",
   "execution_count": 53,
   "metadata": {
    "dotnet_interactive": {
     "language": "fsharp"
    },
    "polyglot_notebook": {
     "kernelName": "fsharp"
    }
   },
   "outputs": [
    {
     "ename": "Error",
     "evalue": "input.fsx (1,42)-(1,60) typecheck error The type 'SignalPortfolioObs' is not defined. Maybe you want one of the following:\n   Signal\n   AssignedPortfolio\ninput.fsx (3,71)-(3,85) typecheck error Lookup on object of indeterminate type based on information prior to this program point. A type annotation may be needed prior to this program point to constrain the type of the object. This may allow the lookup to be resolved.\ninput.fsx (4,67)-(4,81) typecheck error Lookup on object of indeterminate type based on information prior to this program point. A type annotation may be needed prior to this program point to constrain the type of the object. This may allow the lookup to be resolved.\ninput.fsx (8,39)-(8,43) typecheck error The value or constructor 'long' is not defined. Maybe you want one of the following:\n   log\n   log2\ninput.fsx (9,40)-(9,45) typecheck error The value or constructor 'short' is not defined. Maybe you want one of the following:\n   sqrt\n   Chart\ninput.fsx (10,44)-(10,53) typecheck error The value or constructor 'longShort' is not defined. Maybe you want one of the following:\n   longSharpe",
     "output_type": "error",
     "traceback": [
      "input.fsx (1,42)-(1,60) typecheck error The type 'SignalPortfolioObs' is not defined. Maybe you want one of the following:\n",
      "   Signal\n",
      "   AssignedPortfolio\n",
      "input.fsx (3,71)-(3,85) typecheck error Lookup on object of indeterminate type based on information prior to this program point. A type annotation may be needed prior to this program point to constrain the type of the object. This may allow the lookup to be resolved.\n",
      "input.fsx (4,67)-(4,81) typecheck error Lookup on object of indeterminate type based on information prior to this program point. A type annotation may be needed prior to this program point to constrain the type of the object. This may allow the lookup to be resolved.\n",
      "input.fsx (8,39)-(8,43) typecheck error The value or constructor 'long' is not defined. Maybe you want one of the following:\n",
      "   log\n",
      "   log2\n",
      "input.fsx (9,40)-(9,45) typecheck error The value or constructor 'short' is not defined. Maybe you want one of the following:\n",
      "   sqrt\n",
      "   Chart\n",
      "input.fsx (10,44)-(10,53) typecheck error The value or constructor 'longShort' is not defined. Maybe you want one of the following:\n",
      "   longSharpe"
     ]
    }
   ],
   "source": [
    "let annualizeSharpeRatio (excessReturns: SignalPortfolioObs list) =\n",
    "    let excessReturnsSeq = excessReturns |> List.toSeq\n",
    "    let avgExcessReturn = excessReturnsSeq |> Seq.averageBy (fun x -> x.ExcessReturn)\n",
    "    let stDevExcessReturn = excessReturnsSeq |> Seq.map (fun x -> x.ExcessReturn) |> Seq.stDev\n",
    "    let sharpeRatio = avgExcessReturn / stDevExcessReturn\n",
    "    sharpeRatio * sqrt 12.0\n",
    "\n",
    "let longSharpe = annualizeSharpeRatio long\n",
    "let shortSharpe = annualizeSharpeRatio short\n",
    "let longShortSharpe = annualizeSharpeRatio longShort\n",
    "\n",
    "(longSharpe, shortSharpe, longShortSharpe)\n"
   ]
  },
  {
   "attachments": {},
   "cell_type": "markdown",
   "metadata": {},
   "source": [
    "Tests\n",
    "\n"
   ]
  },
  {
   "cell_type": "code",
   "execution_count": 54,
   "metadata": {
    "dotnet_interactive": {
     "language": "fsharp"
    },
    "polyglot_notebook": {
     "kernelName": "fsharp"
    }
   },
   "outputs": [
    {
     "ename": "Error",
     "evalue": "input.fsx (1,1)-(1,11) typecheck error The value or constructor 'longSharpe' is not defined.\ninput.fsx (2,1)-(2,12) typecheck error The value or constructor 'shortSharpe' is not defined.\ninput.fsx (3,1)-(3,16) typecheck error The value or constructor 'longShortSharpe' is not defined.",
     "output_type": "error",
     "traceback": [
      "input.fsx (1,1)-(1,11) typecheck error The value or constructor 'longSharpe' is not defined.\n",
      "input.fsx (2,1)-(2,12) typecheck error The value or constructor 'shortSharpe' is not defined.\n",
      "input.fsx (3,1)-(3,16) typecheck error The value or constructor 'longShortSharpe' is not defined."
     ]
    }
   ],
   "source": [
    "longSharpe |> should (equalWithin 1e-6) 0.2613490337\n",
    "shortSharpe |> should (equalWithin 1e-6) 0.490118588\n",
    "longShortSharpe |> should (equalWithin 1e-6) -0.05676492997\n"
   ]
  },
  {
   "attachments": {},
   "cell_type": "markdown",
   "metadata": {},
   "source": [
    "> **Task:** Create a `list<RegData>` for your  long-short portfolio. Assign it to a value named `longShortRd`.\n",
    "> \n",
    "\n"
   ]
  },
  {
   "cell_type": "code",
   "execution_count": 55,
   "metadata": {
    "dotnet_interactive": {
     "language": "fsharp"
    },
    "polyglot_notebook": {
     "kernelName": "fsharp"
    }
   },
   "outputs": [
    {
     "ename": "Error",
     "evalue": "input.fsx (10,5)-(10,14) typecheck error The value or constructor 'longShort' is not defined.",
     "output_type": "error",
     "traceback": [
      "input.fsx (10,5)-(10,14) typecheck error The value or constructor 'longShort' is not defined."
     ]
    }
   ],
   "source": [
    "type RegData =\n",
    "    { Month: DateTime\n",
    "      ExcessReturn: float \n",
    "      MktRf: float\n",
    "      Hml: float\n",
    "      Smb: float }\n",
    "\n",
    "// Solution here.\n",
    "let longShortRd =\n",
    "    longShort\n",
    "    |> List.map (fun ls ->\n",
    "        let ffFactors = ff3Lookup[ls.Month]\n",
    "        { Month = ls.Month\n",
    "          ExcessReturn = ls.ExcessReturn\n",
    "          MktRf = ffFactors.MktRf\n",
    "          Hml = ffFactors.Hml\n",
    "          Smb = ffFactors.Smb })\n",
    "\n",
    "// Display the first few elements of the longShortRd list\n",
    "longShortRd |> List.take 5\n"
   ]
  },
  {
   "attachments": {},
   "cell_type": "markdown",
   "metadata": {},
   "source": [
    "Tests\n",
    "\n"
   ]
  },
  {
   "cell_type": "code",
   "execution_count": 56,
   "metadata": {
    "dotnet_interactive": {
     "language": "fsharp"
    },
    "polyglot_notebook": {
     "kernelName": "fsharp"
    }
   },
   "outputs": [
    {
     "ename": "Error",
     "evalue": "input.fsx (1,1)-(1,12) typecheck error The value or constructor 'longShortRd' is not defined.\ninput.fsx (2,1)-(2,12) typecheck error The value or constructor 'longShortRd' is not defined.\ninput.fsx (2,38)-(2,45) typecheck error The type 'RegData' is not defined.",
     "output_type": "error",
     "traceback": [
      "input.fsx (1,1)-(1,12) typecheck error The value or constructor 'longShortRd' is not defined.\n",
      "input.fsx (2,1)-(2,12) typecheck error The value or constructor 'longShortRd' is not defined.\n",
      "input.fsx (2,38)-(2,45) typecheck error The type 'RegData' is not defined."
     ]
    }
   ],
   "source": [
    "longShortRd |> shouldHaveLength 252\n",
    "longShortRd |> should be ofExactType<RegData list>\n"
   ]
  },
  {
   "attachments": {},
   "cell_type": "markdown",
   "metadata": {},
   "source": [
    "> **Task:** Fit CAPM and Fama-French 3-factor models for your long-short portfolio. Assign them to a values named `capmModel` and `ff3Model`, respectively.\n",
    "> \n",
    "\n"
   ]
  },
  {
   "cell_type": "code",
   "execution_count": 57,
   "metadata": {
    "dotnet_interactive": {
     "language": "fsharp"
    },
    "polyglot_notebook": {
     "kernelName": "fsharp"
    }
   },
   "outputs": [
    {
     "ename": "Error",
     "evalue": "input.fsx (10,5)-(10,16) typecheck error The value or constructor 'longShortRd' is not defined.\ninput.fsx (11,35)-(11,43) typecheck error Lookup on object of indeterminate type based on information prior to this program point. A type annotation may be needed prior to this program point to constrain the type of the object. This may allow the lookup to be resolved.\ninput.fsx (11,47)-(11,62) typecheck error Lookup on object of indeterminate type based on information prior to this program point. A type annotation may be needed prior to this program point to constrain the type of the object. This may allow the lookup to be resolved.\ninput.fsx (14,5)-(14,16) typecheck error The value or constructor 'longShortRd' is not defined.\ninput.fsx (15,35)-(15,43) typecheck error Lookup on object of indeterminate type based on information prior to this program point. A type annotation may be needed prior to this program point to constrain the type of the object. This may allow the lookup to be resolved.\ninput.fsx (15,45)-(15,51) typecheck error Lookup on object of indeterminate type based on information prior to this program point. A type annotation may be needed prior to this program point to constrain the type of the object. This may allow the lookup to be resolved.\ninput.fsx (15,53)-(15,59) typecheck error Lookup on object of indeterminate type based on information prior to this program point. A type annotation may be needed prior to this program point to constrain the type of the object. This may allow the lookup to be resolved.\ninput.fsx (15,63)-(15,78) typecheck error Lookup on object of indeterminate type based on information prior to this program point. A type annotation may be needed prior to this program point to constrain the type of the object. This may allow the lookup to be resolved.",
     "output_type": "error",
     "traceback": [
      "input.fsx (10,5)-(10,16) typecheck error The value or constructor 'longShortRd' is not defined.\n",
      "input.fsx (11,35)-(11,43) typecheck error Lookup on object of indeterminate type based on information prior to this program point. A type annotation may be needed prior to this program point to constrain the type of the object. This may allow the lookup to be resolved.\n",
      "input.fsx (11,47)-(11,62) typecheck error Lookup on object of indeterminate type based on information prior to this program point. A type annotation may be needed prior to this program point to constrain the type of the object. This may allow the lookup to be resolved.\n",
      "input.fsx (14,5)-(14,16) typecheck error The value or constructor 'longShortRd' is not defined.\n",
      "input.fsx (15,35)-(15,43) typecheck error Lookup on object of indeterminate type based on information prior to this program point. A type annotation may be needed prior to this program point to constrain the type of the object. This may allow the lookup to be resolved.\n",
      "input.fsx (15,45)-(15,51) typecheck error Lookup on object of indeterminate type based on information prior to this program point. A type annotation may be needed prior to this program point to constrain the type of the object. This may allow the lookup to be resolved.\n",
      "input.fsx (15,53)-(15,59) typecheck error Lookup on object of indeterminate type based on information prior to this program point. A type annotation may be needed prior to this program point to constrain the type of the object. This may allow the lookup to be resolved.\n",
      "input.fsx (15,63)-(15,78) typecheck error Lookup on object of indeterminate type based on information prior to this program point. A type annotation may be needed prior to this program point to constrain the type of the object. This may allow the lookup to be resolved."
     ]
    }
   ],
   "source": [
    "open MathNet.Numerics.LinearAlgebra\n",
    "open MathNet.Numerics.Statistics\n",
    "\n",
    "type RegressionResults =\n",
    "    { Betas: float array\n",
    "      Residuals: float array\n",
    "      Mse: float }\n",
    "\n",
    "let capmInputData = \n",
    "    longShortRd\n",
    "    |> List.map (fun rd -> [|1.0; rd.MktRf|], rd.ExcessReturn)\n",
    "\n",
    "let ff3InputData = \n",
    "    longShortRd\n",
    "    |> List.map (fun rd -> [|1.0; rd.MktRf; rd.Hml; rd.Smb|], rd.ExcessReturn)\n",
    "\n",
    "let capmX = capmInputData |> List.map fst |> Array.ofList |> DenseMatrix.ofRowArrays\n",
    "let capmY = capmInputData |> List.map snd |> Array.ofList |> DenseVector.ofArray\n",
    "\n",
    "let ff3X = ff3InputData |> List.map fst |> Array.ofList |> DenseMatrix.ofRowArrays\n",
    "let ff3Y = ff3InputData |> List.map snd |> Array.ofList |> DenseVector.ofArray\n",
    "\n",
    "let capmBetas = capmX.QR().Solve(capmY)\n",
    "let capmResiduals = capmY - (capmX * capmBetas)\n",
    "let capmMse = capmResiduals.PointwisePower(2).Mean()\n",
    "\n",
    "let ff3Betas = ff3X.QR().Solve(ff3Y)\n",
    "let ff3Residuals = ff3Y - (ff3X * ff3Betas)\n",
    "let ff3Mse = ff3Residuals.PointwisePower(2).Mean()\n",
    "\n",
    "let capmModel = { Betas = capmBetas.ToArray(); Residuals = capmResiduals.ToArray(); Mse = capmMse }\n",
    "let ff3Model = { Betas = ff3Betas.ToArray(); Residuals = ff3Residuals.ToArray(); Mse = ff3Mse }\n",
    "\n",
    "(capmModel, ff3Model)\n"
   ]
  },
  {
   "attachments": {},
   "cell_type": "markdown",
   "metadata": {},
   "source": [
    "Tests.\n",
    "\n"
   ]
  },
  {
   "cell_type": "code",
   "execution_count": 58,
   "metadata": {
    "dotnet_interactive": {
     "language": "fsharp"
    },
    "polyglot_notebook": {
     "kernelName": "fsharp"
    }
   },
   "outputs": [
    {
     "ename": "Error",
     "evalue": "input.fsx (1,1)-(1,10) typecheck error The value or constructor 'capmModel' is not defined.\ninput.fsx (2,1)-(2,9) typecheck error The value or constructor 'ff3Model' is not defined.",
     "output_type": "error",
     "traceback": [
      "input.fsx (1,1)-(1,10) typecheck error The value or constructor 'capmModel' is not defined.\n",
      "input.fsx (2,1)-(2,9) typecheck error The value or constructor 'ff3Model' is not defined."
     ]
    }
   ],
   "source": [
    "capmModel |> should be ofExactType<RegressionResults>\n",
    "ff3Model |> should be ofExactType<RegressionResults>\n"
   ]
  },
  {
   "attachments": {},
   "cell_type": "markdown",
   "metadata": {},
   "source": [
    "### CAPM model evaluation.\n",
    "\n",
    "> **Task:** What is the CAPM alpha for your long-short portfolio? Use code to assign the alpha to the value `capmAlpha`. Is it significantly different from zero? Use code to assign the t-statistic to the value `capmAlphaT`.\n",
    "> \n"
   ]
  },
  {
   "cell_type": "code",
   "execution_count": 59,
   "metadata": {
    "dotnet_interactive": {
     "language": "fsharp"
    },
    "polyglot_notebook": {
     "kernelName": "fsharp"
    }
   },
   "outputs": [
    {
     "ename": "Error",
     "evalue": "input.fsx (3,17)-(3,26) typecheck error The value, namespace, type or module 'capmModel' is not defined.\ninput.fsx (3,17)-(3,36) typecheck error The operator 'expr.[idx]' has been used on an object of indeterminate type based on information prior to this program point. Consider adding further type constraints\ninput.fsx (5,13)-(5,24) typecheck error The value or constructor 'longShortRd' is not defined.\ninput.fsx (5,54)-(5,61) typecheck error Lookup on object of indeterminate type based on information prior to this program point. A type annotation may be needed prior to this program point to constrain the type of the object. This may allow the lookup to be resolved.\ninput.fsx (5,96)-(5,107) typecheck error The type 'DenseMatrix<_>' does not define the field, constructor or member 'ofRowArrays'.\ninput.fsx (7,17)-(7,26) typecheck error The value, namespace, type or module 'capmModel' is not defined. Maybe you want one of the following:\n   capmX\n   capmAlpha\ninput.fsx (8,15)-(8,31) typecheck error Lookup on object of indeterminate type based on information prior to this program point. A type annotation may be needed prior to this program point to constrain the type of the object. This may allow the lookup to be resolved.\ninput.fsx (10,11)-(10,41) typecheck error Lookup on object of indeterminate type based on information prior to this program point. A type annotation may be needed prior to this program point to constrain the type of the object. This may allow the lookup to be resolved.\ninput.fsx (11,15)-(11,26) typecheck error Lookup on object of indeterminate type based on information prior to this program point. A type annotation may be needed prior to this program point to constrain the type of the object. This may allow the lookup to be resolved.\ninput.fsx (15,20)-(15,34) typecheck error The operator 'expr.[idx]' has been used on an object of indeterminate type based on information prior to this program point. Consider adding further type constraints",
     "output_type": "error",
     "traceback": [
      "input.fsx (3,17)-(3,26) typecheck error The value, namespace, type or module 'capmModel' is not defined.\n",
      "input.fsx (3,17)-(3,36) typecheck error The operator 'expr.[idx]' has been used on an object of indeterminate type based on information prior to this program point. Consider adding further type constraints\n",
      "input.fsx (5,13)-(5,24) typecheck error The value or constructor 'longShortRd' is not defined.\n",
      "input.fsx (5,54)-(5,61) typecheck error Lookup on object of indeterminate type based on information prior to this program point. A type annotation may be needed prior to this program point to constrain the type of the object. This may allow the lookup to be resolved.\n",
      "input.fsx (5,96)-(5,107) typecheck error The type 'DenseMatrix<_>' does not define the field, constructor or member 'ofRowArrays'.\n",
      "input.fsx (7,17)-(7,26) typecheck error The value, namespace, type or module 'capmModel' is not defined. Maybe you want one of the following:\n",
      "   capmX\n",
      "   capmAlpha\n",
      "input.fsx (8,15)-(8,31) typecheck error Lookup on object of indeterminate type based on information prior to this program point. A type annotation may be needed prior to this program point to constrain the type of the object. This may allow the lookup to be resolved.\n",
      "input.fsx (10,11)-(10,41) typecheck error Lookup on object of indeterminate type based on information prior to this program point. A type annotation may be needed prior to this program point to constrain the type of the object. This may allow the lookup to be resolved.\n",
      "input.fsx (11,15)-(11,26) typecheck error Lookup on object of indeterminate type based on information prior to this program point. A type annotation may be needed prior to this program point to constrain the type of the object. This may allow the lookup to be resolved.\n",
      "input.fsx (15,20)-(15,34) typecheck error The operator 'expr.[idx]' has been used on an object of indeterminate type based on information prior to this program point. Consider adding further type constraints"
     ]
    }
   ],
   "source": [
    "open MathNet.Numerics\n",
    "\n",
    "let capmAlpha = capmModel.Betas.[0]\n",
    "\n",
    "let capmX = longShortRd |> List.map (fun r -> [|1.0; r.MktRf|]) |> List.toArray |> DenseMatrix.ofRowArrays\n",
    "\n",
    "let residuals = capmModel.Residuals\n",
    "let n = float residuals.Length\n",
    "\n",
    "let XTX = capmX.TransposeThisAndMultiply(capmX)\n",
    "let XTX_inv = XTX.Inverse()\n",
    "\n",
    "let sumSquaredResiduals = residuals |> Array.map (fun x -> x * x) |> Array.sum\n",
    "let residualsVar = sumSquaredResiduals / (n - 2.0)\n",
    "let capmAlphaVar = XTX_inv.[0, 0] * residualsVar\n",
    "let capmAlphaStdErr = sqrt capmAlphaVar\n",
    "\n",
    "let capmAlphaT = capmAlpha / capmAlphaStdErr\n",
    "\n",
    "(capmAlpha, capmAlphaT)\n"
   ]
  },
  {
   "attachments": {},
   "cell_type": "markdown",
   "metadata": {},
   "source": [
    "Tests\n",
    "\n"
   ]
  },
  {
   "cell_type": "code",
   "execution_count": 60,
   "metadata": {
    "dotnet_interactive": {
     "language": "fsharp"
    },
    "polyglot_notebook": {
     "kernelName": "fsharp"
    }
   },
   "outputs": [
    {
     "ename": "Error",
     "evalue": "input.fsx (1,1)-(1,10) typecheck error The value or constructor 'capmAlpha' is not defined.\ninput.fsx (2,1)-(2,11) typecheck error The value or constructor 'capmAlphaT' is not defined.",
     "output_type": "error",
     "traceback": [
      "input.fsx (1,1)-(1,10) typecheck error The value or constructor 'capmAlpha' is not defined.\n",
      "input.fsx (2,1)-(2,11) typecheck error The value or constructor 'capmAlphaT' is not defined."
     ]
    }
   ],
   "source": [
    "capmAlpha |> should (equalWithin 1e-6) -0.003015844638\n",
    "capmAlphaT |> should (equalWithin 1e-6) -1.011538156\n"
   ]
  },
  {
   "attachments": {},
   "cell_type": "markdown",
   "metadata": {},
   "source": [
    "> **Task:** What is the CAPM beta for your long-short portfolio? Use code to assign the beta to the value `capmBeta`. Is it significantly different from zero? Use code to assign the t-statistic to the value `capmBetaT`.\n",
    "> \n",
    "\n"
   ]
  },
  {
   "cell_type": "code",
   "execution_count": 61,
   "metadata": {
    "dotnet_interactive": {
     "language": "fsharp"
    },
    "polyglot_notebook": {
     "kernelName": "fsharp"
    }
   },
   "outputs": [
    {
     "ename": "Error",
     "evalue": "input.fsx (4,16)-(4,25) typecheck error The value, namespace, type or module 'capmModel' is not defined.\ninput.fsx (4,16)-(4,35) typecheck error The operator 'expr.[idx]' has been used on an object of indeterminate type based on information prior to this program point. Consider adding further type constraints\ninput.fsx (7,19)-(7,26) typecheck error The value or constructor 'XTX_inv' is not defined.\ninput.fsx (7,19)-(7,33) typecheck error The operator 'expr.[idx]' has been used on an object of indeterminate type based on information prior to this program point. Consider adding further type constraints\ninput.fsx (7,36)-(7,48) typecheck error The value or constructor 'residualsVar' is not defined. Maybe you want one of the following:\n   Result\n   ResizeArray",
     "output_type": "error",
     "traceback": [
      "input.fsx (4,16)-(4,25) typecheck error The value, namespace, type or module 'capmModel' is not defined.\n",
      "input.fsx (4,16)-(4,35) typecheck error The operator 'expr.[idx]' has been used on an object of indeterminate type based on information prior to this program point. Consider adding further type constraints\n",
      "input.fsx (7,19)-(7,26) typecheck error The value or constructor 'XTX_inv' is not defined.\n",
      "input.fsx (7,19)-(7,33) typecheck error The operator 'expr.[idx]' has been used on an object of indeterminate type based on information prior to this program point. Consider adding further type constraints\n",
      "input.fsx (7,36)-(7,48) typecheck error The value or constructor 'residualsVar' is not defined. Maybe you want one of the following:\n",
      "   Result\n",
      "   ResizeArray"
     ]
    }
   ],
   "source": [
    "open MathNet.Numerics\n",
    "\n",
    "// The CAPM beta is the second element of the Betas property\n",
    "let capmBeta = capmModel.Betas.[1]\n",
    "\n",
    "// Calculate the variance and standard error for beta\n",
    "let capmBetaVar = XTX_inv.[1, 1] * residualsVar\n",
    "let capmBetaStdErr = sqrt capmBetaVar\n",
    "\n",
    "// Compute the t-statistic for beta\n",
    "let capmBetaT = capmBeta / capmBetaStdErr\n",
    "\n",
    "(capmBeta, capmBetaT)\n"
   ]
  },
  {
   "attachments": {},
   "cell_type": "markdown",
   "metadata": {},
   "source": [
    "Tests\n",
    "\n"
   ]
  },
  {
   "cell_type": "code",
   "execution_count": 62,
   "metadata": {
    "dotnet_interactive": {
     "language": "fsharp"
    },
    "polyglot_notebook": {
     "kernelName": "fsharp"
    }
   },
   "outputs": [
    {
     "ename": "Error",
     "evalue": "input.fsx (1,1)-(1,9) typecheck error The value or constructor 'capmBeta' is not defined.\ninput.fsx (2,1)-(2,10) typecheck error The value or constructor 'capmBetaT' is not defined.",
     "output_type": "error",
     "traceback": [
      "input.fsx (1,1)-(1,9) typecheck error The value or constructor 'capmBeta' is not defined.\n",
      "input.fsx (2,1)-(2,10) typecheck error The value or constructor 'capmBetaT' is not defined."
     ]
    }
   ],
   "source": [
    "capmBeta |> should (equalWithin 1e-6) 0.3874415756\n",
    "capmBetaT |> should (equalWithin 1e-6) 5.957967542\n"
   ]
  },
  {
   "attachments": {},
   "cell_type": "markdown",
   "metadata": {},
   "source": [
    "> **Task:** What is the information ratio for your long-short portfolio when using the CAPM model? Assign it to a value named `capmIR`.\n",
    "> \n",
    "\n"
   ]
  },
  {
   "cell_type": "code",
   "execution_count": 63,
   "metadata": {
    "dotnet_interactive": {
     "language": "fsharp"
    },
    "polyglot_notebook": {
     "kernelName": "fsharp"
    }
   },
   "outputs": [
    {
     "ename": "Error",
     "evalue": "input.fsx (4,21)-(4,30) typecheck error The value or constructor 'residuals' is not defined. Maybe you want one of the following:\n   Result\ninput.fsx (4,34)-(4,62) typecheck error A unique overload for method 'StandardDeviation' could not be determined based on type information prior to this program point. A type annotation may be needed.\n\nKnown type of argument: obj\n\nCandidates:\n - Statistics.StandardDeviation(samples: Collections.Generic.IEnumerable<Nullable<float>>) : float\n - Statistics.StandardDeviation(samples: Collections.Generic.IEnumerable<float32>) : float\n - Statistics.StandardDeviation(samples: Collections.Generic.IEnumerable<float>) : float\ninput.fsx (7,14)-(7,23) typecheck error The value or constructor 'capmAlpha' is not defined.",
     "output_type": "error",
     "traceback": [
      "input.fsx (4,21)-(4,30) typecheck error The value or constructor 'residuals' is not defined. Maybe you want one of the following:\n",
      "   Result\n",
      "input.fsx (4,34)-(4,62) typecheck error A unique overload for method 'StandardDeviation' could not be determined based on type information prior to this program point. A type annotation may be needed.\n",
      "\n",
      "Known type of argument: obj\n",
      "\n",
      "Candidates:\n",
      " - Statistics.StandardDeviation(samples: Collections.Generic.IEnumerable<Nullable<float>>) : float\n",
      " - Statistics.StandardDeviation(samples: Collections.Generic.IEnumerable<float32>) : float\n",
      " - Statistics.StandardDeviation(samples: Collections.Generic.IEnumerable<float>) : float\n",
      "input.fsx (7,14)-(7,23) typecheck error The value or constructor 'capmAlpha' is not defined."
     ]
    }
   ],
   "source": [
    "open MathNet.Numerics.Statistics\n",
    "\n",
    "// Calculate the tracking error (standard deviation of residuals)\n",
    "let trackingError = residuals |> Statistics.StandardDeviation\n",
    "\n",
    "// Compute the information ratio using CAPM alpha and tracking error\n",
    "let capmIR = capmAlpha / trackingError\n",
    "\n",
    "capmIR\n"
   ]
  },
  {
   "attachments": {},
   "cell_type": "markdown",
   "metadata": {},
   "source": [
    "Tests\n",
    "\n"
   ]
  },
  {
   "cell_type": "code",
   "execution_count": 64,
   "metadata": {
    "dotnet_interactive": {
     "language": "fsharp"
    },
    "polyglot_notebook": {
     "kernelName": "fsharp"
    }
   },
   "outputs": [
    {
     "ename": "Error",
     "evalue": "input.fsx (1,1)-(1,7) typecheck error The value or constructor 'capmIR' is not defined.",
     "output_type": "error",
     "traceback": [
      "input.fsx (1,1)-(1,7) typecheck error The value or constructor 'capmIR' is not defined."
     ]
    }
   ],
   "source": [
    "capmIR |> should (equalWithin 1e-6) -0.06434136117\n"
   ]
  },
  {
   "attachments": {},
   "cell_type": "markdown",
   "metadata": {},
   "source": [
    "### Fama-French 3-factor model evaluation.\n",
    "\n",
    "> **Task:** What is the Fama-French 3-factor model alpha for your long-short portfolio. Is it significantly different from zero?\n",
    "> \n",
    "\n"
   ]
  },
  {
   "cell_type": "code",
   "execution_count": 65,
   "metadata": {
    "dotnet_interactive": {
     "language": "fsharp"
    },
    "polyglot_notebook": {
     "kernelName": "fsharp"
    }
   },
   "outputs": [
    {
     "ename": "Error",
     "evalue": "input.fsx (1,16)-(1,24) typecheck error The value, namespace, type or module 'ff3Model' is not defined.\ninput.fsx (1,16)-(1,34) typecheck error The operator 'expr.[idx]' has been used on an object of indeterminate type based on information prior to this program point. Consider adding further type constraints\ninput.fsx (3,12)-(3,23) typecheck error The value or constructor 'longShortRd' is not defined.\ninput.fsx (3,53)-(3,60) typecheck error Lookup on object of indeterminate type based on information prior to this program point. A type annotation may be needed prior to this program point to constrain the type of the object. This may allow the lookup to be resolved.\ninput.fsx (3,62)-(3,67) typecheck error Lookup on object of indeterminate type based on information prior to this program point. A type annotation may be needed prior to this program point to constrain the type of the object. This may allow the lookup to be resolved.\ninput.fsx (3,69)-(3,74) typecheck error Lookup on object of indeterminate type based on information prior to this program point. A type annotation may be needed prior to this program point to constrain the type of the object. This may allow the lookup to be resolved.\ninput.fsx (3,109)-(3,120) typecheck error The type 'DenseMatrix<_>' does not define the field, constructor or member 'ofRowArrays'.\ninput.fsx (5,17)-(5,25) typecheck error The value, namespace, type or module 'ff3Model' is not defined. Maybe you want one of the following:\n   ff3X\ninput.fsx (6,15)-(6,31) typecheck error Lookup on object of indeterminate type based on information prior to this program point. A type annotation may be needed prior to this program point to constrain the type of the object. This may allow the lookup to be resolved.\ninput.fsx (8,11)-(8,40) typecheck error Lookup on object of indeterminate type based on information prior to this program point. A type annotation may be needed prior to this program point to constrain the type of the object. This may allow the lookup to be resolved.\ninput.fsx (9,15)-(9,26) typecheck error Lookup on object of indeterminate type based on information prior to this program point. A type annotation may be needed prior to this program point to constrain the type of the object. This may allow the lookup to be resolved.\ninput.fsx (13,19)-(13,33) typecheck error The operator 'expr.[idx]' has been used on an object of indeterminate type based on information prior to this program point. Consider adding further type constraints",
     "output_type": "error",
     "traceback": [
      "input.fsx (1,16)-(1,24) typecheck error The value, namespace, type or module 'ff3Model' is not defined.\n",
      "input.fsx (1,16)-(1,34) typecheck error The operator 'expr.[idx]' has been used on an object of indeterminate type based on information prior to this program point. Consider adding further type constraints\n",
      "input.fsx (3,12)-(3,23) typecheck error The value or constructor 'longShortRd' is not defined.\n",
      "input.fsx (3,53)-(3,60) typecheck error Lookup on object of indeterminate type based on information prior to this program point. A type annotation may be needed prior to this program point to constrain the type of the object. This may allow the lookup to be resolved.\n",
      "input.fsx (3,62)-(3,67) typecheck error Lookup on object of indeterminate type based on information prior to this program point. A type annotation may be needed prior to this program point to constrain the type of the object. This may allow the lookup to be resolved.\n",
      "input.fsx (3,69)-(3,74) typecheck error Lookup on object of indeterminate type based on information prior to this program point. A type annotation may be needed prior to this program point to constrain the type of the object. This may allow the lookup to be resolved.\n",
      "input.fsx (3,109)-(3,120) typecheck error The type 'DenseMatrix<_>' does not define the field, constructor or member 'ofRowArrays'.\n",
      "input.fsx (5,17)-(5,25) typecheck error The value, namespace, type or module 'ff3Model' is not defined. Maybe you want one of the following:\n",
      "   ff3X\n",
      "input.fsx (6,15)-(6,31) typecheck error Lookup on object of indeterminate type based on information prior to this program point. A type annotation may be needed prior to this program point to constrain the type of the object. This may allow the lookup to be resolved.\n",
      "input.fsx (8,11)-(8,40) typecheck error Lookup on object of indeterminate type based on information prior to this program point. A type annotation may be needed prior to this program point to constrain the type of the object. This may allow the lookup to be resolved.\n",
      "input.fsx (9,15)-(9,26) typecheck error Lookup on object of indeterminate type based on information prior to this program point. A type annotation may be needed prior to this program point to constrain the type of the object. This may allow the lookup to be resolved.\n",
      "input.fsx (13,19)-(13,33) typecheck error The operator 'expr.[idx]' has been used on an object of indeterminate type based on information prior to this program point. Consider adding further type constraints"
     ]
    }
   ],
   "source": [
    "let ff3Alpha = ff3Model.Betas.[0]\n",
    "\n",
    "let ff3X = longShortRd |> List.map (fun r -> [|1.0; r.MktRf; r.Hml; r.Smb|]) |> List.toArray |> DenseMatrix.ofRowArrays\n",
    "\n",
    "let residuals = ff3Model.Residuals\n",
    "let n = float residuals.Length\n",
    "\n",
    "let XTX = ff3X.TransposeThisAndMultiply(ff3X)\n",
    "let XTX_inv = XTX.Inverse()\n",
    "\n",
    "let sumSquaredResiduals = residuals |> Array.map (fun x -> x * x) |> Array.sum\n",
    "let residualsVar = sumSquaredResiduals / (n - 4.0)\n",
    "let ff3AlphaVar = XTX_inv.[0, 0] * residualsVar\n",
    "let ff3AlphaStdErr = sqrt ff3AlphaVar\n",
    "\n",
    "let ff3AlphaT = ff3Alpha / ff3AlphaStdErr\n",
    "\n",
    "(ff3Alpha, ff3AlphaT)\n"
   ]
  },
  {
   "attachments": {},
   "cell_type": "markdown",
   "metadata": {},
   "source": [
    "> **Task:** What are the betas on the Market, HML, and SMB factors for your long-short portfolio. Are they significantly different from zero?\n",
    "> \n",
    "\n"
   ]
  },
  {
   "cell_type": "code",
   "execution_count": 66,
   "metadata": {
    "dotnet_interactive": {
     "language": "fsharp"
    },
    "polyglot_notebook": {
     "kernelName": "fsharp"
    }
   },
   "outputs": [
    {
     "ename": "Error",
     "evalue": "input.fsx (2,15)-(2,23) typecheck error The value, namespace, type or module 'ff3Model' is not defined.\ninput.fsx (2,15)-(2,33) typecheck error The operator 'expr.[idx]' has been used on an object of indeterminate type based on information prior to this program point. Consider adding further type constraints\ninput.fsx (3,15)-(3,23) typecheck error The value, namespace, type or module 'ff3Model' is not defined.\ninput.fsx (3,15)-(3,33) typecheck error The operator 'expr.[idx]' has been used on an object of indeterminate type based on information prior to this program point. Consider adding further type constraints\ninput.fsx (6,12)-(6,24) typecheck error The value or constructor 'ff3InputData' is not defined.\ninput.fsx (6,72)-(6,83) typecheck error The type 'DenseMatrix<_>' does not define the field, constructor or member 'ofRowArrays'.\ninput.fsx (7,17)-(7,25) typecheck error The value, namespace, type or module 'ff3Model' is not defined. Maybe you want one of the following:\n   ff3X\ninput.fsx (8,15)-(8,31) typecheck error Lookup on object of indeterminate type based on information prior to this program point. A type annotation may be needed prior to this program point to constrain the type of the object. This may allow the lookup to be resolved.\ninput.fsx (13,11)-(13,40) typecheck error Lookup on object of indeterminate type based on information prior to this program point. A type annotation may be needed prior to this program point to constrain the type of the object. This may allow the lookup to be resolved.\ninput.fsx (14,15)-(14,26) typecheck error Lookup on object of indeterminate type based on information prior to this program point. A type annotation may be needed prior to this program point to constrain the type of the object. This may allow the lookup to be resolved.\ninput.fsx (16,18)-(16,32) typecheck error The operator 'expr.[idx]' has been used on an object of indeterminate type based on information prior to this program point. Consider adding further type constraints\ninput.fsx (17,18)-(17,32) typecheck error The operator 'expr.[idx]' has been used on an object of indeterminate type based on information prior to this program point. Consider adding further type constraints",
     "output_type": "error",
     "traceback": [
      "input.fsx (2,15)-(2,23) typecheck error The value, namespace, type or module 'ff3Model' is not defined.\n",
      "input.fsx (2,15)-(2,33) typecheck error The operator 'expr.[idx]' has been used on an object of indeterminate type based on information prior to this program point. Consider adding further type constraints\n",
      "input.fsx (3,15)-(3,23) typecheck error The value, namespace, type or module 'ff3Model' is not defined.\n",
      "input.fsx (3,15)-(3,33) typecheck error The operator 'expr.[idx]' has been used on an object of indeterminate type based on information prior to this program point. Consider adding further type constraints\n",
      "input.fsx (6,12)-(6,24) typecheck error The value or constructor 'ff3InputData' is not defined.\n",
      "input.fsx (6,72)-(6,83) typecheck error The type 'DenseMatrix<_>' does not define the field, constructor or member 'ofRowArrays'.\n",
      "input.fsx (7,17)-(7,25) typecheck error The value, namespace, type or module 'ff3Model' is not defined. Maybe you want one of the following:\n",
      "   ff3X\n",
      "input.fsx (8,15)-(8,31) typecheck error Lookup on object of indeterminate type based on information prior to this program point. A type annotation may be needed prior to this program point to constrain the type of the object. This may allow the lookup to be resolved.\n",
      "input.fsx (13,11)-(13,40) typecheck error Lookup on object of indeterminate type based on information prior to this program point. A type annotation may be needed prior to this program point to constrain the type of the object. This may allow the lookup to be resolved.\n",
      "input.fsx (14,15)-(14,26) typecheck error Lookup on object of indeterminate type based on information prior to this program point. A type annotation may be needed prior to this program point to constrain the type of the object. This may allow the lookup to be resolved.\n",
      "input.fsx (16,18)-(16,32) typecheck error The operator 'expr.[idx]' has been used on an object of indeterminate type based on information prior to this program point. Consider adding further type constraints\n",
      "input.fsx (17,18)-(17,32) typecheck error The operator 'expr.[idx]' has been used on an object of indeterminate type based on information prior to this program point. Consider adding further type constraints"
     ]
    }
   ],
   "source": [
    "// The betas for HML and SMB are the third and fourth elements of the Betas property\n",
    "let hmlBeta = ff3Model.Betas.[2]\n",
    "let smbBeta = ff3Model.Betas.[3]\n",
    "\n",
    "// Calculate the variance and standard error for each beta\n",
    "let ff3X = ff3InputData |> List.map fst |> Array.ofList |> DenseMatrix.ofRowArrays\n",
    "let residuals = ff3Model.Residuals\n",
    "let n = float residuals.Length\n",
    "\n",
    "let residualsSquaredSum = residuals |> Array.map (fun x -> x * x) |> Array.sum\n",
    "let residualsVar = residualsSquaredSum / (n - 4.0)\n",
    "\n",
    "let XTX = ff3X.TransposeThisAndMultiply(ff3X)\n",
    "let XTX_inv = XTX.Inverse()\n",
    "\n",
    "let hmlBetaVar = XTX_inv.[2, 2] * residualsVar\n",
    "let smbBetaVar = XTX_inv.[3, 3] * residualsVar\n",
    "\n",
    "let hmlBetaStdErr = sqrt hmlBetaVar\n",
    "let smbBetaStdErr = sqrt smbBetaVar\n",
    "\n",
    "// Compute the t-statistics for each beta\n",
    "let hmlBetaT = hmlBeta / hmlBetaStdErr\n",
    "let smbBetaT = smbBeta / smbBetaStdErr\n",
    "\n",
    "(hmlBeta, hmlBetaT, smbBeta, smbBetaT)\n"
   ]
  },
  {
   "attachments": {},
   "cell_type": "markdown",
   "metadata": {},
   "source": [
    "> **Task:** Based on the Market, HML, and SMB factor betas for your long-short portfolio, would you say your portfolio is more like a value portfolio, more like a growth portfolio, or neither? Explain.\n",
    "> "
   ]
  },
  {
   "cell_type": "code",
   "execution_count": 67,
   "metadata": {
    "dotnet_interactive": {
     "language": "fsharp"
    },
    "polyglot_notebook": {
     "kernelName": "fsharp"
    }
   },
   "outputs": [],
   "source": [
    "// Solution here.\n"
   ]
  },
  {
   "attachments": {},
   "cell_type": "markdown",
   "metadata": {},
   "source": [
    "Based on the calculated HML and SMB betas, it is possible to determine the characteristics of the long-short portfolio. A high positive beta for the HML factor suggests a value-oriented portfolio, while a low or negative beta points to a growth-oriented one.\n",
    "\n",
    "In our analysis, the HML beta is -0.8604, which signifies a tilt towards growth stocks. Additionally, the SMB beta is 0.4431, indicating that the portfolio has exposure to small-cap stocks as well.\n",
    "\n",
    "Taking into account the negative HML beta and the positive SMB beta, we can conclude that the long-short portfolio leans more towards a growth portfolio. The negative HML beta is a characteristic of growth stocks, while the positive SMB beta suggests a preference for small-cap stocks.\n",
    "\n",
    "It is important to note that this analysis relies on the Fama-French 3-factor model, which has its limitations and assumptions. The conclusions drawn here may not be applicable to other models or different time periods."
   ]
  },
  {
   "attachments": {},
   "cell_type": "markdown",
   "metadata": {},
   "source": [
    "> **Task:** Based on the Market, HML, and SMB factor betas for your long-short portfolio, would you say your portfolio is more like a small-cap portfolio, more like a large-cap portfolio, or neither? Explain.\n",
    "> \n",
    "\n"
   ]
  },
  {
   "cell_type": "code",
   "execution_count": 68,
   "metadata": {
    "dotnet_interactive": {
     "language": "fsharp"
    },
    "polyglot_notebook": {
     "kernelName": "fsharp"
    }
   },
   "outputs": [],
   "source": [
    "// Solution here.\n"
   ]
  },
  {
   "attachments": {},
   "cell_type": "markdown",
   "metadata": {},
   "source": [
    "To determine whether the long-short portfolio is more like a small-cap or large-cap portfolio, we need to analyze the beta values for the Market, HML, and SMB factors. The SMB factor measures the performance difference between small and large companies. A positive SMB beta suggests that the portfolio has some exposure to small-cap stocks, while a negative SMB beta implies that the portfolio is tilted towards large-cap stocks.\n",
    "\n",
    "In our analysis of the long-short portfolio in the previous Task, we found that the SMB beta is positive, indicating that the portfolio has some exposure to small-cap stocks. However, we do not have information about the beta for the Market factor, which represents the performance of the overall market. A positive beta for the Market factor would suggest that the portfolio is more like a large-cap portfolio, while a negative beta would imply that it is more like a small-cap portfolio.\n",
    "\n",
    "Therefore, we cannot definitively conclude whether the long-short portfolio is more like a small-cap or large-cap portfolio without considering the beta for the Market factor. If the beta for the Market factor is positive, the portfolio is more like a large-cap portfolio, while a negative beta would imply that it is more like a small-cap portfolio. If the beta is close to zero, the portfolio is neither a small-cap nor a large-cap portfolio.\n",
    "\n",
    "It's important to keep in mind that the conclusion we have drawn is based on the Fama-French 3-factor model, which has its limitations and assumptions. Therefore, our conclusion may not hold true for other models or different time periods.\n",
    "\n",
    "In summary, based on the SMB beta value alone, we can say that the long-short portfolio has some exposure to small-cap stocks. However, to determine whether the portfolio is more like a small-cap or large-cap portfolio, we need to consider the beta value for the Market factor."
   ]
  },
  {
   "attachments": {},
   "cell_type": "markdown",
   "metadata": {},
   "source": [
    "> **Task:** What is the information ratio for your long-short portfolio when using the Fama and French 3-factor model?\n",
    "> \n",
    "\n"
   ]
  },
  {
   "cell_type": "code",
   "execution_count": 69,
   "metadata": {
    "dotnet_interactive": {
     "language": "fsharp"
    },
    "polyglot_notebook": {
     "kernelName": "fsharp"
    }
   },
   "outputs": [
    {
     "ename": "Error",
     "evalue": "input.fsx (4,21)-(4,30) typecheck error The value or constructor 'residuals' is not defined. Maybe you want one of the following:\n   Result\ninput.fsx (7,13)-(7,21) typecheck error The value or constructor 'ff3Alpha' is not defined.",
     "output_type": "error",
     "traceback": [
      "input.fsx (4,21)-(4,30) typecheck error The value or constructor 'residuals' is not defined. Maybe you want one of the following:\n",
      "   Result\n",
      "input.fsx (7,13)-(7,21) typecheck error The value or constructor 'ff3Alpha' is not defined."
     ]
    }
   ],
   "source": [
    "open MathNet.Numerics.Statistics\n",
    "\n",
    "// Calculate the tracking error (standard deviation of residuals)\n",
    "let trackingError = residuals |> Array.map (fun x -> x * x) |> Array.sum |> sqrt\n",
    "\n",
    "// Compute the information ratio using FF3 alpha and tracking error\n",
    "let ff3IR = ff3Alpha / trackingError\n",
    "\n",
    "ff3IR\n"
   ]
  },
  {
   "attachments": {},
   "cell_type": "markdown",
   "metadata": {},
   "source": [
    "The provided code uses the Fama-French 3-factor model to calculate the tracking error and information ratio for the long-short portfolio. The tracking error is computed by taking the standard deviation of the residuals, which represent the difference between the actual portfolio returns and the expected returns according to the Fama-French 3-factor model. \n",
    "\n",
    "However, the code does not explicitly calculate the excess return of the portfolio, which is the difference between the portfolio return and the risk-free rate. As such, the alpha value for the Fama-French 3-factor model is not included in the code, and the accuracy of the information ratio calculation may be impacted as a result.\n",
    "\n",
    "The information ratio is then computed by dividing the alpha by the tracking error. A negative information ratio suggests that the portfolio manager is not adding value relative to the benchmark, and the portfolio is underperforming on a risk-adjusted basis. This means that the portfolio is not generating excess returns per unit of tracking error, or it might even be losing value compared to the benchmark.\n",
    "\n"
   ]
  },
  {
   "attachments": {},
   "cell_type": "markdown",
   "metadata": {},
   "source": []
  }
 ],
 "metadata": {
  "kernelspec": {
   "display_name": ".NET (C#)",
   "language": "C#",
   "name": ".net-csharp"
  },
  "language_info": {
   "name": "polyglot-notebook"
  },
  "polyglot_notebook": {
   "kernelInfo": {
    "defaultKernelName": "csharp",
    "items": [
     {
      "aliases": [],
      "name": "csharp"
     }
    ]
   }
  }
 },
 "nbformat": 4,
 "nbformat_minor": 2
}
