{
 "cells": [
  {
   "cell_type": "markdown",
   "metadata": {
    "dotnet_interactive": {
     "language": "fsharp"
    },
    "polyglot_notebook": {
     "kernelName": "fsharp"
    }
   },
   "source": [
    "[![Binder](img/badge-binder.svg)](https://mybinder.org/v2/gh/nhirschey/teaching/gh-pages?filepath=football-collection-functions.ipynb)&emsp;\n",
    "[![Script](img/badge-script.svg)](/Teaching//football-collection-functions.fsx)&emsp;\n",
    "[![Notebook](img/badge-notebook.svg)](/Teaching//football-collection-functions.ipynb)\n",
    "\n",
    "# Using List collection functions and calculating summary statistics.\n",
    "\n",
    "> Developed with [Davide Costa](https://github.com/DavideGCosta)\n",
    "> \n",
    "\n",
    "You should now feel comfortable with the footballer dataset and how to work with\n",
    "tuples, records, anonymous records. You should also know how to perform simple transformations.\n",
    "With a large and heterogeneous dataset, it's useful to understand how to sort, group,\n",
    "and filter the data, and also many other interesting List functions.\n",
    "\n",
    "It is a good idea to browse the documentation for lists at the [F# language reference](https://docs.microsoft.com/en-us/dotnet/fsharp/language-reference/Lists)\n",
    "and the [F# core library](https://fsharp.github.io/fsharp-core-docs/reference/fsharp-collections-listmodule.html) documentation sites before you start.\n",
    "For further discussion of collection functions, the related [F# for fun and profit](https://fsharpforfunandprofit.com/posts/list-module-functions/)\n",
    "page is also useful.\n",
    "\n",
    "### Reference needed nuget packages and open namespaces\n",
    "\n"
   ]
  },
  {
   "cell_type": "code",
   "execution_count": 3,
   "metadata": {
    "dotnet_interactive": {
     "language": "fsharp"
    },
    "polyglot_notebook": {
     "kernelName": "fsharp"
    },
    "vscode": {
     "languageId": "polyglot-notebook"
    }
   },
   "outputs": [
    {
     "data": {
      "text/html": [
       "<div><div></div><div></div><div><strong>Installed Packages</strong><ul><li><span>FSharp.Data, 5.0.2</span></li><li><span>FSharp.Stats, 0.4.11</span></li></ul></div></div>"
      ]
     },
     "metadata": {},
     "output_type": "display_data"
    }
   ],
   "source": [
    "#r \"nuget:FSharp.Data\"\n",
    "#r \"nuget: FSharp.Stats\"\n",
    "\n",
    "open FSharp.Data\n",
    "open FSharp.Stats\n",
    "open FSharp.Stats.Correlation\n"
   ]
  },
  {
   "cell_type": "markdown",
   "metadata": {
    "dotnet_interactive": {
     "language": "fsharp"
    },
    "polyglot_notebook": {
     "kernelName": "fsharp"
    }
   },
   "source": [
    "### Load the Csv file.\n",
    "\n"
   ]
  },
  {
   "cell_type": "code",
   "execution_count": 4,
   "metadata": {
    "dotnet_interactive": {
     "language": "fsharp"
    },
    "polyglot_notebook": {
     "kernelName": "fsharp"
    },
    "vscode": {
     "languageId": "polyglot-notebook"
    }
   },
   "outputs": [],
   "source": [
    "let [<Literal>] CsvPath = __SOURCE_DIRECTORY__ + \"/FootballPlayers.csv\"\n",
    "type FootballPlayersCsv = CsvProvider<CsvPath>\n",
    "\n",
    "let playerStatsTable = \n",
    "    FootballPlayersCsv.GetSample().Rows\n",
    "    |> Seq.toList\n"
   ]
  },
  {
   "cell_type": "markdown",
   "metadata": {
    "dotnet_interactive": {
     "language": "fsharp"
    },
    "polyglot_notebook": {
     "kernelName": "fsharp"
    }
   },
   "source": [
    "## EXERCISES - PART 2\n",
    "\n",
    "* [List Functions.](#List-Functions)\n",
    "  \n",
    "\n",
    "  0 [List.take](#1-List-take)\n",
    "    \n",
    "  \n",
    "  1 [List.truncate](#2-List-truncate)\n",
    "    \n",
    "  \n",
    "  2 [List.distinct](#3-List-distinct)\n",
    "    \n",
    "  \n",
    "  3 [List.countBy](#4-List-countBy)\n",
    "    \n",
    "  \n",
    "  4 [List.filter](#5-List-filter)\n",
    "    \n",
    "  \n",
    "  5 [List.sort and List.sortDescending](#6-List-sort-and-List-sortDescending)\n",
    "    \n",
    "  \n",
    "  6 [List.sortBy and List.sortByDescending](#7-List-sortBy-and-List-sortByDescending)\n",
    "    \n",
    "  \n",
    "  7 [List.splitInto](#8-List-splitInto)\n",
    "    \n",
    "  \n",
    "  8 [List.groupBy](#9-List-groupBy)\n",
    "    \n",
    "  \n",
    "\n",
    "* [Statistics List Functions.](#Statistics-List-Functions)\n",
    "  \n",
    "\n",
    "  0 [List.max](#1-List-max)\n",
    "    \n",
    "  \n",
    "  1 [List.min](#2-List-min)\n",
    "    \n",
    "  \n",
    "  2 [List.maxBy](#3-List-maxBy)\n",
    "    \n",
    "  \n",
    "  3 [List.minBy](#4-List-minBy)\n",
    "    \n",
    "  \n",
    "  4 [List.sum](#5-List-sum)\n",
    "    \n",
    "  \n",
    "  5 [List.sumBy](#6-List-sumBy)\n",
    "    \n",
    "  \n",
    "  6 [List.average](#7-List-average)\n",
    "    \n",
    "  \n",
    "  7 [List.averageBy](#8-List-averageBy)\n",
    "    \n",
    "  \n",
    "  8 [Seq.stDev](#9-Seq-stDev)\n",
    "    \n",
    "  \n",
    "  9 [Seq.pearsonOfPairs](#10-Seq-pearsonOfPairs)\n",
    "    \n",
    "  \n",
    "\n",
    "* [Further Statistics practice.](#Further-Statistics-practice)\n",
    "  \n",
    "\n",
    "  0 [List.countBy, List.filter and List.averageBy](#1-List-countBy-List-filter-and-List-averageBy)\n",
    "    \n",
    "  \n",
    "  1 [List.groupBy, List.map and transformations](#2-List-groupBy-List-map-and-transformations)\n",
    "    \n",
    "  \n",
    "  2 [List.sortDescending, List.splitInto, List.map and Seq.stDev](#3-List-sortDescending-List-splitInto-List-map-and-Seq-stDev)\n",
    "    \n",
    "  \n",
    "\n",
    "## List Functions.\n",
    "\n",
    "### 1 List.take\n",
    "\n",
    "`List.take 5` takes the first 5 rows.\n",
    "`List.take 2` takes the first 2 rows\n",
    "\n",
    "Example: Take the first 4 rows from `playerStatsTable` with `List.take`.\n",
    "\n"
   ]
  },
  {
   "cell_type": "code",
   "execution_count": 5,
   "metadata": {
    "dotnet_interactive": {
     "language": "fsharp"
    },
    "polyglot_notebook": {
     "kernelName": "fsharp"
    },
    "vscode": {
     "languageId": "polyglot-notebook"
    }
   },
   "outputs": [
    {
     "data": {
      "text/html": [
       "<table><thead><tr><th><i>index</i></th><th>Item1</th><th>Item2</th><th>Item3</th><th>Item4</th><th>Item5</th><th>Item6</th><th>Item7</th><th>Rest</th></tr></thead><tbody><tr><td>0</td><td>Robert Lewandowski</td><td>pl POL</td><td>FW</td><td>Bayern Munich</td><td>deBundesliga</td><td><div class=\"dni-plaintext\"><pre>32</pre></div></td><td><div class=\"dni-plaintext\"><pre>34</pre></div></td><td><table><thead><tr><th>Item1</th></tr></thead><tbody><tr><td><div class=\"dni-plaintext\"><pre>35</pre></div></td></tr></tbody></table></td></tr><tr><td>1</td><td>Kylian Mbapp&#233;</td><td>fr FRA</td><td>FW</td><td>Paris S-G</td><td>frLigue 1</td><td><div class=\"dni-plaintext\"><pre>22</pre></div></td><td><div class=\"dni-plaintext\"><pre>35</pre></div></td><td><table><thead><tr><th>Item1</th></tr></thead><tbody><tr><td><div class=\"dni-plaintext\"><pre>28</pre></div></td></tr></tbody></table></td></tr><tr><td>2</td><td>Karim Benzema</td><td>fr FRA</td><td>FW</td><td>Real Madrid</td><td>esLa Liga</td><td><div class=\"dni-plaintext\"><pre>33</pre></div></td><td><div class=\"dni-plaintext\"><pre>32</pre></div></td><td><table><thead><tr><th>Item1</th></tr></thead><tbody><tr><td><div class=\"dni-plaintext\"><pre>27</pre></div></td></tr></tbody></table></td></tr><tr><td>3</td><td>Ciro Immobile</td><td>it ITA</td><td>FW</td><td>Lazio</td><td>itSerie A</td><td><div class=\"dni-plaintext\"><pre>31</pre></div></td><td><div class=\"dni-plaintext\"><pre>31</pre></div></td><td><table><thead><tr><th>Item1</th></tr></thead><tbody><tr><td><div class=\"dni-plaintext\"><pre>27</pre></div></td></tr></tbody></table></td></tr></tbody></table><style>\r\n",
       ".dni-code-hint {\r\n",
       "    font-style: italic;\r\n",
       "    overflow: hidden;\r\n",
       "    white-space: nowrap;\r\n",
       "}\r\n",
       ".dni-treeview {\r\n",
       "    white-space: nowrap;\r\n",
       "}\r\n",
       ".dni-treeview td {\r\n",
       "    vertical-align: top;\r\n",
       "    text-align: start;\r\n",
       "}\r\n",
       "details.dni-treeview {\r\n",
       "    padding-left: 1em;\r\n",
       "}\r\n",
       "table td {\r\n",
       "    text-align: start;\r\n",
       "}\r\n",
       "table tr { \r\n",
       "    vertical-align: top; \r\n",
       "    margin: 0em 0px;\r\n",
       "}\r\n",
       "table tr td pre \r\n",
       "{ \r\n",
       "    vertical-align: top !important; \r\n",
       "    margin: 0em 0px !important;\r\n",
       "} \r\n",
       "table th {\r\n",
       "    text-align: start;\r\n",
       "}\r\n",
       "</style>"
      ]
     },
     "metadata": {},
     "output_type": "display_data"
    }
   ],
   "source": [
    "playerStatsTable\n",
    "|> List.take 4\n"
   ]
  },
  {
   "cell_type": "markdown",
   "metadata": {
    "dotnet_interactive": {
     "language": "fsharp"
    },
    "polyglot_notebook": {
     "kernelName": "fsharp"
    }
   },
   "source": [
    "* Take the first 7 rows from `playerStatsTable` with `List.take`.\n",
    "\n",
    "<div style=\"padding-left: 40px;\">\n",
    "<p> \n",
    "<span>\n",
    "<details>\n",
    "<summary><p style=\"display:inline\">answer</p></summary>\n",
    "\n",
    "```\n",
    "val it: CsvProvider<...>.Row list =\n",
    "  [(\"Robert Lewandowski\", \"pl POL\", \"FW\", \"Bayern Munich\", \"deBundesliga\", 32,\n",
    "    34, 35);\n",
    "   (\"Kylian Mbappé\", \"fr FRA\", \"FW\", \"Paris S-G\", \"frLigue 1\", 22, 35, 28);\n",
    "   (\"Karim Benzema\", \"fr FRA\", \"FW\", \"Real Madrid\", \"esLa Liga\", 33, 32, 27);\n",
    "   (\"Ciro Immobile\", \"it ITA\", \"FW\", \"Lazio\", \"itSerie A\", 31, 31, 27);\n",
    "   (\"Wissam Ben Yedder\", \"fr FRA\", \"FW\", \"Monaco\", \"frLigue 1\", 30, 37, 25);\n",
    "   (\"Patrik Schick\", \"cz CZE\", \"FW\", \"Leverkusen\", \"deBundesliga\", 25, 27, 24);\n",
    "   (\"Son Heung-min\", \"kr KOR\", \"MF,FW\", \"Tottenham\", \"engPremier League\", 29,\n",
    "    35, 23)]\n",
    "```\n",
    "\n",
    "</details>\n",
    "</span>\n",
    "</p>\n",
    "</div>\n",
    "\n"
   ]
  },
  {
   "cell_type": "code",
   "execution_count": 6,
   "metadata": {
    "dotnet_interactive": {
     "language": "fsharp"
    },
    "polyglot_notebook": {
     "kernelName": "fsharp"
    },
    "vscode": {
     "languageId": "polyglot-notebook"
    }
   },
   "outputs": [
    {
     "data": {
      "text/html": [
       "<table><thead><tr><th><i>index</i></th><th>Item1</th><th>Item2</th><th>Item3</th><th>Item4</th><th>Item5</th><th>Item6</th><th>Item7</th><th>Rest</th></tr></thead><tbody><tr><td>0</td><td>Robert Lewandowski</td><td>pl POL</td><td>FW</td><td>Bayern Munich</td><td>deBundesliga</td><td><div class=\"dni-plaintext\"><pre>32</pre></div></td><td><div class=\"dni-plaintext\"><pre>34</pre></div></td><td><table><thead><tr><th>Item1</th></tr></thead><tbody><tr><td><div class=\"dni-plaintext\"><pre>35</pre></div></td></tr></tbody></table></td></tr><tr><td>1</td><td>Kylian Mbapp&#233;</td><td>fr FRA</td><td>FW</td><td>Paris S-G</td><td>frLigue 1</td><td><div class=\"dni-plaintext\"><pre>22</pre></div></td><td><div class=\"dni-plaintext\"><pre>35</pre></div></td><td><table><thead><tr><th>Item1</th></tr></thead><tbody><tr><td><div class=\"dni-plaintext\"><pre>28</pre></div></td></tr></tbody></table></td></tr><tr><td>2</td><td>Karim Benzema</td><td>fr FRA</td><td>FW</td><td>Real Madrid</td><td>esLa Liga</td><td><div class=\"dni-plaintext\"><pre>33</pre></div></td><td><div class=\"dni-plaintext\"><pre>32</pre></div></td><td><table><thead><tr><th>Item1</th></tr></thead><tbody><tr><td><div class=\"dni-plaintext\"><pre>27</pre></div></td></tr></tbody></table></td></tr><tr><td>3</td><td>Ciro Immobile</td><td>it ITA</td><td>FW</td><td>Lazio</td><td>itSerie A</td><td><div class=\"dni-plaintext\"><pre>31</pre></div></td><td><div class=\"dni-plaintext\"><pre>31</pre></div></td><td><table><thead><tr><th>Item1</th></tr></thead><tbody><tr><td><div class=\"dni-plaintext\"><pre>27</pre></div></td></tr></tbody></table></td></tr><tr><td>4</td><td>Wissam Ben Yedder</td><td>fr FRA</td><td>FW</td><td>Monaco</td><td>frLigue 1</td><td><div class=\"dni-plaintext\"><pre>30</pre></div></td><td><div class=\"dni-plaintext\"><pre>37</pre></div></td><td><table><thead><tr><th>Item1</th></tr></thead><tbody><tr><td><div class=\"dni-plaintext\"><pre>25</pre></div></td></tr></tbody></table></td></tr><tr><td>5</td><td>Patrik Schick</td><td>cz CZE</td><td>FW</td><td>Leverkusen</td><td>deBundesliga</td><td><div class=\"dni-plaintext\"><pre>25</pre></div></td><td><div class=\"dni-plaintext\"><pre>27</pre></div></td><td><table><thead><tr><th>Item1</th></tr></thead><tbody><tr><td><div class=\"dni-plaintext\"><pre>24</pre></div></td></tr></tbody></table></td></tr><tr><td>6</td><td>Son Heung-min</td><td>kr KOR</td><td>MF,FW</td><td>Tottenham</td><td>engPremier League</td><td><div class=\"dni-plaintext\"><pre>29</pre></div></td><td><div class=\"dni-plaintext\"><pre>35</pre></div></td><td><table><thead><tr><th>Item1</th></tr></thead><tbody><tr><td><div class=\"dni-plaintext\"><pre>23</pre></div></td></tr></tbody></table></td></tr></tbody></table><style>\r\n",
       ".dni-code-hint {\r\n",
       "    font-style: italic;\r\n",
       "    overflow: hidden;\r\n",
       "    white-space: nowrap;\r\n",
       "}\r\n",
       ".dni-treeview {\r\n",
       "    white-space: nowrap;\r\n",
       "}\r\n",
       ".dni-treeview td {\r\n",
       "    vertical-align: top;\r\n",
       "    text-align: start;\r\n",
       "}\r\n",
       "details.dni-treeview {\r\n",
       "    padding-left: 1em;\r\n",
       "}\r\n",
       "table td {\r\n",
       "    text-align: start;\r\n",
       "}\r\n",
       "table tr { \r\n",
       "    vertical-align: top; \r\n",
       "    margin: 0em 0px;\r\n",
       "}\r\n",
       "table tr td pre \r\n",
       "{ \r\n",
       "    vertical-align: top !important; \r\n",
       "    margin: 0em 0px !important;\r\n",
       "} \r\n",
       "table th {\r\n",
       "    text-align: start;\r\n",
       "}\r\n",
       "</style>"
      ]
     },
     "metadata": {},
     "output_type": "display_data"
    }
   ],
   "source": [
    "// write your code here, see website for solution.\n",
    "playerStatsTable\n",
    "|> List.take 7"
   ]
  },
  {
   "cell_type": "markdown",
   "metadata": {
    "dotnet_interactive": {
     "language": "fsharp"
    },
    "polyglot_notebook": {
     "kernelName": "fsharp"
    }
   },
   "source": [
    "### 2 List.truncate\n",
    "\n",
    "`List.truncate 5` takes the first 5 rows.\n",
    "`List.truncate 2` takes the first 2 rows\n",
    "\n",
    "You must have noted that `List.take` and `List.truncate` return similar outputs, but these are not exactly the same.\n",
    "`List.take` gives you the exact number of items that you specify in the parameters,\n",
    "while `List.truncate` takes at maximum the number of items you specified in the parameters.\n",
    "Thus, in most cases both give you the exact same output, except if you ask for more items then the ones available in the List (List length).\n",
    "In this particular scenario `List.truncate` returns the maximum number of elements (all the elements in the List),\n",
    "while `List.take` returns an error, since it is supposed to take the exact number of elements you asked for, which is impossible in this particular case.\n",
    "\n",
    "Example: Take the first 4 rows from `playerStatsTable` with `List.truncate`.\n",
    "\n"
   ]
  },
  {
   "cell_type": "code",
   "execution_count": 7,
   "metadata": {
    "dotnet_interactive": {
     "language": "fsharp"
    },
    "polyglot_notebook": {
     "kernelName": "fsharp"
    },
    "vscode": {
     "languageId": "polyglot-notebook"
    }
   },
   "outputs": [
    {
     "data": {
      "text/html": [
       "<table><thead><tr><th><i>index</i></th><th>Item1</th><th>Item2</th><th>Item3</th><th>Item4</th><th>Item5</th><th>Item6</th><th>Item7</th><th>Rest</th></tr></thead><tbody><tr><td>0</td><td>Robert Lewandowski</td><td>pl POL</td><td>FW</td><td>Bayern Munich</td><td>deBundesliga</td><td><div class=\"dni-plaintext\"><pre>32</pre></div></td><td><div class=\"dni-plaintext\"><pre>34</pre></div></td><td><table><thead><tr><th>Item1</th></tr></thead><tbody><tr><td><div class=\"dni-plaintext\"><pre>35</pre></div></td></tr></tbody></table></td></tr><tr><td>1</td><td>Kylian Mbapp&#233;</td><td>fr FRA</td><td>FW</td><td>Paris S-G</td><td>frLigue 1</td><td><div class=\"dni-plaintext\"><pre>22</pre></div></td><td><div class=\"dni-plaintext\"><pre>35</pre></div></td><td><table><thead><tr><th>Item1</th></tr></thead><tbody><tr><td><div class=\"dni-plaintext\"><pre>28</pre></div></td></tr></tbody></table></td></tr><tr><td>2</td><td>Karim Benzema</td><td>fr FRA</td><td>FW</td><td>Real Madrid</td><td>esLa Liga</td><td><div class=\"dni-plaintext\"><pre>33</pre></div></td><td><div class=\"dni-plaintext\"><pre>32</pre></div></td><td><table><thead><tr><th>Item1</th></tr></thead><tbody><tr><td><div class=\"dni-plaintext\"><pre>27</pre></div></td></tr></tbody></table></td></tr><tr><td>3</td><td>Ciro Immobile</td><td>it ITA</td><td>FW</td><td>Lazio</td><td>itSerie A</td><td><div class=\"dni-plaintext\"><pre>31</pre></div></td><td><div class=\"dni-plaintext\"><pre>31</pre></div></td><td><table><thead><tr><th>Item1</th></tr></thead><tbody><tr><td><div class=\"dni-plaintext\"><pre>27</pre></div></td></tr></tbody></table></td></tr></tbody></table><style>\r\n",
       ".dni-code-hint {\r\n",
       "    font-style: italic;\r\n",
       "    overflow: hidden;\r\n",
       "    white-space: nowrap;\r\n",
       "}\r\n",
       ".dni-treeview {\r\n",
       "    white-space: nowrap;\r\n",
       "}\r\n",
       ".dni-treeview td {\r\n",
       "    vertical-align: top;\r\n",
       "    text-align: start;\r\n",
       "}\r\n",
       "details.dni-treeview {\r\n",
       "    padding-left: 1em;\r\n",
       "}\r\n",
       "table td {\r\n",
       "    text-align: start;\r\n",
       "}\r\n",
       "table tr { \r\n",
       "    vertical-align: top; \r\n",
       "    margin: 0em 0px;\r\n",
       "}\r\n",
       "table tr td pre \r\n",
       "{ \r\n",
       "    vertical-align: top !important; \r\n",
       "    margin: 0em 0px !important;\r\n",
       "} \r\n",
       "table th {\r\n",
       "    text-align: start;\r\n",
       "}\r\n",
       "</style>"
      ]
     },
     "metadata": {},
     "output_type": "display_data"
    }
   ],
   "source": [
    "playerStatsTable\n",
    "|> List.truncate 4\n"
   ]
  },
  {
   "cell_type": "markdown",
   "metadata": {
    "dotnet_interactive": {
     "language": "fsharp"
    },
    "polyglot_notebook": {
     "kernelName": "fsharp"
    }
   },
   "source": [
    "* Take the first 7 rows from `playerStatsTable` with `List.truncate`.\n",
    "\n",
    "<div style=\"padding-left: 40px;\">\n",
    "<p> \n",
    "<span>\n",
    "<details>\n",
    "<summary><p style=\"display:inline\">answer</p></summary>\n",
    "\n",
    "```\n",
    "val it: CsvProvider<...>.Row list =\n",
    "  [(\"Robert Lewandowski\", \"pl POL\", \"FW\", \"Bayern Munich\", \"deBundesliga\", 32,\n",
    "    34, 35);\n",
    "   (\"Kylian Mbappé\", \"fr FRA\", \"FW\", \"Paris S-G\", \"frLigue 1\", 22, 35, 28);\n",
    "   (\"Karim Benzema\", \"fr FRA\", \"FW\", \"Real Madrid\", \"esLa Liga\", 33, 32, 27);\n",
    "   (\"Ciro Immobile\", \"it ITA\", \"FW\", \"Lazio\", \"itSerie A\", 31, 31, 27);\n",
    "   (\"Wissam Ben Yedder\", \"fr FRA\", \"FW\", \"Monaco\", \"frLigue 1\", 30, 37, 25);\n",
    "   (\"Patrik Schick\", \"cz CZE\", \"FW\", \"Leverkusen\", \"deBundesliga\", 25, 27, 24);\n",
    "   (\"Son Heung-min\", \"kr KOR\", \"MF,FW\", \"Tottenham\", \"engPremier League\", 29,\n",
    "    35, 23)]\n",
    "```\n",
    "\n",
    "</details>\n",
    "</span>\n",
    "</p>\n",
    "</div>\n",
    "\n"
   ]
  },
  {
   "cell_type": "code",
   "execution_count": 8,
   "metadata": {
    "dotnet_interactive": {
     "language": "fsharp"
    },
    "polyglot_notebook": {
     "kernelName": "fsharp"
    },
    "vscode": {
     "languageId": "polyglot-notebook"
    }
   },
   "outputs": [
    {
     "data": {
      "text/html": [
       "<table><thead><tr><th><i>index</i></th><th>Item1</th><th>Item2</th><th>Item3</th><th>Item4</th><th>Item5</th><th>Item6</th><th>Item7</th><th>Rest</th></tr></thead><tbody><tr><td>0</td><td>Robert Lewandowski</td><td>pl POL</td><td>FW</td><td>Bayern Munich</td><td>deBundesliga</td><td><div class=\"dni-plaintext\"><pre>32</pre></div></td><td><div class=\"dni-plaintext\"><pre>34</pre></div></td><td><table><thead><tr><th>Item1</th></tr></thead><tbody><tr><td><div class=\"dni-plaintext\"><pre>35</pre></div></td></tr></tbody></table></td></tr><tr><td>1</td><td>Kylian Mbapp&#233;</td><td>fr FRA</td><td>FW</td><td>Paris S-G</td><td>frLigue 1</td><td><div class=\"dni-plaintext\"><pre>22</pre></div></td><td><div class=\"dni-plaintext\"><pre>35</pre></div></td><td><table><thead><tr><th>Item1</th></tr></thead><tbody><tr><td><div class=\"dni-plaintext\"><pre>28</pre></div></td></tr></tbody></table></td></tr><tr><td>2</td><td>Karim Benzema</td><td>fr FRA</td><td>FW</td><td>Real Madrid</td><td>esLa Liga</td><td><div class=\"dni-plaintext\"><pre>33</pre></div></td><td><div class=\"dni-plaintext\"><pre>32</pre></div></td><td><table><thead><tr><th>Item1</th></tr></thead><tbody><tr><td><div class=\"dni-plaintext\"><pre>27</pre></div></td></tr></tbody></table></td></tr><tr><td>3</td><td>Ciro Immobile</td><td>it ITA</td><td>FW</td><td>Lazio</td><td>itSerie A</td><td><div class=\"dni-plaintext\"><pre>31</pre></div></td><td><div class=\"dni-plaintext\"><pre>31</pre></div></td><td><table><thead><tr><th>Item1</th></tr></thead><tbody><tr><td><div class=\"dni-plaintext\"><pre>27</pre></div></td></tr></tbody></table></td></tr><tr><td>4</td><td>Wissam Ben Yedder</td><td>fr FRA</td><td>FW</td><td>Monaco</td><td>frLigue 1</td><td><div class=\"dni-plaintext\"><pre>30</pre></div></td><td><div class=\"dni-plaintext\"><pre>37</pre></div></td><td><table><thead><tr><th>Item1</th></tr></thead><tbody><tr><td><div class=\"dni-plaintext\"><pre>25</pre></div></td></tr></tbody></table></td></tr><tr><td>5</td><td>Patrik Schick</td><td>cz CZE</td><td>FW</td><td>Leverkusen</td><td>deBundesliga</td><td><div class=\"dni-plaintext\"><pre>25</pre></div></td><td><div class=\"dni-plaintext\"><pre>27</pre></div></td><td><table><thead><tr><th>Item1</th></tr></thead><tbody><tr><td><div class=\"dni-plaintext\"><pre>24</pre></div></td></tr></tbody></table></td></tr><tr><td>6</td><td>Son Heung-min</td><td>kr KOR</td><td>MF,FW</td><td>Tottenham</td><td>engPremier League</td><td><div class=\"dni-plaintext\"><pre>29</pre></div></td><td><div class=\"dni-plaintext\"><pre>35</pre></div></td><td><table><thead><tr><th>Item1</th></tr></thead><tbody><tr><td><div class=\"dni-plaintext\"><pre>23</pre></div></td></tr></tbody></table></td></tr></tbody></table><style>\r\n",
       ".dni-code-hint {\r\n",
       "    font-style: italic;\r\n",
       "    overflow: hidden;\r\n",
       "    white-space: nowrap;\r\n",
       "}\r\n",
       ".dni-treeview {\r\n",
       "    white-space: nowrap;\r\n",
       "}\r\n",
       ".dni-treeview td {\r\n",
       "    vertical-align: top;\r\n",
       "    text-align: start;\r\n",
       "}\r\n",
       "details.dni-treeview {\r\n",
       "    padding-left: 1em;\r\n",
       "}\r\n",
       "table td {\r\n",
       "    text-align: start;\r\n",
       "}\r\n",
       "table tr { \r\n",
       "    vertical-align: top; \r\n",
       "    margin: 0em 0px;\r\n",
       "}\r\n",
       "table tr td pre \r\n",
       "{ \r\n",
       "    vertical-align: top !important; \r\n",
       "    margin: 0em 0px !important;\r\n",
       "} \r\n",
       "table th {\r\n",
       "    text-align: start;\r\n",
       "}\r\n",
       "</style>"
      ]
     },
     "metadata": {},
     "output_type": "display_data"
    }
   ],
   "source": [
    "// write your code here, see website for solution.\n",
    "playerStatsTable\n",
    "|> List.truncate 7\n"
   ]
  },
  {
   "cell_type": "markdown",
   "metadata": {
    "dotnet_interactive": {
     "language": "fsharp"
    },
    "polyglot_notebook": {
     "kernelName": "fsharp"
    }
   },
   "source": [
    "### 3 List.distinct\n",
    "\n",
    "`List.distinct` returns the unique elements from the List.\n",
    "`[\"hello\"; \"world\"; \"hello\"; \"hi\"] |> List.distinct` returns `[\"hello\"; \"world\"; \"hi\"]`\n",
    "\n",
    "Example: From `playerStatsTable` `Nation` field find the unique elements with `List.distinct`.\n",
    "\n"
   ]
  },
  {
   "cell_type": "code",
   "execution_count": 9,
   "metadata": {
    "dotnet_interactive": {
     "language": "fsharp"
    },
    "polyglot_notebook": {
     "kernelName": "fsharp"
    },
    "vscode": {
     "languageId": "polyglot-notebook"
    }
   },
   "outputs": [
    {
     "data": {
      "text/html": [
       "<table><thead><tr><th><i>index</i></th><th>value</th></tr></thead><tbody><tr><td>0</td><td>pl POL</td></tr><tr><td>1</td><td>fr FRA</td></tr><tr><td>2</td><td>it ITA</td></tr><tr><td>3</td><td>cz CZE</td></tr><tr><td>4</td><td>kr KOR</td></tr><tr><td>5</td><td>eg EGY</td></tr><tr><td>6</td><td>no NOR</td></tr><tr><td>7</td><td>ar ARG</td></tr><tr><td>8</td><td>es ESP</td></tr><tr><td>9</td><td>pt POR</td></tr><tr><td>10</td><td>br BRA</td></tr><tr><td>11</td><td>eng ENG</td></tr><tr><td>12</td><td>rs SRB</td></tr><tr><td>13</td><td>sn SEN</td></tr><tr><td>14</td><td>tr TUR</td></tr><tr><td>15</td><td>dz ALG</td></tr><tr><td>16</td><td>be BEL</td></tr><tr><td>17</td><td>hr CRO</td></tr><tr><td>18</td><td>de GER</td></tr><tr><td>19</td><td>tn TUN</td></tr><tr><td colspan=\"2\"><i>... (more)</i></td></tr></tbody></table><style>\r\n",
       ".dni-code-hint {\r\n",
       "    font-style: italic;\r\n",
       "    overflow: hidden;\r\n",
       "    white-space: nowrap;\r\n",
       "}\r\n",
       ".dni-treeview {\r\n",
       "    white-space: nowrap;\r\n",
       "}\r\n",
       ".dni-treeview td {\r\n",
       "    vertical-align: top;\r\n",
       "    text-align: start;\r\n",
       "}\r\n",
       "details.dni-treeview {\r\n",
       "    padding-left: 1em;\r\n",
       "}\r\n",
       "table td {\r\n",
       "    text-align: start;\r\n",
       "}\r\n",
       "table tr { \r\n",
       "    vertical-align: top; \r\n",
       "    margin: 0em 0px;\r\n",
       "}\r\n",
       "table tr td pre \r\n",
       "{ \r\n",
       "    vertical-align: top !important; \r\n",
       "    margin: 0em 0px !important;\r\n",
       "} \r\n",
       "table th {\r\n",
       "    text-align: start;\r\n",
       "}\r\n",
       "</style>"
      ]
     },
     "metadata": {},
     "output_type": "display_data"
    }
   ],
   "source": [
    "playerStatsTable\n",
    "|> List.map(fun x -> x.Nation)\n",
    "|> List.distinct\n"
   ]
  },
  {
   "cell_type": "markdown",
   "metadata": {
    "dotnet_interactive": {
     "language": "fsharp"
    },
    "polyglot_notebook": {
     "kernelName": "fsharp"
    }
   },
   "source": [
    "* From `playerStatsTable` `League` field find the unique elements with `List.distinct`.\n",
    "\n",
    "<div style=\"padding-left: 40px;\">\n",
    "<p> \n",
    "<span>\n",
    "<details>\n",
    "<summary><p style=\"display:inline\">answer</p></summary>\n",
    "\n",
    "```\n",
    "val it: string list =\n",
    "  [\"deBundesliga\"; \"frLigue 1\"; \"esLa Liga\"; \"itSerie A\"; \"engPremier League\"]\n",
    "```\n",
    "\n",
    "</details>\n",
    "</span>\n",
    "</p>\n",
    "</div>\n",
    "\n"
   ]
  },
  {
   "cell_type": "code",
   "execution_count": 10,
   "metadata": {
    "dotnet_interactive": {
     "language": "fsharp"
    },
    "polyglot_notebook": {
     "kernelName": "fsharp"
    },
    "vscode": {
     "languageId": "polyglot-notebook"
    }
   },
   "outputs": [
    {
     "data": {
      "text/html": [
       "<table><thead><tr><th><i>index</i></th><th>value</th></tr></thead><tbody><tr><td>0</td><td>deBundesliga</td></tr><tr><td>1</td><td>frLigue 1</td></tr><tr><td>2</td><td>esLa Liga</td></tr><tr><td>3</td><td>itSerie A</td></tr><tr><td>4</td><td>engPremier League</td></tr></tbody></table><style>\r\n",
       ".dni-code-hint {\r\n",
       "    font-style: italic;\r\n",
       "    overflow: hidden;\r\n",
       "    white-space: nowrap;\r\n",
       "}\r\n",
       ".dni-treeview {\r\n",
       "    white-space: nowrap;\r\n",
       "}\r\n",
       ".dni-treeview td {\r\n",
       "    vertical-align: top;\r\n",
       "    text-align: start;\r\n",
       "}\r\n",
       "details.dni-treeview {\r\n",
       "    padding-left: 1em;\r\n",
       "}\r\n",
       "table td {\r\n",
       "    text-align: start;\r\n",
       "}\r\n",
       "table tr { \r\n",
       "    vertical-align: top; \r\n",
       "    margin: 0em 0px;\r\n",
       "}\r\n",
       "table tr td pre \r\n",
       "{ \r\n",
       "    vertical-align: top !important; \r\n",
       "    margin: 0em 0px !important;\r\n",
       "} \r\n",
       "table th {\r\n",
       "    text-align: start;\r\n",
       "}\r\n",
       "</style>"
      ]
     },
     "metadata": {},
     "output_type": "display_data"
    }
   ],
   "source": [
    "// write your code here, see website for solution.\n",
    "playerStatsTable\n",
    "|> List.map(fun x -> x.League)\n",
    "|> List.distinct"
   ]
  },
  {
   "cell_type": "markdown",
   "metadata": {
    "dotnet_interactive": {
     "language": "fsharp"
    },
    "polyglot_notebook": {
     "kernelName": "fsharp"
    }
   },
   "source": [
    "### 4 List.countBy\n",
    "\n",
    "`List.countBy` returns a list of paired tuples with the unique elements and their counts.\n",
    "\n",
    "Example: From `playerStatsTable` `Team` field find the unique elements and their counts with `List.countBy`.\n",
    "\n"
   ]
  },
  {
   "cell_type": "code",
   "execution_count": 11,
   "metadata": {
    "dotnet_interactive": {
     "language": "fsharp"
    },
    "polyglot_notebook": {
     "kernelName": "fsharp"
    },
    "vscode": {
     "languageId": "polyglot-notebook"
    }
   },
   "outputs": [
    {
     "data": {
      "text/html": [
       "<table><thead><tr><th><i>index</i></th><th>Item1</th><th>Item2</th></tr></thead><tbody><tr><td>0</td><td>Bayern Munich</td><td><div class=\"dni-plaintext\"><pre>2</pre></div></td></tr><tr><td>1</td><td>Paris S-G</td><td><div class=\"dni-plaintext\"><pre>3</pre></div></td></tr><tr><td>2</td><td>Real Madrid</td><td><div class=\"dni-plaintext\"><pre>3</pre></div></td></tr><tr><td>3</td><td>Lazio</td><td><div class=\"dni-plaintext\"><pre>2</pre></div></td></tr><tr><td>4</td><td>Monaco</td><td><div class=\"dni-plaintext\"><pre>2</pre></div></td></tr></tbody></table><style>\r\n",
       ".dni-code-hint {\r\n",
       "    font-style: italic;\r\n",
       "    overflow: hidden;\r\n",
       "    white-space: nowrap;\r\n",
       "}\r\n",
       ".dni-treeview {\r\n",
       "    white-space: nowrap;\r\n",
       "}\r\n",
       ".dni-treeview td {\r\n",
       "    vertical-align: top;\r\n",
       "    text-align: start;\r\n",
       "}\r\n",
       "details.dni-treeview {\r\n",
       "    padding-left: 1em;\r\n",
       "}\r\n",
       "table td {\r\n",
       "    text-align: start;\r\n",
       "}\r\n",
       "table tr { \r\n",
       "    vertical-align: top; \r\n",
       "    margin: 0em 0px;\r\n",
       "}\r\n",
       "table tr td pre \r\n",
       "{ \r\n",
       "    vertical-align: top !important; \r\n",
       "    margin: 0em 0px !important;\r\n",
       "} \r\n",
       "table th {\r\n",
       "    text-align: start;\r\n",
       "}\r\n",
       "</style>"
      ]
     },
     "metadata": {},
     "output_type": "display_data"
    }
   ],
   "source": [
    "playerStatsTable\n",
    "|> List.countBy(fun x -> x.Team)\n",
    "|> List.truncate 5 //just to observe the first 5 rows, not a part of the exercise.\n"
   ]
  },
  {
   "cell_type": "markdown",
   "metadata": {
    "dotnet_interactive": {
     "language": "fsharp"
    },
    "polyglot_notebook": {
     "kernelName": "fsharp"
    }
   },
   "source": [
    "* From `playerStatsTable` `League` field find the unique elements and their counts with `List.countBy`.\n",
    "\n",
    "<div style=\"padding-left: 40px;\">\n",
    "<p> \n",
    "<span>\n",
    "<details>\n",
    "<summary><p style=\"display:inline\">answer</p></summary>\n",
    "\n",
    "```\n",
    "val it: (string * int) list =\n",
    "  [(\"deBundesliga\", 36); (\"frLigue 1\", 49); (\"esLa Liga\", 30);\n",
    "   (\"itSerie A\", 51); (\"engPremier League\", 35)]\n",
    "```\n",
    "\n",
    "</details>\n",
    "</span>\n",
    "</p>\n",
    "</div>\n",
    "\n"
   ]
  },
  {
   "cell_type": "code",
   "execution_count": 12,
   "metadata": {
    "dotnet_interactive": {
     "language": "fsharp"
    },
    "polyglot_notebook": {
     "kernelName": "fsharp"
    },
    "vscode": {
     "languageId": "polyglot-notebook"
    }
   },
   "outputs": [
    {
     "data": {
      "text/html": [
       "<table><thead><tr><th><i>index</i></th><th>Item1</th><th>Item2</th></tr></thead><tbody><tr><td>0</td><td>deBundesliga</td><td><div class=\"dni-plaintext\"><pre>36</pre></div></td></tr><tr><td>1</td><td>frLigue 1</td><td><div class=\"dni-plaintext\"><pre>49</pre></div></td></tr><tr><td>2</td><td>esLa Liga</td><td><div class=\"dni-plaintext\"><pre>30</pre></div></td></tr><tr><td>3</td><td>itSerie A</td><td><div class=\"dni-plaintext\"><pre>51</pre></div></td></tr><tr><td>4</td><td>engPremier League</td><td><div class=\"dni-plaintext\"><pre>35</pre></div></td></tr></tbody></table><style>\r\n",
       ".dni-code-hint {\r\n",
       "    font-style: italic;\r\n",
       "    overflow: hidden;\r\n",
       "    white-space: nowrap;\r\n",
       "}\r\n",
       ".dni-treeview {\r\n",
       "    white-space: nowrap;\r\n",
       "}\r\n",
       ".dni-treeview td {\r\n",
       "    vertical-align: top;\r\n",
       "    text-align: start;\r\n",
       "}\r\n",
       "details.dni-treeview {\r\n",
       "    padding-left: 1em;\r\n",
       "}\r\n",
       "table td {\r\n",
       "    text-align: start;\r\n",
       "}\r\n",
       "table tr { \r\n",
       "    vertical-align: top; \r\n",
       "    margin: 0em 0px;\r\n",
       "}\r\n",
       "table tr td pre \r\n",
       "{ \r\n",
       "    vertical-align: top !important; \r\n",
       "    margin: 0em 0px !important;\r\n",
       "} \r\n",
       "table th {\r\n",
       "    text-align: start;\r\n",
       "}\r\n",
       "</style>"
      ]
     },
     "metadata": {},
     "output_type": "display_data"
    }
   ],
   "source": [
    "// write your code here, see website for solution.\n",
    "playerStatsTable\n",
    "|> List.countBy (fun x -> x.League)\n",
    "|> List.distinct"
   ]
  },
  {
   "cell_type": "markdown",
   "metadata": {
    "dotnet_interactive": {
     "language": "fsharp"
    },
    "polyglot_notebook": {
     "kernelName": "fsharp"
    }
   },
   "source": [
    "### 5 List.filter\n",
    "\n",
    "`List.filter` allows you to extract a subset of the dataset based on one or multiple conditions.\n",
    "\n",
    "Example: `Filter` the `playerStatsTable` to get only portuguese players. (`Nation = \"pt POR\"`).\n",
    "Remember that we have to look to the dataset to find the string correspondent to portuguese players,\n",
    "which in this case is `\"pt POR\"`\n",
    "\n"
   ]
  },
  {
   "cell_type": "code",
   "execution_count": 13,
   "metadata": {
    "dotnet_interactive": {
     "language": "fsharp"
    },
    "polyglot_notebook": {
     "kernelName": "fsharp"
    },
    "vscode": {
     "languageId": "polyglot-notebook"
    }
   },
   "outputs": [
    {
     "data": {
      "text/html": [
       "<table><thead><tr><th><i>index</i></th><th>Item1</th><th>Item2</th><th>Item3</th><th>Item4</th><th>Item5</th><th>Item6</th><th>Item7</th><th>Rest</th></tr></thead><tbody><tr><td>0</td><td>Cristiano Ronaldo</td><td>pt POR</td><td>FW</td><td>Manchester Utd</td><td>engPremier League</td><td><div class=\"dni-plaintext\"><pre>36</pre></div></td><td><div class=\"dni-plaintext\"><pre>30</pre></div></td><td><table><thead><tr><th>Item1</th></tr></thead><tbody><tr><td><div class=\"dni-plaintext\"><pre>18</pre></div></td></tr></tbody></table></td></tr><tr><td>1</td><td>Gon&#231;alo Guedes</td><td>pt POR</td><td>FW,MF</td><td>Valencia</td><td>esLa Liga</td><td><div class=\"dni-plaintext\"><pre>24</pre></div></td><td><div class=\"dni-plaintext\"><pre>36</pre></div></td><td><table><thead><tr><th>Item1</th></tr></thead><tbody><tr><td><div class=\"dni-plaintext\"><pre>11</pre></div></td></tr></tbody></table></td></tr><tr><td>2</td><td>Bruno Fernandes</td><td>pt POR</td><td>MF</td><td>Manchester Utd</td><td>engPremier League</td><td><div class=\"dni-plaintext\"><pre>26</pre></div></td><td><div class=\"dni-plaintext\"><pre>36</pre></div></td><td><table><thead><tr><th>Item1</th></tr></thead><tbody><tr><td><div class=\"dni-plaintext\"><pre>10</pre></div></td></tr></tbody></table></td></tr><tr><td>3</td><td>Bernardo Silva</td><td>pt POR</td><td>MF,FW</td><td>Manchester City</td><td>engPremier League</td><td><div class=\"dni-plaintext\"><pre>26</pre></div></td><td><div class=\"dni-plaintext\"><pre>35</pre></div></td><td><table><thead><tr><th>Item1</th></tr></thead><tbody><tr><td><div class=\"dni-plaintext\"><pre>8</pre></div></td></tr></tbody></table></td></tr><tr><td>4</td><td>Rapha&#235;l Guerreiro</td><td>pt POR</td><td>DF</td><td>Dortmund</td><td>deBundesliga</td><td><div class=\"dni-plaintext\"><pre>27</pre></div></td><td><div class=\"dni-plaintext\"><pre>23</pre></div></td><td><table><thead><tr><th>Item1</th></tr></thead><tbody><tr><td><div class=\"dni-plaintext\"><pre>4</pre></div></td></tr></tbody></table></td></tr></tbody></table><style>\r\n",
       ".dni-code-hint {\r\n",
       "    font-style: italic;\r\n",
       "    overflow: hidden;\r\n",
       "    white-space: nowrap;\r\n",
       "}\r\n",
       ".dni-treeview {\r\n",
       "    white-space: nowrap;\r\n",
       "}\r\n",
       ".dni-treeview td {\r\n",
       "    vertical-align: top;\r\n",
       "    text-align: start;\r\n",
       "}\r\n",
       "details.dni-treeview {\r\n",
       "    padding-left: 1em;\r\n",
       "}\r\n",
       "table td {\r\n",
       "    text-align: start;\r\n",
       "}\r\n",
       "table tr { \r\n",
       "    vertical-align: top; \r\n",
       "    margin: 0em 0px;\r\n",
       "}\r\n",
       "table tr td pre \r\n",
       "{ \r\n",
       "    vertical-align: top !important; \r\n",
       "    margin: 0em 0px !important;\r\n",
       "} \r\n",
       "table th {\r\n",
       "    text-align: start;\r\n",
       "}\r\n",
       "</style>"
      ]
     },
     "metadata": {},
     "output_type": "display_data"
    }
   ],
   "source": [
    "playerStatsTable\n",
    "|> List.filter(fun x -> x.Nation = \"pt POR\")\n",
    "|> List.truncate 5 //just to observe the first 5 rows, not a part of the exercise.\n"
   ]
  },
  {
   "cell_type": "markdown",
   "metadata": {
    "dotnet_interactive": {
     "language": "fsharp"
    },
    "polyglot_notebook": {
     "kernelName": "fsharp"
    }
   },
   "source": [
    "* `Filter` the `playerStatsTable` to get only 16 year-old players. (`Age = 16`).\n",
    "\n",
    "<div style=\"padding-left: 40px;\">\n",
    "<p> \n",
    "<span>\n",
    "<details>\n",
    "<summary><p style=\"display:inline\">answer</p></summary>\n",
    "\n",
    "```\n",
    "val it: CsvProvider<...>.Row list = []\n",
    "```\n",
    "\n",
    "</details>\n",
    "</span>\n",
    "</p>\n",
    "</div>\n",
    "\n"
   ]
  },
  {
   "cell_type": "code",
   "execution_count": 14,
   "metadata": {
    "dotnet_interactive": {
     "language": "fsharp"
    },
    "polyglot_notebook": {
     "kernelName": "fsharp"
    },
    "vscode": {
     "languageId": "polyglot-notebook"
    }
   },
   "outputs": [
    {
     "data": {
      "text/html": [
       "<i>(empty)</i><style>\r\n",
       ".dni-code-hint {\r\n",
       "    font-style: italic;\r\n",
       "    overflow: hidden;\r\n",
       "    white-space: nowrap;\r\n",
       "}\r\n",
       ".dni-treeview {\r\n",
       "    white-space: nowrap;\r\n",
       "}\r\n",
       ".dni-treeview td {\r\n",
       "    vertical-align: top;\r\n",
       "    text-align: start;\r\n",
       "}\r\n",
       "details.dni-treeview {\r\n",
       "    padding-left: 1em;\r\n",
       "}\r\n",
       "table td {\r\n",
       "    text-align: start;\r\n",
       "}\r\n",
       "table tr { \r\n",
       "    vertical-align: top; \r\n",
       "    margin: 0em 0px;\r\n",
       "}\r\n",
       "table tr td pre \r\n",
       "{ \r\n",
       "    vertical-align: top !important; \r\n",
       "    margin: 0em 0px !important;\r\n",
       "} \r\n",
       "table th {\r\n",
       "    text-align: start;\r\n",
       "}\r\n",
       "</style>"
      ]
     },
     "metadata": {},
     "output_type": "display_data"
    }
   ],
   "source": [
    "// write your code here, see website for solution.\n",
    "playerStatsTable\n",
    "|> List.filter(fun x -> x.Age = 16)"
   ]
  },
  {
   "cell_type": "markdown",
   "metadata": {
    "dotnet_interactive": {
     "language": "fsharp"
    },
    "polyglot_notebook": {
     "kernelName": "fsharp"
    }
   },
   "source": [
    "### 6 List.sort and List.sortDescending\n",
    "\n",
    "* `[1; 4; 5; 3; 6] |> List.sort` returns `[1; 3; 4; 5; 6]` (ascending sort).\n",
    "\n",
    "* `[1; 4; 5; 3; 6] |> List.sortDescending` returns `[6; 5; 4; 3; 1]` (descending sort).\n",
    "\n",
    "Example: map `playerStatsTable` to get a list of `Age` and sort it (ascending).\n",
    "\n",
    "Since we want to sort the age List we first use `List.map` to get only that List.\n",
    "Then we use `List.sort` to sort it.\n",
    "\n"
   ]
  },
  {
   "cell_type": "code",
   "execution_count": 15,
   "metadata": {
    "dotnet_interactive": {
     "language": "fsharp"
    },
    "polyglot_notebook": {
     "kernelName": "fsharp"
    },
    "vscode": {
     "languageId": "polyglot-notebook"
    }
   },
   "outputs": [
    {
     "data": {
      "text/html": [
       "<table><thead><tr><th><i>index</i></th><th>value</th></tr></thead><tbody><tr><td>0</td><td><div class=\"dni-plaintext\"><pre>17</pre></div></td></tr><tr><td>1</td><td><div class=\"dni-plaintext\"><pre>17</pre></div></td></tr><tr><td>2</td><td><div class=\"dni-plaintext\"><pre>17</pre></div></td></tr><tr><td>3</td><td><div class=\"dni-plaintext\"><pre>18</pre></div></td></tr><tr><td>4</td><td><div class=\"dni-plaintext\"><pre>18</pre></div></td></tr><tr><td>5</td><td><div class=\"dni-plaintext\"><pre>19</pre></div></td></tr><tr><td>6</td><td><div class=\"dni-plaintext\"><pre>19</pre></div></td></tr><tr><td>7</td><td><div class=\"dni-plaintext\"><pre>19</pre></div></td></tr><tr><td>8</td><td><div class=\"dni-plaintext\"><pre>19</pre></div></td></tr><tr><td>9</td><td><div class=\"dni-plaintext\"><pre>19</pre></div></td></tr><tr><td>10</td><td><div class=\"dni-plaintext\"><pre>20</pre></div></td></tr><tr><td>11</td><td><div class=\"dni-plaintext\"><pre>20</pre></div></td></tr><tr><td>12</td><td><div class=\"dni-plaintext\"><pre>20</pre></div></td></tr><tr><td>13</td><td><div class=\"dni-plaintext\"><pre>20</pre></div></td></tr><tr><td>14</td><td><div class=\"dni-plaintext\"><pre>21</pre></div></td></tr><tr><td>15</td><td><div class=\"dni-plaintext\"><pre>21</pre></div></td></tr><tr><td>16</td><td><div class=\"dni-plaintext\"><pre>21</pre></div></td></tr><tr><td>17</td><td><div class=\"dni-plaintext\"><pre>21</pre></div></td></tr><tr><td>18</td><td><div class=\"dni-plaintext\"><pre>21</pre></div></td></tr><tr><td>19</td><td><div class=\"dni-plaintext\"><pre>21</pre></div></td></tr><tr><td colspan=\"2\"><i>... (more)</i></td></tr></tbody></table><style>\r\n",
       ".dni-code-hint {\r\n",
       "    font-style: italic;\r\n",
       "    overflow: hidden;\r\n",
       "    white-space: nowrap;\r\n",
       "}\r\n",
       ".dni-treeview {\r\n",
       "    white-space: nowrap;\r\n",
       "}\r\n",
       ".dni-treeview td {\r\n",
       "    vertical-align: top;\r\n",
       "    text-align: start;\r\n",
       "}\r\n",
       "details.dni-treeview {\r\n",
       "    padding-left: 1em;\r\n",
       "}\r\n",
       "table td {\r\n",
       "    text-align: start;\r\n",
       "}\r\n",
       "table tr { \r\n",
       "    vertical-align: top; \r\n",
       "    margin: 0em 0px;\r\n",
       "}\r\n",
       "table tr td pre \r\n",
       "{ \r\n",
       "    vertical-align: top !important; \r\n",
       "    margin: 0em 0px !important;\r\n",
       "} \r\n",
       "table th {\r\n",
       "    text-align: start;\r\n",
       "}\r\n",
       "</style>"
      ]
     },
     "metadata": {},
     "output_type": "display_data"
    }
   ],
   "source": [
    "playerStatsTable\n",
    "|> List.map(fun x -> x.Age)\n",
    "|> List.sort\n",
    "|> List.truncate 60 //just to observe the first 60 values, not a part of the exercise.\n"
   ]
  },
  {
   "cell_type": "markdown",
   "metadata": {
    "dotnet_interactive": {
     "language": "fsharp"
    },
    "polyglot_notebook": {
     "kernelName": "fsharp"
    }
   },
   "source": [
    "* map `playerStatsTable` to get a list of `GoalsScored` and sort it (ascending).\n",
    "Hint:\n",
    "To sort the GoalsScored List you first need to use `List.map` to get only that List.\n",
    "Then use `List.sort` to sort it.\n",
    "\n",
    "<div style=\"padding-left: 40px;\">\n",
    "<p> \n",
    "<span>\n",
    "<details>\n",
    "<summary><p style=\"display:inline\">answer</p></summary>\n",
    "\n",
    "```\n",
    "val it: int list =\n",
    "  [0; 0; 0; 0; 0; 0; 0; 0; 0; 0; 0; 0; 0; 0; 0; 0; 0; 0; 0; 0; 0; 0; 0; 0; 0;\n",
    "   0; 1; 1; 1; 1; 1; 1; 1; 1; 1; 1; 1; 1; 1; 1; 1; 1; 1; 1; 1; 1; 1; 1; 2; 2;\n",
    "   2; 2; 2; 2; 2; 2; 2; 2; 2; 2]\n",
    "```\n",
    "\n",
    "</details>\n",
    "</span>\n",
    "</p>\n",
    "</div>\n",
    "\n"
   ]
  },
  {
   "cell_type": "code",
   "execution_count": 16,
   "metadata": {
    "dotnet_interactive": {
     "language": "fsharp"
    },
    "polyglot_notebook": {
     "kernelName": "fsharp"
    },
    "vscode": {
     "languageId": "polyglot-notebook"
    }
   },
   "outputs": [
    {
     "data": {
      "text/html": [
       "<table><thead><tr><th><i>index</i></th><th>value</th></tr></thead><tbody><tr><td>0</td><td><div class=\"dni-plaintext\"><pre>0</pre></div></td></tr><tr><td>1</td><td><div class=\"dni-plaintext\"><pre>0</pre></div></td></tr><tr><td>2</td><td><div class=\"dni-plaintext\"><pre>0</pre></div></td></tr><tr><td>3</td><td><div class=\"dni-plaintext\"><pre>0</pre></div></td></tr><tr><td>4</td><td><div class=\"dni-plaintext\"><pre>0</pre></div></td></tr><tr><td>5</td><td><div class=\"dni-plaintext\"><pre>0</pre></div></td></tr><tr><td>6</td><td><div class=\"dni-plaintext\"><pre>0</pre></div></td></tr><tr><td>7</td><td><div class=\"dni-plaintext\"><pre>0</pre></div></td></tr><tr><td>8</td><td><div class=\"dni-plaintext\"><pre>0</pre></div></td></tr><tr><td>9</td><td><div class=\"dni-plaintext\"><pre>0</pre></div></td></tr><tr><td>10</td><td><div class=\"dni-plaintext\"><pre>0</pre></div></td></tr><tr><td>11</td><td><div class=\"dni-plaintext\"><pre>0</pre></div></td></tr><tr><td>12</td><td><div class=\"dni-plaintext\"><pre>0</pre></div></td></tr><tr><td>13</td><td><div class=\"dni-plaintext\"><pre>0</pre></div></td></tr><tr><td>14</td><td><div class=\"dni-plaintext\"><pre>0</pre></div></td></tr><tr><td>15</td><td><div class=\"dni-plaintext\"><pre>0</pre></div></td></tr><tr><td>16</td><td><div class=\"dni-plaintext\"><pre>0</pre></div></td></tr><tr><td>17</td><td><div class=\"dni-plaintext\"><pre>0</pre></div></td></tr><tr><td>18</td><td><div class=\"dni-plaintext\"><pre>0</pre></div></td></tr><tr><td>19</td><td><div class=\"dni-plaintext\"><pre>0</pre></div></td></tr><tr><td colspan=\"2\"><i>... (more)</i></td></tr></tbody></table><style>\r\n",
       ".dni-code-hint {\r\n",
       "    font-style: italic;\r\n",
       "    overflow: hidden;\r\n",
       "    white-space: nowrap;\r\n",
       "}\r\n",
       ".dni-treeview {\r\n",
       "    white-space: nowrap;\r\n",
       "}\r\n",
       ".dni-treeview td {\r\n",
       "    vertical-align: top;\r\n",
       "    text-align: start;\r\n",
       "}\r\n",
       "details.dni-treeview {\r\n",
       "    padding-left: 1em;\r\n",
       "}\r\n",
       "table td {\r\n",
       "    text-align: start;\r\n",
       "}\r\n",
       "table tr { \r\n",
       "    vertical-align: top; \r\n",
       "    margin: 0em 0px;\r\n",
       "}\r\n",
       "table tr td pre \r\n",
       "{ \r\n",
       "    vertical-align: top !important; \r\n",
       "    margin: 0em 0px !important;\r\n",
       "} \r\n",
       "table th {\r\n",
       "    text-align: start;\r\n",
       "}\r\n",
       "</style>"
      ]
     },
     "metadata": {},
     "output_type": "display_data"
    }
   ],
   "source": [
    "// write your code here, see website for solution.\n",
    "playerStatsTable\n",
    "|> List.map(fun x -> x.GoalsScored)\n",
    "|> List.sort"
   ]
  },
  {
   "cell_type": "markdown",
   "metadata": {
    "dotnet_interactive": {
     "language": "fsharp"
    },
    "polyglot_notebook": {
     "kernelName": "fsharp"
    }
   },
   "source": [
    "Example: Map `playerStatsTable` to get a list of `Age` and sort it (descending).\n",
    "\n",
    "Since we want to sort the age List we first use `List.map` to get only that List.\n",
    "Then we use `List.sortDescending` to sort it.\n",
    "\n"
   ]
  },
  {
   "cell_type": "code",
   "execution_count": 17,
   "metadata": {
    "dotnet_interactive": {
     "language": "fsharp"
    },
    "polyglot_notebook": {
     "kernelName": "fsharp"
    },
    "vscode": {
     "languageId": "polyglot-notebook"
    }
   },
   "outputs": [
    {
     "data": {
      "text/html": [
       "<table><thead><tr><th><i>index</i></th><th>value</th></tr></thead><tbody><tr><td>0</td><td><div class=\"dni-plaintext\"><pre>40</pre></div></td></tr><tr><td>1</td><td><div class=\"dni-plaintext\"><pre>36</pre></div></td></tr><tr><td>2</td><td><div class=\"dni-plaintext\"><pre>36</pre></div></td></tr><tr><td>3</td><td><div class=\"dni-plaintext\"><pre>36</pre></div></td></tr><tr><td>4</td><td><div class=\"dni-plaintext\"><pre>35</pre></div></td></tr><tr><td>5</td><td><div class=\"dni-plaintext\"><pre>34</pre></div></td></tr><tr><td>6</td><td><div class=\"dni-plaintext\"><pre>34</pre></div></td></tr><tr><td>7</td><td><div class=\"dni-plaintext\"><pre>34</pre></div></td></tr><tr><td>8</td><td><div class=\"dni-plaintext\"><pre>34</pre></div></td></tr><tr><td>9</td><td><div class=\"dni-plaintext\"><pre>34</pre></div></td></tr><tr><td>10</td><td><div class=\"dni-plaintext\"><pre>34</pre></div></td></tr><tr><td>11</td><td><div class=\"dni-plaintext\"><pre>34</pre></div></td></tr><tr><td>12</td><td><div class=\"dni-plaintext\"><pre>34</pre></div></td></tr><tr><td>13</td><td><div class=\"dni-plaintext\"><pre>34</pre></div></td></tr><tr><td>14</td><td><div class=\"dni-plaintext\"><pre>33</pre></div></td></tr><tr><td>15</td><td><div class=\"dni-plaintext\"><pre>33</pre></div></td></tr><tr><td>16</td><td><div class=\"dni-plaintext\"><pre>33</pre></div></td></tr><tr><td>17</td><td><div class=\"dni-plaintext\"><pre>33</pre></div></td></tr><tr><td>18</td><td><div class=\"dni-plaintext\"><pre>33</pre></div></td></tr><tr><td>19</td><td><div class=\"dni-plaintext\"><pre>33</pre></div></td></tr><tr><td colspan=\"2\"><i>... (more)</i></td></tr></tbody></table><style>\r\n",
       ".dni-code-hint {\r\n",
       "    font-style: italic;\r\n",
       "    overflow: hidden;\r\n",
       "    white-space: nowrap;\r\n",
       "}\r\n",
       ".dni-treeview {\r\n",
       "    white-space: nowrap;\r\n",
       "}\r\n",
       ".dni-treeview td {\r\n",
       "    vertical-align: top;\r\n",
       "    text-align: start;\r\n",
       "}\r\n",
       "details.dni-treeview {\r\n",
       "    padding-left: 1em;\r\n",
       "}\r\n",
       "table td {\r\n",
       "    text-align: start;\r\n",
       "}\r\n",
       "table tr { \r\n",
       "    vertical-align: top; \r\n",
       "    margin: 0em 0px;\r\n",
       "}\r\n",
       "table tr td pre \r\n",
       "{ \r\n",
       "    vertical-align: top !important; \r\n",
       "    margin: 0em 0px !important;\r\n",
       "} \r\n",
       "table th {\r\n",
       "    text-align: start;\r\n",
       "}\r\n",
       "</style>"
      ]
     },
     "metadata": {},
     "output_type": "display_data"
    }
   ],
   "source": [
    "playerStatsTable\n",
    "|> List.map(fun x -> x.Age)\n",
    "|> List.sortDescending\n",
    "|> List.truncate 60 //just to observe the first 60 values, not a part of the exercise.\n"
   ]
  },
  {
   "cell_type": "markdown",
   "metadata": {
    "dotnet_interactive": {
     "language": "fsharp"
    },
    "polyglot_notebook": {
     "kernelName": "fsharp"
    }
   },
   "source": [
    "* Map `playerStatsTable` to get a list of `GoalsScored` and sort it (descending).\n",
    "Hint:\n",
    "To sort the GoalsScored List you first need to use `List.map` to get only that List.\n",
    "Then use `List.sortDescending` to sort it.\n",
    "\n",
    "<div style=\"padding-left: 40px;\">\n",
    "<p> \n",
    "<span>\n",
    "<details>\n",
    "<summary><p style=\"display:inline\">answer</p></summary>\n",
    "\n",
    "```\n",
    "val it: int list =\n",
    "  [35; 28; 27; 27; 25; 24; 23; 23; 22; 21; 21; 21; 20; 20; 18; 18; 17; 17; 17;\n",
    "   17; 17; 17; 16; 16; 16; 16; 16; 15; 15; 13; 13; 13; 13; 13; 12; 12; 12; 12;\n",
    "   12; 12; 11; 11; 11; 11; 11; 11; 11; 11; 11; 11; 11; 10; 10; 10; 10; 10; 10;\n",
    "   10; 10; 10]\n",
    "```\n",
    "\n",
    "</details>\n",
    "</span>\n",
    "</p>\n",
    "</div>\n",
    "\n"
   ]
  },
  {
   "cell_type": "code",
   "execution_count": 18,
   "metadata": {
    "dotnet_interactive": {
     "language": "fsharp"
    },
    "polyglot_notebook": {
     "kernelName": "fsharp"
    },
    "vscode": {
     "languageId": "polyglot-notebook"
    }
   },
   "outputs": [
    {
     "data": {
      "text/html": [
       "<table><thead><tr><th><i>index</i></th><th>value</th></tr></thead><tbody><tr><td>0</td><td><div class=\"dni-plaintext\"><pre>35</pre></div></td></tr><tr><td>1</td><td><div class=\"dni-plaintext\"><pre>28</pre></div></td></tr><tr><td>2</td><td><div class=\"dni-plaintext\"><pre>27</pre></div></td></tr><tr><td>3</td><td><div class=\"dni-plaintext\"><pre>27</pre></div></td></tr><tr><td>4</td><td><div class=\"dni-plaintext\"><pre>25</pre></div></td></tr><tr><td>5</td><td><div class=\"dni-plaintext\"><pre>24</pre></div></td></tr><tr><td>6</td><td><div class=\"dni-plaintext\"><pre>23</pre></div></td></tr><tr><td>7</td><td><div class=\"dni-plaintext\"><pre>23</pre></div></td></tr><tr><td>8</td><td><div class=\"dni-plaintext\"><pre>22</pre></div></td></tr><tr><td>9</td><td><div class=\"dni-plaintext\"><pre>21</pre></div></td></tr><tr><td>10</td><td><div class=\"dni-plaintext\"><pre>21</pre></div></td></tr><tr><td>11</td><td><div class=\"dni-plaintext\"><pre>21</pre></div></td></tr><tr><td>12</td><td><div class=\"dni-plaintext\"><pre>20</pre></div></td></tr><tr><td>13</td><td><div class=\"dni-plaintext\"><pre>20</pre></div></td></tr><tr><td>14</td><td><div class=\"dni-plaintext\"><pre>18</pre></div></td></tr><tr><td>15</td><td><div class=\"dni-plaintext\"><pre>18</pre></div></td></tr><tr><td>16</td><td><div class=\"dni-plaintext\"><pre>17</pre></div></td></tr><tr><td>17</td><td><div class=\"dni-plaintext\"><pre>17</pre></div></td></tr><tr><td>18</td><td><div class=\"dni-plaintext\"><pre>17</pre></div></td></tr><tr><td>19</td><td><div class=\"dni-plaintext\"><pre>17</pre></div></td></tr><tr><td colspan=\"2\"><i>... (more)</i></td></tr></tbody></table><style>\r\n",
       ".dni-code-hint {\r\n",
       "    font-style: italic;\r\n",
       "    overflow: hidden;\r\n",
       "    white-space: nowrap;\r\n",
       "}\r\n",
       ".dni-treeview {\r\n",
       "    white-space: nowrap;\r\n",
       "}\r\n",
       ".dni-treeview td {\r\n",
       "    vertical-align: top;\r\n",
       "    text-align: start;\r\n",
       "}\r\n",
       "details.dni-treeview {\r\n",
       "    padding-left: 1em;\r\n",
       "}\r\n",
       "table td {\r\n",
       "    text-align: start;\r\n",
       "}\r\n",
       "table tr { \r\n",
       "    vertical-align: top; \r\n",
       "    margin: 0em 0px;\r\n",
       "}\r\n",
       "table tr td pre \r\n",
       "{ \r\n",
       "    vertical-align: top !important; \r\n",
       "    margin: 0em 0px !important;\r\n",
       "} \r\n",
       "table th {\r\n",
       "    text-align: start;\r\n",
       "}\r\n",
       "</style>"
      ]
     },
     "metadata": {},
     "output_type": "display_data"
    }
   ],
   "source": [
    "// write your code here, see website for solution.\n",
    "playerStatsTable\n",
    "|> List.map(fun x -> x.GoalsScored)\n",
    "|> List.sortDescending"
   ]
  },
  {
   "cell_type": "markdown",
   "metadata": {
    "dotnet_interactive": {
     "language": "fsharp"
    },
    "polyglot_notebook": {
     "kernelName": "fsharp"
    }
   },
   "source": [
    "### 7 List.sortBy and List.sortByDescending\n",
    "\n",
    "`List.sortBy` is very usefull to sort the dataset accordingly to a certain dataset field.\n",
    "\n",
    "Example: sort (ascending) `playerStatsTable` by `Age` (`List.sortBy`).\n",
    "\n"
   ]
  },
  {
   "cell_type": "code",
   "execution_count": 19,
   "metadata": {
    "dotnet_interactive": {
     "language": "fsharp"
    },
    "polyglot_notebook": {
     "kernelName": "fsharp"
    },
    "vscode": {
     "languageId": "polyglot-notebook"
    }
   },
   "outputs": [
    {
     "data": {
      "text/html": [
       "<table><thead><tr><th><i>index</i></th><th>Item1</th><th>Item2</th><th>Item3</th><th>Item4</th><th>Item5</th><th>Item6</th><th>Item7</th><th>Rest</th></tr></thead><tbody><tr><td>0</td><td>Giorgio Scalvini</td><td>it ITA</td><td>DF,MF</td><td>Atalanta</td><td>itSerie A</td><td><div class=\"dni-plaintext\"><pre>17</pre></div></td><td><div class=\"dni-plaintext\"><pre>18</pre></div></td><td><table><thead><tr><th>Item1</th></tr></thead><tbody><tr><td><div class=\"dni-plaintext\"><pre>1</pre></div></td></tr></tbody></table></td></tr><tr><td>1</td><td>Juan S&#225;nchez</td><td>es ESP</td><td></td><td>Sevilla</td><td>esLa Liga</td><td><div class=\"dni-plaintext\"><pre>17</pre></div></td><td><div class=\"dni-plaintext\"><pre>1</pre></div></td><td><table><thead><tr><th>Item1</th></tr></thead><tbody><tr><td><div class=\"dni-plaintext\"><pre>0</pre></div></td></tr></tbody></table></td></tr><tr><td>2</td><td>Alejandro Primo</td><td>es ESP</td><td>GK</td><td>Levante</td><td>esLa Liga</td><td><div class=\"dni-plaintext\"><pre>17</pre></div></td><td><div class=\"dni-plaintext\"><pre>1</pre></div></td><td><table><thead><tr><th>Item1</th></tr></thead><tbody><tr><td><div class=\"dni-plaintext\"><pre>0</pre></div></td></tr></tbody></table></td></tr><tr><td>3</td><td>Florian Wirtz</td><td>de GER</td><td>MF,FW</td><td>Leverkusen</td><td>deBundesliga</td><td><div class=\"dni-plaintext\"><pre>18</pre></div></td><td><div class=\"dni-plaintext\"><pre>24</pre></div></td><td><table><thead><tr><th>Item1</th></tr></thead><tbody><tr><td><div class=\"dni-plaintext\"><pre>7</pre></div></td></tr></tbody></table></td></tr><tr><td>4</td><td>Iyenoma Udogie</td><td>it ITA</td><td>DF</td><td>Udinese</td><td>itSerie A</td><td><div class=\"dni-plaintext\"><pre>18</pre></div></td><td><div class=\"dni-plaintext\"><pre>35</pre></div></td><td><table><thead><tr><th>Item1</th></tr></thead><tbody><tr><td><div class=\"dni-plaintext\"><pre>5</pre></div></td></tr></tbody></table></td></tr></tbody></table><style>\r\n",
       ".dni-code-hint {\r\n",
       "    font-style: italic;\r\n",
       "    overflow: hidden;\r\n",
       "    white-space: nowrap;\r\n",
       "}\r\n",
       ".dni-treeview {\r\n",
       "    white-space: nowrap;\r\n",
       "}\r\n",
       ".dni-treeview td {\r\n",
       "    vertical-align: top;\r\n",
       "    text-align: start;\r\n",
       "}\r\n",
       "details.dni-treeview {\r\n",
       "    padding-left: 1em;\r\n",
       "}\r\n",
       "table td {\r\n",
       "    text-align: start;\r\n",
       "}\r\n",
       "table tr { \r\n",
       "    vertical-align: top; \r\n",
       "    margin: 0em 0px;\r\n",
       "}\r\n",
       "table tr td pre \r\n",
       "{ \r\n",
       "    vertical-align: top !important; \r\n",
       "    margin: 0em 0px !important;\r\n",
       "} \r\n",
       "table th {\r\n",
       "    text-align: start;\r\n",
       "}\r\n",
       "</style>"
      ]
     },
     "metadata": {},
     "output_type": "display_data"
    }
   ],
   "source": [
    "playerStatsTable\n",
    "|> List.sortBy(fun x -> x.Age)\n",
    "|> List.truncate 5 //just to observe the first 5 rows, not a part of the exercise.\n"
   ]
  },
  {
   "cell_type": "markdown",
   "metadata": {
    "dotnet_interactive": {
     "language": "fsharp"
    },
    "polyglot_notebook": {
     "kernelName": "fsharp"
    }
   },
   "source": [
    "* sort (ascending) `playerStatsTable` by `GoalsScored` (`List.sortBy`).\n",
    "\n",
    "<div style=\"padding-left: 40px;\">\n",
    "<p> \n",
    "<span>\n",
    "<details>\n",
    "<summary><p style=\"display:inline\">answer</p></summary>\n",
    "\n",
    "```\n",
    "val it: CsvProvider<...>.Row list =\n",
    "  [(\"Stefan Ortega\", \"de GER\", \"GK\", \"Arminia\", \"deBundesliga\", 28, 33, 0);\n",
    "   (\"Rui Patrício\", \"pt POR\", \"GK\", \"Roma\", \"itSerie A\", 33, 38, 0);\n",
    "   (\"Philipp Pentke\", \"de GER\", \"GK\", \"Hoffenheim\", \"deBundesliga\", 36, 1, 0);\n",
    "   (\"Pavao Pervan\", \"at AUT\", \"GK\", \"Wolfsburg\", \"deBundesliga\", 33, 6, 0);\n",
    "   (\"Nick Pope\", \"eng ENG\", \"GK\", \"Burnley\", \"engPremier League\", 29, 36, 0)]\n",
    "```\n",
    "\n",
    "</details>\n",
    "</span>\n",
    "</p>\n",
    "</div>\n",
    "\n"
   ]
  },
  {
   "cell_type": "code",
   "execution_count": 20,
   "metadata": {
    "dotnet_interactive": {
     "language": "fsharp"
    },
    "polyglot_notebook": {
     "kernelName": "fsharp"
    },
    "vscode": {
     "languageId": "polyglot-notebook"
    }
   },
   "outputs": [
    {
     "data": {
      "text/html": [
       "<table><thead><tr><th><i>index</i></th><th>Item1</th><th>Item2</th><th>Item3</th><th>Item4</th><th>Item5</th><th>Item6</th><th>Item7</th><th>Rest</th></tr></thead><tbody><tr><td>0</td><td>Stefan Ortega</td><td>de GER</td><td>GK</td><td>Arminia</td><td>deBundesliga</td><td><div class=\"dni-plaintext\"><pre>28</pre></div></td><td><div class=\"dni-plaintext\"><pre>33</pre></div></td><td><table><thead><tr><th>Item1</th></tr></thead><tbody><tr><td><div class=\"dni-plaintext\"><pre>0</pre></div></td></tr></tbody></table></td></tr><tr><td>1</td><td>Rui Patr&#237;cio</td><td>pt POR</td><td>GK</td><td>Roma</td><td>itSerie A</td><td><div class=\"dni-plaintext\"><pre>33</pre></div></td><td><div class=\"dni-plaintext\"><pre>38</pre></div></td><td><table><thead><tr><th>Item1</th></tr></thead><tbody><tr><td><div class=\"dni-plaintext\"><pre>0</pre></div></td></tr></tbody></table></td></tr><tr><td>2</td><td>Philipp Pentke</td><td>de GER</td><td>GK</td><td>Hoffenheim</td><td>deBundesliga</td><td><div class=\"dni-plaintext\"><pre>36</pre></div></td><td><div class=\"dni-plaintext\"><pre>1</pre></div></td><td><table><thead><tr><th>Item1</th></tr></thead><tbody><tr><td><div class=\"dni-plaintext\"><pre>0</pre></div></td></tr></tbody></table></td></tr><tr><td>3</td><td>Pavao Pervan</td><td>at AUT</td><td>GK</td><td>Wolfsburg</td><td>deBundesliga</td><td><div class=\"dni-plaintext\"><pre>33</pre></div></td><td><div class=\"dni-plaintext\"><pre>6</pre></div></td><td><table><thead><tr><th>Item1</th></tr></thead><tbody><tr><td><div class=\"dni-plaintext\"><pre>0</pre></div></td></tr></tbody></table></td></tr><tr><td>4</td><td>Nick Pope</td><td>eng ENG</td><td>GK</td><td>Burnley</td><td>engPremier League</td><td><div class=\"dni-plaintext\"><pre>29</pre></div></td><td><div class=\"dni-plaintext\"><pre>36</pre></div></td><td><table><thead><tr><th>Item1</th></tr></thead><tbody><tr><td><div class=\"dni-plaintext\"><pre>0</pre></div></td></tr></tbody></table></td></tr><tr><td>5</td><td>Mattia Perin</td><td>it ITA</td><td>GK</td><td>Juventus</td><td>itSerie A</td><td><div class=\"dni-plaintext\"><pre>28</pre></div></td><td><div class=\"dni-plaintext\"><pre>5</pre></div></td><td><table><thead><tr><th>Item1</th></tr></thead><tbody><tr><td><div class=\"dni-plaintext\"><pre>0</pre></div></td></tr></tbody></table></td></tr><tr><td>6</td><td>Julian Pollersbeck</td><td>de GER</td><td>GK</td><td>Lyon</td><td>frLigue 1</td><td><div class=\"dni-plaintext\"><pre>26</pre></div></td><td><div class=\"dni-plaintext\"><pre>6</pre></div></td><td><table><thead><tr><th>Item1</th></tr></thead><tbody><tr><td><div class=\"dni-plaintext\"><pre>0</pre></div></td></tr></tbody></table></td></tr><tr><td>7</td><td>Julen Agirrezabala</td><td>es ESP</td><td>GK</td><td>Athletic Club</td><td>esLa Liga</td><td><div class=\"dni-plaintext\"><pre>20</pre></div></td><td><div class=\"dni-plaintext\"><pre>4</pre></div></td><td><table><thead><tr><th>Item1</th></tr></thead><tbody><tr><td><div class=\"dni-plaintext\"><pre>0</pre></div></td></tr></tbody></table></td></tr><tr><td>8</td><td>Juan S&#225;nchez</td><td>es ESP</td><td></td><td>Sevilla</td><td>esLa Liga</td><td><div class=\"dni-plaintext\"><pre>17</pre></div></td><td><div class=\"dni-plaintext\"><pre>1</pre></div></td><td><table><thead><tr><th>Item1</th></tr></thead><tbody><tr><td><div class=\"dni-plaintext\"><pre>0</pre></div></td></tr></tbody></table></td></tr><tr><td>9</td><td>Juan P&#233;rez</td><td>es ESP</td><td>GK</td><td>Osasuna</td><td>esLa Liga</td><td><div class=\"dni-plaintext\"><pre>25</pre></div></td><td><div class=\"dni-plaintext\"><pre>2</pre></div></td><td><table><thead><tr><th>Item1</th></tr></thead><tbody><tr><td><div class=\"dni-plaintext\"><pre>0</pre></div></td></tr></tbody></table></td></tr><tr><td>10</td><td>Jordan Pickford</td><td>eng ENG</td><td>GK</td><td>Everton</td><td>engPremier League</td><td><div class=\"dni-plaintext\"><pre>27</pre></div></td><td><div class=\"dni-plaintext\"><pre>35</pre></div></td><td><table><thead><tr><th>Item1</th></tr></thead><tbody><tr><td><div class=\"dni-plaintext\"><pre>0</pre></div></td></tr></tbody></table></td></tr><tr><td>11</td><td>Jonas Omlin</td><td>ch SUI</td><td>GK</td><td>Montpellier</td><td>frLigue 1</td><td><div class=\"dni-plaintext\"><pre>27</pre></div></td><td><div class=\"dni-plaintext\"><pre>29</pre></div></td><td><table><thead><tr><th>Item1</th></tr></thead><tbody><tr><td><div class=\"dni-plaintext\"><pre>0</pre></div></td></tr></tbody></table></td></tr><tr><td>12</td><td>Jes&#250;s Owono</td><td>gq EQG</td><td>GK</td><td>Alav&#233;s</td><td>esLa Liga</td><td><div class=\"dni-plaintext\"><pre>20</pre></div></td><td><div class=\"dni-plaintext\"><pre>1</pre></div></td><td><table><thead><tr><th>Item1</th></tr></thead><tbody><tr><td><div class=\"dni-plaintext\"><pre>0</pre></div></td></tr></tbody></table></td></tr><tr><td>13</td><td>Ivor Pandur</td><td>hr CRO</td><td>GK</td><td>Hellas Verona</td><td>itSerie A</td><td><div class=\"dni-plaintext\"><pre>21</pre></div></td><td><div class=\"dni-plaintext\"><pre>3</pre></div></td><td><table><thead><tr><th>Item1</th></tr></thead><tbody><tr><td><div class=\"dni-plaintext\"><pre>0</pre></div></td></tr></tbody></table></td></tr><tr><td>14</td><td>Ivan Provedel</td><td>it ITA</td><td>GK</td><td>Spezia</td><td>itSerie A</td><td><div class=\"dni-plaintext\"><pre>27</pre></div></td><td><div class=\"dni-plaintext\"><pre>31</pre></div></td><td><table><thead><tr><th>Item1</th></tr></thead><tbody><tr><td><div class=\"dni-plaintext\"><pre>0</pre></div></td></tr></tbody></table></td></tr><tr><td>15</td><td>Ionuț Radu</td><td>ro ROU</td><td>GK</td><td>Inter</td><td>itSerie A</td><td><div class=\"dni-plaintext\"><pre>24</pre></div></td><td><div class=\"dni-plaintext\"><pre>1</pre></div></td><td><table><thead><tr><th>Item1</th></tr></thead><tbody><tr><td><div class=\"dni-plaintext\"><pre>0</pre></div></td></tr></tbody></table></td></tr><tr><td>16</td><td>Gianluca Pegolo</td><td>it ITA</td><td>GK</td><td>Sassuolo</td><td>itSerie A</td><td><div class=\"dni-plaintext\"><pre>40</pre></div></td><td><div class=\"dni-plaintext\"><pre>1</pre></div></td><td><table><thead><tr><th>Item1</th></tr></thead><tbody><tr><td><div class=\"dni-plaintext\"><pre>0</pre></div></td></tr></tbody></table></td></tr><tr><td>17</td><td>Ga&#235;tan Poussin</td><td>fr FRA</td><td>GK</td><td>Bordeaux</td><td>frLigue 1</td><td><div class=\"dni-plaintext\"><pre>22</pre></div></td><td><div class=\"dni-plaintext\"><pre>13</pre></div></td><td><table><thead><tr><th>Item1</th></tr></thead><tbody><tr><td><div class=\"dni-plaintext\"><pre>0</pre></div></td></tr></tbody></table></td></tr><tr><td>18</td><td>Fernando Pacheco</td><td>es ESP</td><td>GK</td><td>Alav&#233;s</td><td>esLa Liga</td><td><div class=\"dni-plaintext\"><pre>29</pre></div></td><td><div class=\"dni-plaintext\"><pre>34</pre></div></td><td><table><thead><tr><th>Item1</th></tr></thead><tbody><tr><td><div class=\"dni-plaintext\"><pre>0</pre></div></td></tr></tbody></table></td></tr><tr><td>19</td><td>David Ospina</td><td>co COL</td><td>GK</td><td>Napoli</td><td>itSerie A</td><td><div class=\"dni-plaintext\"><pre>32</pre></div></td><td><div class=\"dni-plaintext\"><pre>31</pre></div></td><td><table><thead><tr><th>Item1</th></tr></thead><tbody><tr><td><div class=\"dni-plaintext\"><pre>0</pre></div></td></tr></tbody></table></td></tr><tr><td colspan=\"9\"><i>... (more)</i></td></tr></tbody></table><style>\r\n",
       ".dni-code-hint {\r\n",
       "    font-style: italic;\r\n",
       "    overflow: hidden;\r\n",
       "    white-space: nowrap;\r\n",
       "}\r\n",
       ".dni-treeview {\r\n",
       "    white-space: nowrap;\r\n",
       "}\r\n",
       ".dni-treeview td {\r\n",
       "    vertical-align: top;\r\n",
       "    text-align: start;\r\n",
       "}\r\n",
       "details.dni-treeview {\r\n",
       "    padding-left: 1em;\r\n",
       "}\r\n",
       "table td {\r\n",
       "    text-align: start;\r\n",
       "}\r\n",
       "table tr { \r\n",
       "    vertical-align: top; \r\n",
       "    margin: 0em 0px;\r\n",
       "}\r\n",
       "table tr td pre \r\n",
       "{ \r\n",
       "    vertical-align: top !important; \r\n",
       "    margin: 0em 0px !important;\r\n",
       "} \r\n",
       "table th {\r\n",
       "    text-align: start;\r\n",
       "}\r\n",
       "</style>"
      ]
     },
     "metadata": {},
     "output_type": "display_data"
    }
   ],
   "source": [
    "// write your code here, see website for solution.\n",
    "playerStatsTable\n",
    "|> List.sortBy(fun x -> x.GoalsScored)"
   ]
  },
  {
   "cell_type": "markdown",
   "metadata": {
    "dotnet_interactive": {
     "language": "fsharp"
    },
    "polyglot_notebook": {
     "kernelName": "fsharp"
    }
   },
   "source": [
    "Example: sort (descending) `playerStatsTable` by `Age` (`List.sortByDescending`).\n",
    "\n"
   ]
  },
  {
   "cell_type": "code",
   "execution_count": 21,
   "metadata": {
    "dotnet_interactive": {
     "language": "fsharp"
    },
    "polyglot_notebook": {
     "kernelName": "fsharp"
    },
    "vscode": {
     "languageId": "polyglot-notebook"
    }
   },
   "outputs": [
    {
     "data": {
      "text/html": [
       "<table><thead><tr><th><i>index</i></th><th>Item1</th><th>Item2</th><th>Item3</th><th>Item4</th><th>Item5</th><th>Item6</th><th>Item7</th><th>Rest</th></tr></thead><tbody><tr><td>0</td><td>Gianluca Pegolo</td><td>it ITA</td><td>GK</td><td>Sassuolo</td><td>itSerie A</td><td><div class=\"dni-plaintext\"><pre>40</pre></div></td><td><div class=\"dni-plaintext\"><pre>1</pre></div></td><td><table><thead><tr><th>Item1</th></tr></thead><tbody><tr><td><div class=\"dni-plaintext\"><pre>0</pre></div></td></tr></tbody></table></td></tr><tr><td>1</td><td>Cristiano Ronaldo</td><td>pt POR</td><td>FW</td><td>Manchester Utd</td><td>engPremier League</td><td><div class=\"dni-plaintext\"><pre>36</pre></div></td><td><div class=\"dni-plaintext\"><pre>30</pre></div></td><td><table><thead><tr><th>Item1</th></tr></thead><tbody><tr><td><div class=\"dni-plaintext\"><pre>18</pre></div></td></tr></tbody></table></td></tr><tr><td>2</td><td>Fernandinho</td><td>br BRA</td><td>MF,DF</td><td>Manchester City</td><td>engPremier League</td><td><div class=\"dni-plaintext\"><pre>36</pre></div></td><td><div class=\"dni-plaintext\"><pre>19</pre></div></td><td><table><thead><tr><th>Item1</th></tr></thead><tbody><tr><td><div class=\"dni-plaintext\"><pre>2</pre></div></td></tr></tbody></table></td></tr><tr><td>3</td><td>Philipp Pentke</td><td>de GER</td><td>GK</td><td>Hoffenheim</td><td>deBundesliga</td><td><div class=\"dni-plaintext\"><pre>36</pre></div></td><td><div class=\"dni-plaintext\"><pre>1</pre></div></td><td><table><thead><tr><th>Item1</th></tr></thead><tbody><tr><td><div class=\"dni-plaintext\"><pre>0</pre></div></td></tr></tbody></table></td></tr><tr><td>4</td><td>Daniele Padelli</td><td>it ITA</td><td>GK</td><td>Udinese</td><td>itSerie A</td><td><div class=\"dni-plaintext\"><pre>35</pre></div></td><td><div class=\"dni-plaintext\"><pre>3</pre></div></td><td><table><thead><tr><th>Item1</th></tr></thead><tbody><tr><td><div class=\"dni-plaintext\"><pre>0</pre></div></td></tr></tbody></table></td></tr></tbody></table><style>\r\n",
       ".dni-code-hint {\r\n",
       "    font-style: italic;\r\n",
       "    overflow: hidden;\r\n",
       "    white-space: nowrap;\r\n",
       "}\r\n",
       ".dni-treeview {\r\n",
       "    white-space: nowrap;\r\n",
       "}\r\n",
       ".dni-treeview td {\r\n",
       "    vertical-align: top;\r\n",
       "    text-align: start;\r\n",
       "}\r\n",
       "details.dni-treeview {\r\n",
       "    padding-left: 1em;\r\n",
       "}\r\n",
       "table td {\r\n",
       "    text-align: start;\r\n",
       "}\r\n",
       "table tr { \r\n",
       "    vertical-align: top; \r\n",
       "    margin: 0em 0px;\r\n",
       "}\r\n",
       "table tr td pre \r\n",
       "{ \r\n",
       "    vertical-align: top !important; \r\n",
       "    margin: 0em 0px !important;\r\n",
       "} \r\n",
       "table th {\r\n",
       "    text-align: start;\r\n",
       "}\r\n",
       "</style>"
      ]
     },
     "metadata": {},
     "output_type": "display_data"
    }
   ],
   "source": [
    "playerStatsTable\n",
    "|> List.sortByDescending(fun x -> x.Age)\n",
    "|> List.truncate 5 //just to observe the first 5 rows, not a part of the exercise.\n"
   ]
  },
  {
   "cell_type": "markdown",
   "metadata": {
    "dotnet_interactive": {
     "language": "fsharp"
    },
    "polyglot_notebook": {
     "kernelName": "fsharp"
    }
   },
   "source": [
    "* sort (descending) `playerStatsTable` by `GoalsScored` (`List.sortByDescending`).\n",
    "\n",
    "<div style=\"padding-left: 40px;\">\n",
    "<p> \n",
    "<span>\n",
    "<details>\n",
    "<summary><p style=\"display:inline\">answer</p></summary>\n",
    "\n",
    "```\n",
    "val it: CsvProvider<...>.Row list =\n",
    "  [(\"Robert Lewandowski\", \"pl POL\", \"FW\", \"Bayern Munich\", \"deBundesliga\", 32,\n",
    "    34, 35);\n",
    "   (\"Kylian Mbappé\", \"fr FRA\", \"FW\", \"Paris S-G\", \"frLigue 1\", 22, 35, 28);\n",
    "   (\"Karim Benzema\", \"fr FRA\", \"FW\", \"Real Madrid\", \"esLa Liga\", 33, 32, 27);\n",
    "   (\"Ciro Immobile\", \"it ITA\", \"FW\", \"Lazio\", \"itSerie A\", 31, 31, 27);\n",
    "   (\"Wissam Ben Yedder\", \"fr FRA\", \"FW\", \"Monaco\", \"frLigue 1\", 30, 37, 25)]\n",
    "```\n",
    "\n",
    "</details>\n",
    "</span>\n",
    "</p>\n",
    "</div>\n",
    "\n"
   ]
  },
  {
   "cell_type": "code",
   "execution_count": 22,
   "metadata": {
    "dotnet_interactive": {
     "language": "fsharp"
    },
    "polyglot_notebook": {
     "kernelName": "fsharp"
    },
    "vscode": {
     "languageId": "polyglot-notebook"
    }
   },
   "outputs": [
    {
     "data": {
      "text/html": [
       "<table><thead><tr><th><i>index</i></th><th>Item1</th><th>Item2</th><th>Item3</th><th>Item4</th><th>Item5</th><th>Item6</th><th>Item7</th><th>Rest</th></tr></thead><tbody><tr><td>0</td><td>Robert Lewandowski</td><td>pl POL</td><td>FW</td><td>Bayern Munich</td><td>deBundesliga</td><td><div class=\"dni-plaintext\"><pre>32</pre></div></td><td><div class=\"dni-plaintext\"><pre>34</pre></div></td><td><table><thead><tr><th>Item1</th></tr></thead><tbody><tr><td><div class=\"dni-plaintext\"><pre>35</pre></div></td></tr></tbody></table></td></tr><tr><td>1</td><td>Kylian Mbapp&#233;</td><td>fr FRA</td><td>FW</td><td>Paris S-G</td><td>frLigue 1</td><td><div class=\"dni-plaintext\"><pre>22</pre></div></td><td><div class=\"dni-plaintext\"><pre>35</pre></div></td><td><table><thead><tr><th>Item1</th></tr></thead><tbody><tr><td><div class=\"dni-plaintext\"><pre>28</pre></div></td></tr></tbody></table></td></tr><tr><td>2</td><td>Karim Benzema</td><td>fr FRA</td><td>FW</td><td>Real Madrid</td><td>esLa Liga</td><td><div class=\"dni-plaintext\"><pre>33</pre></div></td><td><div class=\"dni-plaintext\"><pre>32</pre></div></td><td><table><thead><tr><th>Item1</th></tr></thead><tbody><tr><td><div class=\"dni-plaintext\"><pre>27</pre></div></td></tr></tbody></table></td></tr><tr><td>3</td><td>Ciro Immobile</td><td>it ITA</td><td>FW</td><td>Lazio</td><td>itSerie A</td><td><div class=\"dni-plaintext\"><pre>31</pre></div></td><td><div class=\"dni-plaintext\"><pre>31</pre></div></td><td><table><thead><tr><th>Item1</th></tr></thead><tbody><tr><td><div class=\"dni-plaintext\"><pre>27</pre></div></td></tr></tbody></table></td></tr><tr><td>4</td><td>Wissam Ben Yedder</td><td>fr FRA</td><td>FW</td><td>Monaco</td><td>frLigue 1</td><td><div class=\"dni-plaintext\"><pre>30</pre></div></td><td><div class=\"dni-plaintext\"><pre>37</pre></div></td><td><table><thead><tr><th>Item1</th></tr></thead><tbody><tr><td><div class=\"dni-plaintext\"><pre>25</pre></div></td></tr></tbody></table></td></tr><tr><td>5</td><td>Patrik Schick</td><td>cz CZE</td><td>FW</td><td>Leverkusen</td><td>deBundesliga</td><td><div class=\"dni-plaintext\"><pre>25</pre></div></td><td><div class=\"dni-plaintext\"><pre>27</pre></div></td><td><table><thead><tr><th>Item1</th></tr></thead><tbody><tr><td><div class=\"dni-plaintext\"><pre>24</pre></div></td></tr></tbody></table></td></tr><tr><td>6</td><td>Son Heung-min</td><td>kr KOR</td><td>MF,FW</td><td>Tottenham</td><td>engPremier League</td><td><div class=\"dni-plaintext\"><pre>29</pre></div></td><td><div class=\"dni-plaintext\"><pre>35</pre></div></td><td><table><thead><tr><th>Item1</th></tr></thead><tbody><tr><td><div class=\"dni-plaintext\"><pre>23</pre></div></td></tr></tbody></table></td></tr><tr><td>7</td><td>Mohamed Salah</td><td>eg EGY</td><td>FW</td><td>Liverpool</td><td>engPremier League</td><td><div class=\"dni-plaintext\"><pre>29</pre></div></td><td><div class=\"dni-plaintext\"><pre>35</pre></div></td><td><table><thead><tr><th>Item1</th></tr></thead><tbody><tr><td><div class=\"dni-plaintext\"><pre>23</pre></div></td></tr></tbody></table></td></tr><tr><td>8</td><td>Erling Haaland</td><td>no NOR</td><td>FW</td><td>Dortmund</td><td>deBundesliga</td><td><div class=\"dni-plaintext\"><pre>21</pre></div></td><td><div class=\"dni-plaintext\"><pre>24</pre></div></td><td><table><thead><tr><th>Item1</th></tr></thead><tbody><tr><td><div class=\"dni-plaintext\"><pre>22</pre></div></td></tr></tbody></table></td></tr><tr><td>9</td><td>Moussa Demb&#233;l&#233;</td><td>fr FRA</td><td>FW</td><td>Lyon</td><td>frLigue 1</td><td><div class=\"dni-plaintext\"><pre>25</pre></div></td><td><div class=\"dni-plaintext\"><pre>30</pre></div></td><td><table><thead><tr><th>Item1</th></tr></thead><tbody><tr><td><div class=\"dni-plaintext\"><pre>21</pre></div></td></tr></tbody></table></td></tr><tr><td>10</td><td>Martin Terrier</td><td>fr FRA</td><td>FW,MF</td><td>Rennes</td><td>frLigue 1</td><td><div class=\"dni-plaintext\"><pre>24</pre></div></td><td><div class=\"dni-plaintext\"><pre>37</pre></div></td><td><table><thead><tr><th>Item1</th></tr></thead><tbody><tr><td><div class=\"dni-plaintext\"><pre>21</pre></div></td></tr></tbody></table></td></tr><tr><td>11</td><td>Lautaro Mart&#237;nez</td><td>ar ARG</td><td>FW</td><td>Inter</td><td>itSerie A</td><td><div class=\"dni-plaintext\"><pre>23</pre></div></td><td><div class=\"dni-plaintext\"><pre>35</pre></div></td><td><table><thead><tr><th>Item1</th></tr></thead><tbody><tr><td><div class=\"dni-plaintext\"><pre>21</pre></div></td></tr></tbody></table></td></tr><tr><td>12</td><td>Christopher Nkunku</td><td>fr FRA</td><td>FW,MF</td><td>RB Leipzig</td><td>deBundesliga</td><td><div class=\"dni-plaintext\"><pre>23</pre></div></td><td><div class=\"dni-plaintext\"><pre>34</pre></div></td><td><table><thead><tr><th>Item1</th></tr></thead><tbody><tr><td><div class=\"dni-plaintext\"><pre>20</pre></div></td></tr></tbody></table></td></tr><tr><td>13</td><td>Anthony Modeste</td><td>fr FRA</td><td>FW</td><td>K&#246;ln</td><td>deBundesliga</td><td><div class=\"dni-plaintext\"><pre>33</pre></div></td><td><div class=\"dni-plaintext\"><pre>32</pre></div></td><td><table><thead><tr><th>Item1</th></tr></thead><tbody><tr><td><div class=\"dni-plaintext\"><pre>20</pre></div></td></tr></tbody></table></td></tr><tr><td>14</td><td>Iago Aspas</td><td>es ESP</td><td>FW</td><td>Celta Vigo</td><td>esLa Liga</td><td><div class=\"dni-plaintext\"><pre>33</pre></div></td><td><div class=\"dni-plaintext\"><pre>37</pre></div></td><td><table><thead><tr><th>Item1</th></tr></thead><tbody><tr><td><div class=\"dni-plaintext\"><pre>18</pre></div></td></tr></tbody></table></td></tr><tr><td>15</td><td>Cristiano Ronaldo</td><td>pt POR</td><td>FW</td><td>Manchester Utd</td><td>engPremier League</td><td><div class=\"dni-plaintext\"><pre>36</pre></div></td><td><div class=\"dni-plaintext\"><pre>30</pre></div></td><td><table><thead><tr><th>Item1</th></tr></thead><tbody><tr><td><div class=\"dni-plaintext\"><pre>18</pre></div></td></tr></tbody></table></td></tr><tr><td>16</td><td>Vinicius J&#250;nior</td><td>br BRA</td><td>FW</td><td>Real Madrid</td><td>esLa Liga</td><td><div class=\"dni-plaintext\"><pre>21</pre></div></td><td><div class=\"dni-plaintext\"><pre>35</pre></div></td><td><table><thead><tr><th>Item1</th></tr></thead><tbody><tr><td><div class=\"dni-plaintext\"><pre>17</pre></div></td></tr></tbody></table></td></tr><tr><td>17</td><td>Tammy Abraham</td><td>eng ENG</td><td>FW</td><td>Roma</td><td>itSerie A</td><td><div class=\"dni-plaintext\"><pre>23</pre></div></td><td><div class=\"dni-plaintext\"><pre>37</pre></div></td><td><table><thead><tr><th>Item1</th></tr></thead><tbody><tr><td><div class=\"dni-plaintext\"><pre>17</pre></div></td></tr></tbody></table></td></tr><tr><td>18</td><td>Ra&#250;l de Tom&#225;s</td><td>es ESP</td><td>FW</td><td>Espanyol</td><td>esLa Liga</td><td><div class=\"dni-plaintext\"><pre>26</pre></div></td><td><div class=\"dni-plaintext\"><pre>34</pre></div></td><td><table><thead><tr><th>Item1</th></tr></thead><tbody><tr><td><div class=\"dni-plaintext\"><pre>17</pre></div></td></tr></tbody></table></td></tr><tr><td>19</td><td>Harry Kane</td><td>eng ENG</td><td>FW</td><td>Tottenham</td><td>engPremier League</td><td><div class=\"dni-plaintext\"><pre>28</pre></div></td><td><div class=\"dni-plaintext\"><pre>37</pre></div></td><td><table><thead><tr><th>Item1</th></tr></thead><tbody><tr><td><div class=\"dni-plaintext\"><pre>17</pre></div></td></tr></tbody></table></td></tr><tr><td colspan=\"9\"><i>... (more)</i></td></tr></tbody></table><style>\r\n",
       ".dni-code-hint {\r\n",
       "    font-style: italic;\r\n",
       "    overflow: hidden;\r\n",
       "    white-space: nowrap;\r\n",
       "}\r\n",
       ".dni-treeview {\r\n",
       "    white-space: nowrap;\r\n",
       "}\r\n",
       ".dni-treeview td {\r\n",
       "    vertical-align: top;\r\n",
       "    text-align: start;\r\n",
       "}\r\n",
       "details.dni-treeview {\r\n",
       "    padding-left: 1em;\r\n",
       "}\r\n",
       "table td {\r\n",
       "    text-align: start;\r\n",
       "}\r\n",
       "table tr { \r\n",
       "    vertical-align: top; \r\n",
       "    margin: 0em 0px;\r\n",
       "}\r\n",
       "table tr td pre \r\n",
       "{ \r\n",
       "    vertical-align: top !important; \r\n",
       "    margin: 0em 0px !important;\r\n",
       "} \r\n",
       "table th {\r\n",
       "    text-align: start;\r\n",
       "}\r\n",
       "</style>"
      ]
     },
     "metadata": {},
     "output_type": "display_data"
    }
   ],
   "source": [
    "// write your code here, see website for solution.\n",
    "playerStatsTable\n",
    "|> List.sortByDescending(fun x -> x.GoalsScored)"
   ]
  },
  {
   "cell_type": "markdown",
   "metadata": {
    "dotnet_interactive": {
     "language": "fsharp"
    },
    "polyglot_notebook": {
     "kernelName": "fsharp"
    }
   },
   "source": [
    "### 8 List.splitInto\n",
    "\n",
    "`List.splitInto` is very usefull to split your dataset into multiple subsets.\n",
    "This function is commonly used to generate quantiles by splitting a sorted List.\n",
    "For instance, for investment strategies financial assets are usually sorted by a certain signal\n",
    "and then splitted into quantiles. If the signal has a positive sign, it means that the long strategy consists of going long\n",
    "on the first quantile stocks, and the long-short strategy consists of going long on the first quantile stocks and short on the last quantile stocks.\n",
    "\n",
    "Note: `List.splitInto` receives one parameter which refers to the number of groups you want to create out of the dataset.\n",
    "\n",
    "Example: Sort the `playerStatsTable` by `GoalsScored` and then split the dataset into 4 groups using `List.sortBy` and `List.splitInto`.\n",
    "\n"
   ]
  },
  {
   "cell_type": "code",
   "execution_count": 23,
   "metadata": {
    "dotnet_interactive": {
     "language": "fsharp"
    },
    "polyglot_notebook": {
     "kernelName": "fsharp"
    },
    "vscode": {
     "languageId": "polyglot-notebook"
    }
   },
   "outputs": [
    {
     "data": {
      "text/html": [
       "<table><thead><tr><th><i>index</i></th><th>value</th></tr></thead><tbody><tr><td>0</td><td><div class=\"dni-plaintext\"><pre>FSharpList&lt;Tuple&lt;String,String,String,String,String,Int32,Int32,Tuple&lt;Int32&gt;&gt;&gt;\r\n",
       "      - Stefan Ortega\r\n",
       "      - de GER\r\n",
       "      - GK\r\n",
       "      - Arminia\r\n",
       "      - deBundesliga\r\n",
       "      - 28\r\n",
       "      - 33\r\n",
       "      - ( 0 )\r\n",
       "      - Rui Patr&#237;cio\r\n",
       "      - pt POR\r\n",
       "      - GK\r\n",
       "      - Roma\r\n",
       "      - itSerie A\r\n",
       "      - 33\r\n",
       "      - 38\r\n",
       "      - ( 0 )\r\n",
       "      - Philipp Pentke\r\n",
       "      - de GER\r\n",
       "      - GK\r\n",
       "      - Hoffenheim\r\n",
       "      - deBundesliga\r\n",
       "      - 36\r\n",
       "      - 1\r\n",
       "      - ( 0 )\r\n",
       "      - Pavao Pervan\r\n",
       "      - at AUT\r\n",
       "      - GK\r\n",
       "      - Wolfsburg\r\n",
       "      - deBundesliga\r\n",
       "      - 33\r\n",
       "      - 6\r\n",
       "      - ( 0 )\r\n",
       "      - Nick Pope\r\n",
       "      - eng ENG\r\n",
       "      - GK\r\n",
       "      - Burnley\r\n",
       "      - engPremier League\r\n",
       "      - 29\r\n",
       "      - 36\r\n",
       "      - ( 0 )</pre></div></td></tr><tr><td>1</td><td><div class=\"dni-plaintext\"><pre>FSharpList&lt;Tuple&lt;String,String,String,String,String,Int32,Int32,Tuple&lt;Int32&gt;&gt;&gt;\r\n",
       "      - Quentin Merlin\r\n",
       "      - fr FRA\r\n",
       "      - DF,MF\r\n",
       "      - Nantes\r\n",
       "      - frLigue 1\r\n",
       "      - 19\r\n",
       "      - 28\r\n",
       "      - ( 2 )\r\n",
       "      - Pascal Gro&#223;\r\n",
       "      - de GER\r\n",
       "      - MF,DF\r\n",
       "      - Brighton\r\n",
       "      - engPremier League\r\n",
       "      - 30\r\n",
       "      - 29\r\n",
       "      - ( 2 )\r\n",
       "      - Mads Pedersen\r\n",
       "      - dk DEN\r\n",
       "      - MF,DF\r\n",
       "      - Augsburg\r\n",
       "      - deBundesliga\r\n",
       "      - 24\r\n",
       "      - 29\r\n",
       "      - ( 2 )\r\n",
       "      - Lukas K&#252;bler\r\n",
       "      - de GER\r\n",
       "      - DF,MF\r\n",
       "      - Freiburg\r\n",
       "      - deBundesliga\r\n",
       "      - 28\r\n",
       "      - 29\r\n",
       "      - ( 2 )\r\n",
       "      - Josan\r\n",
       "      - es ESP\r\n",
       "      - DF,MF\r\n",
       "      - Elche\r\n",
       "      - esLa Liga\r\n",
       "      - 31\r\n",
       "      - 31\r\n",
       "      - ( 2 )</pre></div></td></tr></tbody></table><style>\r\n",
       ".dni-code-hint {\r\n",
       "    font-style: italic;\r\n",
       "    overflow: hidden;\r\n",
       "    white-space: nowrap;\r\n",
       "}\r\n",
       ".dni-treeview {\r\n",
       "    white-space: nowrap;\r\n",
       "}\r\n",
       ".dni-treeview td {\r\n",
       "    vertical-align: top;\r\n",
       "    text-align: start;\r\n",
       "}\r\n",
       "details.dni-treeview {\r\n",
       "    padding-left: 1em;\r\n",
       "}\r\n",
       "table td {\r\n",
       "    text-align: start;\r\n",
       "}\r\n",
       "table tr { \r\n",
       "    vertical-align: top; \r\n",
       "    margin: 0em 0px;\r\n",
       "}\r\n",
       "table tr td pre \r\n",
       "{ \r\n",
       "    vertical-align: top !important; \r\n",
       "    margin: 0em 0px !important;\r\n",
       "} \r\n",
       "table th {\r\n",
       "    text-align: start;\r\n",
       "}\r\n",
       "</style>"
      ]
     },
     "metadata": {},
     "output_type": "display_data"
    }
   ],
   "source": [
    "playerStatsTable\n",
    "|> List.sortBy(fun x -> x.GoalsScored)\n",
    "|> List.splitInto 4\n",
    "|> List.truncate 2 //just to observe the first 2 groups Lists, not a part of the exercise.\n",
    "|> List.map(fun x -> x |> List.truncate 5) //just to observe the first 5 rows of each group List, not a part of the exercise.\n"
   ]
  },
  {
   "cell_type": "markdown",
   "metadata": {
    "dotnet_interactive": {
     "language": "fsharp"
    },
    "polyglot_notebook": {
     "kernelName": "fsharp"
    }
   },
   "source": [
    "* Sort the `playerStatsTable` by `Age` and then split the dataset into 5 groups using `List.sortBy` and `List.splitInto`.\n",
    "\n",
    "<div style=\"padding-left: 40px;\">\n",
    "<p> \n",
    "<span>\n",
    "<details>\n",
    "<summary><p style=\"display:inline\">answer</p></summary>\n",
    "\n",
    "```\n",
    "val it: CsvProvider<...>.Row list list =\n",
    "  [[(\"Giorgio Scalvini\", \"it ITA\", \"DF,MF\", \"Atalanta\", \"itSerie A\", 17, 18, 1);\n",
    "    (\"Juan Sánchez\", \"es ESP\", \"\", \"Sevilla\", \"esLa Liga\", 17, 1, 0);\n",
    "    (\"Alejandro Primo\", \"es ESP\", \"GK\", \"Levante\", \"esLa Liga\", 17, 1, 0);\n",
    "    (\"Florian Wirtz\", \"de GER\", \"MF,FW\", \"Leverkusen\", \"deBundesliga\", 18, 24,\n",
    "     7); (\"Iyenoma Udogie\", \"it ITA\", \"DF\", \"Udinese\", \"itSerie A\", 18, 35, 5)];\n",
    "   [(\"Lautaro Martínez\", \"ar ARG\", \"FW\", \"Inter\", \"itSerie A\", 23, 35, 21);\n",
    "    (\"Christopher Nkunku\", \"fr FRA\", \"FW,MF\", \"RB Leipzig\", \"deBundesliga\", 23,\n",
    "     34, 20);\n",
    "    (\"Tammy Abraham\", \"eng ENG\", \"FW\", \"Roma\", \"itSerie A\", 23, 37, 17);\n",
    "    (\"Ludovic Blas\", \"fr FRA\", \"MF,FW\", \"Nantes\", \"frLigue 1\", 23, 35, 10);\n",
    "    (\"Emmanuel Dennis\", \"ng NGA\", \"FW,MF\", \"Watford\", \"engPremier League\", 23,\n",
    "     33, 10)]]\n",
    "```\n",
    "\n",
    "</details>\n",
    "</span>\n",
    "</p>\n",
    "</div>\n",
    "\n"
   ]
  },
  {
   "cell_type": "code",
   "execution_count": 24,
   "metadata": {
    "dotnet_interactive": {
     "language": "fsharp"
    },
    "polyglot_notebook": {
     "kernelName": "fsharp"
    },
    "vscode": {
     "languageId": "polyglot-notebook"
    }
   },
   "outputs": [
    {
     "data": {
      "text/html": [
       "<table><thead><tr><th><i>index</i></th><th>value</th></tr></thead><tbody><tr><td>0</td><td><div class=\"dni-plaintext\"><pre>FSharpList&lt;Tuple&lt;String,String,String,String,String,Int32,Int32,Tuple&lt;Int32&gt;&gt;&gt;\r\n",
       "      - Giorgio Scalvini\r\n",
       "      - it ITA\r\n",
       "      - DF,MF\r\n",
       "      - Atalanta\r\n",
       "      - itSerie A\r\n",
       "      - 17\r\n",
       "      - 18\r\n",
       "      - ( 1 )\r\n",
       "      - Juan S&#225;nchez\r\n",
       "      - es ESP\r\n",
       "      - \r\n",
       "      - Sevilla\r\n",
       "      - esLa Liga\r\n",
       "      - 17\r\n",
       "      - 1\r\n",
       "      - ( 0 )\r\n",
       "      - Alejandro Primo\r\n",
       "      - es ESP\r\n",
       "      - GK\r\n",
       "      - Levante\r\n",
       "      - esLa Liga\r\n",
       "      - 17\r\n",
       "      - 1\r\n",
       "      - ( 0 )\r\n",
       "      - Florian Wirtz\r\n",
       "      - de GER\r\n",
       "      - MF,FW\r\n",
       "      - Leverkusen\r\n",
       "      - deBundesliga\r\n",
       "      - 18\r\n",
       "      - 24\r\n",
       "      - ( 7 )\r\n",
       "      - Iyenoma Udogie\r\n",
       "      - it ITA\r\n",
       "      - DF\r\n",
       "      - Udinese\r\n",
       "      - itSerie A\r\n",
       "      - 18\r\n",
       "      - 35\r\n",
       "      - ( 5 )\r\n",
       "      - Bukayo Saka\r\n",
       "      - eng ENG\r\n",
       "      - FW,MF\r\n",
       "      - Arsenal\r\n",
       "      - engPremier League\r\n",
       "      - 19\r\n",
       "      - 38\r\n",
       "      - ( 11 )\r\n",
       "      - Aaron Hickey\r\n",
       "      - sct SCO\r\n",
       "      - DF\r\n",
       "      - Bologna\r\n",
       "      - itSerie A\r\n",
       "      - 19\r\n",
       "      - 36\r\n",
       "      - ( 5 )\r\n",
       "      - Quentin Merlin\r\n",
       "      - fr FRA\r\n",
       "      - DF,MF\r\n",
       "      - Nantes\r\n",
       "      - frLigue 1\r\n",
       "      - 19\r\n",
       "      - 28\r\n",
       "      - ( 2 )\r\n",
       "      - Banzouzi Locko\r\n",
       "      - fr FRA\r\n",
       "      - MF,DF\r\n",
       "      - Reims\r\n",
       "      - frLigue 1\r\n",
       "      - 19\r\n",
       "      - 24\r\n",
       "      - ( 1 )\r\n",
       "      - Ansgar Knauff\r\n",
       "      - de GER\r\n",
       "      - DF,MF\r\n",
       "      - Eint Frankfurt\r\n",
       "      - deBundesliga\r\n",
       "      - 19\r\n",
       "      - 12\r\n",
       "      - ( 1 )\r\n",
       "      - Jacob Ramsey\r\n",
       "      - eng ENG\r\n",
       "      - MF\r\n",
       "      - Aston Villa\r\n",
       "      - engPremier League\r\n",
       "      - 20\r\n",
       "      - 34\r\n",
       "      - ( 6 )\r\n",
       "      - Rayan A&#239;t Nouri\r\n",
       "      - fr FRA\r\n",
       "      - DF,MF\r\n",
       "      - Wolves\r\n",
       "      - engPremier League\r\n",
       "      - 20\r\n",
       "      - 23\r\n",
       "      - ( 1 )\r\n",
       "      - Julen Agirrezabala\r\n",
       "      - es ESP\r\n",
       "      - GK\r\n",
       "      - Athletic Club\r\n",
       "      - esLa Liga\r\n",
       "      - 20\r\n",
       "      - 4\r\n",
       "      - ( 0 )\r\n",
       "      - Jes&#250;s Owono\r\n",
       "      - gq EQG\r\n",
       "      - GK\r\n",
       "      - Alav&#233;s\r\n",
       "      - esLa Liga\r\n",
       "      - 20\r\n",
       "      - 1\r\n",
       "      - ( 0 )\r\n",
       "      - Erling Haaland\r\n",
       "      - no NOR\r\n",
       "      - FW\r\n",
       "      - Dortmund\r\n",
       "      - deBundesliga\r\n",
       "      - 21\r\n",
       "      - 24\r\n",
       "      - ( 22 )\r\n",
       "      - Vinicius J&#250;nior\r\n",
       "      - br BRA\r\n",
       "      - FW\r\n",
       "      - Real Madrid\r\n",
       "      - esLa Liga\r\n",
       "      - 21\r\n",
       "      - 35\r\n",
       "      - ( 17 )\r\n",
       "      - Dušan Vlahović\r\n",
       "      - rs SRB\r\n",
       "      - FW\r\n",
       "      - Fiorentina\r\n",
       "      - itSerie A\r\n",
       "      - 21\r\n",
       "      - 21\r\n",
       "      - ( 17 )\r\n",
       "      - Jonathan Burkardt\r\n",
       "      - de GER\r\n",
       "      - FW,MF\r\n",
       "      - Mainz 05\r\n",
       "      - deBundesliga\r\n",
       "      - 21\r\n",
       "      - 34\r\n",
       "      - ( 11 )\r\n",
       "      - Giacomo Raspadori\r\n",
       "      - it ITA\r\n",
       "      - MF,FW\r\n",
       "      - Sassuolo\r\n",
       "      - itSerie A\r\n",
       "      - 21\r\n",
       "      - 36\r\n",
       "      - ( 10 )\r\n",
       "      - Emile Smith Rowe\r\n",
       "      - eng ENG\r\n",
       "      - MF,FW\r\n",
       "      - Arsenal\r\n",
       "      - engPremier League\r\n",
       "      - 21\r\n",
       "      - 33\r\n",
       "      - ( 10 ) ... (more)</pre></div></td></tr><tr><td>1</td><td><div class=\"dni-plaintext\"><pre>FSharpList&lt;Tuple&lt;String,String,String,String,String,Int32,Int32,Tuple&lt;Int32&gt;&gt;&gt;\r\n",
       "      - Lautaro Mart&#237;nez\r\n",
       "      - ar ARG\r\n",
       "      - FW\r\n",
       "      - Inter\r\n",
       "      - itSerie A\r\n",
       "      - 23\r\n",
       "      - 35\r\n",
       "      - ( 21 )\r\n",
       "      - Christopher Nkunku\r\n",
       "      - fr FRA\r\n",
       "      - FW,MF\r\n",
       "      - RB Leipzig\r\n",
       "      - deBundesliga\r\n",
       "      - 23\r\n",
       "      - 34\r\n",
       "      - ( 20 )\r\n",
       "      - Tammy Abraham\r\n",
       "      - eng ENG\r\n",
       "      - FW\r\n",
       "      - Roma\r\n",
       "      - itSerie A\r\n",
       "      - 23\r\n",
       "      - 37\r\n",
       "      - ( 17 )\r\n",
       "      - Ludovic Blas\r\n",
       "      - fr FRA\r\n",
       "      - MF,FW\r\n",
       "      - Nantes\r\n",
       "      - frLigue 1\r\n",
       "      - 23\r\n",
       "      - 35\r\n",
       "      - ( 10 )\r\n",
       "      - Emmanuel Dennis\r\n",
       "      - ng NGA\r\n",
       "      - FW,MF\r\n",
       "      - Watford\r\n",
       "      - engPremier League\r\n",
       "      - 23\r\n",
       "      - 33\r\n",
       "      - ( 10 )\r\n",
       "      - Lucas Paquet&#225;\r\n",
       "      - br BRA\r\n",
       "      - MF,FW\r\n",
       "      - Lyon\r\n",
       "      - frLigue 1\r\n",
       "      - 23\r\n",
       "      - 35\r\n",
       "      - ( 9 )\r\n",
       "      - Romain Faivre\r\n",
       "      - fr FRA\r\n",
       "      - MF\r\n",
       "      - Brest\r\n",
       "      - frLigue 1\r\n",
       "      - 23\r\n",
       "      - 21\r\n",
       "      - ( 7 )\r\n",
       "      - Nahuel Molina\r\n",
       "      - ar ARG\r\n",
       "      - DF\r\n",
       "      - Udinese\r\n",
       "      - itSerie A\r\n",
       "      - 23\r\n",
       "      - 35\r\n",
       "      - ( 7 )\r\n",
       "      - Josip Brekalo\r\n",
       "      - hr CRO\r\n",
       "      - MF\r\n",
       "      - Torino\r\n",
       "      - itSerie A\r\n",
       "      - 23\r\n",
       "      - 32\r\n",
       "      - ( 7 )\r\n",
       "      - Szymon Żurkowski\r\n",
       "      - pl POL\r\n",
       "      - MF\r\n",
       "      - Empoli\r\n",
       "      - itSerie A\r\n",
       "      - 23\r\n",
       "      - 35\r\n",
       "      - ( 6 )\r\n",
       "      - Theo Hern&#225;ndez\r\n",
       "      - fr FRA\r\n",
       "      - DF\r\n",
       "      - Milan\r\n",
       "      - itSerie A\r\n",
       "      - 23\r\n",
       "      - 32\r\n",
       "      - ( 5 )\r\n",
       "      - Gabriel Dos Santos\r\n",
       "      - br BRA\r\n",
       "      - DF\r\n",
       "      - Arsenal\r\n",
       "      - engPremier League\r\n",
       "      - 23\r\n",
       "      - 35\r\n",
       "      - ( 5 )\r\n",
       "      - Mahdi Camara\r\n",
       "      - fr FRA\r\n",
       "      - MF,DF\r\n",
       "      - Saint-&#201;tienne\r\n",
       "      - frLigue 1\r\n",
       "      - 23\r\n",
       "      - 35\r\n",
       "      - ( 3 )\r\n",
       "      - Ibrahima Sissoko\r\n",
       "      - fr FRA\r\n",
       "      - MF,DF\r\n",
       "      - Strasbourg\r\n",
       "      - frLigue 1\r\n",
       "      - 23\r\n",
       "      - 35\r\n",
       "      - ( 2 )\r\n",
       "      - Martin Terrier\r\n",
       "      - fr FRA\r\n",
       "      - FW,MF\r\n",
       "      - Rennes\r\n",
       "      - frLigue 1\r\n",
       "      - 24\r\n",
       "      - 37\r\n",
       "      - ( 21 )\r\n",
       "      - Enes &#220;nal\r\n",
       "      - tr TUR\r\n",
       "      - FW\r\n",
       "      - Getafe\r\n",
       "      - esLa Liga\r\n",
       "      - 24\r\n",
       "      - 37\r\n",
       "      - ( 16 )\r\n",
       "      - James Maddison\r\n",
       "      - eng ENG\r\n",
       "      - MF,FW\r\n",
       "      - Leicester City\r\n",
       "      - engPremier League\r\n",
       "      - 24\r\n",
       "      - 35\r\n",
       "      - ( 12 )\r\n",
       "      - Raphinha\r\n",
       "      - br BRA\r\n",
       "      - FW,MF\r\n",
       "      - Leeds United\r\n",
       "      - engPremier League\r\n",
       "      - 24\r\n",
       "      - 35\r\n",
       "      - ( 11 )\r\n",
       "      - Gon&#231;alo Guedes\r\n",
       "      - pt POR\r\n",
       "      - FW,MF\r\n",
       "      - Valencia\r\n",
       "      - esLa Liga\r\n",
       "      - 24\r\n",
       "      - 36\r\n",
       "      - ( 11 )\r\n",
       "      - Franck Honorat\r\n",
       "      - fr FRA\r\n",
       "      - FW,MF\r\n",
       "      - Brest\r\n",
       "      - frLigue 1\r\n",
       "      - 24\r\n",
       "      - 34\r\n",
       "      - ( 11 ) ... (more)</pre></div></td></tr></tbody></table><style>\r\n",
       ".dni-code-hint {\r\n",
       "    font-style: italic;\r\n",
       "    overflow: hidden;\r\n",
       "    white-space: nowrap;\r\n",
       "}\r\n",
       ".dni-treeview {\r\n",
       "    white-space: nowrap;\r\n",
       "}\r\n",
       ".dni-treeview td {\r\n",
       "    vertical-align: top;\r\n",
       "    text-align: start;\r\n",
       "}\r\n",
       "details.dni-treeview {\r\n",
       "    padding-left: 1em;\r\n",
       "}\r\n",
       "table td {\r\n",
       "    text-align: start;\r\n",
       "}\r\n",
       "table tr { \r\n",
       "    vertical-align: top; \r\n",
       "    margin: 0em 0px;\r\n",
       "}\r\n",
       "table tr td pre \r\n",
       "{ \r\n",
       "    vertical-align: top !important; \r\n",
       "    margin: 0em 0px !important;\r\n",
       "} \r\n",
       "table th {\r\n",
       "    text-align: start;\r\n",
       "}\r\n",
       "</style>"
      ]
     },
     "metadata": {},
     "output_type": "display_data"
    }
   ],
   "source": [
    "// write your code here, see website for solution.\n",
    "playerStatsTable\n",
    "|> List.sortBy(fun x -> x.Age)\n",
    "|> List.splitInto 5\n",
    "|> List.truncate 2"
   ]
  },
  {
   "cell_type": "markdown",
   "metadata": {
    "dotnet_interactive": {
     "language": "fsharp"
    },
    "polyglot_notebook": {
     "kernelName": "fsharp"
    }
   },
   "source": [
    "### 9 List.groupBy\n",
    "\n",
    "`List.groupBy` allows you to group elements of a list.\n",
    "It takes a key-generating function and a list as inputs.\n",
    "The function is executed on each element of the List, returning a list of tuples\n",
    "where the first element of each tuple is the key and the second is a list of the elements for which the function produced that key.\n",
    "\n",
    "Example: Group the `playerStatsTable` by `Nation` using `List.groupBy`.\n",
    "\n"
   ]
  },
  {
   "cell_type": "code",
   "execution_count": 25,
   "metadata": {
    "dotnet_interactive": {
     "language": "fsharp"
    },
    "polyglot_notebook": {
     "kernelName": "fsharp"
    },
    "vscode": {
     "languageId": "polyglot-notebook"
    }
   },
   "outputs": [
    {
     "data": {
      "text/html": [
       "<table><thead><tr><th><i>index</i></th><th>Item1</th><th>Item2</th></tr></thead><tbody><tr><td>0</td><td>pl POL</td><td><div class=\"dni-plaintext\"><pre>FSharpList&lt;Tuple&lt;String,String,String,String,String,Int32,Int32,Tuple&lt;Int32&gt;&gt;&gt;\r\n",
       "      - Robert Lewandowski\r\n",
       "      - pl POL\r\n",
       "      - FW\r\n",
       "      - Bayern Munich\r\n",
       "      - deBundesliga\r\n",
       "      - 32\r\n",
       "      - 34\r\n",
       "      - ( 35 )\r\n",
       "      - Szymon Żurkowski\r\n",
       "      - pl POL\r\n",
       "      - MF\r\n",
       "      - Empoli\r\n",
       "      - itSerie A\r\n",
       "      - 23\r\n",
       "      - 35\r\n",
       "      - ( 6 )\r\n",
       "      - Przemysław Frankowski\r\n",
       "      - pl POL\r\n",
       "      - DF\r\n",
       "      - Lens\r\n",
       "      - frLigue 1\r\n",
       "      - 26\r\n",
       "      - 37\r\n",
       "      - ( 6 )</pre></div></td></tr><tr><td>1</td><td>fr FRA</td><td><div class=\"dni-plaintext\"><pre>FSharpList&lt;Tuple&lt;String,String,String,String,String,Int32,Int32,Tuple&lt;Int32&gt;&gt;&gt;\r\n",
       "      - Kylian Mbapp&#233;\r\n",
       "      - fr FRA\r\n",
       "      - FW\r\n",
       "      - Paris S-G\r\n",
       "      - frLigue 1\r\n",
       "      - 22\r\n",
       "      - 35\r\n",
       "      - ( 28 )\r\n",
       "      - Karim Benzema\r\n",
       "      - fr FRA\r\n",
       "      - FW\r\n",
       "      - Real Madrid\r\n",
       "      - esLa Liga\r\n",
       "      - 33\r\n",
       "      - 32\r\n",
       "      - ( 27 )\r\n",
       "      - Wissam Ben Yedder\r\n",
       "      - fr FRA\r\n",
       "      - FW\r\n",
       "      - Monaco\r\n",
       "      - frLigue 1\r\n",
       "      - 30\r\n",
       "      - 37\r\n",
       "      - ( 25 )\r\n",
       "      - Moussa Demb&#233;l&#233;\r\n",
       "      - fr FRA\r\n",
       "      - FW\r\n",
       "      - Lyon\r\n",
       "      - frLigue 1\r\n",
       "      - 25\r\n",
       "      - 30\r\n",
       "      - ( 21 )\r\n",
       "      - Martin Terrier\r\n",
       "      - fr FRA\r\n",
       "      - FW,MF\r\n",
       "      - Rennes\r\n",
       "      - frLigue 1\r\n",
       "      - 24\r\n",
       "      - 37\r\n",
       "      - ( 21 )</pre></div></td></tr></tbody></table><style>\r\n",
       ".dni-code-hint {\r\n",
       "    font-style: italic;\r\n",
       "    overflow: hidden;\r\n",
       "    white-space: nowrap;\r\n",
       "}\r\n",
       ".dni-treeview {\r\n",
       "    white-space: nowrap;\r\n",
       "}\r\n",
       ".dni-treeview td {\r\n",
       "    vertical-align: top;\r\n",
       "    text-align: start;\r\n",
       "}\r\n",
       "details.dni-treeview {\r\n",
       "    padding-left: 1em;\r\n",
       "}\r\n",
       "table td {\r\n",
       "    text-align: start;\r\n",
       "}\r\n",
       "table tr { \r\n",
       "    vertical-align: top; \r\n",
       "    margin: 0em 0px;\r\n",
       "}\r\n",
       "table tr td pre \r\n",
       "{ \r\n",
       "    vertical-align: top !important; \r\n",
       "    margin: 0em 0px !important;\r\n",
       "} \r\n",
       "table th {\r\n",
       "    text-align: start;\r\n",
       "}\r\n",
       "</style>"
      ]
     },
     "metadata": {},
     "output_type": "display_data"
    }
   ],
   "source": [
    "playerStatsTable\n",
    "|> List.groupBy(fun x -> x.Nation)\n",
    "|> List.truncate 2 //just to observe the first 2 groups Lists, not a part of the exercise.\n",
    "|> List.map(fun (x, xs) -> x, xs |> List.truncate 5) //just to observe the first 5 rows of each group List, not a part of the exercise.\n"
   ]
  },
  {
   "cell_type": "markdown",
   "metadata": {
    "dotnet_interactive": {
     "language": "fsharp"
    },
    "polyglot_notebook": {
     "kernelName": "fsharp"
    }
   },
   "source": [
    "* Group the `playerStatsTable` by `Age` using `List.groupBy`.\n",
    "\n",
    "<div style=\"padding-left: 40px;\">\n",
    "<p> \n",
    "<span>\n",
    "<details>\n",
    "<summary><p style=\"display:inline\">answer</p></summary>\n",
    "\n",
    "```\n",
    "val it: (int * CsvProvider<...>.Row list) list =\n",
    "  [(32,\n",
    "    [(\"Robert Lewandowski\", \"pl POL\", \"FW\", \"Bayern Munich\", \"deBundesliga\",\n",
    "      32, 34, 35);\n",
    "     (\"Marco Reus\", \"de GER\", \"MF,FW\", \"Dortmund\", \"deBundesliga\", 32, 29, 9);\n",
    "     (\"Ivan Perišić\", \"hr CRO\", \"DF\", \"Inter\", \"itSerie A\", 32, 35, 8);\n",
    "     (\"Axel Witsel\", \"be BEL\", \"MF,DF\", \"Dortmund\", \"deBundesliga\", 32, 29, 2);\n",
    "     (\"Ivan Radovanović\", \"rs SRB\", \"DF,MF\", \"Salernitana\", \"itSerie A\", 32,\n",
    "      14, 1)]);\n",
    "   (22,\n",
    "    [(\"Kylian Mbappé\", \"fr FRA\", \"FW\", \"Paris S-G\", \"frLigue 1\", 22, 35, 28);\n",
    "     (\"Gianluca Scamacca\", \"it ITA\", \"FW\", \"Sassuolo\", \"itSerie A\", 22, 36, 16);\n",
    "     (\"Moussa Diaby\", \"fr FRA\", \"FW,MF\", \"Leverkusen\", \"deBundesliga\", 22, 32,\n",
    "      13);\n",
    "     (\"Randal Kolo Muani\", \"fr FRA\", \"FW,MF\", \"Nantes\", \"frLigue 1\", 22, 36,\n",
    "      12);\n",
    "     (\"Mason Mount\", \"eng ENG\", \"MF\", \"Chelsea\", \"engPremier League\", 22, 32,\n",
    "      11)])]\n",
    "```\n",
    "\n",
    "</details>\n",
    "</span>\n",
    "</p>\n",
    "</div>\n",
    "\n"
   ]
  },
  {
   "cell_type": "code",
   "execution_count": 29,
   "metadata": {
    "dotnet_interactive": {
     "language": "fsharp"
    },
    "polyglot_notebook": {
     "kernelName": "fsharp"
    },
    "vscode": {
     "languageId": "polyglot-notebook"
    }
   },
   "outputs": [
    {
     "data": {
      "text/html": [
       "<table><thead><tr><th><i>index</i></th><th>Item1</th><th>Item2</th></tr></thead><tbody><tr><td>0</td><td><div class=\"dni-plaintext\"><pre>32</pre></div></td><td><div class=\"dni-plaintext\"><pre>FSharpList&lt;Tuple&lt;String,String,String,String,String,Int32,Int32,Tuple&lt;Int32&gt;&gt;&gt;\r\n",
       "      - Robert Lewandowski\r\n",
       "      - pl POL\r\n",
       "      - FW\r\n",
       "      - Bayern Munich\r\n",
       "      - deBundesliga\r\n",
       "      - 32\r\n",
       "      - 34\r\n",
       "      - ( 35 )\r\n",
       "      - Marco Reus\r\n",
       "      - de GER\r\n",
       "      - MF,FW\r\n",
       "      - Dortmund\r\n",
       "      - deBundesliga\r\n",
       "      - 32\r\n",
       "      - 29\r\n",
       "      - ( 9 )\r\n",
       "      - Ivan Perišić\r\n",
       "      - hr CRO\r\n",
       "      - DF\r\n",
       "      - Inter\r\n",
       "      - itSerie A\r\n",
       "      - 32\r\n",
       "      - 35\r\n",
       "      - ( 8 )\r\n",
       "      - Axel Witsel\r\n",
       "      - be BEL\r\n",
       "      - MF,DF\r\n",
       "      - Dortmund\r\n",
       "      - deBundesliga\r\n",
       "      - 32\r\n",
       "      - 29\r\n",
       "      - ( 2 )\r\n",
       "      - Ivan Radovanović\r\n",
       "      - rs SRB\r\n",
       "      - DF,MF\r\n",
       "      - Salernitana\r\n",
       "      - itSerie A\r\n",
       "      - 32\r\n",
       "      - 14\r\n",
       "      - ( 1 )\r\n",
       "      - David Ospina\r\n",
       "      - co COL\r\n",
       "      - GK\r\n",
       "      - Napoli\r\n",
       "      - itSerie A\r\n",
       "      - 32\r\n",
       "      - 31\r\n",
       "      - ( 0 )</pre></div></td></tr><tr><td>1</td><td><div class=\"dni-plaintext\"><pre>22</pre></div></td><td><div class=\"dni-plaintext\"><pre>FSharpList&lt;Tuple&lt;String,String,String,String,String,Int32,Int32,Tuple&lt;Int32&gt;&gt;&gt;\r\n",
       "      - Kylian Mbapp&#233;\r\n",
       "      - fr FRA\r\n",
       "      - FW\r\n",
       "      - Paris S-G\r\n",
       "      - frLigue 1\r\n",
       "      - 22\r\n",
       "      - 35\r\n",
       "      - ( 28 )\r\n",
       "      - Gianluca Scamacca\r\n",
       "      - it ITA\r\n",
       "      - FW\r\n",
       "      - Sassuolo\r\n",
       "      - itSerie A\r\n",
       "      - 22\r\n",
       "      - 36\r\n",
       "      - ( 16 )\r\n",
       "      - Moussa Diaby\r\n",
       "      - fr FRA\r\n",
       "      - FW,MF\r\n",
       "      - Leverkusen\r\n",
       "      - deBundesliga\r\n",
       "      - 22\r\n",
       "      - 32\r\n",
       "      - ( 13 )\r\n",
       "      - Randal Kolo Muani\r\n",
       "      - fr FRA\r\n",
       "      - FW,MF\r\n",
       "      - Nantes\r\n",
       "      - frLigue 1\r\n",
       "      - 22\r\n",
       "      - 36\r\n",
       "      - ( 12 )\r\n",
       "      - Mason Mount\r\n",
       "      - eng ENG\r\n",
       "      - MF\r\n",
       "      - Chelsea\r\n",
       "      - engPremier League\r\n",
       "      - 22\r\n",
       "      - 32\r\n",
       "      - ( 11 )\r\n",
       "      - Martin &#216;degaard\r\n",
       "      - no NOR\r\n",
       "      - MF,FW\r\n",
       "      - Arsenal\r\n",
       "      - engPremier League\r\n",
       "      - 22\r\n",
       "      - 36\r\n",
       "      - ( 7 )\r\n",
       "      - Tuta\r\n",
       "      - br BRA\r\n",
       "      - DF\r\n",
       "      - Eint Frankfurt\r\n",
       "      - deBundesliga\r\n",
       "      - 22\r\n",
       "      - 26\r\n",
       "      - ( 4 )\r\n",
       "      - Ronald Ara&#250;jo\r\n",
       "      - uy URU\r\n",
       "      - DF\r\n",
       "      - Barcelona\r\n",
       "      - esLa Liga\r\n",
       "      - 22\r\n",
       "      - 30\r\n",
       "      - ( 4 )\r\n",
       "      - Nadir Zortea\r\n",
       "      - it ITA\r\n",
       "      - DF,MF\r\n",
       "      - Salernitana\r\n",
       "      - itSerie A\r\n",
       "      - 22\r\n",
       "      - 29\r\n",
       "      - ( 1 )\r\n",
       "      - Gabriel Gudmundsson\r\n",
       "      - se SWE\r\n",
       "      - DF,MF\r\n",
       "      - Lille\r\n",
       "      - frLigue 1\r\n",
       "      - 22\r\n",
       "      - 30\r\n",
       "      - ( 1 )\r\n",
       "      - Ga&#235;tan Poussin\r\n",
       "      - fr FRA\r\n",
       "      - GK\r\n",
       "      - Bordeaux\r\n",
       "      - frLigue 1\r\n",
       "      - 22\r\n",
       "      - 13\r\n",
       "      - ( 0 )</pre></div></td></tr><tr><td>2</td><td><div class=\"dni-plaintext\"><pre>33</pre></div></td><td><div class=\"dni-plaintext\"><pre>FSharpList&lt;Tuple&lt;String,String,String,String,String,Int32,Int32,Tuple&lt;Int32&gt;&gt;&gt;\r\n",
       "      - Karim Benzema\r\n",
       "      - fr FRA\r\n",
       "      - FW\r\n",
       "      - Real Madrid\r\n",
       "      - esLa Liga\r\n",
       "      - 33\r\n",
       "      - 32\r\n",
       "      - ( 27 )\r\n",
       "      - Anthony Modeste\r\n",
       "      - fr FRA\r\n",
       "      - FW\r\n",
       "      - K&#246;ln\r\n",
       "      - deBundesliga\r\n",
       "      - 33\r\n",
       "      - 32\r\n",
       "      - ( 20 )\r\n",
       "      - Iago Aspas\r\n",
       "      - es ESP\r\n",
       "      - FW\r\n",
       "      - Celta Vigo\r\n",
       "      - esLa Liga\r\n",
       "      - 33\r\n",
       "      - 37\r\n",
       "      - ( 18 )\r\n",
       "      - Max Kruse\r\n",
       "      - de GER\r\n",
       "      - MF,FW\r\n",
       "      - Wolfsburg\r\n",
       "      - deBundesliga\r\n",
       "      - 33\r\n",
       "      - 14\r\n",
       "      - ( 7 )\r\n",
       "      - Juan Cuadrado\r\n",
       "      - co COL\r\n",
       "      - DF,MF\r\n",
       "      - Juventus\r\n",
       "      - itSerie A\r\n",
       "      - 33\r\n",
       "      - 33\r\n",
       "      - ( 4 )\r\n",
       "      - Daniel Caligiuri\r\n",
       "      - it ITA\r\n",
       "      - DF,MF\r\n",
       "      - Augsburg\r\n",
       "      - deBundesliga\r\n",
       "      - 33\r\n",
       "      - 28\r\n",
       "      - ( 4 )\r\n",
       "      - Dimitri Li&#233;nard\r\n",
       "      - fr FRA\r\n",
       "      - DF,MF\r\n",
       "      - Strasbourg\r\n",
       "      - frLigue 1\r\n",
       "      - 33\r\n",
       "      - 33\r\n",
       "      - ( 2 )\r\n",
       "      - Rui Patr&#237;cio\r\n",
       "      - pt POR\r\n",
       "      - GK\r\n",
       "      - Roma\r\n",
       "      - itSerie A\r\n",
       "      - 33\r\n",
       "      - 38\r\n",
       "      - ( 0 )\r\n",
       "      - Pavao Pervan\r\n",
       "      - at AUT\r\n",
       "      - GK\r\n",
       "      - Wolfsburg\r\n",
       "      - deBundesliga\r\n",
       "      - 33\r\n",
       "      - 6\r\n",
       "      - ( 0 )\r\n",
       "      - Alexandre Oukidja\r\n",
       "      - dz ALG\r\n",
       "      - GK\r\n",
       "      - Metz\r\n",
       "      - frLigue 1\r\n",
       "      - 33\r\n",
       "      - 21\r\n",
       "      - ( 0 )</pre></div></td></tr></tbody></table><style>\r\n",
       ".dni-code-hint {\r\n",
       "    font-style: italic;\r\n",
       "    overflow: hidden;\r\n",
       "    white-space: nowrap;\r\n",
       "}\r\n",
       ".dni-treeview {\r\n",
       "    white-space: nowrap;\r\n",
       "}\r\n",
       ".dni-treeview td {\r\n",
       "    vertical-align: top;\r\n",
       "    text-align: start;\r\n",
       "}\r\n",
       "details.dni-treeview {\r\n",
       "    padding-left: 1em;\r\n",
       "}\r\n",
       "table td {\r\n",
       "    text-align: start;\r\n",
       "}\r\n",
       "table tr { \r\n",
       "    vertical-align: top; \r\n",
       "    margin: 0em 0px;\r\n",
       "}\r\n",
       "table tr td pre \r\n",
       "{ \r\n",
       "    vertical-align: top !important; \r\n",
       "    margin: 0em 0px !important;\r\n",
       "} \r\n",
       "table th {\r\n",
       "    text-align: start;\r\n",
       "}\r\n",
       "</style>"
      ]
     },
     "metadata": {},
     "output_type": "display_data"
    }
   ],
   "source": [
    "// write your code here, see website for solution.\n",
    "playerStatsTable\n",
    "|> List.groupBy (fun z -> z.Age)\n",
    "|> List.truncate 3\n"
   ]
  },
  {
   "cell_type": "markdown",
   "metadata": {
    "dotnet_interactive": {
     "language": "fsharp"
    },
    "polyglot_notebook": {
     "kernelName": "fsharp"
    }
   },
   "source": [
    "## Statistics List Functions\n",
    "\n",
    "### 1 List.max\n",
    "\n",
    "`[1; 4; 5; 3; 6] |> List.max` returns `6` (the highest value in the List).\n",
    "\n",
    "Example: Map `playerStatsTable` to get the `Age` List, and find the maximum (`List.max`).\n",
    "\n"
   ]
  },
  {
   "cell_type": "code",
   "execution_count": 30,
   "metadata": {
    "dotnet_interactive": {
     "language": "fsharp"
    },
    "polyglot_notebook": {
     "kernelName": "fsharp"
    },
    "vscode": {
     "languageId": "polyglot-notebook"
    }
   },
   "outputs": [
    {
     "data": {
      "text/html": [
       "<div class=\"dni-plaintext\"><pre>40</pre></div><style>\r\n",
       ".dni-code-hint {\r\n",
       "    font-style: italic;\r\n",
       "    overflow: hidden;\r\n",
       "    white-space: nowrap;\r\n",
       "}\r\n",
       ".dni-treeview {\r\n",
       "    white-space: nowrap;\r\n",
       "}\r\n",
       ".dni-treeview td {\r\n",
       "    vertical-align: top;\r\n",
       "    text-align: start;\r\n",
       "}\r\n",
       "details.dni-treeview {\r\n",
       "    padding-left: 1em;\r\n",
       "}\r\n",
       "table td {\r\n",
       "    text-align: start;\r\n",
       "}\r\n",
       "table tr { \r\n",
       "    vertical-align: top; \r\n",
       "    margin: 0em 0px;\r\n",
       "}\r\n",
       "table tr td pre \r\n",
       "{ \r\n",
       "    vertical-align: top !important; \r\n",
       "    margin: 0em 0px !important;\r\n",
       "} \r\n",
       "table th {\r\n",
       "    text-align: start;\r\n",
       "}\r\n",
       "</style>"
      ]
     },
     "metadata": {},
     "output_type": "display_data"
    }
   ],
   "source": [
    "playerStatsTable\n",
    "|> List.map(fun x -> x.Age)\n",
    "|> List.max\n"
   ]
  },
  {
   "cell_type": "markdown",
   "metadata": {
    "dotnet_interactive": {
     "language": "fsharp"
    },
    "polyglot_notebook": {
     "kernelName": "fsharp"
    }
   },
   "source": [
    "* Map `playerStatsTable` to get the `GoalsScored` List, and find the maximum (`List.max`).\n",
    "\n",
    "<div style=\"padding-left: 40px;\">\n",
    "<p> \n",
    "<span>\n",
    "<details>\n",
    "<summary><p style=\"display:inline\">answer</p></summary>\n",
    "\n",
    "```\n",
    "val it: int = 35\n",
    "```\n",
    "\n",
    "</details>\n",
    "</span>\n",
    "</p>\n",
    "</div>\n",
    "\n"
   ]
  },
  {
   "cell_type": "code",
   "execution_count": 31,
   "metadata": {
    "dotnet_interactive": {
     "language": "fsharp"
    },
    "polyglot_notebook": {
     "kernelName": "fsharp"
    },
    "vscode": {
     "languageId": "polyglot-notebook"
    }
   },
   "outputs": [
    {
     "data": {
      "text/html": [
       "<div class=\"dni-plaintext\"><pre>35</pre></div><style>\r\n",
       ".dni-code-hint {\r\n",
       "    font-style: italic;\r\n",
       "    overflow: hidden;\r\n",
       "    white-space: nowrap;\r\n",
       "}\r\n",
       ".dni-treeview {\r\n",
       "    white-space: nowrap;\r\n",
       "}\r\n",
       ".dni-treeview td {\r\n",
       "    vertical-align: top;\r\n",
       "    text-align: start;\r\n",
       "}\r\n",
       "details.dni-treeview {\r\n",
       "    padding-left: 1em;\r\n",
       "}\r\n",
       "table td {\r\n",
       "    text-align: start;\r\n",
       "}\r\n",
       "table tr { \r\n",
       "    vertical-align: top; \r\n",
       "    margin: 0em 0px;\r\n",
       "}\r\n",
       "table tr td pre \r\n",
       "{ \r\n",
       "    vertical-align: top !important; \r\n",
       "    margin: 0em 0px !important;\r\n",
       "} \r\n",
       "table th {\r\n",
       "    text-align: start;\r\n",
       "}\r\n",
       "</style>"
      ]
     },
     "metadata": {},
     "output_type": "display_data"
    }
   ],
   "source": [
    "// write your code here, see website for solution.\n",
    "playerStatsTable\n",
    "|> List.map(fun z -> z.GoalsScored)\n",
    "|> List.max"
   ]
  },
  {
   "cell_type": "markdown",
   "metadata": {
    "dotnet_interactive": {
     "language": "fsharp"
    },
    "polyglot_notebook": {
     "kernelName": "fsharp"
    }
   },
   "source": [
    "### 2 List.min\n",
    "\n",
    "`[1; 4; 5; 3; 6] |> List.min` returns `1` (the lowest value in the List).\n",
    "\n",
    "Example: Map `playerStatsTable` to get the `Age` List, and find the minimum (`List.min`).\n",
    "\n"
   ]
  },
  {
   "cell_type": "code",
   "execution_count": 32,
   "metadata": {
    "dotnet_interactive": {
     "language": "fsharp"
    },
    "polyglot_notebook": {
     "kernelName": "fsharp"
    },
    "vscode": {
     "languageId": "polyglot-notebook"
    }
   },
   "outputs": [
    {
     "data": {
      "text/html": [
       "<div class=\"dni-plaintext\"><pre>17</pre></div><style>\r\n",
       ".dni-code-hint {\r\n",
       "    font-style: italic;\r\n",
       "    overflow: hidden;\r\n",
       "    white-space: nowrap;\r\n",
       "}\r\n",
       ".dni-treeview {\r\n",
       "    white-space: nowrap;\r\n",
       "}\r\n",
       ".dni-treeview td {\r\n",
       "    vertical-align: top;\r\n",
       "    text-align: start;\r\n",
       "}\r\n",
       "details.dni-treeview {\r\n",
       "    padding-left: 1em;\r\n",
       "}\r\n",
       "table td {\r\n",
       "    text-align: start;\r\n",
       "}\r\n",
       "table tr { \r\n",
       "    vertical-align: top; \r\n",
       "    margin: 0em 0px;\r\n",
       "}\r\n",
       "table tr td pre \r\n",
       "{ \r\n",
       "    vertical-align: top !important; \r\n",
       "    margin: 0em 0px !important;\r\n",
       "} \r\n",
       "table th {\r\n",
       "    text-align: start;\r\n",
       "}\r\n",
       "</style>"
      ]
     },
     "metadata": {},
     "output_type": "display_data"
    }
   ],
   "source": [
    "playerStatsTable\n",
    "|> List.map(fun x -> x.Age)\n",
    "|> List.min\n"
   ]
  },
  {
   "cell_type": "markdown",
   "metadata": {
    "dotnet_interactive": {
     "language": "fsharp"
    },
    "polyglot_notebook": {
     "kernelName": "fsharp"
    }
   },
   "source": [
    "* Map `playerStatsTable` to get the `GoalsScored` List, and find the minimum (`List.min`).\n",
    "\n",
    "<div style=\"padding-left: 40px;\">\n",
    "<p> \n",
    "<span>\n",
    "<details>\n",
    "<summary><p style=\"display:inline\">answer</p></summary>\n",
    "\n",
    "```\n",
    "val it: int = 0\n",
    "```\n",
    "\n",
    "</details>\n",
    "</span>\n",
    "</p>\n",
    "</div>\n",
    "\n"
   ]
  },
  {
   "cell_type": "code",
   "execution_count": 33,
   "metadata": {
    "dotnet_interactive": {
     "language": "fsharp"
    },
    "polyglot_notebook": {
     "kernelName": "fsharp"
    },
    "vscode": {
     "languageId": "polyglot-notebook"
    }
   },
   "outputs": [
    {
     "data": {
      "text/html": [
       "<div class=\"dni-plaintext\"><pre>0</pre></div><style>\r\n",
       ".dni-code-hint {\r\n",
       "    font-style: italic;\r\n",
       "    overflow: hidden;\r\n",
       "    white-space: nowrap;\r\n",
       "}\r\n",
       ".dni-treeview {\r\n",
       "    white-space: nowrap;\r\n",
       "}\r\n",
       ".dni-treeview td {\r\n",
       "    vertical-align: top;\r\n",
       "    text-align: start;\r\n",
       "}\r\n",
       "details.dni-treeview {\r\n",
       "    padding-left: 1em;\r\n",
       "}\r\n",
       "table td {\r\n",
       "    text-align: start;\r\n",
       "}\r\n",
       "table tr { \r\n",
       "    vertical-align: top; \r\n",
       "    margin: 0em 0px;\r\n",
       "}\r\n",
       "table tr td pre \r\n",
       "{ \r\n",
       "    vertical-align: top !important; \r\n",
       "    margin: 0em 0px !important;\r\n",
       "} \r\n",
       "table th {\r\n",
       "    text-align: start;\r\n",
       "}\r\n",
       "</style>"
      ]
     },
     "metadata": {},
     "output_type": "display_data"
    }
   ],
   "source": [
    "// write your code here, see website for solution.\n",
    "playerStatsTable\n",
    "|> List.map(fun z -> z.GoalsScored)\n",
    "|> List.min"
   ]
  },
  {
   "cell_type": "markdown",
   "metadata": {
    "dotnet_interactive": {
     "language": "fsharp"
    },
    "polyglot_notebook": {
     "kernelName": "fsharp"
    }
   },
   "source": [
    "### 3 List.maxBy\n",
    "\n",
    "Sometimes you want the element with the \"maximum y\" where \"y\" is the result of applying a particular function to a list element. This is what `List.maxBy` is for. This function is best understood by seeing an example.\n",
    "\n",
    "Example: Find the player in `playerStatsTable` with the maximum `Age` using `maxBy`. What we need to do then is write a function that takes a player as input and outputs the players age. `List.maxBy` will then find the player that is the maxiumum after transforming it using this function.\n",
    "\n"
   ]
  },
  {
   "cell_type": "code",
   "execution_count": 34,
   "metadata": {
    "dotnet_interactive": {
     "language": "fsharp"
    },
    "polyglot_notebook": {
     "kernelName": "fsharp"
    },
    "vscode": {
     "languageId": "polyglot-notebook"
    }
   },
   "outputs": [
    {
     "data": {
      "text/html": [
       "<table><thead><tr><th>Item1</th><th>Item2</th><th>Item3</th><th>Item4</th><th>Item5</th><th>Item6</th><th>Item7</th><th>Rest</th></tr></thead><tbody><tr><td><div class=\"dni-plaintext\"><pre>Gianluca Pegolo</pre></div></td><td><div class=\"dni-plaintext\"><pre>it ITA</pre></div></td><td><div class=\"dni-plaintext\"><pre>GK</pre></div></td><td><div class=\"dni-plaintext\"><pre>Sassuolo</pre></div></td><td><div class=\"dni-plaintext\"><pre>itSerie A</pre></div></td><td><div class=\"dni-plaintext\"><pre>40</pre></div></td><td><div class=\"dni-plaintext\"><pre>1</pre></div></td><td><div class=\"dni-plaintext\"><pre>( 0 )</pre></div></td></tr></tbody></table><style>\r\n",
       ".dni-code-hint {\r\n",
       "    font-style: italic;\r\n",
       "    overflow: hidden;\r\n",
       "    white-space: nowrap;\r\n",
       "}\r\n",
       ".dni-treeview {\r\n",
       "    white-space: nowrap;\r\n",
       "}\r\n",
       ".dni-treeview td {\r\n",
       "    vertical-align: top;\r\n",
       "    text-align: start;\r\n",
       "}\r\n",
       "details.dni-treeview {\r\n",
       "    padding-left: 1em;\r\n",
       "}\r\n",
       "table td {\r\n",
       "    text-align: start;\r\n",
       "}\r\n",
       "table tr { \r\n",
       "    vertical-align: top; \r\n",
       "    margin: 0em 0px;\r\n",
       "}\r\n",
       "table tr td pre \r\n",
       "{ \r\n",
       "    vertical-align: top !important; \r\n",
       "    margin: 0em 0px !important;\r\n",
       "} \r\n",
       "table th {\r\n",
       "    text-align: start;\r\n",
       "}\r\n",
       "</style>"
      ]
     },
     "metadata": {},
     "output_type": "display_data"
    }
   ],
   "source": [
    "playerStatsTable\n",
    "|> List.maxBy(fun x -> x.Age)\n"
   ]
  },
  {
   "cell_type": "markdown",
   "metadata": {
    "dotnet_interactive": {
     "language": "fsharp"
    },
    "polyglot_notebook": {
     "kernelName": "fsharp"
    }
   },
   "source": [
    "* Find the maximum `playerStatsTable` row by `GoalsScored` using `maxBy`.\n",
    "\n",
    "<div style=\"padding-left: 40px;\">\n",
    "<p> \n",
    "<span>\n",
    "<details>\n",
    "<summary><p style=\"display:inline\">answer</p></summary>\n",
    "\n",
    "```\n",
    "val it: CsvProvider<...>.Row =\n",
    "  (\"Robert Lewandowski\", \"pl POL\", \"FW\", \"Bayern Munich\", \"deBundesliga\", 32,\n",
    "   34, 35)\n",
    "```\n",
    "\n",
    "</details>\n",
    "</span>\n",
    "</p>\n",
    "</div>\n",
    "\n"
   ]
  },
  {
   "cell_type": "code",
   "execution_count": 36,
   "metadata": {
    "dotnet_interactive": {
     "language": "fsharp"
    },
    "polyglot_notebook": {
     "kernelName": "fsharp"
    },
    "vscode": {
     "languageId": "polyglot-notebook"
    }
   },
   "outputs": [
    {
     "data": {
      "text/html": [
       "<table><thead><tr><th>Item1</th><th>Item2</th><th>Item3</th><th>Item4</th><th>Item5</th><th>Item6</th><th>Item7</th><th>Rest</th></tr></thead><tbody><tr><td><div class=\"dni-plaintext\"><pre>Robert Lewandowski</pre></div></td><td><div class=\"dni-plaintext\"><pre>pl POL</pre></div></td><td><div class=\"dni-plaintext\"><pre>FW</pre></div></td><td><div class=\"dni-plaintext\"><pre>Bayern Munich</pre></div></td><td><div class=\"dni-plaintext\"><pre>deBundesliga</pre></div></td><td><div class=\"dni-plaintext\"><pre>32</pre></div></td><td><div class=\"dni-plaintext\"><pre>34</pre></div></td><td><div class=\"dni-plaintext\"><pre>( 35 )</pre></div></td></tr></tbody></table><style>\r\n",
       ".dni-code-hint {\r\n",
       "    font-style: italic;\r\n",
       "    overflow: hidden;\r\n",
       "    white-space: nowrap;\r\n",
       "}\r\n",
       ".dni-treeview {\r\n",
       "    white-space: nowrap;\r\n",
       "}\r\n",
       ".dni-treeview td {\r\n",
       "    vertical-align: top;\r\n",
       "    text-align: start;\r\n",
       "}\r\n",
       "details.dni-treeview {\r\n",
       "    padding-left: 1em;\r\n",
       "}\r\n",
       "table td {\r\n",
       "    text-align: start;\r\n",
       "}\r\n",
       "table tr { \r\n",
       "    vertical-align: top; \r\n",
       "    margin: 0em 0px;\r\n",
       "}\r\n",
       "table tr td pre \r\n",
       "{ \r\n",
       "    vertical-align: top !important; \r\n",
       "    margin: 0em 0px !important;\r\n",
       "} \r\n",
       "table th {\r\n",
       "    text-align: start;\r\n",
       "}\r\n",
       "</style>"
      ]
     },
     "metadata": {},
     "output_type": "display_data"
    }
   ],
   "source": [
    "// write your code here, see website for solution.\n",
    "playerStatsTable\n",
    "|> List.maxBy(fun z -> z.GoalsScored)"
   ]
  },
  {
   "cell_type": "markdown",
   "metadata": {
    "dotnet_interactive": {
     "language": "fsharp"
    },
    "polyglot_notebook": {
     "kernelName": "fsharp"
    }
   },
   "source": [
    "### 4 List.minBy\n",
    "\n",
    "Sometimes you want the element with the \"minimum y\" where \"y\" is the result of applying a particular function to a list element. This is what `List.minBy` is for.\n",
    "\n",
    "Example: Find the player in `playerStatsTable` with the minimum `Age` using `minBy`.\n",
    "\n"
   ]
  },
  {
   "cell_type": "code",
   "execution_count": null,
   "metadata": {
    "dotnet_interactive": {
     "language": "fsharp"
    },
    "polyglot_notebook": {
     "kernelName": "fsharp"
    },
    "vscode": {
     "languageId": "polyglot-notebook"
    }
   },
   "outputs": [],
   "source": [
    "playerStatsTable\n",
    "|> List.minBy(fun x -> x.Age)\n"
   ]
  },
  {
   "cell_type": "markdown",
   "metadata": {
    "dotnet_interactive": {
     "language": "fsharp"
    },
    "polyglot_notebook": {
     "kernelName": "fsharp"
    }
   },
   "source": [
    "* Find the minimum `playerStatsTable` row by `GoalsScored` using `minBy`.\n",
    "\n",
    "<div style=\"padding-left: 40px;\">\n",
    "<p> \n",
    "<span>\n",
    "<details>\n",
    "<summary><p style=\"display:inline\">answer</p></summary>\n",
    "\n",
    "```\n",
    "val it: CsvProvider<...>.Row =\n",
    "  (\"Stefan Ortega\", \"de GER\", \"GK\", \"Arminia\", \"deBundesliga\", 28, 33, 0)\n",
    "```\n",
    "\n",
    "</details>\n",
    "</span>\n",
    "</p>\n",
    "</div>\n",
    "\n"
   ]
  },
  {
   "cell_type": "code",
   "execution_count": 37,
   "metadata": {
    "dotnet_interactive": {
     "language": "fsharp"
    },
    "polyglot_notebook": {
     "kernelName": "fsharp"
    },
    "vscode": {
     "languageId": "polyglot-notebook"
    }
   },
   "outputs": [
    {
     "data": {
      "text/html": [
       "<table><thead><tr><th>Item1</th><th>Item2</th><th>Item3</th><th>Item4</th><th>Item5</th><th>Item6</th><th>Item7</th><th>Rest</th></tr></thead><tbody><tr><td><div class=\"dni-plaintext\"><pre>Stefan Ortega</pre></div></td><td><div class=\"dni-plaintext\"><pre>de GER</pre></div></td><td><div class=\"dni-plaintext\"><pre>GK</pre></div></td><td><div class=\"dni-plaintext\"><pre>Arminia</pre></div></td><td><div class=\"dni-plaintext\"><pre>deBundesliga</pre></div></td><td><div class=\"dni-plaintext\"><pre>28</pre></div></td><td><div class=\"dni-plaintext\"><pre>33</pre></div></td><td><div class=\"dni-plaintext\"><pre>( 0 )</pre></div></td></tr></tbody></table><style>\r\n",
       ".dni-code-hint {\r\n",
       "    font-style: italic;\r\n",
       "    overflow: hidden;\r\n",
       "    white-space: nowrap;\r\n",
       "}\r\n",
       ".dni-treeview {\r\n",
       "    white-space: nowrap;\r\n",
       "}\r\n",
       ".dni-treeview td {\r\n",
       "    vertical-align: top;\r\n",
       "    text-align: start;\r\n",
       "}\r\n",
       "details.dni-treeview {\r\n",
       "    padding-left: 1em;\r\n",
       "}\r\n",
       "table td {\r\n",
       "    text-align: start;\r\n",
       "}\r\n",
       "table tr { \r\n",
       "    vertical-align: top; \r\n",
       "    margin: 0em 0px;\r\n",
       "}\r\n",
       "table tr td pre \r\n",
       "{ \r\n",
       "    vertical-align: top !important; \r\n",
       "    margin: 0em 0px !important;\r\n",
       "} \r\n",
       "table th {\r\n",
       "    text-align: start;\r\n",
       "}\r\n",
       "</style>"
      ]
     },
     "metadata": {},
     "output_type": "display_data"
    }
   ],
   "source": [
    "// write your code here, see website for solution.\n",
    "playerStatsTable\n",
    "|> List.minBy(fun z -> z.GoalsScored)"
   ]
  },
  {
   "cell_type": "markdown",
   "metadata": {
    "dotnet_interactive": {
     "language": "fsharp"
    },
    "polyglot_notebook": {
     "kernelName": "fsharp"
    }
   },
   "source": [
    "### 5 List.sum\n",
    "\n",
    "`[1; 4; 5; 3; 6] |> List.sum` returns `19` (sum of the List elements).\n",
    "\n",
    "Example: Calculate the total number of years lived by all players. Hint: transform (`List.map`) each element of `playerStatsTable` into an integer representing the player's `Age` and then get the sum (`List.sum`) of all the players' ages (the result should be an `int`).\n",
    "\n"
   ]
  },
  {
   "cell_type": "code",
   "execution_count": 38,
   "metadata": {
    "dotnet_interactive": {
     "language": "fsharp"
    },
    "polyglot_notebook": {
     "kernelName": "fsharp"
    },
    "vscode": {
     "languageId": "polyglot-notebook"
    }
   },
   "outputs": [
    {
     "data": {
      "text/html": [
       "<div class=\"dni-plaintext\"><pre>5296</pre></div><style>\r\n",
       ".dni-code-hint {\r\n",
       "    font-style: italic;\r\n",
       "    overflow: hidden;\r\n",
       "    white-space: nowrap;\r\n",
       "}\r\n",
       ".dni-treeview {\r\n",
       "    white-space: nowrap;\r\n",
       "}\r\n",
       ".dni-treeview td {\r\n",
       "    vertical-align: top;\r\n",
       "    text-align: start;\r\n",
       "}\r\n",
       "details.dni-treeview {\r\n",
       "    padding-left: 1em;\r\n",
       "}\r\n",
       "table td {\r\n",
       "    text-align: start;\r\n",
       "}\r\n",
       "table tr { \r\n",
       "    vertical-align: top; \r\n",
       "    margin: 0em 0px;\r\n",
       "}\r\n",
       "table tr td pre \r\n",
       "{ \r\n",
       "    vertical-align: top !important; \r\n",
       "    margin: 0em 0px !important;\r\n",
       "} \r\n",
       "table th {\r\n",
       "    text-align: start;\r\n",
       "}\r\n",
       "</style>"
      ]
     },
     "metadata": {},
     "output_type": "display_data"
    }
   ],
   "source": [
    "playerStatsTable\n",
    "|> List.map(fun x -> x.Age)\n",
    "|> List.sum\n"
   ]
  },
  {
   "cell_type": "markdown",
   "metadata": {
    "dotnet_interactive": {
     "language": "fsharp"
    },
    "polyglot_notebook": {
     "kernelName": "fsharp"
    }
   },
   "source": [
    "* Calculate the total goals scored (`GoalsScored`) by all players in `playerStatsTable`.\n",
    "\n",
    "<div style=\"padding-left: 40px;\">\n",
    "<p> \n",
    "<span>\n",
    "<details>\n",
    "<summary><p style=\"display:inline\">answer</p></summary>\n",
    "\n",
    "```\n",
    "val it: int = 1470\n",
    "```\n",
    "\n",
    "</details>\n",
    "</span>\n",
    "</p>\n",
    "</div>\n",
    "\n"
   ]
  },
  {
   "cell_type": "code",
   "execution_count": 39,
   "metadata": {
    "dotnet_interactive": {
     "language": "fsharp"
    },
    "polyglot_notebook": {
     "kernelName": "fsharp"
    },
    "vscode": {
     "languageId": "polyglot-notebook"
    }
   },
   "outputs": [
    {
     "data": {
      "text/html": [
       "<div class=\"dni-plaintext\"><pre>1470</pre></div><style>\r\n",
       ".dni-code-hint {\r\n",
       "    font-style: italic;\r\n",
       "    overflow: hidden;\r\n",
       "    white-space: nowrap;\r\n",
       "}\r\n",
       ".dni-treeview {\r\n",
       "    white-space: nowrap;\r\n",
       "}\r\n",
       ".dni-treeview td {\r\n",
       "    vertical-align: top;\r\n",
       "    text-align: start;\r\n",
       "}\r\n",
       "details.dni-treeview {\r\n",
       "    padding-left: 1em;\r\n",
       "}\r\n",
       "table td {\r\n",
       "    text-align: start;\r\n",
       "}\r\n",
       "table tr { \r\n",
       "    vertical-align: top; \r\n",
       "    margin: 0em 0px;\r\n",
       "}\r\n",
       "table tr td pre \r\n",
       "{ \r\n",
       "    vertical-align: top !important; \r\n",
       "    margin: 0em 0px !important;\r\n",
       "} \r\n",
       "table th {\r\n",
       "    text-align: start;\r\n",
       "}\r\n",
       "</style>"
      ]
     },
     "metadata": {},
     "output_type": "display_data"
    }
   ],
   "source": [
    "// write your code here, see website for solution.\n",
    "playerStatsTable\n",
    "|> List.map(fun z -> z.GoalsScored)\n",
    "|> List.sum"
   ]
  },
  {
   "cell_type": "markdown",
   "metadata": {
    "dotnet_interactive": {
     "language": "fsharp"
    },
    "polyglot_notebook": {
     "kernelName": "fsharp"
    }
   },
   "source": [
    "### 6 List.sumBy\n",
    "\n",
    "We are using a dataset that has multiple fields per List element. If you want to get the sum for particular fields it convenient to use `List.sumBy`.\n",
    "It takes a function and transforms each element using that function and afterward sums all the transformed elements. It is like an `List.map` and `List.sum` combined into one function.\n",
    "\n",
    "Example: Use `List.sumBy` to calculate the total number of years lived by all players in `playerStatsTable`. Remember that each player has lived `Age` years.\n",
    "\n"
   ]
  },
  {
   "cell_type": "code",
   "execution_count": 41,
   "metadata": {
    "dotnet_interactive": {
     "language": "fsharp"
    },
    "polyglot_notebook": {
     "kernelName": "fsharp"
    },
    "vscode": {
     "languageId": "polyglot-notebook"
    }
   },
   "outputs": [
    {
     "data": {
      "text/html": [
       "<div class=\"dni-plaintext\"><pre>5296</pre></div><style>\r\n",
       ".dni-code-hint {\r\n",
       "    font-style: italic;\r\n",
       "    overflow: hidden;\r\n",
       "    white-space: nowrap;\r\n",
       "}\r\n",
       ".dni-treeview {\r\n",
       "    white-space: nowrap;\r\n",
       "}\r\n",
       ".dni-treeview td {\r\n",
       "    vertical-align: top;\r\n",
       "    text-align: start;\r\n",
       "}\r\n",
       "details.dni-treeview {\r\n",
       "    padding-left: 1em;\r\n",
       "}\r\n",
       "table td {\r\n",
       "    text-align: start;\r\n",
       "}\r\n",
       "table tr { \r\n",
       "    vertical-align: top; \r\n",
       "    margin: 0em 0px;\r\n",
       "}\r\n",
       "table tr td pre \r\n",
       "{ \r\n",
       "    vertical-align: top !important; \r\n",
       "    margin: 0em 0px !important;\r\n",
       "} \r\n",
       "table th {\r\n",
       "    text-align: start;\r\n",
       "}\r\n",
       "</style>"
      ]
     },
     "metadata": {},
     "output_type": "display_data"
    }
   ],
   "source": [
    "playerStatsTable\n",
    "|> List.sumBy(fun x -> x.Age)\n"
   ]
  },
  {
   "cell_type": "markdown",
   "metadata": {
    "dotnet_interactive": {
     "language": "fsharp"
    },
    "polyglot_notebook": {
     "kernelName": "fsharp"
    }
   },
   "source": [
    "* Find the sum of the `GoalsScored` by all players in `playerStatsTable` using `List.sumBy`.\n",
    "\n",
    "<div style=\"padding-left: 40px;\">\n",
    "<p> \n",
    "<span>\n",
    "<details>\n",
    "<summary><p style=\"display:inline\">answer</p></summary>\n",
    "\n",
    "```\n",
    "val it: int = 1470\n",
    "```\n",
    "\n",
    "</details>\n",
    "</span>\n",
    "</p>\n",
    "</div>\n",
    "\n"
   ]
  },
  {
   "cell_type": "code",
   "execution_count": 40,
   "metadata": {
    "dotnet_interactive": {
     "language": "fsharp"
    },
    "polyglot_notebook": {
     "kernelName": "fsharp"
    },
    "vscode": {
     "languageId": "polyglot-notebook"
    }
   },
   "outputs": [
    {
     "data": {
      "text/html": [
       "<div class=\"dni-plaintext\"><pre>1470</pre></div><style>\r\n",
       ".dni-code-hint {\r\n",
       "    font-style: italic;\r\n",
       "    overflow: hidden;\r\n",
       "    white-space: nowrap;\r\n",
       "}\r\n",
       ".dni-treeview {\r\n",
       "    white-space: nowrap;\r\n",
       "}\r\n",
       ".dni-treeview td {\r\n",
       "    vertical-align: top;\r\n",
       "    text-align: start;\r\n",
       "}\r\n",
       "details.dni-treeview {\r\n",
       "    padding-left: 1em;\r\n",
       "}\r\n",
       "table td {\r\n",
       "    text-align: start;\r\n",
       "}\r\n",
       "table tr { \r\n",
       "    vertical-align: top; \r\n",
       "    margin: 0em 0px;\r\n",
       "}\r\n",
       "table tr td pre \r\n",
       "{ \r\n",
       "    vertical-align: top !important; \r\n",
       "    margin: 0em 0px !important;\r\n",
       "} \r\n",
       "table th {\r\n",
       "    text-align: start;\r\n",
       "}\r\n",
       "</style>"
      ]
     },
     "metadata": {},
     "output_type": "display_data"
    }
   ],
   "source": [
    "// write your code here, see website for solution.\n",
    "playerStatsTable\n",
    "|> List.sumBy(fun x -> x.GoalsScored)"
   ]
  },
  {
   "cell_type": "markdown",
   "metadata": {
    "dotnet_interactive": {
     "language": "fsharp"
    },
    "polyglot_notebook": {
     "kernelName": "fsharp"
    }
   },
   "source": [
    "### 7 List.average\n",
    "\n",
    "`[1.0; 2.0; 5.0; 2.0] |> List.average` returns `2.5` (the average of all the List elements).\n",
    "\n",
    "Example: Transform `playerStatsTable` into a list of the players' ages (`Age`) and find the average `Age` (`List.average`).\n",
    "The field `x.Age` needs to be transformed from `int` to `float` because `List.average` only works with `floats` or `decimals`.\n",
    "\n"
   ]
  },
  {
   "cell_type": "code",
   "execution_count": 42,
   "metadata": {
    "dotnet_interactive": {
     "language": "fsharp"
    },
    "polyglot_notebook": {
     "kernelName": "fsharp"
    },
    "vscode": {
     "languageId": "polyglot-notebook"
    }
   },
   "outputs": [
    {
     "data": {
      "text/html": [
       "<div class=\"dni-plaintext\"><pre>26.34825870646766</pre></div><style>\r\n",
       ".dni-code-hint {\r\n",
       "    font-style: italic;\r\n",
       "    overflow: hidden;\r\n",
       "    white-space: nowrap;\r\n",
       "}\r\n",
       ".dni-treeview {\r\n",
       "    white-space: nowrap;\r\n",
       "}\r\n",
       ".dni-treeview td {\r\n",
       "    vertical-align: top;\r\n",
       "    text-align: start;\r\n",
       "}\r\n",
       "details.dni-treeview {\r\n",
       "    padding-left: 1em;\r\n",
       "}\r\n",
       "table td {\r\n",
       "    text-align: start;\r\n",
       "}\r\n",
       "table tr { \r\n",
       "    vertical-align: top; \r\n",
       "    margin: 0em 0px;\r\n",
       "}\r\n",
       "table tr td pre \r\n",
       "{ \r\n",
       "    vertical-align: top !important; \r\n",
       "    margin: 0em 0px !important;\r\n",
       "} \r\n",
       "table th {\r\n",
       "    text-align: start;\r\n",
       "}\r\n",
       "</style>"
      ]
     },
     "metadata": {},
     "output_type": "display_data"
    }
   ],
   "source": [
    "playerStatsTable\n",
    "|> List.map(fun x -> float x.Age)\n",
    "|> List.average\n"
   ]
  },
  {
   "cell_type": "markdown",
   "metadata": {
    "dotnet_interactive": {
     "language": "fsharp"
    },
    "polyglot_notebook": {
     "kernelName": "fsharp"
    }
   },
   "source": [
    "* Use `List.map` to transform `playerStatsTable` into a list of the players' `GoalsScored` and find the average `GoalsScored` (`List.average`).\n",
    "Hint: The variable `x.GoalsScored` needs to be transformed from `int` to `float` since `List.average` only works with `floats` or `decimals`.\n",
    "\n",
    "<div style=\"padding-left: 40px;\">\n",
    "<p> \n",
    "<span>\n",
    "<details>\n",
    "<summary><p style=\"display:inline\">answer</p></summary>\n",
    "\n",
    "```\n",
    "val it: float = 7.313432836\n",
    "```\n",
    "\n",
    "</details>\n",
    "</span>\n",
    "</p>\n",
    "</div>\n",
    "\n"
   ]
  },
  {
   "cell_type": "code",
   "execution_count": 43,
   "metadata": {
    "dotnet_interactive": {
     "language": "fsharp"
    },
    "polyglot_notebook": {
     "kernelName": "fsharp"
    },
    "vscode": {
     "languageId": "polyglot-notebook"
    }
   },
   "outputs": [
    {
     "data": {
      "text/html": [
       "<div class=\"dni-plaintext\"><pre>7.313432835820896</pre></div><style>\r\n",
       ".dni-code-hint {\r\n",
       "    font-style: italic;\r\n",
       "    overflow: hidden;\r\n",
       "    white-space: nowrap;\r\n",
       "}\r\n",
       ".dni-treeview {\r\n",
       "    white-space: nowrap;\r\n",
       "}\r\n",
       ".dni-treeview td {\r\n",
       "    vertical-align: top;\r\n",
       "    text-align: start;\r\n",
       "}\r\n",
       "details.dni-treeview {\r\n",
       "    padding-left: 1em;\r\n",
       "}\r\n",
       "table td {\r\n",
       "    text-align: start;\r\n",
       "}\r\n",
       "table tr { \r\n",
       "    vertical-align: top; \r\n",
       "    margin: 0em 0px;\r\n",
       "}\r\n",
       "table tr td pre \r\n",
       "{ \r\n",
       "    vertical-align: top !important; \r\n",
       "    margin: 0em 0px !important;\r\n",
       "} \r\n",
       "table th {\r\n",
       "    text-align: start;\r\n",
       "}\r\n",
       "</style>"
      ]
     },
     "metadata": {},
     "output_type": "display_data"
    }
   ],
   "source": [
    "// write your code here, see website for solution.\n",
    "playerStatsTable\n",
    "|> List.map(fun z -> float z.GoalsScored)\n",
    "|> List.average"
   ]
  },
  {
   "cell_type": "markdown",
   "metadata": {
    "dotnet_interactive": {
     "language": "fsharp"
    },
    "polyglot_notebook": {
     "kernelName": "fsharp"
    }
   },
   "source": [
    "### 8 List.averageBy\n",
    "\n",
    "We are using a dataset that has multiple fields per List element. If you want to get the average for particular fields it convenient to use `List.averageBy`.\n",
    "It takes a function and transforms each element using that function and afterward averages all the transformed elements. It is like an `List.map` and `List.average` combined into one function.\n",
    "\n",
    "Example: Find the average `Age` using `List.averageBy`.\n",
    "The `Age` needs to be transformed from `int` to `float` since `List.averageBy` only works with `floats` or `decimals`.\n",
    "\n"
   ]
  },
  {
   "cell_type": "code",
   "execution_count": 44,
   "metadata": {
    "dotnet_interactive": {
     "language": "fsharp"
    },
    "polyglot_notebook": {
     "kernelName": "fsharp"
    },
    "vscode": {
     "languageId": "polyglot-notebook"
    }
   },
   "outputs": [
    {
     "data": {
      "text/html": [
       "<div class=\"dni-plaintext\"><pre>26.34825870646766</pre></div><style>\r\n",
       ".dni-code-hint {\r\n",
       "    font-style: italic;\r\n",
       "    overflow: hidden;\r\n",
       "    white-space: nowrap;\r\n",
       "}\r\n",
       ".dni-treeview {\r\n",
       "    white-space: nowrap;\r\n",
       "}\r\n",
       ".dni-treeview td {\r\n",
       "    vertical-align: top;\r\n",
       "    text-align: start;\r\n",
       "}\r\n",
       "details.dni-treeview {\r\n",
       "    padding-left: 1em;\r\n",
       "}\r\n",
       "table td {\r\n",
       "    text-align: start;\r\n",
       "}\r\n",
       "table tr { \r\n",
       "    vertical-align: top; \r\n",
       "    margin: 0em 0px;\r\n",
       "}\r\n",
       "table tr td pre \r\n",
       "{ \r\n",
       "    vertical-align: top !important; \r\n",
       "    margin: 0em 0px !important;\r\n",
       "} \r\n",
       "table th {\r\n",
       "    text-align: start;\r\n",
       "}\r\n",
       "</style>"
      ]
     },
     "metadata": {},
     "output_type": "display_data"
    }
   ],
   "source": [
    "playerStatsTable\n",
    "|> List.averageBy(fun x -> float x.Age)\n"
   ]
  },
  {
   "cell_type": "markdown",
   "metadata": {
    "dotnet_interactive": {
     "language": "fsharp"
    },
    "polyglot_notebook": {
     "kernelName": "fsharp"
    }
   },
   "source": [
    "* Find the average `GoalsScored` using `List.averageBy`.\n",
    "Hint: The `GoalsScored` needs to be transformed from `int` to `float` since `List.averageBy` only works with `floats` or `decimals`.\n",
    "\n",
    "<div style=\"padding-left: 40px;\">\n",
    "<p> \n",
    "<span>\n",
    "<details>\n",
    "<summary><p style=\"display:inline\">answer</p></summary>\n",
    "\n",
    "```\n",
    "val it: float = 7.313432836\n",
    "```\n",
    "\n",
    "</details>\n",
    "</span>\n",
    "</p>\n",
    "</div>\n",
    "\n"
   ]
  },
  {
   "cell_type": "code",
   "execution_count": 45,
   "metadata": {
    "dotnet_interactive": {
     "language": "fsharp"
    },
    "polyglot_notebook": {
     "kernelName": "fsharp"
    },
    "vscode": {
     "languageId": "polyglot-notebook"
    }
   },
   "outputs": [
    {
     "data": {
      "text/html": [
       "<div class=\"dni-plaintext\"><pre>7.313432835820896</pre></div><style>\r\n",
       ".dni-code-hint {\r\n",
       "    font-style: italic;\r\n",
       "    overflow: hidden;\r\n",
       "    white-space: nowrap;\r\n",
       "}\r\n",
       ".dni-treeview {\r\n",
       "    white-space: nowrap;\r\n",
       "}\r\n",
       ".dni-treeview td {\r\n",
       "    vertical-align: top;\r\n",
       "    text-align: start;\r\n",
       "}\r\n",
       "details.dni-treeview {\r\n",
       "    padding-left: 1em;\r\n",
       "}\r\n",
       "table td {\r\n",
       "    text-align: start;\r\n",
       "}\r\n",
       "table tr { \r\n",
       "    vertical-align: top; \r\n",
       "    margin: 0em 0px;\r\n",
       "}\r\n",
       "table tr td pre \r\n",
       "{ \r\n",
       "    vertical-align: top !important; \r\n",
       "    margin: 0em 0px !important;\r\n",
       "} \r\n",
       "table th {\r\n",
       "    text-align: start;\r\n",
       "}\r\n",
       "</style>"
      ]
     },
     "metadata": {},
     "output_type": "display_data"
    }
   ],
   "source": [
    "// write your code here, see website for solution.\n",
    "playerStatsTable\n",
    "|> List.averageBy(fun x -> float x.GoalsScored)"
   ]
  },
  {
   "cell_type": "markdown",
   "metadata": {
    "dotnet_interactive": {
     "language": "fsharp"
    },
    "polyglot_notebook": {
     "kernelName": "fsharp"
    }
   },
   "source": [
    "### 9 Seq.stDev\n",
    "\n",
    "For `Seq.stDev` to work, we loaded the `FSharp.Stats nuget` (`#r \"nuget: FSharp.Stats\"`).\n",
    "This nuget contains the standard deviation function.\n",
    "Besides this we also opened the module `FSharp.Stats` (`open FSharp.Stats`).\n",
    "[FSharp.Stats documentation](https://fslab.org/FSharp.Stats/)\n",
    "\n",
    "Example: Use `List.map` to transform `playerStatsTable` by `GoalsScored` and find the standard deviation. (`Seq.stDev`).\n",
    "Note that for `Seq.stDev` to work the values need to be `floats` or `decimals`, so we need to transform the `GoalsScored` from `int` to `float`.\n",
    "\n"
   ]
  },
  {
   "cell_type": "code",
   "execution_count": 46,
   "metadata": {
    "dotnet_interactive": {
     "language": "fsharp"
    },
    "polyglot_notebook": {
     "kernelName": "fsharp"
    },
    "vscode": {
     "languageId": "polyglot-notebook"
    }
   },
   "outputs": [
    {
     "data": {
      "text/html": [
       "<div class=\"dni-plaintext\"><pre>6.736933178881647</pre></div><style>\r\n",
       ".dni-code-hint {\r\n",
       "    font-style: italic;\r\n",
       "    overflow: hidden;\r\n",
       "    white-space: nowrap;\r\n",
       "}\r\n",
       ".dni-treeview {\r\n",
       "    white-space: nowrap;\r\n",
       "}\r\n",
       ".dni-treeview td {\r\n",
       "    vertical-align: top;\r\n",
       "    text-align: start;\r\n",
       "}\r\n",
       "details.dni-treeview {\r\n",
       "    padding-left: 1em;\r\n",
       "}\r\n",
       "table td {\r\n",
       "    text-align: start;\r\n",
       "}\r\n",
       "table tr { \r\n",
       "    vertical-align: top; \r\n",
       "    margin: 0em 0px;\r\n",
       "}\r\n",
       "table tr td pre \r\n",
       "{ \r\n",
       "    vertical-align: top !important; \r\n",
       "    margin: 0em 0px !important;\r\n",
       "} \r\n",
       "table th {\r\n",
       "    text-align: start;\r\n",
       "}\r\n",
       "</style>"
      ]
     },
     "metadata": {},
     "output_type": "display_data"
    }
   ],
   "source": [
    "playerStatsTable\n",
    "|> List.map(fun x -> float x.GoalsScored)\n",
    "|> Seq.stDev\n"
   ]
  },
  {
   "cell_type": "markdown",
   "metadata": {
    "dotnet_interactive": {
     "language": "fsharp"
    },
    "polyglot_notebook": {
     "kernelName": "fsharp"
    }
   },
   "source": [
    "* Transform `playerStatsTable` into a list of the players' `Age`'s and find the standard deviation. (`Seq.stDev`).\n",
    "Hint: You need to transform `Age` values from `int` to `floats`.\n",
    "\n",
    "<div style=\"padding-left: 40px;\">\n",
    "<p> \n",
    "<span>\n",
    "<details>\n",
    "<summary><p style=\"display:inline\">answer</p></summary>\n",
    "\n",
    "```\n",
    "val it: float = 4.419062056\n",
    "```\n",
    "\n",
    "</details>\n",
    "</span>\n",
    "</p>\n",
    "</div>\n",
    "\n"
   ]
  },
  {
   "cell_type": "code",
   "execution_count": 47,
   "metadata": {
    "dotnet_interactive": {
     "language": "fsharp"
    },
    "polyglot_notebook": {
     "kernelName": "fsharp"
    },
    "vscode": {
     "languageId": "polyglot-notebook"
    }
   },
   "outputs": [
    {
     "data": {
      "text/html": [
       "<div class=\"dni-plaintext\"><pre>4.419062055768885</pre></div><style>\r\n",
       ".dni-code-hint {\r\n",
       "    font-style: italic;\r\n",
       "    overflow: hidden;\r\n",
       "    white-space: nowrap;\r\n",
       "}\r\n",
       ".dni-treeview {\r\n",
       "    white-space: nowrap;\r\n",
       "}\r\n",
       ".dni-treeview td {\r\n",
       "    vertical-align: top;\r\n",
       "    text-align: start;\r\n",
       "}\r\n",
       "details.dni-treeview {\r\n",
       "    padding-left: 1em;\r\n",
       "}\r\n",
       "table td {\r\n",
       "    text-align: start;\r\n",
       "}\r\n",
       "table tr { \r\n",
       "    vertical-align: top; \r\n",
       "    margin: 0em 0px;\r\n",
       "}\r\n",
       "table tr td pre \r\n",
       "{ \r\n",
       "    vertical-align: top !important; \r\n",
       "    margin: 0em 0px !important;\r\n",
       "} \r\n",
       "table th {\r\n",
       "    text-align: start;\r\n",
       "}\r\n",
       "</style>"
      ]
     },
     "metadata": {},
     "output_type": "display_data"
    }
   ],
   "source": [
    "// write your code here, see website for solution.\n",
    "playerStatsTable\n",
    "|> List.map(fun x -> float x.Age)\n",
    "|> Seq.stDev"
   ]
  },
  {
   "cell_type": "markdown",
   "metadata": {
    "dotnet_interactive": {
     "language": "fsharp"
    },
    "polyglot_notebook": {
     "kernelName": "fsharp"
    }
   },
   "source": [
    "### 10 Seq.pearsonOfPairs\n",
    "\n",
    "In order to perform correlations we have to load and open the namespace `FSharp.Stats`.\n",
    "Also, we `open FSharpe.Stats.Correlation` to allow a easier access to the correlation functions.\n",
    "\n",
    "It will be helpfull to check the [FSharp.Stats.Correlation Documentation](https://fslab.org/FSharp.Stats/reference/fsharp-stats-correlation-seq.html#pearson) before starting the exercises.\n",
    "\n",
    "Example: Test the correlation between `MatchesPlayed` and `GoalsScored` using `pearsonOfPairs`.\n",
    "\n",
    "`Seq.pearsonOfPairs` expects a list of tuples (x1 * x2), computing the correlation between x1 and x2.\n",
    "So we use `List.map` to get a list of tuples with (`MatchesPlayed`, `GoalsScored`).\n",
    "Then we only need to pipe (`|>`) to `Seq.pearsonOfPairs`.\n",
    "\n"
   ]
  },
  {
   "cell_type": "code",
   "execution_count": 48,
   "metadata": {
    "dotnet_interactive": {
     "language": "fsharp"
    },
    "polyglot_notebook": {
     "kernelName": "fsharp"
    },
    "vscode": {
     "languageId": "polyglot-notebook"
    }
   },
   "outputs": [
    {
     "data": {
      "text/html": [
       "<div class=\"dni-plaintext\"><pre>0.45388840191255614</pre></div><style>\r\n",
       ".dni-code-hint {\r\n",
       "    font-style: italic;\r\n",
       "    overflow: hidden;\r\n",
       "    white-space: nowrap;\r\n",
       "}\r\n",
       ".dni-treeview {\r\n",
       "    white-space: nowrap;\r\n",
       "}\r\n",
       ".dni-treeview td {\r\n",
       "    vertical-align: top;\r\n",
       "    text-align: start;\r\n",
       "}\r\n",
       "details.dni-treeview {\r\n",
       "    padding-left: 1em;\r\n",
       "}\r\n",
       "table td {\r\n",
       "    text-align: start;\r\n",
       "}\r\n",
       "table tr { \r\n",
       "    vertical-align: top; \r\n",
       "    margin: 0em 0px;\r\n",
       "}\r\n",
       "table tr td pre \r\n",
       "{ \r\n",
       "    vertical-align: top !important; \r\n",
       "    margin: 0em 0px !important;\r\n",
       "} \r\n",
       "table th {\r\n",
       "    text-align: start;\r\n",
       "}\r\n",
       "</style>"
      ]
     },
     "metadata": {},
     "output_type": "display_data"
    }
   ],
   "source": [
    "playerStatsTable\n",
    "|> List.map(fun x -> x.MatchesPlayed, x.GoalsScored)\n",
    "|> Seq.pearsonOfPairs\n"
   ]
  },
  {
   "cell_type": "markdown",
   "metadata": {
    "dotnet_interactive": {
     "language": "fsharp"
    },
    "polyglot_notebook": {
     "kernelName": "fsharp"
    }
   },
   "source": [
    "* Test the correlation between `MatchesPlayed` and `Age` using `pearsonOfPairs`.\n",
    "Hints:\n",
    "`Seq.pearsonOfPairs` expects a list of tuples (x1 * x2). Use `List.map` to get a list of tuples with (`MatchesPlayed`, `Age`).\n",
    "Then you only need to pipe (`|>`) to `Seq.pearsonOfPairs`.\n",
    "\n",
    "<div style=\"padding-left: 40px;\">\n",
    "<p> \n",
    "<span>\n",
    "<details>\n",
    "<summary><p style=\"display:inline\">answer</p></summary>\n",
    "\n",
    "```\n",
    "val it: float = -0.04457389706\n",
    "```\n",
    "\n",
    "</details>\n",
    "</span>\n",
    "</p>\n",
    "</div>\n",
    "\n"
   ]
  },
  {
   "cell_type": "code",
   "execution_count": 49,
   "metadata": {
    "dotnet_interactive": {
     "language": "fsharp"
    },
    "polyglot_notebook": {
     "kernelName": "fsharp"
    },
    "vscode": {
     "languageId": "polyglot-notebook"
    }
   },
   "outputs": [
    {
     "data": {
      "text/html": [
       "<div class=\"dni-plaintext\"><pre>-0.04457389705852019</pre></div><style>\r\n",
       ".dni-code-hint {\r\n",
       "    font-style: italic;\r\n",
       "    overflow: hidden;\r\n",
       "    white-space: nowrap;\r\n",
       "}\r\n",
       ".dni-treeview {\r\n",
       "    white-space: nowrap;\r\n",
       "}\r\n",
       ".dni-treeview td {\r\n",
       "    vertical-align: top;\r\n",
       "    text-align: start;\r\n",
       "}\r\n",
       "details.dni-treeview {\r\n",
       "    padding-left: 1em;\r\n",
       "}\r\n",
       "table td {\r\n",
       "    text-align: start;\r\n",
       "}\r\n",
       "table tr { \r\n",
       "    vertical-align: top; \r\n",
       "    margin: 0em 0px;\r\n",
       "}\r\n",
       "table tr td pre \r\n",
       "{ \r\n",
       "    vertical-align: top !important; \r\n",
       "    margin: 0em 0px !important;\r\n",
       "} \r\n",
       "table th {\r\n",
       "    text-align: start;\r\n",
       "}\r\n",
       "</style>"
      ]
     },
     "metadata": {},
     "output_type": "display_data"
    }
   ],
   "source": [
    "// write your code here, see website for solution.\n",
    "playerStatsTable\n",
    "|> List.map(fun x -> x.MatchesPlayed, x.Age )\n",
    "|> Seq.pearsonOfPairs"
   ]
  },
  {
   "cell_type": "markdown",
   "metadata": {
    "dotnet_interactive": {
     "language": "fsharp"
    },
    "polyglot_notebook": {
     "kernelName": "fsharp"
    }
   },
   "source": [
    "* Test the correlation between `GoalsScored` and `Age` using `pearsonOfPairs`.\n",
    "Hints:\n",
    "`Seq.pearsonOfPairs` expects a list of tuples (x1 * x2). Use `List.map` to get a list of tuples with (`GoalsScored`, `Age`).\n",
    "Then you only need to pipe (`|>`) to `Seq.pearsonOfPairs`.\n",
    "\n",
    "<div style=\"padding-left: 40px;\">\n",
    "<p> \n",
    "<span>\n",
    "<details>\n",
    "<summary><p style=\"display:inline\">answer</p></summary>\n",
    "\n",
    "```\n",
    "val it: float = 0.0498909076\n",
    "```\n",
    "\n",
    "</details>\n",
    "</span>\n",
    "</p>\n",
    "</div>\n",
    "\n"
   ]
  },
  {
   "cell_type": "code",
   "execution_count": 50,
   "metadata": {
    "dotnet_interactive": {
     "language": "fsharp"
    },
    "polyglot_notebook": {
     "kernelName": "fsharp"
    },
    "vscode": {
     "languageId": "polyglot-notebook"
    }
   },
   "outputs": [
    {
     "data": {
      "text/html": [
       "<div class=\"dni-plaintext\"><pre>0.0498909076018227</pre></div><style>\r\n",
       ".dni-code-hint {\r\n",
       "    font-style: italic;\r\n",
       "    overflow: hidden;\r\n",
       "    white-space: nowrap;\r\n",
       "}\r\n",
       ".dni-treeview {\r\n",
       "    white-space: nowrap;\r\n",
       "}\r\n",
       ".dni-treeview td {\r\n",
       "    vertical-align: top;\r\n",
       "    text-align: start;\r\n",
       "}\r\n",
       "details.dni-treeview {\r\n",
       "    padding-left: 1em;\r\n",
       "}\r\n",
       "table td {\r\n",
       "    text-align: start;\r\n",
       "}\r\n",
       "table tr { \r\n",
       "    vertical-align: top; \r\n",
       "    margin: 0em 0px;\r\n",
       "}\r\n",
       "table tr td pre \r\n",
       "{ \r\n",
       "    vertical-align: top !important; \r\n",
       "    margin: 0em 0px !important;\r\n",
       "} \r\n",
       "table th {\r\n",
       "    text-align: start;\r\n",
       "}\r\n",
       "</style>"
      ]
     },
     "metadata": {},
     "output_type": "display_data"
    }
   ],
   "source": [
    "// write your code here, see website for solution.\n",
    "playerStatsTable\n",
    "|> List.map(fun x -> x.GoalsScored, x.Age )\n",
    "|> Seq.pearsonOfPairs"
   ]
  },
  {
   "cell_type": "markdown",
   "metadata": {
    "dotnet_interactive": {
     "language": "fsharp"
    },
    "polyglot_notebook": {
     "kernelName": "fsharp"
    }
   },
   "source": [
    "## Further Statistics practice\n",
    "\n",
    "Now that you should feel confortable with `List.filter`, `List.groupBy`, `List.splitInto`\n",
    "and also some f# statistics functions, let's combine those concepts together.\n",
    "\n",
    "### 1 List.countBy, List.filter and List.averageBy\n",
    "\n",
    "Example: Find the average goals scored by portuguese players.\n",
    "\n",
    "In order to find the average goals for portuguese players we know that we need to use `List.filter`.\n",
    "But we need to know what is the string correspondent to portuguese players!\n",
    "Using `List.distinct` or `List.countBy` we can observe all the `Nation` strings, which allow us to see that portuguese Nation string is `\"pt POR\"`.\n",
    "\n"
   ]
  },
  {
   "cell_type": "code",
   "execution_count": 51,
   "metadata": {
    "dotnet_interactive": {
     "language": "fsharp"
    },
    "polyglot_notebook": {
     "kernelName": "fsharp"
    },
    "vscode": {
     "languageId": "polyglot-notebook"
    }
   },
   "outputs": [
    {
     "data": {
      "text/html": [
       "<table><thead><tr><th><i>index</i></th><th>Item1</th><th>Item2</th></tr></thead><tbody><tr><td>0</td><td>pl POL</td><td><div class=\"dni-plaintext\"><pre>3</pre></div></td></tr><tr><td>1</td><td>fr FRA</td><td><div class=\"dni-plaintext\"><pre>35</pre></div></td></tr><tr><td>2</td><td>it ITA</td><td><div class=\"dni-plaintext\"><pre>23</pre></div></td></tr><tr><td>3</td><td>cz CZE</td><td><div class=\"dni-plaintext\"><pre>3</pre></div></td></tr><tr><td>4</td><td>kr KOR</td><td><div class=\"dni-plaintext\"><pre>1</pre></div></td></tr><tr><td>5</td><td>eg EGY</td><td><div class=\"dni-plaintext\"><pre>1</pre></div></td></tr><tr><td>6</td><td>no NOR</td><td><div class=\"dni-plaintext\"><pre>2</pre></div></td></tr><tr><td>7</td><td>ar ARG</td><td><div class=\"dni-plaintext\"><pre>5</pre></div></td></tr><tr><td>8</td><td>es ESP</td><td><div class=\"dni-plaintext\"><pre>26</pre></div></td></tr><tr><td>9</td><td>pt POR</td><td><div class=\"dni-plaintext\"><pre>7</pre></div></td></tr><tr><td>10</td><td>br BRA</td><td><div class=\"dni-plaintext\"><pre>11</pre></div></td></tr><tr><td>11</td><td>eng ENG</td><td><div class=\"dni-plaintext\"><pre>15</pre></div></td></tr><tr><td>12</td><td>rs SRB</td><td><div class=\"dni-plaintext\"><pre>4</pre></div></td></tr><tr><td>13</td><td>sn SEN</td><td><div class=\"dni-plaintext\"><pre>1</pre></div></td></tr><tr><td>14</td><td>tr TUR</td><td><div class=\"dni-plaintext\"><pre>3</pre></div></td></tr><tr><td>15</td><td>dz ALG</td><td><div class=\"dni-plaintext\"><pre>2</pre></div></td></tr><tr><td>16</td><td>be BEL</td><td><div class=\"dni-plaintext\"><pre>3</pre></div></td></tr><tr><td>17</td><td>hr CRO</td><td><div class=\"dni-plaintext\"><pre>4</pre></div></td></tr><tr><td>18</td><td>de GER</td><td><div class=\"dni-plaintext\"><pre>19</pre></div></td></tr><tr><td>19</td><td>tn TUN</td><td><div class=\"dni-plaintext\"><pre>1</pre></div></td></tr><tr><td colspan=\"3\"><i>... (more)</i></td></tr></tbody></table><style>\r\n",
       ".dni-code-hint {\r\n",
       "    font-style: italic;\r\n",
       "    overflow: hidden;\r\n",
       "    white-space: nowrap;\r\n",
       "}\r\n",
       ".dni-treeview {\r\n",
       "    white-space: nowrap;\r\n",
       "}\r\n",
       ".dni-treeview td {\r\n",
       "    vertical-align: top;\r\n",
       "    text-align: start;\r\n",
       "}\r\n",
       "details.dni-treeview {\r\n",
       "    padding-left: 1em;\r\n",
       "}\r\n",
       "table td {\r\n",
       "    text-align: start;\r\n",
       "}\r\n",
       "table tr { \r\n",
       "    vertical-align: top; \r\n",
       "    margin: 0em 0px;\r\n",
       "}\r\n",
       "table tr td pre \r\n",
       "{ \r\n",
       "    vertical-align: top !important; \r\n",
       "    margin: 0em 0px !important;\r\n",
       "} \r\n",
       "table th {\r\n",
       "    text-align: start;\r\n",
       "}\r\n",
       "</style>"
      ]
     },
     "metadata": {},
     "output_type": "display_data"
    }
   ],
   "source": [
    "playerStatsTable\n",
    "|> List.countBy(fun x -> x.Nation)\n"
   ]
  },
  {
   "cell_type": "markdown",
   "metadata": {
    "dotnet_interactive": {
     "language": "fsharp"
    },
    "polyglot_notebook": {
     "kernelName": "fsharp"
    }
   },
   "source": [
    "Now that we know what is the Portuguese string we can filter `x.Nation = \"pt POR\"` in order to only get portuguese players' rows!\n",
    "Then we can easily pipe it (`|>`) to `List.averageBy (fun x -> float x.Age)` to get the average age of portuguese players.\n",
    "\n"
   ]
  },
  {
   "cell_type": "code",
   "execution_count": 52,
   "metadata": {
    "dotnet_interactive": {
     "language": "fsharp"
    },
    "polyglot_notebook": {
     "kernelName": "fsharp"
    },
    "vscode": {
     "languageId": "polyglot-notebook"
    }
   },
   "outputs": [
    {
     "data": {
      "text/html": [
       "<div class=\"dni-plaintext\"><pre>28</pre></div><style>\r\n",
       ".dni-code-hint {\r\n",
       "    font-style: italic;\r\n",
       "    overflow: hidden;\r\n",
       "    white-space: nowrap;\r\n",
       "}\r\n",
       ".dni-treeview {\r\n",
       "    white-space: nowrap;\r\n",
       "}\r\n",
       ".dni-treeview td {\r\n",
       "    vertical-align: top;\r\n",
       "    text-align: start;\r\n",
       "}\r\n",
       "details.dni-treeview {\r\n",
       "    padding-left: 1em;\r\n",
       "}\r\n",
       "table td {\r\n",
       "    text-align: start;\r\n",
       "}\r\n",
       "table tr { \r\n",
       "    vertical-align: top; \r\n",
       "    margin: 0em 0px;\r\n",
       "}\r\n",
       "table tr td pre \r\n",
       "{ \r\n",
       "    vertical-align: top !important; \r\n",
       "    margin: 0em 0px !important;\r\n",
       "} \r\n",
       "table th {\r\n",
       "    text-align: start;\r\n",
       "}\r\n",
       "</style>"
      ]
     },
     "metadata": {},
     "output_type": "display_data"
    }
   ],
   "source": [
    "playerStatsTable\n",
    "|> List.filter(fun x -> x.Nation = \"pt POR\")\n",
    "|> List.averageBy(fun x -> float x.Age)\n"
   ]
  },
  {
   "cell_type": "markdown",
   "metadata": {
    "dotnet_interactive": {
     "language": "fsharp"
    },
    "polyglot_notebook": {
     "kernelName": "fsharp"
    }
   },
   "source": [
    "* Find the average age for players playing on the Premier League  .\n",
    "Hint:\n",
    "You'll first need to use `List.filter` to get only players from the Premier League (`x.League = \"engPremier League\"`).\n",
    "Then use averageBy to compute the average by age, don't forget to use `float x.Age` to transform age values to float type.\n",
    "\n",
    "<div style=\"padding-left: 40px;\">\n",
    "<p> \n",
    "<span>\n",
    "<details>\n",
    "<summary><p style=\"display:inline\">answer</p></summary>\n",
    "\n",
    "```\n",
    "val it: float = 25.91428571\n",
    "```\n",
    "\n",
    "</details>\n",
    "</span>\n",
    "</p>\n",
    "</div>\n",
    "\n"
   ]
  },
  {
   "cell_type": "code",
   "execution_count": 53,
   "metadata": {
    "dotnet_interactive": {
     "language": "fsharp"
    },
    "polyglot_notebook": {
     "kernelName": "fsharp"
    },
    "vscode": {
     "languageId": "polyglot-notebook"
    }
   },
   "outputs": [
    {
     "data": {
      "text/html": [
       "<div class=\"dni-plaintext\"><pre>25.914285714285715</pre></div><style>\r\n",
       ".dni-code-hint {\r\n",
       "    font-style: italic;\r\n",
       "    overflow: hidden;\r\n",
       "    white-space: nowrap;\r\n",
       "}\r\n",
       ".dni-treeview {\r\n",
       "    white-space: nowrap;\r\n",
       "}\r\n",
       ".dni-treeview td {\r\n",
       "    vertical-align: top;\r\n",
       "    text-align: start;\r\n",
       "}\r\n",
       "details.dni-treeview {\r\n",
       "    padding-left: 1em;\r\n",
       "}\r\n",
       "table td {\r\n",
       "    text-align: start;\r\n",
       "}\r\n",
       "table tr { \r\n",
       "    vertical-align: top; \r\n",
       "    margin: 0em 0px;\r\n",
       "}\r\n",
       "table tr td pre \r\n",
       "{ \r\n",
       "    vertical-align: top !important; \r\n",
       "    margin: 0em 0px !important;\r\n",
       "} \r\n",
       "table th {\r\n",
       "    text-align: start;\r\n",
       "}\r\n",
       "</style>"
      ]
     },
     "metadata": {},
     "output_type": "display_data"
    }
   ],
   "source": [
    "// write your code here, see website for solution.\n",
    "playerStatsTable\n",
    "|> List.filter(fun x -> x.League = \"engPremier League\")\n",
    "|> List.averageBy(fun x -> float x.Age)\n"
   ]
  },
  {
   "cell_type": "markdown",
   "metadata": {
    "dotnet_interactive": {
     "language": "fsharp"
    },
    "polyglot_notebook": {
     "kernelName": "fsharp"
    }
   },
   "source": [
    "### 2. List.groupBy, List.map and transformations.\n",
    "\n",
    "Example: Group `playerStatsTable` by `Team` and compute the average number of `GoalsScored`.\n",
    "\n"
   ]
  },
  {
   "cell_type": "code",
   "execution_count": 54,
   "metadata": {
    "dotnet_interactive": {
     "language": "fsharp"
    },
    "polyglot_notebook": {
     "kernelName": "fsharp"
    },
    "vscode": {
     "languageId": "polyglot-notebook"
    }
   },
   "outputs": [
    {
     "data": {
      "text/html": [
       "<table><thead><tr><th><i>index</i></th><th>Team</th><th>AvgGoalsScored</th></tr></thead><tbody><tr><td>0</td><td>Bayern Munich</td><td><div class=\"dni-plaintext\"><pre>21.5</pre></div></td></tr><tr><td>1</td><td>Paris S-G</td><td><div class=\"dni-plaintext\"><pre>15.333333333333334</pre></div></td></tr><tr><td>2</td><td>Real Madrid</td><td><div class=\"dni-plaintext\"><pre>18</pre></div></td></tr><tr><td>3</td><td>Lazio</td><td><div class=\"dni-plaintext\"><pre>19</pre></div></td></tr><tr><td>4</td><td>Monaco</td><td><div class=\"dni-plaintext\"><pre>17</pre></div></td></tr></tbody></table><style>\r\n",
       ".dni-code-hint {\r\n",
       "    font-style: italic;\r\n",
       "    overflow: hidden;\r\n",
       "    white-space: nowrap;\r\n",
       "}\r\n",
       ".dni-treeview {\r\n",
       "    white-space: nowrap;\r\n",
       "}\r\n",
       ".dni-treeview td {\r\n",
       "    vertical-align: top;\r\n",
       "    text-align: start;\r\n",
       "}\r\n",
       "details.dni-treeview {\r\n",
       "    padding-left: 1em;\r\n",
       "}\r\n",
       "table td {\r\n",
       "    text-align: start;\r\n",
       "}\r\n",
       "table tr { \r\n",
       "    vertical-align: top; \r\n",
       "    margin: 0em 0px;\r\n",
       "}\r\n",
       "table tr td pre \r\n",
       "{ \r\n",
       "    vertical-align: top !important; \r\n",
       "    margin: 0em 0px !important;\r\n",
       "} \r\n",
       "table th {\r\n",
       "    text-align: start;\r\n",
       "}\r\n",
       "</style>"
      ]
     },
     "metadata": {},
     "output_type": "display_data"
    }
   ],
   "source": [
    "//example using record:\n",
    "type TeamAndAvgGls =\n",
    "    { Team : string\n",
    "      AvgGoalsScored : float }\n",
    "\n",
    "playerStatsTable\n",
    "|> List.groupBy(fun x -> x.Team)\n",
    "|> List.map(fun (team, playerStats) -> \n",
    "    { Team = team\n",
    "      AvgGoalsScored = playerStats |> List.averageBy(fun playerStats -> float playerStats.GoalsScored)})\n",
    "|> List.truncate 5 //just to observe the first 5 rows, not a part of the exercise.\n"
   ]
  },
  {
   "cell_type": "markdown",
   "metadata": {
    "dotnet_interactive": {
     "language": "fsharp"
    },
    "polyglot_notebook": {
     "kernelName": "fsharp"
    }
   },
   "source": [
    "or\n",
    "\n"
   ]
  },
  {
   "cell_type": "code",
   "execution_count": 55,
   "metadata": {
    "dotnet_interactive": {
     "language": "fsharp"
    },
    "polyglot_notebook": {
     "kernelName": "fsharp"
    },
    "vscode": {
     "languageId": "polyglot-notebook"
    }
   },
   "outputs": [
    {
     "data": {
      "text/html": [
       "<table><thead><tr><th><i>index</i></th><th>Item1</th><th>Item2</th></tr></thead><tbody><tr><td>0</td><td>Bayern Munich</td><td><div class=\"dni-plaintext\"><pre>21.5</pre></div></td></tr><tr><td>1</td><td>Paris S-G</td><td><div class=\"dni-plaintext\"><pre>15.333333333333334</pre></div></td></tr><tr><td>2</td><td>Real Madrid</td><td><div class=\"dni-plaintext\"><pre>18</pre></div></td></tr><tr><td>3</td><td>Lazio</td><td><div class=\"dni-plaintext\"><pre>19</pre></div></td></tr><tr><td>4</td><td>Monaco</td><td><div class=\"dni-plaintext\"><pre>17</pre></div></td></tr></tbody></table><style>\r\n",
       ".dni-code-hint {\r\n",
       "    font-style: italic;\r\n",
       "    overflow: hidden;\r\n",
       "    white-space: nowrap;\r\n",
       "}\r\n",
       ".dni-treeview {\r\n",
       "    white-space: nowrap;\r\n",
       "}\r\n",
       ".dni-treeview td {\r\n",
       "    vertical-align: top;\r\n",
       "    text-align: start;\r\n",
       "}\r\n",
       "details.dni-treeview {\r\n",
       "    padding-left: 1em;\r\n",
       "}\r\n",
       "table td {\r\n",
       "    text-align: start;\r\n",
       "}\r\n",
       "table tr { \r\n",
       "    vertical-align: top; \r\n",
       "    margin: 0em 0px;\r\n",
       "}\r\n",
       "table tr td pre \r\n",
       "{ \r\n",
       "    vertical-align: top !important; \r\n",
       "    margin: 0em 0px !important;\r\n",
       "} \r\n",
       "table th {\r\n",
       "    text-align: start;\r\n",
       "}\r\n",
       "</style>"
      ]
     },
     "metadata": {},
     "output_type": "display_data"
    }
   ],
   "source": [
    "//example using tuple:\n",
    "playerStatsTable\n",
    "|> List.groupBy(fun x -> x.Team)\n",
    "|> List.map(fun (team, playerStats) -> team, playerStats |> List.averageBy(fun playerStats -> float playerStats.GoalsScored))\n",
    "|> List.truncate 5 //just to observe the first 5 rows, not a part of the exercise.\n"
   ]
  },
  {
   "cell_type": "markdown",
   "metadata": {
    "dotnet_interactive": {
     "language": "fsharp"
    },
    "polyglot_notebook": {
     "kernelName": "fsharp"
    }
   },
   "source": [
    "* Group `playerStatsTable` by `League` and then compute the Average `Age` by group.\n",
    "Hint: Use `groupBy` to group by league (`League`).\n",
    "Then use `averageBy` to compute the average by age (`Age`) and pipe it\n",
    "(`|>`) to `List.map` to organize the data in a record or tuple with League (`League`) and Average Age.\n",
    "\n",
    "<div style=\"padding-left: 40px;\">\n",
    "<p> \n",
    "<span>\n",
    "<details>\n",
    "<summary><p style=\"display:inline\">answer</p></summary>\n",
    "\n",
    "```\n",
    "type LeagueAndAvgAge =\n",
    "  {\n",
    "    League: string\n",
    "    AverageAge: float\n",
    "  }\n",
    "val it: (string * float) list =\n",
    "  [(\"deBundesliga\", 27.02777778); (\"frLigue 1\", 26.02040816);\n",
    "   (\"esLa Liga\", 26.06666667); (\"itSerie A\", 26.64705882);\n",
    "   (\"engPremier League\", 25.91428571)]\n",
    "```\n",
    "\n",
    "</details>\n",
    "</span>\n",
    "</p>\n",
    "</div>\n",
    "\n"
   ]
  },
  {
   "cell_type": "code",
   "execution_count": 59,
   "metadata": {
    "dotnet_interactive": {
     "language": "fsharp"
    },
    "polyglot_notebook": {
     "kernelName": "fsharp"
    },
    "vscode": {
     "languageId": "polyglot-notebook"
    }
   },
   "outputs": [
    {
     "data": {
      "text/html": [
       "<table><thead><tr><th><i>index</i></th><th>Item1</th><th>Item2</th></tr></thead><tbody><tr><td>0</td><td>deBundesliga</td><td><div class=\"dni-plaintext\"><pre>27.02777777777778</pre></div></td></tr><tr><td>1</td><td>frLigue 1</td><td><div class=\"dni-plaintext\"><pre>26.020408163265305</pre></div></td></tr><tr><td>2</td><td>esLa Liga</td><td><div class=\"dni-plaintext\"><pre>26.066666666666666</pre></div></td></tr><tr><td>3</td><td>itSerie A</td><td><div class=\"dni-plaintext\"><pre>26.647058823529413</pre></div></td></tr><tr><td>4</td><td>engPremier League</td><td><div class=\"dni-plaintext\"><pre>25.914285714285715</pre></div></td></tr></tbody></table><style>\r\n",
       ".dni-code-hint {\r\n",
       "    font-style: italic;\r\n",
       "    overflow: hidden;\r\n",
       "    white-space: nowrap;\r\n",
       "}\r\n",
       ".dni-treeview {\r\n",
       "    white-space: nowrap;\r\n",
       "}\r\n",
       ".dni-treeview td {\r\n",
       "    vertical-align: top;\r\n",
       "    text-align: start;\r\n",
       "}\r\n",
       "details.dni-treeview {\r\n",
       "    padding-left: 1em;\r\n",
       "}\r\n",
       "table td {\r\n",
       "    text-align: start;\r\n",
       "}\r\n",
       "table tr { \r\n",
       "    vertical-align: top; \r\n",
       "    margin: 0em 0px;\r\n",
       "}\r\n",
       "table tr td pre \r\n",
       "{ \r\n",
       "    vertical-align: top !important; \r\n",
       "    margin: 0em 0px !important;\r\n",
       "} \r\n",
       "table th {\r\n",
       "    text-align: start;\r\n",
       "}\r\n",
       "</style>"
      ]
     },
     "metadata": {},
     "output_type": "display_data"
    }
   ],
   "source": [
    "// write your code here, see website for solution.\n",
    "\n",
    "playerStatsTable\n",
    "|> List.groupBy(fun z -> z.League)\n",
    "|> List.map(fun (League, playerStats) -> \n",
    "      League, playerStats |> List.averageBy(fun playerStats -> float playerStats.Age))\n"
   ]
  },
  {
   "cell_type": "markdown",
   "metadata": {
    "dotnet_interactive": {
     "language": "fsharp"
    },
    "polyglot_notebook": {
     "kernelName": "fsharp"
    }
   },
   "source": [
    "### 3 List.sortDescending, List.splitInto, List.map and Seq.stDev\n",
    "\n",
    "* From `playerStatsTable` sort the players' `Age` (descending), split the dataset into quartiles (4-quantiles) and compute the standard deviation for each quantile.\n",
    "Hint: You only need the `Age` field from the dataset, so you can use `map` straight away to get the `Age` List.\n",
    "Sort that List with `List.sortDescending`, and then split it into 4 parts using `List.splitInto`.\n",
    "Finally use `List.map` to iterate through each quantile and apply the function `Seq.stDev`.\n",
    "\n",
    "<div style=\"padding-left: 40px;\">\n",
    "<p> \n",
    "<span>\n",
    "<details>\n",
    "<summary><p style=\"display:inline\">answer</p></summary>\n",
    "\n",
    "```\n",
    "val it: float list = [2.30974067; 0.9258200998; 0.9278018789; 1.671001166]\n",
    "```\n",
    "\n",
    "</details>\n",
    "</span>\n",
    "</p>\n",
    "</div>\n",
    "\n"
   ]
  },
  {
   "cell_type": "code",
   "execution_count": 79,
   "metadata": {
    "dotnet_interactive": {
     "language": "fsharp"
    },
    "polyglot_notebook": {
     "kernelName": "fsharp"
    },
    "vscode": {
     "languageId": "polyglot-notebook"
    }
   },
   "outputs": [
    {
     "data": {
      "text/html": [
       "<table><thead><tr><th><i>index</i></th><th>value</th></tr></thead><tbody><tr><td>0</td><td><div class=\"dni-plaintext\"><pre>2.3097406695956773</pre></div></td></tr><tr><td>1</td><td><div class=\"dni-plaintext\"><pre>0.9258200997725503</pre></div></td></tr><tr><td>2</td><td><div class=\"dni-plaintext\"><pre>0.927801878921687</pre></div></td></tr><tr><td>3</td><td><div class=\"dni-plaintext\"><pre>1.671001166354823</pre></div></td></tr></tbody></table><style>\r\n",
       ".dni-code-hint {\r\n",
       "    font-style: italic;\r\n",
       "    overflow: hidden;\r\n",
       "    white-space: nowrap;\r\n",
       "}\r\n",
       ".dni-treeview {\r\n",
       "    white-space: nowrap;\r\n",
       "}\r\n",
       ".dni-treeview td {\r\n",
       "    vertical-align: top;\r\n",
       "    text-align: start;\r\n",
       "}\r\n",
       "details.dni-treeview {\r\n",
       "    padding-left: 1em;\r\n",
       "}\r\n",
       "table td {\r\n",
       "    text-align: start;\r\n",
       "}\r\n",
       "table tr { \r\n",
       "    vertical-align: top; \r\n",
       "    margin: 0em 0px;\r\n",
       "}\r\n",
       "table tr td pre \r\n",
       "{ \r\n",
       "    vertical-align: top !important; \r\n",
       "    margin: 0em 0px !important;\r\n",
       "} \r\n",
       "table th {\r\n",
       "    text-align: start;\r\n",
       "}\r\n",
       "</style>"
      ]
     },
     "metadata": {},
     "output_type": "display_data"
    }
   ],
   "source": [
    "// write your code here, see website for solution.\n",
    "playerStatsTable\n",
    "|> List.map(fun x ->float x.Age)\n",
    "|> List.sortDescending\n",
    "|> List.splitInto 4\n",
    "|> List.map(fun x -> x |> Seq.stDev)"
   ]
  },
  {
   "cell_type": "code",
   "execution_count": null,
   "metadata": {
    "dotnet_interactive": {
     "language": "fsharp"
    },
    "polyglot_notebook": {
     "kernelName": "fsharp"
    },
    "vscode": {
     "languageId": "polyglot-notebook"
    }
   },
   "outputs": [],
   "source": []
  }
 ],
 "metadata": {
  "kernelspec": {
   "display_name": ".NET (C#)",
   "language": "C#",
   "name": ".net-csharp"
  },
  "polyglot_notebook": {
   "kernelInfo": {
    "defaultKernelName": "csharp",
    "items": [
     {
      "aliases": [
       "c#",
       "C#"
      ],
      "languageName": "C#",
      "name": "csharp"
     },
     {
      "aliases": [],
      "name": ".NET"
     },
     {
      "aliases": [
       "f#",
       "F#"
      ],
      "languageName": "F#",
      "name": "fsharp"
     },
     {
      "aliases": [],
      "languageName": "HTML",
      "name": "html"
     },
     {
      "aliases": [],
      "languageName": "KQL",
      "name": "kql"
     },
     {
      "aliases": [],
      "languageName": "Mermaid",
      "name": "mermaid"
     },
     {
      "aliases": [
       "powershell"
      ],
      "languageName": "PowerShell",
      "name": "pwsh"
     },
     {
      "aliases": [],
      "languageName": "SQL",
      "name": "sql"
     },
     {
      "aliases": [],
      "name": "value"
     },
     {
      "aliases": [
       "frontend"
      ],
      "name": "vscode"
     }
    ]
   }
  }
 },
 "nbformat": 4,
 "nbformat_minor": 2
}
